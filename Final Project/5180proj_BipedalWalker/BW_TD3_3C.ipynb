{
 "cells": [
  {
   "cell_type": "code",
   "execution_count": 1,
   "metadata": {
    "ExecuteTime": {
     "end_time": "2021-12-06T07:59:40.783026Z",
     "start_time": "2021-12-06T07:59:40.747830Z"
    }
   },
   "outputs": [
    {
     "data": {
      "application/javascript": [
       "IPython.OutputArea.prototype._should_scroll = function(lines) {\n",
       "    return false;\n",
       "}\n"
      ],
      "text/plain": [
       "<IPython.core.display.Javascript object>"
      ]
     },
     "metadata": {},
     "output_type": "display_data"
    }
   ],
   "source": [
    "%%javascript\n",
    "IPython.OutputArea.prototype._should_scroll = function(lines) {\n",
    "    return false;\n",
    "}"
   ]
  },
  {
   "cell_type": "code",
   "execution_count": 2,
   "metadata": {
    "ExecuteTime": {
     "end_time": "2021-12-06T07:59:42.424210Z",
     "start_time": "2021-12-06T07:59:41.648886Z"
    }
   },
   "outputs": [
    {
     "name": "stdout",
     "output_type": "stream",
     "text": [
      "1.8.0\n",
      "True\n"
     ]
    }
   ],
   "source": [
    "import copy\n",
    "import math\n",
    "import os\n",
    "from collections import namedtuple\n",
    "\n",
    "import gym\n",
    "import ipywidgets as widgets\n",
    "import matplotlib.pyplot as plt\n",
    "import more_itertools as mitt\n",
    "\n",
    "import numpy as np\n",
    "import torch\n",
    "import torch.nn as nn\n",
    "import torch.nn.functional as F\n",
    "\n",
    "import tqdm\n",
    "from tqdm import trange\n",
    "import random\n",
    "import time\n",
    "from collections import deque\n",
    "import matplotlib.pyplot as plt\n",
    "\n",
    "plt.style.use('ggplot')\n",
    "plt.rcParams['figure.figsize'] = [12, 4]\n",
    "\n",
    "device = torch.device('cuda' if torch.cuda.is_available() else 'cpu')\n",
    "print(torch.__version__)\n",
    "print(torch.cuda.is_available())"
   ]
  },
  {
   "cell_type": "code",
   "execution_count": 3,
   "metadata": {
    "ExecuteTime": {
     "end_time": "2021-12-06T07:59:43.563938Z",
     "start_time": "2021-12-06T07:59:43.529104Z"
    }
   },
   "outputs": [],
   "source": [
    "env = gym.make('BipedalWalker-v3')\n",
    "env_button = {'BipedalWalker-v3': env}\n",
    "\n",
    "# Set seeds\n",
    "seed = 88\n",
    "env.seed(seed)\n",
    "torch.manual_seed(seed)\n",
    "np.random.seed(seed)"
   ]
  },
  {
   "cell_type": "code",
   "execution_count": 4,
   "metadata": {
    "ExecuteTime": {
     "end_time": "2021-12-06T07:59:44.425757Z",
     "start_time": "2021-12-06T07:59:44.404267Z"
    }
   },
   "outputs": [],
   "source": [
    "# Code based on: CS5180 Homework 6: Deep Q-Networks in Pytorch\n",
    "\n",
    "def render(env, policy=None):\n",
    "    \"\"\"Graphically render an episode using the given policy\n",
    "\n",
    "    :param env:  Gym environment\n",
    "    :param policy:  function which maps state to action.  If None, the random\n",
    "                    policy is used.\n",
    "    \"\"\"\n",
    "\n",
    "    if policy is None:\n",
    "\n",
    "        def policy(s):\n",
    "            return env.action_space.sample()\n",
    "\n",
    "    s = env.reset()\n",
    "    env.render()\n",
    "\n",
    "    while True:\n",
    "        a = policy(s)\n",
    "        s, _, done, _ = env.step(a)\n",
    "        env.render()\n",
    "\n",
    "        if done:\n",
    "            break\n",
    "            \n",
    "    env.close()"
   ]
  },
  {
   "cell_type": "code",
   "execution_count": 5,
   "metadata": {
    "ExecuteTime": {
     "end_time": "2021-12-06T07:59:45.276832Z",
     "start_time": "2021-12-06T07:59:45.240124Z"
    }
   },
   "outputs": [
    {
     "name": "stdout",
     "output_type": "stream",
     "text": [
      "Click a button to run a random policy:\n"
     ]
    },
    {
     "data": {
      "application/vnd.jupyter.widget-view+json": {
       "model_id": "8c89b67dbdce4f61a34cf31f634a1458",
       "version_major": 2,
       "version_minor": 0
      },
      "text/plain": [
       "HBox(children=(Button(description='BipedalWalker-v3', style=ButtonStyle()),))"
      ]
     },
     "metadata": {},
     "output_type": "display_data"
    }
   ],
   "source": [
    "# Code based on: CS5180 Homework 6: Deep Q-Networks in Pytorch\n",
    "\n",
    "def button_callback(button):\n",
    "    for b in buttons:\n",
    "        b.disabled = True\n",
    "\n",
    "    env = env_button[button.description]\n",
    "    render(env)\n",
    "    env.close()\n",
    "\n",
    "    for b in buttons:\n",
    "        b.disabled = False\n",
    "\n",
    "buttons = []\n",
    "for env_id in env_button.keys():\n",
    "    button = widgets.Button(description=env_id)\n",
    "    button.on_click(button_callback)\n",
    "    buttons.append(button)\n",
    "\n",
    "print('Click a button to run a random policy:')\n",
    "widgets.HBox(buttons)"
   ]
  },
  {
   "cell_type": "code",
   "execution_count": 6,
   "metadata": {
    "ExecuteTime": {
     "end_time": "2021-12-06T07:59:46.194135Z",
     "start_time": "2021-12-06T07:59:46.172361Z"
    }
   },
   "outputs": [],
   "source": [
    "# Code based on: https://github.com/sfujim/TD3/blob/master/OurDDPG.py\n",
    "\n",
    "class Actor(nn.Module):\n",
    "    def __init__(self, s_size, a_size, a_max):\n",
    "        super(Actor, self).__init__()\n",
    "\n",
    "        self.l1 = nn.Linear(s_size, 400)\n",
    "        self.l2 = nn.Linear(400, 300)\n",
    "        self.l3 = nn.Linear(300, a_size)\n",
    "\n",
    "        self.a_max = a_max\n",
    "\n",
    "    def forward(self, x):\n",
    "        x = F.relu(self.l1(x))\n",
    "        x = F.relu(self.l2(x))\n",
    "        x = self.a_max * torch.tanh(self.l3(x)) \n",
    "        \n",
    "        return x\n",
    "    \n",
    "class Critic(nn.Module):\n",
    "    def __init__(self, s_size, a_size):\n",
    "        super(Critic, self).__init__()\n",
    "\n",
    "        self.l1 = nn.Linear(s_size + a_size, 300)\n",
    "        self.l2 = nn.Linear(300, 300)\n",
    "        self.l3 = nn.Linear(300, 1)\n",
    "        \n",
    "        self.l4 = nn.Linear(s_size + a_size, 400)\n",
    "        self.l5 = nn.Linear(400, 300)\n",
    "        self.l6 = nn.Linear(300, 1)\n",
    "        \n",
    "        self.l7 = nn.Linear(s_size + a_size, 400)\n",
    "        self.l8 = nn.Linear(400, 400)\n",
    "        self.l9 = nn.Linear(400, 1)\n",
    "\n",
    "\n",
    "    def forward(self, x, u):\n",
    "        xu = torch.cat([x, u], 1)\n",
    "        \n",
    "        x1 = self.l3(F.relu(self.l2(F.relu(self.l1(xu)))))\n",
    "        x2 = self.l6(F.relu(self.l5(F.relu(self.l4(xu)))))\n",
    "        x3 = self.l9(F.relu(self.l8(F.relu(self.l7(xu)))))\n",
    "        \n",
    "        return x1, x2, x3"
   ]
  },
  {
   "cell_type": "code",
   "execution_count": 7,
   "metadata": {
    "ExecuteTime": {
     "end_time": "2021-12-06T08:00:11.113673Z",
     "start_time": "2021-12-06T08:00:11.091598Z"
    }
   },
   "outputs": [],
   "source": [
    "class ReplayMemory(object):\n",
    "    def __init__(self, s_size, a_size, max_size=int(1e6)):\n",
    "        self.max_size = max_size\n",
    "\n",
    "        self.s = torch.empty((max_size, s_size))\n",
    "        self.a = torch.empty((max_size, a_size))\n",
    "        self.n_s = torch.empty((max_size, s_size))\n",
    "        self.r = torch.empty((max_size, 1))\n",
    "        self.done = torch.empty((max_size, 1))\n",
    "        \n",
    "        self.idx = 0\n",
    "        self.size = 0\n",
    "\n",
    "    def add(self, s, a, n_s,  r, done):\n",
    "        \n",
    "        self.s[self.idx] = torch.as_tensor(s).to(device)\n",
    "        self.a[self.idx] = torch.as_tensor(a).to(device)\n",
    "        self.n_s[self.idx] = torch.as_tensor(n_s).to(device)\n",
    "        self.r[self.idx] = torch.as_tensor(r).to(device)\n",
    "        self.done[self.idx] = torch.as_tensor(1 - done).to(device)\n",
    "\n",
    "        self.idx = (self.idx + 1) % self.max_size\n",
    "        self.size = min(self.size + 1, self.max_size)\n",
    "\n",
    "    def sample(self, batch_size):\n",
    "        sample_idx = np.random.randint(0, self.size, size=batch_size)\n",
    "        \n",
    "        s = torch.as_tensor(self.s[sample_idx]).to(device)\n",
    "        a_cpu = torch.as_tensor(self.a[sample_idx])\n",
    "        n_s = torch.as_tensor(self.n_s[sample_idx]).to(device)\n",
    "        r = torch.as_tensor(self.r[sample_idx]).to(device)\n",
    "        done = torch.as_tensor(self.done[sample_idx]).to(device)\n",
    "        \n",
    "        return (s, a_cpu, n_s, r, done)"
   ]
  },
  {
   "cell_type": "code",
   "execution_count": 8,
   "metadata": {
    "ExecuteTime": {
     "end_time": "2021-12-06T08:00:22.229056Z",
     "start_time": "2021-12-06T08:00:22.202145Z"
    }
   },
   "outputs": [],
   "source": [
    "# Code based on: https://github.com/Rafael1s/Deep-Reinforcement-Learning-Algorithms/blob/master/BipedalWalker-TwinDelayed-DDPG%20(TD3)/TwinDelayed.py\n",
    "\n",
    "class DDPG(object): \n",
    "    def __init__(self, s_size, a_size, a_max):\n",
    "        self.actor = Actor(s_size, a_size, a_max).to(device)\n",
    "        self.actor_target = Actor(s_size, a_size, a_max).to(device)\n",
    "        self.actor_optimizer = torch.optim.Adam(self.actor.parameters())\n",
    "\n",
    "        self.critic = Critic(s_size, a_size).to(device)\n",
    "        self.critic_target = Critic(s_size, a_size).to(device)\n",
    "        self.critic_optimizer = torch.optim.Adam(self.critic.parameters())\n",
    "\n",
    "        self.a_max = a_max\n",
    "\n",
    "    def Action(self, s):\n",
    "        s= torch.FloatTensor(s.reshape(1, -1)).to(device)\n",
    "        return self.actor(s).cpu().data.numpy().flatten()\n",
    "\n",
    "    def train(self, memory, iterations, batch_size=100, discount=0.99, \\\n",
    "              tau=0.005, policy_noise=0.2, noise_clip=0.5, policy_freq=2):\n",
    "        \n",
    "        for it in range(iterations):\n",
    "\n",
    "            # Sample replay memory\n",
    "            s, a_cpu, n_s, r, done = memory.sample(batch_size)\n",
    "            a = torch.as_tensor(a_cpu).to(device)\n",
    "            \n",
    "            # Select action according to policy and add clipped noise \n",
    "            noise = torch.FloatTensor(a_cpu).data.normal_(0, policy_noise).to(device)\n",
    "            noise = noise.clamp(-noise_clip, noise_clip)\n",
    "            n_a = (self.actor_target(n_s) + noise).clamp(-self.a_max, self.a_max)\n",
    "\n",
    "            # Compute the target Q valuen_a\n",
    "            target_Q1, target_Q2, target_Q3 = self.critic_target(n_s, n_a)\n",
    "            \n",
    "            target_Q = torch.min(target_Q1, target_Q2)\n",
    "            target_Q = torch.min(target_Q, target_Q3)\n",
    "            \n",
    "            target_Q = r + (done * discount * target_Q).detach()\n",
    "\n",
    "            # Get current Q estimates\n",
    "            current_Q1, current_Q2, current_Q3 = self.critic(s, a)\n",
    "\n",
    "            # Compute critic loss\n",
    "            critic_loss = F.mse_loss(current_Q1, target_Q) + F.mse_loss(current_Q2, target_Q) + F.mse_loss(current_Q3, target_Q) \n",
    "\n",
    "            # Optimize the critic\n",
    "            self.critic_optimizer.zero_grad()\n",
    "            critic_loss.backward()\n",
    "            self.critic_optimizer.step()\n",
    "\n",
    "            # Delayed policy updates\n",
    "            if it % policy_freq == 0:\n",
    "\n",
    "                # Compute actor loss\n",
    "                actor_loss = -self.critic.forward(s, self.actor(s))[0].mean()\n",
    "                # Optimize the actor \n",
    "                self.actor_optimizer.zero_grad()\n",
    "                actor_loss.backward()\n",
    "                self.actor_optimizer.step()\n",
    "\n",
    "                # Update the frozen target models\n",
    "                for param, target_param in zip(self.critic.parameters(), self.critic_target.parameters()):\n",
    "                    target_param.data.copy_(tau * param.data + (1 - tau) * target_param.data)\n",
    "\n",
    "                for param, target_param in zip(self.actor.parameters(), self.actor_target.parameters()):\n",
    "                    target_param.data.copy_(tau * param.data + (1 - tau) * target_param.data)\n",
    "    "
   ]
  },
  {
   "cell_type": "code",
   "execution_count": 9,
   "metadata": {},
   "outputs": [],
   "source": [
    "# https://github.com/Rafael1s/Deep-Reinforcement-Learning-Algorithms/blob/master/BipedalWalker-TwinDelayed-DDPG%20(TD3)/BipedalWalker_1795ep_300-5sc_9h44m.ipynb\n",
    "\n",
    "def Train(episodes, save_every=10):\n",
    "    \n",
    "    time_start = time.time() \n",
    "    \n",
    "    T_start = 1e4\n",
    "    T_total = 0\n",
    "    steps = 0\n",
    "    \n",
    "    deq_scores = deque(maxlen=100)\n",
    "    scores = []\n",
    "    Avg_Scores = []    \n",
    "    \n",
    "    a_max = float(env.action_space.high[0])\n",
    "    a_size = env.action_space.shape[0] \n",
    "    s_size = env.observation_space.shape[0]\n",
    "\n",
    "    agent = DDPG(s_size, a_size, a_max)          \n",
    "    memory = ReplayMemory(s_size, a_size)   \n",
    "            \n",
    "    for i in trange(1, episodes + 1):\n",
    "        \n",
    "        timestep = 0\n",
    "        timestep_max = env._max_episode_steps\n",
    "        \n",
    "        R = 0\n",
    "        s = env.reset()\n",
    "        \n",
    "        while True:\n",
    "            if T_total < T_start:\n",
    "                a = env.action_space.sample()\n",
    "                \n",
    "            else:\n",
    "                a = agent.Action(np.array(s)) + np.random.normal(0, 0.1, size = a_size)\n",
    "                a = (a).clip(env.action_space.low, env.action_space.high)\n",
    "\n",
    "            n_s, r, done, _ = env.step(a)\n",
    "            \n",
    "            timestep += 1\n",
    "            T_total += 1\n",
    "            steps += 1\n",
    "            \n",
    "            R += r\n",
    "            done_ = done\n",
    "            \n",
    "            if timestep == timestep_max:\n",
    "                done_ = 0 \n",
    " \n",
    "            memory.add(s, a, n_s, r, done_)\n",
    "            s = n_s\n",
    "\n",
    "            if done:                                       \n",
    "                break                                     \n",
    "\n",
    "        deq_scores.append(R)\n",
    "        scores.append(R)\n",
    "\n",
    "        avg_score = np.mean(deq_scores)\n",
    "        Avg_Scores.append(avg_score)\n",
    "        \n",
    "        s = (int)(time.time() - time_start)\n",
    "        print('Ep. {}, Timestep {},  Ep.Timesteps {}, Score: {:.2f}, Avg.Score: {:.2f}, Time: {:02}:{:02}:{:02} '\\\n",
    "                .format(i, T_total, timestep, \\\n",
    "                        R, avg_score, s//3600, s%3600//60, s%60))     \n",
    "\n",
    "        agent.train(memory, timestep)\n",
    "        \n",
    "        if len(deq_scores) == 100 and np.mean(deq_scores) >= 300.5:\n",
    "            print('Environment solved with Average Score: ',  np.mean(deq_scores) )\n",
    "            break \n",
    "\n",
    "    return scores, Avg_Scores"
   ]
  },
  {
   "cell_type": "code",
   "execution_count": null,
   "metadata": {
    "tags": []
   },
   "outputs": [
    {
     "name": "stderr",
     "output_type": "stream",
     "text": [
      "  0%|          | 0/2000 [00:00<?, ?it/s]"
     ]
    },
    {
     "name": "stdout",
     "output_type": "stream",
     "text": [
      "Ep. 1, Timestep 1600,  Ep.Timesteps 1600, Score: -94.75, Avg.Score: -94.75, Time: 00:00:06 \n"
     ]
    },
    {
     "name": "stderr",
     "output_type": "stream",
     "text": [
      "  0%|          | 1/2000 [00:16<9:26:12, 16.99s/it]"
     ]
    },
    {
     "name": "stdout",
     "output_type": "stream",
     "text": [
      "Ep. 2, Timestep 1673,  Ep.Timesteps 73, Score: -119.39, Avg.Score: -107.07, Time: 00:00:20 \n"
     ]
    },
    {
     "name": "stderr",
     "output_type": "stream",
     "text": [
      "  0%|          | 2/2000 [00:17<4:08:51,  7.47s/it]"
     ]
    },
    {
     "name": "stdout",
     "output_type": "stream",
     "text": [
      "Ep. 3, Timestep 3273,  Ep.Timesteps 1600, Score: -97.04, Avg.Score: -103.73, Time: 00:00:24 \n"
     ]
    },
    {
     "name": "stderr",
     "output_type": "stream",
     "text": [
      "  0%|          | 3/2000 [00:33<6:18:49, 11.38s/it]"
     ]
    },
    {
     "name": "stdout",
     "output_type": "stream",
     "text": [
      "Ep. 4, Timestep 3348,  Ep.Timesteps 75, Score: -101.93, Avg.Score: -103.28, Time: 00:00:36 \n"
     ]
    },
    {
     "name": "stderr",
     "output_type": "stream",
     "text": [
      "  0%|          | 4/2000 [00:34<3:58:57,  7.18s/it]"
     ]
    },
    {
     "name": "stdout",
     "output_type": "stream",
     "text": [
      "Ep. 5, Timestep 3414,  Ep.Timesteps 66, Score: -106.97, Avg.Score: -104.02, Time: 00:00:37 \n"
     ]
    },
    {
     "name": "stderr",
     "output_type": "stream",
     "text": [
      "  0%|          | 5/2000 [00:35<2:39:58,  4.81s/it]"
     ]
    },
    {
     "name": "stdout",
     "output_type": "stream",
     "text": [
      "Ep. 6, Timestep 5014,  Ep.Timesteps 1600, Score: -75.55, Avg.Score: -99.27, Time: 00:00:40 \n"
     ]
    },
    {
     "name": "stderr",
     "output_type": "stream",
     "text": [
      "  0%|          | 6/2000 [00:49<4:30:08,  8.13s/it]"
     ]
    },
    {
     "name": "stdout",
     "output_type": "stream",
     "text": [
      "Ep. 7, Timestep 5093,  Ep.Timesteps 79, Score: -99.15, Avg.Score: -99.26, Time: 00:00:52 \n"
     ]
    },
    {
     "name": "stderr",
     "output_type": "stream",
     "text": [
      "  0%|          | 7/2000 [00:50<3:10:26,  5.73s/it]"
     ]
    },
    {
     "name": "stdout",
     "output_type": "stream",
     "text": [
      "Ep. 8, Timestep 5197,  Ep.Timesteps 104, Score: -102.83, Avg.Score: -99.70, Time: 00:00:53 \n"
     ]
    },
    {
     "name": "stderr",
     "output_type": "stream",
     "text": [
      "  0%|          | 8/2000 [00:51<2:20:29,  4.23s/it]"
     ]
    },
    {
     "name": "stdout",
     "output_type": "stream",
     "text": [
      "Ep. 9, Timestep 5244,  Ep.Timesteps 47, Score: -111.93, Avg.Score: -101.06, Time: 00:00:54 \n"
     ]
    },
    {
     "name": "stderr",
     "output_type": "stream",
     "text": [
      "  0%|          | 9/2000 [00:52<1:41:15,  3.05s/it]"
     ]
    },
    {
     "name": "stdout",
     "output_type": "stream",
     "text": [
      "Ep. 10, Timestep 5394,  Ep.Timesteps 150, Score: -122.45, Avg.Score: -103.20, Time: 00:00:55 \n"
     ]
    },
    {
     "name": "stderr",
     "output_type": "stream",
     "text": [
      "  0%|          | 10/2000 [00:53<1:24:21,  2.54s/it]"
     ]
    },
    {
     "name": "stdout",
     "output_type": "stream",
     "text": [
      "Ep. 11, Timestep 6994,  Ep.Timesteps 1600, Score: -83.76, Avg.Score: -101.43, Time: 00:00:59 \n"
     ]
    },
    {
     "name": "stderr",
     "output_type": "stream",
     "text": [
      "  1%|          | 11/2000 [01:09<3:45:08,  6.79s/it]"
     ]
    },
    {
     "name": "stdout",
     "output_type": "stream",
     "text": [
      "Ep. 12, Timestep 7065,  Ep.Timesteps 71, Score: -106.48, Avg.Score: -101.85, Time: 00:01:13 \n"
     ]
    },
    {
     "name": "stderr",
     "output_type": "stream",
     "text": [
      "  1%|          | 12/2000 [01:10<2:45:37,  5.00s/it]"
     ]
    },
    {
     "name": "stdout",
     "output_type": "stream",
     "text": [
      "Ep. 13, Timestep 7138,  Ep.Timesteps 73, Score: -116.24, Avg.Score: -102.96, Time: 00:01:13 \n"
     ]
    },
    {
     "name": "stderr",
     "output_type": "stream",
     "text": [
      "  1%|          | 13/2000 [01:11<2:02:41,  3.70s/it]"
     ]
    },
    {
     "name": "stdout",
     "output_type": "stream",
     "text": [
      "Ep. 14, Timestep 7203,  Ep.Timesteps 65, Score: -113.81, Avg.Score: -103.74, Time: 00:01:14 \n"
     ]
    },
    {
     "name": "stderr",
     "output_type": "stream",
     "text": [
      "  1%|          | 14/2000 [01:12<1:32:06,  2.78s/it]"
     ]
    },
    {
     "name": "stdout",
     "output_type": "stream",
     "text": [
      "Ep. 15, Timestep 8803,  Ep.Timesteps 1600, Score: -81.35, Avg.Score: -102.24, Time: 00:01:18 \n"
     ]
    },
    {
     "name": "stderr",
     "output_type": "stream",
     "text": [
      "  1%|          | 15/2000 [01:29<3:55:37,  7.12s/it]"
     ]
    },
    {
     "name": "stdout",
     "output_type": "stream",
     "text": [
      "Ep. 16, Timestep 10104,  Ep.Timesteps 1301, Score: -165.04, Avg.Score: -106.17, Time: 00:01:34 \n"
     ]
    },
    {
     "name": "stderr",
     "output_type": "stream",
     "text": [
      "  1%|          | 16/2000 [01:42<4:51:56,  8.83s/it]"
     ]
    },
    {
     "name": "stdout",
     "output_type": "stream",
     "text": [
      "Ep. 17, Timestep 10199,  Ep.Timesteps 95, Score: -104.13, Avg.Score: -106.05, Time: 00:01:45 \n"
     ]
    },
    {
     "name": "stderr",
     "output_type": "stream",
     "text": [
      "  1%|          | 17/2000 [01:43<3:36:34,  6.55s/it]"
     ]
    },
    {
     "name": "stdout",
     "output_type": "stream",
     "text": [
      "Ep. 18, Timestep 10372,  Ep.Timesteps 173, Score: -107.13, Avg.Score: -106.11, Time: 00:01:46 \n"
     ]
    },
    {
     "name": "stderr",
     "output_type": "stream",
     "text": [
      "  1%|          | 18/2000 [01:45<2:53:09,  5.24s/it]"
     ]
    },
    {
     "name": "stdout",
     "output_type": "stream",
     "text": [
      "Ep. 19, Timestep 10571,  Ep.Timesteps 199, Score: -140.59, Avg.Score: -107.92, Time: 00:01:49 \n"
     ]
    },
    {
     "name": "stderr",
     "output_type": "stream",
     "text": [
      "  1%|          | 19/2000 [01:48<2:26:30,  4.44s/it]"
     ]
    },
    {
     "name": "stdout",
     "output_type": "stream",
     "text": [
      "Ep. 20, Timestep 12171,  Ep.Timesteps 1600, Score: -158.76, Avg.Score: -110.46, Time: 00:01:55 \n"
     ]
    },
    {
     "name": "stderr",
     "output_type": "stream",
     "text": [
      "  1%|          | 20/2000 [02:06<4:44:03,  8.61s/it]"
     ]
    },
    {
     "name": "stdout",
     "output_type": "stream",
     "text": [
      "Ep. 21, Timestep 13771,  Ep.Timesteps 1600, Score: -101.11, Avg.Score: -110.02, Time: 00:02:13 \n"
     ]
    },
    {
     "name": "stderr",
     "output_type": "stream",
     "text": [
      "  1%|          | 21/2000 [02:24<6:17:24, 11.44s/it]"
     ]
    },
    {
     "name": "stdout",
     "output_type": "stream",
     "text": [
      "Ep. 22, Timestep 15371,  Ep.Timesteps 1600, Score: -83.83, Avg.Score: -108.83, Time: 00:02:32 \n"
     ]
    },
    {
     "name": "stderr",
     "output_type": "stream",
     "text": [
      "  1%|          | 22/2000 [02:42<7:25:28, 13.51s/it]"
     ]
    },
    {
     "name": "stdout",
     "output_type": "stream",
     "text": [
      "Ep. 23, Timestep 16971,  Ep.Timesteps 1600, Score: -49.85, Avg.Score: -106.26, Time: 00:02:50 \n"
     ]
    },
    {
     "name": "stderr",
     "output_type": "stream",
     "text": [
      "  1%|          | 23/2000 [03:00<8:03:34, 14.68s/it]"
     ]
    },
    {
     "name": "stdout",
     "output_type": "stream",
     "text": [
      "Ep. 24, Timestep 18571,  Ep.Timesteps 1600, Score: -104.14, Avg.Score: -106.18, Time: 00:03:07 \n"
     ]
    },
    {
     "name": "stderr",
     "output_type": "stream",
     "text": [
      "  1%|          | 24/2000 [03:17<8:26:05, 15.37s/it]"
     ]
    },
    {
     "name": "stdout",
     "output_type": "stream",
     "text": [
      "Ep. 25, Timestep 18632,  Ep.Timesteps 61, Score: -109.70, Avg.Score: -106.32, Time: 00:03:20 \n"
     ]
    },
    {
     "name": "stderr",
     "output_type": "stream",
     "text": [
      "  1%|▏         | 25/2000 [03:17<6:01:18, 10.98s/it]"
     ]
    },
    {
     "name": "stdout",
     "output_type": "stream",
     "text": [
      "Ep. 26, Timestep 19801,  Ep.Timesteps 1169, Score: -228.30, Avg.Score: -111.01, Time: 00:03:24 \n"
     ]
    },
    {
     "name": "stderr",
     "output_type": "stream",
     "text": [
      "  1%|▏         | 26/2000 [03:31<6:22:11, 11.62s/it]"
     ]
    },
    {
     "name": "stdout",
     "output_type": "stream",
     "text": [
      "Ep. 27, Timestep 21401,  Ep.Timesteps 1600, Score: -165.15, Avg.Score: -113.01, Time: 00:03:38 \n"
     ]
    },
    {
     "name": "stderr",
     "output_type": "stream",
     "text": [
      "  1%|▏         | 27/2000 [03:47<7:08:39, 13.04s/it]"
     ]
    },
    {
     "name": "stdout",
     "output_type": "stream",
     "text": [
      "Ep. 28, Timestep 21466,  Ep.Timesteps 65, Score: -120.03, Avg.Score: -113.26, Time: 00:03:50 \n"
     ]
    },
    {
     "name": "stderr",
     "output_type": "stream",
     "text": [
      "  1%|▏         | 28/2000 [03:48<5:07:08,  9.34s/it]"
     ]
    },
    {
     "name": "stdout",
     "output_type": "stream",
     "text": [
      "Ep. 29, Timestep 23066,  Ep.Timesteps 1600, Score: -91.88, Avg.Score: -112.53, Time: 00:03:56 \n"
     ]
    },
    {
     "name": "stderr",
     "output_type": "stream",
     "text": [
      "  1%|▏         | 29/2000 [04:07<6:43:43, 12.29s/it]"
     ]
    },
    {
     "name": "stdout",
     "output_type": "stream",
     "text": [
      "Ep. 30, Timestep 23156,  Ep.Timesteps 90, Score: -125.97, Avg.Score: -112.97, Time: 00:04:10 \n"
     ]
    },
    {
     "name": "stderr",
     "output_type": "stream",
     "text": [
      "  2%|▏         | 30/2000 [04:08<4:51:37,  8.88s/it]"
     ]
    },
    {
     "name": "stdout",
     "output_type": "stream",
     "text": [
      "Ep. 31, Timestep 23252,  Ep.Timesteps 96, Score: -92.62, Avg.Score: -112.32, Time: 00:04:11 \n"
     ]
    },
    {
     "name": "stderr",
     "output_type": "stream",
     "text": [
      "  2%|▏         | 31/2000 [04:09<3:35:25,  6.56s/it]"
     ]
    },
    {
     "name": "stdout",
     "output_type": "stream",
     "text": [
      "Ep. 32, Timestep 23562,  Ep.Timesteps 310, Score: -121.24, Avg.Score: -112.60, Time: 00:04:13 \n"
     ]
    },
    {
     "name": "stderr",
     "output_type": "stream",
     "text": [
      "  2%|▏         | 32/2000 [04:13<3:09:02,  5.76s/it]"
     ]
    },
    {
     "name": "stdout",
     "output_type": "stream",
     "text": [
      "Ep. 33, Timestep 25162,  Ep.Timesteps 1600, Score: -102.39, Avg.Score: -112.29, Time: 00:04:20 \n"
     ]
    },
    {
     "name": "stderr",
     "output_type": "stream",
     "text": [
      "  2%|▏         | 33/2000 [04:32<5:23:11,  9.86s/it]"
     ]
    },
    {
     "name": "stdout",
     "output_type": "stream",
     "text": [
      "Ep. 34, Timestep 25262,  Ep.Timesteps 100, Score: -120.98, Avg.Score: -112.54, Time: 00:04:35 \n"
     ]
    },
    {
     "name": "stderr",
     "output_type": "stream",
     "text": [
      "  2%|▏         | 34/2000 [04:33<3:57:33,  7.25s/it]"
     ]
    },
    {
     "name": "stdout",
     "output_type": "stream",
     "text": [
      "Ep. 35, Timestep 25315,  Ep.Timesteps 53, Score: -102.22, Avg.Score: -112.25, Time: 00:04:36 \n"
     ]
    },
    {
     "name": "stderr",
     "output_type": "stream",
     "text": [
      "  2%|▏         | 35/2000 [04:34<2:52:48,  5.28s/it]"
     ]
    },
    {
     "name": "stdout",
     "output_type": "stream",
     "text": [
      "Ep. 36, Timestep 25433,  Ep.Timesteps 118, Score: -120.73, Avg.Score: -112.48, Time: 00:04:37 \n"
     ]
    },
    {
     "name": "stderr",
     "output_type": "stream",
     "text": [
      "  2%|▏         | 36/2000 [04:36<2:15:31,  4.14s/it]"
     ]
    },
    {
     "name": "stdout",
     "output_type": "stream",
     "text": [
      "Ep. 37, Timestep 25527,  Ep.Timesteps 94, Score: -98.02, Avg.Score: -112.09, Time: 00:04:39 \n"
     ]
    },
    {
     "name": "stderr",
     "output_type": "stream",
     "text": [
      "  2%|▏         | 37/2000 [04:37<1:44:39,  3.20s/it]"
     ]
    },
    {
     "name": "stdout",
     "output_type": "stream",
     "text": [
      "Ep. 38, Timestep 25614,  Ep.Timesteps 87, Score: -106.72, Avg.Score: -111.95, Time: 00:04:40 \n"
     ]
    },
    {
     "name": "stderr",
     "output_type": "stream",
     "text": [
      "  2%|▏         | 38/2000 [04:37<1:22:25,  2.52s/it]"
     ]
    },
    {
     "name": "stdout",
     "output_type": "stream",
     "text": [
      "Ep. 39, Timestep 25733,  Ep.Timesteps 119, Score: -103.26, Avg.Score: -111.73, Time: 00:04:41 \n"
     ]
    },
    {
     "name": "stderr",
     "output_type": "stream",
     "text": [
      "  2%|▏         | 39/2000 [04:39<1:10:35,  2.16s/it]"
     ]
    },
    {
     "name": "stdout",
     "output_type": "stream",
     "text": [
      "Ep. 40, Timestep 27333,  Ep.Timesteps 1600, Score: -110.23, Avg.Score: -111.69, Time: 00:04:46 \n"
     ]
    },
    {
     "name": "stderr",
     "output_type": "stream",
     "text": [
      "  2%|▏         | 40/2000 [04:55<3:26:59,  6.34s/it]"
     ]
    },
    {
     "name": "stdout",
     "output_type": "stream",
     "text": [
      "Ep. 41, Timestep 28933,  Ep.Timesteps 1600, Score: -131.33, Avg.Score: -112.17, Time: 00:05:02 \n"
     ]
    },
    {
     "name": "stderr",
     "output_type": "stream",
     "text": [
      "  2%|▏         | 41/2000 [05:13<5:19:21,  9.78s/it]"
     ]
    },
    {
     "name": "stdout",
     "output_type": "stream",
     "text": [
      "Ep. 42, Timestep 29414,  Ep.Timesteps 481, Score: -118.72, Avg.Score: -112.33, Time: 00:05:17 \n"
     ]
    },
    {
     "name": "stderr",
     "output_type": "stream",
     "text": [
      "  2%|▏         | 42/2000 [05:17<4:29:43,  8.27s/it]"
     ]
    },
    {
     "name": "stdout",
     "output_type": "stream",
     "text": [
      "Ep. 43, Timestep 29993,  Ep.Timesteps 579, Score: -62.94, Avg.Score: -111.18, Time: 00:05:22 \n"
     ]
    },
    {
     "name": "stderr",
     "output_type": "stream",
     "text": [
      "  2%|▏         | 43/2000 [05:24<4:14:24,  7.80s/it]"
     ]
    },
    {
     "name": "stdout",
     "output_type": "stream",
     "text": [
      "Ep. 44, Timestep 31593,  Ep.Timesteps 1600, Score: -67.44, Avg.Score: -110.18, Time: 00:05:32 \n"
     ]
    },
    {
     "name": "stderr",
     "output_type": "stream",
     "text": [
      "  2%|▏         | 44/2000 [05:42<5:48:53, 10.70s/it]"
     ]
    },
    {
     "name": "stdout",
     "output_type": "stream",
     "text": [
      "Ep. 45, Timestep 31677,  Ep.Timesteps 84, Score: -98.11, Avg.Score: -109.92, Time: 00:05:45 \n"
     ]
    },
    {
     "name": "stderr",
     "output_type": "stream",
     "text": [
      "  2%|▏         | 45/2000 [05:43<4:14:09,  7.80s/it]"
     ]
    },
    {
     "name": "stdout",
     "output_type": "stream",
     "text": [
      "Ep. 46, Timestep 31733,  Ep.Timesteps 56, Score: -116.37, Avg.Score: -110.06, Time: 00:05:46 \n"
     ]
    },
    {
     "name": "stderr",
     "output_type": "stream",
     "text": [
      "  2%|▏         | 46/2000 [05:43<3:03:28,  5.63s/it]"
     ]
    },
    {
     "name": "stdout",
     "output_type": "stream",
     "text": [
      "Ep. 47, Timestep 31795,  Ep.Timesteps 62, Score: -100.88, Avg.Score: -109.86, Time: 00:05:46 \n"
     ]
    },
    {
     "name": "stderr",
     "output_type": "stream",
     "text": [
      "  2%|▏         | 47/2000 [05:44<2:14:26,  4.13s/it]"
     ]
    },
    {
     "name": "stdout",
     "output_type": "stream",
     "text": [
      "Ep. 48, Timestep 31893,  Ep.Timesteps 98, Score: -90.46, Avg.Score: -109.46, Time: 00:05:47 \n"
     ]
    },
    {
     "name": "stderr",
     "output_type": "stream",
     "text": [
      "  2%|▏         | 48/2000 [05:45<1:44:02,  3.20s/it]"
     ]
    },
    {
     "name": "stdout",
     "output_type": "stream",
     "text": [
      "Ep. 49, Timestep 31981,  Ep.Timesteps 88, Score: -93.20, Avg.Score: -109.12, Time: 00:05:48 \n"
     ]
    },
    {
     "name": "stderr",
     "output_type": "stream",
     "text": [
      "  2%|▏         | 49/2000 [05:46<1:22:31,  2.54s/it]"
     ]
    },
    {
     "name": "stdout",
     "output_type": "stream",
     "text": [
      "Ep. 50, Timestep 32031,  Ep.Timesteps 50, Score: -103.55, Avg.Score: -109.01, Time: 00:05:49 \n"
     ]
    },
    {
     "name": "stderr",
     "output_type": "stream",
     "text": [
      "  2%|▎         | 50/2000 [05:46<1:03:58,  1.97s/it]"
     ]
    },
    {
     "name": "stdout",
     "output_type": "stream",
     "text": [
      "Ep. 51, Timestep 32115,  Ep.Timesteps 84, Score: -93.43, Avg.Score: -108.71, Time: 00:05:50 \n"
     ]
    },
    {
     "name": "stderr",
     "output_type": "stream",
     "text": [
      "  3%|▎         | 51/2000 [05:48<55:09,  1.70s/it]  "
     ]
    },
    {
     "name": "stdout",
     "output_type": "stream",
     "text": [
      "Ep. 52, Timestep 32183,  Ep.Timesteps 68, Score: -101.28, Avg.Score: -108.56, Time: 00:05:51 \n"
     ]
    },
    {
     "name": "stderr",
     "output_type": "stream",
     "text": [
      "  3%|▎         | 52/2000 [05:48<46:16,  1.43s/it]"
     ]
    },
    {
     "name": "stdout",
     "output_type": "stream",
     "text": [
      "Ep. 53, Timestep 32260,  Ep.Timesteps 77, Score: -97.05, Avg.Score: -108.35, Time: 00:05:52 \n"
     ]
    },
    {
     "name": "stderr",
     "output_type": "stream",
     "text": [
      "  3%|▎         | 53/2000 [05:49<42:04,  1.30s/it]"
     ]
    },
    {
     "name": "stdout",
     "output_type": "stream",
     "text": [
      "Ep. 54, Timestep 32361,  Ep.Timesteps 101, Score: -95.79, Avg.Score: -108.12, Time: 00:05:53 \n"
     ]
    },
    {
     "name": "stderr",
     "output_type": "stream",
     "text": [
      "  3%|▎         | 54/2000 [05:51<41:46,  1.29s/it]"
     ]
    },
    {
     "name": "stdout",
     "output_type": "stream",
     "text": [
      "Ep. 55, Timestep 32456,  Ep.Timesteps 95, Score: -101.65, Avg.Score: -108.00, Time: 00:05:54 \n"
     ]
    },
    {
     "name": "stderr",
     "output_type": "stream",
     "text": [
      "  3%|▎         | 55/2000 [05:52<39:23,  1.22s/it]"
     ]
    },
    {
     "name": "stdout",
     "output_type": "stream",
     "text": [
      "Ep. 56, Timestep 32663,  Ep.Timesteps 207, Score: -106.84, Avg.Score: -107.98, Time: 00:05:55 \n"
     ]
    },
    {
     "name": "stderr",
     "output_type": "stream",
     "text": [
      "  3%|▎         | 56/2000 [05:54<48:33,  1.50s/it]"
     ]
    },
    {
     "name": "stdout",
     "output_type": "stream",
     "text": [
      "Ep. 57, Timestep 32846,  Ep.Timesteps 183, Score: -106.15, Avg.Score: -107.94, Time: 00:05:57 \n"
     ]
    },
    {
     "name": "stderr",
     "output_type": "stream",
     "text": [
      "  3%|▎         | 57/2000 [05:56<53:06,  1.64s/it]"
     ]
    },
    {
     "name": "stdout",
     "output_type": "stream",
     "text": [
      "Ep. 58, Timestep 34446,  Ep.Timesteps 1600, Score: -24.43, Avg.Score: -106.51, Time: 00:06:03 \n"
     ]
    },
    {
     "name": "stderr",
     "output_type": "stream",
     "text": [
      "  3%|▎         | 58/2000 [06:13<3:29:09,  6.46s/it]"
     ]
    },
    {
     "name": "stdout",
     "output_type": "stream",
     "text": [
      "Ep. 59, Timestep 34489,  Ep.Timesteps 43, Score: -106.52, Avg.Score: -106.51, Time: 00:06:17 \n"
     ]
    },
    {
     "name": "stderr",
     "output_type": "stream",
     "text": [
      "  3%|▎         | 59/2000 [06:14<2:30:46,  4.66s/it]"
     ]
    },
    {
     "name": "stdout",
     "output_type": "stream",
     "text": [
      "Ep. 60, Timestep 34533,  Ep.Timesteps 44, Score: -105.17, Avg.Score: -106.48, Time: 00:06:17 \n"
     ]
    },
    {
     "name": "stderr",
     "output_type": "stream",
     "text": [
      "  3%|▎         | 60/2000 [06:14<1:50:26,  3.42s/it]"
     ]
    },
    {
     "name": "stdout",
     "output_type": "stream",
     "text": [
      "Ep. 61, Timestep 34597,  Ep.Timesteps 64, Score: -108.77, Avg.Score: -106.52, Time: 00:06:18 \n"
     ]
    },
    {
     "name": "stderr",
     "output_type": "stream",
     "text": [
      "  3%|▎         | 61/2000 [06:15<1:24:57,  2.63s/it]"
     ]
    },
    {
     "name": "stdout",
     "output_type": "stream",
     "text": [
      "Ep. 62, Timestep 34674,  Ep.Timesteps 77, Score: -109.09, Avg.Score: -106.56, Time: 00:06:19 \n"
     ]
    },
    {
     "name": "stderr",
     "output_type": "stream",
     "text": [
      "  3%|▎         | 62/2000 [06:16<1:08:22,  2.12s/it]"
     ]
    },
    {
     "name": "stdout",
     "output_type": "stream",
     "text": [
      "Ep. 63, Timestep 34744,  Ep.Timesteps 70, Score: -120.68, Avg.Score: -106.79, Time: 00:06:19 \n"
     ]
    },
    {
     "name": "stderr",
     "output_type": "stream",
     "text": [
      "  3%|▎         | 63/2000 [06:17<55:17,  1.71s/it]  "
     ]
    },
    {
     "name": "stdout",
     "output_type": "stream",
     "text": [
      "Ep. 64, Timestep 34804,  Ep.Timesteps 60, Score: -117.05, Avg.Score: -106.95, Time: 00:06:20 \n"
     ]
    },
    {
     "name": "stderr",
     "output_type": "stream",
     "text": [
      "  3%|▎         | 64/2000 [06:18<45:07,  1.40s/it]"
     ]
    },
    {
     "name": "stdout",
     "output_type": "stream",
     "text": [
      "Ep. 65, Timestep 34875,  Ep.Timesteps 71, Score: -124.34, Avg.Score: -107.21, Time: 00:06:21 \n"
     ]
    },
    {
     "name": "stderr",
     "output_type": "stream",
     "text": [
      "  3%|▎         | 65/2000 [06:18<39:09,  1.21s/it]"
     ]
    },
    {
     "name": "stdout",
     "output_type": "stream",
     "text": [
      "Ep. 66, Timestep 34926,  Ep.Timesteps 51, Score: -111.32, Avg.Score: -107.28, Time: 00:06:22 \n"
     ]
    },
    {
     "name": "stderr",
     "output_type": "stream",
     "text": [
      "  3%|▎         | 66/2000 [06:19<33:30,  1.04s/it]"
     ]
    },
    {
     "name": "stdout",
     "output_type": "stream",
     "text": [
      "Ep. 67, Timestep 34974,  Ep.Timesteps 48, Score: -107.64, Avg.Score: -107.28, Time: 00:06:22 \n"
     ]
    },
    {
     "name": "stderr",
     "output_type": "stream",
     "text": [
      "  3%|▎         | 67/2000 [06:20<29:27,  1.09it/s]"
     ]
    },
    {
     "name": "stdout",
     "output_type": "stream",
     "text": [
      "Ep. 68, Timestep 35049,  Ep.Timesteps 75, Score: -109.23, Avg.Score: -107.31, Time: 00:06:23 \n"
     ]
    },
    {
     "name": "stderr",
     "output_type": "stream",
     "text": [
      "  3%|▎         | 68/2000 [06:21<30:09,  1.07it/s]"
     ]
    },
    {
     "name": "stdout",
     "output_type": "stream",
     "text": [
      "Ep. 69, Timestep 36649,  Ep.Timesteps 1600, Score: -83.33, Avg.Score: -106.96, Time: 00:06:28 \n"
     ]
    },
    {
     "name": "stderr",
     "output_type": "stream",
     "text": [
      "  3%|▎         | 69/2000 [06:38<3:13:13,  6.00s/it]"
     ]
    },
    {
     "name": "stdout",
     "output_type": "stream",
     "text": [
      "Ep. 70, Timestep 38249,  Ep.Timesteps 1600, Score: -89.98, Avg.Score: -106.72, Time: 00:06:46 \n"
     ]
    },
    {
     "name": "stderr",
     "output_type": "stream",
     "text": [
      "  4%|▎         | 70/2000 [06:57<5:18:44,  9.91s/it]"
     ]
    },
    {
     "name": "stdout",
     "output_type": "stream",
     "text": [
      "Ep. 71, Timestep 39849,  Ep.Timesteps 1600, Score: -77.36, Avg.Score: -106.31, Time: 00:07:05 \n"
     ]
    },
    {
     "name": "stderr",
     "output_type": "stream",
     "text": [
      "  4%|▎         | 71/2000 [07:15<6:27:52, 12.06s/it]"
     ]
    },
    {
     "name": "stdout",
     "output_type": "stream",
     "text": [
      "Ep. 72, Timestep 41449,  Ep.Timesteps 1600, Score: -69.07, Avg.Score: -105.79, Time: 00:07:22 \n"
     ]
    },
    {
     "name": "stderr",
     "output_type": "stream",
     "text": [
      "  4%|▎         | 72/2000 [07:32<7:19:09, 13.67s/it]"
     ]
    },
    {
     "name": "stdout",
     "output_type": "stream",
     "text": [
      "Ep. 73, Timestep 43049,  Ep.Timesteps 1600, Score: -72.59, Avg.Score: -105.33, Time: 00:07:40 \n"
     ]
    },
    {
     "name": "stderr",
     "output_type": "stream",
     "text": [
      "  4%|▎         | 73/2000 [07:50<8:00:36, 14.96s/it]"
     ]
    },
    {
     "name": "stdout",
     "output_type": "stream",
     "text": [
      "Ep. 74, Timestep 44649,  Ep.Timesteps 1600, Score: -50.53, Avg.Score: -104.59, Time: 00:07:57 \n"
     ]
    },
    {
     "name": "stderr",
     "output_type": "stream",
     "text": [
      "  4%|▎         | 74/2000 [08:08<8:30:08, 15.89s/it]"
     ]
    },
    {
     "name": "stdout",
     "output_type": "stream",
     "text": [
      "Ep. 75, Timestep 46249,  Ep.Timesteps 1600, Score: -73.56, Avg.Score: -104.18, Time: 00:08:15 \n"
     ]
    },
    {
     "name": "stderr",
     "output_type": "stream",
     "text": [
      "  4%|▍         | 75/2000 [08:26<8:52:36, 16.60s/it]"
     ]
    },
    {
     "name": "stdout",
     "output_type": "stream",
     "text": [
      "Ep. 76, Timestep 47849,  Ep.Timesteps 1600, Score: -63.18, Avg.Score: -103.64, Time: 00:08:34 \n"
     ]
    },
    {
     "name": "stderr",
     "output_type": "stream",
     "text": [
      "  4%|▍         | 76/2000 [08:44<9:03:20, 16.94s/it]"
     ]
    },
    {
     "name": "stdout",
     "output_type": "stream",
     "text": [
      "Ep. 77, Timestep 49449,  Ep.Timesteps 1600, Score: -48.98, Avg.Score: -102.93, Time: 00:08:52 \n"
     ]
    },
    {
     "name": "stderr",
     "output_type": "stream",
     "text": [
      "  4%|▍         | 77/2000 [09:02<9:12:20, 17.23s/it]"
     ]
    },
    {
     "name": "stdout",
     "output_type": "stream",
     "text": [
      "Ep. 78, Timestep 51049,  Ep.Timesteps 1600, Score: -79.04, Avg.Score: -102.62, Time: 00:09:09 \n"
     ]
    },
    {
     "name": "stderr",
     "output_type": "stream",
     "text": [
      "  4%|▍         | 78/2000 [09:19<9:09:26, 17.15s/it]"
     ]
    },
    {
     "name": "stdout",
     "output_type": "stream",
     "text": [
      "Ep. 79, Timestep 52649,  Ep.Timesteps 1600, Score: -59.07, Avg.Score: -102.07, Time: 00:09:26 \n"
     ]
    },
    {
     "name": "stderr",
     "output_type": "stream",
     "text": [
      "  4%|▍         | 79/2000 [09:36<9:08:31, 17.13s/it]"
     ]
    },
    {
     "name": "stdout",
     "output_type": "stream",
     "text": [
      "Ep. 80, Timestep 54249,  Ep.Timesteps 1600, Score: -64.19, Avg.Score: -101.60, Time: 00:09:44 \n"
     ]
    },
    {
     "name": "stderr",
     "output_type": "stream",
     "text": [
      "  4%|▍         | 80/2000 [09:54<9:21:19, 17.54s/it]"
     ]
    },
    {
     "name": "stdout",
     "output_type": "stream",
     "text": [
      "Ep. 81, Timestep 55849,  Ep.Timesteps 1600, Score: -21.44, Avg.Score: -100.61, Time: 00:10:02 \n"
     ]
    },
    {
     "name": "stderr",
     "output_type": "stream",
     "text": [
      "  4%|▍         | 81/2000 [10:11<9:12:00, 17.26s/it]"
     ]
    },
    {
     "name": "stdout",
     "output_type": "stream",
     "text": [
      "Ep. 82, Timestep 57449,  Ep.Timesteps 1600, Score: -38.14, Avg.Score: -99.85, Time: 00:10:18 \n"
     ]
    },
    {
     "name": "stderr",
     "output_type": "stream",
     "text": [
      "  4%|▍         | 82/2000 [10:29<9:18:16, 17.46s/it]"
     ]
    },
    {
     "name": "stdout",
     "output_type": "stream",
     "text": [
      "Ep. 83, Timestep 59049,  Ep.Timesteps 1600, Score: -53.47, Avg.Score: -99.29, Time: 00:10:37 \n"
     ]
    },
    {
     "name": "stderr",
     "output_type": "stream",
     "text": [
      "  4%|▍         | 83/2000 [10:48<9:29:27, 17.82s/it]"
     ]
    },
    {
     "name": "stdout",
     "output_type": "stream",
     "text": [
      "Ep. 84, Timestep 60649,  Ep.Timesteps 1600, Score: -74.26, Avg.Score: -98.99, Time: 00:10:55 \n"
     ]
    },
    {
     "name": "stderr",
     "output_type": "stream",
     "text": [
      "  4%|▍         | 84/2000 [11:06<9:34:37, 17.99s/it]"
     ]
    },
    {
     "name": "stdout",
     "output_type": "stream",
     "text": [
      "Ep. 85, Timestep 62249,  Ep.Timesteps 1600, Score: -71.26, Avg.Score: -98.67, Time: 00:11:13 \n"
     ]
    },
    {
     "name": "stderr",
     "output_type": "stream",
     "text": [
      "  4%|▍         | 85/2000 [11:25<9:41:12, 18.21s/it]"
     ]
    },
    {
     "name": "stdout",
     "output_type": "stream",
     "text": [
      "Ep. 86, Timestep 63849,  Ep.Timesteps 1600, Score: -56.59, Avg.Score: -98.18, Time: 00:11:33 \n"
     ]
    },
    {
     "name": "stderr",
     "output_type": "stream",
     "text": [
      "  4%|▍         | 86/2000 [11:44<9:49:29, 18.48s/it]"
     ]
    },
    {
     "name": "stdout",
     "output_type": "stream",
     "text": [
      "Ep. 87, Timestep 65449,  Ep.Timesteps 1600, Score: -42.90, Avg.Score: -97.54, Time: 00:11:52 \n"
     ]
    },
    {
     "name": "stderr",
     "output_type": "stream",
     "text": [
      "  4%|▍         | 87/2000 [12:03<9:51:53, 18.56s/it]"
     ]
    },
    {
     "name": "stdout",
     "output_type": "stream",
     "text": [
      "Ep. 88, Timestep 67049,  Ep.Timesteps 1600, Score: -46.49, Avg.Score: -96.96, Time: 00:12:10 \n"
     ]
    },
    {
     "name": "stderr",
     "output_type": "stream",
     "text": [
      "  4%|▍         | 88/2000 [12:19<9:30:17, 17.90s/it]"
     ]
    },
    {
     "name": "stdout",
     "output_type": "stream",
     "text": [
      "Ep. 89, Timestep 68649,  Ep.Timesteps 1600, Score: -98.75, Avg.Score: -96.98, Time: 00:12:26 \n"
     ]
    },
    {
     "name": "stderr",
     "output_type": "stream",
     "text": [
      "  4%|▍         | 89/2000 [12:36<9:19:24, 17.56s/it]"
     ]
    },
    {
     "name": "stdout",
     "output_type": "stream",
     "text": [
      "Ep. 90, Timestep 70249,  Ep.Timesteps 1600, Score: -47.84, Avg.Score: -96.43, Time: 00:12:43 \n"
     ]
    },
    {
     "name": "stderr",
     "output_type": "stream",
     "text": [
      "  4%|▍         | 90/2000 [12:54<9:23:31, 17.70s/it]"
     ]
    },
    {
     "name": "stdout",
     "output_type": "stream",
     "text": [
      "Ep. 91, Timestep 71849,  Ep.Timesteps 1600, Score: -67.22, Avg.Score: -96.11, Time: 00:13:01 \n"
     ]
    },
    {
     "name": "stderr",
     "output_type": "stream",
     "text": [
      "  5%|▍         | 91/2000 [13:12<9:25:41, 17.78s/it]"
     ]
    },
    {
     "name": "stdout",
     "output_type": "stream",
     "text": [
      "Ep. 92, Timestep 73449,  Ep.Timesteps 1600, Score: -87.71, Avg.Score: -96.02, Time: 00:13:19 \n"
     ]
    },
    {
     "name": "stderr",
     "output_type": "stream",
     "text": [
      "  5%|▍         | 92/2000 [13:29<9:23:41, 17.73s/it]"
     ]
    },
    {
     "name": "stdout",
     "output_type": "stream",
     "text": [
      "Ep. 93, Timestep 75049,  Ep.Timesteps 1600, Score: -81.41, Avg.Score: -95.87, Time: 00:13:37 \n"
     ]
    },
    {
     "name": "stderr",
     "output_type": "stream",
     "text": [
      "  5%|▍         | 93/2000 [13:47<9:18:18, 17.57s/it]"
     ]
    },
    {
     "name": "stdout",
     "output_type": "stream",
     "text": [
      "Ep. 94, Timestep 76649,  Ep.Timesteps 1600, Score: -71.95, Avg.Score: -95.61, Time: 00:13:54 \n"
     ]
    },
    {
     "name": "stderr",
     "output_type": "stream",
     "text": [
      "  5%|▍         | 94/2000 [14:04<9:16:20, 17.51s/it]"
     ]
    },
    {
     "name": "stdout",
     "output_type": "stream",
     "text": [
      "Ep. 95, Timestep 78249,  Ep.Timesteps 1600, Score: -89.57, Avg.Score: -95.55, Time: 00:14:11 \n"
     ]
    },
    {
     "name": "stderr",
     "output_type": "stream",
     "text": [
      "  5%|▍         | 95/2000 [14:21<9:10:32, 17.34s/it]"
     ]
    },
    {
     "name": "stdout",
     "output_type": "stream",
     "text": [
      "Ep. 96, Timestep 79849,  Ep.Timesteps 1600, Score: -70.27, Avg.Score: -95.28, Time: 00:14:29 \n"
     ]
    },
    {
     "name": "stderr",
     "output_type": "stream",
     "text": [
      "  5%|▍         | 96/2000 [14:37<8:59:06, 16.99s/it]"
     ]
    },
    {
     "name": "stdout",
     "output_type": "stream",
     "text": [
      "Ep. 97, Timestep 81449,  Ep.Timesteps 1600, Score: -64.68, Avg.Score: -94.97, Time: 00:14:44 \n"
     ]
    },
    {
     "name": "stderr",
     "output_type": "stream",
     "text": [
      "  5%|▍         | 97/2000 [14:54<8:58:40, 16.98s/it]"
     ]
    },
    {
     "name": "stdout",
     "output_type": "stream",
     "text": [
      "Ep. 98, Timestep 83049,  Ep.Timesteps 1600, Score: -61.85, Avg.Score: -94.63, Time: 00:15:01 \n"
     ]
    },
    {
     "name": "stderr",
     "output_type": "stream",
     "text": [
      "  5%|▍         | 98/2000 [15:11<9:01:46, 17.09s/it]"
     ]
    },
    {
     "name": "stdout",
     "output_type": "stream",
     "text": [
      "Ep. 99, Timestep 84649,  Ep.Timesteps 1600, Score: -63.37, Avg.Score: -94.31, Time: 00:15:19 \n"
     ]
    },
    {
     "name": "stderr",
     "output_type": "stream",
     "text": [
      "  5%|▍         | 99/2000 [15:29<9:02:52, 17.13s/it]"
     ]
    },
    {
     "name": "stdout",
     "output_type": "stream",
     "text": [
      "Ep. 100, Timestep 86249,  Ep.Timesteps 1600, Score: -83.95, Avg.Score: -94.21, Time: 00:15:36 \n"
     ]
    },
    {
     "name": "stderr",
     "output_type": "stream",
     "text": [
      "  5%|▌         | 100/2000 [15:48<9:25:48, 17.87s/it]"
     ]
    },
    {
     "name": "stdout",
     "output_type": "stream",
     "text": [
      "Ep. 101, Timestep 87849,  Ep.Timesteps 1600, Score: -59.54, Avg.Score: -93.86, Time: 00:15:55 \n"
     ]
    },
    {
     "name": "stderr",
     "output_type": "stream",
     "text": [
      "  5%|▌         | 101/2000 [16:06<9:23:23, 17.80s/it]"
     ]
    },
    {
     "name": "stdout",
     "output_type": "stream",
     "text": [
      "Ep. 102, Timestep 89449,  Ep.Timesteps 1600, Score: -49.70, Avg.Score: -93.16, Time: 00:16:13 \n"
     ]
    },
    {
     "name": "stderr",
     "output_type": "stream",
     "text": [
      "  5%|▌         | 102/2000 [16:23<9:21:16, 17.74s/it]"
     ]
    },
    {
     "name": "stdout",
     "output_type": "stream",
     "text": [
      "Ep. 103, Timestep 91049,  Ep.Timesteps 1600, Score: -47.63, Avg.Score: -92.67, Time: 00:16:31 \n"
     ]
    },
    {
     "name": "stderr",
     "output_type": "stream",
     "text": [
      "  5%|▌         | 103/2000 [16:41<9:22:29, 17.79s/it]"
     ]
    },
    {
     "name": "stdout",
     "output_type": "stream",
     "text": [
      "Ep. 104, Timestep 92649,  Ep.Timesteps 1600, Score: -36.79, Avg.Score: -92.02, Time: 00:16:49 \n"
     ]
    },
    {
     "name": "stderr",
     "output_type": "stream",
     "text": [
      "  5%|▌         | 104/2000 [16:59<9:21:23, 17.77s/it]"
     ]
    },
    {
     "name": "stdout",
     "output_type": "stream",
     "text": [
      "Ep. 105, Timestep 94249,  Ep.Timesteps 1600, Score: -43.80, Avg.Score: -91.38, Time: 00:17:07 \n"
     ]
    },
    {
     "name": "stderr",
     "output_type": "stream",
     "text": [
      "  5%|▌         | 105/2000 [17:16<9:14:58, 17.57s/it]"
     ]
    },
    {
     "name": "stdout",
     "output_type": "stream",
     "text": [
      "Ep. 106, Timestep 95849,  Ep.Timesteps 1600, Score: -75.36, Avg.Score: -91.38, Time: 00:17:24 \n"
     ]
    },
    {
     "name": "stderr",
     "output_type": "stream",
     "text": [
      "  5%|▌         | 106/2000 [17:34<9:21:19, 17.78s/it]"
     ]
    },
    {
     "name": "stdout",
     "output_type": "stream",
     "text": [
      "Ep. 107, Timestep 97449,  Ep.Timesteps 1600, Score: -95.59, Avg.Score: -91.35, Time: 00:17:42 \n"
     ]
    },
    {
     "name": "stderr",
     "output_type": "stream",
     "text": [
      "  5%|▌         | 107/2000 [17:53<9:24:51, 17.90s/it]"
     ]
    },
    {
     "name": "stdout",
     "output_type": "stream",
     "text": [
      "Ep. 108, Timestep 99049,  Ep.Timesteps 1600, Score: -54.90, Avg.Score: -90.87, Time: 00:18:00 \n"
     ]
    },
    {
     "name": "stderr",
     "output_type": "stream",
     "text": [
      "  5%|▌         | 108/2000 [18:10<9:24:06, 17.89s/it]"
     ]
    },
    {
     "name": "stdout",
     "output_type": "stream",
     "text": [
      "Ep. 109, Timestep 100649,  Ep.Timesteps 1600, Score: -55.64, Avg.Score: -90.31, Time: 00:18:18 \n"
     ]
    },
    {
     "name": "stderr",
     "output_type": "stream",
     "text": [
      "  5%|▌         | 109/2000 [18:28<9:17:22, 17.69s/it]"
     ]
    },
    {
     "name": "stdout",
     "output_type": "stream",
     "text": [
      "Ep. 110, Timestep 102249,  Ep.Timesteps 1600, Score: -78.35, Avg.Score: -89.86, Time: 00:18:35 \n"
     ]
    },
    {
     "name": "stderr",
     "output_type": "stream",
     "text": [
      "  6%|▌         | 110/2000 [18:46<9:23:12, 17.88s/it]"
     ]
    },
    {
     "name": "stdout",
     "output_type": "stream",
     "text": [
      "Ep. 111, Timestep 103849,  Ep.Timesteps 1600, Score: -59.02, Avg.Score: -89.62, Time: 00:18:53 \n"
     ]
    },
    {
     "name": "stderr",
     "output_type": "stream",
     "text": [
      "  6%|▌         | 111/2000 [19:05<9:29:11, 18.08s/it]"
     ]
    },
    {
     "name": "stdout",
     "output_type": "stream",
     "text": [
      "Ep. 112, Timestep 105449,  Ep.Timesteps 1600, Score: -77.07, Avg.Score: -89.32, Time: 00:19:12 \n"
     ]
    },
    {
     "name": "stderr",
     "output_type": "stream",
     "text": [
      "  6%|▌         | 112/2000 [19:23<9:29:03, 18.08s/it]"
     ]
    },
    {
     "name": "stdout",
     "output_type": "stream",
     "text": [
      "Ep. 113, Timestep 107049,  Ep.Timesteps 1600, Score: -67.44, Avg.Score: -88.83, Time: 00:19:30 \n"
     ]
    },
    {
     "name": "stderr",
     "output_type": "stream",
     "text": [
      "  6%|▌         | 113/2000 [19:41<9:31:40, 18.18s/it]"
     ]
    },
    {
     "name": "stdout",
     "output_type": "stream",
     "text": [
      "Ep. 114, Timestep 108649,  Ep.Timesteps 1600, Score: -55.02, Avg.Score: -88.25, Time: 00:19:48 \n"
     ]
    },
    {
     "name": "stderr",
     "output_type": "stream",
     "text": [
      "  6%|▌         | 114/2000 [20:00<9:34:08, 18.27s/it]"
     ]
    },
    {
     "name": "stdout",
     "output_type": "stream",
     "text": [
      "Ep. 115, Timestep 110249,  Ep.Timesteps 1600, Score: -59.77, Avg.Score: -88.03, Time: 00:20:07 \n"
     ]
    },
    {
     "name": "stderr",
     "output_type": "stream",
     "text": [
      "  6%|▌         | 115/2000 [20:18<9:35:08, 18.31s/it]"
     ]
    },
    {
     "name": "stdout",
     "output_type": "stream",
     "text": [
      "Ep. 116, Timestep 111849,  Ep.Timesteps 1600, Score: -58.79, Avg.Score: -86.97, Time: 00:20:26 \n"
     ]
    },
    {
     "name": "stderr",
     "output_type": "stream",
     "text": [
      "  6%|▌         | 116/2000 [20:37<9:39:45, 18.46s/it]"
     ]
    },
    {
     "name": "stdout",
     "output_type": "stream",
     "text": [
      "Ep. 117, Timestep 113449,  Ep.Timesteps 1600, Score: -72.31, Avg.Score: -86.65, Time: 00:20:44 \n"
     ]
    },
    {
     "name": "stderr",
     "output_type": "stream",
     "text": [
      "  6%|▌         | 117/2000 [20:55<9:40:45, 18.51s/it]"
     ]
    },
    {
     "name": "stdout",
     "output_type": "stream",
     "text": [
      "Ep. 118, Timestep 115049,  Ep.Timesteps 1600, Score: -42.29, Avg.Score: -86.00, Time: 00:21:03 \n"
     ]
    },
    {
     "name": "stderr",
     "output_type": "stream",
     "text": [
      "  6%|▌         | 118/2000 [21:14<9:41:29, 18.54s/it]"
     ]
    },
    {
     "name": "stdout",
     "output_type": "stream",
     "text": [
      "Ep. 119, Timestep 116649,  Ep.Timesteps 1600, Score: -23.52, Avg.Score: -84.83, Time: 00:21:21 \n"
     ]
    },
    {
     "name": "stderr",
     "output_type": "stream",
     "text": [
      "  6%|▌         | 119/2000 [21:33<9:41:31, 18.55s/it]"
     ]
    },
    {
     "name": "stdout",
     "output_type": "stream",
     "text": [
      "Ep. 120, Timestep 118249,  Ep.Timesteps 1600, Score: -42.04, Avg.Score: -83.66, Time: 00:21:40 \n"
     ]
    },
    {
     "name": "stderr",
     "output_type": "stream",
     "text": [
      "  6%|▌         | 120/2000 [21:50<9:29:54, 18.19s/it]"
     ]
    },
    {
     "name": "stdout",
     "output_type": "stream",
     "text": [
      "Ep. 121, Timestep 119849,  Ep.Timesteps 1600, Score: -30.32, Avg.Score: -82.96, Time: 00:21:57 \n"
     ]
    },
    {
     "name": "stderr",
     "output_type": "stream",
     "text": [
      "  6%|▌         | 121/2000 [22:06<9:13:18, 17.67s/it]"
     ]
    },
    {
     "name": "stdout",
     "output_type": "stream",
     "text": [
      "Ep. 122, Timestep 121449,  Ep.Timesteps 1600, Score: -23.60, Avg.Score: -82.35, Time: 00:22:14 \n"
     ]
    },
    {
     "name": "stderr",
     "output_type": "stream",
     "text": [
      "  6%|▌         | 122/2000 [22:25<9:20:51, 17.92s/it]"
     ]
    },
    {
     "name": "stdout",
     "output_type": "stream",
     "text": [
      "Ep. 123, Timestep 123049,  Ep.Timesteps 1600, Score: -43.38, Avg.Score: -82.29, Time: 00:22:32 \n"
     ]
    },
    {
     "name": "stderr",
     "output_type": "stream",
     "text": [
      "  6%|▌         | 123/2000 [22:43<9:17:50, 17.83s/it]"
     ]
    },
    {
     "name": "stdout",
     "output_type": "stream",
     "text": [
      "Ep. 124, Timestep 124649,  Ep.Timesteps 1600, Score: -37.82, Avg.Score: -81.63, Time: 00:22:50 \n"
     ]
    },
    {
     "name": "stderr",
     "output_type": "stream",
     "text": [
      "  6%|▌         | 124/2000 [22:59<9:06:55, 17.49s/it]"
     ]
    },
    {
     "name": "stdout",
     "output_type": "stream",
     "text": [
      "Ep. 125, Timestep 126249,  Ep.Timesteps 1600, Score: -32.82, Avg.Score: -80.86, Time: 00:23:07 \n"
     ]
    },
    {
     "name": "stderr",
     "output_type": "stream",
     "text": [
      "  6%|▋         | 125/2000 [23:16<9:03:40, 17.40s/it]"
     ]
    },
    {
     "name": "stdout",
     "output_type": "stream",
     "text": [
      "Ep. 126, Timestep 127849,  Ep.Timesteps 1600, Score: -42.29, Avg.Score: -79.00, Time: 00:23:24 \n"
     ]
    },
    {
     "name": "stderr",
     "output_type": "stream",
     "text": [
      "  6%|▋         | 126/2000 [23:35<9:11:34, 17.66s/it]"
     ]
    },
    {
     "name": "stdout",
     "output_type": "stream",
     "text": [
      "Ep. 127, Timestep 129449,  Ep.Timesteps 1600, Score: -60.07, Avg.Score: -77.95, Time: 00:23:42 \n"
     ]
    },
    {
     "name": "stderr",
     "output_type": "stream",
     "text": [
      "  6%|▋         | 127/2000 [23:54<9:24:14, 18.07s/it]"
     ]
    },
    {
     "name": "stdout",
     "output_type": "stream",
     "text": [
      "Ep. 128, Timestep 131049,  Ep.Timesteps 1600, Score: -21.93, Avg.Score: -76.96, Time: 00:24:01 \n"
     ]
    },
    {
     "name": "stderr",
     "output_type": "stream",
     "text": [
      "  6%|▋         | 128/2000 [24:11<9:15:46, 17.81s/it]"
     ]
    },
    {
     "name": "stdout",
     "output_type": "stream",
     "text": [
      "Ep. 129, Timestep 132649,  Ep.Timesteps 1600, Score: -42.05, Avg.Score: -76.47, Time: 00:24:18 \n"
     ]
    },
    {
     "name": "stderr",
     "output_type": "stream",
     "text": [
      "  6%|▋         | 129/2000 [24:29<9:22:44, 18.05s/it]"
     ]
    },
    {
     "name": "stdout",
     "output_type": "stream",
     "text": [
      "Ep. 130, Timestep 134249,  Ep.Timesteps 1600, Score: -41.99, Avg.Score: -75.63, Time: 00:24:37 \n"
     ]
    },
    {
     "name": "stderr",
     "output_type": "stream",
     "text": [
      "  6%|▋         | 130/2000 [24:47<9:19:03, 17.94s/it]"
     ]
    },
    {
     "name": "stdout",
     "output_type": "stream",
     "text": [
      "Ep. 131, Timestep 135849,  Ep.Timesteps 1600, Score: -94.31, Avg.Score: -75.64, Time: 00:24:55 \n"
     ]
    },
    {
     "name": "stderr",
     "output_type": "stream",
     "text": [
      "  7%|▋         | 131/2000 [25:05<9:21:15, 18.02s/it]"
     ]
    },
    {
     "name": "stdout",
     "output_type": "stream",
     "text": [
      "Ep. 132, Timestep 137449,  Ep.Timesteps 1600, Score: -45.67, Avg.Score: -74.89, Time: 00:25:13 \n"
     ]
    },
    {
     "name": "stderr",
     "output_type": "stream",
     "text": [
      "  7%|▋         | 132/2000 [25:23<9:13:42, 17.79s/it]"
     ]
    },
    {
     "name": "stdout",
     "output_type": "stream",
     "text": [
      "Ep. 133, Timestep 139049,  Ep.Timesteps 1600, Score: -49.26, Avg.Score: -74.36, Time: 00:25:30 \n"
     ]
    },
    {
     "name": "stderr",
     "output_type": "stream",
     "text": [
      "  7%|▋         | 133/2000 [25:41<9:20:41, 18.02s/it]"
     ]
    },
    {
     "name": "stdout",
     "output_type": "stream",
     "text": [
      "Ep. 134, Timestep 140649,  Ep.Timesteps 1600, Score: -31.54, Avg.Score: -73.46, Time: 00:25:48 \n"
     ]
    },
    {
     "name": "stderr",
     "output_type": "stream",
     "text": [
      "  7%|▋         | 134/2000 [25:58<9:11:18, 17.73s/it]"
     ]
    },
    {
     "name": "stdout",
     "output_type": "stream",
     "text": [
      "Ep. 135, Timestep 142249,  Ep.Timesteps 1600, Score: -47.78, Avg.Score: -72.92, Time: 00:26:06 \n"
     ]
    },
    {
     "name": "stderr",
     "output_type": "stream",
     "text": [
      "  7%|▋         | 135/2000 [26:16<9:13:51, 17.82s/it]"
     ]
    },
    {
     "name": "stdout",
     "output_type": "stream",
     "text": [
      "Ep. 136, Timestep 142373,  Ep.Timesteps 124, Score: -108.26, Avg.Score: -72.79, Time: 00:26:20 \n"
     ]
    },
    {
     "name": "stderr",
     "output_type": "stream",
     "text": [
      "  7%|▋         | 136/2000 [26:18<6:40:56, 12.91s/it]"
     ]
    },
    {
     "name": "stdout",
     "output_type": "stream",
     "text": [
      "Ep. 137, Timestep 143973,  Ep.Timesteps 1600, Score: -43.88, Avg.Score: -72.25, Time: 00:26:25 \n"
     ]
    },
    {
     "name": "stderr",
     "output_type": "stream",
     "text": [
      "  7%|▋         | 137/2000 [26:37<7:41:26, 14.86s/it]"
     ]
    },
    {
     "name": "stdout",
     "output_type": "stream",
     "text": [
      "Ep. 138, Timestep 145573,  Ep.Timesteps 1600, Score: -28.61, Avg.Score: -71.47, Time: 00:26:45 \n"
     ]
    },
    {
     "name": "stderr",
     "output_type": "stream",
     "text": [
      "  7%|▋         | 138/2000 [26:55<8:06:58, 15.69s/it]"
     ]
    },
    {
     "name": "stdout",
     "output_type": "stream",
     "text": [
      "Ep. 139, Timestep 147173,  Ep.Timesteps 1600, Score: -40.25, Avg.Score: -70.84, Time: 00:27:02 \n"
     ]
    },
    {
     "name": "stderr",
     "output_type": "stream",
     "text": [
      "  7%|▋         | 139/2000 [27:12<8:20:33, 16.14s/it]"
     ]
    },
    {
     "name": "stdout",
     "output_type": "stream",
     "text": [
      "Ep. 140, Timestep 148773,  Ep.Timesteps 1600, Score: -42.78, Avg.Score: -70.17, Time: 00:27:19 \n"
     ]
    },
    {
     "name": "stderr",
     "output_type": "stream",
     "text": [
      "  7%|▋         | 140/2000 [27:29<8:29:02, 16.42s/it]"
     ]
    },
    {
     "name": "stdout",
     "output_type": "stream",
     "text": [
      "Ep. 141, Timestep 150373,  Ep.Timesteps 1600, Score: -22.97, Avg.Score: -69.08, Time: 00:27:37 \n"
     ]
    },
    {
     "name": "stderr",
     "output_type": "stream",
     "text": [
      "  7%|▋         | 141/2000 [27:47<8:45:53, 16.97s/it]"
     ]
    },
    {
     "name": "stdout",
     "output_type": "stream",
     "text": [
      "Ep. 142, Timestep 151973,  Ep.Timesteps 1600, Score: -32.49, Avg.Score: -68.22, Time: 00:27:55 \n"
     ]
    },
    {
     "name": "stderr",
     "output_type": "stream",
     "text": [
      "  7%|▋         | 142/2000 [28:05<8:54:03, 17.25s/it]"
     ]
    },
    {
     "name": "stdout",
     "output_type": "stream",
     "text": [
      "Ep. 143, Timestep 153573,  Ep.Timesteps 1600, Score: -30.34, Avg.Score: -67.89, Time: 00:28:13 \n"
     ]
    },
    {
     "name": "stderr",
     "output_type": "stream",
     "text": [
      "  7%|▋         | 143/2000 [28:22<8:47:59, 17.06s/it]"
     ]
    },
    {
     "name": "stdout",
     "output_type": "stream",
     "text": [
      "Ep. 144, Timestep 155173,  Ep.Timesteps 1600, Score: -32.81, Avg.Score: -67.55, Time: 00:28:29 \n"
     ]
    },
    {
     "name": "stderr",
     "output_type": "stream",
     "text": [
      "  7%|▋         | 144/2000 [28:41<9:07:30, 17.70s/it]"
     ]
    },
    {
     "name": "stdout",
     "output_type": "stream",
     "text": [
      "Ep. 145, Timestep 156773,  Ep.Timesteps 1600, Score: -46.77, Avg.Score: -67.03, Time: 00:28:48 \n"
     ]
    },
    {
     "name": "stderr",
     "output_type": "stream",
     "text": [
      "  7%|▋         | 145/2000 [29:00<9:15:35, 17.97s/it]"
     ]
    },
    {
     "name": "stdout",
     "output_type": "stream",
     "text": [
      "Ep. 146, Timestep 158373,  Ep.Timesteps 1600, Score: -41.05, Avg.Score: -66.28, Time: 00:29:07 \n"
     ]
    },
    {
     "name": "stderr",
     "output_type": "stream",
     "text": [
      "  7%|▋         | 146/2000 [29:17<9:09:11, 17.77s/it]"
     ]
    },
    {
     "name": "stdout",
     "output_type": "stream",
     "text": [
      "Ep. 147, Timestep 159973,  Ep.Timesteps 1600, Score: -28.47, Avg.Score: -65.56, Time: 00:29:24 \n"
     ]
    },
    {
     "name": "stderr",
     "output_type": "stream",
     "text": [
      "  7%|▋         | 147/2000 [29:34<9:04:38, 17.64s/it]"
     ]
    },
    {
     "name": "stdout",
     "output_type": "stream",
     "text": [
      "Ep. 148, Timestep 161573,  Ep.Timesteps 1600, Score: -33.35, Avg.Score: -64.99, Time: 00:29:42 \n"
     ]
    },
    {
     "name": "stderr",
     "output_type": "stream",
     "text": [
      "  7%|▋         | 148/2000 [29:53<9:17:15, 18.05s/it]"
     ]
    },
    {
     "name": "stdout",
     "output_type": "stream",
     "text": [
      "Ep. 149, Timestep 163173,  Ep.Timesteps 1600, Score: -25.04, Avg.Score: -64.30, Time: 00:30:01 \n"
     ]
    },
    {
     "name": "stderr",
     "output_type": "stream",
     "text": [
      "  7%|▋         | 149/2000 [30:10<9:03:18, 17.61s/it]"
     ]
    },
    {
     "name": "stdout",
     "output_type": "stream",
     "text": [
      "Ep. 150, Timestep 164773,  Ep.Timesteps 1600, Score: -21.56, Avg.Score: -63.48, Time: 00:30:18 \n"
     ]
    },
    {
     "name": "stderr",
     "output_type": "stream",
     "text": [
      "  8%|▊         | 150/2000 [30:28<9:10:54, 17.87s/it]"
     ]
    },
    {
     "name": "stdout",
     "output_type": "stream",
     "text": [
      "Ep. 151, Timestep 166373,  Ep.Timesteps 1600, Score: -26.33, Avg.Score: -62.81, Time: 00:30:36 \n"
     ]
    },
    {
     "name": "stderr",
     "output_type": "stream",
     "text": [
      "  8%|▊         | 151/2000 [30:48<9:26:01, 18.37s/it]"
     ]
    },
    {
     "name": "stdout",
     "output_type": "stream",
     "text": [
      "Ep. 152, Timestep 167973,  Ep.Timesteps 1600, Score: -24.75, Avg.Score: -62.05, Time: 00:30:55 \n"
     ]
    },
    {
     "name": "stderr",
     "output_type": "stream",
     "text": [
      "  8%|▊         | 152/2000 [31:05<9:17:57, 18.12s/it]"
     ]
    },
    {
     "name": "stdout",
     "output_type": "stream",
     "text": [
      "Ep. 153, Timestep 169573,  Ep.Timesteps 1600, Score: -25.93, Avg.Score: -61.34, Time: 00:31:12 \n"
     ]
    },
    {
     "name": "stderr",
     "output_type": "stream",
     "text": [
      "  8%|▊         | 153/2000 [31:23<9:13:23, 17.98s/it]"
     ]
    },
    {
     "name": "stdout",
     "output_type": "stream",
     "text": [
      "Ep. 154, Timestep 171173,  Ep.Timesteps 1600, Score: -91.86, Avg.Score: -61.30, Time: 00:31:30 \n"
     ]
    },
    {
     "name": "stderr",
     "output_type": "stream",
     "text": [
      "  8%|▊         | 154/2000 [31:40<8:59:28, 17.53s/it]"
     ]
    },
    {
     "name": "stdout",
     "output_type": "stream",
     "text": [
      "Ep. 155, Timestep 172773,  Ep.Timesteps 1600, Score: -35.68, Avg.Score: -60.64, Time: 00:31:47 \n"
     ]
    },
    {
     "name": "stderr",
     "output_type": "stream",
     "text": [
      "  8%|▊         | 155/2000 [31:58<9:07:17, 17.80s/it]"
     ]
    },
    {
     "name": "stdout",
     "output_type": "stream",
     "text": [
      "Ep. 156, Timestep 174373,  Ep.Timesteps 1600, Score: -40.61, Avg.Score: -59.98, Time: 00:32:05 \n"
     ]
    },
    {
     "name": "stderr",
     "output_type": "stream",
     "text": [
      "  8%|▊         | 156/2000 [32:17<9:14:15, 18.03s/it]"
     ]
    },
    {
     "name": "stdout",
     "output_type": "stream",
     "text": [
      "Ep. 157, Timestep 175973,  Ep.Timesteps 1600, Score: -51.19, Avg.Score: -59.43, Time: 00:32:24 \n"
     ]
    },
    {
     "name": "stderr",
     "output_type": "stream",
     "text": [
      "  8%|▊         | 157/2000 [32:36<9:27:25, 18.47s/it]"
     ]
    },
    {
     "name": "stdout",
     "output_type": "stream",
     "text": [
      "Ep. 158, Timestep 177573,  Ep.Timesteps 1600, Score: -49.41, Avg.Score: -59.68, Time: 00:32:43 \n"
     ]
    },
    {
     "name": "stderr",
     "output_type": "stream",
     "text": [
      "  8%|▊         | 158/2000 [32:53<9:17:13, 18.15s/it]"
     ]
    },
    {
     "name": "stdout",
     "output_type": "stream",
     "text": [
      "Ep. 159, Timestep 179173,  Ep.Timesteps 1600, Score: -45.34, Avg.Score: -59.06, Time: 00:33:01 \n"
     ]
    },
    {
     "name": "stderr",
     "output_type": "stream",
     "text": [
      "  8%|▊         | 159/2000 [33:11<9:15:40, 18.11s/it]"
     ]
    },
    {
     "name": "stdout",
     "output_type": "stream",
     "text": [
      "Ep. 160, Timestep 180773,  Ep.Timesteps 1600, Score: -48.64, Avg.Score: -58.50, Time: 00:33:19 \n"
     ]
    },
    {
     "name": "stderr",
     "output_type": "stream",
     "text": [
      "  8%|▊         | 160/2000 [33:30<9:23:47, 18.38s/it]"
     ]
    },
    {
     "name": "stdout",
     "output_type": "stream",
     "text": [
      "Ep. 161, Timestep 182373,  Ep.Timesteps 1600, Score: -22.92, Avg.Score: -57.64, Time: 00:33:38 \n"
     ]
    },
    {
     "name": "stderr",
     "output_type": "stream",
     "text": [
      "  8%|▊         | 161/2000 [33:49<9:27:03, 18.50s/it]"
     ]
    },
    {
     "name": "stdout",
     "output_type": "stream",
     "text": [
      "Ep. 162, Timestep 183973,  Ep.Timesteps 1600, Score: -30.72, Avg.Score: -56.86, Time: 00:33:57 \n"
     ]
    },
    {
     "name": "stderr",
     "output_type": "stream",
     "text": [
      "  8%|▊         | 162/2000 [34:08<9:32:25, 18.69s/it]"
     ]
    },
    {
     "name": "stdout",
     "output_type": "stream",
     "text": [
      "Ep. 163, Timestep 185573,  Ep.Timesteps 1600, Score: -27.42, Avg.Score: -55.92, Time: 00:34:16 \n"
     ]
    },
    {
     "name": "stderr",
     "output_type": "stream",
     "text": [
      "  8%|▊         | 163/2000 [34:29<9:45:50, 19.13s/it]"
     ]
    },
    {
     "name": "stdout",
     "output_type": "stream",
     "text": [
      "Ep. 164, Timestep 187173,  Ep.Timesteps 1600, Score: -44.24, Avg.Score: -55.20, Time: 00:34:37 \n"
     ]
    },
    {
     "name": "stderr",
     "output_type": "stream",
     "text": [
      "  8%|▊         | 164/2000 [34:48<9:52:20, 19.36s/it]"
     ]
    },
    {
     "name": "stdout",
     "output_type": "stream",
     "text": [
      "Ep. 165, Timestep 188773,  Ep.Timesteps 1600, Score: -36.72, Avg.Score: -54.32, Time: 00:34:56 \n"
     ]
    },
    {
     "name": "stderr",
     "output_type": "stream",
     "text": [
      "  8%|▊         | 165/2000 [35:07<9:45:07, 19.13s/it]"
     ]
    },
    {
     "name": "stdout",
     "output_type": "stream",
     "text": [
      "Ep. 166, Timestep 190373,  Ep.Timesteps 1600, Score: -40.17, Avg.Score: -53.61, Time: 00:35:15 \n"
     ]
    },
    {
     "name": "stderr",
     "output_type": "stream",
     "text": [
      "  8%|▊         | 166/2000 [35:25<9:31:32, 18.70s/it]"
     ]
    },
    {
     "name": "stdout",
     "output_type": "stream",
     "text": [
      "Ep. 167, Timestep 191973,  Ep.Timesteps 1600, Score: -48.72, Avg.Score: -53.02, Time: 00:35:32 \n"
     ]
    },
    {
     "name": "stderr",
     "output_type": "stream",
     "text": [
      "  8%|▊         | 167/2000 [35:42<9:19:05, 18.30s/it]"
     ]
    },
    {
     "name": "stdout",
     "output_type": "stream",
     "text": [
      "Ep. 168, Timestep 193573,  Ep.Timesteps 1600, Score: -30.95, Avg.Score: -52.24, Time: 00:35:49 \n"
     ]
    },
    {
     "name": "stderr",
     "output_type": "stream",
     "text": [
      "  8%|▊         | 168/2000 [36:01<9:28:20, 18.61s/it]"
     ]
    },
    {
     "name": "stdout",
     "output_type": "stream",
     "text": [
      "Ep. 169, Timestep 195173,  Ep.Timesteps 1600, Score: -37.54, Avg.Score: -51.78, Time: 00:36:08 \n"
     ]
    },
    {
     "name": "stderr",
     "output_type": "stream",
     "text": [
      "  8%|▊         | 169/2000 [36:20<9:23:36, 18.47s/it]"
     ]
    },
    {
     "name": "stdout",
     "output_type": "stream",
     "text": [
      "Ep. 170, Timestep 196773,  Ep.Timesteps 1600, Score: -42.82, Avg.Score: -51.31, Time: 00:36:27 \n"
     ]
    },
    {
     "name": "stderr",
     "output_type": "stream",
     "text": [
      "  8%|▊         | 170/2000 [36:36<9:04:39, 17.86s/it]"
     ]
    },
    {
     "name": "stdout",
     "output_type": "stream",
     "text": [
      "Ep. 171, Timestep 198373,  Ep.Timesteps 1600, Score: -44.15, Avg.Score: -50.97, Time: 00:36:43 \n"
     ]
    },
    {
     "name": "stderr",
     "output_type": "stream",
     "text": [
      "  9%|▊         | 171/2000 [36:54<9:06:19, 17.92s/it]"
     ]
    },
    {
     "name": "stdout",
     "output_type": "stream",
     "text": [
      "Ep. 172, Timestep 199973,  Ep.Timesteps 1600, Score: -32.51, Avg.Score: -50.61, Time: 00:37:01 \n"
     ]
    },
    {
     "name": "stderr",
     "output_type": "stream",
     "text": [
      "  9%|▊         | 172/2000 [37:11<9:01:15, 17.77s/it]"
     ]
    },
    {
     "name": "stdout",
     "output_type": "stream",
     "text": [
      "Ep. 173, Timestep 201573,  Ep.Timesteps 1600, Score: -28.09, Avg.Score: -50.16, Time: 00:37:19 \n"
     ]
    },
    {
     "name": "stderr",
     "output_type": "stream",
     "text": [
      "  9%|▊         | 173/2000 [37:29<8:58:08, 17.67s/it]"
     ]
    },
    {
     "name": "stdout",
     "output_type": "stream",
     "text": [
      "Ep. 174, Timestep 203173,  Ep.Timesteps 1600, Score: -59.03, Avg.Score: -50.25, Time: 00:37:36 \n"
     ]
    },
    {
     "name": "stderr",
     "output_type": "stream",
     "text": [
      "  9%|▊         | 174/2000 [37:47<9:03:06, 17.85s/it]"
     ]
    },
    {
     "name": "stdout",
     "output_type": "stream",
     "text": [
      "Ep. 175, Timestep 204773,  Ep.Timesteps 1600, Score: -49.85, Avg.Score: -50.01, Time: 00:37:54 \n"
     ]
    },
    {
     "name": "stderr",
     "output_type": "stream",
     "text": [
      "  9%|▉         | 175/2000 [38:07<9:18:03, 18.35s/it]"
     ]
    },
    {
     "name": "stdout",
     "output_type": "stream",
     "text": [
      "Ep. 176, Timestep 206373,  Ep.Timesteps 1600, Score: -43.02, Avg.Score: -49.81, Time: 00:38:14 \n"
     ]
    },
    {
     "name": "stderr",
     "output_type": "stream",
     "text": [
      "  9%|▉         | 176/2000 [38:25<9:17:48, 18.35s/it]"
     ]
    },
    {
     "name": "stdout",
     "output_type": "stream",
     "text": [
      "Ep. 177, Timestep 207973,  Ep.Timesteps 1600, Score: -40.88, Avg.Score: -49.73, Time: 00:38:32 \n"
     ]
    },
    {
     "name": "stderr",
     "output_type": "stream",
     "text": [
      "  9%|▉         | 177/2000 [38:42<9:04:35, 17.92s/it]"
     ]
    },
    {
     "name": "stdout",
     "output_type": "stream",
     "text": [
      "Ep. 178, Timestep 209573,  Ep.Timesteps 1600, Score: -27.78, Avg.Score: -49.22, Time: 00:38:50 \n"
     ]
    },
    {
     "name": "stderr",
     "output_type": "stream",
     "text": [
      "  9%|▉         | 178/2000 [39:00<9:02:53, 17.88s/it]"
     ]
    },
    {
     "name": "stdout",
     "output_type": "stream",
     "text": [
      "Ep. 179, Timestep 211173,  Ep.Timesteps 1600, Score: -14.18, Avg.Score: -48.77, Time: 00:39:07 \n"
     ]
    },
    {
     "name": "stderr",
     "output_type": "stream",
     "text": [
      "  9%|▉         | 179/2000 [39:18<9:05:25, 17.97s/it]"
     ]
    },
    {
     "name": "stdout",
     "output_type": "stream",
     "text": [
      "Ep. 180, Timestep 212773,  Ep.Timesteps 1600, Score: -13.62, Avg.Score: -48.26, Time: 00:39:26 \n"
     ]
    },
    {
     "name": "stderr",
     "output_type": "stream",
     "text": [
      "  9%|▉         | 180/2000 [39:37<9:10:53, 18.16s/it]"
     ]
    },
    {
     "name": "stdout",
     "output_type": "stream",
     "text": [
      "Ep. 181, Timestep 214373,  Ep.Timesteps 1600, Score: -17.27, Avg.Score: -48.22, Time: 00:39:44 \n"
     ]
    },
    {
     "name": "stderr",
     "output_type": "stream",
     "text": [
      "  9%|▉         | 181/2000 [39:55<9:12:12, 18.21s/it]"
     ]
    },
    {
     "name": "stdout",
     "output_type": "stream",
     "text": [
      "Ep. 182, Timestep 215973,  Ep.Timesteps 1600, Score: -20.07, Avg.Score: -48.04, Time: 00:40:02 \n"
     ]
    },
    {
     "name": "stderr",
     "output_type": "stream",
     "text": [
      "  9%|▉         | 182/2000 [40:11<8:56:13, 17.70s/it]"
     ]
    },
    {
     "name": "stdout",
     "output_type": "stream",
     "text": [
      "Ep. 183, Timestep 217573,  Ep.Timesteps 1600, Score: -18.08, Avg.Score: -47.69, Time: 00:40:19 \n"
     ]
    },
    {
     "name": "stderr",
     "output_type": "stream",
     "text": [
      "  9%|▉         | 183/2000 [40:29<8:55:30, 17.68s/it]"
     ]
    },
    {
     "name": "stdout",
     "output_type": "stream",
     "text": [
      "Ep. 184, Timestep 219173,  Ep.Timesteps 1600, Score: -32.15, Avg.Score: -47.26, Time: 00:40:36 \n"
     ]
    },
    {
     "name": "stderr",
     "output_type": "stream",
     "text": [
      "  9%|▉         | 184/2000 [40:46<8:44:46, 17.34s/it]"
     ]
    },
    {
     "name": "stdout",
     "output_type": "stream",
     "text": [
      "Ep. 185, Timestep 220773,  Ep.Timesteps 1600, Score: -33.44, Avg.Score: -46.89, Time: 00:40:53 \n"
     ]
    },
    {
     "name": "stderr",
     "output_type": "stream",
     "text": [
      "  9%|▉         | 185/2000 [41:03<8:46:26, 17.40s/it]"
     ]
    },
    {
     "name": "stdout",
     "output_type": "stream",
     "text": [
      "Ep. 186, Timestep 222373,  Ep.Timesteps 1600, Score: -34.27, Avg.Score: -46.66, Time: 00:41:11 \n"
     ]
    },
    {
     "name": "stderr",
     "output_type": "stream",
     "text": [
      "  9%|▉         | 186/2000 [41:20<8:42:50, 17.29s/it]"
     ]
    },
    {
     "name": "stdout",
     "output_type": "stream",
     "text": [
      "Ep. 187, Timestep 223973,  Ep.Timesteps 1600, Score: -46.97, Avg.Score: -46.70, Time: 00:41:27 \n"
     ]
    },
    {
     "name": "stderr",
     "output_type": "stream",
     "text": [
      "  9%|▉         | 187/2000 [41:38<8:43:52, 17.34s/it]"
     ]
    },
    {
     "name": "stdout",
     "output_type": "stream",
     "text": [
      "Ep. 188, Timestep 225573,  Ep.Timesteps 1600, Score: -45.98, Avg.Score: -46.70, Time: 00:41:45 \n"
     ]
    },
    {
     "name": "stderr",
     "output_type": "stream",
     "text": [
      "  9%|▉         | 188/2000 [41:55<8:48:56, 17.51s/it]"
     ]
    },
    {
     "name": "stdout",
     "output_type": "stream",
     "text": [
      "Ep. 189, Timestep 227173,  Ep.Timesteps 1600, Score: -29.15, Avg.Score: -46.00, Time: 00:42:03 \n"
     ]
    },
    {
     "name": "stderr",
     "output_type": "stream",
     "text": [
      "  9%|▉         | 189/2000 [42:14<8:54:16, 17.70s/it]"
     ]
    },
    {
     "name": "stdout",
     "output_type": "stream",
     "text": [
      "Ep. 190, Timestep 228773,  Ep.Timesteps 1600, Score: -41.66, Avg.Score: -45.94, Time: 00:42:21 \n"
     ]
    },
    {
     "name": "stderr",
     "output_type": "stream",
     "text": [
      " 10%|▉         | 190/2000 [42:32<8:59:21, 17.88s/it]"
     ]
    },
    {
     "name": "stdout",
     "output_type": "stream",
     "text": [
      "Ep. 191, Timestep 230373,  Ep.Timesteps 1600, Score: -53.51, Avg.Score: -45.80, Time: 00:42:40 \n"
     ]
    },
    {
     "name": "stderr",
     "output_type": "stream",
     "text": [
      " 10%|▉         | 191/2000 [42:51<9:06:52, 18.14s/it]"
     ]
    },
    {
     "name": "stdout",
     "output_type": "stream",
     "text": [
      "Ep. 192, Timestep 231973,  Ep.Timesteps 1600, Score: -27.84, Avg.Score: -45.21, Time: 00:42:58 \n"
     ]
    },
    {
     "name": "stderr",
     "output_type": "stream",
     "text": [
      " 10%|▉         | 192/2000 [43:08<9:01:56, 17.98s/it]"
     ]
    },
    {
     "name": "stdout",
     "output_type": "stream",
     "text": [
      "Ep. 193, Timestep 233573,  Ep.Timesteps 1600, Score: -42.39, Avg.Score: -44.82, Time: 00:43:16 \n"
     ]
    },
    {
     "name": "stderr",
     "output_type": "stream",
     "text": [
      " 10%|▉         | 193/2000 [43:27<9:09:42, 18.25s/it]"
     ]
    },
    {
     "name": "stdout",
     "output_type": "stream",
     "text": [
      "Ep. 194, Timestep 235173,  Ep.Timesteps 1600, Score: -38.90, Avg.Score: -44.48, Time: 00:43:34 \n"
     ]
    },
    {
     "name": "stderr",
     "output_type": "stream",
     "text": [
      " 10%|▉         | 194/2000 [43:45<9:03:16, 18.05s/it]"
     ]
    },
    {
     "name": "stdout",
     "output_type": "stream",
     "text": [
      "Ep. 195, Timestep 236773,  Ep.Timesteps 1600, Score: -42.31, Avg.Score: -44.01, Time: 00:43:52 \n"
     ]
    },
    {
     "name": "stderr",
     "output_type": "stream",
     "text": [
      " 10%|▉         | 195/2000 [44:02<8:59:00, 17.92s/it]"
     ]
    },
    {
     "name": "stdout",
     "output_type": "stream",
     "text": [
      "Ep. 196, Timestep 238373,  Ep.Timesteps 1600, Score: -27.84, Avg.Score: -43.59, Time: 00:44:10 \n"
     ]
    },
    {
     "name": "stderr",
     "output_type": "stream",
     "text": [
      " 10%|▉         | 196/2000 [44:20<8:57:00, 17.86s/it]"
     ]
    },
    {
     "name": "stdout",
     "output_type": "stream",
     "text": [
      "Ep. 197, Timestep 239973,  Ep.Timesteps 1600, Score: -35.48, Avg.Score: -43.30, Time: 00:44:28 \n"
     ]
    },
    {
     "name": "stderr",
     "output_type": "stream",
     "text": [
      " 10%|▉         | 197/2000 [44:39<9:03:29, 18.09s/it]"
     ]
    },
    {
     "name": "stdout",
     "output_type": "stream",
     "text": [
      "Ep. 198, Timestep 241573,  Ep.Timesteps 1600, Score: -41.28, Avg.Score: -43.09, Time: 00:44:46 \n"
     ]
    },
    {
     "name": "stderr",
     "output_type": "stream",
     "text": [
      " 10%|▉         | 198/2000 [44:58<9:13:25, 18.43s/it]"
     ]
    },
    {
     "name": "stdout",
     "output_type": "stream",
     "text": [
      "Ep. 199, Timestep 243173,  Ep.Timesteps 1600, Score: -21.16, Avg.Score: -42.67, Time: 00:45:05 \n"
     ]
    },
    {
     "name": "stderr",
     "output_type": "stream",
     "text": [
      " 10%|▉         | 199/2000 [45:17<9:15:00, 18.49s/it]"
     ]
    },
    {
     "name": "stdout",
     "output_type": "stream",
     "text": [
      "Ep. 200, Timestep 244773,  Ep.Timesteps 1600, Score: -16.31, Avg.Score: -41.99, Time: 00:45:24 \n"
     ]
    },
    {
     "name": "stderr",
     "output_type": "stream",
     "text": [
      " 10%|█         | 200/2000 [45:35<9:14:21, 18.48s/it]"
     ]
    },
    {
     "name": "stdout",
     "output_type": "stream",
     "text": [
      "Ep. 201, Timestep 246373,  Ep.Timesteps 1600, Score: -28.91, Avg.Score: -41.69, Time: 00:45:42 \n"
     ]
    },
    {
     "name": "stderr",
     "output_type": "stream",
     "text": [
      " 10%|█         | 201/2000 [45:54<9:20:43, 18.70s/it]"
     ]
    },
    {
     "name": "stdout",
     "output_type": "stream",
     "text": [
      "Ep. 202, Timestep 247973,  Ep.Timesteps 1600, Score: -43.45, Avg.Score: -41.62, Time: 00:46:01 \n"
     ]
    },
    {
     "name": "stderr",
     "output_type": "stream",
     "text": [
      " 10%|█         | 202/2000 [46:13<9:23:30, 18.80s/it]"
     ]
    },
    {
     "name": "stdout",
     "output_type": "stream",
     "text": [
      "Ep. 203, Timestep 249573,  Ep.Timesteps 1600, Score: -28.79, Avg.Score: -41.43, Time: 00:46:20 \n"
     ]
    },
    {
     "name": "stderr",
     "output_type": "stream",
     "text": [
      " 10%|█         | 203/2000 [46:31<9:10:34, 18.38s/it]"
     ]
    },
    {
     "name": "stdout",
     "output_type": "stream",
     "text": [
      "Ep. 204, Timestep 251173,  Ep.Timesteps 1600, Score: -45.24, Avg.Score: -41.52, Time: 00:46:38 \n"
     ]
    },
    {
     "name": "stderr",
     "output_type": "stream",
     "text": [
      " 10%|█         | 204/2000 [46:49<9:09:27, 18.36s/it]"
     ]
    },
    {
     "name": "stdout",
     "output_type": "stream",
     "text": [
      "Ep. 205, Timestep 252773,  Ep.Timesteps 1600, Score: -29.25, Avg.Score: -41.37, Time: 00:46:56 \n"
     ]
    },
    {
     "name": "stderr",
     "output_type": "stream",
     "text": [
      " 10%|█         | 205/2000 [47:08<9:19:47, 18.71s/it]"
     ]
    },
    {
     "name": "stdout",
     "output_type": "stream",
     "text": [
      "Ep. 206, Timestep 254373,  Ep.Timesteps 1600, Score: -27.09, Avg.Score: -40.89, Time: 00:47:16 \n"
     ]
    },
    {
     "name": "stderr",
     "output_type": "stream",
     "text": [
      " 10%|█         | 206/2000 [47:25<9:03:03, 18.16s/it]"
     ]
    },
    {
     "name": "stdout",
     "output_type": "stream",
     "text": [
      "Ep. 207, Timestep 255973,  Ep.Timesteps 1600, Score: -18.03, Avg.Score: -40.12, Time: 00:47:33 \n"
     ]
    },
    {
     "name": "stderr",
     "output_type": "stream",
     "text": [
      " 10%|█         | 207/2000 [47:43<8:58:43, 18.03s/it]"
     ]
    },
    {
     "name": "stdout",
     "output_type": "stream",
     "text": [
      "Ep. 208, Timestep 257573,  Ep.Timesteps 1600, Score: -28.74, Avg.Score: -39.85, Time: 00:47:51 \n"
     ]
    },
    {
     "name": "stderr",
     "output_type": "stream",
     "text": [
      " 10%|█         | 208/2000 [48:02<9:05:24, 18.26s/it]"
     ]
    },
    {
     "name": "stdout",
     "output_type": "stream",
     "text": [
      "Ep. 209, Timestep 259173,  Ep.Timesteps 1600, Score: -18.70, Avg.Score: -39.48, Time: 00:48:10 \n"
     ]
    },
    {
     "name": "stderr",
     "output_type": "stream",
     "text": [
      " 10%|█         | 209/2000 [48:22<9:21:24, 18.81s/it]"
     ]
    },
    {
     "name": "stdout",
     "output_type": "stream",
     "text": [
      "Ep. 210, Timestep 260773,  Ep.Timesteps 1600, Score: -22.14, Avg.Score: -38.92, Time: 00:48:30 \n"
     ]
    },
    {
     "name": "stderr",
     "output_type": "stream",
     "text": [
      " 10%|█         | 210/2000 [48:41<9:22:33, 18.86s/it]"
     ]
    },
    {
     "name": "stdout",
     "output_type": "stream",
     "text": [
      "Ep. 211, Timestep 262373,  Ep.Timesteps 1600, Score: -26.24, Avg.Score: -38.59, Time: 00:48:49 \n"
     ]
    },
    {
     "name": "stderr",
     "output_type": "stream",
     "text": [
      " 11%|█         | 211/2000 [48:59<9:14:41, 18.60s/it]"
     ]
    },
    {
     "name": "stdout",
     "output_type": "stream",
     "text": [
      "Ep. 212, Timestep 263973,  Ep.Timesteps 1600, Score: -38.03, Avg.Score: -38.20, Time: 00:49:07 \n"
     ]
    },
    {
     "name": "stderr",
     "output_type": "stream",
     "text": [
      " 11%|█         | 212/2000 [49:17<9:10:24, 18.47s/it]"
     ]
    },
    {
     "name": "stdout",
     "output_type": "stream",
     "text": [
      "Ep. 213, Timestep 265573,  Ep.Timesteps 1600, Score: -27.16, Avg.Score: -37.80, Time: 00:49:25 \n"
     ]
    },
    {
     "name": "stderr",
     "output_type": "stream",
     "text": [
      " 11%|█         | 213/2000 [49:36<9:10:31, 18.48s/it]"
     ]
    },
    {
     "name": "stdout",
     "output_type": "stream",
     "text": [
      "Ep. 214, Timestep 267173,  Ep.Timesteps 1600, Score: -32.53, Avg.Score: -37.58, Time: 00:49:43 \n"
     ]
    },
    {
     "name": "stderr",
     "output_type": "stream",
     "text": [
      " 11%|█         | 214/2000 [49:55<9:14:08, 18.62s/it]"
     ]
    },
    {
     "name": "stdout",
     "output_type": "stream",
     "text": [
      "Ep. 215, Timestep 268773,  Ep.Timesteps 1600, Score: -32.29, Avg.Score: -37.30, Time: 00:50:02 \n"
     ]
    },
    {
     "name": "stderr",
     "output_type": "stream",
     "text": [
      " 11%|█         | 215/2000 [50:12<9:07:27, 18.40s/it]"
     ]
    },
    {
     "name": "stdout",
     "output_type": "stream",
     "text": [
      "Ep. 216, Timestep 270373,  Ep.Timesteps 1600, Score: -23.58, Avg.Score: -36.95, Time: 00:50:20 \n"
     ]
    },
    {
     "name": "stderr",
     "output_type": "stream",
     "text": [
      " 11%|█         | 216/2000 [50:29<8:50:20, 17.84s/it]"
     ]
    },
    {
     "name": "stdout",
     "output_type": "stream",
     "text": [
      "Ep. 217, Timestep 271973,  Ep.Timesteps 1600, Score: -28.12, Avg.Score: -36.51, Time: 00:50:37 \n"
     ]
    },
    {
     "name": "stderr",
     "output_type": "stream",
     "text": [
      " 11%|█         | 217/2000 [50:47<8:51:34, 17.89s/it]"
     ]
    },
    {
     "name": "stdout",
     "output_type": "stream",
     "text": [
      "Ep. 218, Timestep 273573,  Ep.Timesteps 1600, Score: -23.30, Avg.Score: -36.32, Time: 00:50:54 \n"
     ]
    },
    {
     "name": "stderr",
     "output_type": "stream",
     "text": [
      " 11%|█         | 218/2000 [51:04<8:42:55, 17.61s/it]"
     ]
    },
    {
     "name": "stdout",
     "output_type": "stream",
     "text": [
      "Ep. 219, Timestep 275173,  Ep.Timesteps 1600, Score: -29.94, Avg.Score: -36.38, Time: 00:51:11 \n"
     ]
    },
    {
     "name": "stderr",
     "output_type": "stream",
     "text": [
      " 11%|█         | 219/2000 [51:23<8:54:33, 18.01s/it]"
     ]
    },
    {
     "name": "stdout",
     "output_type": "stream",
     "text": [
      "Ep. 220, Timestep 276773,  Ep.Timesteps 1600, Score: -28.92, Avg.Score: -36.25, Time: 00:51:30 \n"
     ]
    },
    {
     "name": "stderr",
     "output_type": "stream",
     "text": [
      " 11%|█         | 220/2000 [51:41<8:55:38, 18.06s/it]"
     ]
    },
    {
     "name": "stdout",
     "output_type": "stream",
     "text": [
      "Ep. 221, Timestep 278373,  Ep.Timesteps 1600, Score: -48.01, Avg.Score: -36.43, Time: 00:51:48 \n"
     ]
    },
    {
     "name": "stderr",
     "output_type": "stream",
     "text": [
      " 11%|█         | 221/2000 [52:00<9:00:09, 18.22s/it]"
     ]
    },
    {
     "name": "stdout",
     "output_type": "stream",
     "text": [
      "Ep. 222, Timestep 279973,  Ep.Timesteps 1600, Score: -41.92, Avg.Score: -36.61, Time: 00:52:07 \n"
     ]
    },
    {
     "name": "stderr",
     "output_type": "stream",
     "text": [
      " 11%|█         | 222/2000 [52:17<8:53:42, 18.01s/it]"
     ]
    },
    {
     "name": "stdout",
     "output_type": "stream",
     "text": [
      "Ep. 223, Timestep 281573,  Ep.Timesteps 1600, Score: -43.28, Avg.Score: -36.61, Time: 00:52:25 \n"
     ]
    },
    {
     "name": "stderr",
     "output_type": "stream",
     "text": [
      " 11%|█         | 223/2000 [52:35<8:50:05, 17.90s/it]"
     ]
    },
    {
     "name": "stdout",
     "output_type": "stream",
     "text": [
      "Ep. 224, Timestep 283173,  Ep.Timesteps 1600, Score: -19.44, Avg.Score: -36.43, Time: 00:52:42 \n"
     ]
    },
    {
     "name": "stderr",
     "output_type": "stream",
     "text": [
      " 11%|█         | 224/2000 [52:53<8:52:33, 17.99s/it]"
     ]
    },
    {
     "name": "stdout",
     "output_type": "stream",
     "text": [
      "Ep. 225, Timestep 284773,  Ep.Timesteps 1600, Score: -27.44, Avg.Score: -36.37, Time: 00:53:01 \n"
     ]
    },
    {
     "name": "stderr",
     "output_type": "stream",
     "text": [
      " 11%|█▏        | 225/2000 [53:12<9:04:40, 18.41s/it]"
     ]
    },
    {
     "name": "stdout",
     "output_type": "stream",
     "text": [
      "Ep. 226, Timestep 286373,  Ep.Timesteps 1600, Score: -28.70, Avg.Score: -36.24, Time: 00:53:20 \n"
     ]
    },
    {
     "name": "stderr",
     "output_type": "stream",
     "text": [
      " 11%|█▏        | 226/2000 [53:31<9:07:37, 18.52s/it]"
     ]
    },
    {
     "name": "stdout",
     "output_type": "stream",
     "text": [
      "Ep. 227, Timestep 287973,  Ep.Timesteps 1600, Score: -23.04, Avg.Score: -35.87, Time: 00:53:39 \n"
     ]
    },
    {
     "name": "stderr",
     "output_type": "stream",
     "text": [
      " 11%|█▏        | 227/2000 [53:50<9:09:45, 18.60s/it]"
     ]
    },
    {
     "name": "stdout",
     "output_type": "stream",
     "text": [
      "Ep. 228, Timestep 289573,  Ep.Timesteps 1600, Score: -34.18, Avg.Score: -35.99, Time: 00:53:57 \n"
     ]
    },
    {
     "name": "stderr",
     "output_type": "stream",
     "text": [
      " 11%|█▏        | 228/2000 [54:09<9:10:57, 18.66s/it]"
     ]
    },
    {
     "name": "stdout",
     "output_type": "stream",
     "text": [
      "Ep. 229, Timestep 291173,  Ep.Timesteps 1600, Score: -41.08, Avg.Score: -35.98, Time: 00:54:16 \n"
     ]
    },
    {
     "name": "stderr",
     "output_type": "stream",
     "text": [
      " 11%|█▏        | 229/2000 [54:26<8:55:26, 18.14s/it]"
     ]
    },
    {
     "name": "stdout",
     "output_type": "stream",
     "text": [
      "Ep. 230, Timestep 292773,  Ep.Timesteps 1600, Score: -32.31, Avg.Score: -35.88, Time: 00:54:33 \n"
     ]
    },
    {
     "name": "stderr",
     "output_type": "stream",
     "text": [
      " 12%|█▏        | 230/2000 [54:44<8:59:13, 18.28s/it]"
     ]
    },
    {
     "name": "stdout",
     "output_type": "stream",
     "text": [
      "Ep. 231, Timestep 294373,  Ep.Timesteps 1600, Score: -29.45, Avg.Score: -35.23, Time: 00:54:52 \n"
     ]
    },
    {
     "name": "stderr",
     "output_type": "stream",
     "text": [
      " 12%|█▏        | 231/2000 [55:01<8:43:18, 17.75s/it]"
     ]
    },
    {
     "name": "stdout",
     "output_type": "stream",
     "text": [
      "Ep. 232, Timestep 295973,  Ep.Timesteps 1600, Score: -31.22, Avg.Score: -35.09, Time: 00:55:08 \n"
     ]
    },
    {
     "name": "stderr",
     "output_type": "stream",
     "text": [
      " 12%|█▏        | 232/2000 [55:19<8:50:26, 18.00s/it]"
     ]
    },
    {
     "name": "stdout",
     "output_type": "stream",
     "text": [
      "Ep. 233, Timestep 297573,  Ep.Timesteps 1600, Score: -26.64, Avg.Score: -34.86, Time: 00:55:27 \n"
     ]
    },
    {
     "name": "stderr",
     "output_type": "stream",
     "text": [
      " 12%|█▏        | 233/2000 [55:37<8:49:02, 17.96s/it]"
     ]
    },
    {
     "name": "stdout",
     "output_type": "stream",
     "text": [
      "Ep. 234, Timestep 299173,  Ep.Timesteps 1600, Score: -24.05, Avg.Score: -34.79, Time: 00:55:44 \n"
     ]
    },
    {
     "name": "stderr",
     "output_type": "stream",
     "text": [
      " 12%|█▏        | 234/2000 [55:53<8:32:51, 17.42s/it]"
     ]
    },
    {
     "name": "stdout",
     "output_type": "stream",
     "text": [
      "Ep. 235, Timestep 300773,  Ep.Timesteps 1600, Score: -24.61, Avg.Score: -34.56, Time: 00:56:01 \n"
     ]
    },
    {
     "name": "stderr",
     "output_type": "stream",
     "text": [
      " 12%|█▏        | 235/2000 [56:12<8:43:20, 17.79s/it]"
     ]
    },
    {
     "name": "stdout",
     "output_type": "stream",
     "text": [
      "Ep. 236, Timestep 302373,  Ep.Timesteps 1600, Score: -33.41, Avg.Score: -33.81, Time: 00:56:20 \n"
     ]
    },
    {
     "name": "stderr",
     "output_type": "stream",
     "text": [
      " 12%|█▏        | 236/2000 [56:31<8:52:47, 18.12s/it]"
     ]
    },
    {
     "name": "stdout",
     "output_type": "stream",
     "text": [
      "Ep. 237, Timestep 303973,  Ep.Timesteps 1600, Score: -21.35, Avg.Score: -33.58, Time: 00:56:39 \n"
     ]
    },
    {
     "name": "stderr",
     "output_type": "stream",
     "text": [
      " 12%|█▏        | 237/2000 [56:50<9:02:09, 18.45s/it]"
     ]
    },
    {
     "name": "stdout",
     "output_type": "stream",
     "text": [
      "Ep. 238, Timestep 305573,  Ep.Timesteps 1600, Score: -17.83, Avg.Score: -33.47, Time: 00:56:58 \n"
     ]
    },
    {
     "name": "stderr",
     "output_type": "stream",
     "text": [
      " 12%|█▏        | 238/2000 [57:09<9:06:40, 18.62s/it]"
     ]
    },
    {
     "name": "stdout",
     "output_type": "stream",
     "text": [
      "Ep. 239, Timestep 307173,  Ep.Timesteps 1600, Score: -25.26, Avg.Score: -33.32, Time: 00:57:17 \n"
     ]
    },
    {
     "name": "stderr",
     "output_type": "stream",
     "text": [
      " 12%|█▏        | 239/2000 [57:28<9:03:42, 18.53s/it]"
     ]
    },
    {
     "name": "stdout",
     "output_type": "stream",
     "text": [
      "Ep. 240, Timestep 308773,  Ep.Timesteps 1600, Score: -19.34, Avg.Score: -33.09, Time: 00:57:35 \n"
     ]
    },
    {
     "name": "stderr",
     "output_type": "stream",
     "text": [
      " 12%|█▏        | 240/2000 [57:46<9:04:14, 18.55s/it]"
     ]
    },
    {
     "name": "stdout",
     "output_type": "stream",
     "text": [
      "Ep. 241, Timestep 310373,  Ep.Timesteps 1600, Score: -26.59, Avg.Score: -33.13, Time: 00:57:54 \n"
     ]
    },
    {
     "name": "stderr",
     "output_type": "stream",
     "text": [
      " 12%|█▏        | 241/2000 [58:05<9:07:46, 18.68s/it]"
     ]
    },
    {
     "name": "stdout",
     "output_type": "stream",
     "text": [
      "Ep. 242, Timestep 311973,  Ep.Timesteps 1600, Score: -32.12, Avg.Score: -33.12, Time: 00:58:13 \n"
     ]
    },
    {
     "name": "stderr",
     "output_type": "stream",
     "text": [
      " 12%|█▏        | 242/2000 [58:24<9:07:04, 18.67s/it]"
     ]
    },
    {
     "name": "stdout",
     "output_type": "stream",
     "text": [
      "Ep. 243, Timestep 313573,  Ep.Timesteps 1600, Score: -20.65, Avg.Score: -33.03, Time: 00:58:31 \n"
     ]
    },
    {
     "name": "stderr",
     "output_type": "stream",
     "text": [
      " 12%|█▏        | 243/2000 [58:42<9:06:38, 18.67s/it]"
     ]
    },
    {
     "name": "stdout",
     "output_type": "stream",
     "text": [
      "Ep. 244, Timestep 315173,  Ep.Timesteps 1600, Score: -35.44, Avg.Score: -33.05, Time: 00:58:50 \n"
     ]
    },
    {
     "name": "stderr",
     "output_type": "stream",
     "text": [
      " 12%|█▏        | 244/2000 [58:59<8:50:56, 18.14s/it]"
     ]
    },
    {
     "name": "stdout",
     "output_type": "stream",
     "text": [
      "Ep. 245, Timestep 316773,  Ep.Timesteps 1600, Score: -7.94, Avg.Score: -32.66, Time: 00:59:07 \n"
     ]
    },
    {
     "name": "stderr",
     "output_type": "stream",
     "text": [
      " 12%|█▏        | 245/2000 [59:17<8:47:20, 18.03s/it]"
     ]
    },
    {
     "name": "stdout",
     "output_type": "stream",
     "text": [
      "Ep. 246, Timestep 318373,  Ep.Timesteps 1600, Score: -15.39, Avg.Score: -32.41, Time: 00:59:25 \n"
     ]
    },
    {
     "name": "stderr",
     "output_type": "stream",
     "text": [
      " 12%|█▏        | 246/2000 [59:36<8:55:47, 18.33s/it]"
     ]
    },
    {
     "name": "stdout",
     "output_type": "stream",
     "text": [
      "Ep. 247, Timestep 319973,  Ep.Timesteps 1600, Score: -18.63, Avg.Score: -32.31, Time: 00:59:44 \n"
     ]
    },
    {
     "name": "stderr",
     "output_type": "stream",
     "text": [
      " 12%|█▏        | 247/2000 [59:54<8:51:16, 18.18s/it]"
     ]
    },
    {
     "name": "stdout",
     "output_type": "stream",
     "text": [
      "Ep. 248, Timestep 321573,  Ep.Timesteps 1600, Score: -30.61, Avg.Score: -32.28, Time: 01:00:02 \n"
     ]
    },
    {
     "name": "stderr",
     "output_type": "stream",
     "text": [
      " 12%|█▏        | 248/2000 [1:00:11<8:40:09, 17.81s/it]"
     ]
    },
    {
     "name": "stdout",
     "output_type": "stream",
     "text": [
      "Ep. 249, Timestep 323173,  Ep.Timesteps 1600, Score: -22.52, Avg.Score: -32.26, Time: 01:00:18 \n"
     ]
    },
    {
     "name": "stderr",
     "output_type": "stream",
     "text": [
      " 12%|█▏        | 249/2000 [1:00:29<8:44:59, 17.99s/it]"
     ]
    },
    {
     "name": "stdout",
     "output_type": "stream",
     "text": [
      "Ep. 250, Timestep 324773,  Ep.Timesteps 1600, Score: -23.27, Avg.Score: -32.27, Time: 01:00:37 \n"
     ]
    },
    {
     "name": "stderr",
     "output_type": "stream",
     "text": [
      " 12%|█▎        | 250/2000 [1:00:48<8:46:49, 18.06s/it]"
     ]
    },
    {
     "name": "stdout",
     "output_type": "stream",
     "text": [
      "Ep. 251, Timestep 326373,  Ep.Timesteps 1600, Score: -21.47, Avg.Score: -32.22, Time: 01:00:55 \n"
     ]
    },
    {
     "name": "stderr",
     "output_type": "stream",
     "text": [
      " 13%|█▎        | 251/2000 [1:01:06<8:46:27, 18.06s/it]"
     ]
    },
    {
     "name": "stdout",
     "output_type": "stream",
     "text": [
      "Ep. 252, Timestep 327973,  Ep.Timesteps 1600, Score: -49.82, Avg.Score: -32.48, Time: 01:01:13 \n"
     ]
    },
    {
     "name": "stderr",
     "output_type": "stream",
     "text": [
      " 13%|█▎        | 252/2000 [1:01:24<8:46:25, 18.07s/it]"
     ]
    },
    {
     "name": "stdout",
     "output_type": "stream",
     "text": [
      "Ep. 253, Timestep 329573,  Ep.Timesteps 1600, Score: -25.55, Avg.Score: -32.47, Time: 01:01:31 \n"
     ]
    },
    {
     "name": "stderr",
     "output_type": "stream",
     "text": [
      " 13%|█▎        | 253/2000 [1:01:41<8:37:32, 17.77s/it]"
     ]
    },
    {
     "name": "stdout",
     "output_type": "stream",
     "text": [
      "Ep. 254, Timestep 331173,  Ep.Timesteps 1600, Score: -34.12, Avg.Score: -31.89, Time: 01:01:48 \n"
     ]
    },
    {
     "name": "stderr",
     "output_type": "stream",
     "text": [
      " 13%|█▎        | 254/2000 [1:02:00<8:47:43, 18.13s/it]"
     ]
    },
    {
     "name": "stdout",
     "output_type": "stream",
     "text": [
      "Ep. 255, Timestep 332773,  Ep.Timesteps 1600, Score: -32.41, Avg.Score: -31.86, Time: 01:02:07 \n"
     ]
    },
    {
     "name": "stderr",
     "output_type": "stream",
     "text": [
      " 13%|█▎        | 255/2000 [1:02:18<8:52:18, 18.30s/it]"
     ]
    },
    {
     "name": "stdout",
     "output_type": "stream",
     "text": [
      "Ep. 256, Timestep 334373,  Ep.Timesteps 1600, Score: -29.11, Avg.Score: -31.75, Time: 01:02:26 \n"
     ]
    },
    {
     "name": "stderr",
     "output_type": "stream",
     "text": [
      " 13%|█▎        | 256/2000 [1:02:36<8:48:44, 18.19s/it]"
     ]
    },
    {
     "name": "stdout",
     "output_type": "stream",
     "text": [
      "Ep. 257, Timestep 335973,  Ep.Timesteps 1600, Score: -25.04, Avg.Score: -31.48, Time: 01:02:44 \n"
     ]
    },
    {
     "name": "stderr",
     "output_type": "stream",
     "text": [
      " 13%|█▎        | 257/2000 [1:02:55<8:53:42, 18.37s/it]"
     ]
    },
    {
     "name": "stdout",
     "output_type": "stream",
     "text": [
      "Ep. 258, Timestep 337573,  Ep.Timesteps 1600, Score: -22.53, Avg.Score: -31.22, Time: 01:03:03 \n"
     ]
    },
    {
     "name": "stderr",
     "output_type": "stream",
     "text": [
      " 13%|█▎        | 258/2000 [1:03:14<8:53:56, 18.39s/it]"
     ]
    },
    {
     "name": "stdout",
     "output_type": "stream",
     "text": [
      "Ep. 259, Timestep 339173,  Ep.Timesteps 1600, Score: -34.23, Avg.Score: -31.10, Time: 01:03:21 \n"
     ]
    },
    {
     "name": "stderr",
     "output_type": "stream",
     "text": [
      " 13%|█▎        | 259/2000 [1:03:31<8:48:39, 18.22s/it]"
     ]
    },
    {
     "name": "stdout",
     "output_type": "stream",
     "text": [
      "Ep. 260, Timestep 340773,  Ep.Timesteps 1600, Score: -24.20, Avg.Score: -30.86, Time: 01:03:39 \n"
     ]
    },
    {
     "name": "stderr",
     "output_type": "stream",
     "text": [
      " 13%|█▎        | 260/2000 [1:03:49<8:42:03, 18.00s/it]"
     ]
    },
    {
     "name": "stdout",
     "output_type": "stream",
     "text": [
      "Ep. 261, Timestep 342373,  Ep.Timesteps 1600, Score: -27.02, Avg.Score: -30.90, Time: 01:03:57 \n"
     ]
    },
    {
     "name": "stderr",
     "output_type": "stream",
     "text": [
      " 13%|█▎        | 261/2000 [1:04:07<8:43:01, 18.05s/it]"
     ]
    },
    {
     "name": "stdout",
     "output_type": "stream",
     "text": [
      "Ep. 262, Timestep 343973,  Ep.Timesteps 1600, Score: -18.58, Avg.Score: -30.78, Time: 01:04:15 \n"
     ]
    },
    {
     "name": "stderr",
     "output_type": "stream",
     "text": [
      " 13%|█▎        | 262/2000 [1:04:26<8:51:05, 18.33s/it]"
     ]
    },
    {
     "name": "stdout",
     "output_type": "stream",
     "text": [
      "Ep. 263, Timestep 345573,  Ep.Timesteps 1600, Score: -23.45, Avg.Score: -30.74, Time: 01:04:34 \n"
     ]
    },
    {
     "name": "stderr",
     "output_type": "stream",
     "text": [
      " 13%|█▎        | 263/2000 [1:04:43<8:38:22, 17.91s/it]"
     ]
    },
    {
     "name": "stdout",
     "output_type": "stream",
     "text": [
      "Ep. 264, Timestep 347173,  Ep.Timesteps 1600, Score: -21.19, Avg.Score: -30.51, Time: 01:04:50 \n"
     ]
    },
    {
     "name": "stderr",
     "output_type": "stream",
     "text": [
      " 13%|█▎        | 264/2000 [1:05:00<8:26:57, 17.52s/it]"
     ]
    },
    {
     "name": "stdout",
     "output_type": "stream",
     "text": [
      "Ep. 265, Timestep 348773,  Ep.Timesteps 1600, Score: -10.61, Avg.Score: -30.25, Time: 01:05:07 \n"
     ]
    },
    {
     "name": "stderr",
     "output_type": "stream",
     "text": [
      " 13%|█▎        | 265/2000 [1:05:16<8:13:22, 17.06s/it]"
     ]
    },
    {
     "name": "stdout",
     "output_type": "stream",
     "text": [
      "Ep. 266, Timestep 350373,  Ep.Timesteps 1600, Score: -17.68, Avg.Score: -30.02, Time: 01:05:23 \n"
     ]
    },
    {
     "name": "stderr",
     "output_type": "stream",
     "text": [
      " 13%|█▎        | 266/2000 [1:05:33<8:17:25, 17.21s/it]"
     ]
    },
    {
     "name": "stdout",
     "output_type": "stream",
     "text": [
      "Ep. 267, Timestep 351973,  Ep.Timesteps 1600, Score: -17.69, Avg.Score: -29.71, Time: 01:05:41 \n"
     ]
    },
    {
     "name": "stderr",
     "output_type": "stream",
     "text": [
      " 13%|█▎        | 267/2000 [1:05:52<8:34:52, 17.83s/it]"
     ]
    },
    {
     "name": "stdout",
     "output_type": "stream",
     "text": [
      "Ep. 268, Timestep 353573,  Ep.Timesteps 1600, Score: -17.48, Avg.Score: -29.58, Time: 01:06:00 \n"
     ]
    },
    {
     "name": "stderr",
     "output_type": "stream",
     "text": [
      " 13%|█▎        | 268/2000 [1:06:12<8:52:29, 18.45s/it]"
     ]
    },
    {
     "name": "stdout",
     "output_type": "stream",
     "text": [
      "Ep. 269, Timestep 355173,  Ep.Timesteps 1600, Score: -30.59, Avg.Score: -29.51, Time: 01:06:20 \n"
     ]
    },
    {
     "name": "stderr",
     "output_type": "stream",
     "text": [
      " 13%|█▎        | 269/2000 [1:06:32<9:04:40, 18.88s/it]"
     ]
    },
    {
     "name": "stdout",
     "output_type": "stream",
     "text": [
      "Ep. 270, Timestep 356773,  Ep.Timesteps 1600, Score: -17.69, Avg.Score: -29.26, Time: 01:06:40 \n"
     ]
    },
    {
     "name": "stderr",
     "output_type": "stream",
     "text": [
      " 14%|█▎        | 270/2000 [1:06:52<9:09:50, 19.07s/it]"
     ]
    },
    {
     "name": "stdout",
     "output_type": "stream",
     "text": [
      "Ep. 271, Timestep 358373,  Ep.Timesteps 1600, Score: -30.65, Avg.Score: -29.12, Time: 01:06:59 \n"
     ]
    },
    {
     "name": "stderr",
     "output_type": "stream",
     "text": [
      " 14%|█▎        | 271/2000 [1:07:09<8:54:01, 18.53s/it]"
     ]
    },
    {
     "name": "stdout",
     "output_type": "stream",
     "text": [
      "Ep. 272, Timestep 359973,  Ep.Timesteps 1600, Score: -28.33, Avg.Score: -29.08, Time: 01:07:17 \n"
     ]
    },
    {
     "name": "stderr",
     "output_type": "stream",
     "text": [
      " 14%|█▎        | 272/2000 [1:07:27<8:49:56, 18.40s/it]"
     ]
    },
    {
     "name": "stdout",
     "output_type": "stream",
     "text": [
      "Ep. 273, Timestep 361573,  Ep.Timesteps 1600, Score: -25.13, Avg.Score: -29.05, Time: 01:07:35 \n"
     ]
    },
    {
     "name": "stderr",
     "output_type": "stream",
     "text": [
      " 14%|█▎        | 273/2000 [1:07:46<8:52:34, 18.50s/it]"
     ]
    },
    {
     "name": "stdout",
     "output_type": "stream",
     "text": [
      "Ep. 274, Timestep 363173,  Ep.Timesteps 1600, Score: -46.98, Avg.Score: -28.93, Time: 01:07:54 \n"
     ]
    },
    {
     "name": "stderr",
     "output_type": "stream",
     "text": [
      " 14%|█▎        | 274/2000 [1:08:05<8:58:47, 18.73s/it]"
     ]
    },
    {
     "name": "stdout",
     "output_type": "stream",
     "text": [
      "Ep. 275, Timestep 364773,  Ep.Timesteps 1600, Score: -33.00, Avg.Score: -28.76, Time: 01:08:13 \n"
     ]
    },
    {
     "name": "stderr",
     "output_type": "stream",
     "text": [
      " 14%|█▍        | 275/2000 [1:08:24<8:58:52, 18.74s/it]"
     ]
    },
    {
     "name": "stdout",
     "output_type": "stream",
     "text": [
      "Ep. 276, Timestep 366373,  Ep.Timesteps 1600, Score: -37.11, Avg.Score: -28.70, Time: 01:08:32 \n"
     ]
    },
    {
     "name": "stderr",
     "output_type": "stream",
     "text": [
      " 14%|█▍        | 276/2000 [1:08:42<8:52:02, 18.52s/it]"
     ]
    },
    {
     "name": "stdout",
     "output_type": "stream",
     "text": [
      "Ep. 277, Timestep 367973,  Ep.Timesteps 1600, Score: -48.12, Avg.Score: -28.78, Time: 01:08:50 \n"
     ]
    },
    {
     "name": "stderr",
     "output_type": "stream",
     "text": [
      " 14%|█▍        | 277/2000 [1:09:00<8:50:01, 18.46s/it]"
     ]
    },
    {
     "name": "stdout",
     "output_type": "stream",
     "text": [
      "Ep. 278, Timestep 369573,  Ep.Timesteps 1600, Score: -20.95, Avg.Score: -28.71, Time: 01:09:08 \n"
     ]
    },
    {
     "name": "stderr",
     "output_type": "stream",
     "text": [
      " 14%|█▍        | 278/2000 [1:09:18<8:45:32, 18.31s/it]"
     ]
    },
    {
     "name": "stdout",
     "output_type": "stream",
     "text": [
      "Ep. 279, Timestep 371173,  Ep.Timesteps 1600, Score: -32.21, Avg.Score: -28.89, Time: 01:09:26 \n"
     ]
    },
    {
     "name": "stderr",
     "output_type": "stream",
     "text": [
      " 14%|█▍        | 279/2000 [1:09:35<8:35:55, 17.99s/it]"
     ]
    },
    {
     "name": "stdout",
     "output_type": "stream",
     "text": [
      "Ep. 280, Timestep 372773,  Ep.Timesteps 1600, Score: -39.82, Avg.Score: -29.15, Time: 01:09:43 \n"
     ]
    },
    {
     "name": "stderr",
     "output_type": "stream",
     "text": [
      " 14%|█▍        | 280/2000 [1:09:54<8:40:14, 18.15s/it]"
     ]
    },
    {
     "name": "stdout",
     "output_type": "stream",
     "text": [
      "Ep. 281, Timestep 374373,  Ep.Timesteps 1600, Score: -26.57, Avg.Score: -29.24, Time: 01:10:02 \n"
     ]
    },
    {
     "name": "stderr",
     "output_type": "stream",
     "text": [
      " 14%|█▍        | 281/2000 [1:10:12<8:36:34, 18.03s/it]"
     ]
    },
    {
     "name": "stdout",
     "output_type": "stream",
     "text": [
      "Ep. 282, Timestep 375973,  Ep.Timesteps 1600, Score: -22.45, Avg.Score: -29.27, Time: 01:10:19 \n"
     ]
    },
    {
     "name": "stderr",
     "output_type": "stream",
     "text": [
      " 14%|█▍        | 282/2000 [1:10:29<8:27:23, 17.72s/it]"
     ]
    },
    {
     "name": "stdout",
     "output_type": "stream",
     "text": [
      "Ep. 283, Timestep 377573,  Ep.Timesteps 1600, Score: -18.54, Avg.Score: -29.27, Time: 01:10:36 \n"
     ]
    },
    {
     "name": "stderr",
     "output_type": "stream",
     "text": [
      " 14%|█▍        | 283/2000 [1:10:46<8:26:34, 17.70s/it]"
     ]
    },
    {
     "name": "stdout",
     "output_type": "stream",
     "text": [
      "Ep. 284, Timestep 379173,  Ep.Timesteps 1600, Score: -22.33, Avg.Score: -29.17, Time: 01:10:54 \n"
     ]
    },
    {
     "name": "stderr",
     "output_type": "stream",
     "text": [
      " 14%|█▍        | 284/2000 [1:11:04<8:27:02, 17.73s/it]"
     ]
    },
    {
     "name": "stdout",
     "output_type": "stream",
     "text": [
      "Ep. 285, Timestep 380773,  Ep.Timesteps 1600, Score: -29.65, Avg.Score: -29.14, Time: 01:11:11 \n"
     ]
    },
    {
     "name": "stderr",
     "output_type": "stream",
     "text": [
      " 14%|█▍        | 285/2000 [1:11:23<8:35:41, 18.04s/it]"
     ]
    },
    {
     "name": "stdout",
     "output_type": "stream",
     "text": [
      "Ep. 286, Timestep 382373,  Ep.Timesteps 1600, Score: -18.21, Avg.Score: -28.97, Time: 01:11:30 \n"
     ]
    },
    {
     "name": "stderr",
     "output_type": "stream",
     "text": [
      " 14%|█▍        | 286/2000 [1:11:41<8:33:18, 17.97s/it]"
     ]
    },
    {
     "name": "stdout",
     "output_type": "stream",
     "text": [
      "Ep. 287, Timestep 383973,  Ep.Timesteps 1600, Score: -23.90, Avg.Score: -28.74, Time: 01:11:48 \n"
     ]
    },
    {
     "name": "stderr",
     "output_type": "stream",
     "text": [
      " 14%|█▍        | 287/2000 [1:11:59<8:38:45, 18.17s/it]"
     ]
    },
    {
     "name": "stdout",
     "output_type": "stream",
     "text": [
      "Ep. 288, Timestep 385573,  Ep.Timesteps 1600, Score: -21.84, Avg.Score: -28.50, Time: 01:12:07 \n"
     ]
    },
    {
     "name": "stderr",
     "output_type": "stream",
     "text": [
      " 14%|█▍        | 288/2000 [1:12:18<8:44:45, 18.39s/it]"
     ]
    },
    {
     "name": "stdout",
     "output_type": "stream",
     "text": [
      "Ep. 289, Timestep 387173,  Ep.Timesteps 1600, Score: -18.00, Avg.Score: -28.39, Time: 01:12:26 \n"
     ]
    },
    {
     "name": "stderr",
     "output_type": "stream",
     "text": [
      " 14%|█▍        | 289/2000 [1:12:37<8:50:32, 18.60s/it]"
     ]
    },
    {
     "name": "stdout",
     "output_type": "stream",
     "text": [
      "Ep. 290, Timestep 388773,  Ep.Timesteps 1600, Score: -15.64, Avg.Score: -28.13, Time: 01:12:45 \n"
     ]
    },
    {
     "name": "stderr",
     "output_type": "stream",
     "text": [
      " 14%|█▍        | 290/2000 [1:12:55<8:44:52, 18.42s/it]"
     ]
    },
    {
     "name": "stdout",
     "output_type": "stream",
     "text": [
      "Ep. 291, Timestep 390373,  Ep.Timesteps 1600, Score: -19.38, Avg.Score: -27.79, Time: 01:13:03 \n"
     ]
    },
    {
     "name": "stderr",
     "output_type": "stream",
     "text": [
      " 15%|█▍        | 291/2000 [1:13:14<8:48:12, 18.54s/it]"
     ]
    },
    {
     "name": "stdout",
     "output_type": "stream",
     "text": [
      "Ep. 292, Timestep 391973,  Ep.Timesteps 1600, Score: -22.61, Avg.Score: -27.74, Time: 01:13:22 \n"
     ]
    },
    {
     "name": "stderr",
     "output_type": "stream",
     "text": [
      " 15%|█▍        | 292/2000 [1:13:32<8:45:50, 18.47s/it]"
     ]
    },
    {
     "name": "stdout",
     "output_type": "stream",
     "text": [
      "Ep. 293, Timestep 393573,  Ep.Timesteps 1600, Score: -19.67, Avg.Score: -27.51, Time: 01:13:40 \n"
     ]
    },
    {
     "name": "stderr",
     "output_type": "stream",
     "text": [
      " 15%|█▍        | 293/2000 [1:13:51<8:43:01, 18.38s/it]"
     ]
    },
    {
     "name": "stdout",
     "output_type": "stream",
     "text": [
      "Ep. 294, Timestep 395173,  Ep.Timesteps 1600, Score: -40.36, Avg.Score: -27.52, Time: 01:13:58 \n"
     ]
    },
    {
     "name": "stderr",
     "output_type": "stream",
     "text": [
      " 15%|█▍        | 294/2000 [1:14:09<8:39:33, 18.27s/it]"
     ]
    },
    {
     "name": "stdout",
     "output_type": "stream",
     "text": [
      "Ep. 295, Timestep 396773,  Ep.Timesteps 1600, Score: -36.77, Avg.Score: -27.47, Time: 01:14:16 \n"
     ]
    },
    {
     "name": "stderr",
     "output_type": "stream",
     "text": [
      " 15%|█▍        | 295/2000 [1:14:28<8:46:34, 18.53s/it]"
     ]
    },
    {
     "name": "stdout",
     "output_type": "stream",
     "text": [
      "Ep. 296, Timestep 398373,  Ep.Timesteps 1600, Score: -34.06, Avg.Score: -27.53, Time: 01:14:35 \n"
     ]
    },
    {
     "name": "stderr",
     "output_type": "stream",
     "text": [
      " 15%|█▍        | 296/2000 [1:14:47<8:50:27, 18.68s/it]"
     ]
    },
    {
     "name": "stdout",
     "output_type": "stream",
     "text": [
      "Ep. 297, Timestep 399973,  Ep.Timesteps 1600, Score: -35.41, Avg.Score: -27.53, Time: 01:14:55 \n"
     ]
    },
    {
     "name": "stderr",
     "output_type": "stream",
     "text": [
      " 15%|█▍        | 297/2000 [1:15:06<8:51:02, 18.71s/it]"
     ]
    },
    {
     "name": "stdout",
     "output_type": "stream",
     "text": [
      "Ep. 298, Timestep 401573,  Ep.Timesteps 1600, Score: -42.08, Avg.Score: -27.54, Time: 01:15:13 \n"
     ]
    },
    {
     "name": "stderr",
     "output_type": "stream",
     "text": [
      " 15%|█▍        | 298/2000 [1:15:24<8:48:11, 18.62s/it]"
     ]
    },
    {
     "name": "stdout",
     "output_type": "stream",
     "text": [
      "Ep. 299, Timestep 403173,  Ep.Timesteps 1600, Score: -34.39, Avg.Score: -27.67, Time: 01:15:32 \n"
     ]
    },
    {
     "name": "stderr",
     "output_type": "stream",
     "text": [
      " 15%|█▍        | 299/2000 [1:15:43<8:49:09, 18.67s/it]"
     ]
    },
    {
     "name": "stdout",
     "output_type": "stream",
     "text": [
      "Ep. 300, Timestep 404773,  Ep.Timesteps 1600, Score: -42.02, Avg.Score: -27.93, Time: 01:15:51 \n"
     ]
    },
    {
     "name": "stderr",
     "output_type": "stream",
     "text": [
      " 15%|█▌        | 300/2000 [1:16:02<8:51:42, 18.77s/it]"
     ]
    },
    {
     "name": "stdout",
     "output_type": "stream",
     "text": [
      "Ep. 301, Timestep 406373,  Ep.Timesteps 1600, Score: -30.04, Avg.Score: -27.94, Time: 01:16:09 \n"
     ]
    },
    {
     "name": "stderr",
     "output_type": "stream",
     "text": [
      " 15%|█▌        | 301/2000 [1:16:20<8:46:54, 18.61s/it]"
     ]
    },
    {
     "name": "stdout",
     "output_type": "stream",
     "text": [
      "Ep. 302, Timestep 407973,  Ep.Timesteps 1600, Score: -34.60, Avg.Score: -27.85, Time: 01:16:28 \n"
     ]
    },
    {
     "name": "stderr",
     "output_type": "stream",
     "text": [
      " 15%|█▌        | 302/2000 [1:16:38<8:39:53, 18.37s/it]"
     ]
    },
    {
     "name": "stdout",
     "output_type": "stream",
     "text": [
      "Ep. 303, Timestep 409573,  Ep.Timesteps 1600, Score: -21.59, Avg.Score: -27.78, Time: 01:16:46 \n"
     ]
    },
    {
     "name": "stderr",
     "output_type": "stream",
     "text": [
      " 15%|█▌        | 303/2000 [1:16:56<8:40:31, 18.40s/it]"
     ]
    },
    {
     "name": "stdout",
     "output_type": "stream",
     "text": [
      "Ep. 304, Timestep 411173,  Ep.Timesteps 1600, Score: -30.88, Avg.Score: -27.64, Time: 01:17:04 \n"
     ]
    },
    {
     "name": "stderr",
     "output_type": "stream",
     "text": [
      " 15%|█▌        | 304/2000 [1:17:15<8:40:01, 18.40s/it]"
     ]
    },
    {
     "name": "stdout",
     "output_type": "stream",
     "text": [
      "Ep. 305, Timestep 412773,  Ep.Timesteps 1600, Score: -24.55, Avg.Score: -27.59, Time: 01:17:22 \n"
     ]
    },
    {
     "name": "stderr",
     "output_type": "stream",
     "text": [
      " 15%|█▌        | 305/2000 [1:17:34<8:43:49, 18.54s/it]"
     ]
    },
    {
     "name": "stdout",
     "output_type": "stream",
     "text": [
      "Ep. 306, Timestep 414373,  Ep.Timesteps 1600, Score: -38.00, Avg.Score: -27.70, Time: 01:17:41 \n"
     ]
    },
    {
     "name": "stderr",
     "output_type": "stream",
     "text": [
      " 15%|█▌        | 306/2000 [1:17:52<8:38:54, 18.38s/it]"
     ]
    },
    {
     "name": "stdout",
     "output_type": "stream",
     "text": [
      "Ep. 307, Timestep 415973,  Ep.Timesteps 1600, Score: -39.71, Avg.Score: -27.91, Time: 01:17:59 \n"
     ]
    },
    {
     "name": "stderr",
     "output_type": "stream",
     "text": [
      " 15%|█▌        | 307/2000 [1:18:09<8:28:37, 18.03s/it]"
     ]
    },
    {
     "name": "stdout",
     "output_type": "stream",
     "text": [
      "Ep. 308, Timestep 417573,  Ep.Timesteps 1600, Score: -24.97, Avg.Score: -27.88, Time: 01:18:16 \n"
     ]
    },
    {
     "name": "stderr",
     "output_type": "stream",
     "text": [
      " 15%|█▌        | 308/2000 [1:18:27<8:30:42, 18.11s/it]"
     ]
    },
    {
     "name": "stdout",
     "output_type": "stream",
     "text": [
      "Ep. 309, Timestep 419173,  Ep.Timesteps 1600, Score: -23.88, Avg.Score: -27.93, Time: 01:18:34 \n"
     ]
    },
    {
     "name": "stderr",
     "output_type": "stream",
     "text": [
      " 15%|█▌        | 309/2000 [1:18:45<8:27:19, 18.00s/it]"
     ]
    },
    {
     "name": "stdout",
     "output_type": "stream",
     "text": [
      "Ep. 310, Timestep 420773,  Ep.Timesteps 1600, Score: -45.53, Avg.Score: -28.16, Time: 01:18:52 \n"
     ]
    },
    {
     "name": "stderr",
     "output_type": "stream",
     "text": [
      " 16%|█▌        | 310/2000 [1:19:03<8:30:09, 18.11s/it]"
     ]
    },
    {
     "name": "stdout",
     "output_type": "stream",
     "text": [
      "Ep. 311, Timestep 422373,  Ep.Timesteps 1600, Score: -25.76, Avg.Score: -28.16, Time: 01:19:11 \n"
     ]
    },
    {
     "name": "stderr",
     "output_type": "stream",
     "text": [
      " 16%|█▌        | 311/2000 [1:19:20<8:21:44, 17.82s/it]"
     ]
    },
    {
     "name": "stdout",
     "output_type": "stream",
     "text": [
      "Ep. 312, Timestep 423973,  Ep.Timesteps 1600, Score: -33.54, Avg.Score: -28.11, Time: 01:19:28 \n"
     ]
    },
    {
     "name": "stderr",
     "output_type": "stream",
     "text": [
      " 16%|█▌        | 312/2000 [1:19:40<8:36:30, 18.36s/it]"
     ]
    },
    {
     "name": "stdout",
     "output_type": "stream",
     "text": [
      "Ep. 313, Timestep 425573,  Ep.Timesteps 1600, Score: -33.25, Avg.Score: -28.17, Time: 01:19:47 \n"
     ]
    },
    {
     "name": "stderr",
     "output_type": "stream",
     "text": [
      " 16%|█▌        | 313/2000 [1:19:59<8:40:59, 18.53s/it]"
     ]
    },
    {
     "name": "stdout",
     "output_type": "stream",
     "text": [
      "Ep. 314, Timestep 427173,  Ep.Timesteps 1600, Score: -32.60, Avg.Score: -28.17, Time: 01:20:06 \n"
     ]
    },
    {
     "name": "stderr",
     "output_type": "stream",
     "text": [
      " 16%|█▌        | 314/2000 [1:20:18<8:49:24, 18.84s/it]"
     ]
    },
    {
     "name": "stdout",
     "output_type": "stream",
     "text": [
      "Ep. 315, Timestep 428773,  Ep.Timesteps 1600, Score: -47.63, Avg.Score: -28.33, Time: 01:20:26 \n"
     ]
    },
    {
     "name": "stderr",
     "output_type": "stream",
     "text": [
      " 16%|█▌        | 315/2000 [1:20:35<8:29:37, 18.15s/it]"
     ]
    },
    {
     "name": "stdout",
     "output_type": "stream",
     "text": [
      "Ep. 316, Timestep 430373,  Ep.Timesteps 1600, Score: -51.54, Avg.Score: -28.61, Time: 01:20:42 \n"
     ]
    },
    {
     "name": "stderr",
     "output_type": "stream",
     "text": [
      " 16%|█▌        | 316/2000 [1:20:52<8:17:05, 17.71s/it]"
     ]
    },
    {
     "name": "stdout",
     "output_type": "stream",
     "text": [
      "Ep. 317, Timestep 431973,  Ep.Timesteps 1600, Score: -55.10, Avg.Score: -28.88, Time: 01:20:59 \n"
     ]
    },
    {
     "name": "stderr",
     "output_type": "stream",
     "text": [
      " 16%|█▌        | 317/2000 [1:21:10<8:19:27, 17.81s/it]"
     ]
    },
    {
     "name": "stdout",
     "output_type": "stream",
     "text": [
      "Ep. 318, Timestep 433573,  Ep.Timesteps 1600, Score: -54.55, Avg.Score: -29.19, Time: 01:21:17 \n"
     ]
    },
    {
     "name": "stderr",
     "output_type": "stream",
     "text": [
      " 16%|█▌        | 318/2000 [1:21:29<8:27:56, 18.12s/it]"
     ]
    },
    {
     "name": "stdout",
     "output_type": "stream",
     "text": [
      "Ep. 319, Timestep 435173,  Ep.Timesteps 1600, Score: -32.26, Avg.Score: -29.21, Time: 01:21:36 \n"
     ]
    },
    {
     "name": "stderr",
     "output_type": "stream",
     "text": [
      " 16%|█▌        | 319/2000 [1:21:47<8:31:41, 18.26s/it]"
     ]
    },
    {
     "name": "stdout",
     "output_type": "stream",
     "text": [
      "Ep. 320, Timestep 436773,  Ep.Timesteps 1600, Score: -23.09, Avg.Score: -29.15, Time: 01:21:54 \n"
     ]
    },
    {
     "name": "stderr",
     "output_type": "stream",
     "text": [
      " 16%|█▌        | 320/2000 [1:22:06<8:33:04, 18.32s/it]"
     ]
    },
    {
     "name": "stdout",
     "output_type": "stream",
     "text": [
      "Ep. 321, Timestep 438373,  Ep.Timesteps 1600, Score: -18.50, Avg.Score: -28.86, Time: 01:22:13 \n"
     ]
    },
    {
     "name": "stderr",
     "output_type": "stream",
     "text": [
      " 16%|█▌        | 321/2000 [1:22:23<8:26:35, 18.10s/it]"
     ]
    },
    {
     "name": "stdout",
     "output_type": "stream",
     "text": [
      "Ep. 322, Timestep 438508,  Ep.Timesteps 135, Score: -130.88, Avg.Score: -29.75, Time: 01:22:27 \n"
     ]
    },
    {
     "name": "stderr",
     "output_type": "stream",
     "text": [
      " 16%|█▌        | 322/2000 [1:22:25<6:09:38, 13.22s/it]"
     ]
    },
    {
     "name": "stdout",
     "output_type": "stream",
     "text": [
      "Ep. 323, Timestep 440108,  Ep.Timesteps 1600, Score: -122.15, Avg.Score: -30.54, Time: 01:22:32 \n"
     ]
    },
    {
     "name": "stderr",
     "output_type": "stream",
     "text": [
      " 16%|█▌        | 323/2000 [1:22:43<6:53:31, 14.80s/it]"
     ]
    },
    {
     "name": "stdout",
     "output_type": "stream",
     "text": [
      "Ep. 324, Timestep 441708,  Ep.Timesteps 1600, Score: -21.24, Avg.Score: -30.56, Time: 01:22:51 \n"
     ]
    },
    {
     "name": "stderr",
     "output_type": "stream",
     "text": [
      " 16%|█▌        | 324/2000 [1:23:00<7:09:40, 15.38s/it]"
     ]
    },
    {
     "name": "stdout",
     "output_type": "stream",
     "text": [
      "Ep. 325, Timestep 443308,  Ep.Timesteps 1600, Score: -23.22, Avg.Score: -30.51, Time: 01:23:06 \n"
     ]
    },
    {
     "name": "stderr",
     "output_type": "stream",
     "text": [
      " 16%|█▋        | 325/2000 [1:23:17<7:18:38, 15.71s/it]"
     ]
    },
    {
     "name": "stdout",
     "output_type": "stream",
     "text": [
      "Ep. 326, Timestep 444908,  Ep.Timesteps 1600, Score: -26.24, Avg.Score: -30.49, Time: 01:23:23 \n"
     ]
    },
    {
     "name": "stderr",
     "output_type": "stream",
     "text": [
      " 16%|█▋        | 326/2000 [1:23:33<7:26:54, 16.02s/it]"
     ]
    },
    {
     "name": "stdout",
     "output_type": "stream",
     "text": [
      "Ep. 327, Timestep 446508,  Ep.Timesteps 1600, Score: -52.00, Avg.Score: -30.78, Time: 01:23:40 \n"
     ]
    },
    {
     "name": "stderr",
     "output_type": "stream",
     "text": [
      " 16%|█▋        | 327/2000 [1:23:49<7:24:49, 15.95s/it]"
     ]
    },
    {
     "name": "stdout",
     "output_type": "stream",
     "text": [
      "Ep. 328, Timestep 448108,  Ep.Timesteps 1600, Score: -56.04, Avg.Score: -31.00, Time: 01:23:55 \n"
     ]
    },
    {
     "name": "stderr",
     "output_type": "stream",
     "text": [
      " 16%|█▋        | 328/2000 [1:24:06<7:30:47, 16.18s/it]"
     ]
    },
    {
     "name": "stdout",
     "output_type": "stream",
     "text": [
      "Ep. 329, Timestep 449708,  Ep.Timesteps 1600, Score: -91.19, Avg.Score: -31.50, Time: 01:24:12 \n"
     ]
    },
    {
     "name": "stderr",
     "output_type": "stream",
     "text": [
      " 16%|█▋        | 329/2000 [1:24:22<7:26:01, 16.02s/it]"
     ]
    },
    {
     "name": "stdout",
     "output_type": "stream",
     "text": [
      "Ep. 330, Timestep 451308,  Ep.Timesteps 1600, Score: -32.44, Avg.Score: -31.50, Time: 01:24:28 \n"
     ]
    },
    {
     "name": "stderr",
     "output_type": "stream",
     "text": [
      " 16%|█▋        | 330/2000 [1:24:37<7:17:50, 15.73s/it]"
     ]
    },
    {
     "name": "stdout",
     "output_type": "stream",
     "text": [
      "Ep. 331, Timestep 452908,  Ep.Timesteps 1600, Score: -31.64, Avg.Score: -31.52, Time: 01:24:43 \n"
     ]
    },
    {
     "name": "stderr",
     "output_type": "stream",
     "text": [
      " 17%|█▋        | 331/2000 [1:24:53<7:20:19, 15.83s/it]"
     ]
    },
    {
     "name": "stdout",
     "output_type": "stream",
     "text": [
      "Ep. 332, Timestep 454508,  Ep.Timesteps 1600, Score: -54.60, Avg.Score: -31.75, Time: 01:24:59 \n"
     ]
    },
    {
     "name": "stderr",
     "output_type": "stream",
     "text": [
      " 17%|█▋        | 332/2000 [1:25:08<7:17:33, 15.74s/it]"
     ]
    },
    {
     "name": "stdout",
     "output_type": "stream",
     "text": [
      "Ep. 333, Timestep 456108,  Ep.Timesteps 1600, Score: -29.30, Avg.Score: -31.78, Time: 01:25:14 \n"
     ]
    },
    {
     "name": "stderr",
     "output_type": "stream",
     "text": [
      " 17%|█▋        | 333/2000 [1:25:24<7:16:40, 15.72s/it]"
     ]
    },
    {
     "name": "stdout",
     "output_type": "stream",
     "text": [
      "Ep. 334, Timestep 457708,  Ep.Timesteps 1600, Score: -33.42, Avg.Score: -31.88, Time: 01:25:30 \n"
     ]
    },
    {
     "name": "stderr",
     "output_type": "stream",
     "text": [
      " 17%|█▋        | 334/2000 [1:25:39<7:11:23, 15.54s/it]"
     ]
    },
    {
     "name": "stdout",
     "output_type": "stream",
     "text": [
      "Ep. 335, Timestep 459308,  Ep.Timesteps 1600, Score: -29.71, Avg.Score: -31.93, Time: 01:25:45 \n"
     ]
    },
    {
     "name": "stderr",
     "output_type": "stream",
     "text": [
      " 17%|█▋        | 335/2000 [1:25:55<7:13:05, 15.61s/it]"
     ]
    },
    {
     "name": "stdout",
     "output_type": "stream",
     "text": [
      "Ep. 336, Timestep 460908,  Ep.Timesteps 1600, Score: -28.59, Avg.Score: -31.88, Time: 01:26:01 \n"
     ]
    },
    {
     "name": "stderr",
     "output_type": "stream",
     "text": [
      " 17%|█▋        | 336/2000 [1:26:08<6:54:30, 14.95s/it]"
     ]
    },
    {
     "name": "stdout",
     "output_type": "stream",
     "text": [
      "Ep. 337, Timestep 462508,  Ep.Timesteps 1600, Score: -37.26, Avg.Score: -32.04, Time: 01:26:14 \n"
     ]
    },
    {
     "name": "stderr",
     "output_type": "stream",
     "text": [
      " 17%|█▋        | 337/2000 [1:26:24<7:04:21, 15.31s/it]"
     ]
    },
    {
     "name": "stdout",
     "output_type": "stream",
     "text": [
      "Ep. 338, Timestep 464108,  Ep.Timesteps 1600, Score: -32.50, Avg.Score: -32.18, Time: 01:26:30 \n"
     ]
    },
    {
     "name": "stderr",
     "output_type": "stream",
     "text": [
      " 17%|█▋        | 338/2000 [1:26:40<7:03:32, 15.29s/it]"
     ]
    },
    {
     "name": "stdout",
     "output_type": "stream",
     "text": [
      "Ep. 339, Timestep 465708,  Ep.Timesteps 1600, Score: -41.96, Avg.Score: -32.35, Time: 01:26:45 \n"
     ]
    },
    {
     "name": "stderr",
     "output_type": "stream",
     "text": [
      " 17%|█▋        | 339/2000 [1:26:55<7:00:35, 15.19s/it]"
     ]
    },
    {
     "name": "stdout",
     "output_type": "stream",
     "text": [
      "Ep. 340, Timestep 467308,  Ep.Timesteps 1600, Score: -23.75, Avg.Score: -32.39, Time: 01:27:01 \n"
     ]
    },
    {
     "name": "stderr",
     "output_type": "stream",
     "text": [
      " 17%|█▋        | 340/2000 [1:27:10<6:59:07, 15.15s/it]"
     ]
    },
    {
     "name": "stdout",
     "output_type": "stream",
     "text": [
      "Ep. 341, Timestep 468908,  Ep.Timesteps 1600, Score: -27.36, Avg.Score: -32.40, Time: 01:27:16 \n"
     ]
    },
    {
     "name": "stderr",
     "output_type": "stream",
     "text": [
      " 17%|█▋        | 341/2000 [1:27:25<6:58:20, 15.13s/it]"
     ]
    },
    {
     "name": "stdout",
     "output_type": "stream",
     "text": [
      "Ep. 342, Timestep 470508,  Ep.Timesteps 1600, Score: -54.34, Avg.Score: -32.62, Time: 01:27:31 \n"
     ]
    },
    {
     "name": "stderr",
     "output_type": "stream",
     "text": [
      " 17%|█▋        | 342/2000 [1:27:39<6:53:11, 14.95s/it]"
     ]
    },
    {
     "name": "stdout",
     "output_type": "stream",
     "text": [
      "Ep. 343, Timestep 472108,  Ep.Timesteps 1600, Score: -18.84, Avg.Score: -32.61, Time: 01:27:45 \n"
     ]
    },
    {
     "name": "stderr",
     "output_type": "stream",
     "text": [
      " 17%|█▋        | 343/2000 [1:27:55<7:01:33, 15.26s/it]"
     ]
    },
    {
     "name": "stdout",
     "output_type": "stream",
     "text": [
      "Ep. 344, Timestep 473708,  Ep.Timesteps 1600, Score: -26.20, Avg.Score: -32.51, Time: 01:28:01 \n"
     ]
    },
    {
     "name": "stderr",
     "output_type": "stream",
     "text": [
      " 17%|█▋        | 344/2000 [1:28:11<7:07:35, 15.49s/it]"
     ]
    },
    {
     "name": "stdout",
     "output_type": "stream",
     "text": [
      "Ep. 345, Timestep 475308,  Ep.Timesteps 1600, Score: -19.61, Avg.Score: -32.63, Time: 01:28:17 \n"
     ]
    },
    {
     "name": "stderr",
     "output_type": "stream",
     "text": [
      " 17%|█▋        | 345/2000 [1:28:26<7:04:06, 15.38s/it]"
     ]
    },
    {
     "name": "stdout",
     "output_type": "stream",
     "text": [
      "Ep. 346, Timestep 476908,  Ep.Timesteps 1600, Score: -29.10, Avg.Score: -32.77, Time: 01:28:32 \n"
     ]
    },
    {
     "name": "stderr",
     "output_type": "stream",
     "text": [
      " 17%|█▋        | 346/2000 [1:28:41<7:00:34, 15.26s/it]"
     ]
    },
    {
     "name": "stdout",
     "output_type": "stream",
     "text": [
      "Ep. 347, Timestep 478508,  Ep.Timesteps 1600, Score: -30.97, Avg.Score: -32.89, Time: 01:28:47 \n"
     ]
    },
    {
     "name": "stderr",
     "output_type": "stream",
     "text": [
      " 17%|█▋        | 347/2000 [1:28:56<6:58:30, 15.19s/it]"
     ]
    },
    {
     "name": "stdout",
     "output_type": "stream",
     "text": [
      "Ep. 348, Timestep 480108,  Ep.Timesteps 1600, Score: -30.23, Avg.Score: -32.89, Time: 01:29:03 \n"
     ]
    },
    {
     "name": "stderr",
     "output_type": "stream",
     "text": [
      " 17%|█▋        | 348/2000 [1:29:12<6:58:26, 15.20s/it]"
     ]
    },
    {
     "name": "stdout",
     "output_type": "stream",
     "text": [
      "Ep. 349, Timestep 481708,  Ep.Timesteps 1600, Score: -31.61, Avg.Score: -32.98, Time: 01:29:18 \n"
     ]
    },
    {
     "name": "stderr",
     "output_type": "stream",
     "text": [
      " 17%|█▋        | 349/2000 [1:29:28<7:05:23, 15.46s/it]"
     ]
    },
    {
     "name": "stdout",
     "output_type": "stream",
     "text": [
      "Ep. 350, Timestep 483308,  Ep.Timesteps 1600, Score: -35.75, Avg.Score: -33.10, Time: 01:29:34 \n"
     ]
    },
    {
     "name": "stderr",
     "output_type": "stream",
     "text": [
      " 18%|█▊        | 350/2000 [1:29:45<7:20:57, 16.03s/it]"
     ]
    },
    {
     "name": "stdout",
     "output_type": "stream",
     "text": [
      "Ep. 351, Timestep 484908,  Ep.Timesteps 1600, Score: -21.70, Avg.Score: -33.11, Time: 01:29:51 \n"
     ]
    },
    {
     "name": "stderr",
     "output_type": "stream",
     "text": [
      " 18%|█▊        | 351/2000 [1:30:00<7:15:22, 15.84s/it]"
     ]
    },
    {
     "name": "stdout",
     "output_type": "stream",
     "text": [
      "Ep. 352, Timestep 486508,  Ep.Timesteps 1600, Score: -23.64, Avg.Score: -32.84, Time: 01:30:07 \n"
     ]
    },
    {
     "name": "stderr",
     "output_type": "stream",
     "text": [
      " 18%|█▊        | 352/2000 [1:30:16<7:12:23, 15.74s/it]"
     ]
    },
    {
     "name": "stdout",
     "output_type": "stream",
     "text": [
      "Ep. 353, Timestep 488108,  Ep.Timesteps 1600, Score: -37.13, Avg.Score: -32.96, Time: 01:30:22 \n"
     ]
    },
    {
     "name": "stderr",
     "output_type": "stream",
     "text": [
      " 18%|█▊        | 353/2000 [1:30:30<7:01:06, 15.34s/it]"
     ]
    },
    {
     "name": "stdout",
     "output_type": "stream",
     "text": [
      "Ep. 354, Timestep 489708,  Ep.Timesteps 1600, Score: -21.17, Avg.Score: -32.83, Time: 01:30:36 \n"
     ]
    },
    {
     "name": "stderr",
     "output_type": "stream",
     "text": [
      " 18%|█▊        | 354/2000 [1:30:46<7:05:00, 15.49s/it]"
     ]
    },
    {
     "name": "stdout",
     "output_type": "stream",
     "text": [
      "Ep. 355, Timestep 491308,  Ep.Timesteps 1600, Score: -27.21, Avg.Score: -32.78, Time: 01:30:52 \n"
     ]
    },
    {
     "name": "stderr",
     "output_type": "stream",
     "text": [
      " 18%|█▊        | 355/2000 [1:31:02<7:04:29, 15.48s/it]"
     ]
    },
    {
     "name": "stdout",
     "output_type": "stream",
     "text": [
      "Ep. 356, Timestep 492908,  Ep.Timesteps 1600, Score: -28.69, Avg.Score: -32.77, Time: 01:31:08 \n"
     ]
    },
    {
     "name": "stderr",
     "output_type": "stream",
     "text": [
      " 18%|█▊        | 356/2000 [1:31:17<7:06:04, 15.55s/it]"
     ]
    },
    {
     "name": "stdout",
     "output_type": "stream",
     "text": [
      "Ep. 357, Timestep 494508,  Ep.Timesteps 1600, Score: -54.09, Avg.Score: -33.06, Time: 01:31:24 \n"
     ]
    },
    {
     "name": "stderr",
     "output_type": "stream",
     "text": [
      " 18%|█▊        | 357/2000 [1:31:34<7:11:26, 15.76s/it]"
     ]
    },
    {
     "name": "stdout",
     "output_type": "stream",
     "text": [
      "Ep. 358, Timestep 496108,  Ep.Timesteps 1600, Score: -23.20, Avg.Score: -33.07, Time: 01:31:40 \n"
     ]
    },
    {
     "name": "stderr",
     "output_type": "stream",
     "text": [
      " 18%|█▊        | 358/2000 [1:31:50<7:14:47, 15.89s/it]"
     ]
    },
    {
     "name": "stdout",
     "output_type": "stream",
     "text": [
      "Ep. 359, Timestep 497708,  Ep.Timesteps 1600, Score: -24.30, Avg.Score: -32.97, Time: 01:31:56 \n"
     ]
    },
    {
     "name": "stderr",
     "output_type": "stream",
     "text": [
      " 18%|█▊        | 359/2000 [1:32:06<7:16:40, 15.97s/it]"
     ]
    },
    {
     "name": "stdout",
     "output_type": "stream",
     "text": [
      "Ep. 360, Timestep 497837,  Ep.Timesteps 129, Score: -125.63, Avg.Score: -33.99, Time: 01:32:09 \n"
     ]
    },
    {
     "name": "stderr",
     "output_type": "stream",
     "text": [
      " 18%|█▊        | 360/2000 [1:32:07<5:15:44, 11.55s/it]"
     ]
    },
    {
     "name": "stdout",
     "output_type": "stream",
     "text": [
      "Ep. 361, Timestep 499437,  Ep.Timesteps 1600, Score: -28.06, Avg.Score: -34.00, Time: 01:32:14 \n"
     ]
    },
    {
     "name": "stderr",
     "output_type": "stream",
     "text": [
      " 18%|█▊        | 361/2000 [1:32:24<5:59:35, 13.16s/it]"
     ]
    },
    {
     "name": "stdout",
     "output_type": "stream",
     "text": [
      "Ep. 362, Timestep 501037,  Ep.Timesteps 1600, Score: -30.83, Avg.Score: -34.12, Time: 01:32:31 \n"
     ]
    },
    {
     "name": "stderr",
     "output_type": "stream",
     "text": [
      " 18%|█▊        | 362/2000 [1:32:40<6:18:31, 13.87s/it]"
     ]
    },
    {
     "name": "stdout",
     "output_type": "stream",
     "text": [
      "Ep. 363, Timestep 502637,  Ep.Timesteps 1600, Score: -30.74, Avg.Score: -34.19, Time: 01:32:46 \n"
     ]
    },
    {
     "name": "stderr",
     "output_type": "stream",
     "text": [
      " 18%|█▊        | 363/2000 [1:32:55<6:31:33, 14.35s/it]"
     ]
    },
    {
     "name": "stdout",
     "output_type": "stream",
     "text": [
      "Ep. 364, Timestep 504237,  Ep.Timesteps 1600, Score: -37.83, Avg.Score: -34.36, Time: 01:33:01 \n"
     ]
    },
    {
     "name": "stderr",
     "output_type": "stream",
     "text": [
      " 18%|█▊        | 364/2000 [1:33:11<6:41:35, 14.73s/it]"
     ]
    },
    {
     "name": "stdout",
     "output_type": "stream",
     "text": [
      "Ep. 365, Timestep 505837,  Ep.Timesteps 1600, Score: -65.06, Avg.Score: -34.90, Time: 01:33:17 \n"
     ]
    },
    {
     "name": "stderr",
     "output_type": "stream",
     "text": [
      " 18%|█▊        | 365/2000 [1:33:26<6:44:43, 14.85s/it]"
     ]
    },
    {
     "name": "stdout",
     "output_type": "stream",
     "text": [
      "Ep. 366, Timestep 507437,  Ep.Timesteps 1600, Score: -50.62, Avg.Score: -35.23, Time: 01:33:32 \n"
     ]
    },
    {
     "name": "stderr",
     "output_type": "stream",
     "text": [
      " 18%|█▊        | 366/2000 [1:33:43<6:59:33, 15.41s/it]"
     ]
    },
    {
     "name": "stdout",
     "output_type": "stream",
     "text": [
      "Ep. 367, Timestep 509037,  Ep.Timesteps 1600, Score: -48.07, Avg.Score: -35.54, Time: 01:33:49 \n"
     ]
    },
    {
     "name": "stderr",
     "output_type": "stream",
     "text": [
      " 18%|█▊        | 367/2000 [1:33:58<7:00:31, 15.45s/it]"
     ]
    },
    {
     "name": "stdout",
     "output_type": "stream",
     "text": [
      "Ep. 368, Timestep 510637,  Ep.Timesteps 1600, Score: -67.23, Avg.Score: -36.03, Time: 01:34:04 \n"
     ]
    },
    {
     "name": "stderr",
     "output_type": "stream",
     "text": [
      " 18%|█▊        | 368/2000 [1:34:13<6:58:03, 15.37s/it]"
     ]
    },
    {
     "name": "stdout",
     "output_type": "stream",
     "text": [
      "Ep. 369, Timestep 512237,  Ep.Timesteps 1600, Score: -52.29, Avg.Score: -36.25, Time: 01:34:20 \n"
     ]
    },
    {
     "name": "stderr",
     "output_type": "stream",
     "text": [
      " 18%|█▊        | 369/2000 [1:34:29<6:59:32, 15.43s/it]"
     ]
    },
    {
     "name": "stdout",
     "output_type": "stream",
     "text": [
      "Ep. 370, Timestep 513837,  Ep.Timesteps 1600, Score: -78.00, Avg.Score: -36.85, Time: 01:34:35 \n"
     ]
    },
    {
     "name": "stderr",
     "output_type": "stream",
     "text": [
      " 18%|█▊        | 370/2000 [1:34:44<6:59:54, 15.46s/it]"
     ]
    },
    {
     "name": "stdout",
     "output_type": "stream",
     "text": [
      "Ep. 371, Timestep 515437,  Ep.Timesteps 1600, Score: -64.17, Avg.Score: -37.19, Time: 01:34:50 \n"
     ]
    },
    {
     "name": "stderr",
     "output_type": "stream",
     "text": [
      " 19%|█▊        | 371/2000 [1:35:00<6:59:40, 15.46s/it]"
     ]
    },
    {
     "name": "stdout",
     "output_type": "stream",
     "text": [
      "Ep. 372, Timestep 517037,  Ep.Timesteps 1600, Score: -54.13, Avg.Score: -37.45, Time: 01:35:06 \n"
     ]
    },
    {
     "name": "stderr",
     "output_type": "stream",
     "text": [
      " 19%|█▊        | 372/2000 [1:35:15<6:59:49, 15.47s/it]"
     ]
    },
    {
     "name": "stdout",
     "output_type": "stream",
     "text": [
      "Ep. 373, Timestep 518637,  Ep.Timesteps 1600, Score: -76.92, Avg.Score: -37.97, Time: 01:35:22 \n"
     ]
    },
    {
     "name": "stderr",
     "output_type": "stream",
     "text": [
      " 19%|█▊        | 373/2000 [1:35:31<6:59:15, 15.46s/it]"
     ]
    },
    {
     "name": "stdout",
     "output_type": "stream",
     "text": [
      "Ep. 374, Timestep 520237,  Ep.Timesteps 1600, Score: -30.48, Avg.Score: -37.80, Time: 01:35:37 \n"
     ]
    },
    {
     "name": "stderr",
     "output_type": "stream",
     "text": [
      " 19%|█▊        | 374/2000 [1:35:46<6:56:48, 15.38s/it]"
     ]
    },
    {
     "name": "stdout",
     "output_type": "stream",
     "text": [
      "Ep. 375, Timestep 521837,  Ep.Timesteps 1600, Score: -43.29, Avg.Score: -37.90, Time: 01:35:52 \n"
     ]
    },
    {
     "name": "stderr",
     "output_type": "stream",
     "text": [
      " 19%|█▉        | 375/2000 [1:36:01<6:56:21, 15.37s/it]"
     ]
    },
    {
     "name": "stdout",
     "output_type": "stream",
     "text": [
      "Ep. 376, Timestep 523437,  Ep.Timesteps 1600, Score: -26.97, Avg.Score: -37.80, Time: 01:36:08 \n"
     ]
    },
    {
     "name": "stderr",
     "output_type": "stream",
     "text": [
      " 19%|█▉        | 376/2000 [1:36:18<7:02:54, 15.62s/it]"
     ]
    },
    {
     "name": "stdout",
     "output_type": "stream",
     "text": [
      "Ep. 377, Timestep 525037,  Ep.Timesteps 1600, Score: -26.23, Avg.Score: -37.58, Time: 01:36:24 \n"
     ]
    },
    {
     "name": "stderr",
     "output_type": "stream",
     "text": [
      " 19%|█▉        | 377/2000 [1:36:34<7:08:56, 15.86s/it]"
     ]
    },
    {
     "name": "stdout",
     "output_type": "stream",
     "text": [
      "Ep. 378, Timestep 526637,  Ep.Timesteps 1600, Score: -25.28, Avg.Score: -37.63, Time: 01:36:40 \n"
     ]
    },
    {
     "name": "stderr",
     "output_type": "stream",
     "text": [
      " 19%|█▉        | 378/2000 [1:36:50<7:13:52, 16.05s/it]"
     ]
    },
    {
     "name": "stdout",
     "output_type": "stream",
     "text": [
      "Ep. 379, Timestep 528237,  Ep.Timesteps 1600, Score: -43.09, Avg.Score: -37.73, Time: 01:36:57 \n"
     ]
    },
    {
     "name": "stderr",
     "output_type": "stream",
     "text": [
      " 19%|█▉        | 379/2000 [1:37:07<7:18:12, 16.22s/it]"
     ]
    },
    {
     "name": "stdout",
     "output_type": "stream",
     "text": [
      "Ep. 380, Timestep 529837,  Ep.Timesteps 1600, Score: -22.83, Avg.Score: -37.56, Time: 01:37:13 \n"
     ]
    },
    {
     "name": "stderr",
     "output_type": "stream",
     "text": [
      " 19%|█▉        | 380/2000 [1:37:23<7:16:20, 16.16s/it]"
     ]
    },
    {
     "name": "stdout",
     "output_type": "stream",
     "text": [
      "Ep. 381, Timestep 531437,  Ep.Timesteps 1600, Score: -24.01, Avg.Score: -37.54, Time: 01:37:29 \n"
     ]
    },
    {
     "name": "stderr",
     "output_type": "stream",
     "text": [
      " 19%|█▉        | 381/2000 [1:37:39<7:15:27, 16.14s/it]"
     ]
    },
    {
     "name": "stdout",
     "output_type": "stream",
     "text": [
      "Ep. 382, Timestep 533037,  Ep.Timesteps 1600, Score: -22.25, Avg.Score: -37.54, Time: 01:37:45 \n"
     ]
    },
    {
     "name": "stderr",
     "output_type": "stream",
     "text": [
      " 19%|█▉        | 382/2000 [1:37:55<7:14:44, 16.12s/it]"
     ]
    },
    {
     "name": "stdout",
     "output_type": "stream",
     "text": [
      "Ep. 383, Timestep 534637,  Ep.Timesteps 1600, Score: -21.67, Avg.Score: -37.57, Time: 01:38:01 \n"
     ]
    },
    {
     "name": "stderr",
     "output_type": "stream",
     "text": [
      " 19%|█▉        | 383/2000 [1:38:11<7:13:20, 16.08s/it]"
     ]
    },
    {
     "name": "stdout",
     "output_type": "stream",
     "text": [
      "Ep. 384, Timestep 536237,  Ep.Timesteps 1600, Score: -17.51, Avg.Score: -37.52, Time: 01:38:18 \n"
     ]
    },
    {
     "name": "stderr",
     "output_type": "stream",
     "text": [
      " 19%|█▉        | 384/2000 [1:38:28<7:15:19, 16.16s/it]"
     ]
    },
    {
     "name": "stdout",
     "output_type": "stream",
     "text": [
      "Ep. 385, Timestep 537837,  Ep.Timesteps 1600, Score: -25.28, Avg.Score: -37.48, Time: 01:38:34 \n"
     ]
    },
    {
     "name": "stderr",
     "output_type": "stream",
     "text": [
      " 19%|█▉        | 385/2000 [1:38:44<7:19:27, 16.33s/it]"
     ]
    },
    {
     "name": "stdout",
     "output_type": "stream",
     "text": [
      "Ep. 386, Timestep 539437,  Ep.Timesteps 1600, Score: -24.04, Avg.Score: -37.54, Time: 01:38:51 \n"
     ]
    },
    {
     "name": "stderr",
     "output_type": "stream",
     "text": [
      " 19%|█▉        | 386/2000 [1:39:01<7:22:26, 16.45s/it]"
     ]
    },
    {
     "name": "stdout",
     "output_type": "stream",
     "text": [
      "Ep. 387, Timestep 541037,  Ep.Timesteps 1600, Score: -30.68, Avg.Score: -37.60, Time: 01:39:08 \n"
     ]
    },
    {
     "name": "stderr",
     "output_type": "stream",
     "text": [
      " 19%|█▉        | 387/2000 [1:39:15<7:01:50, 15.69s/it]"
     ]
    },
    {
     "name": "stdout",
     "output_type": "stream",
     "text": [
      "Ep. 388, Timestep 542637,  Ep.Timesteps 1600, Score: -24.77, Avg.Score: -37.63, Time: 01:39:21 \n"
     ]
    },
    {
     "name": "stderr",
     "output_type": "stream",
     "text": [
      " 19%|█▉        | 388/2000 [1:39:30<6:57:13, 15.53s/it]"
     ]
    },
    {
     "name": "stdout",
     "output_type": "stream",
     "text": [
      "Ep. 389, Timestep 544237,  Ep.Timesteps 1600, Score: -25.84, Avg.Score: -37.71, Time: 01:39:36 \n"
     ]
    },
    {
     "name": "stderr",
     "output_type": "stream",
     "text": [
      " 19%|█▉        | 389/2000 [1:39:46<6:58:52, 15.60s/it]"
     ]
    },
    {
     "name": "stdout",
     "output_type": "stream",
     "text": [
      "Ep. 390, Timestep 545837,  Ep.Timesteps 1600, Score: -26.62, Avg.Score: -37.82, Time: 01:39:52 \n"
     ]
    },
    {
     "name": "stderr",
     "output_type": "stream",
     "text": [
      " 20%|█▉        | 390/2000 [1:40:02<7:01:24, 15.70s/it]"
     ]
    },
    {
     "name": "stdout",
     "output_type": "stream",
     "text": [
      "Ep. 391, Timestep 547437,  Ep.Timesteps 1600, Score: -30.32, Avg.Score: -37.93, Time: 01:40:08 \n"
     ]
    },
    {
     "name": "stderr",
     "output_type": "stream",
     "text": [
      " 20%|█▉        | 391/2000 [1:40:18<7:01:57, 15.74s/it]"
     ]
    },
    {
     "name": "stdout",
     "output_type": "stream",
     "text": [
      "Ep. 392, Timestep 549037,  Ep.Timesteps 1600, Score: -20.43, Avg.Score: -37.91, Time: 01:40:24 \n"
     ]
    },
    {
     "name": "stderr",
     "output_type": "stream",
     "text": [
      " 20%|█▉        | 392/2000 [1:40:34<7:04:59, 15.86s/it]"
     ]
    },
    {
     "name": "stdout",
     "output_type": "stream",
     "text": [
      "Ep. 393, Timestep 550637,  Ep.Timesteps 1600, Score: -15.69, Avg.Score: -37.87, Time: 01:40:39 \n"
     ]
    },
    {
     "name": "stderr",
     "output_type": "stream",
     "text": [
      " 20%|█▉        | 393/2000 [1:40:48<6:55:15, 15.50s/it]"
     ]
    },
    {
     "name": "stdout",
     "output_type": "stream",
     "text": [
      "Ep. 394, Timestep 552237,  Ep.Timesteps 1600, Score: -20.70, Avg.Score: -37.67, Time: 01:40:54 \n"
     ]
    },
    {
     "name": "stderr",
     "output_type": "stream",
     "text": [
      " 20%|█▉        | 394/2000 [1:41:03<6:50:26, 15.33s/it]"
     ]
    },
    {
     "name": "stdout",
     "output_type": "stream",
     "text": [
      "Ep. 395, Timestep 553837,  Ep.Timesteps 1600, Score: -30.28, Avg.Score: -37.61, Time: 01:41:09 \n"
     ]
    },
    {
     "name": "stderr",
     "output_type": "stream",
     "text": [
      " 20%|█▉        | 395/2000 [1:41:19<6:51:10, 15.37s/it]"
     ]
    },
    {
     "name": "stdout",
     "output_type": "stream",
     "text": [
      "Ep. 396, Timestep 555437,  Ep.Timesteps 1600, Score: -11.21, Avg.Score: -37.38, Time: 01:41:25 \n"
     ]
    },
    {
     "name": "stderr",
     "output_type": "stream",
     "text": [
      " 20%|█▉        | 396/2000 [1:41:34<6:46:48, 15.22s/it]"
     ]
    },
    {
     "name": "stdout",
     "output_type": "stream",
     "text": [
      "Ep. 397, Timestep 557037,  Ep.Timesteps 1600, Score: -18.05, Avg.Score: -37.20, Time: 01:41:40 \n"
     ]
    },
    {
     "name": "stderr",
     "output_type": "stream",
     "text": [
      " 20%|█▉        | 397/2000 [1:41:50<6:51:07, 15.39s/it]"
     ]
    },
    {
     "name": "stdout",
     "output_type": "stream",
     "text": [
      "Ep. 398, Timestep 558637,  Ep.Timesteps 1600, Score: -18.60, Avg.Score: -36.97, Time: 01:41:56 \n"
     ]
    },
    {
     "name": "stderr",
     "output_type": "stream",
     "text": [
      " 20%|█▉        | 398/2000 [1:42:06<6:56:42, 15.61s/it]"
     ]
    },
    {
     "name": "stdout",
     "output_type": "stream",
     "text": [
      "Ep. 399, Timestep 560237,  Ep.Timesteps 1600, Score: -16.86, Avg.Score: -36.79, Time: 01:42:12 \n"
     ]
    },
    {
     "name": "stderr",
     "output_type": "stream",
     "text": [
      " 20%|█▉        | 399/2000 [1:42:22<7:04:14, 15.90s/it]"
     ]
    },
    {
     "name": "stdout",
     "output_type": "stream",
     "text": [
      "Ep. 400, Timestep 561837,  Ep.Timesteps 1600, Score: -21.78, Avg.Score: -36.59, Time: 01:42:28 \n"
     ]
    },
    {
     "name": "stderr",
     "output_type": "stream",
     "text": [
      " 20%|██        | 400/2000 [1:42:38<6:59:37, 15.74s/it]"
     ]
    },
    {
     "name": "stdout",
     "output_type": "stream",
     "text": [
      "Ep. 401, Timestep 563437,  Ep.Timesteps 1600, Score: -15.07, Avg.Score: -36.44, Time: 01:42:43 \n"
     ]
    },
    {
     "name": "stderr",
     "output_type": "stream",
     "text": [
      " 20%|██        | 401/2000 [1:42:52<6:51:31, 15.44s/it]"
     ]
    },
    {
     "name": "stdout",
     "output_type": "stream",
     "text": [
      "Ep. 402, Timestep 565037,  Ep.Timesteps 1600, Score: -23.91, Avg.Score: -36.34, Time: 01:42:58 \n"
     ]
    },
    {
     "name": "stderr",
     "output_type": "stream",
     "text": [
      " 20%|██        | 402/2000 [1:43:07<6:49:13, 15.37s/it]"
     ]
    },
    {
     "name": "stdout",
     "output_type": "stream",
     "text": [
      "Ep. 403, Timestep 566637,  Ep.Timesteps 1600, Score: -24.17, Avg.Score: -36.36, Time: 01:43:13 \n"
     ]
    },
    {
     "name": "stderr",
     "output_type": "stream",
     "text": [
      " 20%|██        | 403/2000 [1:43:24<6:55:00, 15.59s/it]"
     ]
    },
    {
     "name": "stdout",
     "output_type": "stream",
     "text": [
      "Ep. 404, Timestep 568237,  Ep.Timesteps 1600, Score: -52.23, Avg.Score: -36.57, Time: 01:43:29 \n"
     ]
    },
    {
     "name": "stderr",
     "output_type": "stream",
     "text": [
      " 20%|██        | 404/2000 [1:43:39<6:55:11, 15.61s/it]"
     ]
    },
    {
     "name": "stdout",
     "output_type": "stream",
     "text": [
      "Ep. 405, Timestep 569837,  Ep.Timesteps 1600, Score: -20.86, Avg.Score: -36.54, Time: 01:43:45 \n"
     ]
    },
    {
     "name": "stderr",
     "output_type": "stream",
     "text": [
      " 20%|██        | 405/2000 [1:43:54<6:49:16, 15.40s/it]"
     ]
    },
    {
     "name": "stdout",
     "output_type": "stream",
     "text": [
      "Ep. 406, Timestep 571437,  Ep.Timesteps 1600, Score: -29.21, Avg.Score: -36.45, Time: 01:44:00 \n"
     ]
    },
    {
     "name": "stderr",
     "output_type": "stream",
     "text": [
      " 20%|██        | 406/2000 [1:44:09<6:45:46, 15.27s/it]"
     ]
    },
    {
     "name": "stdout",
     "output_type": "stream",
     "text": [
      "Ep. 407, Timestep 573037,  Ep.Timesteps 1600, Score: -16.22, Avg.Score: -36.21, Time: 01:44:15 \n"
     ]
    },
    {
     "name": "stderr",
     "output_type": "stream",
     "text": [
      " 20%|██        | 407/2000 [1:44:24<6:41:55, 15.14s/it]"
     ]
    },
    {
     "name": "stdout",
     "output_type": "stream",
     "text": [
      "Ep. 408, Timestep 574637,  Ep.Timesteps 1600, Score: -13.07, Avg.Score: -36.10, Time: 01:44:30 \n"
     ]
    },
    {
     "name": "stderr",
     "output_type": "stream",
     "text": [
      " 20%|██        | 408/2000 [1:44:40<6:47:13, 15.35s/it]"
     ]
    },
    {
     "name": "stdout",
     "output_type": "stream",
     "text": [
      "Ep. 409, Timestep 576237,  Ep.Timesteps 1600, Score: -18.15, Avg.Score: -36.04, Time: 01:44:46 \n"
     ]
    },
    {
     "name": "stderr",
     "output_type": "stream",
     "text": [
      " 20%|██        | 409/2000 [1:44:55<6:49:16, 15.43s/it]"
     ]
    },
    {
     "name": "stdout",
     "output_type": "stream",
     "text": [
      "Ep. 410, Timestep 577837,  Ep.Timesteps 1600, Score: -17.13, Avg.Score: -35.75, Time: 01:45:01 \n"
     ]
    },
    {
     "name": "stderr",
     "output_type": "stream",
     "text": [
      " 20%|██        | 410/2000 [1:45:11<6:50:37, 15.50s/it]"
     ]
    },
    {
     "name": "stdout",
     "output_type": "stream",
     "text": [
      "Ep. 411, Timestep 579437,  Ep.Timesteps 1600, Score: -11.21, Avg.Score: -35.61, Time: 01:45:17 \n"
     ]
    },
    {
     "name": "stderr",
     "output_type": "stream",
     "text": [
      " 21%|██        | 411/2000 [1:45:27<6:49:49, 15.48s/it]"
     ]
    },
    {
     "name": "stdout",
     "output_type": "stream",
     "text": [
      "Ep. 412, Timestep 581037,  Ep.Timesteps 1600, Score: -12.04, Avg.Score: -35.39, Time: 01:45:32 \n"
     ]
    },
    {
     "name": "stderr",
     "output_type": "stream",
     "text": [
      " 21%|██        | 412/2000 [1:45:42<6:48:10, 15.42s/it]"
     ]
    },
    {
     "name": "stdout",
     "output_type": "stream",
     "text": [
      "Ep. 413, Timestep 582637,  Ep.Timesteps 1600, Score: -41.89, Avg.Score: -35.48, Time: 01:45:48 \n"
     ]
    },
    {
     "name": "stderr",
     "output_type": "stream",
     "text": [
      " 21%|██        | 413/2000 [1:45:58<6:52:23, 15.59s/it]"
     ]
    },
    {
     "name": "stdout",
     "output_type": "stream",
     "text": [
      "Ep. 414, Timestep 584237,  Ep.Timesteps 1600, Score: -36.91, Avg.Score: -35.52, Time: 01:46:04 \n"
     ]
    },
    {
     "name": "stderr",
     "output_type": "stream",
     "text": [
      " 21%|██        | 414/2000 [1:46:14<6:54:10, 15.67s/it]"
     ]
    },
    {
     "name": "stdout",
     "output_type": "stream",
     "text": [
      "Ep. 415, Timestep 585837,  Ep.Timesteps 1600, Score: -32.20, Avg.Score: -35.37, Time: 01:46:20 \n"
     ]
    },
    {
     "name": "stderr",
     "output_type": "stream",
     "text": [
      " 21%|██        | 415/2000 [1:46:29<6:50:56, 15.56s/it]"
     ]
    },
    {
     "name": "stdout",
     "output_type": "stream",
     "text": [
      "Ep. 416, Timestep 587437,  Ep.Timesteps 1600, Score: -20.77, Avg.Score: -35.06, Time: 01:46:35 \n"
     ]
    },
    {
     "name": "stderr",
     "output_type": "stream",
     "text": [
      " 21%|██        | 416/2000 [1:46:45<6:55:04, 15.72s/it]"
     ]
    },
    {
     "name": "stdout",
     "output_type": "stream",
     "text": [
      "Ep. 417, Timestep 589037,  Ep.Timesteps 1600, Score: -23.20, Avg.Score: -34.74, Time: 01:46:51 \n"
     ]
    },
    {
     "name": "stderr",
     "output_type": "stream",
     "text": [
      " 21%|██        | 417/2000 [1:47:01<6:56:51, 15.80s/it]"
     ]
    },
    {
     "name": "stdout",
     "output_type": "stream",
     "text": [
      "Ep. 418, Timestep 590637,  Ep.Timesteps 1600, Score: -20.06, Avg.Score: -34.40, Time: 01:47:07 \n"
     ]
    },
    {
     "name": "stderr",
     "output_type": "stream",
     "text": [
      " 21%|██        | 418/2000 [1:47:17<6:55:48, 15.77s/it]"
     ]
    },
    {
     "name": "stdout",
     "output_type": "stream",
     "text": [
      "Ep. 419, Timestep 592237,  Ep.Timesteps 1600, Score: -22.16, Avg.Score: -34.30, Time: 01:47:23 \n"
     ]
    },
    {
     "name": "stderr",
     "output_type": "stream",
     "text": [
      " 21%|██        | 419/2000 [1:47:33<7:00:04, 15.94s/it]"
     ]
    },
    {
     "name": "stdout",
     "output_type": "stream",
     "text": [
      "Ep. 420, Timestep 593837,  Ep.Timesteps 1600, Score: -16.06, Avg.Score: -34.23, Time: 01:47:40 \n"
     ]
    },
    {
     "name": "stderr",
     "output_type": "stream",
     "text": [
      " 21%|██        | 420/2000 [1:47:49<7:03:34, 16.08s/it]"
     ]
    },
    {
     "name": "stdout",
     "output_type": "stream",
     "text": [
      "Ep. 421, Timestep 595437,  Ep.Timesteps 1600, Score: -18.21, Avg.Score: -34.22, Time: 01:47:56 \n"
     ]
    },
    {
     "name": "stderr",
     "output_type": "stream",
     "text": [
      " 21%|██        | 421/2000 [1:48:06<7:04:05, 16.12s/it]"
     ]
    },
    {
     "name": "stdout",
     "output_type": "stream",
     "text": [
      "Ep. 422, Timestep 597037,  Ep.Timesteps 1600, Score: -19.85, Avg.Score: -33.11, Time: 01:48:12 \n"
     ]
    },
    {
     "name": "stderr",
     "output_type": "stream",
     "text": [
      " 21%|██        | 422/2000 [1:48:22<7:02:29, 16.06s/it]"
     ]
    },
    {
     "name": "stdout",
     "output_type": "stream",
     "text": [
      "Ep. 423, Timestep 598637,  Ep.Timesteps 1600, Score: -23.17, Avg.Score: -32.12, Time: 01:48:28 \n"
     ]
    },
    {
     "name": "stderr",
     "output_type": "stream",
     "text": [
      " 21%|██        | 423/2000 [1:48:37<6:59:50, 15.97s/it]"
     ]
    },
    {
     "name": "stdout",
     "output_type": "stream",
     "text": [
      "Ep. 424, Timestep 600237,  Ep.Timesteps 1600, Score: -16.16, Avg.Score: -32.07, Time: 01:48:44 \n"
     ]
    },
    {
     "name": "stderr",
     "output_type": "stream",
     "text": [
      " 21%|██        | 424/2000 [1:48:54<7:03:17, 16.12s/it]"
     ]
    },
    {
     "name": "stdout",
     "output_type": "stream",
     "text": [
      "Ep. 425, Timestep 601837,  Ep.Timesteps 1600, Score: -21.11, Avg.Score: -32.05, Time: 01:49:00 \n"
     ]
    },
    {
     "name": "stderr",
     "output_type": "stream",
     "text": [
      " 21%|██▏       | 425/2000 [1:49:10<7:05:07, 16.20s/it]"
     ]
    },
    {
     "name": "stdout",
     "output_type": "stream",
     "text": [
      "Ep. 426, Timestep 603437,  Ep.Timesteps 1600, Score: -17.06, Avg.Score: -31.96, Time: 01:49:17 \n"
     ]
    },
    {
     "name": "stderr",
     "output_type": "stream",
     "text": [
      " 21%|██▏       | 426/2000 [1:49:26<7:05:23, 16.22s/it]"
     ]
    },
    {
     "name": "stdout",
     "output_type": "stream",
     "text": [
      "Ep. 427, Timestep 605037,  Ep.Timesteps 1600, Score: -28.88, Avg.Score: -31.73, Time: 01:49:33 \n"
     ]
    },
    {
     "name": "stderr",
     "output_type": "stream",
     "text": [
      " 21%|██▏       | 427/2000 [1:49:43<7:05:36, 16.23s/it]"
     ]
    },
    {
     "name": "stdout",
     "output_type": "stream",
     "text": [
      "Ep. 428, Timestep 606637,  Ep.Timesteps 1600, Score: -14.06, Avg.Score: -31.31, Time: 01:49:49 \n"
     ]
    },
    {
     "name": "stderr",
     "output_type": "stream",
     "text": [
      " 21%|██▏       | 428/2000 [1:49:59<7:02:29, 16.13s/it]"
     ]
    },
    {
     "name": "stdout",
     "output_type": "stream",
     "text": [
      "Ep. 429, Timestep 608237,  Ep.Timesteps 1600, Score: -24.47, Avg.Score: -30.64, Time: 01:50:05 \n"
     ]
    },
    {
     "name": "stderr",
     "output_type": "stream",
     "text": [
      " 21%|██▏       | 429/2000 [1:50:14<6:56:45, 15.92s/it]"
     ]
    },
    {
     "name": "stdout",
     "output_type": "stream",
     "text": [
      "Ep. 430, Timestep 609837,  Ep.Timesteps 1600, Score: -21.96, Avg.Score: -30.54, Time: 01:50:20 \n"
     ]
    },
    {
     "name": "stderr",
     "output_type": "stream",
     "text": [
      " 22%|██▏       | 430/2000 [1:50:29<6:44:55, 15.48s/it]"
     ]
    },
    {
     "name": "stdout",
     "output_type": "stream",
     "text": [
      "Ep. 431, Timestep 611437,  Ep.Timesteps 1600, Score: -18.46, Avg.Score: -30.40, Time: 01:50:34 \n"
     ]
    },
    {
     "name": "stderr",
     "output_type": "stream",
     "text": [
      " 22%|██▏       | 431/2000 [1:50:44<6:42:17, 15.38s/it]"
     ]
    },
    {
     "name": "stdout",
     "output_type": "stream",
     "text": [
      "Ep. 432, Timestep 613037,  Ep.Timesteps 1600, Score: -16.39, Avg.Score: -30.02, Time: 01:50:50 \n"
     ]
    },
    {
     "name": "stderr",
     "output_type": "stream",
     "text": [
      " 22%|██▏       | 432/2000 [1:50:58<6:36:14, 15.16s/it]"
     ]
    },
    {
     "name": "stdout",
     "output_type": "stream",
     "text": [
      "Ep. 433, Timestep 614637,  Ep.Timesteps 1600, Score: -33.70, Avg.Score: -30.07, Time: 01:51:04 \n"
     ]
    },
    {
     "name": "stderr",
     "output_type": "stream",
     "text": [
      " 22%|██▏       | 433/2000 [1:51:13<6:31:32, 14.99s/it]"
     ]
    },
    {
     "name": "stdout",
     "output_type": "stream",
     "text": [
      "Ep. 434, Timestep 616237,  Ep.Timesteps 1600, Score: -13.51, Avg.Score: -29.87, Time: 01:51:19 \n"
     ]
    },
    {
     "name": "stderr",
     "output_type": "stream",
     "text": [
      " 22%|██▏       | 434/2000 [1:51:28<6:33:26, 15.07s/it]"
     ]
    },
    {
     "name": "stdout",
     "output_type": "stream",
     "text": [
      "Ep. 435, Timestep 617837,  Ep.Timesteps 1600, Score: -58.05, Avg.Score: -30.15, Time: 01:51:34 \n"
     ]
    },
    {
     "name": "stderr",
     "output_type": "stream",
     "text": [
      " 22%|██▏       | 435/2000 [1:51:44<6:35:49, 15.18s/it]"
     ]
    },
    {
     "name": "stdout",
     "output_type": "stream",
     "text": [
      "Ep. 436, Timestep 619437,  Ep.Timesteps 1600, Score: -21.48, Avg.Score: -30.08, Time: 01:51:50 \n"
     ]
    },
    {
     "name": "stderr",
     "output_type": "stream",
     "text": [
      " 22%|██▏       | 436/2000 [1:51:59<6:37:57, 15.27s/it]"
     ]
    },
    {
     "name": "stdout",
     "output_type": "stream",
     "text": [
      "Ep. 437, Timestep 621037,  Ep.Timesteps 1600, Score: -20.12, Avg.Score: -29.91, Time: 01:52:05 \n"
     ]
    },
    {
     "name": "stderr",
     "output_type": "stream",
     "text": [
      " 22%|██▏       | 437/2000 [1:52:14<6:37:39, 15.27s/it]"
     ]
    },
    {
     "name": "stdout",
     "output_type": "stream",
     "text": [
      "Ep. 438, Timestep 622637,  Ep.Timesteps 1600, Score: -22.86, Avg.Score: -29.81, Time: 01:52:21 \n"
     ]
    },
    {
     "name": "stderr",
     "output_type": "stream",
     "text": [
      " 22%|██▏       | 438/2000 [1:52:30<6:40:22, 15.38s/it]"
     ]
    },
    {
     "name": "stdout",
     "output_type": "stream",
     "text": [
      "Ep. 439, Timestep 624237,  Ep.Timesteps 1600, Score: -21.34, Avg.Score: -29.61, Time: 01:52:36 \n"
     ]
    },
    {
     "name": "stderr",
     "output_type": "stream",
     "text": [
      " 22%|██▏       | 439/2000 [1:52:46<6:42:45, 15.48s/it]"
     ]
    },
    {
     "name": "stdout",
     "output_type": "stream",
     "text": [
      "Ep. 440, Timestep 625837,  Ep.Timesteps 1600, Score: -20.99, Avg.Score: -29.58, Time: 01:52:52 \n"
     ]
    },
    {
     "name": "stderr",
     "output_type": "stream",
     "text": [
      " 22%|██▏       | 440/2000 [1:53:01<6:43:59, 15.54s/it]"
     ]
    },
    {
     "name": "stdout",
     "output_type": "stream",
     "text": [
      "Ep. 441, Timestep 627437,  Ep.Timesteps 1600, Score: -21.12, Avg.Score: -29.52, Time: 01:53:08 \n"
     ]
    },
    {
     "name": "stderr",
     "output_type": "stream",
     "text": [
      " 22%|██▏       | 441/2000 [1:53:17<6:41:31, 15.45s/it]"
     ]
    },
    {
     "name": "stdout",
     "output_type": "stream",
     "text": [
      "Ep. 442, Timestep 629037,  Ep.Timesteps 1600, Score: -15.62, Avg.Score: -29.13, Time: 01:53:23 \n"
     ]
    },
    {
     "name": "stderr",
     "output_type": "stream",
     "text": [
      " 22%|██▏       | 442/2000 [1:53:32<6:43:21, 15.53s/it]"
     ]
    },
    {
     "name": "stdout",
     "output_type": "stream",
     "text": [
      "Ep. 443, Timestep 630637,  Ep.Timesteps 1600, Score: -12.75, Avg.Score: -29.07, Time: 01:53:39 \n"
     ]
    },
    {
     "name": "stderr",
     "output_type": "stream",
     "text": [
      " 22%|██▏       | 443/2000 [1:53:48<6:46:06, 15.65s/it]"
     ]
    },
    {
     "name": "stdout",
     "output_type": "stream",
     "text": [
      "Ep. 444, Timestep 632237,  Ep.Timesteps 1600, Score: -17.16, Avg.Score: -28.98, Time: 01:53:54 \n"
     ]
    },
    {
     "name": "stderr",
     "output_type": "stream",
     "text": [
      " 22%|██▏       | 444/2000 [1:54:04<6:46:35, 15.68s/it]"
     ]
    },
    {
     "name": "stdout",
     "output_type": "stream",
     "text": [
      "Ep. 445, Timestep 633837,  Ep.Timesteps 1600, Score: -24.54, Avg.Score: -29.03, Time: 01:54:10 \n"
     ]
    },
    {
     "name": "stderr",
     "output_type": "stream",
     "text": [
      " 22%|██▏       | 445/2000 [1:54:20<6:48:14, 15.75s/it]"
     ]
    },
    {
     "name": "stdout",
     "output_type": "stream",
     "text": [
      "Ep. 446, Timestep 635437,  Ep.Timesteps 1600, Score: -22.61, Avg.Score: -28.96, Time: 01:54:26 \n"
     ]
    },
    {
     "name": "stderr",
     "output_type": "stream",
     "text": [
      " 22%|██▏       | 446/2000 [1:54:35<6:43:45, 15.59s/it]"
     ]
    },
    {
     "name": "stdout",
     "output_type": "stream",
     "text": [
      "Ep. 447, Timestep 635497,  Ep.Timesteps 60, Score: -104.05, Avg.Score: -29.69, Time: 01:54:38 \n"
     ]
    },
    {
     "name": "stderr",
     "output_type": "stream",
     "text": [
      " 22%|██▏       | 447/2000 [1:54:36<4:47:18, 11.10s/it]"
     ]
    },
    {
     "name": "stdout",
     "output_type": "stream",
     "text": [
      "Ep. 448, Timestep 637097,  Ep.Timesteps 1600, Score: -25.48, Avg.Score: -29.64, Time: 01:54:42 \n"
     ]
    },
    {
     "name": "stderr",
     "output_type": "stream",
     "text": [
      " 22%|██▏       | 448/2000 [1:54:51<5:19:48, 12.36s/it]"
     ]
    },
    {
     "name": "stdout",
     "output_type": "stream",
     "text": [
      "Ep. 449, Timestep 637153,  Ep.Timesteps 56, Score: -106.57, Avg.Score: -30.39, Time: 01:54:54 \n"
     ]
    },
    {
     "name": "stderr",
     "output_type": "stream",
     "text": [
      " 22%|██▏       | 449/2000 [1:54:52<3:48:23,  8.84s/it]"
     ]
    },
    {
     "name": "stdout",
     "output_type": "stream",
     "text": [
      "Ep. 450, Timestep 637216,  Ep.Timesteps 63, Score: -110.63, Avg.Score: -31.14, Time: 01:54:55 \n"
     ]
    },
    {
     "name": "stderr",
     "output_type": "stream",
     "text": [
      " 22%|██▎       | 450/2000 [1:54:52<2:44:45,  6.38s/it]"
     ]
    },
    {
     "name": "stdout",
     "output_type": "stream",
     "text": [
      "Ep. 451, Timestep 637297,  Ep.Timesteps 81, Score: -127.91, Avg.Score: -32.21, Time: 01:54:56 \n"
     ]
    },
    {
     "name": "stderr",
     "output_type": "stream",
     "text": [
      " 23%|██▎       | 451/2000 [1:54:53<2:01:42,  4.71s/it]"
     ]
    },
    {
     "name": "stdout",
     "output_type": "stream",
     "text": [
      "Ep. 452, Timestep 637368,  Ep.Timesteps 71, Score: -126.53, Avg.Score: -33.23, Time: 01:54:56 \n"
     ]
    },
    {
     "name": "stderr",
     "output_type": "stream",
     "text": [
      " 23%|██▎       | 452/2000 [1:54:54<1:30:35,  3.51s/it]"
     ]
    },
    {
     "name": "stdout",
     "output_type": "stream",
     "text": [
      "Ep. 453, Timestep 637476,  Ep.Timesteps 108, Score: -131.02, Avg.Score: -34.17, Time: 01:54:57 \n"
     ]
    },
    {
     "name": "stderr",
     "output_type": "stream",
     "text": [
      " 23%|██▎       | 453/2000 [1:54:55<1:10:41,  2.74s/it]"
     ]
    },
    {
     "name": "stdout",
     "output_type": "stream",
     "text": [
      "Ep. 454, Timestep 637562,  Ep.Timesteps 86, Score: -111.63, Avg.Score: -35.08, Time: 01:54:58 \n"
     ]
    },
    {
     "name": "stderr",
     "output_type": "stream",
     "text": [
      " 23%|██▎       | 454/2000 [1:54:56<55:43,  2.16s/it]  "
     ]
    },
    {
     "name": "stdout",
     "output_type": "stream",
     "text": [
      "Ep. 455, Timestep 637646,  Ep.Timesteps 84, Score: -116.90, Avg.Score: -35.97, Time: 01:54:59 \n"
     ]
    },
    {
     "name": "stderr",
     "output_type": "stream",
     "text": [
      " 23%|██▎       | 455/2000 [1:54:56<45:28,  1.77s/it]"
     ]
    },
    {
     "name": "stdout",
     "output_type": "stream",
     "text": [
      "Ep. 456, Timestep 637733,  Ep.Timesteps 87, Score: -129.59, Avg.Score: -36.98, Time: 01:55:00 \n"
     ]
    },
    {
     "name": "stderr",
     "output_type": "stream",
     "text": [
      " 23%|██▎       | 456/2000 [1:54:57<38:36,  1.50s/it]"
     ]
    },
    {
     "name": "stdout",
     "output_type": "stream",
     "text": [
      "Ep. 457, Timestep 637958,  Ep.Timesteps 225, Score: -114.95, Avg.Score: -37.59, Time: 01:55:01 \n"
     ]
    },
    {
     "name": "stderr",
     "output_type": "stream",
     "text": [
      " 23%|██▎       | 457/2000 [1:55:00<44:10,  1.72s/it]"
     ]
    },
    {
     "name": "stdout",
     "output_type": "stream",
     "text": [
      "Ep. 458, Timestep 638068,  Ep.Timesteps 110, Score: -131.94, Avg.Score: -38.68, Time: 01:55:03 \n"
     ]
    },
    {
     "name": "stderr",
     "output_type": "stream",
     "text": [
      " 23%|██▎       | 458/2000 [1:55:01<39:57,  1.55s/it]"
     ]
    },
    {
     "name": "stdout",
     "output_type": "stream",
     "text": [
      "Ep. 459, Timestep 638163,  Ep.Timesteps 95, Score: -127.72, Avg.Score: -39.71, Time: 01:55:04 \n"
     ]
    },
    {
     "name": "stderr",
     "output_type": "stream",
     "text": [
      " 23%|██▎       | 459/2000 [1:55:02<35:12,  1.37s/it]"
     ]
    },
    {
     "name": "stdout",
     "output_type": "stream",
     "text": [
      "Ep. 460, Timestep 638242,  Ep.Timesteps 79, Score: -125.86, Avg.Score: -39.72, Time: 01:55:05 \n"
     ]
    },
    {
     "name": "stderr",
     "output_type": "stream",
     "text": [
      " 23%|██▎       | 460/2000 [1:55:02<29:51,  1.16s/it]"
     ]
    },
    {
     "name": "stdout",
     "output_type": "stream",
     "text": [
      "Ep. 461, Timestep 638328,  Ep.Timesteps 86, Score: -125.70, Avg.Score: -40.69, Time: 01:55:05 \n"
     ]
    },
    {
     "name": "stderr",
     "output_type": "stream",
     "text": [
      " 23%|██▎       | 461/2000 [1:55:03<26:15,  1.02s/it]"
     ]
    },
    {
     "name": "stdout",
     "output_type": "stream",
     "text": [
      "Ep. 462, Timestep 638402,  Ep.Timesteps 74, Score: -123.65, Avg.Score: -41.62, Time: 01:55:06 \n"
     ]
    },
    {
     "name": "stderr",
     "output_type": "stream",
     "text": [
      " 23%|██▎       | 462/2000 [1:55:04<23:42,  1.08it/s]"
     ]
    },
    {
     "name": "stdout",
     "output_type": "stream",
     "text": [
      "Ep. 463, Timestep 638544,  Ep.Timesteps 142, Score: -125.71, Avg.Score: -42.57, Time: 01:55:07 \n"
     ]
    },
    {
     "name": "stderr",
     "output_type": "stream",
     "text": [
      " 23%|██▎       | 463/2000 [1:55:05<26:37,  1.04s/it]"
     ]
    },
    {
     "name": "stdout",
     "output_type": "stream",
     "text": [
      "Ep. 464, Timestep 638640,  Ep.Timesteps 96, Score: -126.80, Avg.Score: -43.46, Time: 01:55:08 \n"
     ]
    },
    {
     "name": "stderr",
     "output_type": "stream",
     "text": [
      " 23%|██▎       | 464/2000 [1:55:06<25:31,  1.00it/s]"
     ]
    },
    {
     "name": "stdout",
     "output_type": "stream",
     "text": [
      "Ep. 465, Timestep 638722,  Ep.Timesteps 82, Score: -125.07, Avg.Score: -44.06, Time: 01:55:09 \n"
     ]
    },
    {
     "name": "stderr",
     "output_type": "stream",
     "text": [
      " 23%|██▎       | 465/2000 [1:55:07<23:44,  1.08it/s]"
     ]
    },
    {
     "name": "stdout",
     "output_type": "stream",
     "text": [
      "Ep. 466, Timestep 638818,  Ep.Timesteps 96, Score: -127.59, Avg.Score: -44.83, Time: 01:55:10 \n"
     ]
    },
    {
     "name": "stderr",
     "output_type": "stream",
     "text": [
      " 23%|██▎       | 466/2000 [1:55:08<23:48,  1.07it/s]"
     ]
    },
    {
     "name": "stdout",
     "output_type": "stream",
     "text": [
      "Ep. 467, Timestep 638891,  Ep.Timesteps 73, Score: -119.61, Avg.Score: -45.54, Time: 01:55:11 \n"
     ]
    },
    {
     "name": "stderr",
     "output_type": "stream",
     "text": [
      " 23%|██▎       | 467/2000 [1:55:08<22:27,  1.14it/s]"
     ]
    },
    {
     "name": "stdout",
     "output_type": "stream",
     "text": [
      "Ep. 468, Timestep 638989,  Ep.Timesteps 98, Score: -127.63, Avg.Score: -46.15, Time: 01:55:12 \n"
     ]
    },
    {
     "name": "stderr",
     "output_type": "stream",
     "text": [
      " 23%|██▎       | 468/2000 [1:55:09<22:14,  1.15it/s]"
     ]
    },
    {
     "name": "stdout",
     "output_type": "stream",
     "text": [
      "Ep. 469, Timestep 639078,  Ep.Timesteps 89, Score: -130.26, Avg.Score: -46.93, Time: 01:55:12 \n"
     ]
    },
    {
     "name": "stderr",
     "output_type": "stream",
     "text": [
      " 23%|██▎       | 469/2000 [1:55:10<21:18,  1.20it/s]"
     ]
    },
    {
     "name": "stdout",
     "output_type": "stream",
     "text": [
      "Ep. 470, Timestep 639160,  Ep.Timesteps 82, Score: -125.72, Avg.Score: -47.41, Time: 01:55:13 \n"
     ]
    },
    {
     "name": "stderr",
     "output_type": "stream",
     "text": [
      " 24%|██▎       | 470/2000 [1:55:11<20:36,  1.24it/s]"
     ]
    },
    {
     "name": "stdout",
     "output_type": "stream",
     "text": [
      "Ep. 471, Timestep 639244,  Ep.Timesteps 84, Score: -125.78, Avg.Score: -48.02, Time: 01:55:14 \n"
     ]
    },
    {
     "name": "stderr",
     "output_type": "stream",
     "text": [
      " 24%|██▎       | 471/2000 [1:55:12<20:12,  1.26it/s]"
     ]
    },
    {
     "name": "stdout",
     "output_type": "stream",
     "text": [
      "Ep. 472, Timestep 639366,  Ep.Timesteps 122, Score: -128.96, Avg.Score: -48.77, Time: 01:55:15 \n"
     ]
    },
    {
     "name": "stderr",
     "output_type": "stream",
     "text": [
      " 24%|██▎       | 472/2000 [1:55:13<22:30,  1.13it/s]"
     ]
    },
    {
     "name": "stdout",
     "output_type": "stream",
     "text": [
      "Ep. 473, Timestep 639478,  Ep.Timesteps 112, Score: -129.40, Avg.Score: -49.30, Time: 01:55:16 \n"
     ]
    },
    {
     "name": "stderr",
     "output_type": "stream",
     "text": [
      " 24%|██▎       | 473/2000 [1:55:14<23:12,  1.10it/s]"
     ]
    },
    {
     "name": "stdout",
     "output_type": "stream",
     "text": [
      "Ep. 474, Timestep 639580,  Ep.Timesteps 102, Score: -128.46, Avg.Score: -50.27, Time: 01:55:17 \n"
     ]
    },
    {
     "name": "stderr",
     "output_type": "stream",
     "text": [
      " 24%|██▎       | 474/2000 [1:55:15<24:02,  1.06it/s]"
     ]
    },
    {
     "name": "stdout",
     "output_type": "stream",
     "text": [
      "Ep. 475, Timestep 639648,  Ep.Timesteps 68, Score: -127.11, Avg.Score: -51.11, Time: 01:55:18 \n"
     ]
    },
    {
     "name": "stderr",
     "output_type": "stream",
     "text": [
      " 24%|██▍       | 475/2000 [1:55:15<22:19,  1.14it/s]"
     ]
    },
    {
     "name": "stdout",
     "output_type": "stream",
     "text": [
      "Ep. 476, Timestep 639725,  Ep.Timesteps 77, Score: -129.07, Avg.Score: -52.13, Time: 01:55:18 \n"
     ]
    },
    {
     "name": "stderr",
     "output_type": "stream",
     "text": [
      " 24%|██▍       | 476/2000 [1:55:16<21:39,  1.17it/s]"
     ]
    },
    {
     "name": "stdout",
     "output_type": "stream",
     "text": [
      "Ep. 477, Timestep 639803,  Ep.Timesteps 78, Score: -124.55, Avg.Score: -53.12, Time: 01:55:19 \n"
     ]
    },
    {
     "name": "stderr",
     "output_type": "stream",
     "text": [
      " 24%|██▍       | 477/2000 [1:55:17<20:18,  1.25it/s]"
     ]
    },
    {
     "name": "stdout",
     "output_type": "stream",
     "text": [
      "Ep. 478, Timestep 639883,  Ep.Timesteps 80, Score: -130.40, Avg.Score: -54.17, Time: 01:55:20 \n"
     ]
    },
    {
     "name": "stderr",
     "output_type": "stream",
     "text": [
      " 24%|██▍       | 478/2000 [1:55:18<20:22,  1.25it/s]"
     ]
    },
    {
     "name": "stdout",
     "output_type": "stream",
     "text": [
      "Ep. 479, Timestep 640157,  Ep.Timesteps 274, Score: -131.70, Avg.Score: -55.05, Time: 01:55:21 \n"
     ]
    },
    {
     "name": "stderr",
     "output_type": "stream",
     "text": [
      " 24%|██▍       | 479/2000 [1:55:21<36:22,  1.43s/it]"
     ]
    },
    {
     "name": "stdout",
     "output_type": "stream",
     "text": [
      "Ep. 480, Timestep 640308,  Ep.Timesteps 151, Score: -124.35, Avg.Score: -56.07, Time: 01:55:24 \n"
     ]
    },
    {
     "name": "stderr",
     "output_type": "stream",
     "text": [
      " 24%|██▍       | 480/2000 [1:55:22<36:29,  1.44s/it]"
     ]
    },
    {
     "name": "stdout",
     "output_type": "stream",
     "text": [
      "Ep. 481, Timestep 640378,  Ep.Timesteps 70, Score: -126.97, Avg.Score: -57.10, Time: 01:55:25 \n"
     ]
    },
    {
     "name": "stderr",
     "output_type": "stream",
     "text": [
      " 24%|██▍       | 481/2000 [1:55:23<30:37,  1.21s/it]"
     ]
    },
    {
     "name": "stdout",
     "output_type": "stream",
     "text": [
      "Ep. 482, Timestep 640452,  Ep.Timesteps 74, Score: -127.05, Avg.Score: -58.15, Time: 01:55:26 \n"
     ]
    },
    {
     "name": "stderr",
     "output_type": "stream",
     "text": [
      " 24%|██▍       | 482/2000 [1:55:23<27:06,  1.07s/it]"
     ]
    },
    {
     "name": "stdout",
     "output_type": "stream",
     "text": [
      "Ep. 483, Timestep 640517,  Ep.Timesteps 65, Score: -125.30, Avg.Score: -59.18, Time: 01:55:26 \n"
     ]
    },
    {
     "name": "stderr",
     "output_type": "stream",
     "text": [
      " 24%|██▍       | 483/2000 [1:55:24<23:38,  1.07it/s]"
     ]
    },
    {
     "name": "stdout",
     "output_type": "stream",
     "text": [
      "Ep. 484, Timestep 640583,  Ep.Timesteps 66, Score: -125.42, Avg.Score: -60.26, Time: 01:55:27 \n"
     ]
    },
    {
     "name": "stderr",
     "output_type": "stream",
     "text": [
      " 24%|██▍       | 484/2000 [1:55:25<22:00,  1.15it/s]"
     ]
    },
    {
     "name": "stdout",
     "output_type": "stream",
     "text": [
      "Ep. 485, Timestep 640663,  Ep.Timesteps 80, Score: -127.36, Avg.Score: -61.28, Time: 01:55:28 \n"
     ]
    },
    {
     "name": "stderr",
     "output_type": "stream",
     "text": [
      " 24%|██▍       | 485/2000 [1:55:26<21:34,  1.17it/s]"
     ]
    },
    {
     "name": "stdout",
     "output_type": "stream",
     "text": [
      "Ep. 486, Timestep 640733,  Ep.Timesteps 70, Score: -127.45, Avg.Score: -62.32, Time: 01:55:29 \n"
     ]
    },
    {
     "name": "stderr",
     "output_type": "stream",
     "text": [
      " 24%|██▍       | 486/2000 [1:55:26<20:32,  1.23it/s]"
     ]
    },
    {
     "name": "stdout",
     "output_type": "stream",
     "text": [
      "Ep. 487, Timestep 640806,  Ep.Timesteps 73, Score: -127.35, Avg.Score: -63.28, Time: 01:55:29 \n"
     ]
    },
    {
     "name": "stderr",
     "output_type": "stream",
     "text": [
      " 24%|██▍       | 487/2000 [1:55:27<19:58,  1.26it/s]"
     ]
    },
    {
     "name": "stdout",
     "output_type": "stream",
     "text": [
      "Ep. 488, Timestep 640881,  Ep.Timesteps 75, Score: -128.10, Avg.Score: -64.32, Time: 01:55:30 \n"
     ]
    },
    {
     "name": "stderr",
     "output_type": "stream",
     "text": [
      " 24%|██▍       | 488/2000 [1:55:28<19:58,  1.26it/s]"
     ]
    },
    {
     "name": "stdout",
     "output_type": "stream",
     "text": [
      "Ep. 489, Timestep 640952,  Ep.Timesteps 71, Score: -127.28, Avg.Score: -65.33, Time: 01:55:31 \n"
     ]
    },
    {
     "name": "stderr",
     "output_type": "stream",
     "text": [
      " 24%|██▍       | 489/2000 [1:55:29<19:50,  1.27it/s]"
     ]
    },
    {
     "name": "stdout",
     "output_type": "stream",
     "text": [
      "Ep. 490, Timestep 641018,  Ep.Timesteps 66, Score: -125.73, Avg.Score: -66.32, Time: 01:55:32 \n"
     ]
    },
    {
     "name": "stderr",
     "output_type": "stream",
     "text": [
      " 24%|██▍       | 490/2000 [1:55:29<19:27,  1.29it/s]"
     ]
    },
    {
     "name": "stdout",
     "output_type": "stream",
     "text": [
      "Ep. 491, Timestep 641086,  Ep.Timesteps 68, Score: -126.65, Avg.Score: -67.29, Time: 01:55:32 \n"
     ]
    },
    {
     "name": "stderr",
     "output_type": "stream",
     "text": [
      " 25%|██▍       | 491/2000 [1:55:30<19:06,  1.32it/s]"
     ]
    },
    {
     "name": "stdout",
     "output_type": "stream",
     "text": [
      "Ep. 492, Timestep 641161,  Ep.Timesteps 75, Score: -127.43, Avg.Score: -68.36, Time: 01:55:33 \n"
     ]
    },
    {
     "name": "stderr",
     "output_type": "stream",
     "text": [
      " 25%|██▍       | 492/2000 [1:55:31<19:29,  1.29it/s]"
     ]
    },
    {
     "name": "stdout",
     "output_type": "stream",
     "text": [
      "Ep. 493, Timestep 641234,  Ep.Timesteps 73, Score: -127.61, Avg.Score: -69.48, Time: 01:55:34 \n"
     ]
    },
    {
     "name": "stderr",
     "output_type": "stream",
     "text": [
      " 25%|██▍       | 493/2000 [1:55:32<19:05,  1.32it/s]"
     ]
    },
    {
     "name": "stdout",
     "output_type": "stream",
     "text": [
      "Ep. 494, Timestep 641302,  Ep.Timesteps 68, Score: -126.57, Avg.Score: -70.53, Time: 01:55:35 \n"
     ]
    },
    {
     "name": "stderr",
     "output_type": "stream",
     "text": [
      " 25%|██▍       | 494/2000 [1:55:32<18:01,  1.39it/s]"
     ]
    },
    {
     "name": "stdout",
     "output_type": "stream",
     "text": [
      "Ep. 495, Timestep 641376,  Ep.Timesteps 74, Score: -128.00, Avg.Score: -71.51, Time: 01:55:35 \n"
     ]
    },
    {
     "name": "stderr",
     "output_type": "stream",
     "text": [
      " 25%|██▍       | 495/2000 [1:55:33<17:47,  1.41it/s]"
     ]
    },
    {
     "name": "stdout",
     "output_type": "stream",
     "text": [
      "Ep. 496, Timestep 641444,  Ep.Timesteps 68, Score: -125.82, Avg.Score: -72.66, Time: 01:55:36 \n"
     ]
    },
    {
     "name": "stderr",
     "output_type": "stream",
     "text": [
      " 25%|██▍       | 496/2000 [1:55:34<18:30,  1.35it/s]"
     ]
    },
    {
     "name": "stdout",
     "output_type": "stream",
     "text": [
      "Ep. 497, Timestep 641524,  Ep.Timesteps 80, Score: -127.04, Avg.Score: -73.75, Time: 01:55:37 \n"
     ]
    },
    {
     "name": "stderr",
     "output_type": "stream",
     "text": [
      " 25%|██▍       | 497/2000 [1:55:35<19:12,  1.30it/s]"
     ]
    },
    {
     "name": "stdout",
     "output_type": "stream",
     "text": [
      "Ep. 498, Timestep 642093,  Ep.Timesteps 569, Score: -137.82, Avg.Score: -74.94, Time: 01:55:39 \n"
     ]
    },
    {
     "name": "stderr",
     "output_type": "stream",
     "text": [
      " 25%|██▍       | 498/2000 [1:55:40<56:13,  2.25s/it]"
     ]
    },
    {
     "name": "stdout",
     "output_type": "stream",
     "text": [
      "Ep. 499, Timestep 643693,  Ep.Timesteps 1600, Score: -142.85, Avg.Score: -76.20, Time: 01:55:47 \n"
     ]
    },
    {
     "name": "stderr",
     "output_type": "stream",
     "text": [
      " 25%|██▍       | 499/2000 [1:55:56<2:39:00,  6.36s/it]"
     ]
    },
    {
     "name": "stdout",
     "output_type": "stream",
     "text": [
      "Ep. 500, Timestep 645293,  Ep.Timesteps 1600, Score: -126.38, Avg.Score: -77.25, Time: 01:56:03 \n"
     ]
    },
    {
     "name": "stderr",
     "output_type": "stream",
     "text": [
      " 25%|██▌       | 500/2000 [1:56:12<3:47:29,  9.10s/it]"
     ]
    },
    {
     "name": "stdout",
     "output_type": "stream",
     "text": [
      "Ep. 501, Timestep 646623,  Ep.Timesteps 1330, Score: -211.28, Avg.Score: -79.21, Time: 01:56:18 \n"
     ]
    },
    {
     "name": "stderr",
     "output_type": "stream",
     "text": [
      " 25%|██▌       | 501/2000 [1:56:24<4:14:56, 10.20s/it]"
     ]
    },
    {
     "name": "stdout",
     "output_type": "stream",
     "text": [
      "Ep. 502, Timestep 648136,  Ep.Timesteps 1513, Score: -199.98, Avg.Score: -80.97, Time: 01:56:30 \n"
     ]
    },
    {
     "name": "stderr",
     "output_type": "stream",
     "text": [
      " 25%|██▌       | 502/2000 [1:56:38<4:39:53, 11.21s/it]"
     ]
    },
    {
     "name": "stdout",
     "output_type": "stream",
     "text": [
      "Ep. 503, Timestep 649396,  Ep.Timesteps 1260, Score: -123.91, Avg.Score: -81.97, Time: 01:56:43 \n"
     ]
    },
    {
     "name": "stderr",
     "output_type": "stream",
     "text": [
      " 25%|██▌       | 503/2000 [1:56:50<4:46:10, 11.47s/it]"
     ]
    },
    {
     "name": "stdout",
     "output_type": "stream",
     "text": [
      "Ep. 504, Timestep 650996,  Ep.Timesteps 1600, Score: -34.56, Avg.Score: -81.79, Time: 01:56:57 \n"
     ]
    },
    {
     "name": "stderr",
     "output_type": "stream",
     "text": [
      " 25%|██▌       | 504/2000 [1:57:06<5:18:16, 12.77s/it]"
     ]
    },
    {
     "name": "stdout",
     "output_type": "stream",
     "text": [
      "Ep. 505, Timestep 652596,  Ep.Timesteps 1600, Score: -150.94, Avg.Score: -83.09, Time: 01:57:12 \n"
     ]
    },
    {
     "name": "stderr",
     "output_type": "stream",
     "text": [
      " 25%|██▌       | 505/2000 [1:57:21<5:38:44, 13.59s/it]"
     ]
    },
    {
     "name": "stdout",
     "output_type": "stream",
     "text": [
      "Ep. 506, Timestep 654196,  Ep.Timesteps 1600, Score: -75.27, Avg.Score: -83.55, Time: 01:57:28 \n"
     ]
    },
    {
     "name": "stderr",
     "output_type": "stream",
     "text": [
      " 25%|██▌       | 506/2000 [1:57:37<5:51:24, 14.11s/it]"
     ]
    },
    {
     "name": "stdout",
     "output_type": "stream",
     "text": [
      "Ep. 507, Timestep 655796,  Ep.Timesteps 1600, Score: -96.16, Avg.Score: -84.35, Time: 01:57:43 \n"
     ]
    },
    {
     "name": "stderr",
     "output_type": "stream",
     "text": [
      " 25%|██▌       | 507/2000 [1:57:52<6:01:25, 14.52s/it]"
     ]
    },
    {
     "name": "stdout",
     "output_type": "stream",
     "text": [
      "Ep. 508, Timestep 656526,  Ep.Timesteps 730, Score: -161.60, Avg.Score: -85.84, Time: 01:57:57 \n"
     ]
    },
    {
     "name": "stderr",
     "output_type": "stream",
     "text": [
      " 25%|██▌       | 508/2000 [1:57:59<5:04:13, 12.23s/it]"
     ]
    },
    {
     "name": "stdout",
     "output_type": "stream",
     "text": [
      "Ep. 509, Timestep 656976,  Ep.Timesteps 450, Score: -126.14, Avg.Score: -86.92, Time: 01:58:03 \n"
     ]
    },
    {
     "name": "stderr",
     "output_type": "stream",
     "text": [
      " 25%|██▌       | 509/2000 [1:58:03<4:03:28,  9.80s/it]"
     ]
    },
    {
     "name": "stdout",
     "output_type": "stream",
     "text": [
      "Ep. 510, Timestep 658576,  Ep.Timesteps 1600, Score: -161.77, Avg.Score: -88.36, Time: 01:58:09 \n"
     ]
    },
    {
     "name": "stderr",
     "output_type": "stream",
     "text": [
      " 26%|██▌       | 510/2000 [1:58:19<4:50:58, 11.72s/it]"
     ]
    },
    {
     "name": "stdout",
     "output_type": "stream",
     "text": [
      "Ep. 511, Timestep 660176,  Ep.Timesteps 1600, Score: -92.40, Avg.Score: -89.17, Time: 01:58:26 \n"
     ]
    },
    {
     "name": "stderr",
     "output_type": "stream",
     "text": [
      " 26%|██▌       | 511/2000 [1:58:35<5:20:36, 12.92s/it]"
     ]
    },
    {
     "name": "stdout",
     "output_type": "stream",
     "text": [
      "Ep. 512, Timestep 661776,  Ep.Timesteps 1600, Score: -102.59, Avg.Score: -90.08, Time: 01:58:42 \n"
     ]
    },
    {
     "name": "stderr",
     "output_type": "stream",
     "text": [
      " 26%|██▌       | 512/2000 [1:58:52<5:49:34, 14.10s/it]"
     ]
    },
    {
     "name": "stdout",
     "output_type": "stream",
     "text": [
      "Ep. 513, Timestep 663376,  Ep.Timesteps 1600, Score: -105.02, Avg.Score: -90.71, Time: 01:58:58 \n"
     ]
    },
    {
     "name": "stderr",
     "output_type": "stream",
     "text": [
      " 26%|██▌       | 513/2000 [1:59:08<6:00:48, 14.56s/it]"
     ]
    },
    {
     "name": "stdout",
     "output_type": "stream",
     "text": [
      "Ep. 514, Timestep 664976,  Ep.Timesteps 1600, Score: -86.51, Avg.Score: -91.21, Time: 01:59:14 \n"
     ]
    },
    {
     "name": "stderr",
     "output_type": "stream",
     "text": [
      " 26%|██▌       | 514/2000 [1:59:24<6:16:47, 15.21s/it]"
     ]
    },
    {
     "name": "stdout",
     "output_type": "stream",
     "text": [
      "Ep. 515, Timestep 666576,  Ep.Timesteps 1600, Score: -89.53, Avg.Score: -91.78, Time: 01:59:30 \n"
     ]
    },
    {
     "name": "stderr",
     "output_type": "stream",
     "text": [
      " 26%|██▌       | 515/2000 [1:59:40<6:19:55, 15.35s/it]"
     ]
    },
    {
     "name": "stdout",
     "output_type": "stream",
     "text": [
      "Ep. 516, Timestep 668176,  Ep.Timesteps 1600, Score: -76.07, Avg.Score: -92.33, Time: 01:59:46 \n"
     ]
    },
    {
     "name": "stderr",
     "output_type": "stream",
     "text": [
      " 26%|██▌       | 516/2000 [1:59:56<6:21:55, 15.44s/it]"
     ]
    },
    {
     "name": "stdout",
     "output_type": "stream",
     "text": [
      "Ep. 517, Timestep 669776,  Ep.Timesteps 1600, Score: -82.68, Avg.Score: -92.93, Time: 02:00:02 \n"
     ]
    },
    {
     "name": "stderr",
     "output_type": "stream",
     "text": [
      " 26%|██▌       | 517/2000 [2:00:10<6:12:52, 15.09s/it]"
     ]
    },
    {
     "name": "stdout",
     "output_type": "stream",
     "text": [
      "Ep. 518, Timestep 671376,  Ep.Timesteps 1600, Score: -51.19, Avg.Score: -93.24, Time: 02:00:16 \n"
     ]
    },
    {
     "name": "stderr",
     "output_type": "stream",
     "text": [
      " 26%|██▌       | 518/2000 [2:00:24<6:08:28, 14.92s/it]"
     ]
    },
    {
     "name": "stdout",
     "output_type": "stream",
     "text": [
      "Ep. 519, Timestep 672976,  Ep.Timesteps 1600, Score: -57.93, Avg.Score: -93.60, Time: 02:00:30 \n"
     ]
    },
    {
     "name": "stderr",
     "output_type": "stream",
     "text": [
      " 26%|██▌       | 519/2000 [2:00:40<6:10:46, 15.02s/it]"
     ]
    },
    {
     "name": "stdout",
     "output_type": "stream",
     "text": [
      "Ep. 520, Timestep 674576,  Ep.Timesteps 1600, Score: -72.00, Avg.Score: -94.16, Time: 02:00:46 \n"
     ]
    },
    {
     "name": "stderr",
     "output_type": "stream",
     "text": [
      " 26%|██▌       | 520/2000 [2:00:54<6:08:22, 14.93s/it]"
     ]
    },
    {
     "name": "stdout",
     "output_type": "stream",
     "text": [
      "Ep. 521, Timestep 676176,  Ep.Timesteps 1600, Score: -70.68, Avg.Score: -94.68, Time: 02:01:01 \n"
     ]
    },
    {
     "name": "stderr",
     "output_type": "stream",
     "text": [
      " 26%|██▌       | 521/2000 [2:01:09<6:08:37, 14.95s/it]"
     ]
    },
    {
     "name": "stdout",
     "output_type": "stream",
     "text": [
      "Ep. 522, Timestep 677776,  Ep.Timesteps 1600, Score: -71.26, Avg.Score: -95.19, Time: 02:01:15 \n"
     ]
    },
    {
     "name": "stderr",
     "output_type": "stream",
     "text": [
      " 26%|██▌       | 522/2000 [2:01:24<6:05:20, 14.83s/it]"
     ]
    },
    {
     "name": "stdout",
     "output_type": "stream",
     "text": [
      "Ep. 523, Timestep 679376,  Ep.Timesteps 1600, Score: -32.15, Avg.Score: -95.28, Time: 02:01:30 \n"
     ]
    },
    {
     "name": "stderr",
     "output_type": "stream",
     "text": [
      " 26%|██▌       | 523/2000 [2:01:39<6:08:31, 14.97s/it]"
     ]
    },
    {
     "name": "stdout",
     "output_type": "stream",
     "text": [
      "Ep. 524, Timestep 680976,  Ep.Timesteps 1600, Score: -56.65, Avg.Score: -95.69, Time: 02:01:45 \n"
     ]
    },
    {
     "name": "stderr",
     "output_type": "stream",
     "text": [
      " 26%|██▌       | 524/2000 [2:01:54<6:05:57, 14.88s/it]"
     ]
    },
    {
     "name": "stdout",
     "output_type": "stream",
     "text": [
      "Ep. 525, Timestep 682576,  Ep.Timesteps 1600, Score: -50.01, Avg.Score: -95.98, Time: 02:02:00 \n"
     ]
    },
    {
     "name": "stderr",
     "output_type": "stream",
     "text": [
      " 26%|██▋       | 525/2000 [2:02:07<5:53:12, 14.37s/it]"
     ]
    },
    {
     "name": "stdout",
     "output_type": "stream",
     "text": [
      "Ep. 526, Timestep 684176,  Ep.Timesteps 1600, Score: -69.28, Avg.Score: -96.50, Time: 02:02:13 \n"
     ]
    },
    {
     "name": "stderr",
     "output_type": "stream",
     "text": [
      " 26%|██▋       | 526/2000 [2:02:22<5:56:34, 14.51s/it]"
     ]
    },
    {
     "name": "stdout",
     "output_type": "stream",
     "text": [
      "Ep. 527, Timestep 685776,  Ep.Timesteps 1600, Score: -86.04, Avg.Score: -97.07, Time: 02:02:28 \n"
     ]
    },
    {
     "name": "stderr",
     "output_type": "stream",
     "text": [
      " 26%|██▋       | 527/2000 [2:02:37<5:59:49, 14.66s/it]"
     ]
    },
    {
     "name": "stdout",
     "output_type": "stream",
     "text": [
      "Ep. 528, Timestep 687376,  Ep.Timesteps 1600, Score: -64.23, Avg.Score: -97.57, Time: 02:02:43 \n"
     ]
    },
    {
     "name": "stderr",
     "output_type": "stream",
     "text": [
      " 26%|██▋       | 528/2000 [2:02:51<5:53:15, 14.40s/it]"
     ]
    },
    {
     "name": "stdout",
     "output_type": "stream",
     "text": [
      "Ep. 529, Timestep 688976,  Ep.Timesteps 1600, Score: -51.65, Avg.Score: -97.85, Time: 02:02:57 \n"
     ]
    },
    {
     "name": "stderr",
     "output_type": "stream",
     "text": [
      " 26%|██▋       | 529/2000 [2:03:04<5:47:37, 14.18s/it]"
     ]
    },
    {
     "name": "stdout",
     "output_type": "stream",
     "text": [
      "Ep. 530, Timestep 690576,  Ep.Timesteps 1600, Score: -50.19, Avg.Score: -98.13, Time: 02:03:11 \n"
     ]
    },
    {
     "name": "stderr",
     "output_type": "stream",
     "text": [
      " 26%|██▋       | 530/2000 [2:03:18<5:45:13, 14.09s/it]"
     ]
    },
    {
     "name": "stdout",
     "output_type": "stream",
     "text": [
      "Ep. 531, Timestep 692176,  Ep.Timesteps 1600, Score: -55.06, Avg.Score: -98.49, Time: 02:03:25 \n"
     ]
    },
    {
     "name": "stderr",
     "output_type": "stream",
     "text": [
      " 27%|██▋       | 531/2000 [2:03:35<6:05:59, 14.95s/it]"
     ]
    },
    {
     "name": "stdout",
     "output_type": "stream",
     "text": [
      "Ep. 532, Timestep 693776,  Ep.Timesteps 1600, Score: -56.08, Avg.Score: -98.89, Time: 02:03:41 \n"
     ]
    },
    {
     "name": "stderr",
     "output_type": "stream",
     "text": [
      " 27%|██▋       | 532/2000 [2:03:50<6:02:36, 14.82s/it]"
     ]
    },
    {
     "name": "stdout",
     "output_type": "stream",
     "text": [
      "Ep. 533, Timestep 695376,  Ep.Timesteps 1600, Score: -63.01, Avg.Score: -99.18, Time: 02:03:56 \n"
     ]
    },
    {
     "name": "stderr",
     "output_type": "stream",
     "text": [
      " 27%|██▋       | 533/2000 [2:04:05<6:06:08, 14.98s/it]"
     ]
    },
    {
     "name": "stdout",
     "output_type": "stream",
     "text": [
      "Ep. 534, Timestep 696976,  Ep.Timesteps 1600, Score: -47.79, Avg.Score: -99.53, Time: 02:04:11 \n"
     ]
    },
    {
     "name": "stderr",
     "output_type": "stream",
     "text": [
      " 27%|██▋       | 534/2000 [2:04:21<6:13:28, 15.29s/it]"
     ]
    },
    {
     "name": "stdout",
     "output_type": "stream",
     "text": [
      "Ep. 535, Timestep 698576,  Ep.Timesteps 1600, Score: -49.82, Avg.Score: -99.44, Time: 02:04:27 \n"
     ]
    },
    {
     "name": "stderr",
     "output_type": "stream",
     "text": [
      " 27%|██▋       | 535/2000 [2:04:37<6:15:43, 15.39s/it]"
     ]
    },
    {
     "name": "stdout",
     "output_type": "stream",
     "text": [
      "Ep. 536, Timestep 700176,  Ep.Timesteps 1600, Score: -44.96, Avg.Score: -99.68, Time: 02:04:43 \n"
     ]
    },
    {
     "name": "stderr",
     "output_type": "stream",
     "text": [
      " 27%|██▋       | 536/2000 [2:04:52<6:17:13, 15.46s/it]"
     ]
    },
    {
     "name": "stdout",
     "output_type": "stream",
     "text": [
      "Ep. 537, Timestep 701776,  Ep.Timesteps 1600, Score: -56.28, Avg.Score: -100.04, Time: 02:04:59 \n"
     ]
    },
    {
     "name": "stderr",
     "output_type": "stream",
     "text": [
      " 27%|██▋       | 537/2000 [2:05:08<6:17:05, 15.47s/it]"
     ]
    },
    {
     "name": "stdout",
     "output_type": "stream",
     "text": [
      "Ep. 538, Timestep 703376,  Ep.Timesteps 1600, Score: -35.68, Avg.Score: -100.17, Time: 02:05:14 \n"
     ]
    },
    {
     "name": "stderr",
     "output_type": "stream",
     "text": [
      " 27%|██▋       | 538/2000 [2:05:23<6:15:18, 15.40s/it]"
     ]
    },
    {
     "name": "stdout",
     "output_type": "stream",
     "text": [
      "Ep. 539, Timestep 704976,  Ep.Timesteps 1600, Score: -51.18, Avg.Score: -100.47, Time: 02:05:29 \n"
     ]
    },
    {
     "name": "stderr",
     "output_type": "stream",
     "text": [
      " 27%|██▋       | 539/2000 [2:05:38<6:09:32, 15.18s/it]"
     ]
    },
    {
     "name": "stdout",
     "output_type": "stream",
     "text": [
      "Ep. 540, Timestep 706576,  Ep.Timesteps 1600, Score: -54.31, Avg.Score: -100.80, Time: 02:05:44 \n"
     ]
    },
    {
     "name": "stderr",
     "output_type": "stream",
     "text": [
      " 27%|██▋       | 540/2000 [2:05:53<6:10:35, 15.23s/it]"
     ]
    },
    {
     "name": "stdout",
     "output_type": "stream",
     "text": [
      "Ep. 541, Timestep 708176,  Ep.Timesteps 1600, Score: -65.49, Avg.Score: -101.24, Time: 02:05:59 \n"
     ]
    },
    {
     "name": "stderr",
     "output_type": "stream",
     "text": [
      " 27%|██▋       | 541/2000 [2:06:09<6:13:32, 15.36s/it]"
     ]
    },
    {
     "name": "stdout",
     "output_type": "stream",
     "text": [
      "Ep. 542, Timestep 709776,  Ep.Timesteps 1600, Score: -91.43, Avg.Score: -102.00, Time: 02:06:15 \n"
     ]
    },
    {
     "name": "stderr",
     "output_type": "stream",
     "text": [
      " 27%|██▋       | 542/2000 [2:06:24<6:08:59, 15.18s/it]"
     ]
    },
    {
     "name": "stdout",
     "output_type": "stream",
     "text": [
      "Ep. 543, Timestep 711376,  Ep.Timesteps 1600, Score: -30.98, Avg.Score: -102.19, Time: 02:06:30 \n"
     ]
    },
    {
     "name": "stderr",
     "output_type": "stream",
     "text": [
      " 27%|██▋       | 543/2000 [2:06:38<6:04:47, 15.02s/it]"
     ]
    },
    {
     "name": "stdout",
     "output_type": "stream",
     "text": [
      "Ep. 544, Timestep 712976,  Ep.Timesteps 1600, Score: -55.03, Avg.Score: -102.56, Time: 02:06:45 \n"
     ]
    },
    {
     "name": "stderr",
     "output_type": "stream",
     "text": [
      " 27%|██▋       | 544/2000 [2:06:54<6:08:52, 15.20s/it]"
     ]
    },
    {
     "name": "stdout",
     "output_type": "stream",
     "text": [
      "Ep. 545, Timestep 714576,  Ep.Timesteps 1600, Score: -32.02, Avg.Score: -102.64, Time: 02:07:00 \n"
     ]
    },
    {
     "name": "stderr",
     "output_type": "stream",
     "text": [
      " 27%|██▋       | 545/2000 [2:07:09<6:10:11, 15.27s/it]"
     ]
    },
    {
     "name": "stdout",
     "output_type": "stream",
     "text": [
      "Ep. 546, Timestep 716176,  Ep.Timesteps 1600, Score: -38.47, Avg.Score: -102.80, Time: 02:07:15 \n"
     ]
    },
    {
     "name": "stderr",
     "output_type": "stream",
     "text": [
      " 27%|██▋       | 546/2000 [2:07:24<6:05:54, 15.10s/it]"
     ]
    },
    {
     "name": "stdout",
     "output_type": "stream",
     "text": [
      "Ep. 547, Timestep 717776,  Ep.Timesteps 1600, Score: -39.33, Avg.Score: -102.15, Time: 02:07:30 \n"
     ]
    },
    {
     "name": "stderr",
     "output_type": "stream",
     "text": [
      " 27%|██▋       | 547/2000 [2:07:39<6:05:04, 15.08s/it]"
     ]
    },
    {
     "name": "stdout",
     "output_type": "stream",
     "text": [
      "Ep. 548, Timestep 719376,  Ep.Timesteps 1600, Score: -36.84, Avg.Score: -102.26, Time: 02:07:45 \n"
     ]
    },
    {
     "name": "stderr",
     "output_type": "stream",
     "text": [
      " 27%|██▋       | 548/2000 [2:07:54<6:07:02, 15.17s/it]"
     ]
    },
    {
     "name": "stdout",
     "output_type": "stream",
     "text": [
      "Ep. 549, Timestep 720976,  Ep.Timesteps 1600, Score: -42.01, Avg.Score: -101.62, Time: 02:08:00 \n"
     ]
    },
    {
     "name": "stderr",
     "output_type": "stream",
     "text": [
      " 27%|██▋       | 549/2000 [2:08:08<5:57:15, 14.77s/it]"
     ]
    },
    {
     "name": "stdout",
     "output_type": "stream",
     "text": [
      "Ep. 550, Timestep 722576,  Ep.Timesteps 1600, Score: -61.74, Avg.Score: -101.13, Time: 02:08:14 \n"
     ]
    },
    {
     "name": "stderr",
     "output_type": "stream",
     "text": [
      " 28%|██▊       | 550/2000 [2:08:23<5:58:11, 14.82s/it]"
     ]
    },
    {
     "name": "stdout",
     "output_type": "stream",
     "text": [
      "Ep. 551, Timestep 724176,  Ep.Timesteps 1600, Score: -49.11, Avg.Score: -100.34, Time: 02:08:30 \n"
     ]
    },
    {
     "name": "stderr",
     "output_type": "stream",
     "text": [
      " 28%|██▊       | 551/2000 [2:08:38<5:59:50, 14.90s/it]"
     ]
    },
    {
     "name": "stdout",
     "output_type": "stream",
     "text": [
      "Ep. 552, Timestep 725776,  Ep.Timesteps 1600, Score: -29.80, Avg.Score: -99.37, Time: 02:08:45 \n"
     ]
    },
    {
     "name": "stderr",
     "output_type": "stream",
     "text": [
      " 28%|██▊       | 552/2000 [2:08:54<6:03:00, 15.04s/it]"
     ]
    },
    {
     "name": "stdout",
     "output_type": "stream",
     "text": [
      "Ep. 553, Timestep 727376,  Ep.Timesteps 1600, Score: -57.94, Avg.Score: -98.64, Time: 02:09:00 \n"
     ]
    },
    {
     "name": "stderr",
     "output_type": "stream",
     "text": [
      " 28%|██▊       | 553/2000 [2:09:10<6:15:51, 15.59s/it]"
     ]
    },
    {
     "name": "stdout",
     "output_type": "stream",
     "text": [
      "Ep. 554, Timestep 728976,  Ep.Timesteps 1600, Score: -48.06, Avg.Score: -98.01, Time: 02:09:17 \n"
     ]
    },
    {
     "name": "stderr",
     "output_type": "stream",
     "text": [
      " 28%|██▊       | 554/2000 [2:09:26<6:13:10, 15.48s/it]"
     ]
    },
    {
     "name": "stdout",
     "output_type": "stream",
     "text": [
      "Ep. 555, Timestep 730576,  Ep.Timesteps 1600, Score: -47.95, Avg.Score: -97.32, Time: 02:09:32 \n"
     ]
    },
    {
     "name": "stderr",
     "output_type": "stream",
     "text": [
      " 28%|██▊       | 555/2000 [2:09:42<6:18:40, 15.72s/it]"
     ]
    },
    {
     "name": "stdout",
     "output_type": "stream",
     "text": [
      "Ep. 556, Timestep 732176,  Ep.Timesteps 1600, Score: -52.30, Avg.Score: -96.55, Time: 02:09:48 \n"
     ]
    },
    {
     "name": "stderr",
     "output_type": "stream",
     "text": [
      " 28%|██▊       | 556/2000 [2:09:57<6:10:14, 15.38s/it]"
     ]
    },
    {
     "name": "stdout",
     "output_type": "stream",
     "text": [
      "Ep. 557, Timestep 733776,  Ep.Timesteps 1600, Score: -44.11, Avg.Score: -95.84, Time: 02:10:02 \n"
     ]
    },
    {
     "name": "stderr",
     "output_type": "stream",
     "text": [
      " 28%|██▊       | 557/2000 [2:10:12<6:08:16, 15.31s/it]"
     ]
    },
    {
     "name": "stdout",
     "output_type": "stream",
     "text": [
      "Ep. 558, Timestep 735376,  Ep.Timesteps 1600, Score: -84.67, Avg.Score: -95.36, Time: 02:10:18 \n"
     ]
    },
    {
     "name": "stderr",
     "output_type": "stream",
     "text": [
      " 28%|██▊       | 558/2000 [2:10:28<6:15:04, 15.61s/it]"
     ]
    },
    {
     "name": "stdout",
     "output_type": "stream",
     "text": [
      "Ep. 559, Timestep 736976,  Ep.Timesteps 1600, Score: -37.29, Avg.Score: -94.46, Time: 02:10:34 \n"
     ]
    },
    {
     "name": "stderr",
     "output_type": "stream",
     "text": [
      " 28%|██▊       | 559/2000 [2:10:44<6:18:14, 15.75s/it]"
     ]
    },
    {
     "name": "stdout",
     "output_type": "stream",
     "text": [
      "Ep. 560, Timestep 738576,  Ep.Timesteps 1600, Score: -56.38, Avg.Score: -93.77, Time: 02:10:50 \n"
     ]
    },
    {
     "name": "stderr",
     "output_type": "stream",
     "text": [
      " 28%|██▊       | 560/2000 [2:10:59<6:14:47, 15.62s/it]"
     ]
    },
    {
     "name": "stdout",
     "output_type": "stream",
     "text": [
      "Ep. 561, Timestep 740176,  Ep.Timesteps 1600, Score: -24.38, Avg.Score: -92.75, Time: 02:11:05 \n"
     ]
    },
    {
     "name": "stderr",
     "output_type": "stream",
     "text": [
      " 28%|██▊       | 561/2000 [2:11:15<6:11:20, 15.48s/it]"
     ]
    },
    {
     "name": "stdout",
     "output_type": "stream",
     "text": [
      "Ep. 562, Timestep 741776,  Ep.Timesteps 1600, Score: -29.49, Avg.Score: -91.81, Time: 02:11:20 \n"
     ]
    },
    {
     "name": "stderr",
     "output_type": "stream",
     "text": [
      " 28%|██▊       | 562/2000 [2:11:29<6:05:14, 15.24s/it]"
     ]
    },
    {
     "name": "stdout",
     "output_type": "stream",
     "text": [
      "Ep. 563, Timestep 743376,  Ep.Timesteps 1600, Score: -26.53, Avg.Score: -90.82, Time: 02:11:35 \n"
     ]
    },
    {
     "name": "stderr",
     "output_type": "stream",
     "text": [
      " 28%|██▊       | 563/2000 [2:11:44<6:03:48, 15.19s/it]"
     ]
    },
    {
     "name": "stdout",
     "output_type": "stream",
     "text": [
      "Ep. 564, Timestep 744976,  Ep.Timesteps 1600, Score: -18.23, Avg.Score: -89.73, Time: 02:11:50 \n"
     ]
    },
    {
     "name": "stderr",
     "output_type": "stream",
     "text": [
      " 28%|██▊       | 564/2000 [2:12:00<6:03:20, 15.18s/it]"
     ]
    },
    {
     "name": "stdout",
     "output_type": "stream",
     "text": [
      "Ep. 565, Timestep 746576,  Ep.Timesteps 1600, Score: -15.64, Avg.Score: -88.64, Time: 02:12:06 \n"
     ]
    },
    {
     "name": "stderr",
     "output_type": "stream",
     "text": [
      " 28%|██▊       | 565/2000 [2:12:15<6:06:56, 15.34s/it]"
     ]
    },
    {
     "name": "stdout",
     "output_type": "stream",
     "text": [
      "Ep. 566, Timestep 748176,  Ep.Timesteps 1600, Score: -35.31, Avg.Score: -87.72, Time: 02:12:22 \n"
     ]
    },
    {
     "name": "stderr",
     "output_type": "stream",
     "text": [
      " 28%|██▊       | 566/2000 [2:12:32<6:19:05, 15.86s/it]"
     ]
    },
    {
     "name": "stdout",
     "output_type": "stream",
     "text": [
      "Ep. 567, Timestep 749776,  Ep.Timesteps 1600, Score: -28.18, Avg.Score: -86.80, Time: 02:12:39 \n"
     ]
    },
    {
     "name": "stderr",
     "output_type": "stream",
     "text": [
      " 28%|██▊       | 567/2000 [2:12:49<6:26:14, 16.17s/it]"
     ]
    },
    {
     "name": "stdout",
     "output_type": "stream",
     "text": [
      "Ep. 568, Timestep 751376,  Ep.Timesteps 1600, Score: -36.37, Avg.Score: -85.89, Time: 02:12:56 \n"
     ]
    },
    {
     "name": "stderr",
     "output_type": "stream",
     "text": [
      " 28%|██▊       | 568/2000 [2:13:06<6:30:55, 16.38s/it]"
     ]
    },
    {
     "name": "stdout",
     "output_type": "stream",
     "text": [
      "Ep. 569, Timestep 752976,  Ep.Timesteps 1600, Score: -24.37, Avg.Score: -84.83, Time: 02:13:12 \n"
     ]
    },
    {
     "name": "stderr",
     "output_type": "stream",
     "text": [
      " 28%|██▊       | 569/2000 [2:13:22<6:24:43, 16.13s/it]"
     ]
    },
    {
     "name": "stdout",
     "output_type": "stream",
     "text": [
      "Ep. 570, Timestep 754576,  Ep.Timesteps 1600, Score: -34.82, Avg.Score: -83.92, Time: 02:13:28 \n"
     ]
    },
    {
     "name": "stderr",
     "output_type": "stream",
     "text": [
      " 28%|██▊       | 570/2000 [2:13:38<6:25:13, 16.16s/it]"
     ]
    },
    {
     "name": "stdout",
     "output_type": "stream",
     "text": [
      "Ep. 571, Timestep 756176,  Ep.Timesteps 1600, Score: -44.96, Avg.Score: -83.11, Time: 02:13:44 \n"
     ]
    },
    {
     "name": "stderr",
     "output_type": "stream",
     "text": [
      " 29%|██▊       | 571/2000 [2:13:54<6:21:48, 16.03s/it]"
     ]
    },
    {
     "name": "stdout",
     "output_type": "stream",
     "text": [
      "Ep. 572, Timestep 757776,  Ep.Timesteps 1600, Score: -45.39, Avg.Score: -82.28, Time: 02:14:00 \n"
     ]
    },
    {
     "name": "stderr",
     "output_type": "stream",
     "text": [
      " 29%|██▊       | 572/2000 [2:14:10<6:23:14, 16.10s/it]"
     ]
    },
    {
     "name": "stdout",
     "output_type": "stream",
     "text": [
      "Ep. 573, Timestep 759376,  Ep.Timesteps 1600, Score: -31.89, Avg.Score: -81.30, Time: 02:14:16 \n"
     ]
    },
    {
     "name": "stderr",
     "output_type": "stream",
     "text": [
      " 29%|██▊       | 573/2000 [2:14:26<6:25:35, 16.21s/it]"
     ]
    },
    {
     "name": "stdout",
     "output_type": "stream",
     "text": [
      "Ep. 574, Timestep 760976,  Ep.Timesteps 1600, Score: -26.29, Avg.Score: -80.28, Time: 02:14:32 \n"
     ]
    },
    {
     "name": "stderr",
     "output_type": "stream",
     "text": [
      " 29%|██▊       | 574/2000 [2:14:42<6:22:07, 16.08s/it]"
     ]
    },
    {
     "name": "stdout",
     "output_type": "stream",
     "text": [
      "Ep. 575, Timestep 762576,  Ep.Timesteps 1600, Score: -52.97, Avg.Score: -79.54, Time: 02:14:48 \n"
     ]
    },
    {
     "name": "stderr",
     "output_type": "stream",
     "text": [
      " 29%|██▉       | 575/2000 [2:14:59<6:25:27, 16.23s/it]"
     ]
    },
    {
     "name": "stdout",
     "output_type": "stream",
     "text": [
      "Ep. 576, Timestep 764176,  Ep.Timesteps 1600, Score: -36.55, Avg.Score: -78.61, Time: 02:15:05 \n"
     ]
    },
    {
     "name": "stderr",
     "output_type": "stream",
     "text": [
      " 29%|██▉       | 576/2000 [2:15:15<6:22:38, 16.12s/it]"
     ]
    },
    {
     "name": "stdout",
     "output_type": "stream",
     "text": [
      "Ep. 577, Timestep 765776,  Ep.Timesteps 1600, Score: -34.08, Avg.Score: -77.71, Time: 02:15:21 \n"
     ]
    },
    {
     "name": "stderr",
     "output_type": "stream",
     "text": [
      " 29%|██▉       | 577/2000 [2:15:31<6:24:11, 16.20s/it]"
     ]
    },
    {
     "name": "stdout",
     "output_type": "stream",
     "text": [
      "Ep. 578, Timestep 767376,  Ep.Timesteps 1600, Score: -30.60, Avg.Score: -76.71, Time: 02:15:37 \n"
     ]
    },
    {
     "name": "stderr",
     "output_type": "stream",
     "text": [
      " 29%|██▉       | 578/2000 [2:15:45<6:09:30, 15.59s/it]"
     ]
    },
    {
     "name": "stdout",
     "output_type": "stream",
     "text": [
      "Ep. 579, Timestep 768976,  Ep.Timesteps 1600, Score: -23.73, Avg.Score: -75.63, Time: 02:15:51 \n"
     ]
    },
    {
     "name": "stderr",
     "output_type": "stream",
     "text": [
      " 29%|██▉       | 579/2000 [2:16:00<6:07:48, 15.53s/it]"
     ]
    },
    {
     "name": "stdout",
     "output_type": "stream",
     "text": [
      "Ep. 580, Timestep 770576,  Ep.Timesteps 1600, Score: -22.17, Avg.Score: -74.61, Time: 02:16:06 \n"
     ]
    },
    {
     "name": "stderr",
     "output_type": "stream",
     "text": [
      " 29%|██▉       | 580/2000 [2:16:15<6:01:42, 15.28s/it]"
     ]
    },
    {
     "name": "stdout",
     "output_type": "stream",
     "text": [
      "Ep. 581, Timestep 772176,  Ep.Timesteps 1600, Score: -41.98, Avg.Score: -73.76, Time: 02:16:22 \n"
     ]
    },
    {
     "name": "stderr",
     "output_type": "stream",
     "text": [
      " 29%|██▉       | 581/2000 [2:16:32<6:13:40, 15.80s/it]"
     ]
    },
    {
     "name": "stdout",
     "output_type": "stream",
     "text": [
      "Ep. 582, Timestep 773776,  Ep.Timesteps 1600, Score: -25.43, Avg.Score: -72.74, Time: 02:16:38 \n"
     ]
    },
    {
     "name": "stderr",
     "output_type": "stream",
     "text": [
      " 29%|██▉       | 582/2000 [2:16:48<6:14:51, 15.86s/it]"
     ]
    },
    {
     "name": "stdout",
     "output_type": "stream",
     "text": [
      "Ep. 583, Timestep 775376,  Ep.Timesteps 1600, Score: -26.19, Avg.Score: -71.75, Time: 02:16:54 \n"
     ]
    },
    {
     "name": "stderr",
     "output_type": "stream",
     "text": [
      " 29%|██▉       | 583/2000 [2:17:04<6:15:02, 15.88s/it]"
     ]
    },
    {
     "name": "stdout",
     "output_type": "stream",
     "text": [
      "Ep. 584, Timestep 776976,  Ep.Timesteps 1600, Score: -26.74, Avg.Score: -70.77, Time: 02:17:11 \n"
     ]
    },
    {
     "name": "stderr",
     "output_type": "stream",
     "text": [
      " 29%|██▉       | 584/2000 [2:17:20<6:16:54, 15.97s/it]"
     ]
    },
    {
     "name": "stdout",
     "output_type": "stream",
     "text": [
      "Ep. 585, Timestep 778576,  Ep.Timesteps 1600, Score: -31.46, Avg.Score: -69.81, Time: 02:17:27 \n"
     ]
    },
    {
     "name": "stderr",
     "output_type": "stream",
     "text": [
      " 29%|██▉       | 585/2000 [2:17:36<6:17:14, 16.00s/it]"
     ]
    },
    {
     "name": "stdout",
     "output_type": "stream",
     "text": [
      "Ep. 586, Timestep 780176,  Ep.Timesteps 1600, Score: -34.43, Avg.Score: -68.88, Time: 02:17:43 \n"
     ]
    },
    {
     "name": "stderr",
     "output_type": "stream",
     "text": [
      " 29%|██▉       | 586/2000 [2:17:52<6:17:43, 16.03s/it]"
     ]
    },
    {
     "name": "stdout",
     "output_type": "stream",
     "text": [
      "Ep. 587, Timestep 781776,  Ep.Timesteps 1600, Score: -52.10, Avg.Score: -68.12, Time: 02:17:59 \n"
     ]
    },
    {
     "name": "stderr",
     "output_type": "stream",
     "text": [
      " 29%|██▉       | 587/2000 [2:18:08<6:16:14, 15.98s/it]"
     ]
    },
    {
     "name": "stdout",
     "output_type": "stream",
     "text": [
      "Ep. 588, Timestep 783376,  Ep.Timesteps 1600, Score: -27.27, Avg.Score: -67.12, Time: 02:18:15 \n"
     ]
    },
    {
     "name": "stderr",
     "output_type": "stream",
     "text": [
      " 29%|██▉       | 588/2000 [2:18:24<6:16:18, 15.99s/it]"
     ]
    },
    {
     "name": "stdout",
     "output_type": "stream",
     "text": [
      "Ep. 589, Timestep 784976,  Ep.Timesteps 1600, Score: -24.92, Avg.Score: -66.09, Time: 02:18:31 \n"
     ]
    },
    {
     "name": "stderr",
     "output_type": "stream",
     "text": [
      " 29%|██▉       | 589/2000 [2:18:40<6:13:38, 15.89s/it]"
     ]
    },
    {
     "name": "stdout",
     "output_type": "stream",
     "text": [
      "Ep. 590, Timestep 786576,  Ep.Timesteps 1600, Score: -47.10, Avg.Score: -65.31, Time: 02:18:46 \n"
     ]
    },
    {
     "name": "stderr",
     "output_type": "stream",
     "text": [
      " 30%|██▉       | 590/2000 [2:18:56<6:11:13, 15.80s/it]"
     ]
    },
    {
     "name": "stdout",
     "output_type": "stream",
     "text": [
      "Ep. 591, Timestep 788176,  Ep.Timesteps 1600, Score: -25.34, Avg.Score: -64.29, Time: 02:19:02 \n"
     ]
    },
    {
     "name": "stderr",
     "output_type": "stream",
     "text": [
      " 30%|██▉       | 591/2000 [2:19:12<6:12:15, 15.85s/it]"
     ]
    },
    {
     "name": "stdout",
     "output_type": "stream",
     "text": [
      "Ep. 592, Timestep 789776,  Ep.Timesteps 1600, Score: -28.10, Avg.Score: -63.30, Time: 02:19:18 \n"
     ]
    },
    {
     "name": "stderr",
     "output_type": "stream",
     "text": [
      " 30%|██▉       | 592/2000 [2:19:28<6:15:45, 16.01s/it]"
     ]
    },
    {
     "name": "stdout",
     "output_type": "stream",
     "text": [
      "Ep. 593, Timestep 791376,  Ep.Timesteps 1600, Score: -41.04, Avg.Score: -62.43, Time: 02:19:34 \n"
     ]
    },
    {
     "name": "stderr",
     "output_type": "stream",
     "text": [
      " 30%|██▉       | 593/2000 [2:19:44<6:14:51, 15.99s/it]"
     ]
    },
    {
     "name": "stdout",
     "output_type": "stream",
     "text": [
      "Ep. 594, Timestep 792976,  Ep.Timesteps 1600, Score: -33.14, Avg.Score: -61.50, Time: 02:19:50 \n"
     ]
    },
    {
     "name": "stderr",
     "output_type": "stream",
     "text": [
      " 30%|██▉       | 594/2000 [2:20:00<6:12:12, 15.88s/it]"
     ]
    },
    {
     "name": "stdout",
     "output_type": "stream",
     "text": [
      "Ep. 595, Timestep 794576,  Ep.Timesteps 1600, Score: -71.53, Avg.Score: -60.93, Time: 02:20:05 \n"
     ]
    },
    {
     "name": "stderr",
     "output_type": "stream",
     "text": [
      " 30%|██▉       | 595/2000 [2:20:15<6:05:50, 15.62s/it]"
     ]
    },
    {
     "name": "stdout",
     "output_type": "stream",
     "text": [
      "Ep. 596, Timestep 796176,  Ep.Timesteps 1600, Score: -62.48, Avg.Score: -60.30, Time: 02:20:20 \n"
     ]
    },
    {
     "name": "stderr",
     "output_type": "stream",
     "text": [
      " 30%|██▉       | 596/2000 [2:20:30<6:01:18, 15.44s/it]"
     ]
    },
    {
     "name": "stdout",
     "output_type": "stream",
     "text": [
      "Ep. 597, Timestep 797776,  Ep.Timesteps 1600, Score: -30.25, Avg.Score: -59.33, Time: 02:20:35 \n"
     ]
    },
    {
     "name": "stderr",
     "output_type": "stream",
     "text": [
      " 30%|██▉       | 597/2000 [2:20:45<6:00:31, 15.42s/it]"
     ]
    },
    {
     "name": "stdout",
     "output_type": "stream",
     "text": [
      "Ep. 598, Timestep 799376,  Ep.Timesteps 1600, Score: -27.08, Avg.Score: -58.23, Time: 02:20:51 \n"
     ]
    },
    {
     "name": "stderr",
     "output_type": "stream",
     "text": [
      " 30%|██▉       | 598/2000 [2:21:01<6:02:51, 15.53s/it]"
     ]
    },
    {
     "name": "stdout",
     "output_type": "stream",
     "text": [
      "Ep. 599, Timestep 800976,  Ep.Timesteps 1600, Score: -34.66, Avg.Score: -57.14, Time: 02:21:07 \n"
     ]
    },
    {
     "name": "stderr",
     "output_type": "stream",
     "text": [
      " 30%|██▉       | 599/2000 [2:21:17<6:06:55, 15.71s/it]"
     ]
    },
    {
     "name": "stdout",
     "output_type": "stream",
     "text": [
      "Ep. 600, Timestep 802576,  Ep.Timesteps 1600, Score: -36.15, Avg.Score: -56.24, Time: 02:21:23 \n"
     ]
    },
    {
     "name": "stderr",
     "output_type": "stream",
     "text": [
      " 30%|███       | 600/2000 [2:21:33<6:12:16, 15.95s/it]"
     ]
    },
    {
     "name": "stdout",
     "output_type": "stream",
     "text": [
      "Ep. 601, Timestep 804176,  Ep.Timesteps 1600, Score: -36.20, Avg.Score: -54.49, Time: 02:21:40 \n"
     ]
    },
    {
     "name": "stderr",
     "output_type": "stream",
     "text": [
      " 30%|███       | 601/2000 [2:21:51<6:20:46, 16.33s/it]"
     ]
    },
    {
     "name": "stdout",
     "output_type": "stream",
     "text": [
      "Ep. 602, Timestep 805776,  Ep.Timesteps 1600, Score: -27.48, Avg.Score: -52.77, Time: 02:21:57 \n"
     ]
    },
    {
     "name": "stderr",
     "output_type": "stream",
     "text": [
      " 30%|███       | 602/2000 [2:22:07<6:23:17, 16.45s/it]"
     ]
    },
    {
     "name": "stdout",
     "output_type": "stream",
     "text": [
      "Ep. 603, Timestep 807376,  Ep.Timesteps 1600, Score: -15.88, Avg.Score: -51.69, Time: 02:22:14 \n"
     ]
    },
    {
     "name": "stderr",
     "output_type": "stream",
     "text": [
      " 30%|███       | 603/2000 [2:22:24<6:24:19, 16.51s/it]"
     ]
    },
    {
     "name": "stdout",
     "output_type": "stream",
     "text": [
      "Ep. 604, Timestep 808976,  Ep.Timesteps 1600, Score: -19.03, Avg.Score: -51.53, Time: 02:22:30 \n"
     ]
    },
    {
     "name": "stderr",
     "output_type": "stream",
     "text": [
      " 30%|███       | 604/2000 [2:22:40<6:18:10, 16.25s/it]"
     ]
    },
    {
     "name": "stdout",
     "output_type": "stream",
     "text": [
      "Ep. 605, Timestep 810576,  Ep.Timesteps 1600, Score: -12.62, Avg.Score: -50.15, Time: 02:22:45 \n"
     ]
    },
    {
     "name": "stderr",
     "output_type": "stream",
     "text": [
      " 30%|███       | 605/2000 [2:22:55<6:10:03, 15.92s/it]"
     ]
    },
    {
     "name": "stdout",
     "output_type": "stream",
     "text": [
      "Ep. 606, Timestep 812176,  Ep.Timesteps 1600, Score: -20.77, Avg.Score: -49.60, Time: 02:23:01 \n"
     ]
    },
    {
     "name": "stderr",
     "output_type": "stream",
     "text": [
      " 30%|███       | 606/2000 [2:23:10<6:08:37, 15.87s/it]"
     ]
    },
    {
     "name": "stdout",
     "output_type": "stream",
     "text": [
      "Ep. 607, Timestep 813776,  Ep.Timesteps 1600, Score: -22.03, Avg.Score: -48.86, Time: 02:23:17 \n"
     ]
    },
    {
     "name": "stderr",
     "output_type": "stream",
     "text": [
      " 30%|███       | 607/2000 [2:23:27<6:15:38, 16.18s/it]"
     ]
    },
    {
     "name": "stdout",
     "output_type": "stream",
     "text": [
      "Ep. 608, Timestep 815376,  Ep.Timesteps 1600, Score: -19.45, Avg.Score: -47.44, Time: 02:23:34 \n"
     ]
    },
    {
     "name": "stderr",
     "output_type": "stream",
     "text": [
      " 30%|███       | 608/2000 [2:23:43<6:14:22, 16.14s/it]"
     ]
    },
    {
     "name": "stdout",
     "output_type": "stream",
     "text": [
      "Ep. 609, Timestep 816976,  Ep.Timesteps 1600, Score: -23.40, Avg.Score: -46.41, Time: 02:23:50 \n"
     ]
    },
    {
     "name": "stderr",
     "output_type": "stream",
     "text": [
      " 30%|███       | 609/2000 [2:23:58<6:02:27, 15.63s/it]"
     ]
    },
    {
     "name": "stdout",
     "output_type": "stream",
     "text": [
      "Ep. 610, Timestep 818576,  Ep.Timesteps 1600, Score: -31.52, Avg.Score: -45.11, Time: 02:24:04 \n"
     ]
    },
    {
     "name": "stderr",
     "output_type": "stream",
     "text": [
      " 30%|███       | 610/2000 [2:24:14<6:04:21, 15.73s/it]"
     ]
    },
    {
     "name": "stdout",
     "output_type": "stream",
     "text": [
      "Ep. 611, Timestep 820176,  Ep.Timesteps 1600, Score: -31.15, Avg.Score: -44.50, Time: 02:24:20 \n"
     ]
    },
    {
     "name": "stderr",
     "output_type": "stream",
     "text": [
      " 31%|███       | 611/2000 [2:24:30<6:07:22, 15.87s/it]"
     ]
    },
    {
     "name": "stdout",
     "output_type": "stream",
     "text": [
      "Ep. 612, Timestep 821776,  Ep.Timesteps 1600, Score: -26.12, Avg.Score: -43.73, Time: 02:24:37 \n"
     ]
    },
    {
     "name": "stderr",
     "output_type": "stream",
     "text": [
      " 31%|███       | 612/2000 [2:24:47<6:12:53, 16.12s/it]"
     ]
    },
    {
     "name": "stdout",
     "output_type": "stream",
     "text": [
      "Ep. 613, Timestep 823376,  Ep.Timesteps 1600, Score: -28.42, Avg.Score: -42.97, Time: 02:24:53 \n"
     ]
    },
    {
     "name": "stderr",
     "output_type": "stream",
     "text": [
      " 31%|███       | 613/2000 [2:25:02<6:07:10, 15.88s/it]"
     ]
    },
    {
     "name": "stdout",
     "output_type": "stream",
     "text": [
      "Ep. 614, Timestep 824976,  Ep.Timesteps 1600, Score: -47.18, Avg.Score: -42.57, Time: 02:25:08 \n"
     ]
    },
    {
     "name": "stderr",
     "output_type": "stream",
     "text": [
      " 31%|███       | 614/2000 [2:25:18<6:06:49, 15.88s/it]"
     ]
    },
    {
     "name": "stdout",
     "output_type": "stream",
     "text": [
      "Ep. 615, Timestep 826576,  Ep.Timesteps 1600, Score: -36.49, Avg.Score: -42.04, Time: 02:25:25 \n"
     ]
    },
    {
     "name": "stderr",
     "output_type": "stream",
     "text": [
      " 31%|███       | 615/2000 [2:25:34<6:08:15, 15.95s/it]"
     ]
    },
    {
     "name": "stdout",
     "output_type": "stream",
     "text": [
      "Ep. 616, Timestep 828176,  Ep.Timesteps 1600, Score: -38.96, Avg.Score: -41.67, Time: 02:25:41 \n"
     ]
    },
    {
     "name": "stderr",
     "output_type": "stream",
     "text": [
      " 31%|███       | 616/2000 [2:25:51<6:13:24, 16.19s/it]"
     ]
    },
    {
     "name": "stdout",
     "output_type": "stream",
     "text": [
      "Ep. 617, Timestep 829776,  Ep.Timesteps 1600, Score: -41.65, Avg.Score: -41.26, Time: 02:25:57 \n"
     ]
    },
    {
     "name": "stderr",
     "output_type": "stream",
     "text": [
      " 31%|███       | 617/2000 [2:26:07<6:15:30, 16.29s/it]"
     ]
    },
    {
     "name": "stdout",
     "output_type": "stream",
     "text": [
      "Ep. 618, Timestep 831376,  Ep.Timesteps 1600, Score: -14.73, Avg.Score: -40.90, Time: 02:26:13 \n"
     ]
    },
    {
     "name": "stderr",
     "output_type": "stream",
     "text": [
      " 31%|███       | 618/2000 [2:26:23<6:11:22, 16.12s/it]"
     ]
    },
    {
     "name": "stdout",
     "output_type": "stream",
     "text": [
      "Ep. 619, Timestep 832976,  Ep.Timesteps 1600, Score: -20.21, Avg.Score: -40.52, Time: 02:26:29 \n"
     ]
    },
    {
     "name": "stderr",
     "output_type": "stream",
     "text": [
      " 31%|███       | 619/2000 [2:26:39<6:07:33, 15.97s/it]"
     ]
    },
    {
     "name": "stdout",
     "output_type": "stream",
     "text": [
      "Ep. 620, Timestep 834576,  Ep.Timesteps 1600, Score: -43.83, Avg.Score: -40.24, Time: 02:26:45 \n"
     ]
    },
    {
     "name": "stderr",
     "output_type": "stream",
     "text": [
      " 31%|███       | 620/2000 [2:26:54<6:05:51, 15.91s/it]"
     ]
    },
    {
     "name": "stdout",
     "output_type": "stream",
     "text": [
      "Ep. 621, Timestep 836176,  Ep.Timesteps 1600, Score: -34.60, Avg.Score: -39.88, Time: 02:27:00 \n"
     ]
    },
    {
     "name": "stderr",
     "output_type": "stream",
     "text": [
      " 31%|███       | 621/2000 [2:27:10<6:02:55, 15.79s/it]"
     ]
    },
    {
     "name": "stdout",
     "output_type": "stream",
     "text": [
      "Ep. 622, Timestep 837776,  Ep.Timesteps 1600, Score: -37.81, Avg.Score: -39.54, Time: 02:27:16 \n"
     ]
    },
    {
     "name": "stderr",
     "output_type": "stream",
     "text": [
      " 31%|███       | 622/2000 [2:27:26<6:04:13, 15.86s/it]"
     ]
    },
    {
     "name": "stdout",
     "output_type": "stream",
     "text": [
      "Ep. 623, Timestep 839376,  Ep.Timesteps 1600, Score: -25.61, Avg.Score: -39.48, Time: 02:27:33 \n"
     ]
    },
    {
     "name": "stderr",
     "output_type": "stream",
     "text": [
      " 31%|███       | 623/2000 [2:27:42<6:06:58, 15.99s/it]"
     ]
    },
    {
     "name": "stdout",
     "output_type": "stream",
     "text": [
      "Ep. 624, Timestep 840976,  Ep.Timesteps 1600, Score: -25.37, Avg.Score: -39.16, Time: 02:27:49 \n"
     ]
    },
    {
     "name": "stderr",
     "output_type": "stream",
     "text": [
      " 31%|███       | 624/2000 [2:27:59<6:09:36, 16.12s/it]"
     ]
    },
    {
     "name": "stdout",
     "output_type": "stream",
     "text": [
      "Ep. 625, Timestep 842576,  Ep.Timesteps 1600, Score: -51.02, Avg.Score: -39.17, Time: 02:28:05 \n"
     ]
    },
    {
     "name": "stderr",
     "output_type": "stream",
     "text": [
      " 31%|███▏      | 625/2000 [2:28:15<6:10:04, 16.15s/it]"
     ]
    },
    {
     "name": "stdout",
     "output_type": "stream",
     "text": [
      "Ep. 626, Timestep 844176,  Ep.Timesteps 1600, Score: -22.99, Avg.Score: -38.71, Time: 02:28:21 \n"
     ]
    },
    {
     "name": "stderr",
     "output_type": "stream",
     "text": [
      " 31%|███▏      | 626/2000 [2:28:31<6:08:01, 16.07s/it]"
     ]
    },
    {
     "name": "stdout",
     "output_type": "stream",
     "text": [
      "Ep. 627, Timestep 845776,  Ep.Timesteps 1600, Score: -46.09, Avg.Score: -38.31, Time: 02:28:37 \n"
     ]
    },
    {
     "name": "stderr",
     "output_type": "stream",
     "text": [
      " 31%|███▏      | 627/2000 [2:28:47<6:07:18, 16.05s/it]"
     ]
    },
    {
     "name": "stdout",
     "output_type": "stream",
     "text": [
      "Ep. 628, Timestep 847376,  Ep.Timesteps 1600, Score: -36.96, Avg.Score: -38.04, Time: 02:28:53 \n"
     ]
    },
    {
     "name": "stderr",
     "output_type": "stream",
     "text": [
      " 31%|███▏      | 628/2000 [2:29:03<6:06:58, 16.05s/it]"
     ]
    },
    {
     "name": "stdout",
     "output_type": "stream",
     "text": [
      "Ep. 629, Timestep 848976,  Ep.Timesteps 1600, Score: -34.03, Avg.Score: -37.86, Time: 02:29:09 \n"
     ]
    },
    {
     "name": "stderr",
     "output_type": "stream",
     "text": [
      " 31%|███▏      | 629/2000 [2:29:20<6:11:26, 16.26s/it]"
     ]
    },
    {
     "name": "stdout",
     "output_type": "stream",
     "text": [
      "Ep. 630, Timestep 850576,  Ep.Timesteps 1600, Score: -64.29, Avg.Score: -38.00, Time: 02:29:26 \n"
     ]
    },
    {
     "name": "stderr",
     "output_type": "stream",
     "text": [
      " 32%|███▏      | 630/2000 [2:29:37<6:16:50, 16.50s/it]"
     ]
    },
    {
     "name": "stdout",
     "output_type": "stream",
     "text": [
      "Ep. 631, Timestep 852176,  Ep.Timesteps 1600, Score: -44.43, Avg.Score: -37.90, Time: 02:29:43 \n"
     ]
    },
    {
     "name": "stderr",
     "output_type": "stream",
     "text": [
      " 32%|███▏      | 631/2000 [2:29:53<6:13:23, 16.37s/it]"
     ]
    },
    {
     "name": "stdout",
     "output_type": "stream",
     "text": [
      "Ep. 632, Timestep 853776,  Ep.Timesteps 1600, Score: -55.13, Avg.Score: -37.89, Time: 02:29:59 \n"
     ]
    },
    {
     "name": "stderr",
     "output_type": "stream",
     "text": [
      " 32%|███▏      | 632/2000 [2:30:09<6:15:11, 16.46s/it]"
     ]
    },
    {
     "name": "stdout",
     "output_type": "stream",
     "text": [
      "Ep. 633, Timestep 855376,  Ep.Timesteps 1600, Score: -41.11, Avg.Score: -37.67, Time: 02:30:15 \n"
     ]
    },
    {
     "name": "stderr",
     "output_type": "stream",
     "text": [
      " 32%|███▏      | 633/2000 [2:30:25<6:10:39, 16.27s/it]"
     ]
    },
    {
     "name": "stdout",
     "output_type": "stream",
     "text": [
      "Ep. 634, Timestep 856976,  Ep.Timesteps 1600, Score: -22.43, Avg.Score: -37.42, Time: 02:30:31 \n"
     ]
    },
    {
     "name": "stderr",
     "output_type": "stream",
     "text": [
      " 32%|███▏      | 634/2000 [2:30:41<6:05:00, 16.03s/it]"
     ]
    },
    {
     "name": "stdout",
     "output_type": "stream",
     "text": [
      "Ep. 635, Timestep 858576,  Ep.Timesteps 1600, Score: -20.43, Avg.Score: -37.12, Time: 02:30:47 \n"
     ]
    },
    {
     "name": "stderr",
     "output_type": "stream",
     "text": [
      " 32%|███▏      | 635/2000 [2:30:57<6:03:36, 15.98s/it]"
     ]
    },
    {
     "name": "stdout",
     "output_type": "stream",
     "text": [
      "Ep. 636, Timestep 860176,  Ep.Timesteps 1600, Score: -49.54, Avg.Score: -37.17, Time: 02:31:03 \n"
     ]
    },
    {
     "name": "stderr",
     "output_type": "stream",
     "text": [
      " 32%|███▏      | 636/2000 [2:31:13<6:05:48, 16.09s/it]"
     ]
    },
    {
     "name": "stdout",
     "output_type": "stream",
     "text": [
      "Ep. 637, Timestep 861776,  Ep.Timesteps 1600, Score: -35.13, Avg.Score: -36.96, Time: 02:31:19 \n"
     ]
    },
    {
     "name": "stderr",
     "output_type": "stream",
     "text": [
      " 32%|███▏      | 637/2000 [2:31:29<6:08:01, 16.20s/it]"
     ]
    },
    {
     "name": "stdout",
     "output_type": "stream",
     "text": [
      "Ep. 638, Timestep 863376,  Ep.Timesteps 1600, Score: -37.74, Avg.Score: -36.98, Time: 02:31:35 \n"
     ]
    },
    {
     "name": "stderr",
     "output_type": "stream",
     "text": [
      " 32%|███▏      | 638/2000 [2:31:45<6:07:16, 16.18s/it]"
     ]
    },
    {
     "name": "stdout",
     "output_type": "stream",
     "text": [
      "Ep. 639, Timestep 864976,  Ep.Timesteps 1600, Score: -50.00, Avg.Score: -36.96, Time: 02:31:51 \n"
     ]
    },
    {
     "name": "stderr",
     "output_type": "stream",
     "text": [
      " 32%|███▏      | 639/2000 [2:32:01<6:05:26, 16.11s/it]"
     ]
    },
    {
     "name": "stdout",
     "output_type": "stream",
     "text": [
      "Ep. 640, Timestep 866576,  Ep.Timesteps 1600, Score: -44.68, Avg.Score: -36.87, Time: 02:32:07 \n"
     ]
    },
    {
     "name": "stderr",
     "output_type": "stream",
     "text": [
      " 32%|███▏      | 640/2000 [2:32:18<6:08:13, 16.25s/it]"
     ]
    },
    {
     "name": "stdout",
     "output_type": "stream",
     "text": [
      "Ep. 641, Timestep 866710,  Ep.Timesteps 134, Score: -113.03, Avg.Score: -37.34, Time: 02:32:21 \n"
     ]
    },
    {
     "name": "stderr",
     "output_type": "stream",
     "text": [
      " 32%|███▏      | 641/2000 [2:32:19<4:26:57, 11.79s/it]"
     ]
    },
    {
     "name": "stdout",
     "output_type": "stream",
     "text": [
      "Ep. 642, Timestep 868310,  Ep.Timesteps 1600, Score: -43.19, Avg.Score: -36.86, Time: 02:32:26 \n"
     ]
    },
    {
     "name": "stderr",
     "output_type": "stream",
     "text": [
      " 32%|███▏      | 642/2000 [2:32:35<4:55:42, 13.07s/it]"
     ]
    },
    {
     "name": "stdout",
     "output_type": "stream",
     "text": [
      "Ep. 643, Timestep 869910,  Ep.Timesteps 1600, Score: -44.07, Avg.Score: -36.99, Time: 02:32:41 \n"
     ]
    },
    {
     "name": "stderr",
     "output_type": "stream",
     "text": [
      " 32%|███▏      | 643/2000 [2:32:51<5:15:03, 13.93s/it]"
     ]
    },
    {
     "name": "stdout",
     "output_type": "stream",
     "text": [
      "Ep. 644, Timestep 871510,  Ep.Timesteps 1600, Score: -22.06, Avg.Score: -36.66, Time: 02:32:58 \n"
     ]
    },
    {
     "name": "stderr",
     "output_type": "stream",
     "text": [
      " 32%|███▏      | 644/2000 [2:33:09<5:37:11, 14.92s/it]"
     ]
    },
    {
     "name": "stdout",
     "output_type": "stream",
     "text": [
      "Ep. 645, Timestep 873110,  Ep.Timesteps 1600, Score: -32.95, Avg.Score: -36.67, Time: 02:33:15 \n"
     ]
    },
    {
     "name": "stderr",
     "output_type": "stream",
     "text": [
      " 32%|███▏      | 645/2000 [2:33:27<5:59:40, 15.93s/it]"
     ]
    },
    {
     "name": "stdout",
     "output_type": "stream",
     "text": [
      "Ep. 646, Timestep 874710,  Ep.Timesteps 1600, Score: -61.65, Avg.Score: -36.90, Time: 02:33:33 \n"
     ]
    },
    {
     "name": "stderr",
     "output_type": "stream",
     "text": [
      " 32%|███▏      | 646/2000 [2:33:42<5:56:57, 15.82s/it]"
     ]
    },
    {
     "name": "stdout",
     "output_type": "stream",
     "text": [
      "Ep. 647, Timestep 876310,  Ep.Timesteps 1600, Score: -69.42, Avg.Score: -37.20, Time: 02:33:48 \n"
     ]
    },
    {
     "name": "stderr",
     "output_type": "stream",
     "text": [
      " 32%|███▏      | 647/2000 [2:33:59<6:01:05, 16.01s/it]"
     ]
    },
    {
     "name": "stdout",
     "output_type": "stream",
     "text": [
      "Ep. 648, Timestep 877910,  Ep.Timesteps 1600, Score: -33.50, Avg.Score: -37.17, Time: 02:34:05 \n"
     ]
    },
    {
     "name": "stderr",
     "output_type": "stream",
     "text": [
      " 32%|███▏      | 648/2000 [2:34:15<5:58:44, 15.92s/it]"
     ]
    },
    {
     "name": "stdout",
     "output_type": "stream",
     "text": [
      "Ep. 649, Timestep 879510,  Ep.Timesteps 1600, Score: -61.05, Avg.Score: -37.36, Time: 02:34:21 \n"
     ]
    },
    {
     "name": "stderr",
     "output_type": "stream",
     "text": [
      " 32%|███▏      | 649/2000 [2:34:31<5:58:42, 15.93s/it]"
     ]
    },
    {
     "name": "stdout",
     "output_type": "stream",
     "text": [
      "Ep. 650, Timestep 881110,  Ep.Timesteps 1600, Score: -92.94, Avg.Score: -37.67, Time: 02:34:37 \n"
     ]
    },
    {
     "name": "stderr",
     "output_type": "stream",
     "text": [
      " 32%|███▎      | 650/2000 [2:34:48<6:07:11, 16.32s/it]"
     ]
    },
    {
     "name": "stdout",
     "output_type": "stream",
     "text": [
      "Ep. 651, Timestep 882710,  Ep.Timesteps 1600, Score: -30.39, Avg.Score: -37.49, Time: 02:34:54 \n"
     ]
    },
    {
     "name": "stderr",
     "output_type": "stream",
     "text": [
      " 33%|███▎      | 651/2000 [2:35:03<6:00:35, 16.04s/it]"
     ]
    },
    {
     "name": "stdout",
     "output_type": "stream",
     "text": [
      "Ep. 652, Timestep 882761,  Ep.Timesteps 51, Score: -113.90, Avg.Score: -38.33, Time: 02:35:06 \n"
     ]
    },
    {
     "name": "stderr",
     "output_type": "stream",
     "text": [
      " 33%|███▎      | 652/2000 [2:35:04<4:15:56, 11.39s/it]"
     ]
    },
    {
     "name": "stdout",
     "output_type": "stream",
     "text": [
      "Ep. 653, Timestep 882813,  Ep.Timesteps 52, Score: -114.28, Avg.Score: -38.89, Time: 02:35:07 \n"
     ]
    },
    {
     "name": "stderr",
     "output_type": "stream",
     "text": [
      " 33%|███▎      | 653/2000 [2:35:04<3:03:05,  8.16s/it]"
     ]
    },
    {
     "name": "stdout",
     "output_type": "stream",
     "text": [
      "Ep. 654, Timestep 882863,  Ep.Timesteps 50, Score: -113.85, Avg.Score: -39.55, Time: 02:35:07 \n"
     ]
    },
    {
     "name": "stderr",
     "output_type": "stream",
     "text": [
      " 33%|███▎      | 654/2000 [2:35:05<2:12:00,  5.88s/it]"
     ]
    },
    {
     "name": "stdout",
     "output_type": "stream",
     "text": [
      "Ep. 655, Timestep 882914,  Ep.Timesteps 51, Score: -114.10, Avg.Score: -40.21, Time: 02:35:08 \n"
     ]
    },
    {
     "name": "stderr",
     "output_type": "stream",
     "text": [
      " 33%|███▎      | 655/2000 [2:35:06<1:36:18,  4.30s/it]"
     ]
    },
    {
     "name": "stdout",
     "output_type": "stream",
     "text": [
      "Ep. 656, Timestep 882968,  Ep.Timesteps 54, Score: -114.29, Avg.Score: -40.83, Time: 02:35:09 \n"
     ]
    },
    {
     "name": "stderr",
     "output_type": "stream",
     "text": [
      " 33%|███▎      | 656/2000 [2:35:06<1:11:22,  3.19s/it]"
     ]
    },
    {
     "name": "stdout",
     "output_type": "stream",
     "text": [
      "Ep. 657, Timestep 883018,  Ep.Timesteps 50, Score: -113.60, Avg.Score: -41.52, Time: 02:35:09 \n"
     ]
    },
    {
     "name": "stderr",
     "output_type": "stream",
     "text": [
      " 33%|███▎      | 657/2000 [2:35:07<53:43,  2.40s/it]  "
     ]
    },
    {
     "name": "stdout",
     "output_type": "stream",
     "text": [
      "Ep. 658, Timestep 883069,  Ep.Timesteps 51, Score: -114.85, Avg.Score: -41.83, Time: 02:35:10 \n"
     ]
    },
    {
     "name": "stderr",
     "output_type": "stream",
     "text": [
      " 33%|███▎      | 658/2000 [2:35:07<41:40,  1.86s/it]"
     ]
    },
    {
     "name": "stdout",
     "output_type": "stream",
     "text": [
      "Ep. 659, Timestep 883123,  Ep.Timesteps 54, Score: -116.84, Avg.Score: -42.62, Time: 02:35:10 \n"
     ]
    },
    {
     "name": "stderr",
     "output_type": "stream",
     "text": [
      " 33%|███▎      | 659/2000 [2:35:08<33:14,  1.49s/it]"
     ]
    },
    {
     "name": "stdout",
     "output_type": "stream",
     "text": [
      "Ep. 660, Timestep 883209,  Ep.Timesteps 86, Score: -127.56, Avg.Score: -43.33, Time: 02:35:11 \n"
     ]
    },
    {
     "name": "stderr",
     "output_type": "stream",
     "text": [
      " 33%|███▎      | 660/2000 [2:35:09<29:25,  1.32s/it]"
     ]
    },
    {
     "name": "stdout",
     "output_type": "stream",
     "text": [
      "Ep. 661, Timestep 883258,  Ep.Timesteps 49, Score: -113.32, Avg.Score: -44.22, Time: 02:35:12 \n"
     ]
    },
    {
     "name": "stderr",
     "output_type": "stream",
     "text": [
      " 33%|███▎      | 661/2000 [2:35:09<24:14,  1.09s/it]"
     ]
    },
    {
     "name": "stdout",
     "output_type": "stream",
     "text": [
      "Ep. 662, Timestep 883307,  Ep.Timesteps 49, Score: -113.45, Avg.Score: -45.06, Time: 02:35:12 \n"
     ]
    },
    {
     "name": "stderr",
     "output_type": "stream",
     "text": [
      " 33%|███▎      | 662/2000 [2:35:10<20:52,  1.07it/s]"
     ]
    },
    {
     "name": "stdout",
     "output_type": "stream",
     "text": [
      "Ep. 663, Timestep 883374,  Ep.Timesteps 67, Score: -121.44, Avg.Score: -46.01, Time: 02:35:13 \n"
     ]
    },
    {
     "name": "stderr",
     "output_type": "stream",
     "text": [
      " 33%|███▎      | 663/2000 [2:35:11<20:03,  1.11it/s]"
     ]
    },
    {
     "name": "stdout",
     "output_type": "stream",
     "text": [
      "Ep. 664, Timestep 883438,  Ep.Timesteps 64, Score: -116.70, Avg.Score: -47.00, Time: 02:35:14 \n"
     ]
    },
    {
     "name": "stderr",
     "output_type": "stream",
     "text": [
      " 33%|███▎      | 664/2000 [2:35:12<19:19,  1.15it/s]"
     ]
    },
    {
     "name": "stdout",
     "output_type": "stream",
     "text": [
      "Ep. 665, Timestep 883486,  Ep.Timesteps 48, Score: -113.13, Avg.Score: -47.97, Time: 02:35:15 \n"
     ]
    },
    {
     "name": "stderr",
     "output_type": "stream",
     "text": [
      " 33%|███▎      | 665/2000 [2:35:12<17:25,  1.28it/s]"
     ]
    },
    {
     "name": "stdout",
     "output_type": "stream",
     "text": [
      "Ep. 666, Timestep 883536,  Ep.Timesteps 50, Score: -114.00, Avg.Score: -48.76, Time: 02:35:15 \n"
     ]
    },
    {
     "name": "stderr",
     "output_type": "stream",
     "text": [
      " 33%|███▎      | 666/2000 [2:35:13<15:48,  1.41it/s]"
     ]
    },
    {
     "name": "stdout",
     "output_type": "stream",
     "text": [
      "Ep. 667, Timestep 883600,  Ep.Timesteps 64, Score: -119.23, Avg.Score: -49.67, Time: 02:35:16 \n"
     ]
    },
    {
     "name": "stderr",
     "output_type": "stream",
     "text": [
      " 33%|███▎      | 667/2000 [2:35:13<15:31,  1.43it/s]"
     ]
    },
    {
     "name": "stdout",
     "output_type": "stream",
     "text": [
      "Ep. 668, Timestep 883671,  Ep.Timesteps 71, Score: -121.82, Avg.Score: -50.52, Time: 02:35:16 \n"
     ]
    },
    {
     "name": "stderr",
     "output_type": "stream",
     "text": [
      " 33%|███▎      | 668/2000 [2:35:14<15:41,  1.41it/s]"
     ]
    },
    {
     "name": "stdout",
     "output_type": "stream",
     "text": [
      "Ep. 669, Timestep 883707,  Ep.Timesteps 36, Score: -109.24, Avg.Score: -51.37, Time: 02:35:17 \n"
     ]
    },
    {
     "name": "stderr",
     "output_type": "stream",
     "text": [
      " 33%|███▎      | 669/2000 [2:35:14<13:34,  1.63it/s]"
     ]
    },
    {
     "name": "stdout",
     "output_type": "stream",
     "text": [
      "Ep. 670, Timestep 883744,  Ep.Timesteps 37, Score: -109.46, Avg.Score: -52.12, Time: 02:35:18 \n"
     ]
    },
    {
     "name": "stderr",
     "output_type": "stream",
     "text": [
      " 34%|███▎      | 670/2000 [2:35:15<11:58,  1.85it/s]"
     ]
    },
    {
     "name": "stdout",
     "output_type": "stream",
     "text": [
      "Ep. 671, Timestep 885344,  Ep.Timesteps 1600, Score: -30.49, Avg.Score: -51.97, Time: 02:35:21 \n"
     ]
    },
    {
     "name": "stderr",
     "output_type": "stream",
     "text": [
      " 34%|███▎      | 671/2000 [2:35:31<1:53:28,  5.12s/it]"
     ]
    },
    {
     "name": "stdout",
     "output_type": "stream",
     "text": [
      "Ep. 672, Timestep 885391,  Ep.Timesteps 47, Score: -113.43, Avg.Score: -52.65, Time: 02:35:34 \n"
     ]
    },
    {
     "name": "stderr",
     "output_type": "stream",
     "text": [
      " 34%|███▎      | 672/2000 [2:35:31<1:22:56,  3.75s/it]"
     ]
    },
    {
     "name": "stdout",
     "output_type": "stream",
     "text": [
      "Ep. 673, Timestep 885442,  Ep.Timesteps 51, Score: -113.94, Avg.Score: -53.47, Time: 02:35:34 \n"
     ]
    },
    {
     "name": "stderr",
     "output_type": "stream",
     "text": [
      " 34%|███▎      | 673/2000 [2:35:32<1:01:55,  2.80s/it]"
     ]
    },
    {
     "name": "stdout",
     "output_type": "stream",
     "text": [
      "Ep. 674, Timestep 885492,  Ep.Timesteps 50, Score: -113.63, Avg.Score: -54.35, Time: 02:35:35 \n"
     ]
    },
    {
     "name": "stderr",
     "output_type": "stream",
     "text": [
      " 34%|███▎      | 674/2000 [2:35:32<46:57,  2.13s/it]  "
     ]
    },
    {
     "name": "stdout",
     "output_type": "stream",
     "text": [
      "Ep. 675, Timestep 885541,  Ep.Timesteps 49, Score: -113.40, Avg.Score: -54.95, Time: 02:35:35 \n"
     ]
    },
    {
     "name": "stderr",
     "output_type": "stream",
     "text": [
      " 34%|███▍      | 675/2000 [2:35:33<36:23,  1.65s/it]"
     ]
    },
    {
     "name": "stdout",
     "output_type": "stream",
     "text": [
      "Ep. 676, Timestep 885592,  Ep.Timesteps 51, Score: -113.83, Avg.Score: -55.72, Time: 02:35:36 \n"
     ]
    },
    {
     "name": "stderr",
     "output_type": "stream",
     "text": [
      " 34%|███▍      | 676/2000 [2:35:33<29:10,  1.32s/it]"
     ]
    },
    {
     "name": "stdout",
     "output_type": "stream",
     "text": [
      "Ep. 677, Timestep 885641,  Ep.Timesteps 49, Score: -113.41, Avg.Score: -56.52, Time: 02:35:37 \n"
     ]
    },
    {
     "name": "stderr",
     "output_type": "stream",
     "text": [
      " 34%|███▍      | 677/2000 [2:35:34<23:56,  1.09s/it]"
     ]
    },
    {
     "name": "stdout",
     "output_type": "stream",
     "text": [
      "Ep. 678, Timestep 885691,  Ep.Timesteps 50, Score: -113.74, Avg.Score: -57.35, Time: 02:35:37 \n"
     ]
    },
    {
     "name": "stderr",
     "output_type": "stream",
     "text": [
      " 34%|███▍      | 678/2000 [2:35:35<20:41,  1.06it/s]"
     ]
    },
    {
     "name": "stdout",
     "output_type": "stream",
     "text": [
      "Ep. 679, Timestep 885751,  Ep.Timesteps 60, Score: -115.45, Avg.Score: -58.27, Time: 02:35:38 \n"
     ]
    },
    {
     "name": "stderr",
     "output_type": "stream",
     "text": [
      " 34%|███▍      | 679/2000 [2:35:35<18:54,  1.16it/s]"
     ]
    },
    {
     "name": "stdout",
     "output_type": "stream",
     "text": [
      "Ep. 680, Timestep 885801,  Ep.Timesteps 50, Score: -113.77, Avg.Score: -59.18, Time: 02:35:38 \n"
     ]
    },
    {
     "name": "stderr",
     "output_type": "stream",
     "text": [
      " 34%|███▍      | 680/2000 [2:35:36<16:46,  1.31it/s]"
     ]
    },
    {
     "name": "stdout",
     "output_type": "stream",
     "text": [
      "Ep. 681, Timestep 886489,  Ep.Timesteps 688, Score: -183.79, Avg.Score: -60.60, Time: 02:35:40 \n"
     ]
    },
    {
     "name": "stderr",
     "output_type": "stream",
     "text": [
      " 34%|███▍      | 681/2000 [2:35:43<59:40,  2.71s/it]"
     ]
    },
    {
     "name": "stdout",
     "output_type": "stream",
     "text": [
      "Ep. 682, Timestep 886545,  Ep.Timesteps 56, Score: -114.84, Avg.Score: -61.49, Time: 02:35:46 \n"
     ]
    },
    {
     "name": "stderr",
     "output_type": "stream",
     "text": [
      " 34%|███▍      | 682/2000 [2:35:44<45:12,  2.06s/it]"
     ]
    },
    {
     "name": "stdout",
     "output_type": "stream",
     "text": [
      "Ep. 683, Timestep 886609,  Ep.Timesteps 64, Score: -116.01, Avg.Score: -62.39, Time: 02:35:47 \n"
     ]
    },
    {
     "name": "stderr",
     "output_type": "stream",
     "text": [
      " 34%|███▍      | 683/2000 [2:35:44<35:27,  1.62s/it]"
     ]
    },
    {
     "name": "stdout",
     "output_type": "stream",
     "text": [
      "Ep. 684, Timestep 886683,  Ep.Timesteps 74, Score: -117.84, Avg.Score: -63.30, Time: 02:35:47 \n"
     ]
    },
    {
     "name": "stderr",
     "output_type": "stream",
     "text": [
      " 34%|███▍      | 684/2000 [2:35:45<29:32,  1.35s/it]"
     ]
    },
    {
     "name": "stdout",
     "output_type": "stream",
     "text": [
      "Ep. 685, Timestep 886749,  Ep.Timesteps 66, Score: -116.61, Avg.Score: -64.16, Time: 02:35:48 \n"
     ]
    },
    {
     "name": "stderr",
     "output_type": "stream",
     "text": [
      " 34%|███▍      | 685/2000 [2:35:46<25:11,  1.15s/it]"
     ]
    },
    {
     "name": "stdout",
     "output_type": "stream",
     "text": [
      "Ep. 686, Timestep 887210,  Ep.Timesteps 461, Score: -151.15, Avg.Score: -65.32, Time: 02:35:50 \n"
     ]
    },
    {
     "name": "stderr",
     "output_type": "stream",
     "text": [
      " 34%|███▍      | 686/2000 [2:35:51<50:27,  2.30s/it]"
     ]
    },
    {
     "name": "stdout",
     "output_type": "stream",
     "text": [
      "Ep. 687, Timestep 887278,  Ep.Timesteps 68, Score: -117.15, Avg.Score: -65.97, Time: 02:35:54 \n"
     ]
    },
    {
     "name": "stderr",
     "output_type": "stream",
     "text": [
      " 34%|███▍      | 687/2000 [2:35:51<39:12,  1.79s/it]"
     ]
    },
    {
     "name": "stdout",
     "output_type": "stream",
     "text": [
      "Ep. 688, Timestep 887351,  Ep.Timesteps 73, Score: -117.88, Avg.Score: -66.88, Time: 02:35:54 \n"
     ]
    },
    {
     "name": "stderr",
     "output_type": "stream",
     "text": [
      " 34%|███▍      | 688/2000 [2:35:52<32:03,  1.47s/it]"
     ]
    },
    {
     "name": "stdout",
     "output_type": "stream",
     "text": [
      "Ep. 689, Timestep 887422,  Ep.Timesteps 71, Score: -117.04, Avg.Score: -67.80, Time: 02:35:55 \n"
     ]
    },
    {
     "name": "stderr",
     "output_type": "stream",
     "text": [
      " 34%|███▍      | 689/2000 [2:35:53<27:04,  1.24s/it]"
     ]
    },
    {
     "name": "stdout",
     "output_type": "stream",
     "text": [
      "Ep. 690, Timestep 889022,  Ep.Timesteps 1600, Score: -75.92, Avg.Score: -68.09, Time: 02:35:59 \n"
     ]
    },
    {
     "name": "stderr",
     "output_type": "stream",
     "text": [
      " 34%|███▍      | 690/2000 [2:36:09<2:05:14,  5.74s/it]"
     ]
    },
    {
     "name": "stdout",
     "output_type": "stream",
     "text": [
      "Ep. 691, Timestep 889115,  Ep.Timesteps 93, Score: -118.71, Avg.Score: -69.02, Time: 02:36:12 \n"
     ]
    },
    {
     "name": "stderr",
     "output_type": "stream",
     "text": [
      " 35%|███▍      | 691/2000 [2:36:10<1:34:43,  4.34s/it]"
     ]
    },
    {
     "name": "stdout",
     "output_type": "stream",
     "text": [
      "Ep. 692, Timestep 889200,  Ep.Timesteps 85, Score: -118.77, Avg.Score: -69.93, Time: 02:36:13 \n"
     ]
    },
    {
     "name": "stderr",
     "output_type": "stream",
     "text": [
      " 35%|███▍      | 692/2000 [2:36:11<1:12:36,  3.33s/it]"
     ]
    },
    {
     "name": "stdout",
     "output_type": "stream",
     "text": [
      "Ep. 693, Timestep 890800,  Ep.Timesteps 1600, Score: -66.06, Avg.Score: -70.18, Time: 02:36:17 \n"
     ]
    },
    {
     "name": "stderr",
     "output_type": "stream",
     "text": [
      " 35%|███▍      | 693/2000 [2:36:27<2:36:49,  7.20s/it]"
     ]
    },
    {
     "name": "stdout",
     "output_type": "stream",
     "text": [
      "Ep. 694, Timestep 890885,  Ep.Timesteps 85, Score: -118.20, Avg.Score: -71.03, Time: 02:36:30 \n"
     ]
    },
    {
     "name": "stderr",
     "output_type": "stream",
     "text": [
      " 35%|███▍      | 694/2000 [2:36:28<1:55:46,  5.32s/it]"
     ]
    },
    {
     "name": "stdout",
     "output_type": "stream",
     "text": [
      "Ep. 695, Timestep 890935,  Ep.Timesteps 50, Score: -114.39, Avg.Score: -71.46, Time: 02:36:31 \n"
     ]
    },
    {
     "name": "stderr",
     "output_type": "stream",
     "text": [
      " 35%|███▍      | 695/2000 [2:36:29<1:24:14,  3.87s/it]"
     ]
    },
    {
     "name": "stdout",
     "output_type": "stream",
     "text": [
      "Ep. 696, Timestep 890995,  Ep.Timesteps 60, Score: -115.82, Avg.Score: -71.99, Time: 02:36:32 \n"
     ]
    },
    {
     "name": "stderr",
     "output_type": "stream",
     "text": [
      " 35%|███▍      | 696/2000 [2:36:29<1:03:27,  2.92s/it]"
     ]
    },
    {
     "name": "stdout",
     "output_type": "stream",
     "text": [
      "Ep. 697, Timestep 891042,  Ep.Timesteps 47, Score: -112.94, Avg.Score: -72.82, Time: 02:36:32 \n"
     ]
    },
    {
     "name": "stderr",
     "output_type": "stream",
     "text": [
      " 35%|███▍      | 697/2000 [2:36:30<47:47,  2.20s/it]  "
     ]
    },
    {
     "name": "stdout",
     "output_type": "stream",
     "text": [
      "Ep. 698, Timestep 891097,  Ep.Timesteps 55, Score: -114.54, Avg.Score: -73.69, Time: 02:36:33 \n"
     ]
    },
    {
     "name": "stderr",
     "output_type": "stream",
     "text": [
      " 35%|███▍      | 698/2000 [2:36:30<37:12,  1.71s/it]"
     ]
    },
    {
     "name": "stdout",
     "output_type": "stream",
     "text": [
      "Ep. 699, Timestep 891154,  Ep.Timesteps 57, Score: -115.29, Avg.Score: -74.50, Time: 02:36:33 \n"
     ]
    },
    {
     "name": "stderr",
     "output_type": "stream",
     "text": [
      " 35%|███▍      | 699/2000 [2:36:31<29:44,  1.37s/it]"
     ]
    },
    {
     "name": "stdout",
     "output_type": "stream",
     "text": [
      "Ep. 700, Timestep 891214,  Ep.Timesteps 60, Score: -114.20, Avg.Score: -75.28, Time: 02:36:34 \n"
     ]
    },
    {
     "name": "stderr",
     "output_type": "stream",
     "text": [
      " 35%|███▌      | 700/2000 [2:36:32<25:09,  1.16s/it]"
     ]
    },
    {
     "name": "stdout",
     "output_type": "stream",
     "text": [
      "Ep. 701, Timestep 891264,  Ep.Timesteps 50, Score: -113.92, Avg.Score: -76.06, Time: 02:36:35 \n"
     ]
    },
    {
     "name": "stderr",
     "output_type": "stream",
     "text": [
      " 35%|███▌      | 701/2000 [2:36:32<20:49,  1.04it/s]"
     ]
    },
    {
     "name": "stdout",
     "output_type": "stream",
     "text": [
      "Ep. 702, Timestep 891323,  Ep.Timesteps 59, Score: -115.67, Avg.Score: -76.94, Time: 02:36:35 \n"
     ]
    },
    {
     "name": "stderr",
     "output_type": "stream",
     "text": [
      " 35%|███▌      | 702/2000 [2:36:33<18:15,  1.19it/s]"
     ]
    },
    {
     "name": "stdout",
     "output_type": "stream",
     "text": [
      "Ep. 703, Timestep 891372,  Ep.Timesteps 49, Score: -114.19, Avg.Score: -77.92, Time: 02:36:36 \n"
     ]
    },
    {
     "name": "stderr",
     "output_type": "stream",
     "text": [
      " 35%|███▌      | 703/2000 [2:36:33<16:20,  1.32it/s]"
     ]
    },
    {
     "name": "stdout",
     "output_type": "stream",
     "text": [
      "Ep. 704, Timestep 891418,  Ep.Timesteps 46, Score: -113.39, Avg.Score: -78.87, Time: 02:36:36 \n"
     ]
    },
    {
     "name": "stderr",
     "output_type": "stream",
     "text": [
      " 35%|███▌      | 704/2000 [2:36:34<14:49,  1.46it/s]"
     ]
    },
    {
     "name": "stdout",
     "output_type": "stream",
     "text": [
      "Ep. 705, Timestep 891475,  Ep.Timesteps 57, Score: -115.23, Avg.Score: -79.89, Time: 02:36:37 \n"
     ]
    },
    {
     "name": "stderr",
     "output_type": "stream",
     "text": [
      " 35%|███▌      | 705/2000 [2:36:34<14:20,  1.51it/s]"
     ]
    },
    {
     "name": "stdout",
     "output_type": "stream",
     "text": [
      "Ep. 706, Timestep 891511,  Ep.Timesteps 36, Score: -110.24, Avg.Score: -80.79, Time: 02:36:37 \n"
     ]
    },
    {
     "name": "stderr",
     "output_type": "stream",
     "text": [
      " 35%|███▌      | 706/2000 [2:36:35<12:31,  1.72it/s]"
     ]
    },
    {
     "name": "stdout",
     "output_type": "stream",
     "text": [
      "Ep. 707, Timestep 891550,  Ep.Timesteps 39, Score: -111.28, Avg.Score: -81.68, Time: 02:36:38 \n"
     ]
    },
    {
     "name": "stderr",
     "output_type": "stream",
     "text": [
      " 35%|███▌      | 707/2000 [2:36:35<11:41,  1.84it/s]"
     ]
    },
    {
     "name": "stdout",
     "output_type": "stream",
     "text": [
      "Ep. 708, Timestep 891604,  Ep.Timesteps 54, Score: -114.75, Avg.Score: -82.63, Time: 02:36:38 \n"
     ]
    },
    {
     "name": "stderr",
     "output_type": "stream",
     "text": [
      " 35%|███▌      | 708/2000 [2:36:36<12:06,  1.78it/s]"
     ]
    },
    {
     "name": "stdout",
     "output_type": "stream",
     "text": [
      "Ep. 709, Timestep 891651,  Ep.Timesteps 47, Score: -113.49, Avg.Score: -83.53, Time: 02:36:39 \n"
     ]
    },
    {
     "name": "stderr",
     "output_type": "stream",
     "text": [
      " 35%|███▌      | 709/2000 [2:36:36<11:56,  1.80it/s]"
     ]
    },
    {
     "name": "stdout",
     "output_type": "stream",
     "text": [
      "Ep. 710, Timestep 891698,  Ep.Timesteps 47, Score: -113.88, Avg.Score: -84.36, Time: 02:36:39 \n"
     ]
    },
    {
     "name": "stderr",
     "output_type": "stream",
     "text": [
      " 36%|███▌      | 710/2000 [2:36:37<11:46,  1.83it/s]"
     ]
    },
    {
     "name": "stdout",
     "output_type": "stream",
     "text": [
      "Ep. 711, Timestep 891751,  Ep.Timesteps 53, Score: -114.45, Avg.Score: -85.19, Time: 02:36:40 \n"
     ]
    },
    {
     "name": "stderr",
     "output_type": "stream",
     "text": [
      " 36%|███▌      | 711/2000 [2:36:37<12:00,  1.79it/s]"
     ]
    },
    {
     "name": "stdout",
     "output_type": "stream",
     "text": [
      "Ep. 712, Timestep 891787,  Ep.Timesteps 36, Score: -110.23, Avg.Score: -86.03, Time: 02:36:40 \n"
     ]
    },
    {
     "name": "stderr",
     "output_type": "stream",
     "text": [
      " 36%|███▌      | 712/2000 [2:36:38<11:04,  1.94it/s]"
     ]
    },
    {
     "name": "stdout",
     "output_type": "stream",
     "text": [
      "Ep. 713, Timestep 891835,  Ep.Timesteps 48, Score: -113.77, Avg.Score: -86.88, Time: 02:36:41 \n"
     ]
    },
    {
     "name": "stderr",
     "output_type": "stream",
     "text": [
      " 36%|███▌      | 713/2000 [2:36:38<11:03,  1.94it/s]"
     ]
    },
    {
     "name": "stdout",
     "output_type": "stream",
     "text": [
      "Ep. 714, Timestep 891889,  Ep.Timesteps 54, Score: -115.15, Avg.Score: -87.56, Time: 02:36:41 \n"
     ]
    },
    {
     "name": "stderr",
     "output_type": "stream",
     "text": [
      " 36%|███▌      | 714/2000 [2:36:39<11:11,  1.92it/s]"
     ]
    },
    {
     "name": "stdout",
     "output_type": "stream",
     "text": [
      "Ep. 715, Timestep 891927,  Ep.Timesteps 38, Score: -111.04, Avg.Score: -88.31, Time: 02:36:42 \n"
     ]
    },
    {
     "name": "stderr",
     "output_type": "stream",
     "text": [
      " 36%|███▌      | 715/2000 [2:36:39<10:32,  2.03it/s]"
     ]
    },
    {
     "name": "stdout",
     "output_type": "stream",
     "text": [
      "Ep. 716, Timestep 891967,  Ep.Timesteps 40, Score: -112.19, Avg.Score: -89.04, Time: 02:36:42 \n"
     ]
    },
    {
     "name": "stderr",
     "output_type": "stream",
     "text": [
      " 36%|███▌      | 716/2000 [2:36:40<10:14,  2.09it/s]"
     ]
    },
    {
     "name": "stdout",
     "output_type": "stream",
     "text": [
      "Ep. 717, Timestep 892021,  Ep.Timesteps 54, Score: -115.20, Avg.Score: -89.78, Time: 02:36:43 \n"
     ]
    },
    {
     "name": "stderr",
     "output_type": "stream",
     "text": [
      " 36%|███▌      | 717/2000 [2:36:40<11:04,  1.93it/s]"
     ]
    },
    {
     "name": "stdout",
     "output_type": "stream",
     "text": [
      "Ep. 718, Timestep 892079,  Ep.Timesteps 58, Score: -114.69, Avg.Score: -90.78, Time: 02:36:43 \n"
     ]
    },
    {
     "name": "stderr",
     "output_type": "stream",
     "text": [
      " 36%|███▌      | 718/2000 [2:36:41<11:54,  1.79it/s]"
     ]
    },
    {
     "name": "stdout",
     "output_type": "stream",
     "text": [
      "Ep. 719, Timestep 892134,  Ep.Timesteps 55, Score: -114.87, Avg.Score: -91.72, Time: 02:36:44 \n"
     ]
    },
    {
     "name": "stderr",
     "output_type": "stream",
     "text": [
      " 36%|███▌      | 719/2000 [2:36:42<12:23,  1.72it/s]"
     ]
    },
    {
     "name": "stdout",
     "output_type": "stream",
     "text": [
      "Ep. 720, Timestep 892197,  Ep.Timesteps 63, Score: -115.72, Avg.Score: -92.44, Time: 02:36:45 \n"
     ]
    },
    {
     "name": "stderr",
     "output_type": "stream",
     "text": [
      " 36%|███▌      | 720/2000 [2:36:42<12:41,  1.68it/s]"
     ]
    },
    {
     "name": "stdout",
     "output_type": "stream",
     "text": [
      "Ep. 721, Timestep 892254,  Ep.Timesteps 57, Score: -115.63, Avg.Score: -93.25, Time: 02:36:45 \n"
     ]
    },
    {
     "name": "stderr",
     "output_type": "stream",
     "text": [
      " 36%|███▌      | 721/2000 [2:36:43<12:31,  1.70it/s]"
     ]
    },
    {
     "name": "stdout",
     "output_type": "stream",
     "text": [
      "Ep. 722, Timestep 892295,  Ep.Timesteps 41, Score: -112.26, Avg.Score: -94.00, Time: 02:36:46 \n"
     ]
    },
    {
     "name": "stderr",
     "output_type": "stream",
     "text": [
      " 36%|███▌      | 722/2000 [2:36:43<11:24,  1.87it/s]"
     ]
    },
    {
     "name": "stdout",
     "output_type": "stream",
     "text": [
      "Ep. 723, Timestep 892340,  Ep.Timesteps 45, Score: -113.03, Avg.Score: -94.87, Time: 02:36:46 \n"
     ]
    },
    {
     "name": "stderr",
     "output_type": "stream",
     "text": [
      " 36%|███▌      | 723/2000 [2:36:44<11:05,  1.92it/s]"
     ]
    },
    {
     "name": "stdout",
     "output_type": "stream",
     "text": [
      "Ep. 724, Timestep 892378,  Ep.Timesteps 38, Score: -110.92, Avg.Score: -95.73, Time: 02:36:47 \n"
     ]
    },
    {
     "name": "stderr",
     "output_type": "stream",
     "text": [
      " 36%|███▌      | 724/2000 [2:36:44<10:28,  2.03it/s]"
     ]
    },
    {
     "name": "stdout",
     "output_type": "stream",
     "text": [
      "Ep. 725, Timestep 892420,  Ep.Timesteps 42, Score: -112.10, Avg.Score: -96.34, Time: 02:36:47 \n"
     ]
    },
    {
     "name": "stderr",
     "output_type": "stream",
     "text": [
      " 36%|███▋      | 725/2000 [2:36:45<10:19,  2.06it/s]"
     ]
    },
    {
     "name": "stdout",
     "output_type": "stream",
     "text": [
      "Ep. 726, Timestep 892466,  Ep.Timesteps 46, Score: -113.23, Avg.Score: -97.24, Time: 02:36:48 \n"
     ]
    },
    {
     "name": "stderr",
     "output_type": "stream",
     "text": [
      " 36%|███▋      | 726/2000 [2:36:45<10:20,  2.05it/s]"
     ]
    },
    {
     "name": "stdout",
     "output_type": "stream",
     "text": [
      "Ep. 727, Timestep 892504,  Ep.Timesteps 38, Score: -111.45, Avg.Score: -97.89, Time: 02:36:48 \n"
     ]
    },
    {
     "name": "stderr",
     "output_type": "stream",
     "text": [
      " 36%|███▋      | 727/2000 [2:36:46<09:44,  2.18it/s]"
     ]
    },
    {
     "name": "stdout",
     "output_type": "stream",
     "text": [
      "Ep. 728, Timestep 892552,  Ep.Timesteps 48, Score: -113.70, Avg.Score: -98.66, Time: 02:36:49 \n"
     ]
    },
    {
     "name": "stderr",
     "output_type": "stream",
     "text": [
      " 36%|███▋      | 728/2000 [2:36:46<09:55,  2.14it/s]"
     ]
    },
    {
     "name": "stdout",
     "output_type": "stream",
     "text": [
      "Ep. 729, Timestep 892611,  Ep.Timesteps 59, Score: -115.61, Avg.Score: -99.48, Time: 02:36:49 \n"
     ]
    },
    {
     "name": "stderr",
     "output_type": "stream",
     "text": [
      " 36%|███▋      | 729/2000 [2:36:47<10:50,  1.96it/s]"
     ]
    },
    {
     "name": "stdout",
     "output_type": "stream",
     "text": [
      "Ep. 730, Timestep 892669,  Ep.Timesteps 58, Score: -115.67, Avg.Score: -99.99, Time: 02:36:50 \n"
     ]
    },
    {
     "name": "stderr",
     "output_type": "stream",
     "text": [
      " 36%|███▋      | 730/2000 [2:36:47<11:20,  1.87it/s]"
     ]
    },
    {
     "name": "stdout",
     "output_type": "stream",
     "text": [
      "Ep. 731, Timestep 892716,  Ep.Timesteps 47, Score: -113.67, Avg.Score: -100.68, Time: 02:36:50 \n"
     ]
    },
    {
     "name": "stderr",
     "output_type": "stream",
     "text": [
      " 37%|███▋      | 731/2000 [2:36:48<10:55,  1.94it/s]"
     ]
    },
    {
     "name": "stdout",
     "output_type": "stream",
     "text": [
      "Ep. 732, Timestep 892771,  Ep.Timesteps 55, Score: -115.38, Avg.Score: -101.29, Time: 02:36:51 \n"
     ]
    },
    {
     "name": "stderr",
     "output_type": "stream",
     "text": [
      " 37%|███▋      | 732/2000 [2:36:48<11:10,  1.89it/s]"
     ]
    },
    {
     "name": "stdout",
     "output_type": "stream",
     "text": [
      "Ep. 733, Timestep 892818,  Ep.Timesteps 47, Score: -113.57, Avg.Score: -102.01, Time: 02:36:51 \n"
     ]
    },
    {
     "name": "stderr",
     "output_type": "stream",
     "text": [
      " 37%|███▋      | 733/2000 [2:36:49<10:53,  1.94it/s]"
     ]
    },
    {
     "name": "stdout",
     "output_type": "stream",
     "text": [
      "Ep. 734, Timestep 892865,  Ep.Timesteps 47, Score: -113.75, Avg.Score: -102.92, Time: 02:36:52 \n"
     ]
    },
    {
     "name": "stderr",
     "output_type": "stream",
     "text": [
      " 37%|███▋      | 734/2000 [2:36:49<10:30,  2.01it/s]"
     ]
    },
    {
     "name": "stdout",
     "output_type": "stream",
     "text": [
      "Ep. 735, Timestep 892902,  Ep.Timesteps 37, Score: -110.92, Avg.Score: -103.83, Time: 02:36:52 \n"
     ]
    },
    {
     "name": "stderr",
     "output_type": "stream",
     "text": [
      " 37%|███▋      | 735/2000 [2:36:50<09:41,  2.18it/s]"
     ]
    },
    {
     "name": "stdout",
     "output_type": "stream",
     "text": [
      "Ep. 736, Timestep 892949,  Ep.Timesteps 47, Score: -113.60, Avg.Score: -104.47, Time: 02:36:53 \n"
     ]
    },
    {
     "name": "stderr",
     "output_type": "stream",
     "text": [
      " 37%|███▋      | 736/2000 [2:36:50<10:06,  2.08it/s]"
     ]
    },
    {
     "name": "stdout",
     "output_type": "stream",
     "text": [
      "Ep. 737, Timestep 892995,  Ep.Timesteps 46, Score: -113.49, Avg.Score: -105.25, Time: 02:36:53 \n"
     ]
    },
    {
     "name": "stderr",
     "output_type": "stream",
     "text": [
      " 37%|███▋      | 737/2000 [2:36:51<10:00,  2.10it/s]"
     ]
    },
    {
     "name": "stdout",
     "output_type": "stream",
     "text": [
      "Ep. 738, Timestep 893032,  Ep.Timesteps 37, Score: -110.89, Avg.Score: -105.98, Time: 02:36:54 \n"
     ]
    },
    {
     "name": "stderr",
     "output_type": "stream",
     "text": [
      " 37%|███▋      | 738/2000 [2:36:51<09:22,  2.24it/s]"
     ]
    },
    {
     "name": "stdout",
     "output_type": "stream",
     "text": [
      "Ep. 739, Timestep 893088,  Ep.Timesteps 56, Score: -115.50, Avg.Score: -106.64, Time: 02:36:54 \n"
     ]
    },
    {
     "name": "stderr",
     "output_type": "stream",
     "text": [
      " 37%|███▋      | 739/2000 [2:36:51<09:59,  2.10it/s]"
     ]
    },
    {
     "name": "stdout",
     "output_type": "stream",
     "text": [
      "Ep. 740, Timestep 893153,  Ep.Timesteps 65, Score: -116.48, Avg.Score: -107.36, Time: 02:36:55 \n"
     ]
    },
    {
     "name": "stderr",
     "output_type": "stream",
     "text": [
      " 37%|███▋      | 740/2000 [2:36:52<11:02,  1.90it/s]"
     ]
    },
    {
     "name": "stdout",
     "output_type": "stream",
     "text": [
      "Ep. 741, Timestep 893213,  Ep.Timesteps 60, Score: -115.72, Avg.Score: -107.38, Time: 02:36:55 \n"
     ]
    },
    {
     "name": "stderr",
     "output_type": "stream",
     "text": [
      " 37%|███▋      | 741/2000 [2:36:53<11:39,  1.80it/s]"
     ]
    },
    {
     "name": "stdout",
     "output_type": "stream",
     "text": [
      "Ep. 742, Timestep 893294,  Ep.Timesteps 81, Score: -118.30, Avg.Score: -108.14, Time: 02:36:56 \n"
     ]
    },
    {
     "name": "stderr",
     "output_type": "stream",
     "text": [
      " 37%|███▋      | 742/2000 [2:36:54<13:08,  1.59it/s]"
     ]
    },
    {
     "name": "stdout",
     "output_type": "stream",
     "text": [
      "Ep. 743, Timestep 894894,  Ep.Timesteps 1600, Score: -94.60, Avg.Score: -108.64, Time: 02:36:59 \n"
     ]
    },
    {
     "name": "stderr",
     "output_type": "stream",
     "text": [
      " 37%|███▋      | 743/2000 [2:37:09<1:44:31,  4.99s/it]"
     ]
    },
    {
     "name": "stdout",
     "output_type": "stream",
     "text": [
      "Ep. 744, Timestep 896494,  Ep.Timesteps 1600, Score: -117.46, Avg.Score: -109.59, Time: 02:37:15 \n"
     ]
    },
    {
     "name": "stderr",
     "output_type": "stream",
     "text": [
      " 37%|███▋      | 744/2000 [2:37:25<2:56:53,  8.45s/it]"
     ]
    },
    {
     "name": "stdout",
     "output_type": "stream",
     "text": [
      "Ep. 745, Timestep 897557,  Ep.Timesteps 1063, Score: -209.09, Avg.Score: -111.36, Time: 02:37:31 \n"
     ]
    },
    {
     "name": "stderr",
     "output_type": "stream",
     "text": [
      " 37%|███▋      | 745/2000 [2:37:36<3:12:37,  9.21s/it]"
     ]
    },
    {
     "name": "stdout",
     "output_type": "stream",
     "text": [
      "Ep. 746, Timestep 899157,  Ep.Timesteps 1600, Score: -110.97, Avg.Score: -111.85, Time: 02:37:42 \n"
     ]
    },
    {
     "name": "stderr",
     "output_type": "stream",
     "text": [
      " 37%|███▋      | 746/2000 [2:37:52<3:55:20, 11.26s/it]"
     ]
    },
    {
     "name": "stdout",
     "output_type": "stream",
     "text": [
      "Ep. 747, Timestep 900757,  Ep.Timesteps 1600, Score: -115.68, Avg.Score: -112.31, Time: 02:37:59 \n"
     ]
    },
    {
     "name": "stderr",
     "output_type": "stream",
     "text": [
      " 37%|███▋      | 747/2000 [2:38:10<4:35:59, 13.22s/it]"
     ]
    },
    {
     "name": "stdout",
     "output_type": "stream",
     "text": [
      "Ep. 748, Timestep 902357,  Ep.Timesteps 1600, Score: -91.31, Avg.Score: -112.89, Time: 02:38:16 \n"
     ]
    },
    {
     "name": "stderr",
     "output_type": "stream",
     "text": [
      " 37%|███▋      | 748/2000 [2:38:27<5:00:43, 14.41s/it]"
     ]
    },
    {
     "name": "stdout",
     "output_type": "stream",
     "text": [
      "Ep. 749, Timestep 903957,  Ep.Timesteps 1600, Score: -42.76, Avg.Score: -112.71, Time: 02:38:34 \n"
     ]
    },
    {
     "name": "stderr",
     "output_type": "stream",
     "text": [
      " 37%|███▋      | 749/2000 [2:38:43<5:12:00, 14.96s/it]"
     ]
    },
    {
     "name": "stdout",
     "output_type": "stream",
     "text": [
      "Ep. 750, Timestep 905557,  Ep.Timesteps 1600, Score: -33.56, Avg.Score: -112.11, Time: 02:38:50 \n"
     ]
    },
    {
     "name": "stderr",
     "output_type": "stream",
     "text": [
      " 38%|███▊      | 750/2000 [2:38:59<5:17:11, 15.23s/it]"
     ]
    },
    {
     "name": "stdout",
     "output_type": "stream",
     "text": [
      "Ep. 751, Timestep 907157,  Ep.Timesteps 1600, Score: -35.25, Avg.Score: -112.16, Time: 02:39:05 \n"
     ]
    },
    {
     "name": "stderr",
     "output_type": "stream",
     "text": [
      " 38%|███▊      | 751/2000 [2:39:14<5:13:34, 15.06s/it]"
     ]
    },
    {
     "name": "stdout",
     "output_type": "stream",
     "text": [
      "Ep. 752, Timestep 908757,  Ep.Timesteps 1600, Score: -23.35, Avg.Score: -111.26, Time: 02:39:20 \n"
     ]
    },
    {
     "name": "stderr",
     "output_type": "stream",
     "text": [
      " 38%|███▊      | 752/2000 [2:39:29<5:13:51, 15.09s/it]"
     ]
    },
    {
     "name": "stdout",
     "output_type": "stream",
     "text": [
      "Ep. 753, Timestep 910357,  Ep.Timesteps 1600, Score: -133.33, Avg.Score: -111.45, Time: 02:39:35 \n"
     ]
    },
    {
     "name": "stderr",
     "output_type": "stream",
     "text": [
      " 38%|███▊      | 753/2000 [2:39:44<5:14:26, 15.13s/it]"
     ]
    },
    {
     "name": "stdout",
     "output_type": "stream",
     "text": [
      "Ep. 754, Timestep 911957,  Ep.Timesteps 1600, Score: -26.56, Avg.Score: -110.57, Time: 02:39:51 \n"
     ]
    },
    {
     "name": "stderr",
     "output_type": "stream",
     "text": [
      " 38%|███▊      | 754/2000 [2:40:03<5:33:34, 16.06s/it]"
     ]
    },
    {
     "name": "stdout",
     "output_type": "stream",
     "text": [
      "Ep. 755, Timestep 913557,  Ep.Timesteps 1600, Score: -37.81, Avg.Score: -109.81, Time: 02:40:09 \n"
     ]
    },
    {
     "name": "stderr",
     "output_type": "stream",
     "text": [
      " 38%|███▊      | 755/2000 [2:40:19<5:36:29, 16.22s/it]"
     ]
    },
    {
     "name": "stdout",
     "output_type": "stream",
     "text": [
      "Ep. 756, Timestep 915157,  Ep.Timesteps 1600, Score: -33.09, Avg.Score: -109.00, Time: 02:40:25 \n"
     ]
    },
    {
     "name": "stderr",
     "output_type": "stream",
     "text": [
      " 38%|███▊      | 756/2000 [2:40:37<5:47:53, 16.78s/it]"
     ]
    },
    {
     "name": "stdout",
     "output_type": "stream",
     "text": [
      "Ep. 757, Timestep 916757,  Ep.Timesteps 1600, Score: -18.34, Avg.Score: -108.05, Time: 02:40:43 \n"
     ]
    },
    {
     "name": "stderr",
     "output_type": "stream",
     "text": [
      " 38%|███▊      | 757/2000 [2:40:54<5:44:34, 16.63s/it]"
     ]
    },
    {
     "name": "stdout",
     "output_type": "stream",
     "text": [
      "Ep. 758, Timestep 918357,  Ep.Timesteps 1600, Score: -26.57, Avg.Score: -107.16, Time: 02:41:00 \n"
     ]
    },
    {
     "name": "stderr",
     "output_type": "stream",
     "text": [
      " 38%|███▊      | 758/2000 [2:41:11<5:48:12, 16.82s/it]"
     ]
    },
    {
     "name": "stdout",
     "output_type": "stream",
     "text": [
      "Ep. 759, Timestep 919957,  Ep.Timesteps 1600, Score: -27.53, Avg.Score: -106.27, Time: 02:41:17 \n"
     ]
    },
    {
     "name": "stderr",
     "output_type": "stream",
     "text": [
      " 38%|███▊      | 759/2000 [2:41:27<5:45:06, 16.69s/it]"
     ]
    },
    {
     "name": "stdout",
     "output_type": "stream",
     "text": [
      "Ep. 760, Timestep 921557,  Ep.Timesteps 1600, Score: -27.97, Avg.Score: -105.27, Time: 02:41:33 \n"
     ]
    },
    {
     "name": "stderr",
     "output_type": "stream",
     "text": [
      " 38%|███▊      | 760/2000 [2:41:43<5:40:46, 16.49s/it]"
     ]
    },
    {
     "name": "stdout",
     "output_type": "stream",
     "text": [
      "Ep. 761, Timestep 923157,  Ep.Timesteps 1600, Score: -43.53, Avg.Score: -104.58, Time: 02:41:50 \n"
     ]
    },
    {
     "name": "stderr",
     "output_type": "stream",
     "text": [
      " 38%|███▊      | 761/2000 [2:42:00<5:39:23, 16.44s/it]"
     ]
    },
    {
     "name": "stdout",
     "output_type": "stream",
     "text": [
      "Ep. 762, Timestep 924757,  Ep.Timesteps 1600, Score: -40.27, Avg.Score: -103.85, Time: 02:42:06 \n"
     ]
    },
    {
     "name": "stderr",
     "output_type": "stream",
     "text": [
      " 38%|███▊      | 762/2000 [2:42:15<5:36:00, 16.28s/it]"
     ]
    },
    {
     "name": "stdout",
     "output_type": "stream",
     "text": [
      "Ep. 763, Timestep 926357,  Ep.Timesteps 1600, Score: -44.39, Avg.Score: -103.07, Time: 02:42:22 \n"
     ]
    },
    {
     "name": "stderr",
     "output_type": "stream",
     "text": [
      " 38%|███▊      | 763/2000 [2:42:32<5:38:51, 16.44s/it]"
     ]
    },
    {
     "name": "stdout",
     "output_type": "stream",
     "text": [
      "Ep. 764, Timestep 927957,  Ep.Timesteps 1600, Score: -57.84, Avg.Score: -102.49, Time: 02:42:38 \n"
     ]
    },
    {
     "name": "stderr",
     "output_type": "stream",
     "text": [
      " 38%|███▊      | 764/2000 [2:42:49<5:39:07, 16.46s/it]"
     ]
    },
    {
     "name": "stdout",
     "output_type": "stream",
     "text": [
      "Ep. 765, Timestep 929557,  Ep.Timesteps 1600, Score: -63.82, Avg.Score: -101.99, Time: 02:42:55 \n"
     ]
    },
    {
     "name": "stderr",
     "output_type": "stream",
     "text": [
      " 38%|███▊      | 765/2000 [2:43:05<5:34:36, 16.26s/it]"
     ]
    },
    {
     "name": "stdout",
     "output_type": "stream",
     "text": [
      "Ep. 766, Timestep 931157,  Ep.Timesteps 1600, Score: -35.34, Avg.Score: -101.21, Time: 02:43:11 \n"
     ]
    },
    {
     "name": "stderr",
     "output_type": "stream",
     "text": [
      " 38%|███▊      | 766/2000 [2:43:22<5:42:53, 16.67s/it]"
     ]
    },
    {
     "name": "stdout",
     "output_type": "stream",
     "text": [
      "Ep. 767, Timestep 932757,  Ep.Timesteps 1600, Score: -43.35, Avg.Score: -100.45, Time: 02:43:28 \n"
     ]
    },
    {
     "name": "stderr",
     "output_type": "stream",
     "text": [
      " 38%|███▊      | 767/2000 [2:43:37<5:33:31, 16.23s/it]"
     ]
    },
    {
     "name": "stdout",
     "output_type": "stream",
     "text": [
      "Ep. 768, Timestep 934357,  Ep.Timesteps 1600, Score: -36.43, Avg.Score: -99.59, Time: 02:43:44 \n"
     ]
    },
    {
     "name": "stderr",
     "output_type": "stream",
     "text": [
      " 38%|███▊      | 768/2000 [2:43:54<5:37:12, 16.42s/it]"
     ]
    },
    {
     "name": "stdout",
     "output_type": "stream",
     "text": [
      "Ep. 769, Timestep 935957,  Ep.Timesteps 1600, Score: -57.50, Avg.Score: -99.08, Time: 02:44:01 \n"
     ]
    },
    {
     "name": "stderr",
     "output_type": "stream",
     "text": [
      " 38%|███▊      | 769/2000 [2:44:10<5:32:43, 16.22s/it]"
     ]
    },
    {
     "name": "stdout",
     "output_type": "stream",
     "text": [
      "Ep. 770, Timestep 937557,  Ep.Timesteps 1600, Score: -68.61, Avg.Score: -98.67, Time: 02:44:16 \n"
     ]
    },
    {
     "name": "stderr",
     "output_type": "stream",
     "text": [
      " 38%|███▊      | 770/2000 [2:44:27<5:35:34, 16.37s/it]"
     ]
    },
    {
     "name": "stdout",
     "output_type": "stream",
     "text": [
      "Ep. 771, Timestep 939157,  Ep.Timesteps 1600, Score: -46.11, Avg.Score: -98.82, Time: 02:44:33 \n"
     ]
    },
    {
     "name": "stderr",
     "output_type": "stream",
     "text": [
      " 39%|███▊      | 771/2000 [2:44:43<5:35:29, 16.38s/it]"
     ]
    },
    {
     "name": "stdout",
     "output_type": "stream",
     "text": [
      "Ep. 772, Timestep 940757,  Ep.Timesteps 1600, Score: -45.22, Avg.Score: -98.14, Time: 02:44:49 \n"
     ]
    },
    {
     "name": "stderr",
     "output_type": "stream",
     "text": [
      " 39%|███▊      | 772/2000 [2:44:59<5:30:32, 16.15s/it]"
     ]
    },
    {
     "name": "stdout",
     "output_type": "stream",
     "text": [
      "Ep. 773, Timestep 942357,  Ep.Timesteps 1600, Score: -33.98, Avg.Score: -97.34, Time: 02:45:05 \n"
     ]
    },
    {
     "name": "stderr",
     "output_type": "stream",
     "text": [
      " 39%|███▊      | 773/2000 [2:45:15<5:31:43, 16.22s/it]"
     ]
    },
    {
     "name": "stdout",
     "output_type": "stream",
     "text": [
      "Ep. 774, Timestep 943957,  Ep.Timesteps 1600, Score: -41.99, Avg.Score: -96.63, Time: 02:45:22 \n"
     ]
    },
    {
     "name": "stderr",
     "output_type": "stream",
     "text": [
      " 39%|███▊      | 774/2000 [2:45:32<5:37:10, 16.50s/it]"
     ]
    },
    {
     "name": "stdout",
     "output_type": "stream",
     "text": [
      "Ep. 775, Timestep 945557,  Ep.Timesteps 1600, Score: -26.21, Avg.Score: -95.75, Time: 02:45:39 \n"
     ]
    },
    {
     "name": "stderr",
     "output_type": "stream",
     "text": [
      " 39%|███▉      | 775/2000 [2:45:49<5:35:08, 16.42s/it]"
     ]
    },
    {
     "name": "stdout",
     "output_type": "stream",
     "text": [
      "Ep. 776, Timestep 947157,  Ep.Timesteps 1600, Score: -41.45, Avg.Score: -95.03, Time: 02:45:55 \n"
     ]
    },
    {
     "name": "stderr",
     "output_type": "stream",
     "text": [
      " 39%|███▉      | 776/2000 [2:46:05<5:34:22, 16.39s/it]"
     ]
    },
    {
     "name": "stdout",
     "output_type": "stream",
     "text": [
      "Ep. 777, Timestep 948757,  Ep.Timesteps 1600, Score: -33.32, Avg.Score: -94.23, Time: 02:46:11 \n"
     ]
    },
    {
     "name": "stderr",
     "output_type": "stream",
     "text": [
      " 39%|███▉      | 777/2000 [2:46:20<5:26:11, 16.00s/it]"
     ]
    },
    {
     "name": "stdout",
     "output_type": "stream",
     "text": [
      "Ep. 778, Timestep 950357,  Ep.Timesteps 1600, Score: -49.44, Avg.Score: -93.59, Time: 02:46:26 \n"
     ]
    },
    {
     "name": "stderr",
     "output_type": "stream",
     "text": [
      " 39%|███▉      | 778/2000 [2:46:37<5:34:27, 16.42s/it]"
     ]
    },
    {
     "name": "stdout",
     "output_type": "stream",
     "text": [
      "Ep. 779, Timestep 951957,  Ep.Timesteps 1600, Score: -53.78, Avg.Score: -92.97, Time: 02:46:44 \n"
     ]
    },
    {
     "name": "stderr",
     "output_type": "stream",
     "text": [
      " 39%|███▉      | 779/2000 [2:46:54<5:35:54, 16.51s/it]"
     ]
    },
    {
     "name": "stdout",
     "output_type": "stream",
     "text": [
      "Ep. 780, Timestep 953557,  Ep.Timesteps 1600, Score: -32.55, Avg.Score: -92.16, Time: 02:47:00 \n"
     ]
    },
    {
     "name": "stderr",
     "output_type": "stream",
     "text": [
      " 39%|███▉      | 780/2000 [2:47:10<5:30:28, 16.25s/it]"
     ]
    },
    {
     "name": "stdout",
     "output_type": "stream",
     "text": [
      "Ep. 781, Timestep 955157,  Ep.Timesteps 1600, Score: -33.92, Avg.Score: -90.66, Time: 02:47:16 \n"
     ]
    },
    {
     "name": "stderr",
     "output_type": "stream",
     "text": [
      " 39%|███▉      | 781/2000 [2:47:26<5:30:21, 16.26s/it]"
     ]
    },
    {
     "name": "stdout",
     "output_type": "stream",
     "text": [
      "Ep. 782, Timestep 956757,  Ep.Timesteps 1600, Score: -27.92, Avg.Score: -89.79, Time: 02:47:32 \n"
     ]
    },
    {
     "name": "stderr",
     "output_type": "stream",
     "text": [
      " 39%|███▉      | 782/2000 [2:47:42<5:29:40, 16.24s/it]"
     ]
    },
    {
     "name": "stdout",
     "output_type": "stream",
     "text": [
      "Ep. 783, Timestep 958357,  Ep.Timesteps 1600, Score: -72.81, Avg.Score: -89.36, Time: 02:47:48 \n"
     ]
    },
    {
     "name": "stderr",
     "output_type": "stream",
     "text": [
      " 39%|███▉      | 783/2000 [2:47:58<5:25:48, 16.06s/it]"
     ]
    },
    {
     "name": "stdout",
     "output_type": "stream",
     "text": [
      "Ep. 784, Timestep 959957,  Ep.Timesteps 1600, Score: -41.96, Avg.Score: -88.60, Time: 02:48:04 \n"
     ]
    },
    {
     "name": "stderr",
     "output_type": "stream",
     "text": [
      " 39%|███▉      | 784/2000 [2:48:15<5:31:32, 16.36s/it]"
     ]
    },
    {
     "name": "stdout",
     "output_type": "stream",
     "text": [
      "Ep. 785, Timestep 961557,  Ep.Timesteps 1600, Score: -28.78, Avg.Score: -87.72, Time: 02:48:21 \n"
     ]
    },
    {
     "name": "stderr",
     "output_type": "stream",
     "text": [
      " 39%|███▉      | 785/2000 [2:48:31<5:27:29, 16.17s/it]"
     ]
    },
    {
     "name": "stdout",
     "output_type": "stream",
     "text": [
      "Ep. 786, Timestep 963157,  Ep.Timesteps 1600, Score: -37.92, Avg.Score: -86.59, Time: 02:48:37 \n"
     ]
    },
    {
     "name": "stderr",
     "output_type": "stream",
     "text": [
      " 39%|███▉      | 786/2000 [2:48:47<5:26:18, 16.13s/it]"
     ]
    },
    {
     "name": "stdout",
     "output_type": "stream",
     "text": [
      "Ep. 787, Timestep 964757,  Ep.Timesteps 1600, Score: -19.87, Avg.Score: -85.62, Time: 02:48:53 \n"
     ]
    },
    {
     "name": "stderr",
     "output_type": "stream",
     "text": [
      " 39%|███▉      | 787/2000 [2:49:03<5:29:03, 16.28s/it]"
     ]
    },
    {
     "name": "stdout",
     "output_type": "stream",
     "text": [
      "Ep. 788, Timestep 966357,  Ep.Timesteps 1600, Score: -68.41, Avg.Score: -85.12, Time: 02:49:09 \n"
     ]
    },
    {
     "name": "stderr",
     "output_type": "stream",
     "text": [
      " 39%|███▉      | 788/2000 [2:49:20<5:29:28, 16.31s/it]"
     ]
    },
    {
     "name": "stdout",
     "output_type": "stream",
     "text": [
      "Ep. 789, Timestep 967957,  Ep.Timesteps 1600, Score: -78.63, Avg.Score: -84.74, Time: 02:49:26 \n"
     ]
    },
    {
     "name": "stderr",
     "output_type": "stream",
     "text": [
      " 39%|███▉      | 789/2000 [2:49:35<5:26:08, 16.16s/it]"
     ]
    },
    {
     "name": "stdout",
     "output_type": "stream",
     "text": [
      "Ep. 790, Timestep 969557,  Ep.Timesteps 1600, Score: -57.06, Avg.Score: -84.55, Time: 02:49:42 \n"
     ]
    },
    {
     "name": "stderr",
     "output_type": "stream",
     "text": [
      " 40%|███▉      | 790/2000 [2:49:51<5:24:31, 16.09s/it]"
     ]
    },
    {
     "name": "stdout",
     "output_type": "stream",
     "text": [
      "Ep. 791, Timestep 971157,  Ep.Timesteps 1600, Score: -55.68, Avg.Score: -83.92, Time: 02:49:57 \n"
     ]
    },
    {
     "name": "stderr",
     "output_type": "stream",
     "text": [
      " 40%|███▉      | 791/2000 [2:50:09<5:30:42, 16.41s/it]"
     ]
    },
    {
     "name": "stdout",
     "output_type": "stream",
     "text": [
      "Ep. 792, Timestep 972757,  Ep.Timesteps 1600, Score: -77.32, Avg.Score: -83.50, Time: 02:50:15 \n"
     ]
    },
    {
     "name": "stderr",
     "output_type": "stream",
     "text": [
      " 40%|███▉      | 792/2000 [2:50:26<5:38:39, 16.82s/it]"
     ]
    },
    {
     "name": "stdout",
     "output_type": "stream",
     "text": [
      "Ep. 793, Timestep 974357,  Ep.Timesteps 1600, Score: -71.74, Avg.Score: -83.56, Time: 02:50:33 \n"
     ]
    },
    {
     "name": "stderr",
     "output_type": "stream",
     "text": [
      " 40%|███▉      | 793/2000 [2:50:43<5:36:12, 16.71s/it]"
     ]
    },
    {
     "name": "stdout",
     "output_type": "stream",
     "text": [
      "Ep. 794, Timestep 975957,  Ep.Timesteps 1600, Score: -63.96, Avg.Score: -83.02, Time: 02:50:49 \n"
     ]
    },
    {
     "name": "stderr",
     "output_type": "stream",
     "text": [
      " 40%|███▉      | 794/2000 [2:51:00<5:37:13, 16.78s/it]"
     ]
    },
    {
     "name": "stdout",
     "output_type": "stream",
     "text": [
      "Ep. 795, Timestep 977557,  Ep.Timesteps 1600, Score: -40.47, Avg.Score: -82.28, Time: 02:51:06 \n"
     ]
    },
    {
     "name": "stderr",
     "output_type": "stream",
     "text": [
      " 40%|███▉      | 795/2000 [2:51:17<5:40:41, 16.96s/it]"
     ]
    },
    {
     "name": "stdout",
     "output_type": "stream",
     "text": [
      "Ep. 796, Timestep 979157,  Ep.Timesteps 1600, Score: -30.58, Avg.Score: -81.43, Time: 02:51:23 \n"
     ]
    },
    {
     "name": "stderr",
     "output_type": "stream",
     "text": [
      " 40%|███▉      | 796/2000 [2:51:36<5:51:45, 17.53s/it]"
     ]
    },
    {
     "name": "stdout",
     "output_type": "stream",
     "text": [
      "Ep. 797, Timestep 980757,  Ep.Timesteps 1600, Score: -32.08, Avg.Score: -80.62, Time: 02:51:42 \n"
     ]
    },
    {
     "name": "stderr",
     "output_type": "stream",
     "text": [
      " 40%|███▉      | 797/2000 [2:51:54<5:51:43, 17.54s/it]"
     ]
    },
    {
     "name": "stdout",
     "output_type": "stream",
     "text": [
      "Ep. 798, Timestep 982357,  Ep.Timesteps 1600, Score: -31.56, Avg.Score: -79.79, Time: 02:52:00 \n"
     ]
    },
    {
     "name": "stderr",
     "output_type": "stream",
     "text": [
      " 40%|███▉      | 798/2000 [2:52:10<5:46:22, 17.29s/it]"
     ]
    },
    {
     "name": "stdout",
     "output_type": "stream",
     "text": [
      "Ep. 799, Timestep 983957,  Ep.Timesteps 1600, Score: -21.78, Avg.Score: -78.85, Time: 02:52:16 \n"
     ]
    },
    {
     "name": "stderr",
     "output_type": "stream",
     "text": [
      " 40%|███▉      | 799/2000 [2:52:28<5:47:54, 17.38s/it]"
     ]
    },
    {
     "name": "stdout",
     "output_type": "stream",
     "text": [
      "Ep. 800, Timestep 985557,  Ep.Timesteps 1600, Score: -29.28, Avg.Score: -78.00, Time: 02:52:34 \n"
     ]
    },
    {
     "name": "stderr",
     "output_type": "stream",
     "text": [
      " 40%|████      | 800/2000 [2:52:44<5:42:11, 17.11s/it]"
     ]
    },
    {
     "name": "stdout",
     "output_type": "stream",
     "text": [
      "Ep. 801, Timestep 987157,  Ep.Timesteps 1600, Score: -52.98, Avg.Score: -77.39, Time: 02:52:51 \n"
     ]
    },
    {
     "name": "stderr",
     "output_type": "stream",
     "text": [
      " 40%|████      | 801/2000 [2:53:00<5:32:36, 16.64s/it]"
     ]
    },
    {
     "name": "stdout",
     "output_type": "stream",
     "text": [
      "Ep. 802, Timestep 988757,  Ep.Timesteps 1600, Score: -36.83, Avg.Score: -76.61, Time: 02:53:06 \n"
     ]
    },
    {
     "name": "stderr",
     "output_type": "stream",
     "text": [
      " 40%|████      | 802/2000 [2:53:17<5:34:54, 16.77s/it]"
     ]
    },
    {
     "name": "stdout",
     "output_type": "stream",
     "text": [
      "Ep. 803, Timestep 990357,  Ep.Timesteps 1600, Score: -57.03, Avg.Score: -76.03, Time: 02:53:23 \n"
     ]
    },
    {
     "name": "stderr",
     "output_type": "stream",
     "text": [
      " 40%|████      | 803/2000 [2:53:35<5:40:24, 17.06s/it]"
     ]
    },
    {
     "name": "stdout",
     "output_type": "stream",
     "text": [
      "Ep. 804, Timestep 991957,  Ep.Timesteps 1600, Score: -58.70, Avg.Score: -75.49, Time: 02:53:41 \n"
     ]
    },
    {
     "name": "stderr",
     "output_type": "stream",
     "text": [
      " 40%|████      | 804/2000 [2:53:51<5:35:16, 16.82s/it]"
     ]
    },
    {
     "name": "stdout",
     "output_type": "stream",
     "text": [
      "Ep. 805, Timestep 993557,  Ep.Timesteps 1600, Score: -61.80, Avg.Score: -74.95, Time: 02:53:57 \n"
     ]
    },
    {
     "name": "stderr",
     "output_type": "stream",
     "text": [
      " 40%|████      | 805/2000 [2:54:08<5:37:51, 16.96s/it]"
     ]
    },
    {
     "name": "stdout",
     "output_type": "stream",
     "text": [
      "Ep. 806, Timestep 995157,  Ep.Timesteps 1600, Score: -56.63, Avg.Score: -74.42, Time: 02:54:15 \n"
     ]
    },
    {
     "name": "stderr",
     "output_type": "stream",
     "text": [
      " 40%|████      | 806/2000 [2:54:26<5:43:06, 17.24s/it]"
     ]
    },
    {
     "name": "stdout",
     "output_type": "stream",
     "text": [
      "Ep. 807, Timestep 996757,  Ep.Timesteps 1600, Score: -57.80, Avg.Score: -73.88, Time: 02:54:33 \n"
     ]
    },
    {
     "name": "stderr",
     "output_type": "stream",
     "text": [
      " 40%|████      | 807/2000 [2:54:42<5:34:27, 16.82s/it]"
     ]
    },
    {
     "name": "stdout",
     "output_type": "stream",
     "text": [
      "Ep. 808, Timestep 998357,  Ep.Timesteps 1600, Score: -41.99, Avg.Score: -73.15, Time: 02:54:48 \n"
     ]
    },
    {
     "name": "stderr",
     "output_type": "stream",
     "text": [
      " 40%|████      | 808/2000 [2:54:58<5:31:25, 16.68s/it]"
     ]
    },
    {
     "name": "stdout",
     "output_type": "stream",
     "text": [
      "Ep. 809, Timestep 999957,  Ep.Timesteps 1600, Score: -60.94, Avg.Score: -72.63, Time: 02:55:04 \n"
     ]
    },
    {
     "name": "stderr",
     "output_type": "stream",
     "text": [
      " 40%|████      | 809/2000 [2:55:15<5:31:48, 16.72s/it]"
     ]
    },
    {
     "name": "stdout",
     "output_type": "stream",
     "text": [
      "Ep. 810, Timestep 1001557,  Ep.Timesteps 1600, Score: -47.12, Avg.Score: -71.96, Time: 02:55:21 \n"
     ]
    },
    {
     "name": "stderr",
     "output_type": "stream",
     "text": [
      " 40%|████      | 810/2000 [2:55:31<5:27:34, 16.52s/it]"
     ]
    },
    {
     "name": "stdout",
     "output_type": "stream",
     "text": [
      "Ep. 811, Timestep 1003157,  Ep.Timesteps 1600, Score: -24.52, Avg.Score: -71.06, Time: 02:55:37 \n"
     ]
    },
    {
     "name": "stderr",
     "output_type": "stream",
     "text": [
      " 41%|████      | 811/2000 [2:55:48<5:30:37, 16.68s/it]"
     ]
    },
    {
     "name": "stdout",
     "output_type": "stream",
     "text": [
      "Ep. 812, Timestep 1004757,  Ep.Timesteps 1600, Score: -28.86, Avg.Score: -70.25, Time: 02:55:55 \n"
     ]
    },
    {
     "name": "stderr",
     "output_type": "stream",
     "text": [
      " 41%|████      | 812/2000 [2:56:06<5:36:26, 16.99s/it]"
     ]
    },
    {
     "name": "stdout",
     "output_type": "stream",
     "text": [
      "Ep. 813, Timestep 1006357,  Ep.Timesteps 1600, Score: -38.00, Avg.Score: -69.49, Time: 02:56:12 \n"
     ]
    },
    {
     "name": "stderr",
     "output_type": "stream",
     "text": [
      " 41%|████      | 813/2000 [2:56:22<5:32:52, 16.83s/it]"
     ]
    },
    {
     "name": "stdout",
     "output_type": "stream",
     "text": [
      "Ep. 814, Timestep 1007957,  Ep.Timesteps 1600, Score: -31.44, Avg.Score: -68.65, Time: 02:56:29 \n"
     ]
    },
    {
     "name": "stderr",
     "output_type": "stream",
     "text": [
      " 41%|████      | 814/2000 [2:56:40<5:34:55, 16.94s/it]"
     ]
    },
    {
     "name": "stdout",
     "output_type": "stream",
     "text": [
      "Ep. 815, Timestep 1009557,  Ep.Timesteps 1600, Score: -35.83, Avg.Score: -67.90, Time: 02:56:45 \n"
     ]
    },
    {
     "name": "stderr",
     "output_type": "stream",
     "text": [
      " 41%|████      | 815/2000 [2:56:55<5:26:22, 16.53s/it]"
     ]
    },
    {
     "name": "stdout",
     "output_type": "stream",
     "text": [
      "Ep. 816, Timestep 1011157,  Ep.Timesteps 1600, Score: -47.69, Avg.Score: -67.26, Time: 02:57:02 \n"
     ]
    },
    {
     "name": "stderr",
     "output_type": "stream",
     "text": [
      " 41%|████      | 816/2000 [2:57:11<5:22:50, 16.36s/it]"
     ]
    },
    {
     "name": "stdout",
     "output_type": "stream",
     "text": [
      "Ep. 817, Timestep 1012757,  Ep.Timesteps 1600, Score: -43.09, Avg.Score: -66.54, Time: 02:57:18 \n"
     ]
    },
    {
     "name": "stderr",
     "output_type": "stream",
     "text": [
      " 41%|████      | 817/2000 [2:57:28<5:24:54, 16.48s/it]"
     ]
    },
    {
     "name": "stdout",
     "output_type": "stream",
     "text": [
      "Ep. 818, Timestep 1014357,  Ep.Timesteps 1600, Score: -43.71, Avg.Score: -65.83, Time: 02:57:34 \n"
     ]
    },
    {
     "name": "stderr",
     "output_type": "stream",
     "text": [
      " 41%|████      | 818/2000 [2:57:42<5:10:57, 15.79s/it]"
     ]
    },
    {
     "name": "stdout",
     "output_type": "stream",
     "text": [
      "Ep. 819, Timestep 1015957,  Ep.Timesteps 1600, Score: -55.93, Avg.Score: -65.24, Time: 02:57:48 \n"
     ]
    },
    {
     "name": "stderr",
     "output_type": "stream",
     "text": [
      " 41%|████      | 819/2000 [2:57:59<5:16:46, 16.09s/it]"
     ]
    },
    {
     "name": "stdout",
     "output_type": "stream",
     "text": [
      "Ep. 820, Timestep 1017557,  Ep.Timesteps 1600, Score: -49.07, Avg.Score: -64.57, Time: 02:58:05 \n"
     ]
    },
    {
     "name": "stderr",
     "output_type": "stream",
     "text": [
      " 41%|████      | 820/2000 [2:58:15<5:18:37, 16.20s/it]"
     ]
    },
    {
     "name": "stdout",
     "output_type": "stream",
     "text": [
      "Ep. 821, Timestep 1019157,  Ep.Timesteps 1600, Score: -45.76, Avg.Score: -63.87, Time: 02:58:22 \n"
     ]
    },
    {
     "name": "stderr",
     "output_type": "stream",
     "text": [
      " 41%|████      | 821/2000 [2:58:32<5:22:59, 16.44s/it]"
     ]
    },
    {
     "name": "stdout",
     "output_type": "stream",
     "text": [
      "Ep. 822, Timestep 1020757,  Ep.Timesteps 1600, Score: -38.34, Avg.Score: -63.13, Time: 02:58:39 \n"
     ]
    },
    {
     "name": "stderr",
     "output_type": "stream",
     "text": [
      " 41%|████      | 822/2000 [2:58:49<5:24:59, 16.55s/it]"
     ]
    },
    {
     "name": "stdout",
     "output_type": "stream",
     "text": [
      "Ep. 823, Timestep 1022357,  Ep.Timesteps 1600, Score: -27.34, Avg.Score: -62.27, Time: 02:58:55 \n"
     ]
    },
    {
     "name": "stderr",
     "output_type": "stream",
     "text": [
      " 41%|████      | 823/2000 [2:59:05<5:23:13, 16.48s/it]"
     ]
    },
    {
     "name": "stdout",
     "output_type": "stream",
     "text": [
      "Ep. 824, Timestep 1023957,  Ep.Timesteps 1600, Score: -28.93, Avg.Score: -61.45, Time: 02:59:11 \n"
     ]
    },
    {
     "name": "stderr",
     "output_type": "stream",
     "text": [
      " 41%|████      | 824/2000 [2:59:21<5:17:03, 16.18s/it]"
     ]
    },
    {
     "name": "stdout",
     "output_type": "stream",
     "text": [
      "Ep. 825, Timestep 1025557,  Ep.Timesteps 1600, Score: -27.70, Avg.Score: -60.61, Time: 02:59:27 \n"
     ]
    },
    {
     "name": "stderr",
     "output_type": "stream",
     "text": [
      " 41%|████▏     | 825/2000 [2:59:36<5:10:14, 15.84s/it]"
     ]
    },
    {
     "name": "stdout",
     "output_type": "stream",
     "text": [
      "Ep. 826, Timestep 1027157,  Ep.Timesteps 1600, Score: -17.31, Avg.Score: -59.65, Time: 02:59:42 \n"
     ]
    },
    {
     "name": "stderr",
     "output_type": "stream",
     "text": [
      " 41%|████▏     | 826/2000 [2:59:52<5:10:48, 15.88s/it]"
     ]
    },
    {
     "name": "stdout",
     "output_type": "stream",
     "text": [
      "Ep. 827, Timestep 1028757,  Ep.Timesteps 1600, Score: -38.24, Avg.Score: -58.92, Time: 02:59:58 \n"
     ]
    },
    {
     "name": "stderr",
     "output_type": "stream",
     "text": [
      " 41%|████▏     | 827/2000 [3:00:08<5:12:26, 15.98s/it]"
     ]
    },
    {
     "name": "stdout",
     "output_type": "stream",
     "text": [
      "Ep. 828, Timestep 1030357,  Ep.Timesteps 1600, Score: -27.08, Avg.Score: -58.05, Time: 03:00:14 \n"
     ]
    },
    {
     "name": "stderr",
     "output_type": "stream",
     "text": [
      " 41%|████▏     | 828/2000 [3:00:24<5:09:20, 15.84s/it]"
     ]
    },
    {
     "name": "stdout",
     "output_type": "stream",
     "text": [
      "Ep. 829, Timestep 1031957,  Ep.Timesteps 1600, Score: -21.39, Avg.Score: -57.11, Time: 03:00:30 \n"
     ]
    },
    {
     "name": "stderr",
     "output_type": "stream",
     "text": [
      " 41%|████▏     | 829/2000 [3:00:40<5:10:57, 15.93s/it]"
     ]
    },
    {
     "name": "stdout",
     "output_type": "stream",
     "text": [
      "Ep. 830, Timestep 1033557,  Ep.Timesteps 1600, Score: -18.47, Avg.Score: -56.14, Time: 03:00:46 \n"
     ]
    },
    {
     "name": "stderr",
     "output_type": "stream",
     "text": [
      " 42%|████▏     | 830/2000 [3:00:57<5:16:52, 16.25s/it]"
     ]
    },
    {
     "name": "stdout",
     "output_type": "stream",
     "text": [
      "Ep. 831, Timestep 1035157,  Ep.Timesteps 1600, Score: -29.71, Avg.Score: -55.30, Time: 03:01:03 \n"
     ]
    },
    {
     "name": "stderr",
     "output_type": "stream",
     "text": [
      " 42%|████▏     | 831/2000 [3:01:13<5:16:48, 16.26s/it]"
     ]
    },
    {
     "name": "stdout",
     "output_type": "stream",
     "text": [
      "Ep. 832, Timestep 1036757,  Ep.Timesteps 1600, Score: -24.49, Avg.Score: -54.39, Time: 03:01:19 \n"
     ]
    },
    {
     "name": "stderr",
     "output_type": "stream",
     "text": [
      " 42%|████▏     | 832/2000 [3:01:31<5:25:00, 16.70s/it]"
     ]
    },
    {
     "name": "stdout",
     "output_type": "stream",
     "text": [
      "Ep. 833, Timestep 1038357,  Ep.Timesteps 1600, Score: -40.45, Avg.Score: -53.66, Time: 03:01:37 \n"
     ]
    },
    {
     "name": "stderr",
     "output_type": "stream",
     "text": [
      " 42%|████▏     | 833/2000 [3:01:47<5:23:34, 16.64s/it]"
     ]
    },
    {
     "name": "stdout",
     "output_type": "stream",
     "text": [
      "Ep. 834, Timestep 1039957,  Ep.Timesteps 1600, Score: -32.58, Avg.Score: -52.85, Time: 03:01:53 \n"
     ]
    },
    {
     "name": "stderr",
     "output_type": "stream",
     "text": [
      " 42%|████▏     | 834/2000 [3:02:03<5:14:58, 16.21s/it]"
     ]
    },
    {
     "name": "stdout",
     "output_type": "stream",
     "text": [
      "Ep. 835, Timestep 1041557,  Ep.Timesteps 1600, Score: -31.63, Avg.Score: -52.05, Time: 03:02:08 \n"
     ]
    },
    {
     "name": "stderr",
     "output_type": "stream",
     "text": [
      " 42%|████▏     | 835/2000 [3:02:19<5:13:45, 16.16s/it]"
     ]
    },
    {
     "name": "stdout",
     "output_type": "stream",
     "text": [
      "Ep. 836, Timestep 1043157,  Ep.Timesteps 1600, Score: -30.69, Avg.Score: -51.23, Time: 03:02:24 \n"
     ]
    },
    {
     "name": "stderr",
     "output_type": "stream",
     "text": [
      " 42%|████▏     | 836/2000 [3:02:34<5:08:41, 15.91s/it]"
     ]
    },
    {
     "name": "stdout",
     "output_type": "stream",
     "text": [
      "Ep. 837, Timestep 1044757,  Ep.Timesteps 1600, Score: -43.91, Avg.Score: -50.53, Time: 03:02:40 \n"
     ]
    },
    {
     "name": "stderr",
     "output_type": "stream",
     "text": [
      " 42%|████▏     | 837/2000 [3:02:50<5:07:20, 15.86s/it]"
     ]
    },
    {
     "name": "stdout",
     "output_type": "stream",
     "text": [
      "Ep. 838, Timestep 1046357,  Ep.Timesteps 1600, Score: -27.96, Avg.Score: -49.70, Time: 03:02:56 \n"
     ]
    },
    {
     "name": "stderr",
     "output_type": "stream",
     "text": [
      " 42%|████▏     | 838/2000 [3:03:05<5:05:24, 15.77s/it]"
     ]
    },
    {
     "name": "stdout",
     "output_type": "stream",
     "text": [
      "Ep. 839, Timestep 1047957,  Ep.Timesteps 1600, Score: -35.32, Avg.Score: -48.90, Time: 03:03:12 \n"
     ]
    },
    {
     "name": "stderr",
     "output_type": "stream",
     "text": [
      " 42%|████▏     | 839/2000 [3:03:21<5:07:17, 15.88s/it]"
     ]
    },
    {
     "name": "stdout",
     "output_type": "stream",
     "text": [
      "Ep. 840, Timestep 1049557,  Ep.Timesteps 1600, Score: -24.62, Avg.Score: -47.98, Time: 03:03:28 \n"
     ]
    },
    {
     "name": "stderr",
     "output_type": "stream",
     "text": [
      " 42%|████▏     | 840/2000 [3:03:38<5:13:24, 16.21s/it]"
     ]
    },
    {
     "name": "stdout",
     "output_type": "stream",
     "text": [
      "Ep. 841, Timestep 1051157,  Ep.Timesteps 1600, Score: -28.42, Avg.Score: -47.11, Time: 03:03:44 \n"
     ]
    },
    {
     "name": "stderr",
     "output_type": "stream",
     "text": [
      " 42%|████▏     | 841/2000 [3:03:55<5:14:53, 16.30s/it]"
     ]
    },
    {
     "name": "stdout",
     "output_type": "stream",
     "text": [
      "Ep. 842, Timestep 1052757,  Ep.Timesteps 1600, Score: -33.71, Avg.Score: -46.26, Time: 03:04:01 \n"
     ]
    },
    {
     "name": "stderr",
     "output_type": "stream",
     "text": [
      " 42%|████▏     | 842/2000 [3:04:11<5:14:34, 16.30s/it]"
     ]
    },
    {
     "name": "stdout",
     "output_type": "stream",
     "text": [
      "Ep. 843, Timestep 1054357,  Ep.Timesteps 1600, Score: -23.67, Avg.Score: -45.55, Time: 03:04:18 \n"
     ]
    },
    {
     "name": "stderr",
     "output_type": "stream",
     "text": [
      " 42%|████▏     | 843/2000 [3:04:28<5:15:22, 16.36s/it]"
     ]
    },
    {
     "name": "stdout",
     "output_type": "stream",
     "text": [
      "Ep. 844, Timestep 1055957,  Ep.Timesteps 1600, Score: -35.31, Avg.Score: -44.73, Time: 03:04:34 \n"
     ]
    },
    {
     "name": "stderr",
     "output_type": "stream",
     "text": [
      " 42%|████▏     | 844/2000 [3:04:44<5:16:05, 16.41s/it]"
     ]
    },
    {
     "name": "stdout",
     "output_type": "stream",
     "text": [
      "Ep. 845, Timestep 1057557,  Ep.Timesteps 1600, Score: -31.43, Avg.Score: -42.95, Time: 03:04:50 \n"
     ]
    },
    {
     "name": "stderr",
     "output_type": "stream",
     "text": [
      " 42%|████▏     | 845/2000 [3:05:00<5:10:17, 16.12s/it]"
     ]
    },
    {
     "name": "stdout",
     "output_type": "stream",
     "text": [
      "Ep. 846, Timestep 1059157,  Ep.Timesteps 1600, Score: -48.54, Avg.Score: -42.33, Time: 03:05:06 \n"
     ]
    },
    {
     "name": "stderr",
     "output_type": "stream",
     "text": [
      " 42%|████▏     | 846/2000 [3:05:16<5:10:38, 16.15s/it]"
     ]
    },
    {
     "name": "stdout",
     "output_type": "stream",
     "text": [
      "Ep. 847, Timestep 1060757,  Ep.Timesteps 1600, Score: -40.64, Avg.Score: -41.58, Time: 03:05:22 \n"
     ]
    },
    {
     "name": "stderr",
     "output_type": "stream",
     "text": [
      " 42%|████▏     | 847/2000 [3:05:33<5:17:21, 16.51s/it]"
     ]
    },
    {
     "name": "stdout",
     "output_type": "stream",
     "text": [
      "Ep. 848, Timestep 1062357,  Ep.Timesteps 1600, Score: -39.53, Avg.Score: -41.06, Time: 03:05:40 \n"
     ]
    },
    {
     "name": "stderr",
     "output_type": "stream",
     "text": [
      " 42%|████▏     | 848/2000 [3:05:50<5:17:00, 16.51s/it]"
     ]
    },
    {
     "name": "stdout",
     "output_type": "stream",
     "text": [
      "Ep. 849, Timestep 1063957,  Ep.Timesteps 1600, Score: -29.04, Avg.Score: -40.92, Time: 03:05:56 \n"
     ]
    },
    {
     "name": "stderr",
     "output_type": "stream",
     "text": [
      " 42%|████▏     | 849/2000 [3:06:06<5:15:36, 16.45s/it]"
     ]
    },
    {
     "name": "stdout",
     "output_type": "stream",
     "text": [
      "Ep. 850, Timestep 1065557,  Ep.Timesteps 1600, Score: -33.80, Avg.Score: -40.93, Time: 03:06:12 \n"
     ]
    },
    {
     "name": "stderr",
     "output_type": "stream",
     "text": [
      " 42%|████▎     | 850/2000 [3:06:23<5:16:51, 16.53s/it]"
     ]
    },
    {
     "name": "stdout",
     "output_type": "stream",
     "text": [
      "Ep. 851, Timestep 1067157,  Ep.Timesteps 1600, Score: -37.50, Avg.Score: -40.95, Time: 03:06:29 \n"
     ]
    },
    {
     "name": "stderr",
     "output_type": "stream",
     "text": [
      " 43%|████▎     | 851/2000 [3:06:40<5:20:59, 16.76s/it]"
     ]
    },
    {
     "name": "stdout",
     "output_type": "stream",
     "text": [
      "Ep. 852, Timestep 1068757,  Ep.Timesteps 1600, Score: -27.03, Avg.Score: -40.99, Time: 03:06:46 \n"
     ]
    },
    {
     "name": "stderr",
     "output_type": "stream",
     "text": [
      " 43%|████▎     | 852/2000 [3:06:57<5:20:42, 16.76s/it]"
     ]
    },
    {
     "name": "stdout",
     "output_type": "stream",
     "text": [
      "Ep. 853, Timestep 1070357,  Ep.Timesteps 1600, Score: -26.10, Avg.Score: -39.91, Time: 03:07:03 \n"
     ]
    },
    {
     "name": "stderr",
     "output_type": "stream",
     "text": [
      " 43%|████▎     | 853/2000 [3:07:13<5:19:24, 16.71s/it]"
     ]
    },
    {
     "name": "stdout",
     "output_type": "stream",
     "text": [
      "Ep. 854, Timestep 1071957,  Ep.Timesteps 1600, Score: -14.45, Avg.Score: -39.79, Time: 03:07:19 \n"
     ]
    },
    {
     "name": "stderr",
     "output_type": "stream",
     "text": [
      " 43%|████▎     | 854/2000 [3:07:29<5:15:08, 16.50s/it]"
     ]
    },
    {
     "name": "stdout",
     "output_type": "stream",
     "text": [
      "Ep. 855, Timestep 1073557,  Ep.Timesteps 1600, Score: -31.39, Avg.Score: -39.73, Time: 03:07:36 \n"
     ]
    },
    {
     "name": "stderr",
     "output_type": "stream",
     "text": [
      " 43%|████▎     | 855/2000 [3:07:46<5:15:41, 16.54s/it]"
     ]
    },
    {
     "name": "stdout",
     "output_type": "stream",
     "text": [
      "Ep. 856, Timestep 1075157,  Ep.Timesteps 1600, Score: -20.29, Avg.Score: -39.60, Time: 03:07:52 \n"
     ]
    },
    {
     "name": "stderr",
     "output_type": "stream",
     "text": [
      " 43%|████▎     | 856/2000 [3:08:02<5:13:52, 16.46s/it]"
     ]
    },
    {
     "name": "stdout",
     "output_type": "stream",
     "text": [
      "Ep. 857, Timestep 1076757,  Ep.Timesteps 1600, Score: -28.64, Avg.Score: -39.70, Time: 03:08:08 \n"
     ]
    },
    {
     "name": "stderr",
     "output_type": "stream",
     "text": [
      " 43%|████▎     | 857/2000 [3:08:18<5:10:45, 16.31s/it]"
     ]
    },
    {
     "name": "stdout",
     "output_type": "stream",
     "text": [
      "Ep. 858, Timestep 1078357,  Ep.Timesteps 1600, Score: -32.21, Avg.Score: -39.76, Time: 03:08:24 \n"
     ]
    },
    {
     "name": "stderr",
     "output_type": "stream",
     "text": [
      " 43%|████▎     | 858/2000 [3:08:34<5:07:19, 16.15s/it]"
     ]
    },
    {
     "name": "stdout",
     "output_type": "stream",
     "text": [
      "Ep. 859, Timestep 1079957,  Ep.Timesteps 1600, Score: -38.64, Avg.Score: -39.87, Time: 03:08:40 \n"
     ]
    },
    {
     "name": "stderr",
     "output_type": "stream",
     "text": [
      " 43%|████▎     | 859/2000 [3:08:50<5:04:19, 16.00s/it]"
     ]
    },
    {
     "name": "stdout",
     "output_type": "stream",
     "text": [
      "Ep. 860, Timestep 1081557,  Ep.Timesteps 1600, Score: -15.61, Avg.Score: -39.75, Time: 03:08:56 \n"
     ]
    },
    {
     "name": "stderr",
     "output_type": "stream",
     "text": [
      " 43%|████▎     | 860/2000 [3:09:05<5:02:21, 15.91s/it]"
     ]
    },
    {
     "name": "stdout",
     "output_type": "stream",
     "text": [
      "Ep. 861, Timestep 1083157,  Ep.Timesteps 1600, Score: -34.86, Avg.Score: -39.66, Time: 03:09:11 \n"
     ]
    },
    {
     "name": "stderr",
     "output_type": "stream",
     "text": [
      " 43%|████▎     | 861/2000 [3:09:22<5:05:39, 16.10s/it]"
     ]
    },
    {
     "name": "stdout",
     "output_type": "stream",
     "text": [
      "Ep. 862, Timestep 1084757,  Ep.Timesteps 1600, Score: -35.55, Avg.Score: -39.61, Time: 03:09:28 \n"
     ]
    },
    {
     "name": "stderr",
     "output_type": "stream",
     "text": [
      " 43%|████▎     | 862/2000 [3:09:38<5:04:07, 16.03s/it]"
     ]
    },
    {
     "name": "stdout",
     "output_type": "stream",
     "text": [
      "Ep. 863, Timestep 1086357,  Ep.Timesteps 1600, Score: -34.17, Avg.Score: -39.51, Time: 03:09:44 \n"
     ]
    },
    {
     "name": "stderr",
     "output_type": "stream",
     "text": [
      " 43%|████▎     | 863/2000 [3:09:53<4:59:42, 15.82s/it]"
     ]
    },
    {
     "name": "stdout",
     "output_type": "stream",
     "text": [
      "Ep. 864, Timestep 1087957,  Ep.Timesteps 1600, Score: -23.86, Avg.Score: -39.17, Time: 03:09:59 \n"
     ]
    },
    {
     "name": "stderr",
     "output_type": "stream",
     "text": [
      " 43%|████▎     | 864/2000 [3:10:09<5:00:54, 15.89s/it]"
     ]
    },
    {
     "name": "stdout",
     "output_type": "stream",
     "text": [
      "Ep. 865, Timestep 1089557,  Ep.Timesteps 1600, Score: -42.84, Avg.Score: -38.96, Time: 03:10:16 \n"
     ]
    },
    {
     "name": "stderr",
     "output_type": "stream",
     "text": [
      " 43%|████▎     | 865/2000 [3:10:26<5:06:28, 16.20s/it]"
     ]
    },
    {
     "name": "stdout",
     "output_type": "stream",
     "text": [
      "Ep. 866, Timestep 1091157,  Ep.Timesteps 1600, Score: -43.46, Avg.Score: -39.04, Time: 03:10:32 \n"
     ]
    },
    {
     "name": "stderr",
     "output_type": "stream",
     "text": [
      " 43%|████▎     | 866/2000 [3:10:42<5:04:46, 16.13s/it]"
     ]
    },
    {
     "name": "stdout",
     "output_type": "stream",
     "text": [
      "Ep. 867, Timestep 1092757,  Ep.Timesteps 1600, Score: -39.11, Avg.Score: -39.00, Time: 03:10:48 \n"
     ]
    },
    {
     "name": "stderr",
     "output_type": "stream",
     "text": [
      " 43%|████▎     | 867/2000 [3:10:58<5:05:22, 16.17s/it]"
     ]
    },
    {
     "name": "stdout",
     "output_type": "stream",
     "text": [
      "Ep. 868, Timestep 1094357,  Ep.Timesteps 1600, Score: -18.51, Avg.Score: -38.82, Time: 03:11:05 \n"
     ]
    },
    {
     "name": "stderr",
     "output_type": "stream",
     "text": [
      " 43%|████▎     | 868/2000 [3:11:14<5:00:44, 15.94s/it]"
     ]
    },
    {
     "name": "stdout",
     "output_type": "stream",
     "text": [
      "Ep. 869, Timestep 1095957,  Ep.Timesteps 1600, Score: -17.96, Avg.Score: -38.43, Time: 03:11:20 \n"
     ]
    },
    {
     "name": "stderr",
     "output_type": "stream",
     "text": [
      " 43%|████▎     | 869/2000 [3:11:31<5:07:04, 16.29s/it]"
     ]
    },
    {
     "name": "stdout",
     "output_type": "stream",
     "text": [
      "Ep. 870, Timestep 1097557,  Ep.Timesteps 1600, Score: -26.89, Avg.Score: -38.01, Time: 03:11:37 \n"
     ]
    },
    {
     "name": "stderr",
     "output_type": "stream",
     "text": [
      " 44%|████▎     | 870/2000 [3:11:48<5:09:44, 16.45s/it]"
     ]
    },
    {
     "name": "stdout",
     "output_type": "stream",
     "text": [
      "Ep. 871, Timestep 1099157,  Ep.Timesteps 1600, Score: -33.73, Avg.Score: -37.88, Time: 03:11:53 \n"
     ]
    },
    {
     "name": "stderr",
     "output_type": "stream",
     "text": [
      " 44%|████▎     | 871/2000 [3:12:03<5:05:38, 16.24s/it]"
     ]
    },
    {
     "name": "stdout",
     "output_type": "stream",
     "text": [
      "Ep. 872, Timestep 1100757,  Ep.Timesteps 1600, Score: -33.26, Avg.Score: -37.77, Time: 03:12:10 \n"
     ]
    },
    {
     "name": "stderr",
     "output_type": "stream",
     "text": [
      " 44%|████▎     | 872/2000 [3:12:21<5:11:27, 16.57s/it]"
     ]
    },
    {
     "name": "stdout",
     "output_type": "stream",
     "text": [
      "Ep. 873, Timestep 1102357,  Ep.Timesteps 1600, Score: -28.35, Avg.Score: -37.71, Time: 03:12:27 \n"
     ]
    },
    {
     "name": "stderr",
     "output_type": "stream",
     "text": [
      " 44%|████▎     | 873/2000 [3:12:37<5:11:54, 16.61s/it]"
     ]
    },
    {
     "name": "stdout",
     "output_type": "stream",
     "text": [
      "Ep. 874, Timestep 1103957,  Ep.Timesteps 1600, Score: -15.69, Avg.Score: -37.45, Time: 03:12:43 \n"
     ]
    },
    {
     "name": "stderr",
     "output_type": "stream",
     "text": [
      " 44%|████▎     | 874/2000 [3:12:53<5:06:06, 16.31s/it]"
     ]
    },
    {
     "name": "stdout",
     "output_type": "stream",
     "text": [
      "Ep. 875, Timestep 1105557,  Ep.Timesteps 1600, Score: -40.57, Avg.Score: -37.59, Time: 03:12:59 \n"
     ]
    },
    {
     "name": "stderr",
     "output_type": "stream",
     "text": [
      " 44%|████▍     | 875/2000 [3:13:09<5:05:20, 16.28s/it]"
     ]
    },
    {
     "name": "stdout",
     "output_type": "stream",
     "text": [
      "Ep. 876, Timestep 1107157,  Ep.Timesteps 1600, Score: -26.15, Avg.Score: -37.44, Time: 03:13:16 \n"
     ]
    },
    {
     "name": "stderr",
     "output_type": "stream",
     "text": [
      " 44%|████▍     | 876/2000 [3:13:26<5:09:51, 16.54s/it]"
     ]
    },
    {
     "name": "stdout",
     "output_type": "stream",
     "text": [
      "Ep. 877, Timestep 1108757,  Ep.Timesteps 1600, Score: -26.39, Avg.Score: -37.37, Time: 03:13:33 \n"
     ]
    },
    {
     "name": "stderr",
     "output_type": "stream",
     "text": [
      " 44%|████▍     | 877/2000 [3:13:43<5:12:27, 16.69s/it]"
     ]
    },
    {
     "name": "stdout",
     "output_type": "stream",
     "text": [
      "Ep. 878, Timestep 1110357,  Ep.Timesteps 1600, Score: -48.97, Avg.Score: -37.36, Time: 03:13:49 \n"
     ]
    },
    {
     "name": "stderr",
     "output_type": "stream",
     "text": [
      " 44%|████▍     | 878/2000 [3:13:59<5:07:49, 16.46s/it]"
     ]
    },
    {
     "name": "stdout",
     "output_type": "stream",
     "text": [
      "Ep. 879, Timestep 1111957,  Ep.Timesteps 1600, Score: -18.33, Avg.Score: -37.01, Time: 03:14:06 \n"
     ]
    },
    {
     "name": "stderr",
     "output_type": "stream",
     "text": [
      " 44%|████▍     | 879/2000 [3:14:16<5:09:15, 16.55s/it]"
     ]
    },
    {
     "name": "stdout",
     "output_type": "stream",
     "text": [
      "Ep. 880, Timestep 1113557,  Ep.Timesteps 1600, Score: -124.28, Avg.Score: -37.93, Time: 03:14:22 \n"
     ]
    },
    {
     "name": "stderr",
     "output_type": "stream",
     "text": [
      " 44%|████▍     | 880/2000 [3:14:32<5:06:51, 16.44s/it]"
     ]
    },
    {
     "name": "stdout",
     "output_type": "stream",
     "text": [
      "Ep. 881, Timestep 1115157,  Ep.Timesteps 1600, Score: -135.46, Avg.Score: -38.94, Time: 03:14:38 \n"
     ]
    },
    {
     "name": "stderr",
     "output_type": "stream",
     "text": [
      " 44%|████▍     | 881/2000 [3:14:49<5:05:53, 16.40s/it]"
     ]
    },
    {
     "name": "stdout",
     "output_type": "stream",
     "text": [
      "Ep. 882, Timestep 1116757,  Ep.Timesteps 1600, Score: -80.69, Avg.Score: -39.47, Time: 03:14:55 \n"
     ]
    },
    {
     "name": "stderr",
     "output_type": "stream",
     "text": [
      " 44%|████▍     | 882/2000 [3:15:06<5:09:44, 16.62s/it]"
     ]
    },
    {
     "name": "stdout",
     "output_type": "stream",
     "text": [
      "Ep. 883, Timestep 1118357,  Ep.Timesteps 1600, Score: -60.21, Avg.Score: -39.34, Time: 03:15:12 \n"
     ]
    },
    {
     "name": "stderr",
     "output_type": "stream",
     "text": [
      " 44%|████▍     | 883/2000 [3:15:22<5:09:35, 16.63s/it]"
     ]
    },
    {
     "name": "stdout",
     "output_type": "stream",
     "text": [
      "Ep. 884, Timestep 1119957,  Ep.Timesteps 1600, Score: -54.10, Avg.Score: -39.46, Time: 03:15:28 \n"
     ]
    },
    {
     "name": "stderr",
     "output_type": "stream",
     "text": [
      " 44%|████▍     | 884/2000 [3:15:40<5:15:00, 16.94s/it]"
     ]
    },
    {
     "name": "stdout",
     "output_type": "stream",
     "text": [
      "Ep. 885, Timestep 1121557,  Ep.Timesteps 1600, Score: -65.97, Avg.Score: -39.84, Time: 03:15:47 \n"
     ]
    },
    {
     "name": "stderr",
     "output_type": "stream",
     "text": [
      " 44%|████▍     | 885/2000 [3:15:56<5:10:16, 16.70s/it]"
     ]
    },
    {
     "name": "stdout",
     "output_type": "stream",
     "text": [
      "Ep. 886, Timestep 1123157,  Ep.Timesteps 1600, Score: -54.03, Avg.Score: -40.00, Time: 03:16:03 \n"
     ]
    },
    {
     "name": "stderr",
     "output_type": "stream",
     "text": [
      " 44%|████▍     | 886/2000 [3:16:11<5:01:25, 16.23s/it]"
     ]
    },
    {
     "name": "stdout",
     "output_type": "stream",
     "text": [
      "Ep. 887, Timestep 1124757,  Ep.Timesteps 1600, Score: -63.90, Avg.Score: -40.44, Time: 03:16:17 \n"
     ]
    },
    {
     "name": "stderr",
     "output_type": "stream",
     "text": [
      " 44%|████▍     | 887/2000 [3:16:27<4:56:37, 15.99s/it]"
     ]
    },
    {
     "name": "stdout",
     "output_type": "stream",
     "text": [
      "Ep. 888, Timestep 1126357,  Ep.Timesteps 1600, Score: -55.68, Avg.Score: -40.31, Time: 03:16:32 \n"
     ]
    },
    {
     "name": "stderr",
     "output_type": "stream",
     "text": [
      " 44%|████▍     | 888/2000 [3:16:43<4:55:14, 15.93s/it]"
     ]
    },
    {
     "name": "stdout",
     "output_type": "stream",
     "text": [
      "Ep. 889, Timestep 1127957,  Ep.Timesteps 1600, Score: -55.84, Avg.Score: -40.08, Time: 03:16:49 \n"
     ]
    },
    {
     "name": "stderr",
     "output_type": "stream",
     "text": [
      " 44%|████▍     | 889/2000 [3:16:59<4:59:59, 16.20s/it]"
     ]
    },
    {
     "name": "stdout",
     "output_type": "stream",
     "text": [
      "Ep. 890, Timestep 1129557,  Ep.Timesteps 1600, Score: -57.79, Avg.Score: -40.09, Time: 03:17:06 \n"
     ]
    },
    {
     "name": "stderr",
     "output_type": "stream",
     "text": [
      " 44%|████▍     | 890/2000 [3:17:17<5:05:12, 16.50s/it]"
     ]
    },
    {
     "name": "stdout",
     "output_type": "stream",
     "text": [
      "Ep. 891, Timestep 1131157,  Ep.Timesteps 1600, Score: -47.82, Avg.Score: -40.01, Time: 03:17:23 \n"
     ]
    },
    {
     "name": "stderr",
     "output_type": "stream",
     "text": [
      " 45%|████▍     | 891/2000 [3:17:34<5:10:34, 16.80s/it]"
     ]
    },
    {
     "name": "stdout",
     "output_type": "stream",
     "text": [
      "Ep. 892, Timestep 1132757,  Ep.Timesteps 1600, Score: -42.03, Avg.Score: -39.66, Time: 03:17:40 \n"
     ]
    },
    {
     "name": "stderr",
     "output_type": "stream",
     "text": [
      " 45%|████▍     | 892/2000 [3:17:51<5:13:26, 16.97s/it]"
     ]
    },
    {
     "name": "stdout",
     "output_type": "stream",
     "text": [
      "Ep. 893, Timestep 1134357,  Ep.Timesteps 1600, Score: -53.50, Avg.Score: -39.48, Time: 03:17:58 \n"
     ]
    },
    {
     "name": "stderr",
     "output_type": "stream",
     "text": [
      " 45%|████▍     | 893/2000 [3:18:08<5:10:01, 16.80s/it]"
     ]
    },
    {
     "name": "stdout",
     "output_type": "stream",
     "text": [
      "Ep. 894, Timestep 1135957,  Ep.Timesteps 1600, Score: -34.39, Avg.Score: -39.18, Time: 03:18:15 \n"
     ]
    },
    {
     "name": "stderr",
     "output_type": "stream",
     "text": [
      " 45%|████▍     | 894/2000 [3:18:25<5:13:27, 17.01s/it]"
     ]
    },
    {
     "name": "stdout",
     "output_type": "stream",
     "text": [
      "Ep. 895, Timestep 1137557,  Ep.Timesteps 1600, Score: -38.09, Avg.Score: -39.16, Time: 03:18:32 \n"
     ]
    },
    {
     "name": "stderr",
     "output_type": "stream",
     "text": [
      " 45%|████▍     | 895/2000 [3:18:42<5:13:04, 17.00s/it]"
     ]
    },
    {
     "name": "stdout",
     "output_type": "stream",
     "text": [
      "Ep. 896, Timestep 1139157,  Ep.Timesteps 1600, Score: -27.60, Avg.Score: -39.13, Time: 03:18:49 \n"
     ]
    },
    {
     "name": "stderr",
     "output_type": "stream",
     "text": [
      " 45%|████▍     | 896/2000 [3:18:59<5:08:50, 16.78s/it]"
     ]
    },
    {
     "name": "stdout",
     "output_type": "stream",
     "text": [
      "Ep. 897, Timestep 1140757,  Ep.Timesteps 1600, Score: -24.75, Avg.Score: -39.05, Time: 03:19:05 \n"
     ]
    },
    {
     "name": "stderr",
     "output_type": "stream",
     "text": [
      " 45%|████▍     | 897/2000 [3:19:16<5:12:24, 16.99s/it]"
     ]
    },
    {
     "name": "stdout",
     "output_type": "stream",
     "text": [
      "Ep. 898, Timestep 1142357,  Ep.Timesteps 1600, Score: -31.11, Avg.Score: -39.05, Time: 03:19:22 \n"
     ]
    },
    {
     "name": "stderr",
     "output_type": "stream",
     "text": [
      " 45%|████▍     | 898/2000 [3:19:33<5:10:48, 16.92s/it]"
     ]
    },
    {
     "name": "stdout",
     "output_type": "stream",
     "text": [
      "Ep. 899, Timestep 1143957,  Ep.Timesteps 1600, Score: -44.43, Avg.Score: -39.27, Time: 03:19:39 \n"
     ]
    },
    {
     "name": "stderr",
     "output_type": "stream",
     "text": [
      " 45%|████▍     | 899/2000 [3:19:49<5:08:22, 16.81s/it]"
     ]
    },
    {
     "name": "stdout",
     "output_type": "stream",
     "text": [
      "Ep. 900, Timestep 1145557,  Ep.Timesteps 1600, Score: -30.12, Avg.Score: -39.28, Time: 03:19:56 \n"
     ]
    },
    {
     "name": "stderr",
     "output_type": "stream",
     "text": [
      " 45%|████▌     | 900/2000 [3:20:06<5:08:49, 16.84s/it]"
     ]
    },
    {
     "name": "stdout",
     "output_type": "stream",
     "text": [
      "Ep. 901, Timestep 1147157,  Ep.Timesteps 1600, Score: -39.22, Avg.Score: -39.15, Time: 03:20:13 \n"
     ]
    },
    {
     "name": "stderr",
     "output_type": "stream",
     "text": [
      " 45%|████▌     | 901/2000 [3:20:23<5:10:06, 16.93s/it]"
     ]
    },
    {
     "name": "stdout",
     "output_type": "stream",
     "text": [
      "Ep. 902, Timestep 1148757,  Ep.Timesteps 1600, Score: -22.96, Avg.Score: -39.01, Time: 03:20:30 \n"
     ]
    },
    {
     "name": "stderr",
     "output_type": "stream",
     "text": [
      " 45%|████▌     | 902/2000 [3:20:39<5:01:51, 16.49s/it]"
     ]
    },
    {
     "name": "stdout",
     "output_type": "stream",
     "text": [
      "Ep. 903, Timestep 1150357,  Ep.Timesteps 1600, Score: -39.27, Avg.Score: -38.83, Time: 03:20:45 \n"
     ]
    },
    {
     "name": "stderr",
     "output_type": "stream",
     "text": [
      " 45%|████▌     | 903/2000 [3:20:56<5:02:13, 16.53s/it]"
     ]
    },
    {
     "name": "stdout",
     "output_type": "stream",
     "text": [
      "Ep. 904, Timestep 1151957,  Ep.Timesteps 1600, Score: -44.79, Avg.Score: -38.69, Time: 03:21:01 \n"
     ]
    },
    {
     "name": "stderr",
     "output_type": "stream",
     "text": [
      " 45%|████▌     | 904/2000 [3:21:11<4:56:56, 16.26s/it]"
     ]
    },
    {
     "name": "stdout",
     "output_type": "stream",
     "text": [
      "Ep. 905, Timestep 1153557,  Ep.Timesteps 1600, Score: -68.43, Avg.Score: -38.76, Time: 03:21:17 \n"
     ]
    },
    {
     "name": "stderr",
     "output_type": "stream",
     "text": [
      " 45%|████▌     | 905/2000 [3:21:27<4:55:21, 16.18s/it]"
     ]
    },
    {
     "name": "stdout",
     "output_type": "stream",
     "text": [
      "Ep. 906, Timestep 1155157,  Ep.Timesteps 1600, Score: -33.19, Avg.Score: -38.52, Time: 03:21:33 \n"
     ]
    },
    {
     "name": "stderr",
     "output_type": "stream",
     "text": [
      " 45%|████▌     | 906/2000 [3:21:43<4:50:18, 15.92s/it]"
     ]
    },
    {
     "name": "stdout",
     "output_type": "stream",
     "text": [
      "Ep. 907, Timestep 1156757,  Ep.Timesteps 1600, Score: -46.81, Avg.Score: -38.41, Time: 03:21:48 \n"
     ]
    },
    {
     "name": "stderr",
     "output_type": "stream",
     "text": [
      " 45%|████▌     | 907/2000 [3:21:59<4:51:25, 16.00s/it]"
     ]
    },
    {
     "name": "stdout",
     "output_type": "stream",
     "text": [
      "Ep. 908, Timestep 1158357,  Ep.Timesteps 1600, Score: -33.05, Avg.Score: -38.32, Time: 03:22:05 \n"
     ]
    },
    {
     "name": "stderr",
     "output_type": "stream",
     "text": [
      " 45%|████▌     | 908/2000 [3:22:15<4:53:56, 16.15s/it]"
     ]
    },
    {
     "name": "stdout",
     "output_type": "stream",
     "text": [
      "Ep. 909, Timestep 1159957,  Ep.Timesteps 1600, Score: -35.12, Avg.Score: -38.06, Time: 03:22:22 \n"
     ]
    },
    {
     "name": "stderr",
     "output_type": "stream",
     "text": [
      " 45%|████▌     | 909/2000 [3:22:32<4:57:18, 16.35s/it]"
     ]
    },
    {
     "name": "stdout",
     "output_type": "stream",
     "text": [
      "Ep. 910, Timestep 1161557,  Ep.Timesteps 1600, Score: -33.45, Avg.Score: -37.93, Time: 03:22:38 \n"
     ]
    },
    {
     "name": "stderr",
     "output_type": "stream",
     "text": [
      " 46%|████▌     | 910/2000 [3:22:49<4:59:36, 16.49s/it]"
     ]
    },
    {
     "name": "stdout",
     "output_type": "stream",
     "text": [
      "Ep. 911, Timestep 1163157,  Ep.Timesteps 1600, Score: -31.30, Avg.Score: -38.00, Time: 03:22:55 \n"
     ]
    },
    {
     "name": "stderr",
     "output_type": "stream",
     "text": [
      " 46%|████▌     | 911/2000 [3:23:03<4:49:00, 15.92s/it]"
     ]
    },
    {
     "name": "stdout",
     "output_type": "stream",
     "text": [
      "Ep. 912, Timestep 1164757,  Ep.Timesteps 1600, Score: -30.10, Avg.Score: -38.01, Time: 03:23:10 \n"
     ]
    },
    {
     "name": "stderr",
     "output_type": "stream",
     "text": [
      " 46%|████▌     | 912/2000 [3:23:20<4:54:04, 16.22s/it]"
     ]
    },
    {
     "name": "stdout",
     "output_type": "stream",
     "text": [
      "Ep. 913, Timestep 1166357,  Ep.Timesteps 1600, Score: -51.32, Avg.Score: -38.14, Time: 03:23:27 \n"
     ]
    },
    {
     "name": "stderr",
     "output_type": "stream",
     "text": [
      " 46%|████▌     | 913/2000 [3:23:37<4:54:02, 16.23s/it]"
     ]
    },
    {
     "name": "stdout",
     "output_type": "stream",
     "text": [
      "Ep. 914, Timestep 1167957,  Ep.Timesteps 1600, Score: -42.14, Avg.Score: -38.25, Time: 03:23:43 \n"
     ]
    },
    {
     "name": "stderr",
     "output_type": "stream",
     "text": [
      " 46%|████▌     | 914/2000 [3:23:51<4:46:04, 15.81s/it]"
     ]
    },
    {
     "name": "stdout",
     "output_type": "stream",
     "text": [
      "Ep. 915, Timestep 1169557,  Ep.Timesteps 1600, Score: -83.18, Avg.Score: -38.72, Time: 03:23:57 \n"
     ]
    },
    {
     "name": "stderr",
     "output_type": "stream",
     "text": [
      " 46%|████▌     | 915/2000 [3:24:07<4:47:20, 15.89s/it]"
     ]
    },
    {
     "name": "stdout",
     "output_type": "stream",
     "text": [
      "Ep. 916, Timestep 1171157,  Ep.Timesteps 1600, Score: -51.70, Avg.Score: -38.76, Time: 03:24:14 \n"
     ]
    },
    {
     "name": "stderr",
     "output_type": "stream",
     "text": [
      " 46%|████▌     | 916/2000 [3:24:24<4:50:28, 16.08s/it]"
     ]
    },
    {
     "name": "stdout",
     "output_type": "stream",
     "text": [
      "Ep. 917, Timestep 1172757,  Ep.Timesteps 1600, Score: -56.08, Avg.Score: -38.89, Time: 03:24:30 \n"
     ]
    },
    {
     "name": "stderr",
     "output_type": "stream",
     "text": [
      " 46%|████▌     | 917/2000 [3:24:41<4:54:09, 16.30s/it]"
     ]
    },
    {
     "name": "stdout",
     "output_type": "stream",
     "text": [
      "Ep. 918, Timestep 1174357,  Ep.Timesteps 1600, Score: -70.15, Avg.Score: -39.16, Time: 03:24:47 \n"
     ]
    },
    {
     "name": "stderr",
     "output_type": "stream",
     "text": [
      " 46%|████▌     | 918/2000 [3:24:57<4:52:32, 16.22s/it]"
     ]
    },
    {
     "name": "stdout",
     "output_type": "stream",
     "text": [
      "Ep. 919, Timestep 1175957,  Ep.Timesteps 1600, Score: -74.54, Avg.Score: -39.34, Time: 03:25:03 \n"
     ]
    },
    {
     "name": "stderr",
     "output_type": "stream",
     "text": [
      " 46%|████▌     | 919/2000 [3:25:14<4:55:05, 16.38s/it]"
     ]
    },
    {
     "name": "stdout",
     "output_type": "stream",
     "text": [
      "Ep. 920, Timestep 1177557,  Ep.Timesteps 1600, Score: -58.13, Avg.Score: -39.43, Time: 03:25:20 \n"
     ]
    },
    {
     "name": "stderr",
     "output_type": "stream",
     "text": [
      " 46%|████▌     | 920/2000 [3:25:31<4:59:44, 16.65s/it]"
     ]
    },
    {
     "name": "stdout",
     "output_type": "stream",
     "text": [
      "Ep. 921, Timestep 1179157,  Ep.Timesteps 1600, Score: -78.01, Avg.Score: -39.76, Time: 03:25:37 \n"
     ]
    },
    {
     "name": "stderr",
     "output_type": "stream",
     "text": [
      " 46%|████▌     | 921/2000 [3:25:48<5:03:39, 16.89s/it]"
     ]
    },
    {
     "name": "stdout",
     "output_type": "stream",
     "text": [
      "Ep. 922, Timestep 1180757,  Ep.Timesteps 1600, Score: -31.31, Avg.Score: -39.68, Time: 03:25:55 \n"
     ]
    },
    {
     "name": "stderr",
     "output_type": "stream",
     "text": [
      " 46%|████▌     | 922/2000 [3:26:05<5:00:08, 16.71s/it]"
     ]
    },
    {
     "name": "stdout",
     "output_type": "stream",
     "text": [
      "Ep. 923, Timestep 1182357,  Ep.Timesteps 1600, Score: -67.46, Avg.Score: -40.09, Time: 03:26:11 \n"
     ]
    },
    {
     "name": "stderr",
     "output_type": "stream",
     "text": [
      " 46%|████▌     | 923/2000 [3:26:20<4:55:02, 16.44s/it]"
     ]
    },
    {
     "name": "stdout",
     "output_type": "stream",
     "text": [
      "Ep. 924, Timestep 1183957,  Ep.Timesteps 1600, Score: -45.53, Avg.Score: -40.25, Time: 03:26:27 \n"
     ]
    },
    {
     "name": "stderr",
     "output_type": "stream",
     "text": [
      " 46%|████▌     | 924/2000 [3:26:37<4:53:16, 16.35s/it]"
     ]
    },
    {
     "name": "stdout",
     "output_type": "stream",
     "text": [
      "Ep. 925, Timestep 1185557,  Ep.Timesteps 1600, Score: -29.21, Avg.Score: -40.27, Time: 03:26:43 \n"
     ]
    },
    {
     "name": "stderr",
     "output_type": "stream",
     "text": [
      " 46%|████▋     | 925/2000 [3:26:52<4:50:02, 16.19s/it]"
     ]
    },
    {
     "name": "stdout",
     "output_type": "stream",
     "text": [
      "Ep. 926, Timestep 1187157,  Ep.Timesteps 1600, Score: -55.91, Avg.Score: -40.65, Time: 03:26:58 \n"
     ]
    },
    {
     "name": "stderr",
     "output_type": "stream",
     "text": [
      " 46%|████▋     | 926/2000 [3:27:08<4:47:57, 16.09s/it]"
     ]
    },
    {
     "name": "stdout",
     "output_type": "stream",
     "text": [
      "Ep. 927, Timestep 1188757,  Ep.Timesteps 1600, Score: -46.07, Avg.Score: -40.73, Time: 03:27:14 \n"
     ]
    },
    {
     "name": "stderr",
     "output_type": "stream",
     "text": [
      " 46%|████▋     | 927/2000 [3:27:23<4:38:52, 15.59s/it]"
     ]
    },
    {
     "name": "stdout",
     "output_type": "stream",
     "text": [
      "Ep. 928, Timestep 1190357,  Ep.Timesteps 1600, Score: -56.19, Avg.Score: -41.02, Time: 03:27:27 \n"
     ]
    },
    {
     "name": "stderr",
     "output_type": "stream",
     "text": [
      " 46%|████▋     | 928/2000 [3:27:35<4:20:59, 14.61s/it]"
     ]
    },
    {
     "name": "stdout",
     "output_type": "stream",
     "text": [
      "Ep. 929, Timestep 1191957,  Ep.Timesteps 1600, Score: -70.44, Avg.Score: -41.51, Time: 03:27:40 \n"
     ]
    },
    {
     "name": "stderr",
     "output_type": "stream",
     "text": [
      " 46%|████▋     | 929/2000 [3:27:48<4:11:40, 14.10s/it]"
     ]
    },
    {
     "name": "stdout",
     "output_type": "stream",
     "text": [
      "Ep. 930, Timestep 1193557,  Ep.Timesteps 1600, Score: -80.48, Avg.Score: -42.13, Time: 03:27:53 \n"
     ]
    },
    {
     "name": "stderr",
     "output_type": "stream",
     "text": [
      " 46%|████▋     | 930/2000 [3:28:01<4:05:27, 13.76s/it]"
     ]
    },
    {
     "name": "stdout",
     "output_type": "stream",
     "text": [
      "Ep. 931, Timestep 1195157,  Ep.Timesteps 1600, Score: -64.38, Avg.Score: -42.48, Time: 03:28:06 \n"
     ]
    },
    {
     "name": "stderr",
     "output_type": "stream",
     "text": [
      " 47%|████▋     | 931/2000 [3:28:14<3:59:32, 13.45s/it]"
     ]
    },
    {
     "name": "stdout",
     "output_type": "stream",
     "text": [
      "Ep. 932, Timestep 1196757,  Ep.Timesteps 1600, Score: -63.68, Avg.Score: -42.87, Time: 03:28:18 \n"
     ]
    },
    {
     "name": "stderr",
     "output_type": "stream",
     "text": [
      " 47%|████▋     | 932/2000 [3:28:26<3:55:03, 13.21s/it]"
     ]
    },
    {
     "name": "stdout",
     "output_type": "stream",
     "text": [
      "Ep. 933, Timestep 1198357,  Ep.Timesteps 1600, Score: -75.38, Avg.Score: -43.22, Time: 03:28:31 \n"
     ]
    },
    {
     "name": "stderr",
     "output_type": "stream",
     "text": [
      " 47%|████▋     | 933/2000 [3:28:39<3:52:54, 13.10s/it]"
     ]
    },
    {
     "name": "stdout",
     "output_type": "stream",
     "text": [
      "Ep. 934, Timestep 1199957,  Ep.Timesteps 1600, Score: -48.22, Avg.Score: -43.38, Time: 03:28:44 \n"
     ]
    },
    {
     "name": "stderr",
     "output_type": "stream",
     "text": [
      " 47%|████▋     | 934/2000 [3:28:52<3:49:27, 12.92s/it]"
     ]
    },
    {
     "name": "stdout",
     "output_type": "stream",
     "text": [
      "Ep. 935, Timestep 1201557,  Ep.Timesteps 1600, Score: -74.52, Avg.Score: -43.81, Time: 03:28:56 \n"
     ]
    },
    {
     "name": "stderr",
     "output_type": "stream",
     "text": [
      " 47%|████▋     | 935/2000 [3:29:04<3:46:00, 12.73s/it]"
     ]
    },
    {
     "name": "stdout",
     "output_type": "stream",
     "text": [
      "Ep. 936, Timestep 1203157,  Ep.Timesteps 1600, Score: -39.00, Avg.Score: -43.89, Time: 03:29:09 \n"
     ]
    },
    {
     "name": "stderr",
     "output_type": "stream",
     "text": [
      " 47%|████▋     | 936/2000 [3:29:17<3:47:02, 12.80s/it]"
     ]
    },
    {
     "name": "stdout",
     "output_type": "stream",
     "text": [
      "Ep. 937, Timestep 1204757,  Ep.Timesteps 1600, Score: -60.56, Avg.Score: -44.06, Time: 03:29:22 \n"
     ]
    },
    {
     "name": "stderr",
     "output_type": "stream",
     "text": [
      " 47%|████▋     | 937/2000 [3:29:30<3:49:10, 12.94s/it]"
     ]
    },
    {
     "name": "stdout",
     "output_type": "stream",
     "text": [
      "Ep. 938, Timestep 1206357,  Ep.Timesteps 1600, Score: -54.09, Avg.Score: -44.32, Time: 03:29:35 \n"
     ]
    },
    {
     "name": "stderr",
     "output_type": "stream",
     "text": [
      " 47%|████▋     | 938/2000 [3:29:41<3:38:38, 12.35s/it]"
     ]
    },
    {
     "name": "stdout",
     "output_type": "stream",
     "text": [
      "Ep. 939, Timestep 1207957,  Ep.Timesteps 1600, Score: -38.71, Avg.Score: -44.35, Time: 03:29:46 \n"
     ]
    },
    {
     "name": "stderr",
     "output_type": "stream",
     "text": [
      " 47%|████▋     | 939/2000 [3:29:54<3:43:30, 12.64s/it]"
     ]
    },
    {
     "name": "stdout",
     "output_type": "stream",
     "text": [
      "Ep. 940, Timestep 1209557,  Ep.Timesteps 1600, Score: -77.32, Avg.Score: -44.88, Time: 03:29:59 \n"
     ]
    },
    {
     "name": "stderr",
     "output_type": "stream",
     "text": [
      " 47%|████▋     | 940/2000 [3:30:08<3:46:08, 12.80s/it]"
     ]
    },
    {
     "name": "stdout",
     "output_type": "stream",
     "text": [
      "Ep. 941, Timestep 1211157,  Ep.Timesteps 1600, Score: -44.15, Avg.Score: -45.04, Time: 03:30:13 \n"
     ]
    },
    {
     "name": "stderr",
     "output_type": "stream",
     "text": [
      " 47%|████▋     | 941/2000 [3:30:21<3:47:04, 12.87s/it]"
     ]
    },
    {
     "name": "stdout",
     "output_type": "stream",
     "text": [
      "Ep. 942, Timestep 1212757,  Ep.Timesteps 1600, Score: -71.59, Avg.Score: -45.41, Time: 03:30:25 \n"
     ]
    },
    {
     "name": "stderr",
     "output_type": "stream",
     "text": [
      " 47%|████▋     | 942/2000 [3:30:34<3:51:13, 13.11s/it]"
     ]
    },
    {
     "name": "stdout",
     "output_type": "stream",
     "text": [
      "Ep. 943, Timestep 1214357,  Ep.Timesteps 1600, Score: -58.29, Avg.Score: -45.76, Time: 03:30:39 \n"
     ]
    },
    {
     "name": "stderr",
     "output_type": "stream",
     "text": [
      " 47%|████▋     | 943/2000 [3:30:47<3:51:07, 13.12s/it]"
     ]
    },
    {
     "name": "stdout",
     "output_type": "stream",
     "text": [
      "Ep. 944, Timestep 1215957,  Ep.Timesteps 1600, Score: -44.86, Avg.Score: -45.86, Time: 03:30:52 \n"
     ]
    },
    {
     "name": "stderr",
     "output_type": "stream",
     "text": [
      " 47%|████▋     | 944/2000 [3:31:00<3:49:51, 13.06s/it]"
     ]
    },
    {
     "name": "stdout",
     "output_type": "stream",
     "text": [
      "Ep. 945, Timestep 1217557,  Ep.Timesteps 1600, Score: -43.69, Avg.Score: -45.98, Time: 03:31:05 \n"
     ]
    },
    {
     "name": "stderr",
     "output_type": "stream",
     "text": [
      " 47%|████▋     | 945/2000 [3:31:13<3:48:10, 12.98s/it]"
     ]
    },
    {
     "name": "stdout",
     "output_type": "stream",
     "text": [
      "Ep. 946, Timestep 1219157,  Ep.Timesteps 1600, Score: -52.18, Avg.Score: -46.01, Time: 03:31:18 \n"
     ]
    },
    {
     "name": "stderr",
     "output_type": "stream",
     "text": [
      " 47%|████▋     | 946/2000 [3:31:26<3:47:00, 12.92s/it]"
     ]
    },
    {
     "name": "stdout",
     "output_type": "stream",
     "text": [
      "Ep. 947, Timestep 1220757,  Ep.Timesteps 1600, Score: -43.76, Avg.Score: -46.05, Time: 03:31:31 \n"
     ]
    },
    {
     "name": "stderr",
     "output_type": "stream",
     "text": [
      " 47%|████▋     | 947/2000 [3:31:39<3:47:36, 12.97s/it]"
     ]
    },
    {
     "name": "stdout",
     "output_type": "stream",
     "text": [
      "Ep. 948, Timestep 1222357,  Ep.Timesteps 1600, Score: -35.91, Avg.Score: -46.01, Time: 03:31:44 \n"
     ]
    },
    {
     "name": "stderr",
     "output_type": "stream",
     "text": [
      " 47%|████▋     | 948/2000 [3:31:52<3:49:01, 13.06s/it]"
     ]
    },
    {
     "name": "stdout",
     "output_type": "stream",
     "text": [
      "Ep. 949, Timestep 1223957,  Ep.Timesteps 1600, Score: -25.17, Avg.Score: -45.97, Time: 03:31:57 \n"
     ]
    },
    {
     "name": "stderr",
     "output_type": "stream",
     "text": [
      " 47%|████▋     | 949/2000 [3:32:05<3:48:17, 13.03s/it]"
     ]
    },
    {
     "name": "stdout",
     "output_type": "stream",
     "text": [
      "Ep. 950, Timestep 1225557,  Ep.Timesteps 1600, Score: -30.90, Avg.Score: -45.94, Time: 03:32:10 \n"
     ]
    },
    {
     "name": "stderr",
     "output_type": "stream",
     "text": [
      " 48%|████▊     | 950/2000 [3:32:18<3:45:20, 12.88s/it]"
     ]
    },
    {
     "name": "stdout",
     "output_type": "stream",
     "text": [
      "Ep. 951, Timestep 1227157,  Ep.Timesteps 1600, Score: -85.74, Avg.Score: -46.42, Time: 03:32:23 \n"
     ]
    },
    {
     "name": "stderr",
     "output_type": "stream",
     "text": [
      " 48%|████▊     | 951/2000 [3:32:30<3:43:47, 12.80s/it]"
     ]
    },
    {
     "name": "stdout",
     "output_type": "stream",
     "text": [
      "Ep. 952, Timestep 1228757,  Ep.Timesteps 1600, Score: -58.27, Avg.Score: -46.74, Time: 03:32:35 \n"
     ]
    },
    {
     "name": "stderr",
     "output_type": "stream",
     "text": [
      " 48%|████▊     | 952/2000 [3:32:43<3:42:25, 12.73s/it]"
     ]
    },
    {
     "name": "stdout",
     "output_type": "stream",
     "text": [
      "Ep. 953, Timestep 1230357,  Ep.Timesteps 1600, Score: -88.89, Avg.Score: -47.36, Time: 03:32:48 \n"
     ]
    },
    {
     "name": "stderr",
     "output_type": "stream",
     "text": [
      " 48%|████▊     | 953/2000 [3:32:56<3:41:37, 12.70s/it]"
     ]
    },
    {
     "name": "stdout",
     "output_type": "stream",
     "text": [
      "Ep. 954, Timestep 1231957,  Ep.Timesteps 1600, Score: -86.18, Avg.Score: -48.08, Time: 03:33:01 \n"
     ]
    },
    {
     "name": "stderr",
     "output_type": "stream",
     "text": [
      " 48%|████▊     | 954/2000 [3:33:09<3:43:34, 12.82s/it]"
     ]
    },
    {
     "name": "stdout",
     "output_type": "stream",
     "text": [
      "Ep. 955, Timestep 1233557,  Ep.Timesteps 1600, Score: -70.02, Avg.Score: -48.47, Time: 03:33:13 \n"
     ]
    },
    {
     "name": "stderr",
     "output_type": "stream",
     "text": [
      " 48%|████▊     | 955/2000 [3:33:21<3:42:23, 12.77s/it]"
     ]
    },
    {
     "name": "stdout",
     "output_type": "stream",
     "text": [
      "Ep. 956, Timestep 1235157,  Ep.Timesteps 1600, Score: -56.99, Avg.Score: -48.84, Time: 03:33:26 \n"
     ]
    },
    {
     "name": "stderr",
     "output_type": "stream",
     "text": [
      " 48%|████▊     | 956/2000 [3:33:34<3:42:11, 12.77s/it]"
     ]
    },
    {
     "name": "stdout",
     "output_type": "stream",
     "text": [
      "Ep. 957, Timestep 1236757,  Ep.Timesteps 1600, Score: -46.99, Avg.Score: -49.02, Time: 03:33:39 \n"
     ]
    },
    {
     "name": "stderr",
     "output_type": "stream",
     "text": [
      " 48%|████▊     | 957/2000 [3:33:47<3:44:19, 12.90s/it]"
     ]
    },
    {
     "name": "stdout",
     "output_type": "stream",
     "text": [
      "Ep. 958, Timestep 1238357,  Ep.Timesteps 1600, Score: -77.92, Avg.Score: -49.48, Time: 03:33:52 \n"
     ]
    },
    {
     "name": "stderr",
     "output_type": "stream",
     "text": [
      " 48%|████▊     | 958/2000 [3:34:00<3:42:57, 12.84s/it]"
     ]
    },
    {
     "name": "stdout",
     "output_type": "stream",
     "text": [
      "Ep. 959, Timestep 1239957,  Ep.Timesteps 1600, Score: -45.86, Avg.Score: -49.55, Time: 03:34:05 \n"
     ]
    },
    {
     "name": "stderr",
     "output_type": "stream",
     "text": [
      " 48%|████▊     | 959/2000 [3:34:13<3:44:02, 12.91s/it]"
     ]
    },
    {
     "name": "stdout",
     "output_type": "stream",
     "text": [
      "Ep. 960, Timestep 1241557,  Ep.Timesteps 1600, Score: -56.92, Avg.Score: -49.96, Time: 03:34:18 \n"
     ]
    },
    {
     "name": "stderr",
     "output_type": "stream",
     "text": [
      " 48%|████▊     | 960/2000 [3:34:26<3:43:25, 12.89s/it]"
     ]
    },
    {
     "name": "stdout",
     "output_type": "stream",
     "text": [
      "Ep. 961, Timestep 1243157,  Ep.Timesteps 1600, Score: -26.00, Avg.Score: -49.87, Time: 03:34:31 \n"
     ]
    },
    {
     "name": "stderr",
     "output_type": "stream",
     "text": [
      " 48%|████▊     | 961/2000 [3:34:39<3:43:42, 12.92s/it]"
     ]
    },
    {
     "name": "stdout",
     "output_type": "stream",
     "text": [
      "Ep. 962, Timestep 1244757,  Ep.Timesteps 1600, Score: -31.05, Avg.Score: -49.83, Time: 03:34:44 \n"
     ]
    },
    {
     "name": "stderr",
     "output_type": "stream",
     "text": [
      " 48%|████▊     | 962/2000 [3:34:52<3:43:56, 12.94s/it]"
     ]
    },
    {
     "name": "stdout",
     "output_type": "stream",
     "text": [
      "Ep. 963, Timestep 1246357,  Ep.Timesteps 1600, Score: -47.72, Avg.Score: -49.96, Time: 03:34:57 \n"
     ]
    },
    {
     "name": "stderr",
     "output_type": "stream",
     "text": [
      " 48%|████▊     | 963/2000 [3:35:06<3:50:27, 13.33s/it]"
     ]
    },
    {
     "name": "stdout",
     "output_type": "stream",
     "text": [
      "Ep. 964, Timestep 1247957,  Ep.Timesteps 1600, Score: -38.25, Avg.Score: -50.11, Time: 03:35:11 \n"
     ]
    },
    {
     "name": "stderr",
     "output_type": "stream",
     "text": [
      " 48%|████▊     | 964/2000 [3:35:19<3:48:16, 13.22s/it]"
     ]
    },
    {
     "name": "stdout",
     "output_type": "stream",
     "text": [
      "Ep. 965, Timestep 1249557,  Ep.Timesteps 1600, Score: -47.82, Avg.Score: -50.16, Time: 03:35:24 \n"
     ]
    },
    {
     "name": "stderr",
     "output_type": "stream",
     "text": [
      " 48%|████▊     | 965/2000 [3:35:32<3:48:38, 13.25s/it]"
     ]
    },
    {
     "name": "stdout",
     "output_type": "stream",
     "text": [
      "Ep. 966, Timestep 1251157,  Ep.Timesteps 1600, Score: -49.39, Avg.Score: -50.22, Time: 03:35:37 \n"
     ]
    },
    {
     "name": "stderr",
     "output_type": "stream",
     "text": [
      " 48%|████▊     | 966/2000 [3:35:45<3:44:08, 13.01s/it]"
     ]
    },
    {
     "name": "stdout",
     "output_type": "stream",
     "text": [
      "Ep. 967, Timestep 1252757,  Ep.Timesteps 1600, Score: -31.93, Avg.Score: -50.14, Time: 03:35:50 \n"
     ]
    },
    {
     "name": "stderr",
     "output_type": "stream",
     "text": [
      " 48%|████▊     | 967/2000 [3:35:59<3:47:46, 13.23s/it]"
     ]
    },
    {
     "name": "stdout",
     "output_type": "stream",
     "text": [
      "Ep. 968, Timestep 1254357,  Ep.Timesteps 1600, Score: -34.02, Avg.Score: -50.30, Time: 03:36:04 \n"
     ]
    },
    {
     "name": "stderr",
     "output_type": "stream",
     "text": [
      " 48%|████▊     | 968/2000 [3:36:11<3:43:45, 13.01s/it]"
     ]
    },
    {
     "name": "stdout",
     "output_type": "stream",
     "text": [
      "Ep. 969, Timestep 1255957,  Ep.Timesteps 1600, Score: -43.67, Avg.Score: -50.56, Time: 03:36:16 \n"
     ]
    },
    {
     "name": "stderr",
     "output_type": "stream",
     "text": [
      " 48%|████▊     | 969/2000 [3:36:24<3:41:20, 12.88s/it]"
     ]
    },
    {
     "name": "stdout",
     "output_type": "stream",
     "text": [
      "Ep. 970, Timestep 1257557,  Ep.Timesteps 1600, Score: -48.56, Avg.Score: -50.77, Time: 03:36:29 \n"
     ]
    },
    {
     "name": "stderr",
     "output_type": "stream",
     "text": [
      " 48%|████▊     | 970/2000 [3:36:36<3:37:49, 12.69s/it]"
     ]
    },
    {
     "name": "stdout",
     "output_type": "stream",
     "text": [
      "Ep. 971, Timestep 1259157,  Ep.Timesteps 1600, Score: -121.02, Avg.Score: -51.65, Time: 03:36:41 \n"
     ]
    },
    {
     "name": "stderr",
     "output_type": "stream",
     "text": [
      " 49%|████▊     | 971/2000 [3:36:48<3:35:13, 12.55s/it]"
     ]
    },
    {
     "name": "stdout",
     "output_type": "stream",
     "text": [
      "Ep. 972, Timestep 1260757,  Ep.Timesteps 1600, Score: -60.18, Avg.Score: -51.92, Time: 03:36:53 \n"
     ]
    },
    {
     "name": "stderr",
     "output_type": "stream",
     "text": [
      " 49%|████▊     | 972/2000 [3:37:01<3:35:09, 12.56s/it]"
     ]
    },
    {
     "name": "stdout",
     "output_type": "stream",
     "text": [
      "Ep. 973, Timestep 1262357,  Ep.Timesteps 1600, Score: -78.96, Avg.Score: -52.42, Time: 03:37:05 \n"
     ]
    },
    {
     "name": "stderr",
     "output_type": "stream",
     "text": [
      " 49%|████▊     | 973/2000 [3:37:13<3:31:26, 12.35s/it]"
     ]
    },
    {
     "name": "stdout",
     "output_type": "stream",
     "text": [
      "Ep. 974, Timestep 1263957,  Ep.Timesteps 1600, Score: -74.37, Avg.Score: -53.01, Time: 03:37:17 \n"
     ]
    },
    {
     "name": "stderr",
     "output_type": "stream",
     "text": [
      " 49%|████▊     | 974/2000 [3:37:26<3:35:20, 12.59s/it]"
     ]
    },
    {
     "name": "stdout",
     "output_type": "stream",
     "text": [
      "Ep. 975, Timestep 1265557,  Ep.Timesteps 1600, Score: -107.55, Avg.Score: -53.68, Time: 03:37:31 \n"
     ]
    },
    {
     "name": "stderr",
     "output_type": "stream",
     "text": [
      " 49%|████▉     | 975/2000 [3:37:38<3:34:57, 12.58s/it]"
     ]
    },
    {
     "name": "stdout",
     "output_type": "stream",
     "text": [
      "Ep. 976, Timestep 1267157,  Ep.Timesteps 1600, Score: -59.43, Avg.Score: -54.01, Time: 03:37:43 \n"
     ]
    },
    {
     "name": "stderr",
     "output_type": "stream",
     "text": [
      " 49%|████▉     | 976/2000 [3:37:51<3:37:21, 12.74s/it]"
     ]
    },
    {
     "name": "stdout",
     "output_type": "stream",
     "text": [
      "Ep. 977, Timestep 1268757,  Ep.Timesteps 1600, Score: -75.00, Avg.Score: -54.50, Time: 03:37:56 \n"
     ]
    },
    {
     "name": "stderr",
     "output_type": "stream",
     "text": [
      " 49%|████▉     | 977/2000 [3:38:04<3:36:26, 12.69s/it]"
     ]
    },
    {
     "name": "stdout",
     "output_type": "stream",
     "text": [
      "Ep. 978, Timestep 1270357,  Ep.Timesteps 1600, Score: -63.57, Avg.Score: -54.64, Time: 03:38:09 \n"
     ]
    },
    {
     "name": "stderr",
     "output_type": "stream",
     "text": [
      " 49%|████▉     | 978/2000 [3:38:17<3:35:58, 12.68s/it]"
     ]
    },
    {
     "name": "stdout",
     "output_type": "stream",
     "text": [
      "Ep. 979, Timestep 1271957,  Ep.Timesteps 1600, Score: -72.13, Avg.Score: -55.18, Time: 03:38:22 \n"
     ]
    },
    {
     "name": "stderr",
     "output_type": "stream",
     "text": [
      " 49%|████▉     | 979/2000 [3:38:30<3:38:07, 12.82s/it]"
     ]
    },
    {
     "name": "stdout",
     "output_type": "stream",
     "text": [
      "Ep. 980, Timestep 1273557,  Ep.Timesteps 1600, Score: -65.33, Avg.Score: -54.59, Time: 03:38:35 \n"
     ]
    },
    {
     "name": "stderr",
     "output_type": "stream",
     "text": [
      " 49%|████▉     | 980/2000 [3:38:43<3:38:41, 12.86s/it]"
     ]
    },
    {
     "name": "stdout",
     "output_type": "stream",
     "text": [
      "Ep. 981, Timestep 1275157,  Ep.Timesteps 1600, Score: -62.23, Avg.Score: -53.86, Time: 03:38:48 \n"
     ]
    },
    {
     "name": "stderr",
     "output_type": "stream",
     "text": [
      " 49%|████▉     | 981/2000 [3:38:56<3:39:02, 12.90s/it]"
     ]
    },
    {
     "name": "stdout",
     "output_type": "stream",
     "text": [
      "Ep. 982, Timestep 1276757,  Ep.Timesteps 1600, Score: -59.61, Avg.Score: -53.65, Time: 03:39:01 \n"
     ]
    },
    {
     "name": "stderr",
     "output_type": "stream",
     "text": [
      " 49%|████▉     | 982/2000 [3:39:09<3:38:12, 12.86s/it]"
     ]
    },
    {
     "name": "stdout",
     "output_type": "stream",
     "text": [
      "Ep. 983, Timestep 1278357,  Ep.Timesteps 1600, Score: -65.72, Avg.Score: -53.70, Time: 03:39:13 \n"
     ]
    },
    {
     "name": "stderr",
     "output_type": "stream",
     "text": [
      " 49%|████▉     | 983/2000 [3:39:21<3:37:19, 12.82s/it]"
     ]
    },
    {
     "name": "stdout",
     "output_type": "stream",
     "text": [
      "Ep. 984, Timestep 1279957,  Ep.Timesteps 1600, Score: -84.59, Avg.Score: -54.01, Time: 03:39:26 \n"
     ]
    },
    {
     "name": "stderr",
     "output_type": "stream",
     "text": [
      " 49%|████▉     | 984/2000 [3:39:34<3:38:20, 12.89s/it]"
     ]
    },
    {
     "name": "stdout",
     "output_type": "stream",
     "text": [
      "Ep. 985, Timestep 1281557,  Ep.Timesteps 1600, Score: -66.08, Avg.Score: -54.01, Time: 03:39:39 \n"
     ]
    },
    {
     "name": "stderr",
     "output_type": "stream",
     "text": [
      " 49%|████▉     | 985/2000 [3:39:48<3:40:07, 13.01s/it]"
     ]
    },
    {
     "name": "stdout",
     "output_type": "stream",
     "text": [
      "Ep. 986, Timestep 1283157,  Ep.Timesteps 1600, Score: -52.55, Avg.Score: -53.99, Time: 03:39:52 \n"
     ]
    },
    {
     "name": "stderr",
     "output_type": "stream",
     "text": [
      " 49%|████▉     | 986/2000 [3:40:01<3:39:31, 12.99s/it]"
     ]
    },
    {
     "name": "stdout",
     "output_type": "stream",
     "text": [
      "Ep. 987, Timestep 1284757,  Ep.Timesteps 1600, Score: -48.87, Avg.Score: -53.84, Time: 03:40:05 \n"
     ]
    },
    {
     "name": "stderr",
     "output_type": "stream",
     "text": [
      " 49%|████▉     | 987/2000 [3:40:13<3:35:55, 12.79s/it]"
     ]
    },
    {
     "name": "stdout",
     "output_type": "stream",
     "text": [
      "Ep. 988, Timestep 1286357,  Ep.Timesteps 1600, Score: -39.75, Avg.Score: -53.68, Time: 03:40:18 \n"
     ]
    },
    {
     "name": "stderr",
     "output_type": "stream",
     "text": [
      " 49%|████▉     | 988/2000 [3:40:26<3:36:05, 12.81s/it]"
     ]
    },
    {
     "name": "stdout",
     "output_type": "stream",
     "text": [
      "Ep. 989, Timestep 1287957,  Ep.Timesteps 1600, Score: -53.89, Avg.Score: -53.67, Time: 03:40:31 \n"
     ]
    },
    {
     "name": "stderr",
     "output_type": "stream",
     "text": [
      " 49%|████▉     | 989/2000 [3:40:38<3:31:21, 12.54s/it]"
     ]
    },
    {
     "name": "stdout",
     "output_type": "stream",
     "text": [
      "Ep. 990, Timestep 1289557,  Ep.Timesteps 1600, Score: -39.63, Avg.Score: -53.48, Time: 03:40:43 \n"
     ]
    },
    {
     "name": "stderr",
     "output_type": "stream",
     "text": [
      " 50%|████▉     | 990/2000 [3:40:50<3:28:10, 12.37s/it]"
     ]
    },
    {
     "name": "stdout",
     "output_type": "stream",
     "text": [
      "Ep. 991, Timestep 1291157,  Ep.Timesteps 1600, Score: -73.83, Avg.Score: -53.74, Time: 03:40:54 \n"
     ]
    },
    {
     "name": "stderr",
     "output_type": "stream",
     "text": [
      " 50%|████▉     | 991/2000 [3:41:02<3:26:49, 12.30s/it]"
     ]
    },
    {
     "name": "stdout",
     "output_type": "stream",
     "text": [
      "Ep. 992, Timestep 1292757,  Ep.Timesteps 1600, Score: -38.89, Avg.Score: -53.71, Time: 03:41:07 \n"
     ]
    },
    {
     "name": "stderr",
     "output_type": "stream",
     "text": [
      " 50%|████▉     | 992/2000 [3:41:14<3:27:45, 12.37s/it]"
     ]
    },
    {
     "name": "stdout",
     "output_type": "stream",
     "text": [
      "Ep. 993, Timestep 1294357,  Ep.Timesteps 1600, Score: -68.44, Avg.Score: -53.86, Time: 03:41:19 \n"
     ]
    },
    {
     "name": "stderr",
     "output_type": "stream",
     "text": [
      " 50%|████▉     | 993/2000 [3:41:28<3:32:20, 12.65s/it]"
     ]
    },
    {
     "name": "stdout",
     "output_type": "stream",
     "text": [
      "Ep. 994, Timestep 1295957,  Ep.Timesteps 1600, Score: -59.80, Avg.Score: -54.12, Time: 03:41:32 \n"
     ]
    },
    {
     "name": "stderr",
     "output_type": "stream",
     "text": [
      " 50%|████▉     | 994/2000 [3:41:41<3:34:28, 12.79s/it]"
     ]
    },
    {
     "name": "stdout",
     "output_type": "stream",
     "text": [
      "Ep. 995, Timestep 1297557,  Ep.Timesteps 1600, Score: -70.48, Avg.Score: -54.44, Time: 03:41:46 \n"
     ]
    },
    {
     "name": "stderr",
     "output_type": "stream",
     "text": [
      " 50%|████▉     | 995/2000 [3:41:54<3:37:22, 12.98s/it]"
     ]
    },
    {
     "name": "stdout",
     "output_type": "stream",
     "text": [
      "Ep. 996, Timestep 1299157,  Ep.Timesteps 1600, Score: -49.93, Avg.Score: -54.66, Time: 03:41:59 \n"
     ]
    },
    {
     "name": "stderr",
     "output_type": "stream",
     "text": [
      " 50%|████▉     | 996/2000 [3:42:07<3:37:34, 13.00s/it]"
     ]
    },
    {
     "name": "stdout",
     "output_type": "stream",
     "text": [
      "Ep. 997, Timestep 1300757,  Ep.Timesteps 1600, Score: -63.34, Avg.Score: -55.05, Time: 03:42:12 \n"
     ]
    },
    {
     "name": "stderr",
     "output_type": "stream",
     "text": [
      " 50%|████▉     | 997/2000 [3:42:20<3:35:39, 12.90s/it]"
     ]
    },
    {
     "name": "stdout",
     "output_type": "stream",
     "text": [
      "Ep. 998, Timestep 1302357,  Ep.Timesteps 1600, Score: -52.93, Avg.Score: -55.27, Time: 03:42:25 \n"
     ]
    },
    {
     "name": "stderr",
     "output_type": "stream",
     "text": [
      " 50%|████▉     | 998/2000 [3:42:33<3:36:24, 12.96s/it]"
     ]
    },
    {
     "name": "stdout",
     "output_type": "stream",
     "text": [
      "Ep. 999, Timestep 1303957,  Ep.Timesteps 1600, Score: -60.93, Avg.Score: -55.43, Time: 03:42:38 \n"
     ]
    },
    {
     "name": "stderr",
     "output_type": "stream",
     "text": [
      " 50%|████▉     | 999/2000 [3:42:45<3:32:59, 12.77s/it]"
     ]
    },
    {
     "name": "stdout",
     "output_type": "stream",
     "text": [
      "Ep. 1000, Timestep 1305557,  Ep.Timesteps 1600, Score: -32.17, Avg.Score: -55.45, Time: 03:42:50 \n"
     ]
    },
    {
     "name": "stderr",
     "output_type": "stream",
     "text": [
      " 50%|█████     | 1000/2000 [3:42:59<3:35:35, 12.94s/it]"
     ]
    },
    {
     "name": "stdout",
     "output_type": "stream",
     "text": [
      "Ep. 1001, Timestep 1307157,  Ep.Timesteps 1600, Score: -36.21, Avg.Score: -55.42, Time: 03:43:04 \n"
     ]
    },
    {
     "name": "stderr",
     "output_type": "stream",
     "text": [
      " 50%|█████     | 1001/2000 [3:43:12<3:37:13, 13.05s/it]"
     ]
    },
    {
     "name": "stdout",
     "output_type": "stream",
     "text": [
      "Ep. 1002, Timestep 1308757,  Ep.Timesteps 1600, Score: -40.94, Avg.Score: -55.60, Time: 03:43:17 \n"
     ]
    },
    {
     "name": "stderr",
     "output_type": "stream",
     "text": [
      " 50%|█████     | 1002/2000 [3:43:25<3:37:48, 13.09s/it]"
     ]
    },
    {
     "name": "stdout",
     "output_type": "stream",
     "text": [
      "Ep. 1003, Timestep 1310357,  Ep.Timesteps 1600, Score: -39.77, Avg.Score: -55.61, Time: 03:43:30 \n"
     ]
    },
    {
     "name": "stderr",
     "output_type": "stream",
     "text": [
      " 50%|█████     | 1003/2000 [3:43:39<3:41:55, 13.36s/it]"
     ]
    },
    {
     "name": "stdout",
     "output_type": "stream",
     "text": [
      "Ep. 1004, Timestep 1311957,  Ep.Timesteps 1600, Score: -46.40, Avg.Score: -55.62, Time: 03:43:44 \n"
     ]
    },
    {
     "name": "stderr",
     "output_type": "stream",
     "text": [
      " 50%|█████     | 1004/2000 [3:43:52<3:39:32, 13.23s/it]"
     ]
    },
    {
     "name": "stdout",
     "output_type": "stream",
     "text": [
      "Ep. 1005, Timestep 1313557,  Ep.Timesteps 1600, Score: -40.44, Avg.Score: -55.34, Time: 03:43:57 \n"
     ]
    },
    {
     "name": "stderr",
     "output_type": "stream",
     "text": [
      " 50%|█████     | 1005/2000 [3:44:05<3:38:00, 13.15s/it]"
     ]
    },
    {
     "name": "stdout",
     "output_type": "stream",
     "text": [
      "Ep. 1006, Timestep 1315157,  Ep.Timesteps 1600, Score: -57.09, Avg.Score: -55.58, Time: 03:44:10 \n"
     ]
    },
    {
     "name": "stderr",
     "output_type": "stream",
     "text": [
      " 50%|█████     | 1006/2000 [3:44:18<3:37:44, 13.14s/it]"
     ]
    },
    {
     "name": "stdout",
     "output_type": "stream",
     "text": [
      "Ep. 1007, Timestep 1316757,  Ep.Timesteps 1600, Score: -42.86, Avg.Score: -55.54, Time: 03:44:23 \n"
     ]
    },
    {
     "name": "stderr",
     "output_type": "stream",
     "text": [
      " 50%|█████     | 1007/2000 [3:44:32<3:39:33, 13.27s/it]"
     ]
    },
    {
     "name": "stdout",
     "output_type": "stream",
     "text": [
      "Ep. 1008, Timestep 1318357,  Ep.Timesteps 1600, Score: -53.70, Avg.Score: -55.75, Time: 03:44:37 \n"
     ]
    },
    {
     "name": "stderr",
     "output_type": "stream",
     "text": [
      " 50%|█████     | 1008/2000 [3:44:45<3:37:40, 13.17s/it]"
     ]
    },
    {
     "name": "stdout",
     "output_type": "stream",
     "text": [
      "Ep. 1009, Timestep 1319957,  Ep.Timesteps 1600, Score: -81.97, Avg.Score: -56.22, Time: 03:44:50 \n"
     ]
    },
    {
     "name": "stderr",
     "output_type": "stream",
     "text": [
      " 50%|█████     | 1009/2000 [3:44:58<3:37:01, 13.14s/it]"
     ]
    },
    {
     "name": "stdout",
     "output_type": "stream",
     "text": [
      "Ep. 1010, Timestep 1321557,  Ep.Timesteps 1600, Score: -88.83, Avg.Score: -56.77, Time: 03:45:03 \n"
     ]
    },
    {
     "name": "stderr",
     "output_type": "stream",
     "text": [
      " 50%|█████     | 1010/2000 [3:45:10<3:34:18, 12.99s/it]"
     ]
    },
    {
     "name": "stdout",
     "output_type": "stream",
     "text": [
      "Ep. 1011, Timestep 1323157,  Ep.Timesteps 1600, Score: -93.84, Avg.Score: -57.40, Time: 03:45:15 \n"
     ]
    },
    {
     "name": "stderr",
     "output_type": "stream",
     "text": [
      " 51%|█████     | 1011/2000 [3:45:24<3:36:42, 13.15s/it]"
     ]
    },
    {
     "name": "stdout",
     "output_type": "stream",
     "text": [
      "Ep. 1012, Timestep 1324757,  Ep.Timesteps 1600, Score: -66.22, Avg.Score: -57.76, Time: 03:45:29 \n"
     ]
    },
    {
     "name": "stderr",
     "output_type": "stream",
     "text": [
      " 51%|█████     | 1012/2000 [3:45:36<3:32:34, 12.91s/it]"
     ]
    },
    {
     "name": "stdout",
     "output_type": "stream",
     "text": [
      "Ep. 1013, Timestep 1326357,  Ep.Timesteps 1600, Score: -43.35, Avg.Score: -57.68, Time: 03:45:41 \n"
     ]
    },
    {
     "name": "stderr",
     "output_type": "stream",
     "text": [
      " 51%|█████     | 1013/2000 [3:45:48<3:26:00, 12.52s/it]"
     ]
    },
    {
     "name": "stdout",
     "output_type": "stream",
     "text": [
      "Ep. 1014, Timestep 1327957,  Ep.Timesteps 1600, Score: -85.39, Avg.Score: -58.11, Time: 03:45:53 \n"
     ]
    },
    {
     "name": "stderr",
     "output_type": "stream",
     "text": [
      " 51%|█████     | 1014/2000 [3:46:01<3:27:26, 12.62s/it]"
     ]
    },
    {
     "name": "stdout",
     "output_type": "stream",
     "text": [
      "Ep. 1015, Timestep 1329557,  Ep.Timesteps 1600, Score: -61.83, Avg.Score: -57.90, Time: 03:46:05 \n"
     ]
    },
    {
     "name": "stderr",
     "output_type": "stream",
     "text": [
      " 51%|█████     | 1015/2000 [3:46:14<3:28:32, 12.70s/it]"
     ]
    },
    {
     "name": "stdout",
     "output_type": "stream",
     "text": [
      "Ep. 1016, Timestep 1331157,  Ep.Timesteps 1600, Score: -86.01, Avg.Score: -58.24, Time: 03:46:18 \n"
     ]
    },
    {
     "name": "stderr",
     "output_type": "stream",
     "text": [
      " 51%|█████     | 1016/2000 [3:46:26<3:28:40, 12.72s/it]"
     ]
    },
    {
     "name": "stdout",
     "output_type": "stream",
     "text": [
      "Ep. 1017, Timestep 1332757,  Ep.Timesteps 1600, Score: -68.60, Avg.Score: -58.37, Time: 03:46:31 \n"
     ]
    },
    {
     "name": "stderr",
     "output_type": "stream",
     "text": [
      " 51%|█████     | 1017/2000 [3:46:39<3:30:37, 12.86s/it]"
     ]
    },
    {
     "name": "stdout",
     "output_type": "stream",
     "text": [
      "Ep. 1018, Timestep 1334357,  Ep.Timesteps 1600, Score: -69.16, Avg.Score: -58.36, Time: 03:46:44 \n"
     ]
    },
    {
     "name": "stderr",
     "output_type": "stream",
     "text": [
      " 51%|█████     | 1018/2000 [3:46:53<3:33:08, 13.02s/it]"
     ]
    },
    {
     "name": "stdout",
     "output_type": "stream",
     "text": [
      "Ep. 1019, Timestep 1335957,  Ep.Timesteps 1600, Score: -89.31, Avg.Score: -58.50, Time: 03:46:58 \n"
     ]
    },
    {
     "name": "stderr",
     "output_type": "stream",
     "text": [
      " 51%|█████     | 1019/2000 [3:47:07<3:37:08, 13.28s/it]"
     ]
    },
    {
     "name": "stdout",
     "output_type": "stream",
     "text": [
      "Ep. 1020, Timestep 1337557,  Ep.Timesteps 1600, Score: -87.42, Avg.Score: -58.80, Time: 03:47:13 \n"
     ]
    },
    {
     "name": "stderr",
     "output_type": "stream",
     "text": [
      " 51%|█████     | 1020/2000 [3:47:22<3:45:51, 13.83s/it]"
     ]
    },
    {
     "name": "stdout",
     "output_type": "stream",
     "text": [
      "Ep. 1021, Timestep 1339157,  Ep.Timesteps 1600, Score: -75.16, Avg.Score: -58.77, Time: 03:47:28 \n"
     ]
    },
    {
     "name": "stderr",
     "output_type": "stream",
     "text": [
      " 51%|█████     | 1021/2000 [3:47:37<3:50:17, 14.11s/it]"
     ]
    },
    {
     "name": "stdout",
     "output_type": "stream",
     "text": [
      "Ep. 1022, Timestep 1340757,  Ep.Timesteps 1600, Score: -71.72, Avg.Score: -59.17, Time: 03:47:43 \n"
     ]
    },
    {
     "name": "stderr",
     "output_type": "stream",
     "text": [
      " 51%|█████     | 1022/2000 [3:47:52<3:54:24, 14.38s/it]"
     ]
    },
    {
     "name": "stdout",
     "output_type": "stream",
     "text": [
      "Ep. 1023, Timestep 1342357,  Ep.Timesteps 1600, Score: -87.30, Avg.Score: -59.37, Time: 03:47:58 \n"
     ]
    },
    {
     "name": "stderr",
     "output_type": "stream",
     "text": [
      " 51%|█████     | 1023/2000 [3:48:07<3:58:50, 14.67s/it]"
     ]
    },
    {
     "name": "stdout",
     "output_type": "stream",
     "text": [
      "Ep. 1024, Timestep 1343957,  Ep.Timesteps 1600, Score: -44.63, Avg.Score: -59.36, Time: 03:48:13 \n"
     ]
    },
    {
     "name": "stderr",
     "output_type": "stream",
     "text": [
      " 51%|█████     | 1024/2000 [3:48:22<4:02:48, 14.93s/it]"
     ]
    },
    {
     "name": "stdout",
     "output_type": "stream",
     "text": [
      "Ep. 1025, Timestep 1345557,  Ep.Timesteps 1600, Score: -42.40, Avg.Score: -59.49, Time: 03:48:29 \n"
     ]
    },
    {
     "name": "stderr",
     "output_type": "stream",
     "text": [
      " 51%|█████▏    | 1025/2000 [3:48:38<4:03:43, 15.00s/it]"
     ]
    },
    {
     "name": "stdout",
     "output_type": "stream",
     "text": [
      "Ep. 1026, Timestep 1347157,  Ep.Timesteps 1600, Score: -41.66, Avg.Score: -59.35, Time: 03:48:44 \n"
     ]
    },
    {
     "name": "stderr",
     "output_type": "stream",
     "text": [
      " 51%|█████▏    | 1026/2000 [3:48:53<4:03:33, 15.00s/it]"
     ]
    },
    {
     "name": "stdout",
     "output_type": "stream",
     "text": [
      "Ep. 1027, Timestep 1348757,  Ep.Timesteps 1600, Score: -93.40, Avg.Score: -59.82, Time: 03:48:59 \n"
     ]
    },
    {
     "name": "stderr",
     "output_type": "stream",
     "text": [
      " 51%|█████▏    | 1027/2000 [3:49:08<4:02:29, 14.95s/it]"
     ]
    },
    {
     "name": "stdout",
     "output_type": "stream",
     "text": [
      "Ep. 1028, Timestep 1350357,  Ep.Timesteps 1600, Score: -61.24, Avg.Score: -59.87, Time: 03:49:14 \n"
     ]
    },
    {
     "name": "stderr",
     "output_type": "stream",
     "text": [
      " 51%|█████▏    | 1028/2000 [3:49:22<4:01:55, 14.93s/it]"
     ]
    },
    {
     "name": "stdout",
     "output_type": "stream",
     "text": [
      "Ep. 1029, Timestep 1351957,  Ep.Timesteps 1600, Score: -68.57, Avg.Score: -59.86, Time: 03:49:29 \n"
     ]
    },
    {
     "name": "stderr",
     "output_type": "stream",
     "text": [
      " 51%|█████▏    | 1029/2000 [3:49:38<4:03:18, 15.03s/it]"
     ]
    },
    {
     "name": "stdout",
     "output_type": "stream",
     "text": [
      "Ep. 1030, Timestep 1353557,  Ep.Timesteps 1600, Score: -26.04, Avg.Score: -59.31, Time: 03:49:44 \n"
     ]
    },
    {
     "name": "stderr",
     "output_type": "stream",
     "text": [
      " 52%|█████▏    | 1030/2000 [3:49:53<4:04:26, 15.12s/it]"
     ]
    },
    {
     "name": "stdout",
     "output_type": "stream",
     "text": [
      "Ep. 1031, Timestep 1355157,  Ep.Timesteps 1600, Score: -69.84, Avg.Score: -59.37, Time: 03:49:59 \n"
     ]
    },
    {
     "name": "stderr",
     "output_type": "stream",
     "text": [
      " 52%|█████▏    | 1031/2000 [3:50:09<4:06:05, 15.24s/it]"
     ]
    },
    {
     "name": "stdout",
     "output_type": "stream",
     "text": [
      "Ep. 1032, Timestep 1356757,  Ep.Timesteps 1600, Score: -84.46, Avg.Score: -59.57, Time: 03:50:15 \n"
     ]
    },
    {
     "name": "stderr",
     "output_type": "stream",
     "text": [
      " 52%|█████▏    | 1032/2000 [3:50:24<4:06:43, 15.29s/it]"
     ]
    },
    {
     "name": "stdout",
     "output_type": "stream",
     "text": [
      "Ep. 1033, Timestep 1358357,  Ep.Timesteps 1600, Score: -85.75, Avg.Score: -59.68, Time: 03:50:30 \n"
     ]
    },
    {
     "name": "stderr",
     "output_type": "stream",
     "text": [
      " 52%|█████▏    | 1033/2000 [3:50:39<4:06:41, 15.31s/it]"
     ]
    },
    {
     "name": "stdout",
     "output_type": "stream",
     "text": [
      "Ep. 1034, Timestep 1359957,  Ep.Timesteps 1600, Score: -81.21, Avg.Score: -60.01, Time: 03:50:45 \n"
     ]
    },
    {
     "name": "stderr",
     "output_type": "stream",
     "text": [
      " 52%|█████▏    | 1034/2000 [3:50:54<4:05:36, 15.26s/it]"
     ]
    },
    {
     "name": "stdout",
     "output_type": "stream",
     "text": [
      "Ep. 1035, Timestep 1361557,  Ep.Timesteps 1600, Score: -81.96, Avg.Score: -60.08, Time: 03:51:01 \n"
     ]
    },
    {
     "name": "stderr",
     "output_type": "stream",
     "text": [
      " 52%|█████▏    | 1035/2000 [3:51:09<4:03:57, 15.17s/it]"
     ]
    },
    {
     "name": "stdout",
     "output_type": "stream",
     "text": [
      "Ep. 1036, Timestep 1363157,  Ep.Timesteps 1600, Score: -44.79, Avg.Score: -60.14, Time: 03:51:15 \n"
     ]
    },
    {
     "name": "stderr",
     "output_type": "stream",
     "text": [
      " 52%|█████▏    | 1036/2000 [3:51:25<4:07:05, 15.38s/it]"
     ]
    },
    {
     "name": "stdout",
     "output_type": "stream",
     "text": [
      "Ep. 1037, Timestep 1364757,  Ep.Timesteps 1600, Score: -50.57, Avg.Score: -60.04, Time: 03:51:32 \n"
     ]
    },
    {
     "name": "stderr",
     "output_type": "stream",
     "text": [
      " 52%|█████▏    | 1037/2000 [3:51:41<4:09:52, 15.57s/it]"
     ]
    },
    {
     "name": "stdout",
     "output_type": "stream",
     "text": [
      "Ep. 1038, Timestep 1366357,  Ep.Timesteps 1600, Score: -46.75, Avg.Score: -59.97, Time: 03:51:47 \n"
     ]
    },
    {
     "name": "stderr",
     "output_type": "stream",
     "text": [
      " 52%|█████▏    | 1038/2000 [3:51:57<4:10:26, 15.62s/it]"
     ]
    },
    {
     "name": "stdout",
     "output_type": "stream",
     "text": [
      "Ep. 1039, Timestep 1367957,  Ep.Timesteps 1600, Score: -61.72, Avg.Score: -60.20, Time: 03:52:03 \n"
     ]
    },
    {
     "name": "stderr",
     "output_type": "stream",
     "text": [
      " 52%|█████▏    | 1039/2000 [3:52:13<4:09:50, 15.60s/it]"
     ]
    },
    {
     "name": "stdout",
     "output_type": "stream",
     "text": [
      "Ep. 1040, Timestep 1369557,  Ep.Timesteps 1600, Score: -81.81, Avg.Score: -60.24, Time: 03:52:19 \n"
     ]
    },
    {
     "name": "stderr",
     "output_type": "stream",
     "text": [
      " 52%|█████▏    | 1040/2000 [3:52:28<4:09:16, 15.58s/it]"
     ]
    },
    {
     "name": "stdout",
     "output_type": "stream",
     "text": [
      "Ep. 1041, Timestep 1371157,  Ep.Timesteps 1600, Score: -65.17, Avg.Score: -60.45, Time: 03:52:34 \n"
     ]
    },
    {
     "name": "stderr",
     "output_type": "stream",
     "text": [
      " 52%|█████▏    | 1041/2000 [3:52:43<4:07:44, 15.50s/it]"
     ]
    },
    {
     "name": "stdout",
     "output_type": "stream",
     "text": [
      "Ep. 1042, Timestep 1372757,  Ep.Timesteps 1600, Score: -62.52, Avg.Score: -60.36, Time: 03:52:50 \n"
     ]
    },
    {
     "name": "stderr",
     "output_type": "stream",
     "text": [
      " 52%|█████▏    | 1042/2000 [3:52:59<4:10:06, 15.66s/it]"
     ]
    },
    {
     "name": "stdout",
     "output_type": "stream",
     "text": [
      "Ep. 1043, Timestep 1374357,  Ep.Timesteps 1600, Score: -51.91, Avg.Score: -60.30, Time: 03:53:06 \n"
     ]
    },
    {
     "name": "stderr",
     "output_type": "stream",
     "text": [
      " 52%|█████▏    | 1043/2000 [3:53:16<4:13:35, 15.90s/it]"
     ]
    },
    {
     "name": "stdout",
     "output_type": "stream",
     "text": [
      "Ep. 1044, Timestep 1375957,  Ep.Timesteps 1600, Score: -60.00, Avg.Score: -60.45, Time: 03:53:22 \n"
     ]
    },
    {
     "name": "stderr",
     "output_type": "stream",
     "text": [
      " 52%|█████▏    | 1044/2000 [3:53:32<4:15:12, 16.02s/it]"
     ]
    },
    {
     "name": "stdout",
     "output_type": "stream",
     "text": [
      "Ep. 1045, Timestep 1377557,  Ep.Timesteps 1600, Score: -42.29, Avg.Score: -60.44, Time: 03:53:38 \n"
     ]
    },
    {
     "name": "stderr",
     "output_type": "stream",
     "text": [
      " 52%|█████▏    | 1045/2000 [3:53:47<4:10:35, 15.74s/it]"
     ]
    },
    {
     "name": "stdout",
     "output_type": "stream",
     "text": [
      "Ep. 1046, Timestep 1379157,  Ep.Timesteps 1600, Score: -60.67, Avg.Score: -60.52, Time: 03:53:53 \n"
     ]
    },
    {
     "name": "stderr",
     "output_type": "stream",
     "text": [
      " 52%|█████▏    | 1046/2000 [3:54:03<4:09:10, 15.67s/it]"
     ]
    },
    {
     "name": "stdout",
     "output_type": "stream",
     "text": [
      "Ep. 1047, Timestep 1380757,  Ep.Timesteps 1600, Score: -48.42, Avg.Score: -60.57, Time: 03:54:09 \n"
     ]
    },
    {
     "name": "stderr",
     "output_type": "stream",
     "text": [
      " 52%|█████▏    | 1047/2000 [3:54:19<4:10:18, 15.76s/it]"
     ]
    },
    {
     "name": "stdout",
     "output_type": "stream",
     "text": [
      "Ep. 1048, Timestep 1382357,  Ep.Timesteps 1600, Score: -113.63, Avg.Score: -61.34, Time: 03:54:25 \n"
     ]
    },
    {
     "name": "stderr",
     "output_type": "stream",
     "text": [
      " 52%|█████▏    | 1048/2000 [3:54:35<4:11:12, 15.83s/it]"
     ]
    },
    {
     "name": "stdout",
     "output_type": "stream",
     "text": [
      "Ep. 1049, Timestep 1383957,  Ep.Timesteps 1600, Score: -45.08, Avg.Score: -61.54, Time: 03:54:41 \n"
     ]
    },
    {
     "name": "stderr",
     "output_type": "stream",
     "text": [
      " 52%|█████▏    | 1049/2000 [3:54:51<4:12:26, 15.93s/it]"
     ]
    },
    {
     "name": "stdout",
     "output_type": "stream",
     "text": [
      "Ep. 1050, Timestep 1385557,  Ep.Timesteps 1600, Score: -48.98, Avg.Score: -61.72, Time: 03:54:57 \n"
     ]
    },
    {
     "name": "stderr",
     "output_type": "stream",
     "text": [
      " 52%|█████▎    | 1050/2000 [3:55:07<4:13:23, 16.00s/it]"
     ]
    },
    {
     "name": "stdout",
     "output_type": "stream",
     "text": [
      "Ep. 1051, Timestep 1387157,  Ep.Timesteps 1600, Score: -50.43, Avg.Score: -61.37, Time: 03:55:13 \n"
     ]
    },
    {
     "name": "stderr",
     "output_type": "stream",
     "text": [
      " 53%|█████▎    | 1051/2000 [3:55:23<4:12:24, 15.96s/it]"
     ]
    },
    {
     "name": "stdout",
     "output_type": "stream",
     "text": [
      "Ep. 1052, Timestep 1388757,  Ep.Timesteps 1600, Score: -73.02, Avg.Score: -61.52, Time: 03:55:29 \n"
     ]
    },
    {
     "name": "stderr",
     "output_type": "stream",
     "text": [
      " 53%|█████▎    | 1052/2000 [3:55:39<4:11:58, 15.95s/it]"
     ]
    },
    {
     "name": "stdout",
     "output_type": "stream",
     "text": [
      "Ep. 1053, Timestep 1390357,  Ep.Timesteps 1600, Score: -54.17, Avg.Score: -61.17, Time: 03:55:44 \n"
     ]
    },
    {
     "name": "stderr",
     "output_type": "stream",
     "text": [
      " 53%|█████▎    | 1053/2000 [3:55:54<4:06:24, 15.61s/it]"
     ]
    },
    {
     "name": "stdout",
     "output_type": "stream",
     "text": [
      "Ep. 1054, Timestep 1391957,  Ep.Timesteps 1600, Score: -76.55, Avg.Score: -61.07, Time: 03:56:00 \n"
     ]
    },
    {
     "name": "stderr",
     "output_type": "stream",
     "text": [
      " 53%|█████▎    | 1054/2000 [3:56:09<4:03:45, 15.46s/it]"
     ]
    },
    {
     "name": "stdout",
     "output_type": "stream",
     "text": [
      "Ep. 1055, Timestep 1393557,  Ep.Timesteps 1600, Score: -54.64, Avg.Score: -60.92, Time: 03:56:15 \n"
     ]
    },
    {
     "name": "stderr",
     "output_type": "stream",
     "text": [
      " 53%|█████▎    | 1055/2000 [3:56:24<4:00:26, 15.27s/it]"
     ]
    },
    {
     "name": "stdout",
     "output_type": "stream",
     "text": [
      "Ep. 1056, Timestep 1395157,  Ep.Timesteps 1600, Score: -64.95, Avg.Score: -61.00, Time: 03:56:30 \n"
     ]
    },
    {
     "name": "stderr",
     "output_type": "stream",
     "text": [
      " 53%|█████▎    | 1056/2000 [3:56:39<3:58:52, 15.18s/it]"
     ]
    },
    {
     "name": "stdout",
     "output_type": "stream",
     "text": [
      "Ep. 1057, Timestep 1396757,  Ep.Timesteps 1600, Score: -62.44, Avg.Score: -61.15, Time: 03:56:45 \n"
     ]
    },
    {
     "name": "stderr",
     "output_type": "stream",
     "text": [
      " 53%|█████▎    | 1057/2000 [3:56:54<3:58:30, 15.18s/it]"
     ]
    },
    {
     "name": "stdout",
     "output_type": "stream",
     "text": [
      "Ep. 1058, Timestep 1398357,  Ep.Timesteps 1600, Score: -66.58, Avg.Score: -61.04, Time: 03:57:00 \n"
     ]
    },
    {
     "name": "stderr",
     "output_type": "stream",
     "text": [
      " 53%|█████▎    | 1058/2000 [3:57:09<4:00:12, 15.30s/it]"
     ]
    },
    {
     "name": "stdout",
     "output_type": "stream",
     "text": [
      "Ep. 1059, Timestep 1399957,  Ep.Timesteps 1600, Score: -81.36, Avg.Score: -61.40, Time: 03:57:16 \n"
     ]
    },
    {
     "name": "stderr",
     "output_type": "stream",
     "text": [
      " 53%|█████▎    | 1059/2000 [3:57:25<4:01:50, 15.42s/it]"
     ]
    },
    {
     "name": "stdout",
     "output_type": "stream",
     "text": [
      "Ep. 1060, Timestep 1401557,  Ep.Timesteps 1600, Score: -47.52, Avg.Score: -61.30, Time: 03:57:31 \n"
     ]
    },
    {
     "name": "stderr",
     "output_type": "stream",
     "text": [
      " 53%|█████▎    | 1060/2000 [3:57:40<4:01:37, 15.42s/it]"
     ]
    },
    {
     "name": "stdout",
     "output_type": "stream",
     "text": [
      "Ep. 1061, Timestep 1403157,  Ep.Timesteps 1600, Score: -65.75, Avg.Score: -61.70, Time: 03:57:46 \n"
     ]
    },
    {
     "name": "stderr",
     "output_type": "stream",
     "text": [
      " 53%|█████▎    | 1061/2000 [3:57:55<3:58:22, 15.23s/it]"
     ]
    },
    {
     "name": "stdout",
     "output_type": "stream",
     "text": [
      "Ep. 1062, Timestep 1404757,  Ep.Timesteps 1600, Score: -61.77, Avg.Score: -62.01, Time: 03:58:01 \n"
     ]
    },
    {
     "name": "stderr",
     "output_type": "stream",
     "text": [
      " 53%|█████▎    | 1062/2000 [3:58:10<3:56:50, 15.15s/it]"
     ]
    },
    {
     "name": "stdout",
     "output_type": "stream",
     "text": [
      "Ep. 1063, Timestep 1406357,  Ep.Timesteps 1600, Score: -106.13, Avg.Score: -62.59, Time: 03:58:17 \n"
     ]
    },
    {
     "name": "stderr",
     "output_type": "stream",
     "text": [
      " 53%|█████▎    | 1063/2000 [3:58:26<3:58:13, 15.25s/it]"
     ]
    },
    {
     "name": "stdout",
     "output_type": "stream",
     "text": [
      "Ep. 1064, Timestep 1407957,  Ep.Timesteps 1600, Score: -53.86, Avg.Score: -62.75, Time: 03:58:32 \n"
     ]
    },
    {
     "name": "stderr",
     "output_type": "stream",
     "text": [
      " 53%|█████▎    | 1064/2000 [3:58:39<3:48:47, 14.67s/it]"
     ]
    },
    {
     "name": "stdout",
     "output_type": "stream",
     "text": [
      "Ep. 1065, Timestep 1409557,  Ep.Timesteps 1600, Score: -46.65, Avg.Score: -62.74, Time: 03:58:45 \n"
     ]
    },
    {
     "name": "stderr",
     "output_type": "stream",
     "text": [
      " 53%|█████▎    | 1065/2000 [3:58:52<3:39:41, 14.10s/it]"
     ]
    },
    {
     "name": "stdout",
     "output_type": "stream",
     "text": [
      "Ep. 1066, Timestep 1411157,  Ep.Timesteps 1600, Score: -39.20, Avg.Score: -62.63, Time: 03:58:58 \n"
     ]
    },
    {
     "name": "stderr",
     "output_type": "stream",
     "text": [
      " 53%|█████▎    | 1066/2000 [3:59:04<3:31:13, 13.57s/it]"
     ]
    },
    {
     "name": "stdout",
     "output_type": "stream",
     "text": [
      "Ep. 1067, Timestep 1412757,  Ep.Timesteps 1600, Score: -36.89, Avg.Score: -62.68, Time: 03:59:10 \n"
     ]
    },
    {
     "name": "stderr",
     "output_type": "stream",
     "text": [
      " 53%|█████▎    | 1067/2000 [3:59:16<3:25:10, 13.19s/it]"
     ]
    },
    {
     "name": "stdout",
     "output_type": "stream",
     "text": [
      "Ep. 1068, Timestep 1414357,  Ep.Timesteps 1600, Score: -33.17, Avg.Score: -62.68, Time: 03:59:21 \n"
     ]
    },
    {
     "name": "stderr",
     "output_type": "stream",
     "text": [
      " 53%|█████▎    | 1068/2000 [3:59:27<3:10:25, 12.26s/it]"
     ]
    },
    {
     "name": "stdout",
     "output_type": "stream",
     "text": [
      "Ep. 1069, Timestep 1415957,  Ep.Timesteps 1600, Score: -82.92, Avg.Score: -63.07, Time: 03:59:31 \n"
     ]
    },
    {
     "name": "stderr",
     "output_type": "stream",
     "text": [
      " 53%|█████▎    | 1069/2000 [3:59:36<2:58:52, 11.53s/it]"
     ]
    },
    {
     "name": "stdout",
     "output_type": "stream",
     "text": [
      "Ep. 1070, Timestep 1417557,  Ep.Timesteps 1600, Score: -51.64, Avg.Score: -63.10, Time: 03:59:41 \n"
     ]
    },
    {
     "name": "stderr",
     "output_type": "stream",
     "text": [
      " 54%|█████▎    | 1070/2000 [3:59:46<2:50:43, 11.02s/it]"
     ]
    },
    {
     "name": "stdout",
     "output_type": "stream",
     "text": [
      "Ep. 1071, Timestep 1419157,  Ep.Timesteps 1600, Score: -42.81, Avg.Score: -62.32, Time: 03:59:51 \n"
     ]
    },
    {
     "name": "stderr",
     "output_type": "stream",
     "text": [
      " 54%|█████▎    | 1071/2000 [3:59:56<2:44:51, 10.65s/it]"
     ]
    },
    {
     "name": "stdout",
     "output_type": "stream",
     "text": [
      "Ep. 1072, Timestep 1420757,  Ep.Timesteps 1600, Score: -69.77, Avg.Score: -62.41, Time: 04:00:00 \n"
     ]
    },
    {
     "name": "stderr",
     "output_type": "stream",
     "text": [
      " 54%|█████▎    | 1072/2000 [4:00:08<2:52:37, 11.16s/it]"
     ]
    },
    {
     "name": "stdout",
     "output_type": "stream",
     "text": [
      "Ep. 1073, Timestep 1422357,  Ep.Timesteps 1600, Score: -96.15, Avg.Score: -62.58, Time: 04:00:13 \n"
     ]
    },
    {
     "name": "stderr",
     "output_type": "stream",
     "text": [
      " 54%|█████▎    | 1073/2000 [4:00:18<2:46:47, 10.80s/it]"
     ]
    },
    {
     "name": "stdout",
     "output_type": "stream",
     "text": [
      "Ep. 1074, Timestep 1423957,  Ep.Timesteps 1600, Score: -105.22, Avg.Score: -62.89, Time: 04:00:23 \n"
     ]
    },
    {
     "name": "stderr",
     "output_type": "stream",
     "text": [
      " 54%|█████▎    | 1074/2000 [4:00:28<2:42:33, 10.53s/it]"
     ]
    },
    {
     "name": "stdout",
     "output_type": "stream",
     "text": [
      "Ep. 1075, Timestep 1425557,  Ep.Timesteps 1600, Score: -96.14, Avg.Score: -62.78, Time: 04:00:33 \n"
     ]
    },
    {
     "name": "stderr",
     "output_type": "stream",
     "text": [
      " 54%|█████▍    | 1075/2000 [4:00:38<2:38:15, 10.27s/it]"
     ]
    },
    {
     "name": "stdout",
     "output_type": "stream",
     "text": [
      "Ep. 1076, Timestep 1427157,  Ep.Timesteps 1600, Score: -60.93, Avg.Score: -62.79, Time: 04:00:42 \n"
     ]
    },
    {
     "name": "stderr",
     "output_type": "stream",
     "text": [
      " 54%|█████▍    | 1076/2000 [4:00:48<2:35:34, 10.10s/it]"
     ]
    },
    {
     "name": "stdout",
     "output_type": "stream",
     "text": [
      "Ep. 1077, Timestep 1428757,  Ep.Timesteps 1600, Score: -53.79, Avg.Score: -62.58, Time: 04:00:52 \n"
     ]
    },
    {
     "name": "stderr",
     "output_type": "stream",
     "text": [
      " 54%|█████▍    | 1077/2000 [4:00:57<2:33:06,  9.95s/it]"
     ]
    },
    {
     "name": "stdout",
     "output_type": "stream",
     "text": [
      "Ep. 1078, Timestep 1430357,  Ep.Timesteps 1600, Score: -57.47, Avg.Score: -62.52, Time: 04:01:02 \n"
     ]
    },
    {
     "name": "stderr",
     "output_type": "stream",
     "text": [
      " 54%|█████▍    | 1078/2000 [4:01:09<2:40:41, 10.46s/it]"
     ]
    },
    {
     "name": "stdout",
     "output_type": "stream",
     "text": [
      "Ep. 1079, Timestep 1431957,  Ep.Timesteps 1600, Score: -56.83, Avg.Score: -62.37, Time: 04:01:13 \n"
     ]
    },
    {
     "name": "stderr",
     "output_type": "stream",
     "text": [
      " 54%|█████▍    | 1079/2000 [4:01:19<2:39:15, 10.37s/it]"
     ]
    },
    {
     "name": "stdout",
     "output_type": "stream",
     "text": [
      "Ep. 1080, Timestep 1433557,  Ep.Timesteps 1600, Score: -41.03, Avg.Score: -62.12, Time: 04:01:23 \n"
     ]
    },
    {
     "name": "stderr",
     "output_type": "stream",
     "text": [
      " 54%|█████▍    | 1080/2000 [4:01:29<2:36:31, 10.21s/it]"
     ]
    },
    {
     "name": "stdout",
     "output_type": "stream",
     "text": [
      "Ep. 1081, Timestep 1435157,  Ep.Timesteps 1600, Score: -79.01, Avg.Score: -62.29, Time: 04:01:33 \n"
     ]
    },
    {
     "name": "stderr",
     "output_type": "stream",
     "text": [
      " 54%|█████▍    | 1081/2000 [4:01:39<2:35:08, 10.13s/it]"
     ]
    },
    {
     "name": "stdout",
     "output_type": "stream",
     "text": [
      "Ep. 1082, Timestep 1436757,  Ep.Timesteps 1600, Score: -74.91, Avg.Score: -62.45, Time: 04:01:44 \n"
     ]
    },
    {
     "name": "stderr",
     "output_type": "stream",
     "text": [
      " 54%|█████▍    | 1082/2000 [4:01:49<2:34:09, 10.08s/it]"
     ]
    },
    {
     "name": "stdout",
     "output_type": "stream",
     "text": [
      "Ep. 1083, Timestep 1438357,  Ep.Timesteps 1600, Score: -74.75, Avg.Score: -62.54, Time: 04:01:53 \n"
     ]
    },
    {
     "name": "stderr",
     "output_type": "stream",
     "text": [
      " 54%|█████▍    | 1083/2000 [4:01:58<2:31:53,  9.94s/it]"
     ]
    },
    {
     "name": "stdout",
     "output_type": "stream",
     "text": [
      "Ep. 1084, Timestep 1439957,  Ep.Timesteps 1600, Score: -94.74, Avg.Score: -62.64, Time: 04:02:03 \n"
     ]
    },
    {
     "name": "stderr",
     "output_type": "stream",
     "text": [
      " 54%|█████▍    | 1084/2000 [4:02:12<2:51:03, 11.20s/it]"
     ]
    },
    {
     "name": "stdout",
     "output_type": "stream",
     "text": [
      "Ep. 1085, Timestep 1441557,  Ep.Timesteps 1600, Score: -99.81, Avg.Score: -62.97, Time: 04:02:17 \n"
     ]
    },
    {
     "name": "stderr",
     "output_type": "stream",
     "text": [
      " 54%|█████▍    | 1085/2000 [4:02:22<2:44:12, 10.77s/it]"
     ]
    },
    {
     "name": "stdout",
     "output_type": "stream",
     "text": [
      "Ep. 1086, Timestep 1443157,  Ep.Timesteps 1600, Score: -87.96, Avg.Score: -63.33, Time: 04:02:27 \n"
     ]
    },
    {
     "name": "stderr",
     "output_type": "stream",
     "text": [
      " 54%|█████▍    | 1086/2000 [4:02:32<2:40:07, 10.51s/it]"
     ]
    },
    {
     "name": "stdout",
     "output_type": "stream",
     "text": [
      "Ep. 1087, Timestep 1444757,  Ep.Timesteps 1600, Score: -67.78, Avg.Score: -63.52, Time: 04:02:37 \n"
     ]
    },
    {
     "name": "stderr",
     "output_type": "stream",
     "text": [
      " 54%|█████▍    | 1087/2000 [4:02:42<2:37:06, 10.33s/it]"
     ]
    },
    {
     "name": "stdout",
     "output_type": "stream",
     "text": [
      "Ep. 1088, Timestep 1446357,  Ep.Timesteps 1600, Score: -43.58, Avg.Score: -63.56, Time: 04:02:47 \n"
     ]
    },
    {
     "name": "stderr",
     "output_type": "stream",
     "text": [
      " 54%|█████▍    | 1088/2000 [4:02:52<2:37:19, 10.35s/it]"
     ]
    },
    {
     "name": "stdout",
     "output_type": "stream",
     "text": [
      "Ep. 1089, Timestep 1447957,  Ep.Timesteps 1600, Score: -84.19, Avg.Score: -63.86, Time: 04:02:57 \n"
     ]
    },
    {
     "name": "stderr",
     "output_type": "stream",
     "text": [
      " 54%|█████▍    | 1089/2000 [4:03:03<2:36:51, 10.33s/it]"
     ]
    },
    {
     "name": "stdout",
     "output_type": "stream",
     "text": [
      "Ep. 1090, Timestep 1449557,  Ep.Timesteps 1600, Score: -60.09, Avg.Score: -64.06, Time: 04:03:07 \n"
     ]
    },
    {
     "name": "stderr",
     "output_type": "stream",
     "text": [
      " 55%|█████▍    | 1090/2000 [4:03:14<2:42:03, 10.69s/it]"
     ]
    },
    {
     "name": "stdout",
     "output_type": "stream",
     "text": [
      "Ep. 1091, Timestep 1451157,  Ep.Timesteps 1600, Score: -39.72, Avg.Score: -63.72, Time: 04:03:20 \n"
     ]
    },
    {
     "name": "stderr",
     "output_type": "stream",
     "text": [
      " 55%|█████▍    | 1091/2000 [4:03:27<2:49:34, 11.19s/it]"
     ]
    },
    {
     "name": "stdout",
     "output_type": "stream",
     "text": [
      "Ep. 1092, Timestep 1452757,  Ep.Timesteps 1600, Score: -41.22, Avg.Score: -63.75, Time: 04:03:32 \n"
     ]
    },
    {
     "name": "stderr",
     "output_type": "stream",
     "text": [
      " 55%|█████▍    | 1092/2000 [4:03:39<2:54:20, 11.52s/it]"
     ]
    },
    {
     "name": "stdout",
     "output_type": "stream",
     "text": [
      "Ep. 1093, Timestep 1454357,  Ep.Timesteps 1600, Score: -55.47, Avg.Score: -63.62, Time: 04:03:45 \n"
     ]
    },
    {
     "name": "stderr",
     "output_type": "stream",
     "text": [
      " 55%|█████▍    | 1093/2000 [4:03:51<2:58:51, 11.83s/it]"
     ]
    },
    {
     "name": "stdout",
     "output_type": "stream",
     "text": [
      "Ep. 1094, Timestep 1455957,  Ep.Timesteps 1600, Score: -40.97, Avg.Score: -63.43, Time: 04:03:57 \n"
     ]
    },
    {
     "name": "stderr",
     "output_type": "stream",
     "text": [
      " 55%|█████▍    | 1094/2000 [4:04:04<3:01:52, 12.04s/it]"
     ]
    },
    {
     "name": "stdout",
     "output_type": "stream",
     "text": [
      "Ep. 1095, Timestep 1457557,  Ep.Timesteps 1600, Score: -56.22, Avg.Score: -63.28, Time: 04:04:10 \n"
     ]
    },
    {
     "name": "stderr",
     "output_type": "stream",
     "text": [
      " 55%|█████▍    | 1095/2000 [4:04:17<3:04:47, 12.25s/it]"
     ]
    },
    {
     "name": "stdout",
     "output_type": "stream",
     "text": [
      "Ep. 1096, Timestep 1459157,  Ep.Timesteps 1600, Score: -53.01, Avg.Score: -63.32, Time: 04:04:23 \n"
     ]
    },
    {
     "name": "stderr",
     "output_type": "stream",
     "text": [
      " 55%|█████▍    | 1096/2000 [4:04:29<3:04:28, 12.24s/it]"
     ]
    },
    {
     "name": "stdout",
     "output_type": "stream",
     "text": [
      "Ep. 1097, Timestep 1460757,  Ep.Timesteps 1600, Score: -53.00, Avg.Score: -63.21, Time: 04:04:33 \n"
     ]
    },
    {
     "name": "stderr",
     "output_type": "stream",
     "text": [
      " 55%|█████▍    | 1097/2000 [4:04:39<2:53:07, 11.50s/it]"
     ]
    },
    {
     "name": "stdout",
     "output_type": "stream",
     "text": [
      "Ep. 1098, Timestep 1462357,  Ep.Timesteps 1600, Score: -64.77, Avg.Score: -63.33, Time: 04:04:43 \n"
     ]
    },
    {
     "name": "stderr",
     "output_type": "stream",
     "text": [
      " 55%|█████▍    | 1098/2000 [4:04:49<2:45:48, 11.03s/it]"
     ]
    },
    {
     "name": "stdout",
     "output_type": "stream",
     "text": [
      "Ep. 1099, Timestep 1463957,  Ep.Timesteps 1600, Score: -50.81, Avg.Score: -63.23, Time: 04:04:53 \n"
     ]
    },
    {
     "name": "stderr",
     "output_type": "stream",
     "text": [
      " 55%|█████▍    | 1099/2000 [4:04:58<2:40:17, 10.67s/it]"
     ]
    },
    {
     "name": "stdout",
     "output_type": "stream",
     "text": [
      "Ep. 1100, Timestep 1465557,  Ep.Timesteps 1600, Score: -33.19, Avg.Score: -63.24, Time: 04:05:03 \n"
     ]
    },
    {
     "name": "stderr",
     "output_type": "stream",
     "text": [
      " 55%|█████▌    | 1100/2000 [4:05:08<2:35:43, 10.38s/it]"
     ]
    },
    {
     "name": "stdout",
     "output_type": "stream",
     "text": [
      "Ep. 1101, Timestep 1467157,  Ep.Timesteps 1600, Score: -32.39, Avg.Score: -63.20, Time: 04:05:13 \n"
     ]
    },
    {
     "name": "stderr",
     "output_type": "stream",
     "text": [
      " 55%|█████▌    | 1101/2000 [4:05:18<2:32:59, 10.21s/it]"
     ]
    },
    {
     "name": "stdout",
     "output_type": "stream",
     "text": [
      "Ep. 1102, Timestep 1468757,  Ep.Timesteps 1600, Score: -45.22, Avg.Score: -63.24, Time: 04:05:23 \n"
     ]
    },
    {
     "name": "stderr",
     "output_type": "stream",
     "text": [
      " 55%|█████▌    | 1102/2000 [4:05:30<2:43:06, 10.90s/it]"
     ]
    },
    {
     "name": "stdout",
     "output_type": "stream",
     "text": [
      "Ep. 1103, Timestep 1470357,  Ep.Timesteps 1600, Score: -33.10, Avg.Score: -63.18, Time: 04:05:35 \n"
     ]
    }
   ],
   "source": [
    "scores, Avg_Scores = Train(episodes = 2000)"
   ]
  },
  {
   "cell_type": "code",
   "execution_count": null,
   "metadata": {},
   "outputs": [],
   "source": [
    "%matplotlib inline\n",
    "\n",
    "print('length of scores: ', len(scores), ', len of average scores: ', len(Avg_Scores))\n",
    "\n",
    "fig = plt.figure()\n",
    "ax = fig.add_subplot(111)\n",
    "plt.plot(np.arange(1, len(scores) + 1), scores, label=\"Score\")\n",
    "plt.plot(np.arange(1, len(Avg_Scores) + 1), Avg_Scores, label=\"Avg on 100 episodes\")\n",
    "plt.legend(bbox_to_anchor=(1.05, 1)) \n",
    "plt.ylabel('Score')\n",
    "plt.xlabel('Episodes #')\n",
    "plt.show()"
   ]
  },
  {
   "cell_type": "code",
   "execution_count": null,
   "metadata": {},
   "outputs": [],
   "source": [
    "env.close"
   ]
  }
 ],
 "metadata": {
  "kernelspec": {
   "display_name": "Python 3",
   "language": "python",
   "name": "python3"
  },
  "language_info": {
   "codemirror_mode": {
    "name": "ipython",
    "version": 3
   },
   "file_extension": ".py",
   "mimetype": "text/x-python",
   "name": "python",
   "nbconvert_exporter": "python",
   "pygments_lexer": "ipython3",
   "version": "3.6.13"
  },
  "widgets": {
   "application/vnd.jupyter.widget-state+json": {
    "state": {
     "03395bb83ded4fe4a8a7e32a4d025fac": {
      "model_module": "@jupyter-widgets/controls",
      "model_module_version": "1.5.0",
      "model_name": "ButtonStyleModel",
      "state": {
       "_model_module": "@jupyter-widgets/controls",
       "_model_module_version": "1.5.0",
       "_model_name": "ButtonStyleModel",
       "_view_count": null,
       "_view_module": "@jupyter-widgets/base",
       "_view_module_version": "1.2.0",
       "_view_name": "StyleView",
       "button_color": null,
       "font_weight": ""
      }
     },
     "03c6167509ea4711b4413186e194f1b7": {
      "model_module": "@jupyter-widgets/base",
      "model_module_version": "1.2.0",
      "model_name": "LayoutModel",
      "state": {
       "_model_module": "@jupyter-widgets/base",
       "_model_module_version": "1.2.0",
       "_model_name": "LayoutModel",
       "_view_count": null,
       "_view_module": "@jupyter-widgets/base",
       "_view_module_version": "1.2.0",
       "_view_name": "LayoutView",
       "align_content": null,
       "align_items": null,
       "align_self": null,
       "border": null,
       "bottom": null,
       "display": null,
       "flex": null,
       "flex_flow": null,
       "grid_area": null,
       "grid_auto_columns": null,
       "grid_auto_flow": null,
       "grid_auto_rows": null,
       "grid_column": null,
       "grid_gap": null,
       "grid_row": null,
       "grid_template_areas": null,
       "grid_template_columns": null,
       "grid_template_rows": null,
       "height": null,
       "justify_content": null,
       "justify_items": null,
       "left": null,
       "margin": null,
       "max_height": null,
       "max_width": null,
       "min_height": null,
       "min_width": null,
       "object_fit": null,
       "object_position": null,
       "order": null,
       "overflow": null,
       "overflow_x": null,
       "overflow_y": null,
       "padding": null,
       "right": null,
       "top": null,
       "visibility": null,
       "width": null
      }
     },
     "0719c9d0229d42fcba58072b418da101": {
      "model_module": "@jupyter-widgets/base",
      "model_module_version": "1.2.0",
      "model_name": "LayoutModel",
      "state": {
       "_model_module": "@jupyter-widgets/base",
       "_model_module_version": "1.2.0",
       "_model_name": "LayoutModel",
       "_view_count": null,
       "_view_module": "@jupyter-widgets/base",
       "_view_module_version": "1.2.0",
       "_view_name": "LayoutView",
       "align_content": null,
       "align_items": null,
       "align_self": null,
       "border": null,
       "bottom": null,
       "display": null,
       "flex": null,
       "flex_flow": null,
       "grid_area": null,
       "grid_auto_columns": null,
       "grid_auto_flow": null,
       "grid_auto_rows": null,
       "grid_column": null,
       "grid_gap": null,
       "grid_row": null,
       "grid_template_areas": null,
       "grid_template_columns": null,
       "grid_template_rows": null,
       "height": null,
       "justify_content": null,
       "justify_items": null,
       "left": null,
       "margin": null,
       "max_height": null,
       "max_width": null,
       "min_height": null,
       "min_width": null,
       "object_fit": null,
       "object_position": null,
       "order": null,
       "overflow": null,
       "overflow_x": null,
       "overflow_y": null,
       "padding": null,
       "right": null,
       "top": null,
       "visibility": null,
       "width": null
      }
     },
     "0d8ea23196c84f0da7823de1fd644548": {
      "model_module": "@jupyter-widgets/controls",
      "model_module_version": "1.5.0",
      "model_name": "ButtonModel",
      "state": {
       "_dom_classes": [],
       "_model_module": "@jupyter-widgets/controls",
       "_model_module_version": "1.5.0",
       "_model_name": "ButtonModel",
       "_view_count": null,
       "_view_module": "@jupyter-widgets/controls",
       "_view_module_version": "1.5.0",
       "_view_name": "ButtonView",
       "button_style": "",
       "description": "acrobot",
       "disabled": false,
       "icon": "",
       "layout": "IPY_MODEL_d979c87c55fe464185f3dae6f320cd1c",
       "style": "IPY_MODEL_0fcbe963bf5b456ca3d46a37c184aa92",
       "tooltip": ""
      }
     },
     "0fcbe963bf5b456ca3d46a37c184aa92": {
      "model_module": "@jupyter-widgets/controls",
      "model_module_version": "1.5.0",
      "model_name": "ButtonStyleModel",
      "state": {
       "_model_module": "@jupyter-widgets/controls",
       "_model_module_version": "1.5.0",
       "_model_name": "ButtonStyleModel",
       "_view_count": null,
       "_view_module": "@jupyter-widgets/base",
       "_view_module_version": "1.2.0",
       "_view_name": "StyleView",
       "button_color": null,
       "font_weight": ""
      }
     },
     "108f2a4bbfce4e698decd627e22be82b": {
      "model_module": "@jupyter-widgets/controls",
      "model_module_version": "1.5.0",
      "model_name": "ButtonModel",
      "state": {
       "_dom_classes": [],
       "_model_module": "@jupyter-widgets/controls",
       "_model_module_version": "1.5.0",
       "_model_name": "ButtonModel",
       "_view_count": null,
       "_view_module": "@jupyter-widgets/controls",
       "_view_module_version": "1.5.0",
       "_view_name": "ButtonView",
       "button_style": "",
       "description": "00.0%",
       "disabled": false,
       "icon": "",
       "layout": "IPY_MODEL_c4efca2baa3b46e882e0d77fc9c590cc",
       "style": "IPY_MODEL_430af5381b6842048ae1cfd366c04450",
       "tooltip": ""
      }
     },
     "1093e05d11f2419d98658e46814ee7c5": {
      "model_module": "@jupyter-widgets/base",
      "model_module_version": "1.2.0",
      "model_name": "LayoutModel",
      "state": {
       "_model_module": "@jupyter-widgets/base",
       "_model_module_version": "1.2.0",
       "_model_name": "LayoutModel",
       "_view_count": null,
       "_view_module": "@jupyter-widgets/base",
       "_view_module_version": "1.2.0",
       "_view_name": "LayoutView",
       "align_content": null,
       "align_items": null,
       "align_self": null,
       "border": null,
       "bottom": null,
       "display": "inline-flex",
       "flex": null,
       "flex_flow": "row wrap",
       "grid_area": null,
       "grid_auto_columns": null,
       "grid_auto_flow": null,
       "grid_auto_rows": null,
       "grid_column": null,
       "grid_gap": null,
       "grid_row": null,
       "grid_template_areas": null,
       "grid_template_columns": null,
       "grid_template_rows": null,
       "height": null,
       "justify_content": null,
       "justify_items": null,
       "left": null,
       "margin": null,
       "max_height": null,
       "max_width": null,
       "min_height": null,
       "min_width": null,
       "object_fit": null,
       "object_position": null,
       "order": null,
       "overflow": null,
       "overflow_x": null,
       "overflow_y": null,
       "padding": null,
       "right": null,
       "top": null,
       "visibility": null,
       "width": "100%"
      }
     },
     "10c27de22f3049b093b017e7e053543f": {
      "model_module": "@jupyter-widgets/controls",
      "model_module_version": "1.5.0",
      "model_name": "HBoxModel",
      "state": {
       "_dom_classes": [],
       "_model_module": "@jupyter-widgets/controls",
       "_model_module_version": "1.5.0",
       "_model_name": "HBoxModel",
       "_view_count": null,
       "_view_module": "@jupyter-widgets/controls",
       "_view_module_version": "1.5.0",
       "_view_name": "HBoxView",
       "box_style": "",
       "children": [
        "IPY_MODEL_2dd76e0903814266b7271e0a07d0036a",
        "IPY_MODEL_dd74806209c84abeb4cabad05fc9ac7d"
       ],
       "layout": "IPY_MODEL_eabfb1a659d84a2f84a88ead7d4de805"
      }
     },
     "11953ae381ab43cbb2a63c624397a5b2": {
      "model_module": "@jupyter-widgets/controls",
      "model_module_version": "1.5.0",
      "model_name": "ButtonStyleModel",
      "state": {
       "_model_module": "@jupyter-widgets/controls",
       "_model_module_version": "1.5.0",
       "_model_name": "ButtonStyleModel",
       "_view_count": null,
       "_view_module": "@jupyter-widgets/base",
       "_view_module_version": "1.2.0",
       "_view_name": "StyleView",
       "button_color": null,
       "font_weight": ""
      }
     },
     "14645daaf250413c875b77766683593c": {
      "model_module": "@jupyter-widgets/base",
      "model_module_version": "1.2.0",
      "model_name": "LayoutModel",
      "state": {
       "_model_module": "@jupyter-widgets/base",
       "_model_module_version": "1.2.0",
       "_model_name": "LayoutModel",
       "_view_count": null,
       "_view_module": "@jupyter-widgets/base",
       "_view_module_version": "1.2.0",
       "_view_name": "LayoutView",
       "align_content": null,
       "align_items": null,
       "align_self": null,
       "border": null,
       "bottom": null,
       "display": null,
       "flex": "2",
       "flex_flow": null,
       "grid_area": null,
       "grid_auto_columns": null,
       "grid_auto_flow": null,
       "grid_auto_rows": null,
       "grid_column": null,
       "grid_gap": null,
       "grid_row": null,
       "grid_template_areas": null,
       "grid_template_columns": null,
       "grid_template_rows": null,
       "height": null,
       "justify_content": null,
       "justify_items": null,
       "left": null,
       "margin": null,
       "max_height": null,
       "max_width": null,
       "min_height": null,
       "min_width": null,
       "object_fit": null,
       "object_position": null,
       "order": null,
       "overflow": null,
       "overflow_x": null,
       "overflow_y": null,
       "padding": null,
       "right": null,
       "top": null,
       "visibility": null,
       "width": null
      }
     },
     "14da2f0e02844c8b9101f1f2b3ec6b7a": {
      "model_module": "@jupyter-widgets/controls",
      "model_module_version": "1.5.0",
      "model_name": "ButtonModel",
      "state": {
       "_dom_classes": [],
       "_model_module": "@jupyter-widgets/controls",
       "_model_module_version": "1.5.0",
       "_model_name": "ButtonModel",
       "_view_count": null,
       "_view_module": "@jupyter-widgets/controls",
       "_view_module_version": "1.5.0",
       "_view_name": "ButtonView",
       "button_style": "",
       "description": "100.0%",
       "disabled": false,
       "icon": "",
       "layout": "IPY_MODEL_d7795268bee448098d98a15407017057",
       "style": "IPY_MODEL_aea7f58f513b4604b90af5377819ad9c",
       "tooltip": ""
      }
     },
     "14ebdb0dcf824679842134ecf1f5411c": {
      "model_module": "@jupyter-widgets/base",
      "model_module_version": "1.2.0",
      "model_name": "LayoutModel",
      "state": {
       "_model_module": "@jupyter-widgets/base",
       "_model_module_version": "1.2.0",
       "_model_name": "LayoutModel",
       "_view_count": null,
       "_view_module": "@jupyter-widgets/base",
       "_view_module_version": "1.2.0",
       "_view_name": "LayoutView",
       "align_content": null,
       "align_items": null,
       "align_self": null,
       "border": null,
       "bottom": null,
       "display": null,
       "flex": null,
       "flex_flow": null,
       "grid_area": null,
       "grid_auto_columns": null,
       "grid_auto_flow": null,
       "grid_auto_rows": null,
       "grid_column": null,
       "grid_gap": null,
       "grid_row": null,
       "grid_template_areas": null,
       "grid_template_columns": null,
       "grid_template_rows": null,
       "height": null,
       "justify_content": null,
       "justify_items": null,
       "left": null,
       "margin": null,
       "max_height": null,
       "max_width": null,
       "min_height": null,
       "min_width": null,
       "object_fit": null,
       "object_position": null,
       "order": null,
       "overflow": null,
       "overflow_x": null,
       "overflow_y": null,
       "padding": null,
       "right": null,
       "top": null,
       "visibility": null,
       "width": null
      }
     },
     "172dc13ded6742ddb4e34cfdfc0ce1be": {
      "model_module": "@jupyter-widgets/controls",
      "model_module_version": "1.5.0",
      "model_name": "HTMLModel",
      "state": {
       "_dom_classes": [],
       "_model_module": "@jupyter-widgets/controls",
       "_model_module_version": "1.5.0",
       "_model_name": "HTMLModel",
       "_view_count": null,
       "_view_module": "@jupyter-widgets/controls",
       "_view_module_version": "1.5.0",
       "_view_name": "HTMLView",
       "description": "",
       "description_tooltip": null,
       "layout": "IPY_MODEL_f6ab563953894ea99c96769e0d9b8da8",
       "placeholder": "​",
       "style": "IPY_MODEL_3d5cb166f73e4c60ad43dfa132a19ba1",
       "value": " 1500000/1500000 [41:08&lt;00:00, 607.61it/s]"
      }
     },
     "18142ddf08fe400f98d5db0d72aacb30": {
      "model_module": "@jupyter-widgets/controls",
      "model_module_version": "1.5.0",
      "model_name": "ButtonModel",
      "state": {
       "_dom_classes": [],
       "_model_module": "@jupyter-widgets/controls",
       "_model_module_version": "1.5.0",
       "_model_name": "ButtonModel",
       "_view_count": null,
       "_view_module": "@jupyter-widgets/controls",
       "_view_module_version": "1.5.0",
       "_view_name": "ButtonView",
       "button_style": "",
       "description": "50.0%",
       "disabled": false,
       "icon": "",
       "layout": "IPY_MODEL_68d20cd15e4e41d1b77168807e3efda7",
       "style": "IPY_MODEL_6fdc39f84da54a17b0d09fcd69f9ef4f",
       "tooltip": ""
      }
     },
     "1a133c2dcecd415199320620653cd731": {
      "model_module": "@jupyter-widgets/base",
      "model_module_version": "1.2.0",
      "model_name": "LayoutModel",
      "state": {
       "_model_module": "@jupyter-widgets/base",
       "_model_module_version": "1.2.0",
       "_model_name": "LayoutModel",
       "_view_count": null,
       "_view_module": "@jupyter-widgets/base",
       "_view_module_version": "1.2.0",
       "_view_name": "LayoutView",
       "align_content": null,
       "align_items": null,
       "align_self": null,
       "border": null,
       "bottom": null,
       "display": null,
       "flex": null,
       "flex_flow": null,
       "grid_area": null,
       "grid_auto_columns": null,
       "grid_auto_flow": null,
       "grid_auto_rows": null,
       "grid_column": null,
       "grid_gap": null,
       "grid_row": null,
       "grid_template_areas": null,
       "grid_template_columns": null,
       "grid_template_rows": null,
       "height": null,
       "justify_content": null,
       "justify_items": null,
       "left": null,
       "margin": null,
       "max_height": null,
       "max_width": null,
       "min_height": null,
       "min_width": null,
       "object_fit": null,
       "object_position": null,
       "order": null,
       "overflow": null,
       "overflow_x": null,
       "overflow_y": null,
       "padding": null,
       "right": null,
       "top": null,
       "visibility": null,
       "width": null
      }
     },
     "1bc404ec873e4c9c833a621b13534041": {
      "model_module": "@jupyter-widgets/base",
      "model_module_version": "1.2.0",
      "model_name": "LayoutModel",
      "state": {
       "_model_module": "@jupyter-widgets/base",
       "_model_module_version": "1.2.0",
       "_model_name": "LayoutModel",
       "_view_count": null,
       "_view_module": "@jupyter-widgets/base",
       "_view_module_version": "1.2.0",
       "_view_name": "LayoutView",
       "align_content": null,
       "align_items": null,
       "align_self": null,
       "border": null,
       "bottom": null,
       "display": "inline-flex",
       "flex": null,
       "flex_flow": "row wrap",
       "grid_area": null,
       "grid_auto_columns": null,
       "grid_auto_flow": null,
       "grid_auto_rows": null,
       "grid_column": null,
       "grid_gap": null,
       "grid_row": null,
       "grid_template_areas": null,
       "grid_template_columns": null,
       "grid_template_rows": null,
       "height": null,
       "justify_content": null,
       "justify_items": null,
       "left": null,
       "margin": null,
       "max_height": null,
       "max_width": null,
       "min_height": null,
       "min_width": null,
       "object_fit": null,
       "object_position": null,
       "order": null,
       "overflow": null,
       "overflow_x": null,
       "overflow_y": null,
       "padding": null,
       "right": null,
       "top": null,
       "visibility": null,
       "width": "100%"
      }
     },
     "1e1ab65f81e546a6bcec2d9ad14dc981": {
      "model_module": "@jupyter-widgets/controls",
      "model_module_version": "1.5.0",
      "model_name": "HBoxModel",
      "state": {
       "_dom_classes": [],
       "_model_module": "@jupyter-widgets/controls",
       "_model_module_version": "1.5.0",
       "_model_name": "HBoxModel",
       "_view_count": null,
       "_view_module": "@jupyter-widgets/controls",
       "_view_module_version": "1.5.0",
       "_view_name": "HBoxView",
       "box_style": "",
       "children": [
        "IPY_MODEL_6e428b8a731f4634a8b0ff5686609c26",
        "IPY_MODEL_1fa0adaa48ee41869aac33581ca7c8f3"
       ],
       "layout": "IPY_MODEL_1093e05d11f2419d98658e46814ee7c5"
      }
     },
     "1fa0adaa48ee41869aac33581ca7c8f3": {
      "model_module": "@jupyter-widgets/controls",
      "model_module_version": "1.5.0",
      "model_name": "HTMLModel",
      "state": {
       "_dom_classes": [],
       "_model_module": "@jupyter-widgets/controls",
       "_model_module_version": "1.5.0",
       "_model_name": "HTMLModel",
       "_view_count": null,
       "_view_module": "@jupyter-widgets/controls",
       "_view_module_version": "1.5.0",
       "_view_name": "HTMLView",
       "description": "",
       "description_tooltip": null,
       "layout": "IPY_MODEL_fa0f91f254cb4e9ab548d1972bf8140c",
       "placeholder": "​",
       "style": "IPY_MODEL_8434e3aa420947548487873b56ac4308",
       "value": " 1500000/1500000 [44:50&lt;00:00, 557.55it/s]"
      }
     },
     "1fb11726ea6f4e49bf4b935cd32b65b1": {
      "model_module": "@jupyter-widgets/base",
      "model_module_version": "1.2.0",
      "model_name": "LayoutModel",
      "state": {
       "_model_module": "@jupyter-widgets/base",
       "_model_module_version": "1.2.0",
       "_model_name": "LayoutModel",
       "_view_count": null,
       "_view_module": "@jupyter-widgets/base",
       "_view_module_version": "1.2.0",
       "_view_name": "LayoutView",
       "align_content": null,
       "align_items": null,
       "align_self": null,
       "border": null,
       "bottom": null,
       "display": null,
       "flex": "2",
       "flex_flow": null,
       "grid_area": null,
       "grid_auto_columns": null,
       "grid_auto_flow": null,
       "grid_auto_rows": null,
       "grid_column": null,
       "grid_gap": null,
       "grid_row": null,
       "grid_template_areas": null,
       "grid_template_columns": null,
       "grid_template_rows": null,
       "height": null,
       "justify_content": null,
       "justify_items": null,
       "left": null,
       "margin": null,
       "max_height": null,
       "max_width": null,
       "min_height": null,
       "min_width": null,
       "object_fit": null,
       "object_position": null,
       "order": null,
       "overflow": null,
       "overflow_x": null,
       "overflow_y": null,
       "padding": null,
       "right": null,
       "top": null,
       "visibility": null,
       "width": null
      }
     },
     "20f15f9db6204786bf12da1c02b8818c": {
      "model_module": "@jupyter-widgets/controls",
      "model_module_version": "1.5.0",
      "model_name": "ButtonModel",
      "state": {
       "_dom_classes": [],
       "_model_module": "@jupyter-widgets/controls",
       "_model_module_version": "1.5.0",
       "_model_name": "ButtonModel",
       "_view_count": null,
       "_view_module": "@jupyter-widgets/controls",
       "_view_module_version": "1.5.0",
       "_view_name": "ButtonView",
       "button_style": "",
       "description": "00.0%",
       "disabled": false,
       "icon": "",
       "layout": "IPY_MODEL_af90bf837dca4751a3ffd777ff142b79",
       "style": "IPY_MODEL_bf88c8d1f7f94cf491ab243012da0e20",
       "tooltip": ""
      }
     },
     "25e2cecd2ac24386ba16b36030a52314": {
      "model_module": "@jupyter-widgets/base",
      "model_module_version": "1.2.0",
      "model_name": "LayoutModel",
      "state": {
       "_model_module": "@jupyter-widgets/base",
       "_model_module_version": "1.2.0",
       "_model_name": "LayoutModel",
       "_view_count": null,
       "_view_module": "@jupyter-widgets/base",
       "_view_module_version": "1.2.0",
       "_view_name": "LayoutView",
       "align_content": null,
       "align_items": null,
       "align_self": null,
       "border": null,
       "bottom": null,
       "display": "inline-flex",
       "flex": null,
       "flex_flow": "row wrap",
       "grid_area": null,
       "grid_auto_columns": null,
       "grid_auto_flow": null,
       "grid_auto_rows": null,
       "grid_column": null,
       "grid_gap": null,
       "grid_row": null,
       "grid_template_areas": null,
       "grid_template_columns": null,
       "grid_template_rows": null,
       "height": null,
       "justify_content": null,
       "justify_items": null,
       "left": null,
       "margin": null,
       "max_height": null,
       "max_width": null,
       "min_height": null,
       "min_width": null,
       "object_fit": null,
       "object_position": null,
       "order": null,
       "overflow": null,
       "overflow_x": null,
       "overflow_y": null,
       "padding": null,
       "right": null,
       "top": null,
       "visibility": null,
       "width": "100%"
      }
     },
     "27a5daaaa01743ed9fb5ec7575fe23c2": {
      "model_module": "@jupyter-widgets/controls",
      "model_module_version": "1.5.0",
      "model_name": "ButtonModel",
      "state": {
       "_dom_classes": [],
       "_model_module": "@jupyter-widgets/controls",
       "_model_module_version": "1.5.0",
       "_model_name": "ButtonModel",
       "_view_count": null,
       "_view_module": "@jupyter-widgets/controls",
       "_view_module_version": "1.5.0",
       "_view_name": "ButtonView",
       "button_style": "",
       "description": "00.0%",
       "disabled": false,
       "icon": "",
       "layout": "IPY_MODEL_0719c9d0229d42fcba58072b418da101",
       "style": "IPY_MODEL_64c8c27c8df24648a363acf384379085",
       "tooltip": ""
      }
     },
     "2bf8499868e34f6db8f68f4ef969b86e": {
      "model_module": "@jupyter-widgets/controls",
      "model_module_version": "1.5.0",
      "model_name": "ButtonModel",
      "state": {
       "_dom_classes": [],
       "_model_module": "@jupyter-widgets/controls",
       "_model_module_version": "1.5.0",
       "_model_name": "ButtonModel",
       "_view_count": null,
       "_view_module": "@jupyter-widgets/controls",
       "_view_module_version": "1.5.0",
       "_view_name": "ButtonView",
       "button_style": "",
       "description": "00.0%",
       "disabled": false,
       "icon": "",
       "layout": "IPY_MODEL_4fe667fd60a54f659279567c1dbc6bf3",
       "style": "IPY_MODEL_d7c0edddb1e54345970d8666680694fb",
       "tooltip": ""
      }
     },
     "2dd76e0903814266b7271e0a07d0036a": {
      "model_module": "@jupyter-widgets/controls",
      "model_module_version": "1.5.0",
      "model_name": "IntProgressModel",
      "state": {
       "_dom_classes": [],
       "_model_module": "@jupyter-widgets/controls",
       "_model_module_version": "1.5.0",
       "_model_name": "IntProgressModel",
       "_view_count": null,
       "_view_module": "@jupyter-widgets/controls",
       "_view_module_version": "1.5.0",
       "_view_name": "ProgressView",
       "bar_style": "",
       "description": "Episode: 2719 | Steps: 386 | Return: 257.65 | Epsilon: 0.05:  87%",
       "description_tooltip": null,
       "layout": "IPY_MODEL_a295e0377b7e408084af75f0e9ffe78f",
       "max": 1500000,
       "min": 0,
       "orientation": "horizontal",
       "style": "IPY_MODEL_6883ee1729e9491283936b734b54df33",
       "value": 1312336
      }
     },
     "2eddf868db06498a9ad173eeff46bc33": {
      "model_module": "@jupyter-widgets/controls",
      "model_module_version": "1.5.0",
      "model_name": "ButtonStyleModel",
      "state": {
       "_model_module": "@jupyter-widgets/controls",
       "_model_module_version": "1.5.0",
       "_model_name": "ButtonStyleModel",
       "_view_count": null,
       "_view_module": "@jupyter-widgets/base",
       "_view_module_version": "1.2.0",
       "_view_name": "StyleView",
       "button_color": null,
       "font_weight": ""
      }
     },
     "2f685de22c22454d8ac359967460c8a2": {
      "model_module": "@jupyter-widgets/controls",
      "model_module_version": "1.5.0",
      "model_name": "ButtonStyleModel",
      "state": {
       "_model_module": "@jupyter-widgets/controls",
       "_model_module_version": "1.5.0",
       "_model_name": "ButtonStyleModel",
       "_view_count": null,
       "_view_module": "@jupyter-widgets/base",
       "_view_module_version": "1.2.0",
       "_view_name": "StyleView",
       "button_color": null,
       "font_weight": ""
      }
     },
     "35b94dc92db640069b5182e1e12b2d6b": {
      "model_module": "@jupyter-widgets/controls",
      "model_module_version": "1.5.0",
      "model_name": "IntProgressModel",
      "state": {
       "_dom_classes": [],
       "_model_module": "@jupyter-widgets/controls",
       "_model_module_version": "1.5.0",
       "_model_name": "IntProgressModel",
       "_view_count": null,
       "_view_module": "@jupyter-widgets/controls",
       "_view_module_version": "1.5.0",
       "_view_name": "ProgressView",
       "bar_style": "",
       "description": "Episode: 8158 | Steps: 500 | Return: 500.00 | Epsilon: 0.05:  98%",
       "description_tooltip": null,
       "layout": "IPY_MODEL_1fb11726ea6f4e49bf4b935cd32b65b1",
       "max": 1500000,
       "min": 0,
       "orientation": "horizontal",
       "style": "IPY_MODEL_5e8fe451ea114cea958151ef57a238fd",
       "value": 1463025
      }
     },
     "37184f69a537453687a529a02f127fcc": {
      "model_module": "@jupyter-widgets/base",
      "model_module_version": "1.2.0",
      "model_name": "LayoutModel",
      "state": {
       "_model_module": "@jupyter-widgets/base",
       "_model_module_version": "1.2.0",
       "_model_name": "LayoutModel",
       "_view_count": null,
       "_view_module": "@jupyter-widgets/base",
       "_view_module_version": "1.2.0",
       "_view_name": "LayoutView",
       "align_content": null,
       "align_items": null,
       "align_self": null,
       "border": null,
       "bottom": null,
       "display": null,
       "flex": "2",
       "flex_flow": null,
       "grid_area": null,
       "grid_auto_columns": null,
       "grid_auto_flow": null,
       "grid_auto_rows": null,
       "grid_column": null,
       "grid_gap": null,
       "grid_row": null,
       "grid_template_areas": null,
       "grid_template_columns": null,
       "grid_template_rows": null,
       "height": null,
       "justify_content": null,
       "justify_items": null,
       "left": null,
       "margin": null,
       "max_height": null,
       "max_width": null,
       "min_height": null,
       "min_width": null,
       "object_fit": null,
       "object_position": null,
       "order": null,
       "overflow": null,
       "overflow_x": null,
       "overflow_y": null,
       "padding": null,
       "right": null,
       "top": null,
       "visibility": null,
       "width": null
      }
     },
     "378f41cd11a64d978ce7c59ac01e6816": {
      "model_module": "@jupyter-widgets/controls",
      "model_module_version": "1.5.0",
      "model_name": "ButtonStyleModel",
      "state": {
       "_model_module": "@jupyter-widgets/controls",
       "_model_module_version": "1.5.0",
       "_model_name": "ButtonStyleModel",
       "_view_count": null,
       "_view_module": "@jupyter-widgets/base",
       "_view_module_version": "1.2.0",
       "_view_name": "StyleView",
       "button_color": null,
       "font_weight": ""
      }
     },
     "3b4687c409c94199b19535c09d9c788c": {
      "model_module": "@jupyter-widgets/base",
      "model_module_version": "1.2.0",
      "model_name": "LayoutModel",
      "state": {
       "_model_module": "@jupyter-widgets/base",
       "_model_module_version": "1.2.0",
       "_model_name": "LayoutModel",
       "_view_count": null,
       "_view_module": "@jupyter-widgets/base",
       "_view_module_version": "1.2.0",
       "_view_name": "LayoutView",
       "align_content": null,
       "align_items": null,
       "align_self": null,
       "border": null,
       "bottom": null,
       "display": null,
       "flex": null,
       "flex_flow": null,
       "grid_area": null,
       "grid_auto_columns": null,
       "grid_auto_flow": null,
       "grid_auto_rows": null,
       "grid_column": null,
       "grid_gap": null,
       "grid_row": null,
       "grid_template_areas": null,
       "grid_template_columns": null,
       "grid_template_rows": null,
       "height": null,
       "justify_content": null,
       "justify_items": null,
       "left": null,
       "margin": null,
       "max_height": null,
       "max_width": null,
       "min_height": null,
       "min_width": null,
       "object_fit": null,
       "object_position": null,
       "order": null,
       "overflow": null,
       "overflow_x": null,
       "overflow_y": null,
       "padding": null,
       "right": null,
       "top": null,
       "visibility": null,
       "width": null
      }
     },
     "3c7d8987f4784e1887c422fd8f4f2caa": {
      "model_module": "@jupyter-widgets/controls",
      "model_module_version": "1.5.0",
      "model_name": "ButtonStyleModel",
      "state": {
       "_model_module": "@jupyter-widgets/controls",
       "_model_module_version": "1.5.0",
       "_model_name": "ButtonStyleModel",
       "_view_count": null,
       "_view_module": "@jupyter-widgets/base",
       "_view_module_version": "1.2.0",
       "_view_name": "StyleView",
       "button_color": null,
       "font_weight": ""
      }
     },
     "3cf762cac464440fbe0a6f7e8987f53e": {
      "model_module": "@jupyter-widgets/base",
      "model_module_version": "1.2.0",
      "model_name": "LayoutModel",
      "state": {
       "_model_module": "@jupyter-widgets/base",
       "_model_module_version": "1.2.0",
       "_model_name": "LayoutModel",
       "_view_count": null,
       "_view_module": "@jupyter-widgets/base",
       "_view_module_version": "1.2.0",
       "_view_name": "LayoutView",
       "align_content": null,
       "align_items": null,
       "align_self": null,
       "border": null,
       "bottom": null,
       "display": null,
       "flex": null,
       "flex_flow": null,
       "grid_area": null,
       "grid_auto_columns": null,
       "grid_auto_flow": null,
       "grid_auto_rows": null,
       "grid_column": null,
       "grid_gap": null,
       "grid_row": null,
       "grid_template_areas": null,
       "grid_template_columns": null,
       "grid_template_rows": null,
       "height": null,
       "justify_content": null,
       "justify_items": null,
       "left": null,
       "margin": null,
       "max_height": null,
       "max_width": null,
       "min_height": null,
       "min_width": null,
       "object_fit": null,
       "object_position": null,
       "order": null,
       "overflow": null,
       "overflow_x": null,
       "overflow_y": null,
       "padding": null,
       "right": null,
       "top": null,
       "visibility": null,
       "width": null
      }
     },
     "3d5cb166f73e4c60ad43dfa132a19ba1": {
      "model_module": "@jupyter-widgets/controls",
      "model_module_version": "1.5.0",
      "model_name": "DescriptionStyleModel",
      "state": {
       "_model_module": "@jupyter-widgets/controls",
       "_model_module_version": "1.5.0",
       "_model_name": "DescriptionStyleModel",
       "_view_count": null,
       "_view_module": "@jupyter-widgets/base",
       "_view_module_version": "1.2.0",
       "_view_name": "StyleView",
       "description_width": ""
      }
     },
     "4080a76905d2474e92318126c367ac33": {
      "model_module": "@jupyter-widgets/controls",
      "model_module_version": "1.5.0",
      "model_name": "ButtonModel",
      "state": {
       "_dom_classes": [],
       "_model_module": "@jupyter-widgets/controls",
       "_model_module_version": "1.5.0",
       "_model_name": "ButtonModel",
       "_view_count": null,
       "_view_module": "@jupyter-widgets/controls",
       "_view_module_version": "1.5.0",
       "_view_name": "ButtonView",
       "button_style": "",
       "description": "lunarlander",
       "disabled": false,
       "icon": "",
       "layout": "IPY_MODEL_41ccbd193125419eb12315d38b82c5ef",
       "style": "IPY_MODEL_d62bc173a31b48b5968b6b5bc655e1ab",
       "tooltip": ""
      }
     },
     "41225be4361a4933b7ab31b0fa1d66b8": {
      "model_module": "@jupyter-widgets/controls",
      "model_module_version": "1.5.0",
      "model_name": "DescriptionStyleModel",
      "state": {
       "_model_module": "@jupyter-widgets/controls",
       "_model_module_version": "1.5.0",
       "_model_name": "DescriptionStyleModel",
       "_view_count": null,
       "_view_module": "@jupyter-widgets/base",
       "_view_module_version": "1.2.0",
       "_view_name": "StyleView",
       "description_width": ""
      }
     },
     "41ccbd193125419eb12315d38b82c5ef": {
      "model_module": "@jupyter-widgets/base",
      "model_module_version": "1.2.0",
      "model_name": "LayoutModel",
      "state": {
       "_model_module": "@jupyter-widgets/base",
       "_model_module_version": "1.2.0",
       "_model_name": "LayoutModel",
       "_view_count": null,
       "_view_module": "@jupyter-widgets/base",
       "_view_module_version": "1.2.0",
       "_view_name": "LayoutView",
       "align_content": null,
       "align_items": null,
       "align_self": null,
       "border": null,
       "bottom": null,
       "display": null,
       "flex": null,
       "flex_flow": null,
       "grid_area": null,
       "grid_auto_columns": null,
       "grid_auto_flow": null,
       "grid_auto_rows": null,
       "grid_column": null,
       "grid_gap": null,
       "grid_row": null,
       "grid_template_areas": null,
       "grid_template_columns": null,
       "grid_template_rows": null,
       "height": null,
       "justify_content": null,
       "justify_items": null,
       "left": null,
       "margin": null,
       "max_height": null,
       "max_width": null,
       "min_height": null,
       "min_width": null,
       "object_fit": null,
       "object_position": null,
       "order": null,
       "overflow": null,
       "overflow_x": null,
       "overflow_y": null,
       "padding": null,
       "right": null,
       "top": null,
       "visibility": null,
       "width": null
      }
     },
     "430af5381b6842048ae1cfd366c04450": {
      "model_module": "@jupyter-widgets/controls",
      "model_module_version": "1.5.0",
      "model_name": "ButtonStyleModel",
      "state": {
       "_model_module": "@jupyter-widgets/controls",
       "_model_module_version": "1.5.0",
       "_model_name": "ButtonStyleModel",
       "_view_count": null,
       "_view_module": "@jupyter-widgets/base",
       "_view_module_version": "1.2.0",
       "_view_name": "StyleView",
       "button_color": null,
       "font_weight": ""
      }
     },
     "443a7099c02743c9b549f91d58a598df": {
      "model_module": "@jupyter-widgets/controls",
      "model_module_version": "1.5.0",
      "model_name": "HBoxModel",
      "state": {
       "_dom_classes": [],
       "_model_module": "@jupyter-widgets/controls",
       "_model_module_version": "1.5.0",
       "_model_name": "HBoxModel",
       "_view_count": null,
       "_view_module": "@jupyter-widgets/controls",
       "_view_module_version": "1.5.0",
       "_view_name": "HBoxView",
       "box_style": "",
       "children": [
        "IPY_MODEL_27a5daaaa01743ed9fb5ec7575fe23c2",
        "IPY_MODEL_b8c3347aa1a2406f8fdfcd23a8fd056c",
        "IPY_MODEL_18142ddf08fe400f98d5db0d72aacb30",
        "IPY_MODEL_964c1fd12c9b40fa907695c502f4682f",
        "IPY_MODEL_64afbeffcdbb49bf9b7e78b2c684106c"
       ],
       "layout": "IPY_MODEL_5580fcbe05e74e378ff6a8332ca0d8d1"
      }
     },
     "47ae032e0cd046f9af2876318a3d3d16": {
      "model_module": "@jupyter-widgets/controls",
      "model_module_version": "1.5.0",
      "model_name": "HBoxModel",
      "state": {
       "_dom_classes": [],
       "_model_module": "@jupyter-widgets/controls",
       "_model_module_version": "1.5.0",
       "_model_name": "HBoxModel",
       "_view_count": null,
       "_view_module": "@jupyter-widgets/controls",
       "_view_module_version": "1.5.0",
       "_view_name": "HBoxView",
       "box_style": "",
       "children": [
        "IPY_MODEL_35b94dc92db640069b5182e1e12b2d6b",
        "IPY_MODEL_f0405f22aee4490c828cf20d465d5805"
       ],
       "layout": "IPY_MODEL_25e2cecd2ac24386ba16b36030a52314"
      }
     },
     "488af0ba7ad2454f991055f5046ea08b": {
      "model_module": "@jupyter-widgets/controls",
      "model_module_version": "1.5.0",
      "model_name": "ButtonStyleModel",
      "state": {
       "_model_module": "@jupyter-widgets/controls",
       "_model_module_version": "1.5.0",
       "_model_name": "ButtonStyleModel",
       "_view_count": null,
       "_view_module": "@jupyter-widgets/base",
       "_view_module_version": "1.2.0",
       "_view_name": "StyleView",
       "button_color": null,
       "font_weight": ""
      }
     },
     "4b405606fcc5474ab22cecfb7ee38889": {
      "model_module": "@jupyter-widgets/controls",
      "model_module_version": "1.5.0",
      "model_name": "ButtonModel",
      "state": {
       "_dom_classes": [],
       "_model_module": "@jupyter-widgets/controls",
       "_model_module_version": "1.5.0",
       "_model_name": "ButtonModel",
       "_view_count": null,
       "_view_module": "@jupyter-widgets/controls",
       "_view_module_version": "1.5.0",
       "_view_name": "ButtonView",
       "button_style": "",
       "description": "100.0%",
       "disabled": false,
       "icon": "",
       "layout": "IPY_MODEL_dcc72758ee124a88844993dfd2a5cc88",
       "style": "IPY_MODEL_d0e8a40ea4e7412aa310416965883c13",
       "tooltip": ""
      }
     },
     "4fe667fd60a54f659279567c1dbc6bf3": {
      "model_module": "@jupyter-widgets/base",
      "model_module_version": "1.2.0",
      "model_name": "LayoutModel",
      "state": {
       "_model_module": "@jupyter-widgets/base",
       "_model_module_version": "1.2.0",
       "_model_name": "LayoutModel",
       "_view_count": null,
       "_view_module": "@jupyter-widgets/base",
       "_view_module_version": "1.2.0",
       "_view_name": "LayoutView",
       "align_content": null,
       "align_items": null,
       "align_self": null,
       "border": null,
       "bottom": null,
       "display": null,
       "flex": null,
       "flex_flow": null,
       "grid_area": null,
       "grid_auto_columns": null,
       "grid_auto_flow": null,
       "grid_auto_rows": null,
       "grid_column": null,
       "grid_gap": null,
       "grid_row": null,
       "grid_template_areas": null,
       "grid_template_columns": null,
       "grid_template_rows": null,
       "height": null,
       "justify_content": null,
       "justify_items": null,
       "left": null,
       "margin": null,
       "max_height": null,
       "max_width": null,
       "min_height": null,
       "min_width": null,
       "object_fit": null,
       "object_position": null,
       "order": null,
       "overflow": null,
       "overflow_x": null,
       "overflow_y": null,
       "padding": null,
       "right": null,
       "top": null,
       "visibility": null,
       "width": null
      }
     },
     "557d0c4420f9424aa49bb55e1d3688e5": {
      "model_module": "@jupyter-widgets/base",
      "model_module_version": "1.2.0",
      "model_name": "LayoutModel",
      "state": {
       "_model_module": "@jupyter-widgets/base",
       "_model_module_version": "1.2.0",
       "_model_name": "LayoutModel",
       "_view_count": null,
       "_view_module": "@jupyter-widgets/base",
       "_view_module_version": "1.2.0",
       "_view_name": "LayoutView",
       "align_content": null,
       "align_items": null,
       "align_self": null,
       "border": null,
       "bottom": null,
       "display": null,
       "flex": null,
       "flex_flow": null,
       "grid_area": null,
       "grid_auto_columns": null,
       "grid_auto_flow": null,
       "grid_auto_rows": null,
       "grid_column": null,
       "grid_gap": null,
       "grid_row": null,
       "grid_template_areas": null,
       "grid_template_columns": null,
       "grid_template_rows": null,
       "height": null,
       "justify_content": null,
       "justify_items": null,
       "left": null,
       "margin": null,
       "max_height": null,
       "max_width": null,
       "min_height": null,
       "min_width": null,
       "object_fit": null,
       "object_position": null,
       "order": null,
       "overflow": null,
       "overflow_x": null,
       "overflow_y": null,
       "padding": null,
       "right": null,
       "top": null,
       "visibility": null,
       "width": null
      }
     },
     "5580fcbe05e74e378ff6a8332ca0d8d1": {
      "model_module": "@jupyter-widgets/base",
      "model_module_version": "1.2.0",
      "model_name": "LayoutModel",
      "state": {
       "_model_module": "@jupyter-widgets/base",
       "_model_module_version": "1.2.0",
       "_model_name": "LayoutModel",
       "_view_count": null,
       "_view_module": "@jupyter-widgets/base",
       "_view_module_version": "1.2.0",
       "_view_name": "LayoutView",
       "align_content": null,
       "align_items": null,
       "align_self": null,
       "border": null,
       "bottom": null,
       "display": null,
       "flex": null,
       "flex_flow": null,
       "grid_area": null,
       "grid_auto_columns": null,
       "grid_auto_flow": null,
       "grid_auto_rows": null,
       "grid_column": null,
       "grid_gap": null,
       "grid_row": null,
       "grid_template_areas": null,
       "grid_template_columns": null,
       "grid_template_rows": null,
       "height": null,
       "justify_content": null,
       "justify_items": null,
       "left": null,
       "margin": null,
       "max_height": null,
       "max_width": null,
       "min_height": null,
       "min_width": null,
       "object_fit": null,
       "object_position": null,
       "order": null,
       "overflow": null,
       "overflow_x": null,
       "overflow_y": null,
       "padding": null,
       "right": null,
       "top": null,
       "visibility": null,
       "width": null
      }
     },
     "5811a9700bbb4f3aa08d110527923b83": {
      "model_module": "@jupyter-widgets/controls",
      "model_module_version": "1.5.0",
      "model_name": "HBoxModel",
      "state": {
       "_dom_classes": [],
       "_model_module": "@jupyter-widgets/controls",
       "_model_module_version": "1.5.0",
       "_model_name": "HBoxModel",
       "_view_count": null,
       "_view_module": "@jupyter-widgets/controls",
       "_view_module_version": "1.5.0",
       "_view_name": "HBoxView",
       "box_style": "",
       "children": [
        "IPY_MODEL_2bf8499868e34f6db8f68f4ef969b86e",
        "IPY_MODEL_6132949b90db46298fec772e2aa48587",
        "IPY_MODEL_b5ac0abe0f2b4b129a1d9be83441552d",
        "IPY_MODEL_8ed603d1ddfd431095ffd89900db1714",
        "IPY_MODEL_4b405606fcc5474ab22cecfb7ee38889"
       ],
       "layout": "IPY_MODEL_920116df058f4d9f958e62ec5622ae4f"
      }
     },
     "5e8fe451ea114cea958151ef57a238fd": {
      "model_module": "@jupyter-widgets/controls",
      "model_module_version": "1.5.0",
      "model_name": "ProgressStyleModel",
      "state": {
       "_model_module": "@jupyter-widgets/controls",
       "_model_module_version": "1.5.0",
       "_model_name": "ProgressStyleModel",
       "_view_count": null,
       "_view_module": "@jupyter-widgets/base",
       "_view_module_version": "1.2.0",
       "_view_name": "StyleView",
       "bar_color": null,
       "description_width": "initial"
      }
     },
     "6132949b90db46298fec772e2aa48587": {
      "model_module": "@jupyter-widgets/controls",
      "model_module_version": "1.5.0",
      "model_name": "ButtonModel",
      "state": {
       "_dom_classes": [],
       "_model_module": "@jupyter-widgets/controls",
       "_model_module_version": "1.5.0",
       "_model_name": "ButtonModel",
       "_view_count": null,
       "_view_module": "@jupyter-widgets/controls",
       "_view_module_version": "1.5.0",
       "_view_name": "ButtonView",
       "button_style": "",
       "description": "25.0%",
       "disabled": false,
       "icon": "",
       "layout": "IPY_MODEL_63fb9bad79dd44e5ae577156ee029df5",
       "style": "IPY_MODEL_f2e3fc3956b84ba3a5e32565bf1b7131",
       "tooltip": ""
      }
     },
     "61904b27b4fb41c080cc21838f649957": {
      "model_module": "@jupyter-widgets/controls",
      "model_module_version": "1.5.0",
      "model_name": "ButtonModel",
      "state": {
       "_dom_classes": [],
       "_model_module": "@jupyter-widgets/controls",
       "_model_module_version": "1.5.0",
       "_model_name": "ButtonModel",
       "_view_count": null,
       "_view_module": "@jupyter-widgets/controls",
       "_view_module_version": "1.5.0",
       "_view_name": "ButtonView",
       "button_style": "",
       "description": "25.0%",
       "disabled": false,
       "icon": "",
       "layout": "IPY_MODEL_afdbd60d068942918dfa1ca61d5d69f7",
       "style": "IPY_MODEL_3c7d8987f4784e1887c422fd8f4f2caa",
       "tooltip": ""
      }
     },
     "6387a3efbbae41d49e475af0f2b20c3b": {
      "model_module": "@jupyter-widgets/controls",
      "model_module_version": "1.5.0",
      "model_name": "ButtonModel",
      "state": {
       "_dom_classes": [],
       "_model_module": "@jupyter-widgets/controls",
       "_model_module_version": "1.5.0",
       "_model_name": "ButtonModel",
       "_view_count": null,
       "_view_module": "@jupyter-widgets/controls",
       "_view_module_version": "1.5.0",
       "_view_name": "ButtonView",
       "button_style": "",
       "description": "mountaincar",
       "disabled": false,
       "icon": "",
       "layout": "IPY_MODEL_7276c7552d07412fb8d660fbe0b7cebe",
       "style": "IPY_MODEL_7f480dcd40d641bdacb47d94f6d9c7f7",
       "tooltip": ""
      }
     },
     "63f83b039f1641eb95ebae8ca471cd30": {
      "model_module": "@jupyter-widgets/controls",
      "model_module_version": "1.5.0",
      "model_name": "ButtonStyleModel",
      "state": {
       "_model_module": "@jupyter-widgets/controls",
       "_model_module_version": "1.5.0",
       "_model_name": "ButtonStyleModel",
       "_view_count": null,
       "_view_module": "@jupyter-widgets/base",
       "_view_module_version": "1.2.0",
       "_view_name": "StyleView",
       "button_color": null,
       "font_weight": ""
      }
     },
     "63fb9bad79dd44e5ae577156ee029df5": {
      "model_module": "@jupyter-widgets/base",
      "model_module_version": "1.2.0",
      "model_name": "LayoutModel",
      "state": {
       "_model_module": "@jupyter-widgets/base",
       "_model_module_version": "1.2.0",
       "_model_name": "LayoutModel",
       "_view_count": null,
       "_view_module": "@jupyter-widgets/base",
       "_view_module_version": "1.2.0",
       "_view_name": "LayoutView",
       "align_content": null,
       "align_items": null,
       "align_self": null,
       "border": null,
       "bottom": null,
       "display": null,
       "flex": null,
       "flex_flow": null,
       "grid_area": null,
       "grid_auto_columns": null,
       "grid_auto_flow": null,
       "grid_auto_rows": null,
       "grid_column": null,
       "grid_gap": null,
       "grid_row": null,
       "grid_template_areas": null,
       "grid_template_columns": null,
       "grid_template_rows": null,
       "height": null,
       "justify_content": null,
       "justify_items": null,
       "left": null,
       "margin": null,
       "max_height": null,
       "max_width": null,
       "min_height": null,
       "min_width": null,
       "object_fit": null,
       "object_position": null,
       "order": null,
       "overflow": null,
       "overflow_x": null,
       "overflow_y": null,
       "padding": null,
       "right": null,
       "top": null,
       "visibility": null,
       "width": null
      }
     },
     "64afbeffcdbb49bf9b7e78b2c684106c": {
      "model_module": "@jupyter-widgets/controls",
      "model_module_version": "1.5.0",
      "model_name": "ButtonModel",
      "state": {
       "_dom_classes": [],
       "_model_module": "@jupyter-widgets/controls",
       "_model_module_version": "1.5.0",
       "_model_name": "ButtonModel",
       "_view_count": null,
       "_view_module": "@jupyter-widgets/controls",
       "_view_module_version": "1.5.0",
       "_view_name": "ButtonView",
       "button_style": "",
       "description": "100.0%",
       "disabled": false,
       "icon": "",
       "layout": "IPY_MODEL_d1b4ce169da543bf9af10ba28a4ec5d0",
       "style": "IPY_MODEL_378f41cd11a64d978ce7c59ac01e6816",
       "tooltip": ""
      }
     },
     "64c8c27c8df24648a363acf384379085": {
      "model_module": "@jupyter-widgets/controls",
      "model_module_version": "1.5.0",
      "model_name": "ButtonStyleModel",
      "state": {
       "_model_module": "@jupyter-widgets/controls",
       "_model_module_version": "1.5.0",
       "_model_name": "ButtonStyleModel",
       "_view_count": null,
       "_view_module": "@jupyter-widgets/base",
       "_view_module_version": "1.2.0",
       "_view_name": "StyleView",
       "button_color": null,
       "font_weight": ""
      }
     },
     "682152f5c7374042881e562cf99d43e4": {
      "model_module": "@jupyter-widgets/controls",
      "model_module_version": "1.5.0",
      "model_name": "ButtonStyleModel",
      "state": {
       "_model_module": "@jupyter-widgets/controls",
       "_model_module_version": "1.5.0",
       "_model_name": "ButtonStyleModel",
       "_view_count": null,
       "_view_module": "@jupyter-widgets/base",
       "_view_module_version": "1.2.0",
       "_view_name": "StyleView",
       "button_color": null,
       "font_weight": ""
      }
     },
     "6883ee1729e9491283936b734b54df33": {
      "model_module": "@jupyter-widgets/controls",
      "model_module_version": "1.5.0",
      "model_name": "ProgressStyleModel",
      "state": {
       "_model_module": "@jupyter-widgets/controls",
       "_model_module_version": "1.5.0",
       "_model_name": "ProgressStyleModel",
       "_view_count": null,
       "_view_module": "@jupyter-widgets/base",
       "_view_module_version": "1.2.0",
       "_view_name": "StyleView",
       "bar_color": null,
       "description_width": "initial"
      }
     },
     "68d20cd15e4e41d1b77168807e3efda7": {
      "model_module": "@jupyter-widgets/base",
      "model_module_version": "1.2.0",
      "model_name": "LayoutModel",
      "state": {
       "_model_module": "@jupyter-widgets/base",
       "_model_module_version": "1.2.0",
       "_model_name": "LayoutModel",
       "_view_count": null,
       "_view_module": "@jupyter-widgets/base",
       "_view_module_version": "1.2.0",
       "_view_name": "LayoutView",
       "align_content": null,
       "align_items": null,
       "align_self": null,
       "border": null,
       "bottom": null,
       "display": null,
       "flex": null,
       "flex_flow": null,
       "grid_area": null,
       "grid_auto_columns": null,
       "grid_auto_flow": null,
       "grid_auto_rows": null,
       "grid_column": null,
       "grid_gap": null,
       "grid_row": null,
       "grid_template_areas": null,
       "grid_template_columns": null,
       "grid_template_rows": null,
       "height": null,
       "justify_content": null,
       "justify_items": null,
       "left": null,
       "margin": null,
       "max_height": null,
       "max_width": null,
       "min_height": null,
       "min_width": null,
       "object_fit": null,
       "object_position": null,
       "order": null,
       "overflow": null,
       "overflow_x": null,
       "overflow_y": null,
       "padding": null,
       "right": null,
       "top": null,
       "visibility": null,
       "width": null
      }
     },
     "6b6b92bc8ce24c1fb330d1f4ac292a5d": {
      "model_module": "@jupyter-widgets/controls",
      "model_module_version": "1.5.0",
      "model_name": "ButtonStyleModel",
      "state": {
       "_model_module": "@jupyter-widgets/controls",
       "_model_module_version": "1.5.0",
       "_model_name": "ButtonStyleModel",
       "_view_count": null,
       "_view_module": "@jupyter-widgets/base",
       "_view_module_version": "1.2.0",
       "_view_name": "StyleView",
       "button_color": null,
       "font_weight": ""
      }
     },
     "6dabafab9edb4dc59a66a11661bed7a6": {
      "model_module": "@jupyter-widgets/controls",
      "model_module_version": "1.5.0",
      "model_name": "ButtonStyleModel",
      "state": {
       "_model_module": "@jupyter-widgets/controls",
       "_model_module_version": "1.5.0",
       "_model_name": "ButtonStyleModel",
       "_view_count": null,
       "_view_module": "@jupyter-widgets/base",
       "_view_module_version": "1.2.0",
       "_view_name": "StyleView",
       "button_color": null,
       "font_weight": ""
      }
     },
     "6e428b8a731f4634a8b0ff5686609c26": {
      "model_module": "@jupyter-widgets/controls",
      "model_module_version": "1.5.0",
      "model_name": "IntProgressModel",
      "state": {
       "_dom_classes": [],
       "_model_module": "@jupyter-widgets/controls",
       "_model_module_version": "1.5.0",
       "_model_name": "IntProgressModel",
       "_view_count": null,
       "_view_module": "@jupyter-widgets/controls",
       "_view_module_version": "1.5.0",
       "_view_name": "ProgressView",
       "bar_style": "",
       "description": "Episode: 9733 | Steps: 102 | Return: -101.00 | Epsilon: 0.05:  94%",
       "description_tooltip": null,
       "layout": "IPY_MODEL_14645daaf250413c875b77766683593c",
       "max": 1500000,
       "min": 0,
       "orientation": "horizontal",
       "style": "IPY_MODEL_fbc5f200d0b34a88bfb12ca4ad37dee4",
       "value": 1413881
      }
     },
     "6fdc39f84da54a17b0d09fcd69f9ef4f": {
      "model_module": "@jupyter-widgets/controls",
      "model_module_version": "1.5.0",
      "model_name": "ButtonStyleModel",
      "state": {
       "_model_module": "@jupyter-widgets/controls",
       "_model_module_version": "1.5.0",
       "_model_name": "ButtonStyleModel",
       "_view_count": null,
       "_view_module": "@jupyter-widgets/base",
       "_view_module_version": "1.2.0",
       "_view_name": "StyleView",
       "button_color": null,
       "font_weight": ""
      }
     },
     "7276c7552d07412fb8d660fbe0b7cebe": {
      "model_module": "@jupyter-widgets/base",
      "model_module_version": "1.2.0",
      "model_name": "LayoutModel",
      "state": {
       "_model_module": "@jupyter-widgets/base",
       "_model_module_version": "1.2.0",
       "_model_name": "LayoutModel",
       "_view_count": null,
       "_view_module": "@jupyter-widgets/base",
       "_view_module_version": "1.2.0",
       "_view_name": "LayoutView",
       "align_content": null,
       "align_items": null,
       "align_self": null,
       "border": null,
       "bottom": null,
       "display": null,
       "flex": null,
       "flex_flow": null,
       "grid_area": null,
       "grid_auto_columns": null,
       "grid_auto_flow": null,
       "grid_auto_rows": null,
       "grid_column": null,
       "grid_gap": null,
       "grid_row": null,
       "grid_template_areas": null,
       "grid_template_columns": null,
       "grid_template_rows": null,
       "height": null,
       "justify_content": null,
       "justify_items": null,
       "left": null,
       "margin": null,
       "max_height": null,
       "max_width": null,
       "min_height": null,
       "min_width": null,
       "object_fit": null,
       "object_position": null,
       "order": null,
       "overflow": null,
       "overflow_x": null,
       "overflow_y": null,
       "padding": null,
       "right": null,
       "top": null,
       "visibility": null,
       "width": null
      }
     },
     "7325c2a283274b15926b3d1c4f9ec9a1": {
      "model_module": "@jupyter-widgets/base",
      "model_module_version": "1.2.0",
      "model_name": "LayoutModel",
      "state": {
       "_model_module": "@jupyter-widgets/base",
       "_model_module_version": "1.2.0",
       "_model_name": "LayoutModel",
       "_view_count": null,
       "_view_module": "@jupyter-widgets/base",
       "_view_module_version": "1.2.0",
       "_view_name": "LayoutView",
       "align_content": null,
       "align_items": null,
       "align_self": null,
       "border": null,
       "bottom": null,
       "display": null,
       "flex": null,
       "flex_flow": null,
       "grid_area": null,
       "grid_auto_columns": null,
       "grid_auto_flow": null,
       "grid_auto_rows": null,
       "grid_column": null,
       "grid_gap": null,
       "grid_row": null,
       "grid_template_areas": null,
       "grid_template_columns": null,
       "grid_template_rows": null,
       "height": null,
       "justify_content": null,
       "justify_items": null,
       "left": null,
       "margin": null,
       "max_height": null,
       "max_width": null,
       "min_height": null,
       "min_width": null,
       "object_fit": null,
       "object_position": null,
       "order": null,
       "overflow": null,
       "overflow_x": null,
       "overflow_y": null,
       "padding": null,
       "right": null,
       "top": null,
       "visibility": null,
       "width": null
      }
     },
     "75f57fee0df54696a62b993b89ad76b2": {
      "model_module": "@jupyter-widgets/controls",
      "model_module_version": "1.5.0",
      "model_name": "ButtonModel",
      "state": {
       "_dom_classes": [],
       "_model_module": "@jupyter-widgets/controls",
       "_model_module_version": "1.5.0",
       "_model_name": "ButtonModel",
       "_view_count": null,
       "_view_module": "@jupyter-widgets/controls",
       "_view_module_version": "1.5.0",
       "_view_name": "ButtonView",
       "button_style": "",
       "description": "100.0%",
       "disabled": false,
       "icon": "",
       "layout": "IPY_MODEL_f46ee6d99efa49c38be7cf818453d0b5",
       "style": "IPY_MODEL_488af0ba7ad2454f991055f5046ea08b",
       "tooltip": ""
      }
     },
     "78b52f068d5641f48f678edab8dd187d": {
      "model_module": "@jupyter-widgets/controls",
      "model_module_version": "1.5.0",
      "model_name": "ButtonModel",
      "state": {
       "_dom_classes": [],
       "_model_module": "@jupyter-widgets/controls",
       "_model_module_version": "1.5.0",
       "_model_name": "ButtonModel",
       "_view_count": null,
       "_view_module": "@jupyter-widgets/controls",
       "_view_module_version": "1.5.0",
       "_view_name": "ButtonView",
       "button_style": "",
       "description": "75.0%",
       "disabled": false,
       "icon": "",
       "layout": "IPY_MODEL_03c6167509ea4711b4413186e194f1b7",
       "style": "IPY_MODEL_2eddf868db06498a9ad173eeff46bc33",
       "tooltip": ""
      }
     },
     "7acc5a9430834923bb413600a1ff4a3f": {
      "model_module": "@jupyter-widgets/controls",
      "model_module_version": "1.5.0",
      "model_name": "ButtonStyleModel",
      "state": {
       "_model_module": "@jupyter-widgets/controls",
       "_model_module_version": "1.5.0",
       "_model_name": "ButtonStyleModel",
       "_view_count": null,
       "_view_module": "@jupyter-widgets/base",
       "_view_module_version": "1.2.0",
       "_view_name": "StyleView",
       "button_color": null,
       "font_weight": ""
      }
     },
     "7cc1e9d61a7842b7b30943c67cb0a35a": {
      "model_module": "@jupyter-widgets/base",
      "model_module_version": "1.2.0",
      "model_name": "LayoutModel",
      "state": {
       "_model_module": "@jupyter-widgets/base",
       "_model_module_version": "1.2.0",
       "_model_name": "LayoutModel",
       "_view_count": null,
       "_view_module": "@jupyter-widgets/base",
       "_view_module_version": "1.2.0",
       "_view_name": "LayoutView",
       "align_content": null,
       "align_items": null,
       "align_self": null,
       "border": null,
       "bottom": null,
       "display": null,
       "flex": null,
       "flex_flow": null,
       "grid_area": null,
       "grid_auto_columns": null,
       "grid_auto_flow": null,
       "grid_auto_rows": null,
       "grid_column": null,
       "grid_gap": null,
       "grid_row": null,
       "grid_template_areas": null,
       "grid_template_columns": null,
       "grid_template_rows": null,
       "height": null,
       "justify_content": null,
       "justify_items": null,
       "left": null,
       "margin": null,
       "max_height": null,
       "max_width": null,
       "min_height": null,
       "min_width": null,
       "object_fit": null,
       "object_position": null,
       "order": null,
       "overflow": null,
       "overflow_x": null,
       "overflow_y": null,
       "padding": null,
       "right": null,
       "top": null,
       "visibility": null,
       "width": null
      }
     },
     "7f480dcd40d641bdacb47d94f6d9c7f7": {
      "model_module": "@jupyter-widgets/controls",
      "model_module_version": "1.5.0",
      "model_name": "ButtonStyleModel",
      "state": {
       "_model_module": "@jupyter-widgets/controls",
       "_model_module_version": "1.5.0",
       "_model_name": "ButtonStyleModel",
       "_view_count": null,
       "_view_module": "@jupyter-widgets/base",
       "_view_module_version": "1.2.0",
       "_view_name": "StyleView",
       "button_color": null,
       "font_weight": ""
      }
     },
     "8434e3aa420947548487873b56ac4308": {
      "model_module": "@jupyter-widgets/controls",
      "model_module_version": "1.5.0",
      "model_name": "DescriptionStyleModel",
      "state": {
       "_model_module": "@jupyter-widgets/controls",
       "_model_module_version": "1.5.0",
       "_model_name": "DescriptionStyleModel",
       "_view_count": null,
       "_view_module": "@jupyter-widgets/base",
       "_view_module_version": "1.2.0",
       "_view_name": "StyleView",
       "description_width": ""
      }
     },
     "85c9d8a1cc9c47e1b3f241dc6e8bb0da": {
      "model_module": "@jupyter-widgets/controls",
      "model_module_version": "1.5.0",
      "model_name": "IntProgressModel",
      "state": {
       "_dom_classes": [],
       "_model_module": "@jupyter-widgets/controls",
       "_model_module_version": "1.5.0",
       "_model_name": "IntProgressModel",
       "_view_count": null,
       "_view_module": "@jupyter-widgets/controls",
       "_view_module_version": "1.5.0",
       "_view_name": "ProgressView",
       "bar_style": "",
       "description": "Episode: 8440 | Steps: 103 | Return: -103.00 | Epsilon: 0.05:  84%",
       "description_tooltip": null,
       "layout": "IPY_MODEL_37184f69a537453687a529a02f127fcc",
       "max": 1500000,
       "min": 0,
       "orientation": "horizontal",
       "style": "IPY_MODEL_aae6bd2503b54b56a725a6acc403e5fa",
       "value": 1255009
      }
     },
     "876c5a024d5f49b18848e83c503ad2a0": {
      "model_module": "@jupyter-widgets/controls",
      "model_module_version": "1.5.0",
      "model_name": "ButtonModel",
      "state": {
       "_dom_classes": [],
       "_model_module": "@jupyter-widgets/controls",
       "_model_module_version": "1.5.0",
       "_model_name": "ButtonModel",
       "_view_count": null,
       "_view_module": "@jupyter-widgets/controls",
       "_view_module_version": "1.5.0",
       "_view_name": "ButtonView",
       "button_style": "",
       "description": "75.0%",
       "disabled": false,
       "icon": "",
       "layout": "IPY_MODEL_b8865b0735474ddd8c5b487add496ceb",
       "style": "IPY_MODEL_d7cdd3b5f5d1424b94ca33ad1fd0b800",
       "tooltip": ""
      }
     },
     "8a8c75d7ef7e4d5bb1c271c3fe52858a": {
      "model_module": "@jupyter-widgets/controls",
      "model_module_version": "1.5.0",
      "model_name": "ButtonModel",
      "state": {
       "_dom_classes": [],
       "_model_module": "@jupyter-widgets/controls",
       "_model_module_version": "1.5.0",
       "_model_name": "ButtonModel",
       "_view_count": null,
       "_view_module": "@jupyter-widgets/controls",
       "_view_module_version": "1.5.0",
       "_view_name": "ButtonView",
       "button_style": "",
       "description": "25.0%",
       "disabled": false,
       "icon": "",
       "layout": "IPY_MODEL_3cf762cac464440fbe0a6f7e8987f53e",
       "style": "IPY_MODEL_682152f5c7374042881e562cf99d43e4",
       "tooltip": ""
      }
     },
     "8a93061838014b9cad7d811ea8674595": {
      "model_module": "@jupyter-widgets/base",
      "model_module_version": "1.2.0",
      "model_name": "LayoutModel",
      "state": {
       "_model_module": "@jupyter-widgets/base",
       "_model_module_version": "1.2.0",
       "_model_name": "LayoutModel",
       "_view_count": null,
       "_view_module": "@jupyter-widgets/base",
       "_view_module_version": "1.2.0",
       "_view_name": "LayoutView",
       "align_content": null,
       "align_items": null,
       "align_self": null,
       "border": null,
       "bottom": null,
       "display": null,
       "flex": null,
       "flex_flow": null,
       "grid_area": null,
       "grid_auto_columns": null,
       "grid_auto_flow": null,
       "grid_auto_rows": null,
       "grid_column": null,
       "grid_gap": null,
       "grid_row": null,
       "grid_template_areas": null,
       "grid_template_columns": null,
       "grid_template_rows": null,
       "height": null,
       "justify_content": null,
       "justify_items": null,
       "left": null,
       "margin": null,
       "max_height": null,
       "max_width": null,
       "min_height": null,
       "min_width": null,
       "object_fit": null,
       "object_position": null,
       "order": null,
       "overflow": null,
       "overflow_x": null,
       "overflow_y": null,
       "padding": null,
       "right": null,
       "top": null,
       "visibility": null,
       "width": null
      }
     },
     "8b0c91e16966482d8a6227ee7f9f102a": {
      "model_module": "@jupyter-widgets/controls",
      "model_module_version": "1.5.0",
      "model_name": "HBoxModel",
      "state": {
       "_dom_classes": [],
       "_model_module": "@jupyter-widgets/controls",
       "_model_module_version": "1.5.0",
       "_model_name": "HBoxModel",
       "_view_count": null,
       "_view_module": "@jupyter-widgets/controls",
       "_view_module_version": "1.5.0",
       "_view_name": "HBoxView",
       "box_style": "",
       "children": [
        "IPY_MODEL_20f15f9db6204786bf12da1c02b8818c",
        "IPY_MODEL_8a8c75d7ef7e4d5bb1c271c3fe52858a",
        "IPY_MODEL_e0e8344720544fed9d0e851fea96f5a8",
        "IPY_MODEL_78b52f068d5641f48f678edab8dd187d",
        "IPY_MODEL_14da2f0e02844c8b9101f1f2b3ec6b7a"
       ],
       "layout": "IPY_MODEL_7cc1e9d61a7842b7b30943c67cb0a35a"
      }
     },
     "8d7ae72ff1454bc88cfea563a5e02276": {
      "model_module": "@jupyter-widgets/controls",
      "model_module_version": "1.5.0",
      "model_name": "HBoxModel",
      "state": {
       "_dom_classes": [],
       "_model_module": "@jupyter-widgets/controls",
       "_model_module_version": "1.5.0",
       "_model_name": "HBoxModel",
       "_view_count": null,
       "_view_module": "@jupyter-widgets/controls",
       "_view_module_version": "1.5.0",
       "_view_name": "HBoxView",
       "box_style": "",
       "children": [
        "IPY_MODEL_abb7f594cf3c4ff890e50f5b7213b813",
        "IPY_MODEL_6387a3efbbae41d49e475af0f2b20c3b",
        "IPY_MODEL_0d8ea23196c84f0da7823de1fd644548",
        "IPY_MODEL_4080a76905d2474e92318126c367ac33"
       ],
       "layout": "IPY_MODEL_8a93061838014b9cad7d811ea8674595"
      }
     },
     "8ed603d1ddfd431095ffd89900db1714": {
      "model_module": "@jupyter-widgets/controls",
      "model_module_version": "1.5.0",
      "model_name": "ButtonModel",
      "state": {
       "_dom_classes": [],
       "_model_module": "@jupyter-widgets/controls",
       "_model_module_version": "1.5.0",
       "_model_name": "ButtonModel",
       "_view_count": null,
       "_view_module": "@jupyter-widgets/controls",
       "_view_module_version": "1.5.0",
       "_view_name": "ButtonView",
       "button_style": "",
       "description": "75.0%",
       "disabled": false,
       "icon": "",
       "layout": "IPY_MODEL_dab27813b5f54b829172f03dd4dfc722",
       "style": "IPY_MODEL_6b6b92bc8ce24c1fb330d1f4ac292a5d",
       "tooltip": ""
      }
     },
     "920116df058f4d9f958e62ec5622ae4f": {
      "model_module": "@jupyter-widgets/base",
      "model_module_version": "1.2.0",
      "model_name": "LayoutModel",
      "state": {
       "_model_module": "@jupyter-widgets/base",
       "_model_module_version": "1.2.0",
       "_model_name": "LayoutModel",
       "_view_count": null,
       "_view_module": "@jupyter-widgets/base",
       "_view_module_version": "1.2.0",
       "_view_name": "LayoutView",
       "align_content": null,
       "align_items": null,
       "align_self": null,
       "border": null,
       "bottom": null,
       "display": null,
       "flex": null,
       "flex_flow": null,
       "grid_area": null,
       "grid_auto_columns": null,
       "grid_auto_flow": null,
       "grid_auto_rows": null,
       "grid_column": null,
       "grid_gap": null,
       "grid_row": null,
       "grid_template_areas": null,
       "grid_template_columns": null,
       "grid_template_rows": null,
       "height": null,
       "justify_content": null,
       "justify_items": null,
       "left": null,
       "margin": null,
       "max_height": null,
       "max_width": null,
       "min_height": null,
       "min_width": null,
       "object_fit": null,
       "object_position": null,
       "order": null,
       "overflow": null,
       "overflow_x": null,
       "overflow_y": null,
       "padding": null,
       "right": null,
       "top": null,
       "visibility": null,
       "width": null
      }
     },
     "93fc0fba49d34d47aa0e743002b956fb": {
      "model_module": "@jupyter-widgets/base",
      "model_module_version": "1.2.0",
      "model_name": "LayoutModel",
      "state": {
       "_model_module": "@jupyter-widgets/base",
       "_model_module_version": "1.2.0",
       "_model_name": "LayoutModel",
       "_view_count": null,
       "_view_module": "@jupyter-widgets/base",
       "_view_module_version": "1.2.0",
       "_view_name": "LayoutView",
       "align_content": null,
       "align_items": null,
       "align_self": null,
       "border": null,
       "bottom": null,
       "display": null,
       "flex": null,
       "flex_flow": null,
       "grid_area": null,
       "grid_auto_columns": null,
       "grid_auto_flow": null,
       "grid_auto_rows": null,
       "grid_column": null,
       "grid_gap": null,
       "grid_row": null,
       "grid_template_areas": null,
       "grid_template_columns": null,
       "grid_template_rows": null,
       "height": null,
       "justify_content": null,
       "justify_items": null,
       "left": null,
       "margin": null,
       "max_height": null,
       "max_width": null,
       "min_height": null,
       "min_width": null,
       "object_fit": null,
       "object_position": null,
       "order": null,
       "overflow": null,
       "overflow_x": null,
       "overflow_y": null,
       "padding": null,
       "right": null,
       "top": null,
       "visibility": null,
       "width": null
      }
     },
     "956dbe20644a4d519999873dca5ac2fd": {
      "model_module": "@jupyter-widgets/base",
      "model_module_version": "1.2.0",
      "model_name": "LayoutModel",
      "state": {
       "_model_module": "@jupyter-widgets/base",
       "_model_module_version": "1.2.0",
       "_model_name": "LayoutModel",
       "_view_count": null,
       "_view_module": "@jupyter-widgets/base",
       "_view_module_version": "1.2.0",
       "_view_name": "LayoutView",
       "align_content": null,
       "align_items": null,
       "align_self": null,
       "border": null,
       "bottom": null,
       "display": null,
       "flex": null,
       "flex_flow": null,
       "grid_area": null,
       "grid_auto_columns": null,
       "grid_auto_flow": null,
       "grid_auto_rows": null,
       "grid_column": null,
       "grid_gap": null,
       "grid_row": null,
       "grid_template_areas": null,
       "grid_template_columns": null,
       "grid_template_rows": null,
       "height": null,
       "justify_content": null,
       "justify_items": null,
       "left": null,
       "margin": null,
       "max_height": null,
       "max_width": null,
       "min_height": null,
       "min_width": null,
       "object_fit": null,
       "object_position": null,
       "order": null,
       "overflow": null,
       "overflow_x": null,
       "overflow_y": null,
       "padding": null,
       "right": null,
       "top": null,
       "visibility": null,
       "width": null
      }
     },
     "964c1fd12c9b40fa907695c502f4682f": {
      "model_module": "@jupyter-widgets/controls",
      "model_module_version": "1.5.0",
      "model_name": "ButtonModel",
      "state": {
       "_dom_classes": [],
       "_model_module": "@jupyter-widgets/controls",
       "_model_module_version": "1.5.0",
       "_model_name": "ButtonModel",
       "_view_count": null,
       "_view_module": "@jupyter-widgets/controls",
       "_view_module_version": "1.5.0",
       "_view_name": "ButtonView",
       "button_style": "",
       "description": "75.0%",
       "disabled": false,
       "icon": "",
       "layout": "IPY_MODEL_b624c5db468344b58bc6aa776c6f346c",
       "style": "IPY_MODEL_2f685de22c22454d8ac359967460c8a2",
       "tooltip": ""
      }
     },
     "a1dec277c5d142c0a719a91f73f53dcf": {
      "model_module": "@jupyter-widgets/controls",
      "model_module_version": "1.5.0",
      "model_name": "DescriptionStyleModel",
      "state": {
       "_model_module": "@jupyter-widgets/controls",
       "_model_module_version": "1.5.0",
       "_model_name": "DescriptionStyleModel",
       "_view_count": null,
       "_view_module": "@jupyter-widgets/base",
       "_view_module_version": "1.2.0",
       "_view_name": "StyleView",
       "description_width": ""
      }
     },
     "a295e0377b7e408084af75f0e9ffe78f": {
      "model_module": "@jupyter-widgets/base",
      "model_module_version": "1.2.0",
      "model_name": "LayoutModel",
      "state": {
       "_model_module": "@jupyter-widgets/base",
       "_model_module_version": "1.2.0",
       "_model_name": "LayoutModel",
       "_view_count": null,
       "_view_module": "@jupyter-widgets/base",
       "_view_module_version": "1.2.0",
       "_view_name": "LayoutView",
       "align_content": null,
       "align_items": null,
       "align_self": null,
       "border": null,
       "bottom": null,
       "display": null,
       "flex": "2",
       "flex_flow": null,
       "grid_area": null,
       "grid_auto_columns": null,
       "grid_auto_flow": null,
       "grid_auto_rows": null,
       "grid_column": null,
       "grid_gap": null,
       "grid_row": null,
       "grid_template_areas": null,
       "grid_template_columns": null,
       "grid_template_rows": null,
       "height": null,
       "justify_content": null,
       "justify_items": null,
       "left": null,
       "margin": null,
       "max_height": null,
       "max_width": null,
       "min_height": null,
       "min_width": null,
       "object_fit": null,
       "object_position": null,
       "order": null,
       "overflow": null,
       "overflow_x": null,
       "overflow_y": null,
       "padding": null,
       "right": null,
       "top": null,
       "visibility": null,
       "width": null
      }
     },
     "aae6bd2503b54b56a725a6acc403e5fa": {
      "model_module": "@jupyter-widgets/controls",
      "model_module_version": "1.5.0",
      "model_name": "ProgressStyleModel",
      "state": {
       "_model_module": "@jupyter-widgets/controls",
       "_model_module_version": "1.5.0",
       "_model_name": "ProgressStyleModel",
       "_view_count": null,
       "_view_module": "@jupyter-widgets/base",
       "_view_module_version": "1.2.0",
       "_view_name": "StyleView",
       "bar_color": null,
       "description_width": "initial"
      }
     },
     "abb7e8dac69341168bb376950940411c": {
      "model_module": "@jupyter-widgets/controls",
      "model_module_version": "1.5.0",
      "model_name": "ButtonModel",
      "state": {
       "_dom_classes": [],
       "_model_module": "@jupyter-widgets/controls",
       "_model_module_version": "1.5.0",
       "_model_name": "ButtonModel",
       "_view_count": null,
       "_view_module": "@jupyter-widgets/controls",
       "_view_module_version": "1.5.0",
       "_view_name": "ButtonView",
       "button_style": "",
       "description": "50.0%",
       "disabled": false,
       "icon": "",
       "layout": "IPY_MODEL_557d0c4420f9424aa49bb55e1d3688e5",
       "style": "IPY_MODEL_6dabafab9edb4dc59a66a11661bed7a6",
       "tooltip": ""
      }
     },
     "abb7f594cf3c4ff890e50f5b7213b813": {
      "model_module": "@jupyter-widgets/controls",
      "model_module_version": "1.5.0",
      "model_name": "ButtonModel",
      "state": {
       "_dom_classes": [],
       "_model_module": "@jupyter-widgets/controls",
       "_model_module_version": "1.5.0",
       "_model_name": "ButtonModel",
       "_view_count": null,
       "_view_module": "@jupyter-widgets/controls",
       "_view_module_version": "1.5.0",
       "_view_name": "ButtonView",
       "button_style": "",
       "description": "cartpole",
       "disabled": false,
       "icon": "",
       "layout": "IPY_MODEL_1a133c2dcecd415199320620653cd731",
       "style": "IPY_MODEL_7acc5a9430834923bb413600a1ff4a3f",
       "tooltip": ""
      }
     },
     "aea7f58f513b4604b90af5377819ad9c": {
      "model_module": "@jupyter-widgets/controls",
      "model_module_version": "1.5.0",
      "model_name": "ButtonStyleModel",
      "state": {
       "_model_module": "@jupyter-widgets/controls",
       "_model_module_version": "1.5.0",
       "_model_name": "ButtonStyleModel",
       "_view_count": null,
       "_view_module": "@jupyter-widgets/base",
       "_view_module_version": "1.2.0",
       "_view_name": "StyleView",
       "button_color": null,
       "font_weight": ""
      }
     },
     "af90bf837dca4751a3ffd777ff142b79": {
      "model_module": "@jupyter-widgets/base",
      "model_module_version": "1.2.0",
      "model_name": "LayoutModel",
      "state": {
       "_model_module": "@jupyter-widgets/base",
       "_model_module_version": "1.2.0",
       "_model_name": "LayoutModel",
       "_view_count": null,
       "_view_module": "@jupyter-widgets/base",
       "_view_module_version": "1.2.0",
       "_view_name": "LayoutView",
       "align_content": null,
       "align_items": null,
       "align_self": null,
       "border": null,
       "bottom": null,
       "display": null,
       "flex": null,
       "flex_flow": null,
       "grid_area": null,
       "grid_auto_columns": null,
       "grid_auto_flow": null,
       "grid_auto_rows": null,
       "grid_column": null,
       "grid_gap": null,
       "grid_row": null,
       "grid_template_areas": null,
       "grid_template_columns": null,
       "grid_template_rows": null,
       "height": null,
       "justify_content": null,
       "justify_items": null,
       "left": null,
       "margin": null,
       "max_height": null,
       "max_width": null,
       "min_height": null,
       "min_width": null,
       "object_fit": null,
       "object_position": null,
       "order": null,
       "overflow": null,
       "overflow_x": null,
       "overflow_y": null,
       "padding": null,
       "right": null,
       "top": null,
       "visibility": null,
       "width": null
      }
     },
     "afdbd60d068942918dfa1ca61d5d69f7": {
      "model_module": "@jupyter-widgets/base",
      "model_module_version": "1.2.0",
      "model_name": "LayoutModel",
      "state": {
       "_model_module": "@jupyter-widgets/base",
       "_model_module_version": "1.2.0",
       "_model_name": "LayoutModel",
       "_view_count": null,
       "_view_module": "@jupyter-widgets/base",
       "_view_module_version": "1.2.0",
       "_view_name": "LayoutView",
       "align_content": null,
       "align_items": null,
       "align_self": null,
       "border": null,
       "bottom": null,
       "display": null,
       "flex": null,
       "flex_flow": null,
       "grid_area": null,
       "grid_auto_columns": null,
       "grid_auto_flow": null,
       "grid_auto_rows": null,
       "grid_column": null,
       "grid_gap": null,
       "grid_row": null,
       "grid_template_areas": null,
       "grid_template_columns": null,
       "grid_template_rows": null,
       "height": null,
       "justify_content": null,
       "justify_items": null,
       "left": null,
       "margin": null,
       "max_height": null,
       "max_width": null,
       "min_height": null,
       "min_width": null,
       "object_fit": null,
       "object_position": null,
       "order": null,
       "overflow": null,
       "overflow_x": null,
       "overflow_y": null,
       "padding": null,
       "right": null,
       "top": null,
       "visibility": null,
       "width": null
      }
     },
     "b5ac0abe0f2b4b129a1d9be83441552d": {
      "model_module": "@jupyter-widgets/controls",
      "model_module_version": "1.5.0",
      "model_name": "ButtonModel",
      "state": {
       "_dom_classes": [],
       "_model_module": "@jupyter-widgets/controls",
       "_model_module_version": "1.5.0",
       "_model_name": "ButtonModel",
       "_view_count": null,
       "_view_module": "@jupyter-widgets/controls",
       "_view_module_version": "1.5.0",
       "_view_name": "ButtonView",
       "button_style": "",
       "description": "50.0%",
       "disabled": false,
       "icon": "",
       "layout": "IPY_MODEL_956dbe20644a4d519999873dca5ac2fd",
       "style": "IPY_MODEL_03395bb83ded4fe4a8a7e32a4d025fac",
       "tooltip": ""
      }
     },
     "b624c5db468344b58bc6aa776c6f346c": {
      "model_module": "@jupyter-widgets/base",
      "model_module_version": "1.2.0",
      "model_name": "LayoutModel",
      "state": {
       "_model_module": "@jupyter-widgets/base",
       "_model_module_version": "1.2.0",
       "_model_name": "LayoutModel",
       "_view_count": null,
       "_view_module": "@jupyter-widgets/base",
       "_view_module_version": "1.2.0",
       "_view_name": "LayoutView",
       "align_content": null,
       "align_items": null,
       "align_self": null,
       "border": null,
       "bottom": null,
       "display": null,
       "flex": null,
       "flex_flow": null,
       "grid_area": null,
       "grid_auto_columns": null,
       "grid_auto_flow": null,
       "grid_auto_rows": null,
       "grid_column": null,
       "grid_gap": null,
       "grid_row": null,
       "grid_template_areas": null,
       "grid_template_columns": null,
       "grid_template_rows": null,
       "height": null,
       "justify_content": null,
       "justify_items": null,
       "left": null,
       "margin": null,
       "max_height": null,
       "max_width": null,
       "min_height": null,
       "min_width": null,
       "object_fit": null,
       "object_position": null,
       "order": null,
       "overflow": null,
       "overflow_x": null,
       "overflow_y": null,
       "padding": null,
       "right": null,
       "top": null,
       "visibility": null,
       "width": null
      }
     },
     "b8865b0735474ddd8c5b487add496ceb": {
      "model_module": "@jupyter-widgets/base",
      "model_module_version": "1.2.0",
      "model_name": "LayoutModel",
      "state": {
       "_model_module": "@jupyter-widgets/base",
       "_model_module_version": "1.2.0",
       "_model_name": "LayoutModel",
       "_view_count": null,
       "_view_module": "@jupyter-widgets/base",
       "_view_module_version": "1.2.0",
       "_view_name": "LayoutView",
       "align_content": null,
       "align_items": null,
       "align_self": null,
       "border": null,
       "bottom": null,
       "display": null,
       "flex": null,
       "flex_flow": null,
       "grid_area": null,
       "grid_auto_columns": null,
       "grid_auto_flow": null,
       "grid_auto_rows": null,
       "grid_column": null,
       "grid_gap": null,
       "grid_row": null,
       "grid_template_areas": null,
       "grid_template_columns": null,
       "grid_template_rows": null,
       "height": null,
       "justify_content": null,
       "justify_items": null,
       "left": null,
       "margin": null,
       "max_height": null,
       "max_width": null,
       "min_height": null,
       "min_width": null,
       "object_fit": null,
       "object_position": null,
       "order": null,
       "overflow": null,
       "overflow_x": null,
       "overflow_y": null,
       "padding": null,
       "right": null,
       "top": null,
       "visibility": null,
       "width": null
      }
     },
     "b8c3347aa1a2406f8fdfcd23a8fd056c": {
      "model_module": "@jupyter-widgets/controls",
      "model_module_version": "1.5.0",
      "model_name": "ButtonModel",
      "state": {
       "_dom_classes": [],
       "_model_module": "@jupyter-widgets/controls",
       "_model_module_version": "1.5.0",
       "_model_name": "ButtonModel",
       "_view_count": null,
       "_view_module": "@jupyter-widgets/controls",
       "_view_module_version": "1.5.0",
       "_view_name": "ButtonView",
       "button_style": "",
       "description": "25.0%",
       "disabled": false,
       "icon": "",
       "layout": "IPY_MODEL_7325c2a283274b15926b3d1c4f9ec9a1",
       "style": "IPY_MODEL_11953ae381ab43cbb2a63c624397a5b2",
       "tooltip": ""
      }
     },
     "bf88c8d1f7f94cf491ab243012da0e20": {
      "model_module": "@jupyter-widgets/controls",
      "model_module_version": "1.5.0",
      "model_name": "ButtonStyleModel",
      "state": {
       "_model_module": "@jupyter-widgets/controls",
       "_model_module_version": "1.5.0",
       "_model_name": "ButtonStyleModel",
       "_view_count": null,
       "_view_module": "@jupyter-widgets/base",
       "_view_module_version": "1.2.0",
       "_view_name": "StyleView",
       "button_color": null,
       "font_weight": ""
      }
     },
     "c4efca2baa3b46e882e0d77fc9c590cc": {
      "model_module": "@jupyter-widgets/base",
      "model_module_version": "1.2.0",
      "model_name": "LayoutModel",
      "state": {
       "_model_module": "@jupyter-widgets/base",
       "_model_module_version": "1.2.0",
       "_model_name": "LayoutModel",
       "_view_count": null,
       "_view_module": "@jupyter-widgets/base",
       "_view_module_version": "1.2.0",
       "_view_name": "LayoutView",
       "align_content": null,
       "align_items": null,
       "align_self": null,
       "border": null,
       "bottom": null,
       "display": null,
       "flex": null,
       "flex_flow": null,
       "grid_area": null,
       "grid_auto_columns": null,
       "grid_auto_flow": null,
       "grid_auto_rows": null,
       "grid_column": null,
       "grid_gap": null,
       "grid_row": null,
       "grid_template_areas": null,
       "grid_template_columns": null,
       "grid_template_rows": null,
       "height": null,
       "justify_content": null,
       "justify_items": null,
       "left": null,
       "margin": null,
       "max_height": null,
       "max_width": null,
       "min_height": null,
       "min_width": null,
       "object_fit": null,
       "object_position": null,
       "order": null,
       "overflow": null,
       "overflow_x": null,
       "overflow_y": null,
       "padding": null,
       "right": null,
       "top": null,
       "visibility": null,
       "width": null
      }
     },
     "d0e8a40ea4e7412aa310416965883c13": {
      "model_module": "@jupyter-widgets/controls",
      "model_module_version": "1.5.0",
      "model_name": "ButtonStyleModel",
      "state": {
       "_model_module": "@jupyter-widgets/controls",
       "_model_module_version": "1.5.0",
       "_model_name": "ButtonStyleModel",
       "_view_count": null,
       "_view_module": "@jupyter-widgets/base",
       "_view_module_version": "1.2.0",
       "_view_name": "StyleView",
       "button_color": null,
       "font_weight": ""
      }
     },
     "d1b4ce169da543bf9af10ba28a4ec5d0": {
      "model_module": "@jupyter-widgets/base",
      "model_module_version": "1.2.0",
      "model_name": "LayoutModel",
      "state": {
       "_model_module": "@jupyter-widgets/base",
       "_model_module_version": "1.2.0",
       "_model_name": "LayoutModel",
       "_view_count": null,
       "_view_module": "@jupyter-widgets/base",
       "_view_module_version": "1.2.0",
       "_view_name": "LayoutView",
       "align_content": null,
       "align_items": null,
       "align_self": null,
       "border": null,
       "bottom": null,
       "display": null,
       "flex": null,
       "flex_flow": null,
       "grid_area": null,
       "grid_auto_columns": null,
       "grid_auto_flow": null,
       "grid_auto_rows": null,
       "grid_column": null,
       "grid_gap": null,
       "grid_row": null,
       "grid_template_areas": null,
       "grid_template_columns": null,
       "grid_template_rows": null,
       "height": null,
       "justify_content": null,
       "justify_items": null,
       "left": null,
       "margin": null,
       "max_height": null,
       "max_width": null,
       "min_height": null,
       "min_width": null,
       "object_fit": null,
       "object_position": null,
       "order": null,
       "overflow": null,
       "overflow_x": null,
       "overflow_y": null,
       "padding": null,
       "right": null,
       "top": null,
       "visibility": null,
       "width": null
      }
     },
     "d59c4af19d9d40ba90ef59c0343c9d43": {
      "model_module": "@jupyter-widgets/base",
      "model_module_version": "1.2.0",
      "model_name": "LayoutModel",
      "state": {
       "_model_module": "@jupyter-widgets/base",
       "_model_module_version": "1.2.0",
       "_model_name": "LayoutModel",
       "_view_count": null,
       "_view_module": "@jupyter-widgets/base",
       "_view_module_version": "1.2.0",
       "_view_name": "LayoutView",
       "align_content": null,
       "align_items": null,
       "align_self": null,
       "border": null,
       "bottom": null,
       "display": null,
       "flex": null,
       "flex_flow": null,
       "grid_area": null,
       "grid_auto_columns": null,
       "grid_auto_flow": null,
       "grid_auto_rows": null,
       "grid_column": null,
       "grid_gap": null,
       "grid_row": null,
       "grid_template_areas": null,
       "grid_template_columns": null,
       "grid_template_rows": null,
       "height": null,
       "justify_content": null,
       "justify_items": null,
       "left": null,
       "margin": null,
       "max_height": null,
       "max_width": null,
       "min_height": null,
       "min_width": null,
       "object_fit": null,
       "object_position": null,
       "order": null,
       "overflow": null,
       "overflow_x": null,
       "overflow_y": null,
       "padding": null,
       "right": null,
       "top": null,
       "visibility": null,
       "width": null
      }
     },
     "d62bc173a31b48b5968b6b5bc655e1ab": {
      "model_module": "@jupyter-widgets/controls",
      "model_module_version": "1.5.0",
      "model_name": "ButtonStyleModel",
      "state": {
       "_model_module": "@jupyter-widgets/controls",
       "_model_module_version": "1.5.0",
       "_model_name": "ButtonStyleModel",
       "_view_count": null,
       "_view_module": "@jupyter-widgets/base",
       "_view_module_version": "1.2.0",
       "_view_name": "StyleView",
       "button_color": null,
       "font_weight": ""
      }
     },
     "d7795268bee448098d98a15407017057": {
      "model_module": "@jupyter-widgets/base",
      "model_module_version": "1.2.0",
      "model_name": "LayoutModel",
      "state": {
       "_model_module": "@jupyter-widgets/base",
       "_model_module_version": "1.2.0",
       "_model_name": "LayoutModel",
       "_view_count": null,
       "_view_module": "@jupyter-widgets/base",
       "_view_module_version": "1.2.0",
       "_view_name": "LayoutView",
       "align_content": null,
       "align_items": null,
       "align_self": null,
       "border": null,
       "bottom": null,
       "display": null,
       "flex": null,
       "flex_flow": null,
       "grid_area": null,
       "grid_auto_columns": null,
       "grid_auto_flow": null,
       "grid_auto_rows": null,
       "grid_column": null,
       "grid_gap": null,
       "grid_row": null,
       "grid_template_areas": null,
       "grid_template_columns": null,
       "grid_template_rows": null,
       "height": null,
       "justify_content": null,
       "justify_items": null,
       "left": null,
       "margin": null,
       "max_height": null,
       "max_width": null,
       "min_height": null,
       "min_width": null,
       "object_fit": null,
       "object_position": null,
       "order": null,
       "overflow": null,
       "overflow_x": null,
       "overflow_y": null,
       "padding": null,
       "right": null,
       "top": null,
       "visibility": null,
       "width": null
      }
     },
     "d7c0edddb1e54345970d8666680694fb": {
      "model_module": "@jupyter-widgets/controls",
      "model_module_version": "1.5.0",
      "model_name": "ButtonStyleModel",
      "state": {
       "_model_module": "@jupyter-widgets/controls",
       "_model_module_version": "1.5.0",
       "_model_name": "ButtonStyleModel",
       "_view_count": null,
       "_view_module": "@jupyter-widgets/base",
       "_view_module_version": "1.2.0",
       "_view_name": "StyleView",
       "button_color": null,
       "font_weight": ""
      }
     },
     "d7cdd3b5f5d1424b94ca33ad1fd0b800": {
      "model_module": "@jupyter-widgets/controls",
      "model_module_version": "1.5.0",
      "model_name": "ButtonStyleModel",
      "state": {
       "_model_module": "@jupyter-widgets/controls",
       "_model_module_version": "1.5.0",
       "_model_name": "ButtonStyleModel",
       "_view_count": null,
       "_view_module": "@jupyter-widgets/base",
       "_view_module_version": "1.2.0",
       "_view_name": "StyleView",
       "button_color": null,
       "font_weight": ""
      }
     },
     "d979c87c55fe464185f3dae6f320cd1c": {
      "model_module": "@jupyter-widgets/base",
      "model_module_version": "1.2.0",
      "model_name": "LayoutModel",
      "state": {
       "_model_module": "@jupyter-widgets/base",
       "_model_module_version": "1.2.0",
       "_model_name": "LayoutModel",
       "_view_count": null,
       "_view_module": "@jupyter-widgets/base",
       "_view_module_version": "1.2.0",
       "_view_name": "LayoutView",
       "align_content": null,
       "align_items": null,
       "align_self": null,
       "border": null,
       "bottom": null,
       "display": null,
       "flex": null,
       "flex_flow": null,
       "grid_area": null,
       "grid_auto_columns": null,
       "grid_auto_flow": null,
       "grid_auto_rows": null,
       "grid_column": null,
       "grid_gap": null,
       "grid_row": null,
       "grid_template_areas": null,
       "grid_template_columns": null,
       "grid_template_rows": null,
       "height": null,
       "justify_content": null,
       "justify_items": null,
       "left": null,
       "margin": null,
       "max_height": null,
       "max_width": null,
       "min_height": null,
       "min_width": null,
       "object_fit": null,
       "object_position": null,
       "order": null,
       "overflow": null,
       "overflow_x": null,
       "overflow_y": null,
       "padding": null,
       "right": null,
       "top": null,
       "visibility": null,
       "width": null
      }
     },
     "dab27813b5f54b829172f03dd4dfc722": {
      "model_module": "@jupyter-widgets/base",
      "model_module_version": "1.2.0",
      "model_name": "LayoutModel",
      "state": {
       "_model_module": "@jupyter-widgets/base",
       "_model_module_version": "1.2.0",
       "_model_name": "LayoutModel",
       "_view_count": null,
       "_view_module": "@jupyter-widgets/base",
       "_view_module_version": "1.2.0",
       "_view_name": "LayoutView",
       "align_content": null,
       "align_items": null,
       "align_self": null,
       "border": null,
       "bottom": null,
       "display": null,
       "flex": null,
       "flex_flow": null,
       "grid_area": null,
       "grid_auto_columns": null,
       "grid_auto_flow": null,
       "grid_auto_rows": null,
       "grid_column": null,
       "grid_gap": null,
       "grid_row": null,
       "grid_template_areas": null,
       "grid_template_columns": null,
       "grid_template_rows": null,
       "height": null,
       "justify_content": null,
       "justify_items": null,
       "left": null,
       "margin": null,
       "max_height": null,
       "max_width": null,
       "min_height": null,
       "min_width": null,
       "object_fit": null,
       "object_position": null,
       "order": null,
       "overflow": null,
       "overflow_x": null,
       "overflow_y": null,
       "padding": null,
       "right": null,
       "top": null,
       "visibility": null,
       "width": null
      }
     },
     "dcc72758ee124a88844993dfd2a5cc88": {
      "model_module": "@jupyter-widgets/base",
      "model_module_version": "1.2.0",
      "model_name": "LayoutModel",
      "state": {
       "_model_module": "@jupyter-widgets/base",
       "_model_module_version": "1.2.0",
       "_model_name": "LayoutModel",
       "_view_count": null,
       "_view_module": "@jupyter-widgets/base",
       "_view_module_version": "1.2.0",
       "_view_name": "LayoutView",
       "align_content": null,
       "align_items": null,
       "align_self": null,
       "border": null,
       "bottom": null,
       "display": null,
       "flex": null,
       "flex_flow": null,
       "grid_area": null,
       "grid_auto_columns": null,
       "grid_auto_flow": null,
       "grid_auto_rows": null,
       "grid_column": null,
       "grid_gap": null,
       "grid_row": null,
       "grid_template_areas": null,
       "grid_template_columns": null,
       "grid_template_rows": null,
       "height": null,
       "justify_content": null,
       "justify_items": null,
       "left": null,
       "margin": null,
       "max_height": null,
       "max_width": null,
       "min_height": null,
       "min_width": null,
       "object_fit": null,
       "object_position": null,
       "order": null,
       "overflow": null,
       "overflow_x": null,
       "overflow_y": null,
       "padding": null,
       "right": null,
       "top": null,
       "visibility": null,
       "width": null
      }
     },
     "dd74806209c84abeb4cabad05fc9ac7d": {
      "model_module": "@jupyter-widgets/controls",
      "model_module_version": "1.5.0",
      "model_name": "HTMLModel",
      "state": {
       "_dom_classes": [],
       "_model_module": "@jupyter-widgets/controls",
       "_model_module_version": "1.5.0",
       "_model_name": "HTMLModel",
       "_view_count": null,
       "_view_module": "@jupyter-widgets/controls",
       "_view_module_version": "1.5.0",
       "_view_name": "HTMLView",
       "description": "",
       "description_tooltip": null,
       "layout": "IPY_MODEL_3b4687c409c94199b19535c09d9c788c",
       "placeholder": "​",
       "style": "IPY_MODEL_41225be4361a4933b7ab31b0fa1d66b8",
       "value": " 1500000/1500000 [56:28&lt;00:00, 442.71it/s]"
      }
     },
     "ddc7e6d2ad7f46afa34a256c321163e9": {
      "model_module": "@jupyter-widgets/controls",
      "model_module_version": "1.5.0",
      "model_name": "HBoxModel",
      "state": {
       "_dom_classes": [],
       "_model_module": "@jupyter-widgets/controls",
       "_model_module_version": "1.5.0",
       "_model_name": "HBoxModel",
       "_view_count": null,
       "_view_module": "@jupyter-widgets/controls",
       "_view_module_version": "1.5.0",
       "_view_name": "HBoxView",
       "box_style": "",
       "children": [
        "IPY_MODEL_85c9d8a1cc9c47e1b3f241dc6e8bb0da",
        "IPY_MODEL_172dc13ded6742ddb4e34cfdfc0ce1be"
       ],
       "layout": "IPY_MODEL_1bc404ec873e4c9c833a621b13534041"
      }
     },
     "e0e8344720544fed9d0e851fea96f5a8": {
      "model_module": "@jupyter-widgets/controls",
      "model_module_version": "1.5.0",
      "model_name": "ButtonModel",
      "state": {
       "_dom_classes": [],
       "_model_module": "@jupyter-widgets/controls",
       "_model_module_version": "1.5.0",
       "_model_name": "ButtonModel",
       "_view_count": null,
       "_view_module": "@jupyter-widgets/controls",
       "_view_module_version": "1.5.0",
       "_view_name": "ButtonView",
       "button_style": "",
       "description": "50.0%",
       "disabled": false,
       "icon": "",
       "layout": "IPY_MODEL_14ebdb0dcf824679842134ecf1f5411c",
       "style": "IPY_MODEL_63f83b039f1641eb95ebae8ca471cd30",
       "tooltip": ""
      }
     },
     "eabfb1a659d84a2f84a88ead7d4de805": {
      "model_module": "@jupyter-widgets/base",
      "model_module_version": "1.2.0",
      "model_name": "LayoutModel",
      "state": {
       "_model_module": "@jupyter-widgets/base",
       "_model_module_version": "1.2.0",
       "_model_name": "LayoutModel",
       "_view_count": null,
       "_view_module": "@jupyter-widgets/base",
       "_view_module_version": "1.2.0",
       "_view_name": "LayoutView",
       "align_content": null,
       "align_items": null,
       "align_self": null,
       "border": null,
       "bottom": null,
       "display": "inline-flex",
       "flex": null,
       "flex_flow": "row wrap",
       "grid_area": null,
       "grid_auto_columns": null,
       "grid_auto_flow": null,
       "grid_auto_rows": null,
       "grid_column": null,
       "grid_gap": null,
       "grid_row": null,
       "grid_template_areas": null,
       "grid_template_columns": null,
       "grid_template_rows": null,
       "height": null,
       "justify_content": null,
       "justify_items": null,
       "left": null,
       "margin": null,
       "max_height": null,
       "max_width": null,
       "min_height": null,
       "min_width": null,
       "object_fit": null,
       "object_position": null,
       "order": null,
       "overflow": null,
       "overflow_x": null,
       "overflow_y": null,
       "padding": null,
       "right": null,
       "top": null,
       "visibility": null,
       "width": "100%"
      }
     },
     "f0405f22aee4490c828cf20d465d5805": {
      "model_module": "@jupyter-widgets/controls",
      "model_module_version": "1.5.0",
      "model_name": "HTMLModel",
      "state": {
       "_dom_classes": [],
       "_model_module": "@jupyter-widgets/controls",
       "_model_module_version": "1.5.0",
       "_model_name": "HTMLModel",
       "_view_count": null,
       "_view_module": "@jupyter-widgets/controls",
       "_view_module_version": "1.5.0",
       "_view_name": "HTMLView",
       "description": "",
       "description_tooltip": null,
       "layout": "IPY_MODEL_d59c4af19d9d40ba90ef59c0343c9d43",
       "placeholder": "​",
       "style": "IPY_MODEL_a1dec277c5d142c0a719a91f73f53dcf",
       "value": " 1500000/1500000 [42:45&lt;00:00, 584.77it/s]"
      }
     },
     "f2e3fc3956b84ba3a5e32565bf1b7131": {
      "model_module": "@jupyter-widgets/controls",
      "model_module_version": "1.5.0",
      "model_name": "ButtonStyleModel",
      "state": {
       "_model_module": "@jupyter-widgets/controls",
       "_model_module_version": "1.5.0",
       "_model_name": "ButtonStyleModel",
       "_view_count": null,
       "_view_module": "@jupyter-widgets/base",
       "_view_module_version": "1.2.0",
       "_view_name": "StyleView",
       "button_color": null,
       "font_weight": ""
      }
     },
     "f46ee6d99efa49c38be7cf818453d0b5": {
      "model_module": "@jupyter-widgets/base",
      "model_module_version": "1.2.0",
      "model_name": "LayoutModel",
      "state": {
       "_model_module": "@jupyter-widgets/base",
       "_model_module_version": "1.2.0",
       "_model_name": "LayoutModel",
       "_view_count": null,
       "_view_module": "@jupyter-widgets/base",
       "_view_module_version": "1.2.0",
       "_view_name": "LayoutView",
       "align_content": null,
       "align_items": null,
       "align_self": null,
       "border": null,
       "bottom": null,
       "display": null,
       "flex": null,
       "flex_flow": null,
       "grid_area": null,
       "grid_auto_columns": null,
       "grid_auto_flow": null,
       "grid_auto_rows": null,
       "grid_column": null,
       "grid_gap": null,
       "grid_row": null,
       "grid_template_areas": null,
       "grid_template_columns": null,
       "grid_template_rows": null,
       "height": null,
       "justify_content": null,
       "justify_items": null,
       "left": null,
       "margin": null,
       "max_height": null,
       "max_width": null,
       "min_height": null,
       "min_width": null,
       "object_fit": null,
       "object_position": null,
       "order": null,
       "overflow": null,
       "overflow_x": null,
       "overflow_y": null,
       "padding": null,
       "right": null,
       "top": null,
       "visibility": null,
       "width": null
      }
     },
     "f5e819b37b364128ae18a69acd92b4a4": {
      "model_module": "@jupyter-widgets/controls",
      "model_module_version": "1.5.0",
      "model_name": "HBoxModel",
      "state": {
       "_dom_classes": [],
       "_model_module": "@jupyter-widgets/controls",
       "_model_module_version": "1.5.0",
       "_model_name": "HBoxModel",
       "_view_count": null,
       "_view_module": "@jupyter-widgets/controls",
       "_view_module_version": "1.5.0",
       "_view_name": "HBoxView",
       "box_style": "",
       "children": [
        "IPY_MODEL_108f2a4bbfce4e698decd627e22be82b",
        "IPY_MODEL_61904b27b4fb41c080cc21838f649957",
        "IPY_MODEL_abb7e8dac69341168bb376950940411c",
        "IPY_MODEL_876c5a024d5f49b18848e83c503ad2a0",
        "IPY_MODEL_75f57fee0df54696a62b993b89ad76b2"
       ],
       "layout": "IPY_MODEL_93fc0fba49d34d47aa0e743002b956fb"
      }
     },
     "f6ab563953894ea99c96769e0d9b8da8": {
      "model_module": "@jupyter-widgets/base",
      "model_module_version": "1.2.0",
      "model_name": "LayoutModel",
      "state": {
       "_model_module": "@jupyter-widgets/base",
       "_model_module_version": "1.2.0",
       "_model_name": "LayoutModel",
       "_view_count": null,
       "_view_module": "@jupyter-widgets/base",
       "_view_module_version": "1.2.0",
       "_view_name": "LayoutView",
       "align_content": null,
       "align_items": null,
       "align_self": null,
       "border": null,
       "bottom": null,
       "display": null,
       "flex": null,
       "flex_flow": null,
       "grid_area": null,
       "grid_auto_columns": null,
       "grid_auto_flow": null,
       "grid_auto_rows": null,
       "grid_column": null,
       "grid_gap": null,
       "grid_row": null,
       "grid_template_areas": null,
       "grid_template_columns": null,
       "grid_template_rows": null,
       "height": null,
       "justify_content": null,
       "justify_items": null,
       "left": null,
       "margin": null,
       "max_height": null,
       "max_width": null,
       "min_height": null,
       "min_width": null,
       "object_fit": null,
       "object_position": null,
       "order": null,
       "overflow": null,
       "overflow_x": null,
       "overflow_y": null,
       "padding": null,
       "right": null,
       "top": null,
       "visibility": null,
       "width": null
      }
     },
     "fa0f91f254cb4e9ab548d1972bf8140c": {
      "model_module": "@jupyter-widgets/base",
      "model_module_version": "1.2.0",
      "model_name": "LayoutModel",
      "state": {
       "_model_module": "@jupyter-widgets/base",
       "_model_module_version": "1.2.0",
       "_model_name": "LayoutModel",
       "_view_count": null,
       "_view_module": "@jupyter-widgets/base",
       "_view_module_version": "1.2.0",
       "_view_name": "LayoutView",
       "align_content": null,
       "align_items": null,
       "align_self": null,
       "border": null,
       "bottom": null,
       "display": null,
       "flex": null,
       "flex_flow": null,
       "grid_area": null,
       "grid_auto_columns": null,
       "grid_auto_flow": null,
       "grid_auto_rows": null,
       "grid_column": null,
       "grid_gap": null,
       "grid_row": null,
       "grid_template_areas": null,
       "grid_template_columns": null,
       "grid_template_rows": null,
       "height": null,
       "justify_content": null,
       "justify_items": null,
       "left": null,
       "margin": null,
       "max_height": null,
       "max_width": null,
       "min_height": null,
       "min_width": null,
       "object_fit": null,
       "object_position": null,
       "order": null,
       "overflow": null,
       "overflow_x": null,
       "overflow_y": null,
       "padding": null,
       "right": null,
       "top": null,
       "visibility": null,
       "width": null
      }
     },
     "fbc5f200d0b34a88bfb12ca4ad37dee4": {
      "model_module": "@jupyter-widgets/controls",
      "model_module_version": "1.5.0",
      "model_name": "ProgressStyleModel",
      "state": {
       "_model_module": "@jupyter-widgets/controls",
       "_model_module_version": "1.5.0",
       "_model_name": "ProgressStyleModel",
       "_view_count": null,
       "_view_module": "@jupyter-widgets/base",
       "_view_module_version": "1.2.0",
       "_view_name": "StyleView",
       "bar_color": null,
       "description_width": "initial"
      }
     }
    },
    "version_major": 2,
    "version_minor": 0
   }
  }
 },
 "nbformat": 4,
 "nbformat_minor": 4
}
