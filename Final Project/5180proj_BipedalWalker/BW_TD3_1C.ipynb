{
 "cells": [
  {
   "cell_type": "code",
   "execution_count": 1,
   "metadata": {
    "ExecuteTime": {
     "end_time": "2021-12-06T07:59:40.783026Z",
     "start_time": "2021-12-06T07:59:40.747830Z"
    }
   },
   "outputs": [
    {
     "data": {
      "application/javascript": [
       "IPython.OutputArea.prototype._should_scroll = function(lines) {\n",
       "    return false;\n",
       "}\n"
      ],
      "text/plain": [
       "<IPython.core.display.Javascript object>"
      ]
     },
     "metadata": {},
     "output_type": "display_data"
    }
   ],
   "source": [
    "%%javascript\n",
    "IPython.OutputArea.prototype._should_scroll = function(lines) {\n",
    "    return false;\n",
    "}"
   ]
  },
  {
   "cell_type": "code",
   "execution_count": 2,
   "metadata": {
    "ExecuteTime": {
     "end_time": "2021-12-06T07:59:42.424210Z",
     "start_time": "2021-12-06T07:59:41.648886Z"
    }
   },
   "outputs": [
    {
     "name": "stdout",
     "output_type": "stream",
     "text": [
      "1.8.0\n",
      "True\n"
     ]
    }
   ],
   "source": [
    "import copy\n",
    "import math\n",
    "import os\n",
    "from collections import namedtuple\n",
    "\n",
    "import gym\n",
    "import ipywidgets as widgets\n",
    "import matplotlib.pyplot as plt\n",
    "import more_itertools as mitt\n",
    "\n",
    "import numpy as np\n",
    "import torch\n",
    "import torch.nn as nn\n",
    "import torch.nn.functional as F\n",
    "\n",
    "import tqdm\n",
    "from tqdm import trange\n",
    "import random\n",
    "import time\n",
    "from collections import deque\n",
    "import matplotlib.pyplot as plt\n",
    "\n",
    "plt.style.use('ggplot')\n",
    "plt.rcParams['figure.figsize'] = [12, 4]\n",
    "\n",
    "device = torch.device('cuda' if torch.cuda.is_available() else 'cpu')\n",
    "print(torch.__version__)\n",
    "print(torch.cuda.is_available())"
   ]
  },
  {
   "cell_type": "code",
   "execution_count": 3,
   "metadata": {
    "ExecuteTime": {
     "end_time": "2021-12-06T07:59:43.563938Z",
     "start_time": "2021-12-06T07:59:43.529104Z"
    }
   },
   "outputs": [],
   "source": [
    "env = gym.make('BipedalWalker-v3')\n",
    "env_button = {'BipedalWalker-v3': env}\n",
    "\n",
    "# Set seeds\n",
    "seed = 88\n",
    "env.seed(seed)\n",
    "torch.manual_seed(seed)\n",
    "np.random.seed(seed)"
   ]
  },
  {
   "cell_type": "code",
   "execution_count": 4,
   "metadata": {
    "ExecuteTime": {
     "end_time": "2021-12-06T07:59:44.425757Z",
     "start_time": "2021-12-06T07:59:44.404267Z"
    }
   },
   "outputs": [],
   "source": [
    "# Code based on: CS5180 Homework 6: Deep Q-Networks in Pytorch\n",
    "\n",
    "def render(env, policy=None):\n",
    "    \"\"\"Graphically render an episode using the given policy\n",
    "\n",
    "    :param env:  Gym environment\n",
    "    :param policy:  function which maps state to action.  If None, the random\n",
    "                    policy is used.\n",
    "    \"\"\"\n",
    "\n",
    "    if policy is None:\n",
    "\n",
    "        def policy(s):\n",
    "            return env.action_space.sample()\n",
    "\n",
    "    s = env.reset()\n",
    "    env.render()\n",
    "\n",
    "    while True:\n",
    "        a = policy(s)\n",
    "        s, _, done, _ = env.step(a)\n",
    "        env.render()\n",
    "\n",
    "        if done:\n",
    "            break\n",
    "            \n",
    "    env.close()"
   ]
  },
  {
   "cell_type": "code",
   "execution_count": 5,
   "metadata": {
    "ExecuteTime": {
     "end_time": "2021-12-06T07:59:45.276832Z",
     "start_time": "2021-12-06T07:59:45.240124Z"
    }
   },
   "outputs": [
    {
     "name": "stdout",
     "output_type": "stream",
     "text": [
      "Click a button to run a random policy:\n"
     ]
    },
    {
     "data": {
      "application/vnd.jupyter.widget-view+json": {
       "model_id": "717e706ed4224760959ce54e2b14c4c8",
       "version_major": 2,
       "version_minor": 0
      },
      "text/plain": [
       "HBox(children=(Button(description='BipedalWalker-v3', style=ButtonStyle()),))"
      ]
     },
     "metadata": {},
     "output_type": "display_data"
    }
   ],
   "source": [
    "# Code based on: CS5180 Homework 6: Deep Q-Networks in Pytorch\n",
    "\n",
    "def button_callback(button):\n",
    "    for b in buttons:\n",
    "        b.disabled = True\n",
    "\n",
    "    env = env_button[button.description]\n",
    "    render(env)\n",
    "    env.close()\n",
    "\n",
    "    for b in buttons:\n",
    "        b.disabled = False\n",
    "\n",
    "buttons = []\n",
    "for env_id in env_button.keys():\n",
    "    button = widgets.Button(description=env_id)\n",
    "    button.on_click(button_callback)\n",
    "    buttons.append(button)\n",
    "\n",
    "print('Click a button to run a random policy:')\n",
    "widgets.HBox(buttons)"
   ]
  },
  {
   "cell_type": "code",
   "execution_count": 6,
   "metadata": {
    "ExecuteTime": {
     "end_time": "2021-12-06T07:59:46.194135Z",
     "start_time": "2021-12-06T07:59:46.172361Z"
    }
   },
   "outputs": [],
   "source": [
    "# Code based on: https://github.com/sfujim/TD3/blob/master/OurDDPG.py\n",
    "\n",
    "class Actor(nn.Module):\n",
    "    def __init__(self, s_size, a_size, a_max):\n",
    "        super(Actor, self).__init__()\n",
    "\n",
    "        self.l1 = nn.Linear(s_size, 400)\n",
    "        self.l2 = nn.Linear(400, 300)\n",
    "        self.l3 = nn.Linear(300, a_size)\n",
    "\n",
    "        self.a_max = a_max\n",
    "\n",
    "    def forward(self, x):\n",
    "        x = F.relu(self.l1(x))\n",
    "        x = F.relu(self.l2(x))\n",
    "        x = self.a_max * torch.tanh(self.l3(x)) \n",
    "        \n",
    "        return x\n",
    "    \n",
    "class Critic(nn.Module):\n",
    "    def __init__(self, s_size, a_size):\n",
    "        super(Critic, self).__init__()\n",
    "\n",
    "        self.l1 = nn.Linear(s_size + a_size, 400)\n",
    "        self.l2 = nn.Linear(400, 300)\n",
    "        self.l3 = nn.Linear(300, 1)\n",
    "\n",
    "    def forward(self, x, u):\n",
    "        xu = torch.cat([x, u], 1)\n",
    "        x1 = self.l3(F.relu(self.l2(F.relu(self.l1(xu)))))\n",
    "        \n",
    "        return x1"
   ]
  },
  {
   "cell_type": "code",
   "execution_count": 7,
   "metadata": {
    "ExecuteTime": {
     "end_time": "2021-12-06T08:00:11.113673Z",
     "start_time": "2021-12-06T08:00:11.091598Z"
    }
   },
   "outputs": [],
   "source": [
    "class Buffer(object):\n",
    "    def __init__(self, s_size, a_size, max_size=int(1e6)):\n",
    "        self.max_size = max_size\n",
    "\n",
    "        self.s = torch.empty((max_size, s_size))\n",
    "        self.a = torch.empty((max_size, a_size))\n",
    "        self.n_s = torch.empty((max_size, s_size))\n",
    "        self.r = torch.empty((max_size, 1))\n",
    "        self.done = torch.empty((max_size, 1))\n",
    "        \n",
    "        self.idx = 0\n",
    "        self.size = 0\n",
    "\n",
    "    def add(self, s, a, n_s,  r, done):\n",
    "        \n",
    "        self.s[self.idx] = torch.as_tensor(s).to(device)\n",
    "        self.a[self.idx] = torch.as_tensor(a).to(device)\n",
    "        self.n_s[self.idx] = torch.as_tensor(n_s).to(device)\n",
    "        self.r[self.idx] = torch.as_tensor(r).to(device)\n",
    "        self.done[self.idx] = torch.as_tensor(1 - done).to(device)\n",
    "\n",
    "        self.idx = (self.idx + 1) % self.max_size\n",
    "        self.size = min(self.size + 1, self.max_size)\n",
    "\n",
    "    def sample(self, batch_size):\n",
    "        sample_idx = np.random.randint(0, self.size, size=batch_size)\n",
    "        \n",
    "        s = torch.as_tensor(self.s[sample_idx]).to(device)\n",
    "        a_cpu = torch.as_tensor(self.a[sample_idx])\n",
    "        n_s = torch.as_tensor(self.n_s[sample_idx]).to(device)\n",
    "        r = torch.as_tensor(self.r[sample_idx]).to(device)\n",
    "        done = torch.as_tensor(self.done[sample_idx]).to(device)\n",
    "        \n",
    "        return (s, a_cpu, n_s, r, done)"
   ]
  },
  {
   "cell_type": "code",
   "execution_count": 8,
   "metadata": {
    "ExecuteTime": {
     "end_time": "2021-12-06T08:00:22.229056Z",
     "start_time": "2021-12-06T08:00:22.202145Z"
    }
   },
   "outputs": [],
   "source": [
    "# Code based on: https://github.com/Rafael1s/Deep-Reinforcement-Learning-Algorithms/blob/master/BipedalWalker-TwinDelayed-DDPG%20(TD3)/TwinDelayed.py\n",
    "\n",
    "class DDPG(object): \n",
    "    def __init__(self, s_size, a_size, a_max):\n",
    "        self.actor = Actor(s_size, a_size, a_max).to(device)\n",
    "        self.actor_target = Actor(s_size, a_size, a_max).to(device)\n",
    "        self.actor_optimizer = torch.optim.Adam(self.actor.parameters())\n",
    "\n",
    "        self.critic = Critic(s_size, a_size).to(device)\n",
    "        self.critic_target = Critic(s_size, a_size).to(device)\n",
    "        self.critic_optimizer = torch.optim.Adam(self.critic.parameters())\n",
    "\n",
    "        self.a_max = a_max\n",
    "\n",
    "    def Action(self, s):\n",
    "        s= torch.FloatTensor(s.reshape(1, -1)).to(device)\n",
    "        return self.actor(s).cpu().data.numpy().flatten()\n",
    "\n",
    "    def train(self, buffer, iterations, batch_size=100, discount=0.99, \\\n",
    "              tau=0.005, policy_noise=0.2, noise_clip=0.5, policy_freq=2):\n",
    "        \n",
    "        for it in range(iterations):\n",
    "\n",
    "            # Sample replay buffer\n",
    "            s, a_cpu, n_s, r, done = buffer.sample(batch_size)\n",
    "            a = torch.as_tensor(a_cpu).to(device)\n",
    "            \n",
    "            # Select action according to policy and add clipped noise \n",
    "            noise = torch.FloatTensor(a_cpu).data.normal_(0, policy_noise).to(device)\n",
    "            noise = noise.clamp(-noise_clip, noise_clip)\n",
    "            n_a = (self.actor_target(n_s) + noise).clamp(-self.a_max, self.a_max)\n",
    "\n",
    "            # Compute the target Q valuen_a\n",
    "            target_Q = self.critic_target(n_s, n_a)\n",
    "            target_Q = r + (done * discount * target_Q).detach()\n",
    "\n",
    "            # Get current Q estimates\n",
    "            current_Q1 = self.critic(s, a)\n",
    "\n",
    "            # Compute critic loss\n",
    "            critic_loss = F.mse_loss(current_Q1, target_Q)\n",
    "\n",
    "            # Optimize the critic\n",
    "            self.critic_optimizer.zero_grad()\n",
    "            critic_loss.backward()\n",
    "            self.critic_optimizer.step()\n",
    "\n",
    "            # Delayed policy updates\n",
    "            if it % policy_freq == 0:\n",
    "\n",
    "                # Compute actor loss\n",
    "                actor_loss = -self.critic.forward(s, self.actor(s))[0].mean()\n",
    "                # Optimize the actor \n",
    "                self.actor_optimizer.zero_grad()\n",
    "                actor_loss.backward()\n",
    "                self.actor_optimizer.step()\n",
    "\n",
    "            # Update the frozen target models\n",
    "            for param, target_param in zip(self.critic.parameters(), self.critic_target.parameters()):\n",
    "                target_param.data.copy_(tau * param.data + (1 - tau) * target_param.data)\n",
    "\n",
    "            for param, target_param in zip(self.actor.parameters(), self.actor_target.parameters()):\n",
    "                target_param.data.copy_(tau * param.data + (1 - tau) * target_param.data)\n",
    "    "
   ]
  },
  {
   "cell_type": "code",
   "execution_count": 9,
   "metadata": {},
   "outputs": [],
   "source": [
    "# https://github.com/Rafael1s/Deep-Reinforcement-Learning-Algorithms/blob/master/BipedalWalker-TwinDelayed-DDPG%20(TD3)/BipedalWalker_1795ep_300-5sc_9h44m.ipynb\n",
    "\n",
    "def Train(episodes, save_every=10):\n",
    "    \n",
    "    time_start = time.time() \n",
    "    \n",
    "    T_start = 1e4\n",
    "    T_total = 0\n",
    "    steps = 0\n",
    "    \n",
    "    deq_scores = deque(maxlen=100)\n",
    "    scores = []\n",
    "    Avg_Scores = []    \n",
    "    \n",
    "    a_max = float(env.action_space.high[0])\n",
    "    a_size = env.action_space.shape[0] \n",
    "    s_size = env.observation_space.shape[0]\n",
    "\n",
    "    agent = DDPG(s_size, a_size, a_max)          \n",
    "    buffer = Buffer(s_size, a_size)   \n",
    "            \n",
    "    for i in trange(1, episodes + 1):\n",
    "        \n",
    "        timestep = 0\n",
    "        timestep_max = env._max_episode_steps\n",
    "        \n",
    "        R = 0\n",
    "        s = env.reset()\n",
    "        \n",
    "        while True:\n",
    "            if T_total < T_start:\n",
    "                a = env.action_space.sample()\n",
    "                \n",
    "            else:\n",
    "                a = agent.Action(np.array(s)) + np.random.normal(0, 0.1, size = a_size)\n",
    "                a = (a).clip(env.action_space.low, env.action_space.high)\n",
    "\n",
    "            n_s, r, done, _ = env.step(a)\n",
    "            \n",
    "            timestep += 1\n",
    "            T_total += 1\n",
    "            steps += 1\n",
    "            \n",
    "            R += r\n",
    "            done_ = done\n",
    "            \n",
    "            if timestep == timestep_max:\n",
    "                done_ = 0 \n",
    " \n",
    "            buffer.add(s, a, n_s, r, done_)\n",
    "            s = n_s\n",
    "\n",
    "            if done:                                       \n",
    "                break                                     \n",
    "\n",
    "        deq_scores.append(R)\n",
    "        scores.append(R)\n",
    "\n",
    "        avg_score = np.mean(deq_scores)\n",
    "        Avg_Scores.append(avg_score)\n",
    "        \n",
    "        s = (int)(time.time() - time_start)\n",
    "        print('Ep. {}, Timestep {},  Ep.Timesteps {}, Score: {:.2f}, Avg.Score: {:.2f}, Time: {:02}:{:02}:{:02} '\\\n",
    "                .format(i, T_total, timestep, \\\n",
    "                        R, avg_score, s//3600, s%3600//60, s%60))     \n",
    "\n",
    "        agent.train(buffer, timestep)\n",
    "        \n",
    "        if len(deq_scores) == 100 and np.mean(deq_scores) >= 300.5:\n",
    "            print('Environment solved with Average Score: ',  np.mean(deq_scores) )\n",
    "            break \n",
    "\n",
    "    return scores, Avg_Scores"
   ]
  },
  {
   "cell_type": "code",
   "execution_count": null,
   "metadata": {
    "tags": []
   },
   "outputs": [
    {
     "name": "stderr",
     "output_type": "stream",
     "text": [
      "  0%|          | 0/2000 [00:00<?, ?it/s]"
     ]
    },
    {
     "name": "stdout",
     "output_type": "stream",
     "text": [
      "Ep. 1, Timestep 72,  Ep.Timesteps 72, Score: -116.28, Avg.Score: -116.28, Time: 00:00:03 \n"
     ]
    },
    {
     "name": "stderr",
     "output_type": "stream",
     "text": [
      "  0%|          | 1/2000 [00:01<40:41,  1.22s/it]"
     ]
    },
    {
     "name": "stdout",
     "output_type": "stream",
     "text": [
      "Ep. 2, Timestep 143,  Ep.Timesteps 71, Score: -104.45, Avg.Score: -110.37, Time: 00:00:04 \n"
     ]
    },
    {
     "name": "stderr",
     "output_type": "stream",
     "text": [
      "  0%|          | 2/2000 [00:01<31:11,  1.07it/s]"
     ]
    },
    {
     "name": "stdout",
     "output_type": "stream",
     "text": [
      "Ep. 3, Timestep 192,  Ep.Timesteps 49, Score: -109.07, Avg.Score: -109.93, Time: 00:00:05 \n"
     ]
    },
    {
     "name": "stderr",
     "output_type": "stream",
     "text": [
      "  0%|          | 3/2000 [00:02<24:42,  1.35it/s]"
     ]
    },
    {
     "name": "stdout",
     "output_type": "stream",
     "text": [
      "Ep. 4, Timestep 269,  Ep.Timesteps 77, Score: -100.25, Avg.Score: -107.51, Time: 00:00:05 \n"
     ]
    },
    {
     "name": "stderr",
     "output_type": "stream",
     "text": [
      "  0%|          | 4/2000 [00:03<25:22,  1.31it/s]"
     ]
    },
    {
     "name": "stdout",
     "output_type": "stream",
     "text": [
      "Ep. 5, Timestep 324,  Ep.Timesteps 55, Score: -115.83, Avg.Score: -109.18, Time: 00:00:06 \n"
     ]
    },
    {
     "name": "stderr",
     "output_type": "stream",
     "text": [
      "  0%|          | 5/2000 [00:03<23:02,  1.44it/s]"
     ]
    },
    {
     "name": "stdout",
     "output_type": "stream",
     "text": [
      "Ep. 6, Timestep 374,  Ep.Timesteps 50, Score: -104.67, Avg.Score: -108.43, Time: 00:00:07 \n"
     ]
    },
    {
     "name": "stderr",
     "output_type": "stream",
     "text": [
      "  0%|          | 6/2000 [00:04<20:41,  1.61it/s]"
     ]
    },
    {
     "name": "stdout",
     "output_type": "stream",
     "text": [
      "Ep. 7, Timestep 1974,  Ep.Timesteps 1600, Score: -81.85, Avg.Score: -104.63, Time: 00:00:14 \n"
     ]
    },
    {
     "name": "stderr",
     "output_type": "stream",
     "text": [
      "  0%|          | 7/2000 [00:22<3:29:29,  6.31s/it]"
     ]
    },
    {
     "name": "stdout",
     "output_type": "stream",
     "text": [
      "Ep. 8, Timestep 2048,  Ep.Timesteps 74, Score: -103.53, Avg.Score: -104.49, Time: 00:00:25 \n"
     ]
    },
    {
     "name": "stderr",
     "output_type": "stream",
     "text": [
      "  0%|          | 8/2000 [00:23<2:32:25,  4.59s/it]"
     ]
    },
    {
     "name": "stdout",
     "output_type": "stream",
     "text": [
      "Ep. 9, Timestep 2139,  Ep.Timesteps 91, Score: -102.16, Avg.Score: -104.23, Time: 00:00:26 \n"
     ]
    },
    {
     "name": "stderr",
     "output_type": "stream",
     "text": [
      "  0%|          | 9/2000 [00:24<1:56:50,  3.52s/it]"
     ]
    },
    {
     "name": "stdout",
     "output_type": "stream",
     "text": [
      "Ep. 10, Timestep 2193,  Ep.Timesteps 54, Score: -102.36, Avg.Score: -104.05, Time: 00:00:27 \n"
     ]
    },
    {
     "name": "stderr",
     "output_type": "stream",
     "text": [
      "  0%|          | 10/2000 [00:25<1:27:04,  2.63s/it]"
     ]
    },
    {
     "name": "stdout",
     "output_type": "stream",
     "text": [
      "Ep. 11, Timestep 2252,  Ep.Timesteps 59, Score: -101.67, Avg.Score: -103.83, Time: 00:00:28 \n"
     ]
    },
    {
     "name": "stderr",
     "output_type": "stream",
     "text": [
      "  1%|          | 11/2000 [00:25<1:07:21,  2.03s/it]"
     ]
    },
    {
     "name": "stdout",
     "output_type": "stream",
     "text": [
      "Ep. 12, Timestep 3852,  Ep.Timesteps 1600, Score: -77.70, Avg.Score: -101.65, Time: 00:00:34 \n"
     ]
    },
    {
     "name": "stderr",
     "output_type": "stream",
     "text": [
      "  1%|          | 12/2000 [00:43<3:47:10,  6.86s/it]"
     ]
    },
    {
     "name": "stdout",
     "output_type": "stream",
     "text": [
      "Ep. 13, Timestep 3926,  Ep.Timesteps 74, Score: -118.07, Avg.Score: -102.92, Time: 00:00:46 \n"
     ]
    },
    {
     "name": "stderr",
     "output_type": "stream",
     "text": [
      "  1%|          | 13/2000 [00:44<2:46:16,  5.02s/it]"
     ]
    },
    {
     "name": "stdout",
     "output_type": "stream",
     "text": [
      "Ep. 14, Timestep 5526,  Ep.Timesteps 1600, Score: -79.80, Avg.Score: -101.26, Time: 00:00:53 \n"
     ]
    },
    {
     "name": "stderr",
     "output_type": "stream",
     "text": [
      "  1%|          | 14/2000 [01:02<4:56:43,  8.96s/it]"
     ]
    },
    {
     "name": "stdout",
     "output_type": "stream",
     "text": [
      "Ep. 15, Timestep 5583,  Ep.Timesteps 57, Score: -102.65, Avg.Score: -101.36, Time: 00:01:05 \n"
     ]
    },
    {
     "name": "stderr",
     "output_type": "stream",
     "text": [
      "  1%|          | 15/2000 [01:03<3:32:41,  6.43s/it]"
     ]
    },
    {
     "name": "stdout",
     "output_type": "stream",
     "text": [
      "Ep. 16, Timestep 5696,  Ep.Timesteps 113, Score: -116.36, Avg.Score: -102.29, Time: 00:01:06 \n"
     ]
    },
    {
     "name": "stderr",
     "output_type": "stream",
     "text": [
      "  1%|          | 16/2000 [01:04<2:39:02,  4.81s/it]"
     ]
    },
    {
     "name": "stdout",
     "output_type": "stream",
     "text": [
      "Ep. 17, Timestep 5754,  Ep.Timesteps 58, Score: -110.43, Avg.Score: -102.77, Time: 00:01:07 \n"
     ]
    },
    {
     "name": "stderr",
     "output_type": "stream",
     "text": [
      "  1%|          | 17/2000 [01:04<1:56:28,  3.52s/it]"
     ]
    },
    {
     "name": "stdout",
     "output_type": "stream",
     "text": [
      "Ep. 18, Timestep 7354,  Ep.Timesteps 1600, Score: -77.00, Avg.Score: -101.34, Time: 00:01:14 \n"
     ]
    },
    {
     "name": "stderr",
     "output_type": "stream",
     "text": [
      "  1%|          | 18/2000 [01:23<4:28:23,  8.13s/it]"
     ]
    },
    {
     "name": "stdout",
     "output_type": "stream",
     "text": [
      "Ep. 19, Timestep 7418,  Ep.Timesteps 64, Score: -118.02, Avg.Score: -102.22, Time: 00:01:26 \n"
     ]
    },
    {
     "name": "stderr",
     "output_type": "stream",
     "text": [
      "  1%|          | 19/2000 [01:24<3:14:13,  5.88s/it]"
     ]
    },
    {
     "name": "stdout",
     "output_type": "stream",
     "text": [
      "Ep. 20, Timestep 9018,  Ep.Timesteps 1600, Score: -80.59, Avg.Score: -101.14, Time: 00:01:33 \n"
     ]
    },
    {
     "name": "stderr",
     "output_type": "stream",
     "text": [
      "  1%|          | 20/2000 [01:43<5:24:19,  9.83s/it]"
     ]
    },
    {
     "name": "stdout",
     "output_type": "stream",
     "text": [
      "Ep. 21, Timestep 9095,  Ep.Timesteps 77, Score: -101.87, Avg.Score: -101.17, Time: 00:01:46 \n"
     ]
    },
    {
     "name": "stderr",
     "output_type": "stream",
     "text": [
      "  1%|          | 21/2000 [01:43<3:55:06,  7.13s/it]"
     ]
    },
    {
     "name": "stdout",
     "output_type": "stream",
     "text": [
      "Ep. 22, Timestep 10180,  Ep.Timesteps 1085, Score: -184.40, Avg.Score: -104.96, Time: 00:01:50 \n"
     ]
    },
    {
     "name": "stderr",
     "output_type": "stream",
     "text": [
      "  1%|          | 22/2000 [01:55<4:37:16,  8.41s/it]"
     ]
    },
    {
     "name": "stdout",
     "output_type": "stream",
     "text": [
      "Ep. 23, Timestep 10239,  Ep.Timesteps 59, Score: -103.97, Avg.Score: -104.91, Time: 00:01:58 \n"
     ]
    },
    {
     "name": "stderr",
     "output_type": "stream",
     "text": [
      "  1%|          | 23/2000 [01:56<3:23:12,  6.17s/it]"
     ]
    },
    {
     "name": "stdout",
     "output_type": "stream",
     "text": [
      "Ep. 24, Timestep 10285,  Ep.Timesteps 46, Score: -107.32, Avg.Score: -105.01, Time: 00:01:59 \n"
     ]
    },
    {
     "name": "stderr",
     "output_type": "stream",
     "text": [
      "  1%|          | 24/2000 [01:57<2:29:19,  4.53s/it]"
     ]
    },
    {
     "name": "stdout",
     "output_type": "stream",
     "text": [
      "Ep. 25, Timestep 10358,  Ep.Timesteps 73, Score: -102.23, Avg.Score: -104.90, Time: 00:02:00 \n"
     ]
    },
    {
     "name": "stderr",
     "output_type": "stream",
     "text": [
      "  1%|▏         | 25/2000 [01:58<1:55:44,  3.52s/it]"
     ]
    },
    {
     "name": "stdout",
     "output_type": "stream",
     "text": [
      "Ep. 26, Timestep 10426,  Ep.Timesteps 68, Score: -103.97, Avg.Score: -104.87, Time: 00:02:01 \n"
     ]
    },
    {
     "name": "stderr",
     "output_type": "stream",
     "text": [
      "  1%|▏         | 26/2000 [01:59<1:31:46,  2.79s/it]"
     ]
    },
    {
     "name": "stdout",
     "output_type": "stream",
     "text": [
      "Ep. 27, Timestep 10539,  Ep.Timesteps 113, Score: -104.95, Avg.Score: -104.87, Time: 00:02:03 \n"
     ]
    },
    {
     "name": "stderr",
     "output_type": "stream",
     "text": [
      "  1%|▏         | 27/2000 [02:01<1:21:55,  2.49s/it]"
     ]
    },
    {
     "name": "stdout",
     "output_type": "stream",
     "text": [
      "Ep. 28, Timestep 10605,  Ep.Timesteps 66, Score: -104.73, Avg.Score: -104.86, Time: 00:02:04 \n"
     ]
    },
    {
     "name": "stderr",
     "output_type": "stream",
     "text": [
      "  1%|▏         | 28/2000 [02:02<1:07:30,  2.05s/it]"
     ]
    },
    {
     "name": "stdout",
     "output_type": "stream",
     "text": [
      "Ep. 29, Timestep 10654,  Ep.Timesteps 49, Score: -106.73, Avg.Score: -104.93, Time: 00:02:05 \n"
     ]
    },
    {
     "name": "stderr",
     "output_type": "stream",
     "text": [
      "  1%|▏         | 29/2000 [02:02<53:51,  1.64s/it]  "
     ]
    },
    {
     "name": "stdout",
     "output_type": "stream",
     "text": [
      "Ep. 30, Timestep 10705,  Ep.Timesteps 51, Score: -105.88, Avg.Score: -104.96, Time: 00:02:06 \n"
     ]
    },
    {
     "name": "stderr",
     "output_type": "stream",
     "text": [
      "  2%|▏         | 30/2000 [02:03<44:54,  1.37s/it]"
     ]
    },
    {
     "name": "stdout",
     "output_type": "stream",
     "text": [
      "Ep. 31, Timestep 10752,  Ep.Timesteps 47, Score: -107.57, Avg.Score: -105.04, Time: 00:02:06 \n"
     ]
    },
    {
     "name": "stderr",
     "output_type": "stream",
     "text": [
      "  2%|▏         | 31/2000 [02:04<38:14,  1.17s/it]"
     ]
    },
    {
     "name": "stdout",
     "output_type": "stream",
     "text": [
      "Ep. 32, Timestep 10800,  Ep.Timesteps 48, Score: -106.61, Avg.Score: -105.09, Time: 00:02:07 \n"
     ]
    },
    {
     "name": "stderr",
     "output_type": "stream",
     "text": [
      "  2%|▏         | 32/2000 [02:04<32:12,  1.02it/s]"
     ]
    },
    {
     "name": "stdout",
     "output_type": "stream",
     "text": [
      "Ep. 33, Timestep 10856,  Ep.Timesteps 56, Score: -104.88, Avg.Score: -105.09, Time: 00:02:08 \n"
     ]
    },
    {
     "name": "stderr",
     "output_type": "stream",
     "text": [
      "  2%|▏         | 33/2000 [02:05<29:04,  1.13it/s]"
     ]
    },
    {
     "name": "stdout",
     "output_type": "stream",
     "text": [
      "Ep. 34, Timestep 10906,  Ep.Timesteps 50, Score: -105.86, Avg.Score: -105.11, Time: 00:02:08 \n"
     ]
    },
    {
     "name": "stderr",
     "output_type": "stream",
     "text": [
      "  2%|▏         | 34/2000 [02:05<25:41,  1.28it/s]"
     ]
    },
    {
     "name": "stdout",
     "output_type": "stream",
     "text": [
      "Ep. 35, Timestep 10965,  Ep.Timesteps 59, Score: -103.61, Avg.Score: -105.07, Time: 00:02:09 \n"
     ]
    },
    {
     "name": "stderr",
     "output_type": "stream",
     "text": [
      "  2%|▏         | 35/2000 [02:06<23:48,  1.38it/s]"
     ]
    },
    {
     "name": "stdout",
     "output_type": "stream",
     "text": [
      "Ep. 36, Timestep 11031,  Ep.Timesteps 66, Score: -103.70, Avg.Score: -105.03, Time: 00:02:09 \n"
     ]
    },
    {
     "name": "stderr",
     "output_type": "stream",
     "text": [
      "  2%|▏         | 36/2000 [02:07<22:54,  1.43it/s]"
     ]
    },
    {
     "name": "stdout",
     "output_type": "stream",
     "text": [
      "Ep. 37, Timestep 11100,  Ep.Timesteps 69, Score: -102.77, Avg.Score: -104.97, Time: 00:02:10 \n"
     ]
    },
    {
     "name": "stderr",
     "output_type": "stream",
     "text": [
      "  2%|▏         | 37/2000 [02:07<22:47,  1.44it/s]"
     ]
    },
    {
     "name": "stdout",
     "output_type": "stream",
     "text": [
      "Ep. 38, Timestep 11171,  Ep.Timesteps 71, Score: -102.39, Avg.Score: -104.90, Time: 00:02:11 \n"
     ]
    },
    {
     "name": "stderr",
     "output_type": "stream",
     "text": [
      "  2%|▏         | 38/2000 [02:08<22:24,  1.46it/s]"
     ]
    },
    {
     "name": "stdout",
     "output_type": "stream",
     "text": [
      "Ep. 39, Timestep 11218,  Ep.Timesteps 47, Score: -107.64, Avg.Score: -104.97, Time: 00:02:11 \n"
     ]
    },
    {
     "name": "stderr",
     "output_type": "stream",
     "text": [
      "  2%|▏         | 39/2000 [02:08<19:47,  1.65it/s]"
     ]
    },
    {
     "name": "stdout",
     "output_type": "stream",
     "text": [
      "Ep. 40, Timestep 11283,  Ep.Timesteps 65, Score: -102.06, Avg.Score: -104.90, Time: 00:02:12 \n"
     ]
    },
    {
     "name": "stderr",
     "output_type": "stream",
     "text": [
      "  2%|▏         | 40/2000 [02:09<19:49,  1.65it/s]"
     ]
    },
    {
     "name": "stdout",
     "output_type": "stream",
     "text": [
      "Ep. 41, Timestep 11405,  Ep.Timesteps 122, Score: -105.36, Avg.Score: -104.91, Time: 00:02:13 \n"
     ]
    },
    {
     "name": "stderr",
     "output_type": "stream",
     "text": [
      "  2%|▏         | 41/2000 [02:10<26:19,  1.24it/s]"
     ]
    },
    {
     "name": "stdout",
     "output_type": "stream",
     "text": [
      "Ep. 42, Timestep 11497,  Ep.Timesteps 92, Score: -103.18, Avg.Score: -104.87, Time: 00:02:14 \n"
     ]
    },
    {
     "name": "stderr",
     "output_type": "stream",
     "text": [
      "  2%|▏         | 42/2000 [02:12<30:12,  1.08it/s]"
     ]
    },
    {
     "name": "stdout",
     "output_type": "stream",
     "text": [
      "Ep. 43, Timestep 11558,  Ep.Timesteps 61, Score: -101.72, Avg.Score: -104.79, Time: 00:02:15 \n"
     ]
    },
    {
     "name": "stderr",
     "output_type": "stream",
     "text": [
      "  2%|▏         | 43/2000 [02:12<29:00,  1.12it/s]"
     ]
    },
    {
     "name": "stdout",
     "output_type": "stream",
     "text": [
      "Ep. 44, Timestep 11622,  Ep.Timesteps 64, Score: -100.96, Avg.Score: -104.71, Time: 00:02:16 \n"
     ]
    },
    {
     "name": "stderr",
     "output_type": "stream",
     "text": [
      "  2%|▏         | 44/2000 [02:13<28:34,  1.14it/s]"
     ]
    },
    {
     "name": "stdout",
     "output_type": "stream",
     "text": [
      "Ep. 45, Timestep 11678,  Ep.Timesteps 56, Score: -100.18, Avg.Score: -104.61, Time: 00:02:17 \n"
     ]
    },
    {
     "name": "stderr",
     "output_type": "stream",
     "text": [
      "  2%|▏         | 45/2000 [02:14<27:19,  1.19it/s]"
     ]
    },
    {
     "name": "stdout",
     "output_type": "stream",
     "text": [
      "Ep. 46, Timestep 11734,  Ep.Timesteps 56, Score: -100.23, Avg.Score: -104.51, Time: 00:02:17 \n"
     ]
    },
    {
     "name": "stderr",
     "output_type": "stream",
     "text": [
      "  2%|▏         | 46/2000 [02:15<26:17,  1.24it/s]"
     ]
    },
    {
     "name": "stdout",
     "output_type": "stream",
     "text": [
      "Ep. 47, Timestep 11791,  Ep.Timesteps 57, Score: -99.88, Avg.Score: -104.41, Time: 00:02:18 \n"
     ]
    },
    {
     "name": "stderr",
     "output_type": "stream",
     "text": [
      "  2%|▏         | 47/2000 [02:15<25:34,  1.27it/s]"
     ]
    },
    {
     "name": "stdout",
     "output_type": "stream",
     "text": [
      "Ep. 48, Timestep 11856,  Ep.Timesteps 65, Score: -101.42, Avg.Score: -104.35, Time: 00:02:19 \n"
     ]
    },
    {
     "name": "stderr",
     "output_type": "stream",
     "text": [
      "  2%|▏         | 48/2000 [02:16<27:51,  1.17it/s]"
     ]
    },
    {
     "name": "stdout",
     "output_type": "stream",
     "text": [
      "Ep. 49, Timestep 11920,  Ep.Timesteps 64, Score: -104.85, Avg.Score: -104.36, Time: 00:02:20 \n"
     ]
    },
    {
     "name": "stderr",
     "output_type": "stream",
     "text": [
      "  2%|▏         | 49/2000 [02:17<29:15,  1.11it/s]"
     ]
    },
    {
     "name": "stdout",
     "output_type": "stream",
     "text": [
      "Ep. 50, Timestep 11989,  Ep.Timesteps 69, Score: -103.11, Avg.Score: -104.34, Time: 00:02:21 \n"
     ]
    },
    {
     "name": "stderr",
     "output_type": "stream",
     "text": [
      "  2%|▎         | 50/2000 [02:19<31:02,  1.05it/s]"
     ]
    },
    {
     "name": "stdout",
     "output_type": "stream",
     "text": [
      "Ep. 51, Timestep 12059,  Ep.Timesteps 70, Score: -102.25, Avg.Score: -104.30, Time: 00:02:22 \n"
     ]
    },
    {
     "name": "stderr",
     "output_type": "stream",
     "text": [
      "  3%|▎         | 51/2000 [02:20<32:32,  1.00s/it]"
     ]
    },
    {
     "name": "stdout",
     "output_type": "stream",
     "text": [
      "Ep. 52, Timestep 12120,  Ep.Timesteps 61, Score: -102.72, Avg.Score: -104.26, Time: 00:02:23 \n"
     ]
    },
    {
     "name": "stderr",
     "output_type": "stream",
     "text": [
      "  3%|▎         | 52/2000 [02:21<31:46,  1.02it/s]"
     ]
    },
    {
     "name": "stdout",
     "output_type": "stream",
     "text": [
      "Ep. 53, Timestep 12193,  Ep.Timesteps 73, Score: -100.87, Avg.Score: -104.20, Time: 00:02:24 \n"
     ]
    },
    {
     "name": "stderr",
     "output_type": "stream",
     "text": [
      "  3%|▎         | 53/2000 [02:22<31:35,  1.03it/s]"
     ]
    },
    {
     "name": "stdout",
     "output_type": "stream",
     "text": [
      "Ep. 54, Timestep 12247,  Ep.Timesteps 54, Score: -105.75, Avg.Score: -104.23, Time: 00:02:25 \n"
     ]
    },
    {
     "name": "stderr",
     "output_type": "stream",
     "text": [
      "  3%|▎         | 54/2000 [02:22<29:04,  1.12it/s]"
     ]
    },
    {
     "name": "stdout",
     "output_type": "stream",
     "text": [
      "Ep. 55, Timestep 12306,  Ep.Timesteps 59, Score: -102.98, Avg.Score: -104.21, Time: 00:02:26 \n"
     ]
    },
    {
     "name": "stderr",
     "output_type": "stream",
     "text": [
      "  3%|▎         | 55/2000 [02:23<27:16,  1.19it/s]"
     ]
    },
    {
     "name": "stdout",
     "output_type": "stream",
     "text": [
      "Ep. 56, Timestep 12379,  Ep.Timesteps 73, Score: -102.23, Avg.Score: -104.17, Time: 00:02:26 \n"
     ]
    },
    {
     "name": "stderr",
     "output_type": "stream",
     "text": [
      "  3%|▎         | 56/2000 [02:24<27:25,  1.18it/s]"
     ]
    },
    {
     "name": "stdout",
     "output_type": "stream",
     "text": [
      "Ep. 57, Timestep 12440,  Ep.Timesteps 61, Score: -105.06, Avg.Score: -104.19, Time: 00:02:27 \n"
     ]
    },
    {
     "name": "stderr",
     "output_type": "stream",
     "text": [
      "  3%|▎         | 57/2000 [02:25<26:06,  1.24it/s]"
     ]
    },
    {
     "name": "stdout",
     "output_type": "stream",
     "text": [
      "Ep. 58, Timestep 12512,  Ep.Timesteps 72, Score: -102.39, Avg.Score: -104.16, Time: 00:02:28 \n"
     ]
    },
    {
     "name": "stderr",
     "output_type": "stream",
     "text": [
      "  3%|▎         | 58/2000 [02:25<26:25,  1.22it/s]"
     ]
    },
    {
     "name": "stdout",
     "output_type": "stream",
     "text": [
      "Ep. 59, Timestep 12573,  Ep.Timesteps 61, Score: -104.00, Avg.Score: -104.15, Time: 00:02:29 \n"
     ]
    },
    {
     "name": "stderr",
     "output_type": "stream",
     "text": [
      "  3%|▎         | 59/2000 [02:26<25:24,  1.27it/s]"
     ]
    },
    {
     "name": "stdout",
     "output_type": "stream",
     "text": [
      "Ep. 60, Timestep 12635,  Ep.Timesteps 62, Score: -103.84, Avg.Score: -104.15, Time: 00:02:29 \n"
     ]
    },
    {
     "name": "stderr",
     "output_type": "stream",
     "text": [
      "  3%|▎         | 60/2000 [02:27<24:48,  1.30it/s]"
     ]
    },
    {
     "name": "stdout",
     "output_type": "stream",
     "text": [
      "Ep. 61, Timestep 12815,  Ep.Timesteps 180, Score: -107.47, Avg.Score: -104.20, Time: 00:02:31 \n"
     ]
    },
    {
     "name": "stderr",
     "output_type": "stream",
     "text": [
      "  3%|▎         | 61/2000 [02:29<38:15,  1.18s/it]"
     ]
    },
    {
     "name": "stdout",
     "output_type": "stream",
     "text": [
      "Ep. 62, Timestep 12886,  Ep.Timesteps 71, Score: -104.28, Avg.Score: -104.20, Time: 00:02:32 \n"
     ]
    },
    {
     "name": "stderr",
     "output_type": "stream",
     "text": [
      "  3%|▎         | 62/2000 [02:30<34:40,  1.07s/it]"
     ]
    },
    {
     "name": "stdout",
     "output_type": "stream",
     "text": [
      "Ep. 63, Timestep 14486,  Ep.Timesteps 1600, Score: -134.25, Avg.Score: -104.68, Time: 00:02:40 \n"
     ]
    },
    {
     "name": "stderr",
     "output_type": "stream",
     "text": [
      "  3%|▎         | 63/2000 [02:50<3:40:06,  6.82s/it]"
     ]
    },
    {
     "name": "stdout",
     "output_type": "stream",
     "text": [
      "Ep. 64, Timestep 14600,  Ep.Timesteps 114, Score: -142.24, Avg.Score: -105.27, Time: 00:02:54 \n"
     ]
    },
    {
     "name": "stderr",
     "output_type": "stream",
     "text": [
      "  3%|▎         | 64/2000 [02:52<2:50:27,  5.28s/it]"
     ]
    },
    {
     "name": "stdout",
     "output_type": "stream",
     "text": [
      "Ep. 65, Timestep 14866,  Ep.Timesteps 266, Score: -144.02, Avg.Score: -105.86, Time: 00:02:56 \n"
     ]
    },
    {
     "name": "stderr",
     "output_type": "stream",
     "text": [
      "  3%|▎         | 65/2000 [02:55<2:27:57,  4.59s/it]"
     ]
    },
    {
     "name": "stdout",
     "output_type": "stream",
     "text": [
      "Ep. 66, Timestep 16466,  Ep.Timesteps 1600, Score: -133.79, Avg.Score: -106.29, Time: 00:03:06 \n"
     ]
    },
    {
     "name": "stderr",
     "output_type": "stream",
     "text": [
      "  3%|▎         | 66/2000 [03:16<5:09:26,  9.60s/it]"
     ]
    },
    {
     "name": "stdout",
     "output_type": "stream",
     "text": [
      "Ep. 67, Timestep 16572,  Ep.Timesteps 106, Score: -125.69, Avg.Score: -106.58, Time: 00:03:19 \n"
     ]
    },
    {
     "name": "stderr",
     "output_type": "stream",
     "text": [
      "  3%|▎         | 67/2000 [03:17<3:48:41,  7.10s/it]"
     ]
    },
    {
     "name": "stdout",
     "output_type": "stream",
     "text": [
      "Ep. 68, Timestep 17030,  Ep.Timesteps 458, Score: -170.08, Avg.Score: -107.51, Time: 00:03:22 \n"
     ]
    },
    {
     "name": "stderr",
     "output_type": "stream",
     "text": [
      "  3%|▎         | 68/2000 [03:22<3:30:32,  6.54s/it]"
     ]
    },
    {
     "name": "stdout",
     "output_type": "stream",
     "text": [
      "Ep. 69, Timestep 17110,  Ep.Timesteps 80, Score: -129.74, Avg.Score: -107.83, Time: 00:03:26 \n"
     ]
    },
    {
     "name": "stderr",
     "output_type": "stream",
     "text": [
      "  3%|▎         | 69/2000 [03:24<2:37:51,  4.91s/it]"
     ]
    },
    {
     "name": "stdout",
     "output_type": "stream",
     "text": [
      "Ep. 70, Timestep 17195,  Ep.Timesteps 85, Score: -127.88, Avg.Score: -108.12, Time: 00:03:27 \n"
     ]
    },
    {
     "name": "stderr",
     "output_type": "stream",
     "text": [
      "  4%|▎         | 70/2000 [03:25<2:01:34,  3.78s/it]"
     ]
    },
    {
     "name": "stdout",
     "output_type": "stream",
     "text": [
      "Ep. 71, Timestep 17292,  Ep.Timesteps 97, Score: -139.70, Avg.Score: -108.56, Time: 00:03:28 \n"
     ]
    },
    {
     "name": "stderr",
     "output_type": "stream",
     "text": [
      "  4%|▎         | 71/2000 [03:26<1:37:24,  3.03s/it]"
     ]
    },
    {
     "name": "stdout",
     "output_type": "stream",
     "text": [
      "Ep. 72, Timestep 17394,  Ep.Timesteps 102, Score: -127.86, Avg.Score: -108.83, Time: 00:03:30 \n"
     ]
    },
    {
     "name": "stderr",
     "output_type": "stream",
     "text": [
      "  4%|▎         | 72/2000 [03:27<1:21:29,  2.54s/it]"
     ]
    },
    {
     "name": "stdout",
     "output_type": "stream",
     "text": [
      "Ep. 73, Timestep 17487,  Ep.Timesteps 93, Score: -142.40, Avg.Score: -109.29, Time: 00:03:31 \n"
     ]
    },
    {
     "name": "stderr",
     "output_type": "stream",
     "text": [
      "  4%|▎         | 73/2000 [03:29<1:09:15,  2.16s/it]"
     ]
    },
    {
     "name": "stdout",
     "output_type": "stream",
     "text": [
      "Ep. 74, Timestep 17561,  Ep.Timesteps 74, Score: -124.81, Avg.Score: -109.50, Time: 00:03:32 \n"
     ]
    },
    {
     "name": "stderr",
     "output_type": "stream",
     "text": [
      "  4%|▎         | 74/2000 [03:30<58:29,  1.82s/it]  "
     ]
    },
    {
     "name": "stdout",
     "output_type": "stream",
     "text": [
      "Ep. 75, Timestep 17618,  Ep.Timesteps 57, Score: -123.89, Avg.Score: -109.69, Time: 00:03:33 \n"
     ]
    },
    {
     "name": "stderr",
     "output_type": "stream",
     "text": [
      "  4%|▍         | 75/2000 [03:30<48:32,  1.51s/it]"
     ]
    },
    {
     "name": "stdout",
     "output_type": "stream",
     "text": [
      "Ep. 76, Timestep 17726,  Ep.Timesteps 108, Score: -127.94, Avg.Score: -109.93, Time: 00:03:34 \n"
     ]
    },
    {
     "name": "stderr",
     "output_type": "stream",
     "text": [
      "  4%|▍         | 76/2000 [03:32<48:14,  1.50s/it]"
     ]
    },
    {
     "name": "stdout",
     "output_type": "stream",
     "text": [
      "Ep. 77, Timestep 17815,  Ep.Timesteps 89, Score: -140.05, Avg.Score: -110.32, Time: 00:03:36 \n"
     ]
    },
    {
     "name": "stderr",
     "output_type": "stream",
     "text": [
      "  4%|▍         | 77/2000 [03:33<45:26,  1.42s/it]"
     ]
    },
    {
     "name": "stdout",
     "output_type": "stream",
     "text": [
      "Ep. 78, Timestep 19415,  Ep.Timesteps 1600, Score: -142.04, Avg.Score: -110.73, Time: 00:03:44 \n"
     ]
    },
    {
     "name": "stderr",
     "output_type": "stream",
     "text": [
      "  4%|▍         | 78/2000 [03:53<3:41:37,  6.92s/it]"
     ]
    },
    {
     "name": "stdout",
     "output_type": "stream",
     "text": [
      "Ep. 79, Timestep 19463,  Ep.Timesteps 48, Score: -125.08, Avg.Score: -110.91, Time: 00:03:56 \n"
     ]
    },
    {
     "name": "stderr",
     "output_type": "stream",
     "text": [
      "  4%|▍         | 79/2000 [03:53<2:40:31,  5.01s/it]"
     ]
    },
    {
     "name": "stdout",
     "output_type": "stream",
     "text": [
      "Ep. 80, Timestep 21063,  Ep.Timesteps 1600, Score: -151.18, Avg.Score: -111.42, Time: 00:04:05 \n"
     ]
    },
    {
     "name": "stderr",
     "output_type": "stream",
     "text": [
      "  4%|▍         | 80/2000 [04:13<5:00:58,  9.41s/it]"
     ]
    },
    {
     "name": "stdout",
     "output_type": "stream",
     "text": [
      "Ep. 81, Timestep 22663,  Ep.Timesteps 1600, Score: -173.24, Avg.Score: -112.18, Time: 00:04:25 \n"
     ]
    },
    {
     "name": "stderr",
     "output_type": "stream",
     "text": [
      "  4%|▍         | 81/2000 [04:34<6:48:04, 12.76s/it]"
     ]
    },
    {
     "name": "stdout",
     "output_type": "stream",
     "text": [
      "Ep. 82, Timestep 24263,  Ep.Timesteps 1600, Score: -176.55, Avg.Score: -112.96, Time: 00:04:45 \n"
     ]
    },
    {
     "name": "stderr",
     "output_type": "stream",
     "text": [
      "  4%|▍         | 82/2000 [04:54<8:02:08, 15.08s/it]"
     ]
    },
    {
     "name": "stdout",
     "output_type": "stream",
     "text": [
      "Ep. 83, Timestep 25863,  Ep.Timesteps 1600, Score: -141.34, Avg.Score: -113.31, Time: 00:05:04 \n"
     ]
    },
    {
     "name": "stderr",
     "output_type": "stream",
     "text": [
      "  4%|▍         | 83/2000 [05:14<8:47:03, 16.50s/it]"
     ]
    },
    {
     "name": "stdout",
     "output_type": "stream",
     "text": [
      "Ep. 84, Timestep 27463,  Ep.Timesteps 1600, Score: -174.83, Avg.Score: -114.04, Time: 00:05:24 \n"
     ]
    },
    {
     "name": "stderr",
     "output_type": "stream",
     "text": [
      "  4%|▍         | 84/2000 [05:33<9:12:49, 17.31s/it]"
     ]
    },
    {
     "name": "stdout",
     "output_type": "stream",
     "text": [
      "Ep. 85, Timestep 29063,  Ep.Timesteps 1600, Score: -118.39, Avg.Score: -114.09, Time: 00:05:44 \n"
     ]
    },
    {
     "name": "stderr",
     "output_type": "stream",
     "text": [
      "  4%|▍         | 85/2000 [05:53<9:36:59, 18.08s/it]"
     ]
    },
    {
     "name": "stdout",
     "output_type": "stream",
     "text": [
      "Ep. 86, Timestep 29111,  Ep.Timesteps 48, Score: -124.04, Avg.Score: -114.21, Time: 00:05:56 \n"
     ]
    },
    {
     "name": "stderr",
     "output_type": "stream",
     "text": [
      "  4%|▍         | 86/2000 [05:54<6:49:48, 12.85s/it]"
     ]
    },
    {
     "name": "stdout",
     "output_type": "stream",
     "text": [
      "Ep. 87, Timestep 29159,  Ep.Timesteps 48, Score: -116.40, Avg.Score: -114.23, Time: 00:05:57 \n"
     ]
    },
    {
     "name": "stderr",
     "output_type": "stream",
     "text": [
      "  4%|▍         | 87/2000 [05:54<4:52:38,  9.18s/it]"
     ]
    },
    {
     "name": "stdout",
     "output_type": "stream",
     "text": [
      "Ep. 88, Timestep 29205,  Ep.Timesteps 46, Score: -119.69, Avg.Score: -114.29, Time: 00:05:58 \n"
     ]
    },
    {
     "name": "stderr",
     "output_type": "stream",
     "text": [
      "  4%|▍         | 88/2000 [05:55<3:30:33,  6.61s/it]"
     ]
    },
    {
     "name": "stdout",
     "output_type": "stream",
     "text": [
      "Ep. 89, Timestep 29480,  Ep.Timesteps 275, Score: -156.79, Avg.Score: -114.77, Time: 00:06:00 \n"
     ]
    },
    {
     "name": "stderr",
     "output_type": "stream",
     "text": [
      "  4%|▍         | 89/2000 [05:59<3:06:13,  5.85s/it]"
     ]
    },
    {
     "name": "stdout",
     "output_type": "stream",
     "text": [
      "Ep. 90, Timestep 29641,  Ep.Timesteps 161, Score: -144.38, Avg.Score: -115.10, Time: 00:06:03 \n"
     ]
    },
    {
     "name": "stderr",
     "output_type": "stream",
     "text": [
      "  4%|▍         | 90/2000 [06:01<2:26:46,  4.61s/it]"
     ]
    },
    {
     "name": "stdout",
     "output_type": "stream",
     "text": [
      "Ep. 91, Timestep 31241,  Ep.Timesteps 1600, Score: -149.42, Avg.Score: -115.48, Time: 00:06:11 \n"
     ]
    },
    {
     "name": "stderr",
     "output_type": "stream",
     "text": [
      "  5%|▍         | 91/2000 [06:20<4:50:39,  9.14s/it]"
     ]
    },
    {
     "name": "stdout",
     "output_type": "stream",
     "text": [
      "Ep. 92, Timestep 31284,  Ep.Timesteps 43, Score: -121.12, Avg.Score: -115.54, Time: 00:06:24 \n"
     ]
    },
    {
     "name": "stderr",
     "output_type": "stream",
     "text": [
      "  5%|▍         | 92/2000 [06:21<3:28:13,  6.55s/it]"
     ]
    },
    {
     "name": "stdout",
     "output_type": "stream",
     "text": [
      "Ep. 93, Timestep 31327,  Ep.Timesteps 43, Score: -122.94, Avg.Score: -115.62, Time: 00:06:24 \n"
     ]
    },
    {
     "name": "stderr",
     "output_type": "stream",
     "text": [
      "  5%|▍         | 93/2000 [06:21<2:30:29,  4.73s/it]"
     ]
    },
    {
     "name": "stdout",
     "output_type": "stream",
     "text": [
      "Ep. 94, Timestep 31371,  Ep.Timesteps 44, Score: -117.17, Avg.Score: -115.63, Time: 00:06:25 \n"
     ]
    },
    {
     "name": "stderr",
     "output_type": "stream",
     "text": [
      "  5%|▍         | 94/2000 [06:22<1:50:17,  3.47s/it]"
     ]
    },
    {
     "name": "stdout",
     "output_type": "stream",
     "text": [
      "Ep. 95, Timestep 31416,  Ep.Timesteps 45, Score: -119.52, Avg.Score: -115.67, Time: 00:06:25 \n"
     ]
    },
    {
     "name": "stderr",
     "output_type": "stream",
     "text": [
      "  5%|▍         | 95/2000 [06:23<1:22:13,  2.59s/it]"
     ]
    },
    {
     "name": "stdout",
     "output_type": "stream",
     "text": [
      "Ep. 96, Timestep 31460,  Ep.Timesteps 44, Score: -122.40, Avg.Score: -115.74, Time: 00:06:26 \n"
     ]
    },
    {
     "name": "stderr",
     "output_type": "stream",
     "text": [
      "  5%|▍         | 96/2000 [06:23<1:02:29,  1.97s/it]"
     ]
    },
    {
     "name": "stdout",
     "output_type": "stream",
     "text": [
      "Ep. 97, Timestep 31574,  Ep.Timesteps 114, Score: -113.84, Avg.Score: -115.73, Time: 00:06:27 \n"
     ]
    },
    {
     "name": "stderr",
     "output_type": "stream",
     "text": [
      "  5%|▍         | 97/2000 [06:24<56:24,  1.78s/it]  "
     ]
    },
    {
     "name": "stdout",
     "output_type": "stream",
     "text": [
      "Ep. 98, Timestep 31642,  Ep.Timesteps 68, Score: -116.73, Avg.Score: -115.74, Time: 00:06:28 \n"
     ]
    },
    {
     "name": "stderr",
     "output_type": "stream",
     "text": [
      "  5%|▍         | 98/2000 [06:25<47:02,  1.48s/it]"
     ]
    },
    {
     "name": "stdout",
     "output_type": "stream",
     "text": [
      "Ep. 99, Timestep 32033,  Ep.Timesteps 391, Score: -153.16, Avg.Score: -116.11, Time: 00:06:30 \n"
     ]
    },
    {
     "name": "stderr",
     "output_type": "stream",
     "text": [
      "  5%|▍         | 99/2000 [06:30<1:18:05,  2.46s/it]"
     ]
    },
    {
     "name": "stdout",
     "output_type": "stream",
     "text": [
      "Ep. 100, Timestep 32102,  Ep.Timesteps 69, Score: -118.13, Avg.Score: -116.13, Time: 00:06:33 \n"
     ]
    },
    {
     "name": "stderr",
     "output_type": "stream",
     "text": [
      "  5%|▌         | 100/2000 [06:31<1:03:14,  2.00s/it]"
     ]
    },
    {
     "name": "stdout",
     "output_type": "stream",
     "text": [
      "Ep. 101, Timestep 33702,  Ep.Timesteps 1600, Score: -109.28, Avg.Score: -116.06, Time: 00:06:43 \n"
     ]
    },
    {
     "name": "stderr",
     "output_type": "stream",
     "text": [
      "  5%|▌         | 101/2000 [06:51<3:56:08,  7.46s/it]"
     ]
    },
    {
     "name": "stdout",
     "output_type": "stream",
     "text": [
      "Ep. 102, Timestep 33745,  Ep.Timesteps 43, Score: -122.77, Avg.Score: -116.25, Time: 00:06:54 \n"
     ]
    },
    {
     "name": "stderr",
     "output_type": "stream",
     "text": [
      "  5%|▌         | 102/2000 [06:52<2:50:36,  5.39s/it]"
     ]
    },
    {
     "name": "stdout",
     "output_type": "stream",
     "text": [
      "Ep. 103, Timestep 33788,  Ep.Timesteps 43, Score: -122.75, Avg.Score: -116.38, Time: 00:06:55 \n"
     ]
    },
    {
     "name": "stderr",
     "output_type": "stream",
     "text": [
      "  5%|▌         | 103/2000 [06:52<2:04:48,  3.95s/it]"
     ]
    },
    {
     "name": "stdout",
     "output_type": "stream",
     "text": [
      "Ep. 104, Timestep 33831,  Ep.Timesteps 43, Score: -122.88, Avg.Score: -116.61, Time: 00:06:55 \n"
     ]
    },
    {
     "name": "stderr",
     "output_type": "stream",
     "text": [
      "  5%|▌         | 104/2000 [06:53<1:32:53,  2.94s/it]"
     ]
    },
    {
     "name": "stdout",
     "output_type": "stream",
     "text": [
      "Ep. 105, Timestep 33872,  Ep.Timesteps 41, Score: -123.55, Avg.Score: -116.69, Time: 00:06:56 \n"
     ]
    },
    {
     "name": "stderr",
     "output_type": "stream",
     "text": [
      "  5%|▌         | 105/2000 [06:53<1:10:58,  2.25s/it]"
     ]
    },
    {
     "name": "stdout",
     "output_type": "stream",
     "text": [
      "Ep. 106, Timestep 33913,  Ep.Timesteps 41, Score: -123.20, Avg.Score: -116.87, Time: 00:06:57 \n"
     ]
    },
    {
     "name": "stderr",
     "output_type": "stream",
     "text": [
      "  5%|▌         | 106/2000 [06:54<55:43,  1.77s/it]  "
     ]
    },
    {
     "name": "stdout",
     "output_type": "stream",
     "text": [
      "Ep. 107, Timestep 33954,  Ep.Timesteps 41, Score: -123.52, Avg.Score: -117.29, Time: 00:06:57 \n"
     ]
    },
    {
     "name": "stderr",
     "output_type": "stream",
     "text": [
      "  5%|▌         | 107/2000 [06:55<44:57,  1.43s/it]"
     ]
    },
    {
     "name": "stdout",
     "output_type": "stream",
     "text": [
      "Ep. 108, Timestep 33995,  Ep.Timesteps 41, Score: -123.59, Avg.Score: -117.49, Time: 00:06:58 \n"
     ]
    },
    {
     "name": "stderr",
     "output_type": "stream",
     "text": [
      "  5%|▌         | 108/2000 [06:55<37:22,  1.19s/it]"
     ]
    },
    {
     "name": "stdout",
     "output_type": "stream",
     "text": [
      "Ep. 109, Timestep 34036,  Ep.Timesteps 41, Score: -123.40, Avg.Score: -117.70, Time: 00:06:59 \n"
     ]
    },
    {
     "name": "stderr",
     "output_type": "stream",
     "text": [
      "  5%|▌         | 109/2000 [06:56<32:08,  1.02s/it]"
     ]
    },
    {
     "name": "stdout",
     "output_type": "stream",
     "text": [
      "Ep. 110, Timestep 34118,  Ep.Timesteps 82, Score: -126.85, Avg.Score: -117.95, Time: 00:07:00 \n"
     ]
    },
    {
     "name": "stderr",
     "output_type": "stream",
     "text": [
      "  6%|▌         | 110/2000 [06:57<34:22,  1.09s/it]"
     ]
    },
    {
     "name": "stdout",
     "output_type": "stream",
     "text": [
      "Ep. 111, Timestep 34186,  Ep.Timesteps 68, Score: -123.90, Avg.Score: -118.17, Time: 00:07:01 \n"
     ]
    },
    {
     "name": "stderr",
     "output_type": "stream",
     "text": [
      "  6%|▌         | 111/2000 [06:58<33:50,  1.07s/it]"
     ]
    },
    {
     "name": "stdout",
     "output_type": "stream",
     "text": [
      "Ep. 112, Timestep 34251,  Ep.Timesteps 65, Score: -121.79, Avg.Score: -118.61, Time: 00:07:02 \n"
     ]
    },
    {
     "name": "stderr",
     "output_type": "stream",
     "text": [
      "  6%|▌         | 112/2000 [06:59<33:02,  1.05s/it]"
     ]
    },
    {
     "name": "stdout",
     "output_type": "stream",
     "text": [
      "Ep. 113, Timestep 34351,  Ep.Timesteps 100, Score: -129.37, Avg.Score: -118.72, Time: 00:07:03 \n"
     ]
    },
    {
     "name": "stderr",
     "output_type": "stream",
     "text": [
      "  6%|▌         | 113/2000 [07:01<37:37,  1.20s/it]"
     ]
    },
    {
     "name": "stdout",
     "output_type": "stream",
     "text": [
      "Ep. 114, Timestep 34463,  Ep.Timesteps 112, Score: -113.81, Avg.Score: -119.06, Time: 00:07:05 \n"
     ]
    },
    {
     "name": "stderr",
     "output_type": "stream",
     "text": [
      "  6%|▌         | 114/2000 [07:02<41:20,  1.32s/it]"
     ]
    },
    {
     "name": "stdout",
     "output_type": "stream",
     "text": [
      "Ep. 115, Timestep 34566,  Ep.Timesteps 103, Score: -127.91, Avg.Score: -119.32, Time: 00:07:06 \n"
     ]
    },
    {
     "name": "stderr",
     "output_type": "stream",
     "text": [
      "  6%|▌         | 115/2000 [07:04<41:04,  1.31s/it]"
     ]
    },
    {
     "name": "stdout",
     "output_type": "stream",
     "text": [
      "Ep. 116, Timestep 34629,  Ep.Timesteps 63, Score: -119.59, Avg.Score: -119.35, Time: 00:07:07 \n"
     ]
    },
    {
     "name": "stderr",
     "output_type": "stream",
     "text": [
      "  6%|▌         | 116/2000 [07:04<35:57,  1.15s/it]"
     ]
    },
    {
     "name": "stdout",
     "output_type": "stream",
     "text": [
      "Ep. 117, Timestep 34690,  Ep.Timesteps 61, Score: -119.74, Avg.Score: -119.44, Time: 00:07:08 \n"
     ]
    },
    {
     "name": "stderr",
     "output_type": "stream",
     "text": [
      "  6%|▌         | 117/2000 [07:05<32:06,  1.02s/it]"
     ]
    },
    {
     "name": "stdout",
     "output_type": "stream",
     "text": [
      "Ep. 118, Timestep 34835,  Ep.Timesteps 145, Score: -132.64, Avg.Score: -120.00, Time: 00:07:09 \n"
     ]
    },
    {
     "name": "stderr",
     "output_type": "stream",
     "text": [
      "  6%|▌         | 118/2000 [07:07<37:11,  1.19s/it]"
     ]
    },
    {
     "name": "stdout",
     "output_type": "stream",
     "text": [
      "Ep. 119, Timestep 34898,  Ep.Timesteps 63, Score: -118.13, Avg.Score: -120.00, Time: 00:07:10 \n"
     ]
    },
    {
     "name": "stderr",
     "output_type": "stream",
     "text": [
      "  6%|▌         | 119/2000 [07:07<32:50,  1.05s/it]"
     ]
    },
    {
     "name": "stdout",
     "output_type": "stream",
     "text": [
      "Ep. 120, Timestep 34963,  Ep.Timesteps 65, Score: -119.77, Avg.Score: -120.39, Time: 00:07:11 \n"
     ]
    },
    {
     "name": "stderr",
     "output_type": "stream",
     "text": [
      "  6%|▌         | 120/2000 [07:08<30:00,  1.04it/s]"
     ]
    },
    {
     "name": "stdout",
     "output_type": "stream",
     "text": [
      "Ep. 121, Timestep 35031,  Ep.Timesteps 68, Score: -120.26, Avg.Score: -120.57, Time: 00:07:12 \n"
     ]
    },
    {
     "name": "stderr",
     "output_type": "stream",
     "text": [
      "  6%|▌         | 121/2000 [07:09<27:27,  1.14it/s]"
     ]
    },
    {
     "name": "stdout",
     "output_type": "stream",
     "text": [
      "Ep. 122, Timestep 35072,  Ep.Timesteps 41, Score: -123.42, Avg.Score: -119.96, Time: 00:07:12 \n"
     ]
    },
    {
     "name": "stderr",
     "output_type": "stream",
     "text": [
      "  6%|▌         | 122/2000 [07:09<23:02,  1.36it/s]"
     ]
    },
    {
     "name": "stdout",
     "output_type": "stream",
     "text": [
      "Ep. 123, Timestep 35151,  Ep.Timesteps 79, Score: -122.23, Avg.Score: -120.15, Time: 00:07:13 \n"
     ]
    },
    {
     "name": "stderr",
     "output_type": "stream",
     "text": [
      "  6%|▌         | 123/2000 [07:10<23:58,  1.30it/s]"
     ]
    },
    {
     "name": "stdout",
     "output_type": "stream",
     "text": [
      "Ep. 124, Timestep 35214,  Ep.Timesteps 63, Score: -118.04, Avg.Score: -120.25, Time: 00:07:13 \n"
     ]
    },
    {
     "name": "stderr",
     "output_type": "stream",
     "text": [
      "  6%|▌         | 124/2000 [07:11<23:37,  1.32it/s]"
     ]
    },
    {
     "name": "stdout",
     "output_type": "stream",
     "text": [
      "Ep. 125, Timestep 35281,  Ep.Timesteps 67, Score: -119.30, Avg.Score: -120.42, Time: 00:07:14 \n"
     ]
    },
    {
     "name": "stderr",
     "output_type": "stream",
     "text": [
      "  6%|▋         | 125/2000 [07:12<23:44,  1.32it/s]"
     ]
    },
    {
     "name": "stdout",
     "output_type": "stream",
     "text": [
      "Ep. 126, Timestep 35345,  Ep.Timesteps 64, Score: -118.58, Avg.Score: -120.57, Time: 00:07:15 \n"
     ]
    },
    {
     "name": "stderr",
     "output_type": "stream",
     "text": [
      "  6%|▋         | 126/2000 [07:12<23:32,  1.33it/s]"
     ]
    },
    {
     "name": "stdout",
     "output_type": "stream",
     "text": [
      "Ep. 127, Timestep 35402,  Ep.Timesteps 57, Score: -115.39, Avg.Score: -120.68, Time: 00:07:16 \n"
     ]
    },
    {
     "name": "stderr",
     "output_type": "stream",
     "text": [
      "  6%|▋         | 127/2000 [07:13<23:10,  1.35it/s]"
     ]
    },
    {
     "name": "stdout",
     "output_type": "stream",
     "text": [
      "Ep. 128, Timestep 35468,  Ep.Timesteps 66, Score: -119.18, Avg.Score: -120.82, Time: 00:07:16 \n"
     ]
    },
    {
     "name": "stderr",
     "output_type": "stream",
     "text": [
      "  6%|▋         | 128/2000 [07:14<24:20,  1.28it/s]"
     ]
    },
    {
     "name": "stdout",
     "output_type": "stream",
     "text": [
      "Ep. 129, Timestep 35527,  Ep.Timesteps 59, Score: -116.27, Avg.Score: -120.92, Time: 00:07:17 \n"
     ]
    },
    {
     "name": "stderr",
     "output_type": "stream",
     "text": [
      "  6%|▋         | 129/2000 [07:15<24:26,  1.28it/s]"
     ]
    },
    {
     "name": "stdout",
     "output_type": "stream",
     "text": [
      "Ep. 130, Timestep 35590,  Ep.Timesteps 63, Score: -118.01, Avg.Score: -121.04, Time: 00:07:18 \n"
     ]
    },
    {
     "name": "stderr",
     "output_type": "stream",
     "text": [
      "  6%|▋         | 130/2000 [07:16<24:59,  1.25it/s]"
     ]
    },
    {
     "name": "stdout",
     "output_type": "stream",
     "text": [
      "Ep. 131, Timestep 35639,  Ep.Timesteps 49, Score: -112.17, Avg.Score: -121.08, Time: 00:07:19 \n"
     ]
    },
    {
     "name": "stderr",
     "output_type": "stream",
     "text": [
      "  7%|▋         | 131/2000 [07:16<23:54,  1.30it/s]"
     ]
    },
    {
     "name": "stdout",
     "output_type": "stream",
     "text": [
      "Ep. 132, Timestep 35697,  Ep.Timesteps 58, Score: -114.32, Avg.Score: -121.16, Time: 00:07:20 \n"
     ]
    },
    {
     "name": "stderr",
     "output_type": "stream",
     "text": [
      "  7%|▋         | 132/2000 [07:17<24:41,  1.26it/s]"
     ]
    },
    {
     "name": "stdout",
     "output_type": "stream",
     "text": [
      "Ep. 133, Timestep 35840,  Ep.Timesteps 143, Score: -127.55, Avg.Score: -121.39, Time: 00:07:21 \n"
     ]
    },
    {
     "name": "stderr",
     "output_type": "stream",
     "text": [
      "  7%|▋         | 133/2000 [07:19<35:11,  1.13s/it]"
     ]
    },
    {
     "name": "stdout",
     "output_type": "stream",
     "text": [
      "Ep. 134, Timestep 35908,  Ep.Timesteps 68, Score: -116.42, Avg.Score: -121.49, Time: 00:07:22 \n"
     ]
    },
    {
     "name": "stderr",
     "output_type": "stream",
     "text": [
      "  7%|▋         | 134/2000 [07:20<33:12,  1.07s/it]"
     ]
    },
    {
     "name": "stdout",
     "output_type": "stream",
     "text": [
      "Ep. 135, Timestep 35950,  Ep.Timesteps 42, Score: -117.69, Avg.Score: -121.63, Time: 00:07:23 \n"
     ]
    },
    {
     "name": "stderr",
     "output_type": "stream",
     "text": [
      "  7%|▋         | 135/2000 [07:21<28:26,  1.09it/s]"
     ]
    },
    {
     "name": "stdout",
     "output_type": "stream",
     "text": [
      "Ep. 136, Timestep 35993,  Ep.Timesteps 43, Score: -123.23, Avg.Score: -121.83, Time: 00:07:24 \n"
     ]
    },
    {
     "name": "stderr",
     "output_type": "stream",
     "text": [
      "  7%|▋         | 136/2000 [07:21<25:11,  1.23it/s]"
     ]
    },
    {
     "name": "stdout",
     "output_type": "stream",
     "text": [
      "Ep. 137, Timestep 36044,  Ep.Timesteps 51, Score: -117.02, Avg.Score: -121.97, Time: 00:07:24 \n"
     ]
    },
    {
     "name": "stderr",
     "output_type": "stream",
     "text": [
      "  7%|▋         | 137/2000 [07:22<24:02,  1.29it/s]"
     ]
    },
    {
     "name": "stdout",
     "output_type": "stream",
     "text": [
      "Ep. 138, Timestep 36132,  Ep.Timesteps 88, Score: -114.32, Avg.Score: -122.09, Time: 00:07:25 \n"
     ]
    },
    {
     "name": "stderr",
     "output_type": "stream",
     "text": [
      "  7%|▋         | 138/2000 [07:23<27:57,  1.11it/s]"
     ]
    },
    {
     "name": "stdout",
     "output_type": "stream",
     "text": [
      "Ep. 139, Timestep 36184,  Ep.Timesteps 52, Score: -114.28, Avg.Score: -122.16, Time: 00:07:26 \n"
     ]
    },
    {
     "name": "stderr",
     "output_type": "stream",
     "text": [
      "  7%|▋         | 139/2000 [07:24<26:52,  1.15it/s]"
     ]
    },
    {
     "name": "stdout",
     "output_type": "stream",
     "text": [
      "Ep. 140, Timestep 36244,  Ep.Timesteps 60, Score: -116.73, Avg.Score: -122.30, Time: 00:07:27 \n"
     ]
    },
    {
     "name": "stderr",
     "output_type": "stream",
     "text": [
      "  7%|▋         | 140/2000 [07:25<26:16,  1.18it/s]"
     ]
    },
    {
     "name": "stdout",
     "output_type": "stream",
     "text": [
      "Ep. 141, Timestep 36446,  Ep.Timesteps 202, Score: -112.68, Avg.Score: -122.38, Time: 00:07:29 \n"
     ]
    },
    {
     "name": "stderr",
     "output_type": "stream",
     "text": [
      "  7%|▋         | 141/2000 [07:27<44:13,  1.43s/it]"
     ]
    },
    {
     "name": "stdout",
     "output_type": "stream",
     "text": [
      "Ep. 142, Timestep 36590,  Ep.Timesteps 144, Score: -113.28, Avg.Score: -122.48, Time: 00:07:31 \n"
     ]
    },
    {
     "name": "stderr",
     "output_type": "stream",
     "text": [
      "  7%|▋         | 142/2000 [07:29<49:10,  1.59s/it]"
     ]
    },
    {
     "name": "stdout",
     "output_type": "stream",
     "text": [
      "Ep. 143, Timestep 36681,  Ep.Timesteps 91, Score: -115.05, Avg.Score: -122.61, Time: 00:07:33 \n"
     ]
    },
    {
     "name": "stderr",
     "output_type": "stream",
     "text": [
      "  7%|▋         | 143/2000 [07:31<45:43,  1.48s/it]"
     ]
    },
    {
     "name": "stdout",
     "output_type": "stream",
     "text": [
      "Ep. 144, Timestep 36719,  Ep.Timesteps 38, Score: -112.55, Avg.Score: -122.73, Time: 00:07:34 \n"
     ]
    },
    {
     "name": "stderr",
     "output_type": "stream",
     "text": [
      "  7%|▋         | 144/2000 [07:31<36:41,  1.19s/it]"
     ]
    },
    {
     "name": "stdout",
     "output_type": "stream",
     "text": [
      "Ep. 145, Timestep 36754,  Ep.Timesteps 35, Score: -113.33, Avg.Score: -122.86, Time: 00:07:34 \n"
     ]
    },
    {
     "name": "stderr",
     "output_type": "stream",
     "text": [
      "  7%|▋         | 145/2000 [07:31<29:32,  1.05it/s]"
     ]
    },
    {
     "name": "stdout",
     "output_type": "stream",
     "text": [
      "Ep. 146, Timestep 36788,  Ep.Timesteps 34, Score: -112.52, Avg.Score: -122.98, Time: 00:07:35 \n"
     ]
    },
    {
     "name": "stderr",
     "output_type": "stream",
     "text": [
      "  7%|▋         | 146/2000 [07:32<24:01,  1.29it/s]"
     ]
    },
    {
     "name": "stdout",
     "output_type": "stream",
     "text": [
      "Ep. 147, Timestep 36825,  Ep.Timesteps 37, Score: -114.72, Avg.Score: -123.13, Time: 00:07:35 \n"
     ]
    },
    {
     "name": "stderr",
     "output_type": "stream",
     "text": [
      "  7%|▋         | 147/2000 [07:32<20:15,  1.52it/s]"
     ]
    },
    {
     "name": "stdout",
     "output_type": "stream",
     "text": [
      "Ep. 148, Timestep 36932,  Ep.Timesteps 107, Score: -125.85, Avg.Score: -123.37, Time: 00:07:36 \n"
     ]
    },
    {
     "name": "stderr",
     "output_type": "stream",
     "text": [
      "  7%|▋         | 148/2000 [07:33<24:07,  1.28it/s]"
     ]
    },
    {
     "name": "stdout",
     "output_type": "stream",
     "text": [
      "Ep. 149, Timestep 36971,  Ep.Timesteps 39, Score: -109.56, Avg.Score: -123.42, Time: 00:07:36 \n"
     ]
    },
    {
     "name": "stderr",
     "output_type": "stream",
     "text": [
      "  7%|▋         | 149/2000 [07:34<20:29,  1.51it/s]"
     ]
    },
    {
     "name": "stdout",
     "output_type": "stream",
     "text": [
      "Ep. 150, Timestep 37025,  Ep.Timesteps 54, Score: -111.65, Avg.Score: -123.51, Time: 00:07:37 \n"
     ]
    },
    {
     "name": "stderr",
     "output_type": "stream",
     "text": [
      "  8%|▊         | 150/2000 [07:34<19:15,  1.60it/s]"
     ]
    },
    {
     "name": "stdout",
     "output_type": "stream",
     "text": [
      "Ep. 151, Timestep 37063,  Ep.Timesteps 38, Score: -109.03, Avg.Score: -123.57, Time: 00:07:37 \n"
     ]
    },
    {
     "name": "stderr",
     "output_type": "stream",
     "text": [
      "  8%|▊         | 151/2000 [07:35<16:58,  1.82it/s]"
     ]
    },
    {
     "name": "stdout",
     "output_type": "stream",
     "text": [
      "Ep. 152, Timestep 37101,  Ep.Timesteps 38, Score: -109.30, Avg.Score: -123.64, Time: 00:07:38 \n"
     ]
    },
    {
     "name": "stderr",
     "output_type": "stream",
     "text": [
      "  8%|▊         | 152/2000 [07:35<15:21,  2.00it/s]"
     ]
    },
    {
     "name": "stdout",
     "output_type": "stream",
     "text": [
      "Ep. 153, Timestep 37155,  Ep.Timesteps 54, Score: -112.24, Avg.Score: -123.75, Time: 00:07:38 \n"
     ]
    },
    {
     "name": "stderr",
     "output_type": "stream",
     "text": [
      "  8%|▊         | 153/2000 [07:35<15:41,  1.96it/s]"
     ]
    },
    {
     "name": "stdout",
     "output_type": "stream",
     "text": [
      "Ep. 154, Timestep 37191,  Ep.Timesteps 36, Score: -109.00, Avg.Score: -123.79, Time: 00:07:39 \n"
     ]
    },
    {
     "name": "stderr",
     "output_type": "stream",
     "text": [
      "  8%|▊         | 154/2000 [07:36<14:17,  2.15it/s]"
     ]
    },
    {
     "name": "stdout",
     "output_type": "stream",
     "text": [
      "Ep. 155, Timestep 37230,  Ep.Timesteps 39, Score: -109.38, Avg.Score: -123.85, Time: 00:07:39 \n"
     ]
    },
    {
     "name": "stderr",
     "output_type": "stream",
     "text": [
      "  8%|▊         | 155/2000 [07:36<13:34,  2.27it/s]"
     ]
    },
    {
     "name": "stdout",
     "output_type": "stream",
     "text": [
      "Ep. 156, Timestep 37290,  Ep.Timesteps 60, Score: -112.77, Avg.Score: -123.95, Time: 00:07:39 \n"
     ]
    },
    {
     "name": "stderr",
     "output_type": "stream",
     "text": [
      "  8%|▊         | 156/2000 [07:37<14:57,  2.05it/s]"
     ]
    },
    {
     "name": "stdout",
     "output_type": "stream",
     "text": [
      "Ep. 157, Timestep 37333,  Ep.Timesteps 43, Score: -109.77, Avg.Score: -124.00, Time: 00:07:40 \n"
     ]
    },
    {
     "name": "stderr",
     "output_type": "stream",
     "text": [
      "  8%|▊         | 157/2000 [07:37<14:53,  2.06it/s]"
     ]
    },
    {
     "name": "stdout",
     "output_type": "stream",
     "text": [
      "Ep. 158, Timestep 37371,  Ep.Timesteps 38, Score: -108.67, Avg.Score: -124.06, Time: 00:07:41 \n"
     ]
    },
    {
     "name": "stderr",
     "output_type": "stream",
     "text": [
      "  8%|▊         | 158/2000 [07:38<14:25,  2.13it/s]"
     ]
    },
    {
     "name": "stdout",
     "output_type": "stream",
     "text": [
      "Ep. 159, Timestep 37408,  Ep.Timesteps 37, Score: -109.00, Avg.Score: -124.11, Time: 00:07:41 \n"
     ]
    },
    {
     "name": "stderr",
     "output_type": "stream",
     "text": [
      "  8%|▊         | 159/2000 [07:38<14:28,  2.12it/s]"
     ]
    },
    {
     "name": "stdout",
     "output_type": "stream",
     "text": [
      "Ep. 160, Timestep 37766,  Ep.Timesteps 358, Score: -125.65, Avg.Score: -124.33, Time: 00:07:44 \n"
     ]
    },
    {
     "name": "stderr",
     "output_type": "stream",
     "text": [
      "  8%|▊         | 160/2000 [07:44<1:00:13,  1.96s/it]"
     ]
    },
    {
     "name": "stdout",
     "output_type": "stream",
     "text": [
      "Ep. 161, Timestep 39366,  Ep.Timesteps 1600, Score: -89.28, Avg.Score: -124.15, Time: 00:07:55 \n"
     ]
    },
    {
     "name": "stderr",
     "output_type": "stream",
     "text": [
      "  8%|▊         | 161/2000 [08:04<3:44:44,  7.33s/it]"
     ]
    },
    {
     "name": "stdout",
     "output_type": "stream",
     "text": [
      "Ep. 162, Timestep 40966,  Ep.Timesteps 1600, Score: -123.56, Avg.Score: -124.34, Time: 00:08:15 \n"
     ]
    },
    {
     "name": "stderr",
     "output_type": "stream",
     "text": [
      "  8%|▊         | 162/2000 [08:24<5:44:34, 11.25s/it]"
     ]
    },
    {
     "name": "stdout",
     "output_type": "stream",
     "text": [
      "Ep. 163, Timestep 42566,  Ep.Timesteps 1600, Score: -179.59, Avg.Score: -124.80, Time: 00:08:34 \n"
     ]
    },
    {
     "name": "stderr",
     "output_type": "stream",
     "text": [
      "  8%|▊         | 163/2000 [08:44<7:06:14, 13.92s/it]"
     ]
    },
    {
     "name": "stdout",
     "output_type": "stream",
     "text": [
      "Ep. 164, Timestep 44166,  Ep.Timesteps 1600, Score: -181.40, Avg.Score: -125.19, Time: 00:08:55 \n"
     ]
    },
    {
     "name": "stderr",
     "output_type": "stream",
     "text": [
      "  8%|▊         | 164/2000 [09:04<8:00:28, 15.70s/it]"
     ]
    },
    {
     "name": "stdout",
     "output_type": "stream",
     "text": [
      "Ep. 165, Timestep 45766,  Ep.Timesteps 1600, Score: -180.24, Avg.Score: -125.55, Time: 00:09:15 \n"
     ]
    },
    {
     "name": "stderr",
     "output_type": "stream",
     "text": [
      "  8%|▊         | 165/2000 [09:24<8:35:57, 16.87s/it]"
     ]
    },
    {
     "name": "stdout",
     "output_type": "stream",
     "text": [
      "Ep. 166, Timestep 47366,  Ep.Timesteps 1600, Score: -180.63, Avg.Score: -126.02, Time: 00:09:35 \n"
     ]
    },
    {
     "name": "stderr",
     "output_type": "stream",
     "text": [
      "  8%|▊         | 166/2000 [09:43<9:03:20, 17.78s/it]"
     ]
    },
    {
     "name": "stdout",
     "output_type": "stream",
     "text": [
      "Ep. 167, Timestep 48966,  Ep.Timesteps 1600, Score: -176.09, Avg.Score: -126.52, Time: 00:09:55 \n"
     ]
    },
    {
     "name": "stderr",
     "output_type": "stream",
     "text": [
      "  8%|▊         | 167/2000 [10:04<9:29:59, 18.66s/it]"
     ]
    },
    {
     "name": "stdout",
     "output_type": "stream",
     "text": [
      "Ep. 168, Timestep 50566,  Ep.Timesteps 1600, Score: -174.24, Avg.Score: -126.56, Time: 00:10:15 \n"
     ]
    },
    {
     "name": "stderr",
     "output_type": "stream",
     "text": [
      "  8%|▊         | 168/2000 [10:24<9:38:31, 18.95s/it]"
     ]
    },
    {
     "name": "stdout",
     "output_type": "stream",
     "text": [
      "Ep. 169, Timestep 52166,  Ep.Timesteps 1600, Score: -173.98, Avg.Score: -127.01, Time: 00:10:35 \n"
     ]
    },
    {
     "name": "stderr",
     "output_type": "stream",
     "text": [
      "  8%|▊         | 169/2000 [10:44<9:48:45, 19.29s/it]"
     ]
    },
    {
     "name": "stdout",
     "output_type": "stream",
     "text": [
      "Ep. 170, Timestep 53766,  Ep.Timesteps 1600, Score: -173.48, Avg.Score: -127.46, Time: 00:10:55 \n"
     ]
    },
    {
     "name": "stderr",
     "output_type": "stream",
     "text": [
      "  8%|▊         | 170/2000 [11:04<9:53:16, 19.45s/it]"
     ]
    },
    {
     "name": "stdout",
     "output_type": "stream",
     "text": [
      "Ep. 171, Timestep 55366,  Ep.Timesteps 1600, Score: -173.64, Avg.Score: -127.80, Time: 00:11:15 \n"
     ]
    },
    {
     "name": "stderr",
     "output_type": "stream",
     "text": [
      "  9%|▊         | 171/2000 [11:24<10:03:30, 19.80s/it]"
     ]
    },
    {
     "name": "stdout",
     "output_type": "stream",
     "text": [
      "Ep. 172, Timestep 56966,  Ep.Timesteps 1600, Score: -174.03, Avg.Score: -128.26, Time: 00:11:35 \n"
     ]
    },
    {
     "name": "stderr",
     "output_type": "stream",
     "text": [
      "  9%|▊         | 172/2000 [11:44<10:03:45, 19.82s/it]"
     ]
    },
    {
     "name": "stdout",
     "output_type": "stream",
     "text": [
      "Ep. 173, Timestep 58566,  Ep.Timesteps 1600, Score: -173.60, Avg.Score: -128.58, Time: 00:11:55 \n"
     ]
    },
    {
     "name": "stderr",
     "output_type": "stream",
     "text": [
      "  9%|▊         | 173/2000 [12:04<10:02:44, 19.79s/it]"
     ]
    },
    {
     "name": "stdout",
     "output_type": "stream",
     "text": [
      "Ep. 174, Timestep 60166,  Ep.Timesteps 1600, Score: -173.51, Avg.Score: -129.06, Time: 00:12:16 \n"
     ]
    },
    {
     "name": "stderr",
     "output_type": "stream",
     "text": [
      "  9%|▊         | 174/2000 [12:24<10:05:11, 19.89s/it]"
     ]
    },
    {
     "name": "stdout",
     "output_type": "stream",
     "text": [
      "Ep. 175, Timestep 61766,  Ep.Timesteps 1600, Score: -174.45, Avg.Score: -129.57, Time: 00:12:37 \n"
     ]
    },
    {
     "name": "stderr",
     "output_type": "stream",
     "text": [
      "  9%|▉         | 175/2000 [12:45<10:14:07, 20.19s/it]"
     ]
    },
    {
     "name": "stdout",
     "output_type": "stream",
     "text": [
      "Ep. 176, Timestep 63366,  Ep.Timesteps 1600, Score: -179.14, Avg.Score: -130.08, Time: 00:12:56 \n"
     ]
    },
    {
     "name": "stderr",
     "output_type": "stream",
     "text": [
      "  9%|▉         | 176/2000 [13:06<10:20:29, 20.41s/it]"
     ]
    },
    {
     "name": "stdout",
     "output_type": "stream",
     "text": [
      "Ep. 177, Timestep 64966,  Ep.Timesteps 1600, Score: -174.86, Avg.Score: -130.43, Time: 00:13:16 \n"
     ]
    },
    {
     "name": "stderr",
     "output_type": "stream",
     "text": [
      "  9%|▉         | 177/2000 [13:25<10:13:37, 20.20s/it]"
     ]
    },
    {
     "name": "stdout",
     "output_type": "stream",
     "text": [
      "Ep. 178, Timestep 66566,  Ep.Timesteps 1600, Score: -178.28, Avg.Score: -130.79, Time: 00:13:36 \n"
     ]
    },
    {
     "name": "stderr",
     "output_type": "stream",
     "text": [
      "  9%|▉         | 178/2000 [13:45<10:10:35, 20.11s/it]"
     ]
    },
    {
     "name": "stdout",
     "output_type": "stream",
     "text": [
      "Ep. 179, Timestep 68166,  Ep.Timesteps 1600, Score: -146.22, Avg.Score: -131.00, Time: 00:13:56 \n"
     ]
    },
    {
     "name": "stderr",
     "output_type": "stream",
     "text": [
      "  9%|▉         | 179/2000 [14:05<10:08:05, 20.04s/it]"
     ]
    },
    {
     "name": "stdout",
     "output_type": "stream",
     "text": [
      "Ep. 180, Timestep 69766,  Ep.Timesteps 1600, Score: -144.57, Avg.Score: -130.94, Time: 00:14:16 \n"
     ]
    },
    {
     "name": "stderr",
     "output_type": "stream",
     "text": [
      "  9%|▉         | 180/2000 [14:25<10:08:21, 20.06s/it]"
     ]
    },
    {
     "name": "stdout",
     "output_type": "stream",
     "text": [
      "Ep. 181, Timestep 71366,  Ep.Timesteps 1600, Score: -172.33, Avg.Score: -130.93, Time: 00:14:36 \n"
     ]
    },
    {
     "name": "stderr",
     "output_type": "stream",
     "text": [
      "  9%|▉         | 181/2000 [14:46<10:08:59, 20.09s/it]"
     ]
    },
    {
     "name": "stdout",
     "output_type": "stream",
     "text": [
      "Ep. 182, Timestep 72966,  Ep.Timesteps 1600, Score: -149.67, Avg.Score: -130.66, Time: 00:14:57 \n"
     ]
    },
    {
     "name": "stderr",
     "output_type": "stream",
     "text": [
      "  9%|▉         | 182/2000 [15:06<10:09:47, 20.12s/it]"
     ]
    },
    {
     "name": "stdout",
     "output_type": "stream",
     "text": [
      "Ep. 183, Timestep 74566,  Ep.Timesteps 1600, Score: -173.57, Avg.Score: -130.98, Time: 00:15:17 \n"
     ]
    },
    {
     "name": "stderr",
     "output_type": "stream",
     "text": [
      "  9%|▉         | 183/2000 [15:26<10:07:07, 20.05s/it]"
     ]
    },
    {
     "name": "stdout",
     "output_type": "stream",
     "text": [
      "Ep. 184, Timestep 76166,  Ep.Timesteps 1600, Score: -151.98, Avg.Score: -130.75, Time: 00:15:37 \n"
     ]
    },
    {
     "name": "stderr",
     "output_type": "stream",
     "text": [
      "  9%|▉         | 184/2000 [15:46<10:09:57, 20.15s/it]"
     ]
    },
    {
     "name": "stdout",
     "output_type": "stream",
     "text": [
      "Ep. 185, Timestep 77766,  Ep.Timesteps 1600, Score: -179.29, Avg.Score: -131.36, Time: 00:15:57 \n"
     ]
    },
    {
     "name": "stderr",
     "output_type": "stream",
     "text": [
      "  9%|▉         | 185/2000 [16:07<10:13:07, 20.27s/it]"
     ]
    },
    {
     "name": "stdout",
     "output_type": "stream",
     "text": [
      "Ep. 186, Timestep 79366,  Ep.Timesteps 1600, Score: -167.35, Avg.Score: -131.80, Time: 00:16:17 \n"
     ]
    },
    {
     "name": "stderr",
     "output_type": "stream",
     "text": [
      "  9%|▉         | 186/2000 [16:26<10:06:20, 20.06s/it]"
     ]
    },
    {
     "name": "stdout",
     "output_type": "stream",
     "text": [
      "Ep. 187, Timestep 80966,  Ep.Timesteps 1600, Score: -174.52, Avg.Score: -132.38, Time: 00:16:38 \n"
     ]
    },
    {
     "name": "stderr",
     "output_type": "stream",
     "text": [
      "  9%|▉         | 187/2000 [16:45<9:58:36, 19.81s/it] "
     ]
    },
    {
     "name": "stdout",
     "output_type": "stream",
     "text": [
      "Ep. 188, Timestep 82566,  Ep.Timesteps 1600, Score: -181.84, Avg.Score: -133.00, Time: 00:16:58 \n"
     ]
    },
    {
     "name": "stderr",
     "output_type": "stream",
     "text": [
      "  9%|▉         | 188/2000 [17:06<10:04:53, 20.03s/it]"
     ]
    },
    {
     "name": "stdout",
     "output_type": "stream",
     "text": [
      "Ep. 189, Timestep 84166,  Ep.Timesteps 1600, Score: -144.08, Avg.Score: -132.87, Time: 00:17:18 \n"
     ]
    },
    {
     "name": "stderr",
     "output_type": "stream",
     "text": [
      "  9%|▉         | 189/2000 [17:27<10:13:57, 20.34s/it]"
     ]
    },
    {
     "name": "stdout",
     "output_type": "stream",
     "text": [
      "Ep. 190, Timestep 85766,  Ep.Timesteps 1600, Score: -171.77, Avg.Score: -133.14, Time: 00:17:38 \n"
     ]
    },
    {
     "name": "stderr",
     "output_type": "stream",
     "text": [
      " 10%|▉         | 190/2000 [17:48<10:16:29, 20.44s/it]"
     ]
    },
    {
     "name": "stdout",
     "output_type": "stream",
     "text": [
      "Ep. 191, Timestep 87366,  Ep.Timesteps 1600, Score: -171.91, Avg.Score: -133.37, Time: 00:17:58 \n"
     ]
    },
    {
     "name": "stderr",
     "output_type": "stream",
     "text": [
      " 10%|▉         | 191/2000 [18:08<10:12:41, 20.32s/it]"
     ]
    },
    {
     "name": "stdout",
     "output_type": "stream",
     "text": [
      "Ep. 192, Timestep 88966,  Ep.Timesteps 1600, Score: -173.69, Avg.Score: -133.90, Time: 00:18:19 \n"
     ]
    },
    {
     "name": "stderr",
     "output_type": "stream",
     "text": [
      " 10%|▉         | 192/2000 [18:27<10:05:34, 20.10s/it]"
     ]
    },
    {
     "name": "stdout",
     "output_type": "stream",
     "text": [
      "Ep. 193, Timestep 90566,  Ep.Timesteps 1600, Score: -173.83, Avg.Score: -134.40, Time: 00:18:38 \n"
     ]
    },
    {
     "name": "stderr",
     "output_type": "stream",
     "text": [
      " 10%|▉         | 193/2000 [18:47<10:06:03, 20.12s/it]"
     ]
    },
    {
     "name": "stdout",
     "output_type": "stream",
     "text": [
      "Ep. 194, Timestep 92166,  Ep.Timesteps 1600, Score: -173.69, Avg.Score: -134.97, Time: 00:18:58 \n"
     ]
    },
    {
     "name": "stderr",
     "output_type": "stream",
     "text": [
      " 10%|▉         | 194/2000 [19:07<10:05:11, 20.11s/it]"
     ]
    },
    {
     "name": "stdout",
     "output_type": "stream",
     "text": [
      "Ep. 195, Timestep 93766,  Ep.Timesteps 1600, Score: -178.95, Avg.Score: -135.56, Time: 00:19:18 \n"
     ]
    },
    {
     "name": "stderr",
     "output_type": "stream",
     "text": [
      " 10%|▉         | 195/2000 [19:27<10:00:52, 19.97s/it]"
     ]
    },
    {
     "name": "stdout",
     "output_type": "stream",
     "text": [
      "Ep. 196, Timestep 95366,  Ep.Timesteps 1600, Score: -173.92, Avg.Score: -136.08, Time: 00:19:38 \n"
     ]
    },
    {
     "name": "stderr",
     "output_type": "stream",
     "text": [
      " 10%|▉         | 196/2000 [19:47<10:00:06, 19.96s/it]"
     ]
    },
    {
     "name": "stdout",
     "output_type": "stream",
     "text": [
      "Ep. 197, Timestep 96966,  Ep.Timesteps 1600, Score: -178.22, Avg.Score: -136.72, Time: 00:19:58 \n"
     ]
    },
    {
     "name": "stderr",
     "output_type": "stream",
     "text": [
      " 10%|▉         | 197/2000 [20:07<9:58:44, 19.93s/it] "
     ]
    },
    {
     "name": "stdout",
     "output_type": "stream",
     "text": [
      "Ep. 198, Timestep 98566,  Ep.Timesteps 1600, Score: -173.93, Avg.Score: -137.29, Time: 00:20:18 \n"
     ]
    },
    {
     "name": "stderr",
     "output_type": "stream",
     "text": [
      " 10%|▉         | 198/2000 [20:27<10:03:44, 20.10s/it]"
     ]
    },
    {
     "name": "stdout",
     "output_type": "stream",
     "text": [
      "Ep. 199, Timestep 100166,  Ep.Timesteps 1600, Score: -177.40, Avg.Score: -137.54, Time: 00:20:37 \n"
     ]
    },
    {
     "name": "stderr",
     "output_type": "stream",
     "text": [
      " 10%|▉         | 199/2000 [20:47<10:01:05, 20.03s/it]"
     ]
    },
    {
     "name": "stdout",
     "output_type": "stream",
     "text": [
      "Ep. 200, Timestep 101766,  Ep.Timesteps 1600, Score: -173.57, Avg.Score: -138.09, Time: 00:20:58 \n"
     ]
    },
    {
     "name": "stderr",
     "output_type": "stream",
     "text": [
      " 10%|█         | 200/2000 [21:07<9:54:00, 19.80s/it] "
     ]
    },
    {
     "name": "stdout",
     "output_type": "stream",
     "text": [
      "Ep. 201, Timestep 103366,  Ep.Timesteps 1600, Score: -173.57, Avg.Score: -138.73, Time: 00:21:19 \n"
     ]
    },
    {
     "name": "stderr",
     "output_type": "stream",
     "text": [
      " 10%|█         | 201/2000 [21:27<9:56:02, 19.88s/it]"
     ]
    },
    {
     "name": "stdout",
     "output_type": "stream",
     "text": [
      "Ep. 202, Timestep 104966,  Ep.Timesteps 1600, Score: -173.58, Avg.Score: -139.24, Time: 00:21:39 \n"
     ]
    },
    {
     "name": "stderr",
     "output_type": "stream",
     "text": [
      " 10%|█         | 202/2000 [21:47<10:01:03, 20.06s/it]"
     ]
    },
    {
     "name": "stdout",
     "output_type": "stream",
     "text": [
      "Ep. 203, Timestep 106566,  Ep.Timesteps 1600, Score: -177.96, Avg.Score: -139.79, Time: 00:21:59 \n"
     ]
    },
    {
     "name": "stderr",
     "output_type": "stream",
     "text": [
      " 10%|█         | 203/2000 [22:07<10:01:43, 20.09s/it]"
     ]
    },
    {
     "name": "stdout",
     "output_type": "stream",
     "text": [
      "Ep. 204, Timestep 108166,  Ep.Timesteps 1600, Score: -181.01, Avg.Score: -140.38, Time: 00:22:18 \n"
     ]
    },
    {
     "name": "stderr",
     "output_type": "stream",
     "text": [
      " 10%|█         | 204/2000 [22:27<10:01:48, 20.10s/it]"
     ]
    },
    {
     "name": "stdout",
     "output_type": "stream",
     "text": [
      "Ep. 205, Timestep 109766,  Ep.Timesteps 1600, Score: -180.28, Avg.Score: -140.94, Time: 00:22:39 \n"
     ]
    },
    {
     "name": "stderr",
     "output_type": "stream",
     "text": [
      " 10%|█         | 205/2000 [22:48<10:02:27, 20.14s/it]"
     ]
    },
    {
     "name": "stdout",
     "output_type": "stream",
     "text": [
      "Ep. 206, Timestep 111366,  Ep.Timesteps 1600, Score: -179.91, Avg.Score: -141.51, Time: 00:22:58 \n"
     ]
    },
    {
     "name": "stderr",
     "output_type": "stream",
     "text": [
      " 10%|█         | 206/2000 [23:07<9:58:15, 20.01s/it] "
     ]
    },
    {
     "name": "stdout",
     "output_type": "stream",
     "text": [
      "Ep. 207, Timestep 112966,  Ep.Timesteps 1600, Score: -181.81, Avg.Score: -142.09, Time: 00:23:19 \n"
     ]
    },
    {
     "name": "stderr",
     "output_type": "stream",
     "text": [
      " 10%|█         | 207/2000 [23:28<10:01:40, 20.13s/it]"
     ]
    },
    {
     "name": "stdout",
     "output_type": "stream",
     "text": [
      "Ep. 208, Timestep 114566,  Ep.Timesteps 1600, Score: -175.39, Avg.Score: -142.61, Time: 00:23:39 \n"
     ]
    },
    {
     "name": "stderr",
     "output_type": "stream",
     "text": [
      " 10%|█         | 208/2000 [23:48<10:00:07, 20.09s/it]"
     ]
    },
    {
     "name": "stdout",
     "output_type": "stream",
     "text": [
      "Ep. 209, Timestep 116166,  Ep.Timesteps 1600, Score: -173.49, Avg.Score: -143.11, Time: 00:23:58 \n"
     ]
    },
    {
     "name": "stderr",
     "output_type": "stream",
     "text": [
      " 10%|█         | 209/2000 [24:07<9:55:39, 19.96s/it] "
     ]
    },
    {
     "name": "stdout",
     "output_type": "stream",
     "text": [
      "Ep. 210, Timestep 117766,  Ep.Timesteps 1600, Score: -173.29, Avg.Score: -143.58, Time: 00:24:19 \n"
     ]
    },
    {
     "name": "stderr",
     "output_type": "stream",
     "text": [
      " 10%|█         | 210/2000 [24:28<9:59:54, 20.11s/it]"
     ]
    },
    {
     "name": "stdout",
     "output_type": "stream",
     "text": [
      "Ep. 211, Timestep 119366,  Ep.Timesteps 1600, Score: -173.66, Avg.Score: -144.07, Time: 00:24:38 \n"
     ]
    },
    {
     "name": "stderr",
     "output_type": "stream",
     "text": [
      " 11%|█         | 211/2000 [24:49<10:05:23, 20.30s/it]"
     ]
    },
    {
     "name": "stdout",
     "output_type": "stream",
     "text": [
      "Ep. 212, Timestep 119412,  Ep.Timesteps 46, Score: -126.36, Avg.Score: -144.12, Time: 00:24:52 \n"
     ]
    },
    {
     "name": "stderr",
     "output_type": "stream",
     "text": [
      " 11%|█         | 212/2000 [24:49<7:08:09, 14.37s/it] "
     ]
    },
    {
     "name": "stdout",
     "output_type": "stream",
     "text": [
      "Ep. 213, Timestep 121012,  Ep.Timesteps 1600, Score: -171.63, Avg.Score: -144.54, Time: 00:24:58 \n"
     ]
    },
    {
     "name": "stderr",
     "output_type": "stream",
     "text": [
      " 11%|█         | 213/2000 [25:09<7:53:50, 15.91s/it]"
     ]
    },
    {
     "name": "stdout",
     "output_type": "stream",
     "text": [
      "Ep. 214, Timestep 122612,  Ep.Timesteps 1600, Score: -171.34, Avg.Score: -145.12, Time: 00:25:18 \n"
     ]
    },
    {
     "name": "stderr",
     "output_type": "stream",
     "text": [
      " 11%|█         | 214/2000 [25:28<8:26:22, 17.01s/it]"
     ]
    },
    {
     "name": "stdout",
     "output_type": "stream",
     "text": [
      "Ep. 215, Timestep 124212,  Ep.Timesteps 1600, Score: -173.51, Avg.Score: -145.57, Time: 00:25:39 \n"
     ]
    },
    {
     "name": "stderr",
     "output_type": "stream",
     "text": [
      " 11%|█         | 215/2000 [25:48<8:52:05, 17.89s/it]"
     ]
    },
    {
     "name": "stdout",
     "output_type": "stream",
     "text": [
      "Ep. 216, Timestep 125812,  Ep.Timesteps 1600, Score: -179.31, Avg.Score: -146.17, Time: 00:26:00 \n"
     ]
    },
    {
     "name": "stderr",
     "output_type": "stream",
     "text": [
      " 11%|█         | 216/2000 [26:08<9:06:51, 18.39s/it]"
     ]
    },
    {
     "name": "stdout",
     "output_type": "stream",
     "text": [
      "Ep. 217, Timestep 127412,  Ep.Timesteps 1600, Score: -173.97, Avg.Score: -146.71, Time: 00:26:20 \n"
     ]
    },
    {
     "name": "stderr",
     "output_type": "stream",
     "text": [
      " 11%|█         | 217/2000 [26:29<9:29:37, 19.17s/it]"
     ]
    },
    {
     "name": "stdout",
     "output_type": "stream",
     "text": [
      "Ep. 218, Timestep 129012,  Ep.Timesteps 1600, Score: -173.49, Avg.Score: -147.12, Time: 00:26:39 \n"
     ]
    },
    {
     "name": "stderr",
     "output_type": "stream",
     "text": [
      " 11%|█         | 218/2000 [26:49<9:38:09, 19.47s/it]"
     ]
    },
    {
     "name": "stdout",
     "output_type": "stream",
     "text": [
      "Ep. 219, Timestep 130612,  Ep.Timesteps 1600, Score: -173.58, Avg.Score: -147.68, Time: 00:26:59 \n"
     ]
    },
    {
     "name": "stderr",
     "output_type": "stream",
     "text": [
      " 11%|█         | 219/2000 [27:09<9:39:32, 19.52s/it]"
     ]
    },
    {
     "name": "stdout",
     "output_type": "stream",
     "text": [
      "Ep. 220, Timestep 132212,  Ep.Timesteps 1600, Score: -173.44, Avg.Score: -148.21, Time: 00:27:20 \n"
     ]
    },
    {
     "name": "stderr",
     "output_type": "stream",
     "text": [
      " 11%|█         | 220/2000 [27:28<9:43:08, 19.66s/it]"
     ]
    },
    {
     "name": "stdout",
     "output_type": "stream",
     "text": [
      "Ep. 221, Timestep 133812,  Ep.Timesteps 1600, Score: -173.90, Avg.Score: -148.75, Time: 00:27:40 \n"
     ]
    },
    {
     "name": "stderr",
     "output_type": "stream",
     "text": [
      " 11%|█         | 221/2000 [27:50<9:55:06, 20.07s/it]"
     ]
    },
    {
     "name": "stdout",
     "output_type": "stream",
     "text": [
      "Ep. 222, Timestep 135412,  Ep.Timesteps 1600, Score: -173.88, Avg.Score: -149.25, Time: 00:28:00 \n"
     ]
    },
    {
     "name": "stderr",
     "output_type": "stream",
     "text": [
      " 11%|█         | 222/2000 [28:09<9:48:39, 19.87s/it]"
     ]
    },
    {
     "name": "stdout",
     "output_type": "stream",
     "text": [
      "Ep. 223, Timestep 137012,  Ep.Timesteps 1600, Score: -173.33, Avg.Score: -149.77, Time: 00:28:21 \n"
     ]
    },
    {
     "name": "stderr",
     "output_type": "stream",
     "text": [
      " 11%|█         | 223/2000 [28:29<9:51:01, 19.96s/it]"
     ]
    },
    {
     "name": "stdout",
     "output_type": "stream",
     "text": [
      "Ep. 224, Timestep 138612,  Ep.Timesteps 1600, Score: -173.35, Avg.Score: -150.32, Time: 00:28:42 \n"
     ]
    },
    {
     "name": "stderr",
     "output_type": "stream",
     "text": [
      " 11%|█         | 224/2000 [28:50<9:57:04, 20.17s/it]"
     ]
    },
    {
     "name": "stdout",
     "output_type": "stream",
     "text": [
      "Ep. 225, Timestep 138659,  Ep.Timesteps 47, Score: -124.47, Avg.Score: -150.37, Time: 00:28:53 \n"
     ]
    },
    {
     "name": "stderr",
     "output_type": "stream",
     "text": [
      " 11%|█▏        | 225/2000 [28:50<7:02:34, 14.28s/it]"
     ]
    },
    {
     "name": "stdout",
     "output_type": "stream",
     "text": [
      "Ep. 226, Timestep 140259,  Ep.Timesteps 1600, Score: -174.02, Avg.Score: -150.92, Time: 00:29:02 \n"
     ]
    },
    {
     "name": "stderr",
     "output_type": "stream",
     "text": [
      " 11%|█▏        | 226/2000 [29:11<7:56:10, 16.11s/it]"
     ]
    },
    {
     "name": "stdout",
     "output_type": "stream",
     "text": [
      "Ep. 227, Timestep 141859,  Ep.Timesteps 1600, Score: -173.81, Avg.Score: -151.51, Time: 00:29:23 \n"
     ]
    },
    {
     "name": "stderr",
     "output_type": "stream",
     "text": [
      " 11%|█▏        | 227/2000 [29:32<8:42:05, 17.67s/it]"
     ]
    },
    {
     "name": "stdout",
     "output_type": "stream",
     "text": [
      "Ep. 228, Timestep 143459,  Ep.Timesteps 1600, Score: -173.94, Avg.Score: -152.06, Time: 00:29:42 \n"
     ]
    },
    {
     "name": "stderr",
     "output_type": "stream",
     "text": [
      " 11%|█▏        | 228/2000 [29:52<9:05:10, 18.46s/it]"
     ]
    },
    {
     "name": "stdout",
     "output_type": "stream",
     "text": [
      "Ep. 229, Timestep 145059,  Ep.Timesteps 1600, Score: -173.71, Avg.Score: -152.63, Time: 00:30:02 \n"
     ]
    },
    {
     "name": "stderr",
     "output_type": "stream",
     "text": [
      " 11%|█▏        | 229/2000 [30:11<9:10:06, 18.64s/it]"
     ]
    },
    {
     "name": "stdout",
     "output_type": "stream",
     "text": [
      "Ep. 230, Timestep 146659,  Ep.Timesteps 1600, Score: -174.01, Avg.Score: -153.19, Time: 00:30:23 \n"
     ]
    },
    {
     "name": "stderr",
     "output_type": "stream",
     "text": [
      " 12%|█▏        | 230/2000 [30:31<9:23:16, 19.09s/it]"
     ]
    },
    {
     "name": "stdout",
     "output_type": "stream",
     "text": [
      "Ep. 231, Timestep 148259,  Ep.Timesteps 1600, Score: -173.38, Avg.Score: -153.80, Time: 00:30:42 \n"
     ]
    },
    {
     "name": "stderr",
     "output_type": "stream",
     "text": [
      " 12%|█▏        | 231/2000 [30:51<9:30:21, 19.34s/it]"
     ]
    },
    {
     "name": "stdout",
     "output_type": "stream",
     "text": [
      "Ep. 232, Timestep 149859,  Ep.Timesteps 1600, Score: -176.03, Avg.Score: -154.42, Time: 00:31:02 \n"
     ]
    },
    {
     "name": "stderr",
     "output_type": "stream",
     "text": [
      " 12%|█▏        | 232/2000 [31:11<9:32:26, 19.43s/it]"
     ]
    },
    {
     "name": "stdout",
     "output_type": "stream",
     "text": [
      "Ep. 233, Timestep 151459,  Ep.Timesteps 1600, Score: -174.35, Avg.Score: -154.89, Time: 00:31:22 \n"
     ]
    },
    {
     "name": "stderr",
     "output_type": "stream",
     "text": [
      " 12%|█▏        | 233/2000 [31:31<9:39:06, 19.66s/it]"
     ]
    },
    {
     "name": "stdout",
     "output_type": "stream",
     "text": [
      "Ep. 234, Timestep 153059,  Ep.Timesteps 1600, Score: -173.85, Avg.Score: -155.46, Time: 00:31:42 \n"
     ]
    },
    {
     "name": "stderr",
     "output_type": "stream",
     "text": [
      " 12%|█▏        | 234/2000 [31:51<9:38:49, 19.67s/it]"
     ]
    },
    {
     "name": "stdout",
     "output_type": "stream",
     "text": [
      "Ep. 235, Timestep 154659,  Ep.Timesteps 1600, Score: -173.41, Avg.Score: -156.02, Time: 00:32:01 \n"
     ]
    },
    {
     "name": "stderr",
     "output_type": "stream",
     "text": [
      " 12%|█▏        | 235/2000 [32:11<9:39:04, 19.69s/it]"
     ]
    },
    {
     "name": "stdout",
     "output_type": "stream",
     "text": [
      "Ep. 236, Timestep 156259,  Ep.Timesteps 1600, Score: -174.23, Avg.Score: -156.53, Time: 00:32:22 \n"
     ]
    },
    {
     "name": "stderr",
     "output_type": "stream",
     "text": [
      " 12%|█▏        | 236/2000 [32:31<9:44:23, 19.88s/it]"
     ]
    },
    {
     "name": "stdout",
     "output_type": "stream",
     "text": [
      "Ep. 237, Timestep 157859,  Ep.Timesteps 1600, Score: -173.49, Avg.Score: -157.09, Time: 00:32:42 \n"
     ]
    },
    {
     "name": "stderr",
     "output_type": "stream",
     "text": [
      " 12%|█▏        | 237/2000 [32:50<9:40:09, 19.74s/it]"
     ]
    },
    {
     "name": "stdout",
     "output_type": "stream",
     "text": [
      "Ep. 238, Timestep 159459,  Ep.Timesteps 1600, Score: -173.87, Avg.Score: -157.69, Time: 00:33:03 \n"
     ]
    },
    {
     "name": "stderr",
     "output_type": "stream",
     "text": [
      " 12%|█▏        | 238/2000 [33:11<9:44:57, 19.92s/it]"
     ]
    },
    {
     "name": "stdout",
     "output_type": "stream",
     "text": [
      "Ep. 239, Timestep 161059,  Ep.Timesteps 1600, Score: -173.50, Avg.Score: -158.28, Time: 00:33:23 \n"
     ]
    },
    {
     "name": "stderr",
     "output_type": "stream",
     "text": [
      " 12%|█▏        | 239/2000 [33:31<9:48:00, 20.03s/it]"
     ]
    },
    {
     "name": "stdout",
     "output_type": "stream",
     "text": [
      "Ep. 240, Timestep 162659,  Ep.Timesteps 1600, Score: -173.30, Avg.Score: -158.85, Time: 00:33:43 \n"
     ]
    },
    {
     "name": "stderr",
     "output_type": "stream",
     "text": [
      " 12%|█▏        | 240/2000 [33:52<9:55:31, 20.30s/it]"
     ]
    },
    {
     "name": "stdout",
     "output_type": "stream",
     "text": [
      "Ep. 241, Timestep 164259,  Ep.Timesteps 1600, Score: -173.64, Avg.Score: -159.46, Time: 00:34:03 \n"
     ]
    },
    {
     "name": "stderr",
     "output_type": "stream",
     "text": [
      " 12%|█▏        | 241/2000 [34:12<9:57:03, 20.37s/it]"
     ]
    },
    {
     "name": "stdout",
     "output_type": "stream",
     "text": [
      "Ep. 242, Timestep 165859,  Ep.Timesteps 1600, Score: -173.48, Avg.Score: -160.06, Time: 00:34:23 \n"
     ]
    },
    {
     "name": "stderr",
     "output_type": "stream",
     "text": [
      " 12%|█▏        | 242/2000 [34:33<9:55:15, 20.32s/it]"
     ]
    },
    {
     "name": "stdout",
     "output_type": "stream",
     "text": [
      "Ep. 243, Timestep 167459,  Ep.Timesteps 1600, Score: -175.56, Avg.Score: -160.66, Time: 00:34:43 \n"
     ]
    },
    {
     "name": "stderr",
     "output_type": "stream",
     "text": [
      " 12%|█▏        | 243/2000 [34:52<9:45:04, 19.98s/it]"
     ]
    },
    {
     "name": "stdout",
     "output_type": "stream",
     "text": [
      "Ep. 244, Timestep 169059,  Ep.Timesteps 1600, Score: -180.18, Avg.Score: -161.34, Time: 00:35:03 \n"
     ]
    },
    {
     "name": "stderr",
     "output_type": "stream",
     "text": [
      " 12%|█▏        | 244/2000 [35:13<9:51:23, 20.21s/it]"
     ]
    },
    {
     "name": "stdout",
     "output_type": "stream",
     "text": [
      "Ep. 245, Timestep 169405,  Ep.Timesteps 346, Score: -139.64, Avg.Score: -161.60, Time: 00:35:17 \n"
     ]
    },
    {
     "name": "stderr",
     "output_type": "stream",
     "text": [
      " 12%|█▏        | 245/2000 [35:16<7:25:29, 15.23s/it]"
     ]
    },
    {
     "name": "stdout",
     "output_type": "stream",
     "text": [
      "Ep. 246, Timestep 171005,  Ep.Timesteps 1600, Score: -175.79, Avg.Score: -162.24, Time: 00:35:28 \n"
     ]
    },
    {
     "name": "stderr",
     "output_type": "stream",
     "text": [
      " 12%|█▏        | 246/2000 [35:37<8:11:06, 16.80s/it]"
     ]
    },
    {
     "name": "stdout",
     "output_type": "stream",
     "text": [
      "Ep. 247, Timestep 172605,  Ep.Timesteps 1600, Score: -181.04, Avg.Score: -162.90, Time: 00:35:47 \n"
     ]
    },
    {
     "name": "stderr",
     "output_type": "stream",
     "text": [
      " 12%|█▏        | 247/2000 [35:57<8:39:32, 17.78s/it]"
     ]
    },
    {
     "name": "stdout",
     "output_type": "stream",
     "text": [
      "Ep. 248, Timestep 174205,  Ep.Timesteps 1600, Score: -178.91, Avg.Score: -163.43, Time: 00:36:08 \n"
     ]
    },
    {
     "name": "stderr",
     "output_type": "stream",
     "text": [
      " 12%|█▏        | 248/2000 [36:16<8:50:34, 18.17s/it]"
     ]
    },
    {
     "name": "stdout",
     "output_type": "stream",
     "text": [
      "Ep. 249, Timestep 175805,  Ep.Timesteps 1600, Score: -175.04, Avg.Score: -164.08, Time: 00:36:28 \n"
     ]
    },
    {
     "name": "stderr",
     "output_type": "stream",
     "text": [
      " 12%|█▏        | 249/2000 [36:37<9:12:26, 18.93s/it]"
     ]
    },
    {
     "name": "stdout",
     "output_type": "stream",
     "text": [
      "Ep. 250, Timestep 177405,  Ep.Timesteps 1600, Score: -180.83, Avg.Score: -164.78, Time: 00:36:47 \n"
     ]
    },
    {
     "name": "stderr",
     "output_type": "stream",
     "text": [
      " 12%|█▎        | 250/2000 [36:57<9:26:33, 19.43s/it]"
     ]
    },
    {
     "name": "stdout",
     "output_type": "stream",
     "text": [
      "Ep. 251, Timestep 179005,  Ep.Timesteps 1600, Score: -173.68, Avg.Score: -165.42, Time: 00:37:07 \n"
     ]
    },
    {
     "name": "stderr",
     "output_type": "stream",
     "text": [
      " 13%|█▎        | 251/2000 [37:18<9:34:54, 19.72s/it]"
     ]
    },
    {
     "name": "stdout",
     "output_type": "stream",
     "text": [
      "Ep. 252, Timestep 180605,  Ep.Timesteps 1600, Score: -173.69, Avg.Score: -166.07, Time: 00:37:27 \n"
     ]
    },
    {
     "name": "stderr",
     "output_type": "stream",
     "text": [
      " 13%|█▎        | 252/2000 [37:37<9:33:50, 19.70s/it]"
     ]
    },
    {
     "name": "stdout",
     "output_type": "stream",
     "text": [
      "Ep. 253, Timestep 182205,  Ep.Timesteps 1600, Score: -173.43, Avg.Score: -166.68, Time: 00:37:47 \n"
     ]
    },
    {
     "name": "stderr",
     "output_type": "stream",
     "text": [
      " 13%|█▎        | 253/2000 [37:56<9:28:57, 19.54s/it]"
     ]
    },
    {
     "name": "stdout",
     "output_type": "stream",
     "text": [
      "Ep. 254, Timestep 183805,  Ep.Timesteps 1600, Score: -173.52, Avg.Score: -167.32, Time: 00:38:08 \n"
     ]
    },
    {
     "name": "stderr",
     "output_type": "stream",
     "text": [
      " 13%|█▎        | 254/2000 [38:16<9:31:27, 19.64s/it]"
     ]
    },
    {
     "name": "stdout",
     "output_type": "stream",
     "text": [
      "Ep. 255, Timestep 185405,  Ep.Timesteps 1600, Score: -174.10, Avg.Score: -167.97, Time: 00:38:28 \n"
     ]
    },
    {
     "name": "stderr",
     "output_type": "stream",
     "text": [
      " 13%|█▎        | 255/2000 [38:37<9:40:01, 19.94s/it]"
     ]
    },
    {
     "name": "stdout",
     "output_type": "stream",
     "text": [
      "Ep. 256, Timestep 187005,  Ep.Timesteps 1600, Score: -174.04, Avg.Score: -168.58, Time: 00:38:47 \n"
     ]
    },
    {
     "name": "stderr",
     "output_type": "stream",
     "text": [
      " 13%|█▎        | 256/2000 [38:56<9:36:49, 19.84s/it]"
     ]
    },
    {
     "name": "stdout",
     "output_type": "stream",
     "text": [
      "Ep. 257, Timestep 188605,  Ep.Timesteps 1600, Score: -173.64, Avg.Score: -169.22, Time: 00:39:08 \n"
     ]
    },
    {
     "name": "stderr",
     "output_type": "stream",
     "text": [
      " 13%|█▎        | 257/2000 [39:17<9:42:49, 20.06s/it]"
     ]
    },
    {
     "name": "stdout",
     "output_type": "stream",
     "text": [
      "Ep. 258, Timestep 190205,  Ep.Timesteps 1600, Score: -178.33, Avg.Score: -169.92, Time: 00:39:28 \n"
     ]
    },
    {
     "name": "stderr",
     "output_type": "stream",
     "text": [
      " 13%|█▎        | 258/2000 [39:37<9:37:09, 19.88s/it]"
     ]
    },
    {
     "name": "stdout",
     "output_type": "stream",
     "text": [
      "Ep. 259, Timestep 191805,  Ep.Timesteps 1600, Score: -176.67, Avg.Score: -170.60, Time: 00:39:48 \n"
     ]
    },
    {
     "name": "stderr",
     "output_type": "stream",
     "text": [
      " 13%|█▎        | 259/2000 [39:57<9:39:39, 19.98s/it]"
     ]
    },
    {
     "name": "stdout",
     "output_type": "stream",
     "text": [
      "Ep. 260, Timestep 193405,  Ep.Timesteps 1600, Score: -179.81, Avg.Score: -171.14, Time: 00:40:08 \n"
     ]
    },
    {
     "name": "stderr",
     "output_type": "stream",
     "text": [
      " 13%|█▎        | 260/2000 [40:17<9:43:35, 20.12s/it]"
     ]
    },
    {
     "name": "stdout",
     "output_type": "stream",
     "text": [
      "Ep. 261, Timestep 195005,  Ep.Timesteps 1600, Score: -177.45, Avg.Score: -172.02, Time: 00:40:28 \n"
     ]
    },
    {
     "name": "stderr",
     "output_type": "stream",
     "text": [
      " 13%|█▎        | 261/2000 [40:37<9:38:20, 19.95s/it]"
     ]
    },
    {
     "name": "stdout",
     "output_type": "stream",
     "text": [
      "Ep. 262, Timestep 196605,  Ep.Timesteps 1600, Score: -173.36, Avg.Score: -172.52, Time: 00:40:50 \n"
     ]
    },
    {
     "name": "stderr",
     "output_type": "stream",
     "text": [
      " 13%|█▎        | 262/2000 [40:58<9:46:30, 20.25s/it]"
     ]
    },
    {
     "name": "stdout",
     "output_type": "stream",
     "text": [
      "Ep. 263, Timestep 198205,  Ep.Timesteps 1600, Score: -173.62, Avg.Score: -172.46, Time: 00:41:10 \n"
     ]
    },
    {
     "name": "stderr",
     "output_type": "stream",
     "text": [
      " 13%|█▎        | 263/2000 [41:18<9:49:08, 20.35s/it]"
     ]
    },
    {
     "name": "stdout",
     "output_type": "stream",
     "text": [
      "Ep. 264, Timestep 199805,  Ep.Timesteps 1600, Score: -173.53, Avg.Score: -172.38, Time: 00:41:30 \n"
     ]
    },
    {
     "name": "stderr",
     "output_type": "stream",
     "text": [
      " 13%|█▎        | 264/2000 [41:39<9:53:40, 20.52s/it]"
     ]
    },
    {
     "name": "stdout",
     "output_type": "stream",
     "text": [
      "Ep. 265, Timestep 201405,  Ep.Timesteps 1600, Score: -173.94, Avg.Score: -172.32, Time: 00:41:50 \n"
     ]
    },
    {
     "name": "stderr",
     "output_type": "stream",
     "text": [
      " 13%|█▎        | 265/2000 [42:00<9:51:45, 20.46s/it]"
     ]
    },
    {
     "name": "stdout",
     "output_type": "stream",
     "text": [
      "Ep. 266, Timestep 203005,  Ep.Timesteps 1600, Score: -169.59, Avg.Score: -172.21, Time: 00:42:09 \n"
     ]
    },
    {
     "name": "stderr",
     "output_type": "stream",
     "text": [
      " 13%|█▎        | 266/2000 [42:19<9:41:41, 20.13s/it]"
     ]
    },
    {
     "name": "stdout",
     "output_type": "stream",
     "text": [
      "Ep. 267, Timestep 204605,  Ep.Timesteps 1600, Score: -173.56, Avg.Score: -172.18, Time: 00:42:30 \n"
     ]
    },
    {
     "name": "stderr",
     "output_type": "stream",
     "text": [
      " 13%|█▎        | 267/2000 [42:39<9:41:26, 20.13s/it]"
     ]
    },
    {
     "name": "stdout",
     "output_type": "stream",
     "text": [
      "Ep. 268, Timestep 206205,  Ep.Timesteps 1600, Score: -173.57, Avg.Score: -172.17, Time: 00:42:49 \n"
     ]
    },
    {
     "name": "stderr",
     "output_type": "stream",
     "text": [
      " 13%|█▎        | 268/2000 [42:59<9:41:48, 20.16s/it]"
     ]
    },
    {
     "name": "stdout",
     "output_type": "stream",
     "text": [
      "Ep. 269, Timestep 207805,  Ep.Timesteps 1600, Score: -174.17, Avg.Score: -172.18, Time: 00:43:09 \n"
     ]
    },
    {
     "name": "stderr",
     "output_type": "stream",
     "text": [
      " 13%|█▎        | 269/2000 [43:19<9:38:35, 20.05s/it]"
     ]
    },
    {
     "name": "stdout",
     "output_type": "stream",
     "text": [
      "Ep. 270, Timestep 209405,  Ep.Timesteps 1600, Score: -173.51, Avg.Score: -172.18, Time: 00:43:29 \n"
     ]
    },
    {
     "name": "stderr",
     "output_type": "stream",
     "text": [
      " 14%|█▎        | 270/2000 [43:39<9:38:38, 20.07s/it]"
     ]
    },
    {
     "name": "stdout",
     "output_type": "stream",
     "text": [
      "Ep. 271, Timestep 211005,  Ep.Timesteps 1600, Score: -179.07, Avg.Score: -172.23, Time: 00:43:50 \n"
     ]
    },
    {
     "name": "stderr",
     "output_type": "stream",
     "text": [
      " 14%|█▎        | 271/2000 [43:58<9:27:18, 19.69s/it]"
     ]
    },
    {
     "name": "stdout",
     "output_type": "stream",
     "text": [
      "Ep. 272, Timestep 212605,  Ep.Timesteps 1600, Score: -139.51, Avg.Score: -171.88, Time: 00:44:11 \n"
     ]
    },
    {
     "name": "stderr",
     "output_type": "stream",
     "text": [
      " 14%|█▎        | 272/2000 [44:19<9:38:24, 20.08s/it]"
     ]
    },
    {
     "name": "stdout",
     "output_type": "stream",
     "text": [
      "Ep. 273, Timestep 214205,  Ep.Timesteps 1600, Score: -145.85, Avg.Score: -171.61, Time: 00:44:30 \n"
     ]
    },
    {
     "name": "stderr",
     "output_type": "stream",
     "text": [
      " 14%|█▎        | 273/2000 [44:39<9:36:45, 20.04s/it]"
     ]
    },
    {
     "name": "stdout",
     "output_type": "stream",
     "text": [
      "Ep. 274, Timestep 215805,  Ep.Timesteps 1600, Score: -131.87, Avg.Score: -171.19, Time: 00:44:49 \n"
     ]
    },
    {
     "name": "stderr",
     "output_type": "stream",
     "text": [
      " 14%|█▎        | 274/2000 [44:58<9:28:54, 19.78s/it]"
     ]
    },
    {
     "name": "stdout",
     "output_type": "stream",
     "text": [
      "Ep. 275, Timestep 216454,  Ep.Timesteps 649, Score: -191.53, Avg.Score: -171.36, Time: 00:45:05 \n"
     ]
    },
    {
     "name": "stderr",
     "output_type": "stream",
     "text": [
      " 14%|█▍        | 275/2000 [45:07<7:52:58, 16.45s/it]"
     ]
    },
    {
     "name": "stdout",
     "output_type": "stream",
     "text": [
      "Ep. 276, Timestep 217276,  Ep.Timesteps 822, Score: -209.97, Avg.Score: -171.67, Time: 00:45:13 \n"
     ]
    },
    {
     "name": "stderr",
     "output_type": "stream",
     "text": [
      " 14%|█▍        | 276/2000 [45:17<6:57:09, 14.52s/it]"
     ]
    },
    {
     "name": "stdout",
     "output_type": "stream",
     "text": [
      "Ep. 277, Timestep 218147,  Ep.Timesteps 871, Score: -215.14, Avg.Score: -172.07, Time: 00:45:24 \n"
     ]
    },
    {
     "name": "stderr",
     "output_type": "stream",
     "text": [
      " 14%|█▍        | 277/2000 [45:28<6:27:02, 13.48s/it]"
     ]
    },
    {
     "name": "stdout",
     "output_type": "stream",
     "text": [
      "Ep. 278, Timestep 218986,  Ep.Timesteps 839, Score: -211.78, Avg.Score: -172.41, Time: 00:45:36 \n"
     ]
    },
    {
     "name": "stderr",
     "output_type": "stream",
     "text": [
      " 14%|█▍        | 278/2000 [45:38<6:01:04, 12.58s/it]"
     ]
    },
    {
     "name": "stdout",
     "output_type": "stream",
     "text": [
      "Ep. 279, Timestep 220586,  Ep.Timesteps 1600, Score: -172.46, Avg.Score: -172.67, Time: 00:45:50 \n"
     ]
    },
    {
     "name": "stderr",
     "output_type": "stream",
     "text": [
      " 14%|█▍        | 279/2000 [45:59<7:13:24, 15.11s/it]"
     ]
    },
    {
     "name": "stdout",
     "output_type": "stream",
     "text": [
      "Ep. 280, Timestep 222186,  Ep.Timesteps 1600, Score: -172.69, Avg.Score: -172.95, Time: 00:46:09 \n"
     ]
    },
    {
     "name": "stderr",
     "output_type": "stream",
     "text": [
      " 14%|█▍        | 280/2000 [46:19<7:50:56, 16.43s/it]"
     ]
    },
    {
     "name": "stdout",
     "output_type": "stream",
     "text": [
      "Ep. 281, Timestep 223786,  Ep.Timesteps 1600, Score: -172.70, Avg.Score: -172.95, Time: 00:46:30 \n"
     ]
    },
    {
     "name": "stderr",
     "output_type": "stream",
     "text": [
      " 14%|█▍        | 281/2000 [46:39<8:21:58, 17.52s/it]"
     ]
    },
    {
     "name": "stdout",
     "output_type": "stream",
     "text": [
      "Ep. 282, Timestep 225386,  Ep.Timesteps 1600, Score: -172.47, Avg.Score: -173.18, Time: 00:46:51 \n"
     ]
    },
    {
     "name": "stderr",
     "output_type": "stream",
     "text": [
      " 14%|█▍        | 282/2000 [46:59<8:41:54, 18.23s/it]"
     ]
    },
    {
     "name": "stdout",
     "output_type": "stream",
     "text": [
      "Ep. 283, Timestep 226986,  Ep.Timesteps 1600, Score: -181.44, Avg.Score: -173.26, Time: 00:47:12 \n"
     ]
    },
    {
     "name": "stderr",
     "output_type": "stream",
     "text": [
      " 14%|█▍        | 283/2000 [47:20<9:05:49, 19.07s/it]"
     ]
    },
    {
     "name": "stdout",
     "output_type": "stream",
     "text": [
      "Ep. 284, Timestep 228586,  Ep.Timesteps 1600, Score: -169.73, Avg.Score: -173.44, Time: 00:47:32 \n"
     ]
    },
    {
     "name": "stderr",
     "output_type": "stream",
     "text": [
      " 14%|█▍        | 284/2000 [47:40<9:16:51, 19.47s/it]"
     ]
    },
    {
     "name": "stdout",
     "output_type": "stream",
     "text": [
      "Ep. 285, Timestep 230186,  Ep.Timesteps 1600, Score: -177.73, Avg.Score: -173.42, Time: 00:47:52 \n"
     ]
    },
    {
     "name": "stderr",
     "output_type": "stream",
     "text": [
      " 14%|█▍        | 285/2000 [48:00<9:22:38, 19.68s/it]"
     ]
    },
    {
     "name": "stdout",
     "output_type": "stream",
     "text": [
      "Ep. 286, Timestep 231786,  Ep.Timesteps 1600, Score: -175.49, Avg.Score: -173.50, Time: 00:48:12 \n"
     ]
    },
    {
     "name": "stderr",
     "output_type": "stream",
     "text": [
      " 14%|█▍        | 286/2000 [48:20<9:25:42, 19.80s/it]"
     ]
    },
    {
     "name": "stdout",
     "output_type": "stream",
     "text": [
      "Ep. 287, Timestep 233386,  Ep.Timesteps 1600, Score: -178.09, Avg.Score: -173.54, Time: 00:48:33 \n"
     ]
    },
    {
     "name": "stderr",
     "output_type": "stream",
     "text": [
      " 14%|█▍        | 287/2000 [48:41<9:35:50, 20.17s/it]"
     ]
    },
    {
     "name": "stdout",
     "output_type": "stream",
     "text": [
      "Ep. 288, Timestep 234986,  Ep.Timesteps 1600, Score: -155.14, Avg.Score: -173.27, Time: 00:48:53 \n"
     ]
    },
    {
     "name": "stderr",
     "output_type": "stream",
     "text": [
      " 14%|█▍        | 288/2000 [49:02<9:40:31, 20.35s/it]"
     ]
    },
    {
     "name": "stdout",
     "output_type": "stream",
     "text": [
      "Ep. 289, Timestep 236586,  Ep.Timesteps 1600, Score: -158.10, Avg.Score: -173.41, Time: 00:49:14 \n"
     ]
    },
    {
     "name": "stderr",
     "output_type": "stream",
     "text": [
      " 14%|█▍        | 289/2000 [49:24<9:48:46, 20.65s/it]"
     ]
    },
    {
     "name": "stdout",
     "output_type": "stream",
     "text": [
      "Ep. 290, Timestep 238186,  Ep.Timesteps 1600, Score: -188.62, Avg.Score: -173.58, Time: 00:49:34 \n"
     ]
    },
    {
     "name": "stderr",
     "output_type": "stream",
     "text": [
      " 14%|█▍        | 290/2000 [49:44<9:43:14, 20.46s/it]"
     ]
    },
    {
     "name": "stdout",
     "output_type": "stream",
     "text": [
      "Ep. 291, Timestep 239786,  Ep.Timesteps 1600, Score: -142.15, Avg.Score: -173.28, Time: 00:49:54 \n"
     ]
    },
    {
     "name": "stderr",
     "output_type": "stream",
     "text": [
      " 15%|█▍        | 291/2000 [50:04<9:38:24, 20.31s/it]"
     ]
    },
    {
     "name": "stdout",
     "output_type": "stream",
     "text": [
      "Ep. 292, Timestep 241386,  Ep.Timesteps 1600, Score: -147.16, Avg.Score: -173.02, Time: 00:50:14 \n"
     ]
    },
    {
     "name": "stderr",
     "output_type": "stream",
     "text": [
      " 15%|█▍        | 292/2000 [50:23<9:29:26, 20.00s/it]"
     ]
    },
    {
     "name": "stdout",
     "output_type": "stream",
     "text": [
      "Ep. 293, Timestep 242986,  Ep.Timesteps 1600, Score: -145.10, Avg.Score: -172.73, Time: 00:50:34 \n"
     ]
    },
    {
     "name": "stderr",
     "output_type": "stream",
     "text": [
      " 15%|█▍        | 293/2000 [50:44<9:35:44, 20.24s/it]"
     ]
    },
    {
     "name": "stdout",
     "output_type": "stream",
     "text": [
      "Ep. 294, Timestep 244586,  Ep.Timesteps 1600, Score: -148.36, Avg.Score: -172.48, Time: 00:50:54 \n"
     ]
    },
    {
     "name": "stderr",
     "output_type": "stream",
     "text": [
      " 15%|█▍        | 294/2000 [51:03<9:32:06, 20.12s/it]"
     ]
    },
    {
     "name": "stdout",
     "output_type": "stream",
     "text": [
      "Ep. 295, Timestep 246186,  Ep.Timesteps 1600, Score: -145.36, Avg.Score: -172.14, Time: 00:51:14 \n"
     ]
    },
    {
     "name": "stderr",
     "output_type": "stream",
     "text": [
      " 15%|█▍        | 295/2000 [51:23<9:30:44, 20.09s/it]"
     ]
    },
    {
     "name": "stdout",
     "output_type": "stream",
     "text": [
      "Ep. 296, Timestep 247786,  Ep.Timesteps 1600, Score: -147.64, Avg.Score: -171.88, Time: 00:51:34 \n"
     ]
    },
    {
     "name": "stderr",
     "output_type": "stream",
     "text": [
      " 15%|█▍        | 296/2000 [51:43<9:27:59, 20.00s/it]"
     ]
    },
    {
     "name": "stdout",
     "output_type": "stream",
     "text": [
      "Ep. 297, Timestep 249386,  Ep.Timesteps 1600, Score: -145.05, Avg.Score: -171.55, Time: 00:51:56 \n"
     ]
    },
    {
     "name": "stderr",
     "output_type": "stream",
     "text": [
      " 15%|█▍        | 297/2000 [52:04<9:34:43, 20.25s/it]"
     ]
    },
    {
     "name": "stdout",
     "output_type": "stream",
     "text": [
      "Ep. 298, Timestep 250986,  Ep.Timesteps 1600, Score: -173.03, Avg.Score: -171.54, Time: 00:52:15 \n"
     ]
    },
    {
     "name": "stderr",
     "output_type": "stream",
     "text": [
      " 15%|█▍        | 298/2000 [52:24<9:34:50, 20.26s/it]"
     ]
    },
    {
     "name": "stdout",
     "output_type": "stream",
     "text": [
      "Ep. 299, Timestep 252586,  Ep.Timesteps 1600, Score: -175.91, Avg.Score: -171.52, Time: 00:52:35 \n"
     ]
    },
    {
     "name": "stderr",
     "output_type": "stream",
     "text": [
      " 15%|█▍        | 299/2000 [52:45<9:36:44, 20.34s/it]"
     ]
    },
    {
     "name": "stdout",
     "output_type": "stream",
     "text": [
      "Ep. 300, Timestep 254186,  Ep.Timesteps 1600, Score: -174.56, Avg.Score: -171.53, Time: 00:52:55 \n"
     ]
    },
    {
     "name": "stderr",
     "output_type": "stream",
     "text": [
      " 15%|█▌        | 300/2000 [53:04<9:27:18, 20.02s/it]"
     ]
    },
    {
     "name": "stdout",
     "output_type": "stream",
     "text": [
      "Ep. 301, Timestep 255786,  Ep.Timesteps 1600, Score: -172.42, Avg.Score: -171.52, Time: 00:53:16 \n"
     ]
    },
    {
     "name": "stderr",
     "output_type": "stream",
     "text": [
      " 15%|█▌        | 301/2000 [53:25<9:30:25, 20.14s/it]"
     ]
    },
    {
     "name": "stdout",
     "output_type": "stream",
     "text": [
      "Ep. 302, Timestep 257386,  Ep.Timesteps 1600, Score: -173.02, Avg.Score: -171.52, Time: 00:53:36 \n"
     ]
    },
    {
     "name": "stderr",
     "output_type": "stream",
     "text": [
      " 15%|█▌        | 302/2000 [53:45<9:29:51, 20.14s/it]"
     ]
    },
    {
     "name": "stdout",
     "output_type": "stream",
     "text": [
      "Ep. 303, Timestep 258986,  Ep.Timesteps 1600, Score: -172.73, Avg.Score: -171.46, Time: 00:53:57 \n"
     ]
    },
    {
     "name": "stderr",
     "output_type": "stream",
     "text": [
      " 15%|█▌        | 303/2000 [54:06<9:35:19, 20.34s/it]"
     ]
    },
    {
     "name": "stdout",
     "output_type": "stream",
     "text": [
      "Ep. 304, Timestep 260586,  Ep.Timesteps 1600, Score: -172.71, Avg.Score: -171.38, Time: 00:54:17 \n"
     ]
    },
    {
     "name": "stderr",
     "output_type": "stream",
     "text": [
      " 15%|█▌        | 304/2000 [54:26<9:33:29, 20.29s/it]"
     ]
    },
    {
     "name": "stdout",
     "output_type": "stream",
     "text": [
      "Ep. 305, Timestep 262186,  Ep.Timesteps 1600, Score: -172.68, Avg.Score: -171.31, Time: 00:54:36 \n"
     ]
    },
    {
     "name": "stderr",
     "output_type": "stream",
     "text": [
      " 15%|█▌        | 305/2000 [54:46<9:30:53, 20.21s/it]"
     ]
    },
    {
     "name": "stdout",
     "output_type": "stream",
     "text": [
      "Ep. 306, Timestep 263786,  Ep.Timesteps 1600, Score: -145.47, Avg.Score: -170.96, Time: 00:54:57 \n"
     ]
    },
    {
     "name": "stderr",
     "output_type": "stream",
     "text": [
      " 15%|█▌        | 306/2000 [55:06<9:31:38, 20.25s/it]"
     ]
    },
    {
     "name": "stdout",
     "output_type": "stream",
     "text": [
      "Ep. 307, Timestep 265386,  Ep.Timesteps 1600, Score: -154.74, Avg.Score: -170.69, Time: 00:55:16 \n"
     ]
    },
    {
     "name": "stderr",
     "output_type": "stream",
     "text": [
      " 15%|█▌        | 307/2000 [55:26<9:31:47, 20.26s/it]"
     ]
    },
    {
     "name": "stdout",
     "output_type": "stream",
     "text": [
      "Ep. 308, Timestep 266986,  Ep.Timesteps 1600, Score: -147.37, Avg.Score: -170.41, Time: 00:55:36 \n"
     ]
    },
    {
     "name": "stderr",
     "output_type": "stream",
     "text": [
      " 15%|█▌        | 308/2000 [55:47<9:30:36, 20.23s/it]"
     ]
    },
    {
     "name": "stdout",
     "output_type": "stream",
     "text": [
      "Ep. 309, Timestep 268586,  Ep.Timesteps 1600, Score: -173.94, Avg.Score: -170.41, Time: 00:55:56 \n"
     ]
    },
    {
     "name": "stderr",
     "output_type": "stream",
     "text": [
      " 15%|█▌        | 309/2000 [56:06<9:23:16, 19.99s/it]"
     ]
    },
    {
     "name": "stdout",
     "output_type": "stream",
     "text": [
      "Ep. 310, Timestep 270186,  Ep.Timesteps 1600, Score: -173.54, Avg.Score: -170.42, Time: 00:56:18 \n"
     ]
    },
    {
     "name": "stderr",
     "output_type": "stream",
     "text": [
      " 16%|█▌        | 310/2000 [56:26<9:25:19, 20.07s/it]"
     ]
    },
    {
     "name": "stdout",
     "output_type": "stream",
     "text": [
      "Ep. 311, Timestep 271786,  Ep.Timesteps 1600, Score: -173.68, Avg.Score: -170.42, Time: 00:56:38 \n"
     ]
    },
    {
     "name": "stderr",
     "output_type": "stream",
     "text": [
      " 16%|█▌        | 311/2000 [56:46<9:22:24, 19.98s/it]"
     ]
    },
    {
     "name": "stdout",
     "output_type": "stream",
     "text": [
      "Ep. 312, Timestep 273386,  Ep.Timesteps 1600, Score: -173.28, Avg.Score: -170.89, Time: 00:56:58 \n"
     ]
    },
    {
     "name": "stderr",
     "output_type": "stream",
     "text": [
      " 16%|█▌        | 312/2000 [57:07<9:32:15, 20.34s/it]"
     ]
    },
    {
     "name": "stdout",
     "output_type": "stream",
     "text": [
      "Ep. 313, Timestep 274986,  Ep.Timesteps 1600, Score: -173.52, Avg.Score: -170.91, Time: 00:57:18 \n"
     ]
    },
    {
     "name": "stderr",
     "output_type": "stream",
     "text": [
      " 16%|█▌        | 313/2000 [57:27<9:23:32, 20.04s/it]"
     ]
    },
    {
     "name": "stdout",
     "output_type": "stream",
     "text": [
      "Ep. 314, Timestep 276586,  Ep.Timesteps 1600, Score: -173.74, Avg.Score: -170.93, Time: 00:57:39 \n"
     ]
    },
    {
     "name": "stderr",
     "output_type": "stream",
     "text": [
      " 16%|█▌        | 314/2000 [57:47<9:28:52, 20.24s/it]"
     ]
    },
    {
     "name": "stdout",
     "output_type": "stream",
     "text": [
      "Ep. 315, Timestep 278186,  Ep.Timesteps 1600, Score: -173.55, Avg.Score: -170.93, Time: 00:58:00 \n"
     ]
    },
    {
     "name": "stderr",
     "output_type": "stream",
     "text": [
      " 16%|█▌        | 315/2000 [58:08<9:30:39, 20.32s/it]"
     ]
    },
    {
     "name": "stdout",
     "output_type": "stream",
     "text": [
      "Ep. 316, Timestep 279786,  Ep.Timesteps 1600, Score: -173.64, Avg.Score: -170.87, Time: 00:58:20 \n"
     ]
    },
    {
     "name": "stderr",
     "output_type": "stream",
     "text": [
      " 16%|█▌        | 316/2000 [58:29<9:34:31, 20.47s/it]"
     ]
    },
    {
     "name": "stdout",
     "output_type": "stream",
     "text": [
      "Ep. 317, Timestep 281386,  Ep.Timesteps 1600, Score: -173.76, Avg.Score: -170.87, Time: 00:58:40 \n"
     ]
    },
    {
     "name": "stderr",
     "output_type": "stream",
     "text": [
      " 16%|█▌        | 317/2000 [58:49<9:37:03, 20.57s/it]"
     ]
    },
    {
     "name": "stdout",
     "output_type": "stream",
     "text": [
      "Ep. 318, Timestep 282986,  Ep.Timesteps 1600, Score: -173.47, Avg.Score: -170.87, Time: 00:58:59 \n"
     ]
    },
    {
     "name": "stderr",
     "output_type": "stream",
     "text": [
      " 16%|█▌        | 318/2000 [59:09<9:31:08, 20.37s/it]"
     ]
    },
    {
     "name": "stdout",
     "output_type": "stream",
     "text": [
      "Ep. 319, Timestep 284586,  Ep.Timesteps 1600, Score: -148.28, Avg.Score: -170.62, Time: 00:59:20 \n"
     ]
    },
    {
     "name": "stderr",
     "output_type": "stream",
     "text": [
      " 16%|█▌        | 319/2000 [59:29<9:25:32, 20.19s/it]"
     ]
    },
    {
     "name": "stdout",
     "output_type": "stream",
     "text": [
      "Ep. 320, Timestep 286186,  Ep.Timesteps 1600, Score: -143.53, Avg.Score: -170.32, Time: 00:59:40 \n"
     ]
    },
    {
     "name": "stderr",
     "output_type": "stream",
     "text": [
      " 16%|█▌        | 320/2000 [59:49<9:25:23, 20.19s/it]"
     ]
    },
    {
     "name": "stdout",
     "output_type": "stream",
     "text": [
      "Ep. 321, Timestep 287786,  Ep.Timesteps 1600, Score: -171.44, Avg.Score: -170.29, Time: 01:00:01 \n"
     ]
    },
    {
     "name": "stderr",
     "output_type": "stream",
     "text": [
      " 16%|█▌        | 321/2000 [1:00:09<9:24:10, 20.16s/it]"
     ]
    },
    {
     "name": "stdout",
     "output_type": "stream",
     "text": [
      "Ep. 322, Timestep 289386,  Ep.Timesteps 1600, Score: -172.51, Avg.Score: -170.28, Time: 01:00:21 \n"
     ]
    },
    {
     "name": "stderr",
     "output_type": "stream",
     "text": [
      " 16%|█▌        | 322/2000 [1:00:30<9:31:18, 20.43s/it]"
     ]
    },
    {
     "name": "stdout",
     "output_type": "stream",
     "text": [
      "Ep. 323, Timestep 290986,  Ep.Timesteps 1600, Score: -175.93, Avg.Score: -170.31, Time: 01:00:41 \n"
     ]
    },
    {
     "name": "stderr",
     "output_type": "stream",
     "text": [
      " 16%|█▌        | 323/2000 [1:00:50<9:23:44, 20.17s/it]"
     ]
    },
    {
     "name": "stdout",
     "output_type": "stream",
     "text": [
      "Ep. 324, Timestep 292586,  Ep.Timesteps 1600, Score: -182.32, Avg.Score: -170.40, Time: 01:01:01 \n"
     ]
    },
    {
     "name": "stderr",
     "output_type": "stream",
     "text": [
      " 16%|█▌        | 324/2000 [1:01:10<9:23:59, 20.19s/it]"
     ]
    },
    {
     "name": "stdout",
     "output_type": "stream",
     "text": [
      "Ep. 325, Timestep 294186,  Ep.Timesteps 1600, Score: -152.37, Avg.Score: -170.68, Time: 01:01:21 \n"
     ]
    },
    {
     "name": "stderr",
     "output_type": "stream",
     "text": [
      " 16%|█▋        | 325/2000 [1:01:31<9:25:05, 20.24s/it]"
     ]
    },
    {
     "name": "stdout",
     "output_type": "stream",
     "text": [
      "Ep. 326, Timestep 295786,  Ep.Timesteps 1600, Score: -182.49, Avg.Score: -170.76, Time: 01:01:41 \n"
     ]
    },
    {
     "name": "stderr",
     "output_type": "stream",
     "text": [
      " 16%|█▋        | 326/2000 [1:01:51<9:25:48, 20.28s/it]"
     ]
    },
    {
     "name": "stdout",
     "output_type": "stream",
     "text": [
      "Ep. 327, Timestep 297386,  Ep.Timesteps 1600, Score: -181.37, Avg.Score: -170.84, Time: 01:02:00 \n"
     ]
    },
    {
     "name": "stderr",
     "output_type": "stream",
     "text": [
      " 16%|█▋        | 327/2000 [1:02:11<9:22:25, 20.17s/it]"
     ]
    },
    {
     "name": "stdout",
     "output_type": "stream",
     "text": [
      "Ep. 328, Timestep 298986,  Ep.Timesteps 1600, Score: -182.64, Avg.Score: -170.92, Time: 01:02:21 \n"
     ]
    },
    {
     "name": "stderr",
     "output_type": "stream",
     "text": [
      " 16%|█▋        | 328/2000 [1:02:30<9:14:12, 19.89s/it]"
     ]
    },
    {
     "name": "stdout",
     "output_type": "stream",
     "text": [
      "Ep. 329, Timestep 300586,  Ep.Timesteps 1600, Score: -183.97, Avg.Score: -171.03, Time: 01:02:42 \n"
     ]
    },
    {
     "name": "stderr",
     "output_type": "stream",
     "text": [
      " 16%|█▋        | 329/2000 [1:02:50<9:17:50, 20.03s/it]"
     ]
    },
    {
     "name": "stdout",
     "output_type": "stream",
     "text": [
      "Ep. 330, Timestep 302186,  Ep.Timesteps 1600, Score: -183.12, Avg.Score: -171.12, Time: 01:03:02 \n"
     ]
    },
    {
     "name": "stderr",
     "output_type": "stream",
     "text": [
      " 16%|█▋        | 330/2000 [1:03:11<9:18:29, 20.07s/it]"
     ]
    },
    {
     "name": "stdout",
     "output_type": "stream",
     "text": [
      "Ep. 331, Timestep 303786,  Ep.Timesteps 1600, Score: -174.73, Avg.Score: -171.13, Time: 01:03:22 \n"
     ]
    },
    {
     "name": "stderr",
     "output_type": "stream",
     "text": [
      " 17%|█▋        | 331/2000 [1:03:31<9:21:02, 20.17s/it]"
     ]
    },
    {
     "name": "stdout",
     "output_type": "stream",
     "text": [
      "Ep. 332, Timestep 305386,  Ep.Timesteps 1600, Score: -173.54, Avg.Score: -171.11, Time: 01:03:42 \n"
     ]
    },
    {
     "name": "stderr",
     "output_type": "stream",
     "text": [
      " 17%|█▋        | 332/2000 [1:03:51<9:18:55, 20.10s/it]"
     ]
    },
    {
     "name": "stdout",
     "output_type": "stream",
     "text": [
      "Ep. 333, Timestep 306986,  Ep.Timesteps 1600, Score: -145.46, Avg.Score: -170.82, Time: 01:04:03 \n"
     ]
    },
    {
     "name": "stderr",
     "output_type": "stream",
     "text": [
      " 17%|█▋        | 333/2000 [1:04:11<9:18:07, 20.09s/it]"
     ]
    },
    {
     "name": "stdout",
     "output_type": "stream",
     "text": [
      "Ep. 334, Timestep 308586,  Ep.Timesteps 1600, Score: -157.95, Avg.Score: -170.66, Time: 01:04:24 \n"
     ]
    },
    {
     "name": "stderr",
     "output_type": "stream",
     "text": [
      " 17%|█▋        | 334/2000 [1:04:32<9:25:13, 20.36s/it]"
     ]
    },
    {
     "name": "stdout",
     "output_type": "stream",
     "text": [
      "Ep. 335, Timestep 310186,  Ep.Timesteps 1600, Score: -151.82, Avg.Score: -170.44, Time: 01:04:44 \n"
     ]
    },
    {
     "name": "stderr",
     "output_type": "stream",
     "text": [
      " 17%|█▋        | 335/2000 [1:04:53<9:26:46, 20.42s/it]"
     ]
    },
    {
     "name": "stdout",
     "output_type": "stream",
     "text": [
      "Ep. 336, Timestep 311786,  Ep.Timesteps 1600, Score: -152.85, Avg.Score: -170.23, Time: 01:05:04 \n"
     ]
    },
    {
     "name": "stderr",
     "output_type": "stream",
     "text": [
      " 17%|█▋        | 336/2000 [1:05:13<9:30:05, 20.56s/it]"
     ]
    },
    {
     "name": "stdout",
     "output_type": "stream",
     "text": [
      "Ep. 337, Timestep 313386,  Ep.Timesteps 1600, Score: -166.75, Avg.Score: -170.16, Time: 01:05:23 \n"
     ]
    },
    {
     "name": "stderr",
     "output_type": "stream",
     "text": [
      " 17%|█▋        | 337/2000 [1:05:33<9:20:40, 20.23s/it]"
     ]
    },
    {
     "name": "stdout",
     "output_type": "stream",
     "text": [
      "Ep. 338, Timestep 314986,  Ep.Timesteps 1600, Score: -174.00, Avg.Score: -170.16, Time: 01:05:44 \n"
     ]
    },
    {
     "name": "stderr",
     "output_type": "stream",
     "text": [
      " 17%|█▋        | 338/2000 [1:05:53<9:21:18, 20.26s/it]"
     ]
    },
    {
     "name": "stdout",
     "output_type": "stream",
     "text": [
      "Ep. 339, Timestep 316586,  Ep.Timesteps 1600, Score: -173.81, Avg.Score: -170.16, Time: 01:06:05 \n"
     ]
    },
    {
     "name": "stderr",
     "output_type": "stream",
     "text": [
      " 17%|█▋        | 339/2000 [1:06:13<9:19:01, 20.19s/it]"
     ]
    },
    {
     "name": "stdout",
     "output_type": "stream",
     "text": [
      "Ep. 340, Timestep 318186,  Ep.Timesteps 1600, Score: -173.99, Avg.Score: -170.17, Time: 01:06:26 \n"
     ]
    },
    {
     "name": "stderr",
     "output_type": "stream",
     "text": [
      " 17%|█▋        | 340/2000 [1:06:34<9:23:18, 20.36s/it]"
     ]
    },
    {
     "name": "stdout",
     "output_type": "stream",
     "text": [
      "Ep. 341, Timestep 319786,  Ep.Timesteps 1600, Score: -173.68, Avg.Score: -170.17, Time: 01:06:45 \n"
     ]
    },
    {
     "name": "stderr",
     "output_type": "stream",
     "text": [
      " 17%|█▋        | 341/2000 [1:06:54<9:22:50, 20.36s/it]"
     ]
    },
    {
     "name": "stdout",
     "output_type": "stream",
     "text": [
      "Ep. 342, Timestep 321386,  Ep.Timesteps 1600, Score: -173.19, Avg.Score: -170.17, Time: 01:07:05 \n"
     ]
    },
    {
     "name": "stderr",
     "output_type": "stream",
     "text": [
      " 17%|█▋        | 342/2000 [1:07:14<9:19:30, 20.25s/it]"
     ]
    },
    {
     "name": "stdout",
     "output_type": "stream",
     "text": [
      "Ep. 343, Timestep 322986,  Ep.Timesteps 1600, Score: -173.70, Avg.Score: -170.15, Time: 01:07:25 \n"
     ]
    },
    {
     "name": "stderr",
     "output_type": "stream",
     "text": [
      " 17%|█▋        | 343/2000 [1:07:34<9:13:57, 20.06s/it]"
     ]
    },
    {
     "name": "stdout",
     "output_type": "stream",
     "text": [
      "Ep. 344, Timestep 324586,  Ep.Timesteps 1600, Score: -173.55, Avg.Score: -170.08, Time: 01:07:45 \n"
     ]
    },
    {
     "name": "stderr",
     "output_type": "stream",
     "text": [
      " 17%|█▋        | 344/2000 [1:07:54<9:15:03, 20.11s/it]"
     ]
    },
    {
     "name": "stdout",
     "output_type": "stream",
     "text": [
      "Ep. 345, Timestep 326186,  Ep.Timesteps 1600, Score: -173.21, Avg.Score: -170.42, Time: 01:08:04 \n"
     ]
    },
    {
     "name": "stderr",
     "output_type": "stream",
     "text": [
      " 17%|█▋        | 345/2000 [1:08:14<9:13:59, 20.08s/it]"
     ]
    },
    {
     "name": "stdout",
     "output_type": "stream",
     "text": [
      "Ep. 346, Timestep 327786,  Ep.Timesteps 1600, Score: -174.29, Avg.Score: -170.40, Time: 01:08:24 \n"
     ]
    },
    {
     "name": "stderr",
     "output_type": "stream",
     "text": [
      " 17%|█▋        | 346/2000 [1:08:34<9:07:01, 19.84s/it]"
     ]
    },
    {
     "name": "stdout",
     "output_type": "stream",
     "text": [
      "Ep. 347, Timestep 329386,  Ep.Timesteps 1600, Score: -173.99, Avg.Score: -170.33, Time: 01:08:45 \n"
     ]
    },
    {
     "name": "stderr",
     "output_type": "stream",
     "text": [
      " 17%|█▋        | 347/2000 [1:08:54<9:08:46, 19.92s/it]"
     ]
    },
    {
     "name": "stdout",
     "output_type": "stream",
     "text": [
      "Ep. 348, Timestep 330986,  Ep.Timesteps 1600, Score: -173.58, Avg.Score: -170.28, Time: 01:09:06 \n"
     ]
    },
    {
     "name": "stderr",
     "output_type": "stream",
     "text": [
      " 17%|█▋        | 348/2000 [1:09:14<9:08:19, 19.91s/it]"
     ]
    },
    {
     "name": "stdout",
     "output_type": "stream",
     "text": [
      "Ep. 349, Timestep 332586,  Ep.Timesteps 1600, Score: -173.92, Avg.Score: -170.27, Time: 01:09:26 \n"
     ]
    },
    {
     "name": "stderr",
     "output_type": "stream",
     "text": [
      " 17%|█▋        | 349/2000 [1:09:35<9:17:23, 20.26s/it]"
     ]
    },
    {
     "name": "stdout",
     "output_type": "stream",
     "text": [
      "Ep. 350, Timestep 334186,  Ep.Timesteps 1600, Score: -173.31, Avg.Score: -170.19, Time: 01:09:46 \n"
     ]
    },
    {
     "name": "stderr",
     "output_type": "stream",
     "text": [
      " 18%|█▊        | 350/2000 [1:09:55<9:19:54, 20.36s/it]"
     ]
    },
    {
     "name": "stdout",
     "output_type": "stream",
     "text": [
      "Ep. 351, Timestep 335786,  Ep.Timesteps 1600, Score: -173.37, Avg.Score: -170.19, Time: 01:10:06 \n"
     ]
    },
    {
     "name": "stderr",
     "output_type": "stream",
     "text": [
      " 18%|█▊        | 351/2000 [1:10:15<9:18:55, 20.34s/it]"
     ]
    },
    {
     "name": "stdout",
     "output_type": "stream",
     "text": [
      "Ep. 352, Timestep 337386,  Ep.Timesteps 1600, Score: -173.75, Avg.Score: -170.19, Time: 01:10:26 \n"
     ]
    },
    {
     "name": "stderr",
     "output_type": "stream",
     "text": [
      " 18%|█▊        | 352/2000 [1:10:35<9:13:22, 20.15s/it]"
     ]
    },
    {
     "name": "stdout",
     "output_type": "stream",
     "text": [
      "Ep. 353, Timestep 338986,  Ep.Timesteps 1600, Score: -173.51, Avg.Score: -170.19, Time: 01:10:46 \n"
     ]
    },
    {
     "name": "stderr",
     "output_type": "stream",
     "text": [
      " 18%|█▊        | 353/2000 [1:10:55<9:13:26, 20.16s/it]"
     ]
    },
    {
     "name": "stdout",
     "output_type": "stream",
     "text": [
      "Ep. 354, Timestep 340586,  Ep.Timesteps 1600, Score: -173.69, Avg.Score: -170.19, Time: 01:11:06 \n"
     ]
    },
    {
     "name": "stderr",
     "output_type": "stream",
     "text": [
      " 18%|█▊        | 354/2000 [1:11:16<9:15:38, 20.25s/it]"
     ]
    },
    {
     "name": "stdout",
     "output_type": "stream",
     "text": [
      "Ep. 355, Timestep 342186,  Ep.Timesteps 1600, Score: -173.91, Avg.Score: -170.19, Time: 01:11:26 \n"
     ]
    },
    {
     "name": "stderr",
     "output_type": "stream",
     "text": [
      " 18%|█▊        | 355/2000 [1:11:35<9:08:15, 20.00s/it]"
     ]
    },
    {
     "name": "stdout",
     "output_type": "stream",
     "text": [
      "Ep. 356, Timestep 343786,  Ep.Timesteps 1600, Score: -173.66, Avg.Score: -170.19, Time: 01:11:46 \n"
     ]
    },
    {
     "name": "stderr",
     "output_type": "stream",
     "text": [
      " 18%|█▊        | 356/2000 [1:11:55<9:06:41, 19.95s/it]"
     ]
    },
    {
     "name": "stdout",
     "output_type": "stream",
     "text": [
      "Ep. 357, Timestep 345386,  Ep.Timesteps 1600, Score: -173.81, Avg.Score: -170.19, Time: 01:12:06 \n"
     ]
    },
    {
     "name": "stderr",
     "output_type": "stream",
     "text": [
      " 18%|█▊        | 357/2000 [1:12:15<9:04:05, 19.87s/it]"
     ]
    },
    {
     "name": "stdout",
     "output_type": "stream",
     "text": [
      "Ep. 358, Timestep 346986,  Ep.Timesteps 1600, Score: -179.89, Avg.Score: -170.21, Time: 01:12:26 \n"
     ]
    },
    {
     "name": "stderr",
     "output_type": "stream",
     "text": [
      " 18%|█▊        | 358/2000 [1:12:36<9:12:26, 20.19s/it]"
     ]
    },
    {
     "name": "stdout",
     "output_type": "stream",
     "text": [
      "Ep. 359, Timestep 348586,  Ep.Timesteps 1600, Score: -174.12, Avg.Score: -170.18, Time: 01:12:45 \n"
     ]
    },
    {
     "name": "stderr",
     "output_type": "stream",
     "text": [
      " 18%|█▊        | 359/2000 [1:12:55<9:05:04, 19.93s/it]"
     ]
    },
    {
     "name": "stdout",
     "output_type": "stream",
     "text": [
      "Ep. 360, Timestep 350186,  Ep.Timesteps 1600, Score: -173.46, Avg.Score: -170.12, Time: 01:13:06 \n"
     ]
    },
    {
     "name": "stderr",
     "output_type": "stream",
     "text": [
      " 18%|█▊        | 360/2000 [1:13:15<9:04:28, 19.92s/it]"
     ]
    },
    {
     "name": "stdout",
     "output_type": "stream",
     "text": [
      "Ep. 361, Timestep 351786,  Ep.Timesteps 1600, Score: -174.01, Avg.Score: -170.08, Time: 01:13:26 \n"
     ]
    },
    {
     "name": "stderr",
     "output_type": "stream",
     "text": [
      " 18%|█▊        | 361/2000 [1:13:34<9:00:52, 19.80s/it]"
     ]
    },
    {
     "name": "stdout",
     "output_type": "stream",
     "text": [
      "Ep. 362, Timestep 353386,  Ep.Timesteps 1600, Score: -173.98, Avg.Score: -170.09, Time: 01:13:47 \n"
     ]
    },
    {
     "name": "stderr",
     "output_type": "stream",
     "text": [
      " 18%|█▊        | 362/2000 [1:13:55<9:05:37, 19.99s/it]"
     ]
    },
    {
     "name": "stdout",
     "output_type": "stream",
     "text": [
      "Ep. 363, Timestep 354986,  Ep.Timesteps 1600, Score: -175.31, Avg.Score: -170.11, Time: 01:14:06 \n"
     ]
    },
    {
     "name": "stderr",
     "output_type": "stream",
     "text": [
      " 18%|█▊        | 363/2000 [1:14:15<9:07:07, 20.05s/it]"
     ]
    },
    {
     "name": "stdout",
     "output_type": "stream",
     "text": [
      "Ep. 364, Timestep 356586,  Ep.Timesteps 1600, Score: -181.08, Avg.Score: -170.18, Time: 01:14:26 \n"
     ]
    },
    {
     "name": "stderr",
     "output_type": "stream",
     "text": [
      " 18%|█▊        | 364/2000 [1:14:35<9:07:22, 20.07s/it]"
     ]
    },
    {
     "name": "stdout",
     "output_type": "stream",
     "text": [
      "Ep. 365, Timestep 358186,  Ep.Timesteps 1600, Score: -181.93, Avg.Score: -170.26, Time: 01:14:46 \n"
     ]
    },
    {
     "name": "stderr",
     "output_type": "stream",
     "text": [
      " 18%|█▊        | 365/2000 [1:14:55<9:05:06, 20.00s/it]"
     ]
    },
    {
     "name": "stdout",
     "output_type": "stream",
     "text": [
      "Ep. 366, Timestep 359786,  Ep.Timesteps 1600, Score: -179.73, Avg.Score: -170.36, Time: 01:15:06 \n"
     ]
    },
    {
     "name": "stderr",
     "output_type": "stream",
     "text": [
      " 18%|█▊        | 366/2000 [1:15:16<9:09:20, 20.17s/it]"
     ]
    },
    {
     "name": "stdout",
     "output_type": "stream",
     "text": [
      "Ep. 367, Timestep 361386,  Ep.Timesteps 1600, Score: -177.76, Avg.Score: -170.40, Time: 01:15:26 \n"
     ]
    },
    {
     "name": "stderr",
     "output_type": "stream",
     "text": [
      " 18%|█▊        | 367/2000 [1:15:35<9:05:21, 20.04s/it]"
     ]
    },
    {
     "name": "stdout",
     "output_type": "stream",
     "text": [
      "Ep. 368, Timestep 362986,  Ep.Timesteps 1600, Score: -182.95, Avg.Score: -170.50, Time: 01:15:46 \n"
     ]
    },
    {
     "name": "stderr",
     "output_type": "stream",
     "text": [
      " 18%|█▊        | 368/2000 [1:15:55<9:05:19, 20.05s/it]"
     ]
    },
    {
     "name": "stdout",
     "output_type": "stream",
     "text": [
      "Ep. 369, Timestep 364586,  Ep.Timesteps 1600, Score: -175.41, Avg.Score: -170.51, Time: 01:16:07 \n"
     ]
    },
    {
     "name": "stderr",
     "output_type": "stream",
     "text": [
      " 18%|█▊        | 369/2000 [1:16:15<8:59:55, 19.86s/it]"
     ]
    },
    {
     "name": "stdout",
     "output_type": "stream",
     "text": [
      "Ep. 370, Timestep 366186,  Ep.Timesteps 1600, Score: -175.25, Avg.Score: -170.53, Time: 01:16:27 \n"
     ]
    },
    {
     "name": "stderr",
     "output_type": "stream",
     "text": [
      " 18%|█▊        | 370/2000 [1:16:35<9:04:06, 20.03s/it]"
     ]
    },
    {
     "name": "stdout",
     "output_type": "stream",
     "text": [
      "Ep. 371, Timestep 367786,  Ep.Timesteps 1600, Score: -175.09, Avg.Score: -170.49, Time: 01:16:47 \n"
     ]
    },
    {
     "name": "stderr",
     "output_type": "stream",
     "text": [
      " 19%|█▊        | 371/2000 [1:16:56<9:09:27, 20.24s/it]"
     ]
    },
    {
     "name": "stdout",
     "output_type": "stream",
     "text": [
      "Ep. 372, Timestep 369386,  Ep.Timesteps 1600, Score: -175.94, Avg.Score: -170.85, Time: 01:17:06 \n"
     ]
    },
    {
     "name": "stderr",
     "output_type": "stream",
     "text": [
      " 19%|█▊        | 372/2000 [1:17:16<9:09:30, 20.25s/it]"
     ]
    },
    {
     "name": "stdout",
     "output_type": "stream",
     "text": [
      "Ep. 373, Timestep 370986,  Ep.Timesteps 1600, Score: -173.61, Avg.Score: -171.13, Time: 01:17:26 \n"
     ]
    },
    {
     "name": "stderr",
     "output_type": "stream",
     "text": [
      " 19%|█▊        | 373/2000 [1:17:36<9:02:13, 20.00s/it]"
     ]
    },
    {
     "name": "stdout",
     "output_type": "stream",
     "text": [
      "Ep. 374, Timestep 372586,  Ep.Timesteps 1600, Score: -173.67, Avg.Score: -171.55, Time: 01:17:47 \n"
     ]
    },
    {
     "name": "stderr",
     "output_type": "stream",
     "text": [
      " 19%|█▊        | 374/2000 [1:17:56<9:01:55, 20.00s/it]"
     ]
    },
    {
     "name": "stdout",
     "output_type": "stream",
     "text": [
      "Ep. 375, Timestep 374186,  Ep.Timesteps 1600, Score: -173.76, Avg.Score: -171.37, Time: 01:18:08 \n"
     ]
    },
    {
     "name": "stderr",
     "output_type": "stream",
     "text": [
      " 19%|█▉        | 375/2000 [1:18:16<9:07:17, 20.21s/it]"
     ]
    },
    {
     "name": "stdout",
     "output_type": "stream",
     "text": [
      "Ep. 376, Timestep 375786,  Ep.Timesteps 1600, Score: -173.83, Avg.Score: -171.01, Time: 01:18:28 \n"
     ]
    },
    {
     "name": "stderr",
     "output_type": "stream",
     "text": [
      " 19%|█▉        | 376/2000 [1:18:37<9:10:54, 20.35s/it]"
     ]
    },
    {
     "name": "stdout",
     "output_type": "stream",
     "text": [
      "Ep. 377, Timestep 377386,  Ep.Timesteps 1600, Score: -173.67, Avg.Score: -170.59, Time: 01:18:48 \n"
     ]
    },
    {
     "name": "stderr",
     "output_type": "stream",
     "text": [
      " 19%|█▉        | 377/2000 [1:18:57<9:09:25, 20.31s/it]"
     ]
    },
    {
     "name": "stdout",
     "output_type": "stream",
     "text": [
      "Ep. 378, Timestep 378986,  Ep.Timesteps 1600, Score: -178.22, Avg.Score: -170.26, Time: 01:19:08 \n"
     ]
    },
    {
     "name": "stderr",
     "output_type": "stream",
     "text": [
      " 19%|█▉        | 378/2000 [1:19:17<9:05:42, 20.19s/it]"
     ]
    },
    {
     "name": "stdout",
     "output_type": "stream",
     "text": [
      "Ep. 379, Timestep 380586,  Ep.Timesteps 1600, Score: -173.90, Avg.Score: -170.27, Time: 01:19:29 \n"
     ]
    },
    {
     "name": "stderr",
     "output_type": "stream",
     "text": [
      " 19%|█▉        | 379/2000 [1:19:37<9:06:47, 20.24s/it]"
     ]
    },
    {
     "name": "stdout",
     "output_type": "stream",
     "text": [
      "Ep. 380, Timestep 382186,  Ep.Timesteps 1600, Score: -173.48, Avg.Score: -170.28, Time: 01:19:48 \n"
     ]
    },
    {
     "name": "stderr",
     "output_type": "stream",
     "text": [
      " 19%|█▉        | 380/2000 [1:19:57<9:04:25, 20.16s/it]"
     ]
    },
    {
     "name": "stdout",
     "output_type": "stream",
     "text": [
      "Ep. 381, Timestep 383786,  Ep.Timesteps 1600, Score: -180.12, Avg.Score: -170.36, Time: 01:20:08 \n"
     ]
    },
    {
     "name": "stderr",
     "output_type": "stream",
     "text": [
      " 19%|█▉        | 381/2000 [1:20:18<9:03:48, 20.15s/it]"
     ]
    },
    {
     "name": "stdout",
     "output_type": "stream",
     "text": [
      "Ep. 382, Timestep 385386,  Ep.Timesteps 1600, Score: -173.27, Avg.Score: -170.36, Time: 01:20:28 \n"
     ]
    },
    {
     "name": "stderr",
     "output_type": "stream",
     "text": [
      " 19%|█▉        | 382/2000 [1:20:37<8:57:39, 19.94s/it]"
     ]
    },
    {
     "name": "stdout",
     "output_type": "stream",
     "text": [
      "Ep. 383, Timestep 386986,  Ep.Timesteps 1600, Score: -173.83, Avg.Score: -170.29, Time: 01:20:48 \n"
     ]
    },
    {
     "name": "stderr",
     "output_type": "stream",
     "text": [
      " 19%|█▉        | 383/2000 [1:20:57<8:54:55, 19.85s/it]"
     ]
    },
    {
     "name": "stdout",
     "output_type": "stream",
     "text": [
      "Ep. 384, Timestep 388586,  Ep.Timesteps 1600, Score: -174.01, Avg.Score: -170.33, Time: 01:21:09 \n"
     ]
    },
    {
     "name": "stderr",
     "output_type": "stream",
     "text": [
      " 19%|█▉        | 384/2000 [1:21:18<9:03:12, 20.17s/it]"
     ]
    },
    {
     "name": "stdout",
     "output_type": "stream",
     "text": [
      "Ep. 385, Timestep 390186,  Ep.Timesteps 1600, Score: -173.74, Avg.Score: -170.29, Time: 01:21:28 \n"
     ]
    },
    {
     "name": "stderr",
     "output_type": "stream",
     "text": [
      " 19%|█▉        | 385/2000 [1:21:38<9:04:03, 20.21s/it]"
     ]
    },
    {
     "name": "stdout",
     "output_type": "stream",
     "text": [
      "Ep. 386, Timestep 391786,  Ep.Timesteps 1600, Score: -174.03, Avg.Score: -170.28, Time: 01:21:48 \n"
     ]
    },
    {
     "name": "stderr",
     "output_type": "stream",
     "text": [
      " 19%|█▉        | 386/2000 [1:21:58<9:02:04, 20.15s/it]"
     ]
    },
    {
     "name": "stdout",
     "output_type": "stream",
     "text": [
      "Ep. 387, Timestep 393386,  Ep.Timesteps 1600, Score: -173.53, Avg.Score: -170.23, Time: 01:22:08 \n"
     ]
    },
    {
     "name": "stderr",
     "output_type": "stream",
     "text": [
      " 19%|█▉        | 387/2000 [1:22:17<8:49:53, 19.71s/it]"
     ]
    },
    {
     "name": "stdout",
     "output_type": "stream",
     "text": [
      "Ep. 388, Timestep 394986,  Ep.Timesteps 1600, Score: -181.09, Avg.Score: -170.49, Time: 01:22:28 \n"
     ]
    },
    {
     "name": "stderr",
     "output_type": "stream",
     "text": [
      " 19%|█▉        | 388/2000 [1:22:37<8:54:27, 19.89s/it]"
     ]
    },
    {
     "name": "stdout",
     "output_type": "stream",
     "text": [
      "Ep. 389, Timestep 396586,  Ep.Timesteps 1600, Score: -173.53, Avg.Score: -170.64, Time: 01:22:48 \n"
     ]
    },
    {
     "name": "stderr",
     "output_type": "stream",
     "text": [
      " 19%|█▉        | 389/2000 [1:22:57<8:59:32, 20.09s/it]"
     ]
    },
    {
     "name": "stdout",
     "output_type": "stream",
     "text": [
      "Ep. 390, Timestep 398186,  Ep.Timesteps 1600, Score: -173.39, Avg.Score: -170.49, Time: 01:23:08 \n"
     ]
    },
    {
     "name": "stderr",
     "output_type": "stream",
     "text": [
      " 20%|█▉        | 390/2000 [1:23:17<8:56:05, 19.98s/it]"
     ]
    },
    {
     "name": "stdout",
     "output_type": "stream",
     "text": [
      "Ep. 391, Timestep 399786,  Ep.Timesteps 1600, Score: -173.94, Avg.Score: -170.81, Time: 01:23:29 \n"
     ]
    },
    {
     "name": "stderr",
     "output_type": "stream",
     "text": [
      " 20%|█▉        | 391/2000 [1:23:38<8:58:58, 20.10s/it]"
     ]
    },
    {
     "name": "stdout",
     "output_type": "stream",
     "text": [
      "Ep. 392, Timestep 401386,  Ep.Timesteps 1600, Score: -173.80, Avg.Score: -171.08, Time: 01:23:49 \n"
     ]
    },
    {
     "name": "stderr",
     "output_type": "stream",
     "text": [
      " 20%|█▉        | 392/2000 [1:23:58<8:58:41, 20.10s/it]"
     ]
    },
    {
     "name": "stdout",
     "output_type": "stream",
     "text": [
      "Ep. 393, Timestep 402986,  Ep.Timesteps 1600, Score: -173.60, Avg.Score: -171.36, Time: 01:24:08 \n"
     ]
    },
    {
     "name": "stderr",
     "output_type": "stream",
     "text": [
      " 20%|█▉        | 393/2000 [1:24:18<9:02:42, 20.26s/it]"
     ]
    },
    {
     "name": "stdout",
     "output_type": "stream",
     "text": [
      "Ep. 394, Timestep 404586,  Ep.Timesteps 1600, Score: -173.74, Avg.Score: -171.61, Time: 01:24:28 \n"
     ]
    },
    {
     "name": "stderr",
     "output_type": "stream",
     "text": [
      " 20%|█▉        | 394/2000 [1:24:38<8:56:44, 20.05s/it]"
     ]
    },
    {
     "name": "stdout",
     "output_type": "stream",
     "text": [
      "Ep. 395, Timestep 406186,  Ep.Timesteps 1600, Score: -173.81, Avg.Score: -171.90, Time: 01:24:48 \n"
     ]
    },
    {
     "name": "stderr",
     "output_type": "stream",
     "text": [
      " 20%|█▉        | 395/2000 [1:24:58<8:53:11, 19.93s/it]"
     ]
    },
    {
     "name": "stdout",
     "output_type": "stream",
     "text": [
      "Ep. 396, Timestep 407786,  Ep.Timesteps 1600, Score: -174.06, Avg.Score: -172.16, Time: 01:25:09 \n"
     ]
    },
    {
     "name": "stderr",
     "output_type": "stream",
     "text": [
      " 20%|█▉        | 396/2000 [1:25:17<8:50:53, 19.86s/it]"
     ]
    },
    {
     "name": "stdout",
     "output_type": "stream",
     "text": [
      "Ep. 397, Timestep 409386,  Ep.Timesteps 1600, Score: -173.53, Avg.Score: -172.45, Time: 01:25:29 \n"
     ]
    },
    {
     "name": "stderr",
     "output_type": "stream",
     "text": [
      " 20%|█▉        | 397/2000 [1:25:37<8:53:49, 19.98s/it]"
     ]
    },
    {
     "name": "stdout",
     "output_type": "stream",
     "text": [
      "Ep. 398, Timestep 410986,  Ep.Timesteps 1600, Score: -173.56, Avg.Score: -172.45, Time: 01:25:49 \n"
     ]
    },
    {
     "name": "stderr",
     "output_type": "stream",
     "text": [
      " 20%|█▉        | 398/2000 [1:25:58<8:59:27, 20.20s/it]"
     ]
    },
    {
     "name": "stdout",
     "output_type": "stream",
     "text": [
      "Ep. 399, Timestep 412586,  Ep.Timesteps 1600, Score: -173.78, Avg.Score: -172.43, Time: 01:26:08 \n"
     ]
    },
    {
     "name": "stderr",
     "output_type": "stream",
     "text": [
      " 20%|█▉        | 399/2000 [1:26:18<8:54:48, 20.04s/it]"
     ]
    },
    {
     "name": "stdout",
     "output_type": "stream",
     "text": [
      "Ep. 400, Timestep 414186,  Ep.Timesteps 1600, Score: -173.95, Avg.Score: -172.43, Time: 01:26:29 \n"
     ]
    },
    {
     "name": "stderr",
     "output_type": "stream",
     "text": [
      " 20%|██        | 400/2000 [1:26:38<8:57:07, 20.14s/it]"
     ]
    },
    {
     "name": "stdout",
     "output_type": "stream",
     "text": [
      "Ep. 401, Timestep 415786,  Ep.Timesteps 1600, Score: -173.63, Avg.Score: -172.44, Time: 01:26:49 \n"
     ]
    },
    {
     "name": "stderr",
     "output_type": "stream",
     "text": [
      " 20%|██        | 401/2000 [1:26:57<8:49:09, 19.86s/it]"
     ]
    },
    {
     "name": "stdout",
     "output_type": "stream",
     "text": [
      "Ep. 402, Timestep 417386,  Ep.Timesteps 1600, Score: -173.43, Avg.Score: -172.44, Time: 01:27:10 \n"
     ]
    },
    {
     "name": "stderr",
     "output_type": "stream",
     "text": [
      " 20%|██        | 402/2000 [1:27:18<8:56:57, 20.16s/it]"
     ]
    },
    {
     "name": "stdout",
     "output_type": "stream",
     "text": [
      "Ep. 403, Timestep 418986,  Ep.Timesteps 1600, Score: -181.24, Avg.Score: -172.53, Time: 01:27:30 \n"
     ]
    },
    {
     "name": "stderr",
     "output_type": "stream",
     "text": [
      " 20%|██        | 403/2000 [1:27:38<8:56:04, 20.14s/it]"
     ]
    },
    {
     "name": "stdout",
     "output_type": "stream",
     "text": [
      "Ep. 404, Timestep 420586,  Ep.Timesteps 1600, Score: -176.58, Avg.Score: -172.57, Time: 01:27:50 \n"
     ]
    },
    {
     "name": "stderr",
     "output_type": "stream",
     "text": [
      " 20%|██        | 404/2000 [1:27:58<8:51:36, 19.99s/it]"
     ]
    },
    {
     "name": "stdout",
     "output_type": "stream",
     "text": [
      "Ep. 405, Timestep 422186,  Ep.Timesteps 1600, Score: -181.22, Avg.Score: -172.65, Time: 01:28:10 \n"
     ]
    },
    {
     "name": "stderr",
     "output_type": "stream",
     "text": [
      " 20%|██        | 405/2000 [1:28:19<8:57:17, 20.21s/it]"
     ]
    },
    {
     "name": "stdout",
     "output_type": "stream",
     "text": [
      "Ep. 406, Timestep 423786,  Ep.Timesteps 1600, Score: -175.70, Avg.Score: -172.95, Time: 01:28:30 \n"
     ]
    },
    {
     "name": "stderr",
     "output_type": "stream",
     "text": [
      " 20%|██        | 406/2000 [1:28:39<8:58:41, 20.28s/it]"
     ]
    },
    {
     "name": "stdout",
     "output_type": "stream",
     "text": [
      "Ep. 407, Timestep 425386,  Ep.Timesteps 1600, Score: -181.17, Avg.Score: -173.22, Time: 01:28:50 \n"
     ]
    },
    {
     "name": "stderr",
     "output_type": "stream",
     "text": [
      " 20%|██        | 407/2000 [1:29:00<9:01:38, 20.40s/it]"
     ]
    },
    {
     "name": "stdout",
     "output_type": "stream",
     "text": [
      "Ep. 408, Timestep 426986,  Ep.Timesteps 1600, Score: -181.13, Avg.Score: -173.56, Time: 01:29:09 \n"
     ]
    },
    {
     "name": "stderr",
     "output_type": "stream",
     "text": [
      " 20%|██        | 408/2000 [1:29:19<8:51:00, 20.01s/it]"
     ]
    },
    {
     "name": "stdout",
     "output_type": "stream",
     "text": [
      "Ep. 409, Timestep 428586,  Ep.Timesteps 1600, Score: -182.22, Avg.Score: -173.64, Time: 01:29:30 \n"
     ]
    },
    {
     "name": "stderr",
     "output_type": "stream",
     "text": [
      " 20%|██        | 409/2000 [1:29:39<8:51:23, 20.04s/it]"
     ]
    },
    {
     "name": "stdout",
     "output_type": "stream",
     "text": [
      "Ep. 410, Timestep 430186,  Ep.Timesteps 1600, Score: -181.32, Avg.Score: -173.72, Time: 01:29:50 \n"
     ]
    },
    {
     "name": "stderr",
     "output_type": "stream",
     "text": [
      " 20%|██        | 410/2000 [1:29:59<8:49:16, 19.97s/it]"
     ]
    },
    {
     "name": "stdout",
     "output_type": "stream",
     "text": [
      "Ep. 411, Timestep 431786,  Ep.Timesteps 1600, Score: -181.63, Avg.Score: -173.80, Time: 01:30:11 \n"
     ]
    },
    {
     "name": "stderr",
     "output_type": "stream",
     "text": [
      " 21%|██        | 411/2000 [1:30:19<8:49:59, 20.01s/it]"
     ]
    },
    {
     "name": "stdout",
     "output_type": "stream",
     "text": [
      "Ep. 412, Timestep 433386,  Ep.Timesteps 1600, Score: -181.42, Avg.Score: -173.88, Time: 01:30:31 \n"
     ]
    },
    {
     "name": "stderr",
     "output_type": "stream",
     "text": [
      " 21%|██        | 412/2000 [1:30:40<9:00:47, 20.43s/it]"
     ]
    },
    {
     "name": "stdout",
     "output_type": "stream",
     "text": [
      "Ep. 413, Timestep 434986,  Ep.Timesteps 1600, Score: -180.19, Avg.Score: -173.94, Time: 01:30:50 \n"
     ]
    },
    {
     "name": "stderr",
     "output_type": "stream",
     "text": [
      " 21%|██        | 413/2000 [1:31:00<8:53:48, 20.18s/it]"
     ]
    },
    {
     "name": "stdout",
     "output_type": "stream",
     "text": [
      "Ep. 414, Timestep 436586,  Ep.Timesteps 1600, Score: -176.40, Avg.Score: -173.97, Time: 01:31:10 \n"
     ]
    },
    {
     "name": "stderr",
     "output_type": "stream",
     "text": [
      " 21%|██        | 414/2000 [1:31:20<8:51:19, 20.10s/it]"
     ]
    },
    {
     "name": "stdout",
     "output_type": "stream",
     "text": [
      "Ep. 415, Timestep 438186,  Ep.Timesteps 1600, Score: -173.47, Avg.Score: -173.97, Time: 01:31:31 \n"
     ]
    },
    {
     "name": "stderr",
     "output_type": "stream",
     "text": [
      " 21%|██        | 415/2000 [1:31:39<8:46:03, 19.91s/it]"
     ]
    },
    {
     "name": "stdout",
     "output_type": "stream",
     "text": [
      "Ep. 416, Timestep 439786,  Ep.Timesteps 1600, Score: -173.84, Avg.Score: -173.97, Time: 01:31:51 \n"
     ]
    },
    {
     "name": "stderr",
     "output_type": "stream",
     "text": [
      " 21%|██        | 416/2000 [1:32:00<8:49:46, 20.07s/it]"
     ]
    },
    {
     "name": "stdout",
     "output_type": "stream",
     "text": [
      "Ep. 417, Timestep 441386,  Ep.Timesteps 1600, Score: -174.04, Avg.Score: -173.97, Time: 01:32:11 \n"
     ]
    },
    {
     "name": "stderr",
     "output_type": "stream",
     "text": [
      " 21%|██        | 417/2000 [1:32:20<8:47:53, 20.01s/it]"
     ]
    },
    {
     "name": "stdout",
     "output_type": "stream",
     "text": [
      "Ep. 418, Timestep 442986,  Ep.Timesteps 1600, Score: -173.80, Avg.Score: -173.98, Time: 01:32:31 \n"
     ]
    },
    {
     "name": "stderr",
     "output_type": "stream",
     "text": [
      " 21%|██        | 418/2000 [1:32:40<8:45:50, 19.94s/it]"
     ]
    },
    {
     "name": "stdout",
     "output_type": "stream",
     "text": [
      "Ep. 419, Timestep 444586,  Ep.Timesteps 1600, Score: -173.58, Avg.Score: -174.23, Time: 01:32:52 \n"
     ]
    },
    {
     "name": "stderr",
     "output_type": "stream",
     "text": [
      " 21%|██        | 419/2000 [1:33:00<8:52:48, 20.22s/it]"
     ]
    },
    {
     "name": "stdout",
     "output_type": "stream",
     "text": [
      "Ep. 420, Timestep 446186,  Ep.Timesteps 1600, Score: -173.89, Avg.Score: -174.53, Time: 01:33:12 \n"
     ]
    },
    {
     "name": "stderr",
     "output_type": "stream",
     "text": [
      " 21%|██        | 420/2000 [1:33:21<8:55:38, 20.34s/it]"
     ]
    },
    {
     "name": "stdout",
     "output_type": "stream",
     "text": [
      "Ep. 421, Timestep 447786,  Ep.Timesteps 1600, Score: -173.92, Avg.Score: -174.56, Time: 01:33:32 \n"
     ]
    },
    {
     "name": "stderr",
     "output_type": "stream",
     "text": [
      " 21%|██        | 421/2000 [1:33:42<8:59:42, 20.51s/it]"
     ]
    },
    {
     "name": "stdout",
     "output_type": "stream",
     "text": [
      "Ep. 422, Timestep 449386,  Ep.Timesteps 1600, Score: -173.49, Avg.Score: -174.57, Time: 01:33:51 \n"
     ]
    },
    {
     "name": "stderr",
     "output_type": "stream",
     "text": [
      " 21%|██        | 422/2000 [1:34:01<8:50:00, 20.15s/it]"
     ]
    },
    {
     "name": "stdout",
     "output_type": "stream",
     "text": [
      "Ep. 423, Timestep 450986,  Ep.Timesteps 1600, Score: -173.49, Avg.Score: -174.54, Time: 01:34:12 \n"
     ]
    },
    {
     "name": "stderr",
     "output_type": "stream",
     "text": [
      " 21%|██        | 423/2000 [1:34:21<8:49:21, 20.14s/it]"
     ]
    },
    {
     "name": "stdout",
     "output_type": "stream",
     "text": [
      "Ep. 424, Timestep 452586,  Ep.Timesteps 1600, Score: -173.83, Avg.Score: -174.46, Time: 01:34:32 \n"
     ]
    },
    {
     "name": "stderr",
     "output_type": "stream",
     "text": [
      " 21%|██        | 424/2000 [1:34:41<8:42:58, 19.91s/it]"
     ]
    },
    {
     "name": "stdout",
     "output_type": "stream",
     "text": [
      "Ep. 425, Timestep 454186,  Ep.Timesteps 1600, Score: -173.70, Avg.Score: -174.67, Time: 01:34:52 \n"
     ]
    },
    {
     "name": "stderr",
     "output_type": "stream",
     "text": [
      " 21%|██▏       | 425/2000 [1:35:01<8:47:22, 20.09s/it]"
     ]
    },
    {
     "name": "stdout",
     "output_type": "stream",
     "text": [
      "Ep. 426, Timestep 455786,  Ep.Timesteps 1600, Score: -173.62, Avg.Score: -174.58, Time: 01:35:12 \n"
     ]
    },
    {
     "name": "stderr",
     "output_type": "stream",
     "text": [
      " 21%|██▏       | 426/2000 [1:35:21<8:44:20, 19.99s/it]"
     ]
    },
    {
     "name": "stdout",
     "output_type": "stream",
     "text": [
      "Ep. 427, Timestep 457386,  Ep.Timesteps 1600, Score: -173.59, Avg.Score: -174.51, Time: 01:35:31 \n"
     ]
    },
    {
     "name": "stderr",
     "output_type": "stream",
     "text": [
      " 21%|██▏       | 427/2000 [1:35:41<8:44:14, 20.00s/it]"
     ]
    },
    {
     "name": "stdout",
     "output_type": "stream",
     "text": [
      "Ep. 428, Timestep 458986,  Ep.Timesteps 1600, Score: -173.99, Avg.Score: -174.42, Time: 01:35:52 \n"
     ]
    },
    {
     "name": "stderr",
     "output_type": "stream",
     "text": [
      " 21%|██▏       | 428/2000 [1:36:01<8:43:17, 19.97s/it]"
     ]
    },
    {
     "name": "stdout",
     "output_type": "stream",
     "text": [
      "Ep. 429, Timestep 460586,  Ep.Timesteps 1600, Score: -173.85, Avg.Score: -174.32, Time: 01:36:12 \n"
     ]
    },
    {
     "name": "stderr",
     "output_type": "stream",
     "text": [
      " 21%|██▏       | 429/2000 [1:36:21<8:41:44, 19.93s/it]"
     ]
    },
    {
     "name": "stdout",
     "output_type": "stream",
     "text": [
      "Ep. 430, Timestep 462186,  Ep.Timesteps 1600, Score: -173.55, Avg.Score: -174.22, Time: 01:36:32 \n"
     ]
    },
    {
     "name": "stderr",
     "output_type": "stream",
     "text": [
      " 22%|██▏       | 430/2000 [1:36:41<8:46:46, 20.13s/it]"
     ]
    },
    {
     "name": "stdout",
     "output_type": "stream",
     "text": [
      "Ep. 431, Timestep 463786,  Ep.Timesteps 1600, Score: -173.69, Avg.Score: -174.21, Time: 01:36:53 \n"
     ]
    },
    {
     "name": "stderr",
     "output_type": "stream",
     "text": [
      " 22%|██▏       | 431/2000 [1:37:01<8:43:10, 20.01s/it]"
     ]
    },
    {
     "name": "stdout",
     "output_type": "stream",
     "text": [
      "Ep. 432, Timestep 465386,  Ep.Timesteps 1600, Score: -173.61, Avg.Score: -174.21, Time: 01:37:13 \n"
     ]
    },
    {
     "name": "stderr",
     "output_type": "stream",
     "text": [
      " 22%|██▏       | 432/2000 [1:37:21<8:42:01, 19.98s/it]"
     ]
    },
    {
     "name": "stdout",
     "output_type": "stream",
     "text": [
      "Ep. 433, Timestep 466986,  Ep.Timesteps 1600, Score: -173.46, Avg.Score: -174.49, Time: 01:37:34 \n"
     ]
    },
    {
     "name": "stderr",
     "output_type": "stream",
     "text": [
      " 22%|██▏       | 433/2000 [1:37:42<8:50:45, 20.32s/it]"
     ]
    },
    {
     "name": "stdout",
     "output_type": "stream",
     "text": [
      "Ep. 434, Timestep 468586,  Ep.Timesteps 1600, Score: -173.79, Avg.Score: -174.65, Time: 01:37:53 \n"
     ]
    },
    {
     "name": "stderr",
     "output_type": "stream",
     "text": [
      " 22%|██▏       | 434/2000 [1:38:02<8:51:11, 20.35s/it]"
     ]
    },
    {
     "name": "stdout",
     "output_type": "stream",
     "text": [
      "Ep. 435, Timestep 470186,  Ep.Timesteps 1600, Score: -173.85, Avg.Score: -174.87, Time: 01:38:13 \n"
     ]
    },
    {
     "name": "stderr",
     "output_type": "stream",
     "text": [
      " 22%|██▏       | 435/2000 [1:38:23<8:53:33, 20.46s/it]"
     ]
    },
    {
     "name": "stdout",
     "output_type": "stream",
     "text": [
      "Ep. 436, Timestep 471786,  Ep.Timesteps 1600, Score: -177.90, Avg.Score: -175.12, Time: 01:38:33 \n"
     ]
    },
    {
     "name": "stderr",
     "output_type": "stream",
     "text": [
      " 22%|██▏       | 436/2000 [1:38:42<8:42:16, 20.04s/it]"
     ]
    },
    {
     "name": "stdout",
     "output_type": "stream",
     "text": [
      "Ep. 437, Timestep 473386,  Ep.Timesteps 1600, Score: -173.41, Avg.Score: -175.19, Time: 01:38:53 \n"
     ]
    },
    {
     "name": "stderr",
     "output_type": "stream",
     "text": [
      " 22%|██▏       | 437/2000 [1:39:02<8:41:15, 20.01s/it]"
     ]
    },
    {
     "name": "stdout",
     "output_type": "stream",
     "text": [
      "Ep. 438, Timestep 474986,  Ep.Timesteps 1600, Score: -173.62, Avg.Score: -175.19, Time: 01:39:13 \n"
     ]
    },
    {
     "name": "stderr",
     "output_type": "stream",
     "text": [
      " 22%|██▏       | 438/2000 [1:39:22<8:43:10, 20.10s/it]"
     ]
    },
    {
     "name": "stdout",
     "output_type": "stream",
     "text": [
      "Ep. 439, Timestep 476586,  Ep.Timesteps 1600, Score: -173.37, Avg.Score: -175.18, Time: 01:39:33 \n"
     ]
    },
    {
     "name": "stderr",
     "output_type": "stream",
     "text": [
      " 22%|██▏       | 439/2000 [1:39:42<8:39:28, 19.97s/it]"
     ]
    },
    {
     "name": "stdout",
     "output_type": "stream",
     "text": [
      "Ep. 440, Timestep 478186,  Ep.Timesteps 1600, Score: -173.54, Avg.Score: -175.18, Time: 01:39:54 \n"
     ]
    },
    {
     "name": "stderr",
     "output_type": "stream",
     "text": [
      " 22%|██▏       | 440/2000 [1:40:02<8:41:14, 20.05s/it]"
     ]
    },
    {
     "name": "stdout",
     "output_type": "stream",
     "text": [
      "Ep. 441, Timestep 479786,  Ep.Timesteps 1600, Score: -173.84, Avg.Score: -175.18, Time: 01:40:14 \n"
     ]
    },
    {
     "name": "stderr",
     "output_type": "stream",
     "text": [
      " 22%|██▏       | 441/2000 [1:40:23<8:41:52, 20.08s/it]"
     ]
    },
    {
     "name": "stdout",
     "output_type": "stream",
     "text": [
      "Ep. 442, Timestep 481386,  Ep.Timesteps 1600, Score: -173.68, Avg.Score: -175.18, Time: 01:40:35 \n"
     ]
    },
    {
     "name": "stderr",
     "output_type": "stream",
     "text": [
      " 22%|██▏       | 442/2000 [1:40:44<8:48:56, 20.37s/it]"
     ]
    },
    {
     "name": "stdout",
     "output_type": "stream",
     "text": [
      "Ep. 443, Timestep 482986,  Ep.Timesteps 1600, Score: -180.46, Avg.Score: -175.25, Time: 01:40:54 \n"
     ]
    },
    {
     "name": "stderr",
     "output_type": "stream",
     "text": [
      " 22%|██▏       | 443/2000 [1:41:04<8:46:00, 20.27s/it]"
     ]
    },
    {
     "name": "stdout",
     "output_type": "stream",
     "text": [
      "Ep. 444, Timestep 484586,  Ep.Timesteps 1600, Score: -180.39, Avg.Score: -175.32, Time: 01:41:14 \n"
     ]
    },
    {
     "name": "stderr",
     "output_type": "stream",
     "text": [
      " 22%|██▏       | 444/2000 [1:41:23<8:42:28, 20.15s/it]"
     ]
    },
    {
     "name": "stdout",
     "output_type": "stream",
     "text": [
      "Ep. 445, Timestep 486186,  Ep.Timesteps 1600, Score: -181.48, Avg.Score: -175.40, Time: 01:41:35 \n"
     ]
    },
    {
     "name": "stderr",
     "output_type": "stream",
     "text": [
      " 22%|██▏       | 445/2000 [1:41:43<8:36:43, 19.94s/it]"
     ]
    },
    {
     "name": "stdout",
     "output_type": "stream",
     "text": [
      "Ep. 446, Timestep 487786,  Ep.Timesteps 1600, Score: -180.92, Avg.Score: -175.47, Time: 01:41:55 \n"
     ]
    },
    {
     "name": "stderr",
     "output_type": "stream",
     "text": [
      " 22%|██▏       | 446/2000 [1:42:04<8:42:07, 20.16s/it]"
     ]
    },
    {
     "name": "stdout",
     "output_type": "stream",
     "text": [
      "Ep. 447, Timestep 489386,  Ep.Timesteps 1600, Score: -173.88, Avg.Score: -175.47, Time: 01:42:14 \n"
     ]
    },
    {
     "name": "stderr",
     "output_type": "stream",
     "text": [
      " 22%|██▏       | 447/2000 [1:42:24<8:40:36, 20.11s/it]"
     ]
    },
    {
     "name": "stdout",
     "output_type": "stream",
     "text": [
      "Ep. 448, Timestep 490986,  Ep.Timesteps 1600, Score: -175.09, Avg.Score: -175.48, Time: 01:42:34 \n"
     ]
    },
    {
     "name": "stderr",
     "output_type": "stream",
     "text": [
      " 22%|██▏       | 448/2000 [1:42:44<8:40:43, 20.13s/it]"
     ]
    },
    {
     "name": "stdout",
     "output_type": "stream",
     "text": [
      "Ep. 449, Timestep 492586,  Ep.Timesteps 1600, Score: -182.95, Avg.Score: -175.57, Time: 01:42:54 \n"
     ]
    },
    {
     "name": "stderr",
     "output_type": "stream",
     "text": [
      " 22%|██▏       | 449/2000 [1:43:03<8:35:50, 19.96s/it]"
     ]
    },
    {
     "name": "stdout",
     "output_type": "stream",
     "text": [
      "Ep. 450, Timestep 494186,  Ep.Timesteps 1600, Score: -179.53, Avg.Score: -175.63, Time: 01:43:15 \n"
     ]
    },
    {
     "name": "stderr",
     "output_type": "stream",
     "text": [
      " 22%|██▎       | 450/2000 [1:43:23<8:35:33, 19.96s/it]"
     ]
    },
    {
     "name": "stdout",
     "output_type": "stream",
     "text": [
      "Ep. 451, Timestep 495786,  Ep.Timesteps 1600, Score: -182.70, Avg.Score: -175.73, Time: 01:43:34 \n"
     ]
    },
    {
     "name": "stderr",
     "output_type": "stream",
     "text": [
      " 23%|██▎       | 451/2000 [1:43:44<8:38:07, 20.07s/it]"
     ]
    },
    {
     "name": "stdout",
     "output_type": "stream",
     "text": [
      "Ep. 452, Timestep 497386,  Ep.Timesteps 1600, Score: -180.73, Avg.Score: -175.80, Time: 01:43:54 \n"
     ]
    },
    {
     "name": "stderr",
     "output_type": "stream",
     "text": [
      " 23%|██▎       | 452/2000 [1:44:03<8:35:17, 19.97s/it]"
     ]
    },
    {
     "name": "stdout",
     "output_type": "stream",
     "text": [
      "Ep. 453, Timestep 498986,  Ep.Timesteps 1600, Score: -180.50, Avg.Score: -175.87, Time: 01:44:15 \n"
     ]
    },
    {
     "name": "stderr",
     "output_type": "stream",
     "text": [
      " 23%|██▎       | 453/2000 [1:44:23<8:33:20, 19.91s/it]"
     ]
    },
    {
     "name": "stdout",
     "output_type": "stream",
     "text": [
      "Ep. 454, Timestep 500586,  Ep.Timesteps 1600, Score: -178.66, Avg.Score: -175.92, Time: 01:44:35 \n"
     ]
    },
    {
     "name": "stderr",
     "output_type": "stream",
     "text": [
      " 23%|██▎       | 454/2000 [1:44:43<8:35:36, 20.01s/it]"
     ]
    },
    {
     "name": "stdout",
     "output_type": "stream",
     "text": [
      "Ep. 455, Timestep 502186,  Ep.Timesteps 1600, Score: -173.63, Avg.Score: -175.91, Time: 01:44:55 \n"
     ]
    },
    {
     "name": "stderr",
     "output_type": "stream",
     "text": [
      " 23%|██▎       | 455/2000 [1:45:04<8:42:11, 20.28s/it]"
     ]
    },
    {
     "name": "stdout",
     "output_type": "stream",
     "text": [
      "Ep. 456, Timestep 503786,  Ep.Timesteps 1600, Score: -173.90, Avg.Score: -175.92, Time: 01:45:14 \n"
     ]
    },
    {
     "name": "stderr",
     "output_type": "stream",
     "text": [
      " 23%|██▎       | 456/2000 [1:45:24<8:39:30, 20.19s/it]"
     ]
    },
    {
     "name": "stdout",
     "output_type": "stream",
     "text": [
      "Ep. 457, Timestep 505386,  Ep.Timesteps 1600, Score: -173.60, Avg.Score: -175.91, Time: 01:45:34 \n"
     ]
    },
    {
     "name": "stderr",
     "output_type": "stream",
     "text": [
      " 23%|██▎       | 457/2000 [1:45:44<8:34:15, 20.00s/it]"
     ]
    },
    {
     "name": "stdout",
     "output_type": "stream",
     "text": [
      "Ep. 458, Timestep 506986,  Ep.Timesteps 1600, Score: -173.76, Avg.Score: -175.85, Time: 01:45:55 \n"
     ]
    },
    {
     "name": "stderr",
     "output_type": "stream",
     "text": [
      " 23%|██▎       | 458/2000 [1:46:04<8:34:34, 20.02s/it]"
     ]
    },
    {
     "name": "stdout",
     "output_type": "stream",
     "text": [
      "Ep. 459, Timestep 508586,  Ep.Timesteps 1600, Score: -173.63, Avg.Score: -175.85, Time: 01:46:15 \n"
     ]
    },
    {
     "name": "stderr",
     "output_type": "stream",
     "text": [
      " 23%|██▎       | 459/2000 [1:46:23<8:29:05, 19.82s/it]"
     ]
    },
    {
     "name": "stdout",
     "output_type": "stream",
     "text": [
      "Ep. 460, Timestep 510186,  Ep.Timesteps 1600, Score: -173.67, Avg.Score: -175.85, Time: 01:46:36 \n"
     ]
    },
    {
     "name": "stderr",
     "output_type": "stream",
     "text": [
      " 23%|██▎       | 460/2000 [1:46:45<8:40:31, 20.28s/it]"
     ]
    },
    {
     "name": "stdout",
     "output_type": "stream",
     "text": [
      "Ep. 461, Timestep 511786,  Ep.Timesteps 1600, Score: -173.66, Avg.Score: -175.85, Time: 01:46:55 \n"
     ]
    },
    {
     "name": "stderr",
     "output_type": "stream",
     "text": [
      " 23%|██▎       | 461/2000 [1:47:04<8:33:23, 20.01s/it]"
     ]
    },
    {
     "name": "stdout",
     "output_type": "stream",
     "text": [
      "Ep. 462, Timestep 513386,  Ep.Timesteps 1600, Score: -173.54, Avg.Score: -175.84, Time: 01:47:16 \n"
     ]
    },
    {
     "name": "stderr",
     "output_type": "stream",
     "text": [
      " 23%|██▎       | 462/2000 [1:47:24<8:34:34, 20.07s/it]"
     ]
    },
    {
     "name": "stdout",
     "output_type": "stream",
     "text": [
      "Ep. 463, Timestep 514986,  Ep.Timesteps 1600, Score: -173.95, Avg.Score: -175.83, Time: 01:47:37 \n"
     ]
    },
    {
     "name": "stderr",
     "output_type": "stream",
     "text": [
      " 23%|██▎       | 463/2000 [1:47:45<8:40:42, 20.33s/it]"
     ]
    },
    {
     "name": "stdout",
     "output_type": "stream",
     "text": [
      "Ep. 464, Timestep 516586,  Ep.Timesteps 1600, Score: -173.27, Avg.Score: -175.75, Time: 01:47:56 \n"
     ]
    },
    {
     "name": "stderr",
     "output_type": "stream",
     "text": [
      " 23%|██▎       | 464/2000 [1:48:05<8:39:39, 20.30s/it]"
     ]
    },
    {
     "name": "stdout",
     "output_type": "stream",
     "text": [
      "Ep. 465, Timestep 518186,  Ep.Timesteps 1600, Score: -174.08, Avg.Score: -175.67, Time: 01:48:16 \n"
     ]
    },
    {
     "name": "stderr",
     "output_type": "stream",
     "text": [
      " 23%|██▎       | 465/2000 [1:48:26<8:41:41, 20.39s/it]"
     ]
    },
    {
     "name": "stdout",
     "output_type": "stream",
     "text": [
      "Ep. 466, Timestep 519786,  Ep.Timesteps 1600, Score: -173.73, Avg.Score: -175.61, Time: 01:48:36 \n"
     ]
    },
    {
     "name": "stderr",
     "output_type": "stream",
     "text": [
      " 23%|██▎       | 466/2000 [1:48:45<8:34:19, 20.12s/it]"
     ]
    },
    {
     "name": "stdout",
     "output_type": "stream",
     "text": [
      "Ep. 467, Timestep 521386,  Ep.Timesteps 1600, Score: -173.80, Avg.Score: -175.57, Time: 01:48:57 \n"
     ]
    },
    {
     "name": "stderr",
     "output_type": "stream",
     "text": [
      " 23%|██▎       | 467/2000 [1:49:05<8:31:18, 20.01s/it]"
     ]
    },
    {
     "name": "stdout",
     "output_type": "stream",
     "text": [
      "Ep. 468, Timestep 522986,  Ep.Timesteps 1600, Score: -173.52, Avg.Score: -175.48, Time: 01:49:18 \n"
     ]
    },
    {
     "name": "stderr",
     "output_type": "stream",
     "text": [
      " 23%|██▎       | 468/2000 [1:49:26<8:33:23, 20.11s/it]"
     ]
    },
    {
     "name": "stdout",
     "output_type": "stream",
     "text": [
      "Ep. 469, Timestep 524586,  Ep.Timesteps 1600, Score: -174.12, Avg.Score: -175.47, Time: 01:49:37 \n"
     ]
    },
    {
     "name": "stderr",
     "output_type": "stream",
     "text": [
      " 23%|██▎       | 469/2000 [1:49:46<8:39:01, 20.34s/it]"
     ]
    },
    {
     "name": "stdout",
     "output_type": "stream",
     "text": [
      "Ep. 470, Timestep 526186,  Ep.Timesteps 1600, Score: -173.45, Avg.Score: -175.45, Time: 01:49:57 \n"
     ]
    },
    {
     "name": "stderr",
     "output_type": "stream",
     "text": [
      " 24%|██▎       | 470/2000 [1:50:07<8:39:28, 20.37s/it]"
     ]
    },
    {
     "name": "stdout",
     "output_type": "stream",
     "text": [
      "Ep. 471, Timestep 527786,  Ep.Timesteps 1600, Score: -173.56, Avg.Score: -175.43, Time: 01:50:17 \n"
     ]
    },
    {
     "name": "stderr",
     "output_type": "stream",
     "text": [
      " 24%|██▎       | 471/2000 [1:50:26<8:33:06, 20.13s/it]"
     ]
    },
    {
     "name": "stdout",
     "output_type": "stream",
     "text": [
      "Ep. 472, Timestep 529386,  Ep.Timesteps 1600, Score: -173.56, Avg.Score: -175.41, Time: 01:50:37 \n"
     ]
    },
    {
     "name": "stderr",
     "output_type": "stream",
     "text": [
      " 24%|██▎       | 472/2000 [1:50:45<8:23:23, 19.77s/it]"
     ]
    },
    {
     "name": "stdout",
     "output_type": "stream",
     "text": [
      "Ep. 473, Timestep 530986,  Ep.Timesteps 1600, Score: -180.02, Avg.Score: -175.47, Time: 01:50:57 \n"
     ]
    },
    {
     "name": "stderr",
     "output_type": "stream",
     "text": [
      " 24%|██▎       | 473/2000 [1:51:06<8:31:02, 20.08s/it]"
     ]
    },
    {
     "name": "stdout",
     "output_type": "stream",
     "text": [
      "Ep. 474, Timestep 532586,  Ep.Timesteps 1600, Score: -173.84, Avg.Score: -175.47, Time: 01:51:17 \n"
     ]
    },
    {
     "name": "stderr",
     "output_type": "stream",
     "text": [
      " 24%|██▎       | 474/2000 [1:51:27<8:33:26, 20.19s/it]"
     ]
    },
    {
     "name": "stdout",
     "output_type": "stream",
     "text": [
      "Ep. 475, Timestep 534186,  Ep.Timesteps 1600, Score: -173.57, Avg.Score: -175.47, Time: 01:51:37 \n"
     ]
    },
    {
     "name": "stderr",
     "output_type": "stream",
     "text": [
      " 24%|██▍       | 475/2000 [1:51:46<8:29:03, 20.03s/it]"
     ]
    },
    {
     "name": "stdout",
     "output_type": "stream",
     "text": [
      "Ep. 476, Timestep 535786,  Ep.Timesteps 1600, Score: -173.57, Avg.Score: -175.47, Time: 01:51:58 \n"
     ]
    },
    {
     "name": "stderr",
     "output_type": "stream",
     "text": [
      " 24%|██▍       | 476/2000 [1:52:06<8:29:05, 20.04s/it]"
     ]
    },
    {
     "name": "stdout",
     "output_type": "stream",
     "text": [
      "Ep. 477, Timestep 537386,  Ep.Timesteps 1600, Score: -173.72, Avg.Score: -175.47, Time: 01:52:17 \n"
     ]
    },
    {
     "name": "stderr",
     "output_type": "stream",
     "text": [
      " 24%|██▍       | 477/2000 [1:52:27<8:31:18, 20.14s/it]"
     ]
    },
    {
     "name": "stdout",
     "output_type": "stream",
     "text": [
      "Ep. 478, Timestep 538986,  Ep.Timesteps 1600, Score: -173.29, Avg.Score: -175.42, Time: 01:52:37 \n"
     ]
    },
    {
     "name": "stderr",
     "output_type": "stream",
     "text": [
      " 24%|██▍       | 478/2000 [1:52:47<8:33:54, 20.26s/it]"
     ]
    },
    {
     "name": "stdout",
     "output_type": "stream",
     "text": [
      "Ep. 479, Timestep 540586,  Ep.Timesteps 1600, Score: -173.37, Avg.Score: -175.42, Time: 01:52:56 \n"
     ]
    },
    {
     "name": "stderr",
     "output_type": "stream",
     "text": [
      " 24%|██▍       | 479/2000 [1:53:07<8:26:56, 20.00s/it]"
     ]
    },
    {
     "name": "stdout",
     "output_type": "stream",
     "text": [
      "Ep. 480, Timestep 542186,  Ep.Timesteps 1600, Score: -173.65, Avg.Score: -175.42, Time: 01:53:17 \n"
     ]
    },
    {
     "name": "stderr",
     "output_type": "stream",
     "text": [
      " 24%|██▍       | 480/2000 [1:53:26<8:24:07, 19.90s/it]"
     ]
    },
    {
     "name": "stdout",
     "output_type": "stream",
     "text": [
      "Ep. 481, Timestep 543786,  Ep.Timesteps 1600, Score: -173.64, Avg.Score: -175.35, Time: 01:53:37 \n"
     ]
    },
    {
     "name": "stderr",
     "output_type": "stream",
     "text": [
      " 24%|██▍       | 481/2000 [1:53:46<8:21:23, 19.80s/it]"
     ]
    },
    {
     "name": "stdout",
     "output_type": "stream",
     "text": [
      "Ep. 482, Timestep 545386,  Ep.Timesteps 1600, Score: -183.68, Avg.Score: -175.46, Time: 01:53:58 \n"
     ]
    },
    {
     "name": "stderr",
     "output_type": "stream",
     "text": [
      " 24%|██▍       | 482/2000 [1:54:07<8:30:29, 20.18s/it]"
     ]
    },
    {
     "name": "stdout",
     "output_type": "stream",
     "text": [
      "Ep. 483, Timestep 546986,  Ep.Timesteps 1600, Score: -182.53, Avg.Score: -175.54, Time: 01:54:18 \n"
     ]
    },
    {
     "name": "stderr",
     "output_type": "stream",
     "text": [
      " 24%|██▍       | 483/2000 [1:54:27<8:27:42, 20.08s/it]"
     ]
    },
    {
     "name": "stdout",
     "output_type": "stream",
     "text": [
      "Ep. 484, Timestep 547147,  Ep.Timesteps 161, Score: -119.55, Avg.Score: -175.00, Time: 01:54:31 \n"
     ]
    },
    {
     "name": "stderr",
     "output_type": "stream",
     "text": [
      " 24%|██▍       | 484/2000 [1:54:29<6:13:59, 14.80s/it]"
     ]
    },
    {
     "name": "stdout",
     "output_type": "stream",
     "text": [
      "Ep. 485, Timestep 548747,  Ep.Timesteps 1600, Score: -180.27, Avg.Score: -175.06, Time: 01:54:40 \n"
     ]
    },
    {
     "name": "stderr",
     "output_type": "stream",
     "text": [
      " 24%|██▍       | 485/2000 [1:54:49<6:51:59, 16.32s/it]"
     ]
    },
    {
     "name": "stdout",
     "output_type": "stream",
     "text": [
      "Ep. 486, Timestep 550347,  Ep.Timesteps 1600, Score: -180.77, Avg.Score: -175.13, Time: 01:55:01 \n"
     ]
    },
    {
     "name": "stderr",
     "output_type": "stream",
     "text": [
      " 24%|██▍       | 486/2000 [1:55:10<7:23:16, 17.57s/it]"
     ]
    },
    {
     "name": "stdout",
     "output_type": "stream",
     "text": [
      "Ep. 487, Timestep 551947,  Ep.Timesteps 1600, Score: -176.17, Avg.Score: -175.16, Time: 01:55:21 \n"
     ]
    },
    {
     "name": "stderr",
     "output_type": "stream",
     "text": [
      " 24%|██▍       | 487/2000 [1:55:29<7:40:18, 18.25s/it]"
     ]
    },
    {
     "name": "stdout",
     "output_type": "stream",
     "text": [
      "Ep. 488, Timestep 553547,  Ep.Timesteps 1600, Score: -175.31, Avg.Score: -175.10, Time: 01:55:41 \n"
     ]
    },
    {
     "name": "stderr",
     "output_type": "stream",
     "text": [
      " 24%|██▍       | 488/2000 [1:55:50<7:59:29, 19.03s/it]"
     ]
    },
    {
     "name": "stdout",
     "output_type": "stream",
     "text": [
      "Ep. 489, Timestep 555147,  Ep.Timesteps 1600, Score: -180.96, Avg.Score: -175.17, Time: 01:56:00 \n"
     ]
    },
    {
     "name": "stderr",
     "output_type": "stream",
     "text": [
      " 24%|██▍       | 489/2000 [1:56:10<8:04:36, 19.24s/it]"
     ]
    },
    {
     "name": "stdout",
     "output_type": "stream",
     "text": [
      "Ep. 490, Timestep 556747,  Ep.Timesteps 1600, Score: -182.05, Avg.Score: -175.26, Time: 01:56:21 \n"
     ]
    },
    {
     "name": "stderr",
     "output_type": "stream",
     "text": [
      " 24%|██▍       | 490/2000 [1:56:30<8:10:35, 19.49s/it]"
     ]
    },
    {
     "name": "stdout",
     "output_type": "stream",
     "text": [
      "Ep. 491, Timestep 558347,  Ep.Timesteps 1600, Score: -181.24, Avg.Score: -175.33, Time: 01:56:42 \n"
     ]
    },
    {
     "name": "stderr",
     "output_type": "stream",
     "text": [
      " 25%|██▍       | 491/2000 [1:56:50<8:10:45, 19.51s/it]"
     ]
    },
    {
     "name": "stdout",
     "output_type": "stream",
     "text": [
      "Ep. 492, Timestep 559947,  Ep.Timesteps 1600, Score: -181.84, Avg.Score: -175.41, Time: 01:57:02 \n"
     ]
    },
    {
     "name": "stderr",
     "output_type": "stream",
     "text": [
      " 25%|██▍       | 492/2000 [1:57:10<8:17:00, 19.77s/it]"
     ]
    },
    {
     "name": "stdout",
     "output_type": "stream",
     "text": [
      "Ep. 493, Timestep 561547,  Ep.Timesteps 1600, Score: -180.70, Avg.Score: -175.49, Time: 01:57:22 \n"
     ]
    },
    {
     "name": "stderr",
     "output_type": "stream",
     "text": [
      " 25%|██▍       | 493/2000 [1:57:31<8:28:36, 20.25s/it]"
     ]
    },
    {
     "name": "stdout",
     "output_type": "stream",
     "text": [
      "Ep. 494, Timestep 563147,  Ep.Timesteps 1600, Score: -175.76, Avg.Score: -175.51, Time: 01:57:42 \n"
     ]
    },
    {
     "name": "stderr",
     "output_type": "stream",
     "text": [
      " 25%|██▍       | 494/2000 [1:57:51<8:24:37, 20.10s/it]"
     ]
    },
    {
     "name": "stdout",
     "output_type": "stream",
     "text": [
      "Ep. 495, Timestep 564747,  Ep.Timesteps 1600, Score: -175.99, Avg.Score: -175.53, Time: 01:58:02 \n"
     ]
    },
    {
     "name": "stderr",
     "output_type": "stream",
     "text": [
      " 25%|██▍       | 495/2000 [1:58:11<8:23:47, 20.08s/it]"
     ]
    },
    {
     "name": "stdout",
     "output_type": "stream",
     "text": [
      "Ep. 496, Timestep 566347,  Ep.Timesteps 1600, Score: -174.04, Avg.Score: -175.53, Time: 01:58:23 \n"
     ]
    },
    {
     "name": "stderr",
     "output_type": "stream",
     "text": [
      " 25%|██▍       | 496/2000 [1:58:31<8:24:40, 20.13s/it]"
     ]
    },
    {
     "name": "stdout",
     "output_type": "stream",
     "text": [
      "Ep. 497, Timestep 567947,  Ep.Timesteps 1600, Score: -173.55, Avg.Score: -175.53, Time: 01:58:43 \n"
     ]
    },
    {
     "name": "stderr",
     "output_type": "stream",
     "text": [
      " 25%|██▍       | 497/2000 [1:58:52<8:25:48, 20.19s/it]"
     ]
    },
    {
     "name": "stdout",
     "output_type": "stream",
     "text": [
      "Ep. 498, Timestep 569547,  Ep.Timesteps 1600, Score: -173.65, Avg.Score: -175.53, Time: 01:59:03 \n"
     ]
    },
    {
     "name": "stderr",
     "output_type": "stream",
     "text": [
      " 25%|██▍       | 498/2000 [1:59:12<8:24:40, 20.16s/it]"
     ]
    },
    {
     "name": "stdout",
     "output_type": "stream",
     "text": [
      "Ep. 499, Timestep 571147,  Ep.Timesteps 1600, Score: -174.10, Avg.Score: -175.53, Time: 01:59:23 \n"
     ]
    },
    {
     "name": "stderr",
     "output_type": "stream",
     "text": [
      " 25%|██▍       | 499/2000 [1:59:32<8:21:25, 20.04s/it]"
     ]
    },
    {
     "name": "stdout",
     "output_type": "stream",
     "text": [
      "Ep. 500, Timestep 572747,  Ep.Timesteps 1600, Score: -173.91, Avg.Score: -175.53, Time: 01:59:43 \n"
     ]
    },
    {
     "name": "stderr",
     "output_type": "stream",
     "text": [
      " 25%|██▌       | 500/2000 [1:59:52<8:19:30, 19.98s/it]"
     ]
    },
    {
     "name": "stdout",
     "output_type": "stream",
     "text": [
      "Ep. 501, Timestep 574347,  Ep.Timesteps 1600, Score: -174.02, Avg.Score: -175.54, Time: 02:00:03 \n"
     ]
    },
    {
     "name": "stderr",
     "output_type": "stream",
     "text": [
      " 25%|██▌       | 501/2000 [2:00:13<8:27:24, 20.31s/it]"
     ]
    },
    {
     "name": "stdout",
     "output_type": "stream",
     "text": [
      "Ep. 502, Timestep 575947,  Ep.Timesteps 1600, Score: -178.33, Avg.Score: -175.58, Time: 02:00:23 \n"
     ]
    },
    {
     "name": "stderr",
     "output_type": "stream",
     "text": [
      " 25%|██▌       | 502/2000 [2:00:33<8:24:39, 20.21s/it]"
     ]
    },
    {
     "name": "stdout",
     "output_type": "stream",
     "text": [
      "Ep. 503, Timestep 577547,  Ep.Timesteps 1600, Score: -173.94, Avg.Score: -175.51, Time: 02:00:43 \n"
     ]
    },
    {
     "name": "stderr",
     "output_type": "stream",
     "text": [
      " 25%|██▌       | 503/2000 [2:00:52<8:21:38, 20.11s/it]"
     ]
    },
    {
     "name": "stdout",
     "output_type": "stream",
     "text": [
      "Ep. 504, Timestep 579147,  Ep.Timesteps 1600, Score: -173.75, Avg.Score: -175.48, Time: 02:01:03 \n"
     ]
    },
    {
     "name": "stderr",
     "output_type": "stream",
     "text": [
      " 25%|██▌       | 504/2000 [2:01:12<8:16:58, 19.93s/it]"
     ]
    },
    {
     "name": "stdout",
     "output_type": "stream",
     "text": [
      "Ep. 505, Timestep 580747,  Ep.Timesteps 1600, Score: -173.59, Avg.Score: -175.41, Time: 02:01:24 \n"
     ]
    },
    {
     "name": "stderr",
     "output_type": "stream",
     "text": [
      " 25%|██▌       | 505/2000 [2:01:32<8:16:22, 19.92s/it]"
     ]
    },
    {
     "name": "stdout",
     "output_type": "stream",
     "text": [
      "Ep. 506, Timestep 582347,  Ep.Timesteps 1600, Score: -173.57, Avg.Score: -175.39, Time: 02:01:45 \n"
     ]
    },
    {
     "name": "stderr",
     "output_type": "stream",
     "text": [
      " 25%|██▌       | 506/2000 [2:01:53<8:27:42, 20.39s/it]"
     ]
    },
    {
     "name": "stdout",
     "output_type": "stream",
     "text": [
      "Ep. 507, Timestep 583947,  Ep.Timesteps 1600, Score: -174.24, Avg.Score: -175.32, Time: 02:02:05 \n"
     ]
    },
    {
     "name": "stderr",
     "output_type": "stream",
     "text": [
      " 25%|██▌       | 507/2000 [2:02:14<8:27:51, 20.41s/it]"
     ]
    },
    {
     "name": "stdout",
     "output_type": "stream",
     "text": [
      "Ep. 508, Timestep 585547,  Ep.Timesteps 1600, Score: -173.60, Avg.Score: -175.24, Time: 02:02:25 \n"
     ]
    },
    {
     "name": "stderr",
     "output_type": "stream",
     "text": [
      " 25%|██▌       | 508/2000 [2:02:34<8:26:42, 20.38s/it]"
     ]
    },
    {
     "name": "stdout",
     "output_type": "stream",
     "text": [
      "Ep. 509, Timestep 587147,  Ep.Timesteps 1600, Score: -173.65, Avg.Score: -175.16, Time: 02:02:46 \n"
     ]
    },
    {
     "name": "stderr",
     "output_type": "stream",
     "text": [
      " 25%|██▌       | 509/2000 [2:02:55<8:29:27, 20.50s/it]"
     ]
    },
    {
     "name": "stdout",
     "output_type": "stream",
     "text": [
      "Ep. 510, Timestep 588747,  Ep.Timesteps 1600, Score: -173.55, Avg.Score: -175.08, Time: 02:03:06 \n"
     ]
    },
    {
     "name": "stderr",
     "output_type": "stream",
     "text": [
      " 26%|██▌       | 510/2000 [2:03:15<8:26:00, 20.38s/it]"
     ]
    },
    {
     "name": "stdout",
     "output_type": "stream",
     "text": [
      "Ep. 511, Timestep 590347,  Ep.Timesteps 1600, Score: -173.69, Avg.Score: -175.00, Time: 02:03:25 \n"
     ]
    },
    {
     "name": "stderr",
     "output_type": "stream",
     "text": [
      " 26%|██▌       | 511/2000 [2:03:35<8:26:16, 20.40s/it]"
     ]
    },
    {
     "name": "stdout",
     "output_type": "stream",
     "text": [
      "Ep. 512, Timestep 591947,  Ep.Timesteps 1600, Score: -173.44, Avg.Score: -174.92, Time: 02:03:45 \n"
     ]
    },
    {
     "name": "stderr",
     "output_type": "stream",
     "text": [
      " 26%|██▌       | 512/2000 [2:03:55<8:22:13, 20.25s/it]"
     ]
    },
    {
     "name": "stdout",
     "output_type": "stream",
     "text": [
      "Ep. 513, Timestep 593547,  Ep.Timesteps 1600, Score: -173.62, Avg.Score: -174.85, Time: 02:04:06 \n"
     ]
    },
    {
     "name": "stderr",
     "output_type": "stream",
     "text": [
      " 26%|██▌       | 513/2000 [2:04:15<8:15:11, 19.98s/it]"
     ]
    },
    {
     "name": "stdout",
     "output_type": "stream",
     "text": [
      "Ep. 514, Timestep 595147,  Ep.Timesteps 1600, Score: -173.99, Avg.Score: -174.83, Time: 02:04:26 \n"
     ]
    },
    {
     "name": "stderr",
     "output_type": "stream",
     "text": [
      " 26%|██▌       | 514/2000 [2:04:35<8:16:14, 20.04s/it]"
     ]
    },
    {
     "name": "stdout",
     "output_type": "stream",
     "text": [
      "Ep. 515, Timestep 596747,  Ep.Timesteps 1600, Score: -180.70, Avg.Score: -174.90, Time: 02:04:46 \n"
     ]
    },
    {
     "name": "stderr",
     "output_type": "stream",
     "text": [
      " 26%|██▌       | 515/2000 [2:04:55<8:17:23, 20.10s/it]"
     ]
    },
    {
     "name": "stdout",
     "output_type": "stream",
     "text": [
      "Ep. 516, Timestep 598347,  Ep.Timesteps 1600, Score: -173.48, Avg.Score: -174.90, Time: 02:05:06 \n"
     ]
    },
    {
     "name": "stderr",
     "output_type": "stream",
     "text": [
      " 26%|██▌       | 516/2000 [2:05:16<8:19:52, 20.21s/it]"
     ]
    },
    {
     "name": "stdout",
     "output_type": "stream",
     "text": [
      "Ep. 517, Timestep 599947,  Ep.Timesteps 1600, Score: -173.93, Avg.Score: -174.90, Time: 02:05:26 \n"
     ]
    },
    {
     "name": "stderr",
     "output_type": "stream",
     "text": [
      " 26%|██▌       | 517/2000 [2:05:35<8:15:53, 20.06s/it]"
     ]
    },
    {
     "name": "stdout",
     "output_type": "stream",
     "text": [
      "Ep. 518, Timestep 601547,  Ep.Timesteps 1600, Score: -174.00, Avg.Score: -174.90, Time: 02:05:46 \n"
     ]
    },
    {
     "name": "stderr",
     "output_type": "stream",
     "text": [
      " 26%|██▌       | 518/2000 [2:05:54<8:08:15, 19.77s/it]"
     ]
    },
    {
     "name": "stdout",
     "output_type": "stream",
     "text": [
      "Ep. 519, Timestep 603147,  Ep.Timesteps 1600, Score: -173.67, Avg.Score: -174.90, Time: 02:06:06 \n"
     ]
    },
    {
     "name": "stderr",
     "output_type": "stream",
     "text": [
      " 26%|██▌       | 519/2000 [2:06:15<8:14:55, 20.05s/it]"
     ]
    },
    {
     "name": "stdout",
     "output_type": "stream",
     "text": [
      "Ep. 520, Timestep 604747,  Ep.Timesteps 1600, Score: -173.63, Avg.Score: -174.90, Time: 02:06:26 \n"
     ]
    },
    {
     "name": "stderr",
     "output_type": "stream",
     "text": [
      " 26%|██▌       | 520/2000 [2:06:35<8:13:35, 20.01s/it]"
     ]
    },
    {
     "name": "stdout",
     "output_type": "stream",
     "text": [
      "Ep. 521, Timestep 606347,  Ep.Timesteps 1600, Score: -173.65, Avg.Score: -174.89, Time: 02:06:46 \n"
     ]
    },
    {
     "name": "stderr",
     "output_type": "stream",
     "text": [
      " 26%|██▌       | 521/2000 [2:06:55<8:13:57, 20.04s/it]"
     ]
    },
    {
     "name": "stdout",
     "output_type": "stream",
     "text": [
      "Ep. 522, Timestep 607947,  Ep.Timesteps 1600, Score: -173.63, Avg.Score: -174.90, Time: 02:07:06 \n"
     ]
    },
    {
     "name": "stderr",
     "output_type": "stream",
     "text": [
      " 26%|██▌       | 522/2000 [2:07:15<8:12:00, 19.97s/it]"
     ]
    },
    {
     "name": "stdout",
     "output_type": "stream",
     "text": [
      "Ep. 523, Timestep 609547,  Ep.Timesteps 1600, Score: -175.60, Avg.Score: -174.92, Time: 02:07:26 \n"
     ]
    },
    {
     "name": "stderr",
     "output_type": "stream",
     "text": [
      " 26%|██▌       | 523/2000 [2:07:35<8:14:41, 20.10s/it]"
     ]
    },
    {
     "name": "stdout",
     "output_type": "stream",
     "text": [
      "Ep. 524, Timestep 611147,  Ep.Timesteps 1600, Score: -182.46, Avg.Score: -175.00, Time: 02:07:46 \n"
     ]
    },
    {
     "name": "stderr",
     "output_type": "stream",
     "text": [
      " 26%|██▌       | 524/2000 [2:07:56<8:16:05, 20.17s/it]"
     ]
    },
    {
     "name": "stdout",
     "output_type": "stream",
     "text": [
      "Ep. 525, Timestep 612747,  Ep.Timesteps 1600, Score: -178.79, Avg.Score: -175.05, Time: 02:08:05 \n"
     ]
    },
    {
     "name": "stderr",
     "output_type": "stream",
     "text": [
      " 26%|██▋       | 525/2000 [2:08:15<8:11:25, 19.99s/it]"
     ]
    },
    {
     "name": "stdout",
     "output_type": "stream",
     "text": [
      "Ep. 526, Timestep 614347,  Ep.Timesteps 1600, Score: -180.18, Avg.Score: -175.12, Time: 02:08:26 \n"
     ]
    },
    {
     "name": "stderr",
     "output_type": "stream",
     "text": [
      " 26%|██▋       | 526/2000 [2:08:35<8:09:58, 19.94s/it]"
     ]
    },
    {
     "name": "stdout",
     "output_type": "stream",
     "text": [
      "Ep. 527, Timestep 615947,  Ep.Timesteps 1600, Score: -175.50, Avg.Score: -175.14, Time: 02:08:47 \n"
     ]
    },
    {
     "name": "stderr",
     "output_type": "stream",
     "text": [
      " 26%|██▋       | 527/2000 [2:08:55<8:12:11, 20.05s/it]"
     ]
    },
    {
     "name": "stdout",
     "output_type": "stream",
     "text": [
      "Ep. 528, Timestep 617547,  Ep.Timesteps 1600, Score: -175.11, Avg.Score: -175.15, Time: 02:09:08 \n"
     ]
    },
    {
     "name": "stderr",
     "output_type": "stream",
     "text": [
      " 26%|██▋       | 528/2000 [2:09:17<8:21:35, 20.45s/it]"
     ]
    },
    {
     "name": "stdout",
     "output_type": "stream",
     "text": [
      "Ep. 529, Timestep 619147,  Ep.Timesteps 1600, Score: -181.67, Avg.Score: -175.23, Time: 02:09:28 \n"
     ]
    },
    {
     "name": "stderr",
     "output_type": "stream",
     "text": [
      " 26%|██▋       | 529/2000 [2:09:37<8:19:56, 20.39s/it]"
     ]
    },
    {
     "name": "stdout",
     "output_type": "stream",
     "text": [
      "Ep. 530, Timestep 620747,  Ep.Timesteps 1600, Score: -180.40, Avg.Score: -175.30, Time: 02:09:48 \n"
     ]
    },
    {
     "name": "stderr",
     "output_type": "stream",
     "text": [
      " 26%|██▋       | 530/2000 [2:09:57<8:14:43, 20.19s/it]"
     ]
    },
    {
     "name": "stdout",
     "output_type": "stream",
     "text": [
      "Ep. 531, Timestep 622347,  Ep.Timesteps 1600, Score: -179.28, Avg.Score: -175.35, Time: 02:10:09 \n"
     ]
    },
    {
     "name": "stderr",
     "output_type": "stream",
     "text": [
      " 27%|██▋       | 531/2000 [2:10:17<8:17:06, 20.30s/it]"
     ]
    },
    {
     "name": "stdout",
     "output_type": "stream",
     "text": [
      "Ep. 532, Timestep 623947,  Ep.Timesteps 1600, Score: -182.48, Avg.Score: -175.44, Time: 02:10:28 \n"
     ]
    },
    {
     "name": "stderr",
     "output_type": "stream",
     "text": [
      " 27%|██▋       | 532/2000 [2:10:37<8:15:16, 20.24s/it]"
     ]
    },
    {
     "name": "stdout",
     "output_type": "stream",
     "text": [
      "Ep. 533, Timestep 624077,  Ep.Timesteps 130, Score: -116.44, Avg.Score: -174.87, Time: 02:10:41 \n"
     ]
    },
    {
     "name": "stderr",
     "output_type": "stream",
     "text": [
      " 27%|██▋       | 533/2000 [2:10:39<6:00:23, 14.74s/it]"
     ]
    },
    {
     "name": "stdout",
     "output_type": "stream",
     "text": [
      "Ep. 534, Timestep 625677,  Ep.Timesteps 1600, Score: -175.69, Avg.Score: -174.89, Time: 02:10:50 \n"
     ]
    },
    {
     "name": "stderr",
     "output_type": "stream",
     "text": [
      " 27%|██▋       | 534/2000 [2:11:00<6:40:28, 16.39s/it]"
     ]
    },
    {
     "name": "stdout",
     "output_type": "stream",
     "text": [
      "Ep. 535, Timestep 627277,  Ep.Timesteps 1600, Score: -176.42, Avg.Score: -174.92, Time: 02:11:10 \n"
     ]
    },
    {
     "name": "stderr",
     "output_type": "stream",
     "text": [
      " 27%|██▋       | 535/2000 [2:11:20<7:12:10, 17.70s/it]"
     ]
    },
    {
     "name": "stdout",
     "output_type": "stream",
     "text": [
      "Ep. 536, Timestep 628877,  Ep.Timesteps 1600, Score: -178.19, Avg.Score: -174.92, Time: 02:11:31 \n"
     ]
    },
    {
     "name": "stderr",
     "output_type": "stream",
     "text": [
      " 27%|██▋       | 536/2000 [2:11:39<7:22:06, 18.12s/it]"
     ]
    },
    {
     "name": "stdout",
     "output_type": "stream",
     "text": [
      "Ep. 537, Timestep 630477,  Ep.Timesteps 1600, Score: -173.88, Avg.Score: -174.92, Time: 02:11:52 \n"
     ]
    },
    {
     "name": "stderr",
     "output_type": "stream",
     "text": [
      " 27%|██▋       | 537/2000 [2:12:00<7:37:41, 18.77s/it]"
     ]
    },
    {
     "name": "stdout",
     "output_type": "stream",
     "text": [
      "Ep. 538, Timestep 632077,  Ep.Timesteps 1600, Score: -173.70, Avg.Score: -174.92, Time: 02:12:12 \n"
     ]
    },
    {
     "name": "stderr",
     "output_type": "stream",
     "text": [
      " 27%|██▋       | 538/2000 [2:12:20<7:49:41, 19.28s/it]"
     ]
    },
    {
     "name": "stdout",
     "output_type": "stream",
     "text": [
      "Ep. 539, Timestep 633677,  Ep.Timesteps 1600, Score: -173.42, Avg.Score: -174.92, Time: 02:12:32 \n"
     ]
    },
    {
     "name": "stderr",
     "output_type": "stream",
     "text": [
      " 27%|██▋       | 539/2000 [2:12:40<7:55:31, 19.53s/it]"
     ]
    },
    {
     "name": "stdout",
     "output_type": "stream",
     "text": [
      "Ep. 540, Timestep 635277,  Ep.Timesteps 1600, Score: -173.88, Avg.Score: -174.93, Time: 02:12:51 \n"
     ]
    },
    {
     "name": "stderr",
     "output_type": "stream",
     "text": [
      " 27%|██▋       | 540/2000 [2:13:00<7:59:51, 19.72s/it]"
     ]
    },
    {
     "name": "stdout",
     "output_type": "stream",
     "text": [
      "Ep. 541, Timestep 636877,  Ep.Timesteps 1600, Score: -173.34, Avg.Score: -174.92, Time: 02:13:11 \n"
     ]
    },
    {
     "name": "stderr",
     "output_type": "stream",
     "text": [
      " 27%|██▋       | 541/2000 [2:13:20<7:59:43, 19.73s/it]"
     ]
    },
    {
     "name": "stdout",
     "output_type": "stream",
     "text": [
      "Ep. 542, Timestep 638477,  Ep.Timesteps 1600, Score: -173.79, Avg.Score: -174.92, Time: 02:13:31 \n"
     ]
    },
    {
     "name": "stderr",
     "output_type": "stream",
     "text": [
      " 27%|██▋       | 542/2000 [2:13:39<7:55:46, 19.58s/it]"
     ]
    },
    {
     "name": "stdout",
     "output_type": "stream",
     "text": [
      "Ep. 543, Timestep 640077,  Ep.Timesteps 1600, Score: -173.64, Avg.Score: -174.86, Time: 02:13:51 \n"
     ]
    },
    {
     "name": "stderr",
     "output_type": "stream",
     "text": [
      " 27%|██▋       | 543/2000 [2:14:00<8:03:46, 19.92s/it]"
     ]
    },
    {
     "name": "stdout",
     "output_type": "stream",
     "text": [
      "Ep. 544, Timestep 641677,  Ep.Timesteps 1600, Score: -180.67, Avg.Score: -174.86, Time: 02:14:11 \n"
     ]
    },
    {
     "name": "stderr",
     "output_type": "stream",
     "text": [
      " 27%|██▋       | 544/2000 [2:14:20<8:04:22, 19.96s/it]"
     ]
    },
    {
     "name": "stdout",
     "output_type": "stream",
     "text": [
      "Ep. 545, Timestep 643277,  Ep.Timesteps 1600, Score: -173.59, Avg.Score: -174.78, Time: 02:14:31 \n"
     ]
    },
    {
     "name": "stderr",
     "output_type": "stream",
     "text": [
      " 27%|██▋       | 545/2000 [2:14:40<8:00:48, 19.83s/it]"
     ]
    },
    {
     "name": "stdout",
     "output_type": "stream",
     "text": [
      "Ep. 546, Timestep 644877,  Ep.Timesteps 1600, Score: -176.70, Avg.Score: -174.74, Time: 02:14:51 \n"
     ]
    },
    {
     "name": "stderr",
     "output_type": "stream",
     "text": [
      " 27%|██▋       | 546/2000 [2:15:00<8:05:11, 20.02s/it]"
     ]
    },
    {
     "name": "stdout",
     "output_type": "stream",
     "text": [
      "Ep. 547, Timestep 646477,  Ep.Timesteps 1600, Score: -173.79, Avg.Score: -174.74, Time: 02:15:11 \n"
     ]
    },
    {
     "name": "stderr",
     "output_type": "stream",
     "text": [
      " 27%|██▋       | 547/2000 [2:15:20<8:04:22, 20.00s/it]"
     ]
    },
    {
     "name": "stdout",
     "output_type": "stream",
     "text": [
      "Ep. 548, Timestep 648077,  Ep.Timesteps 1600, Score: -174.03, Avg.Score: -174.73, Time: 02:15:30 \n"
     ]
    },
    {
     "name": "stderr",
     "output_type": "stream",
     "text": [
      " 27%|██▋       | 548/2000 [2:15:41<8:08:02, 20.17s/it]"
     ]
    },
    {
     "name": "stdout",
     "output_type": "stream",
     "text": [
      "Ep. 549, Timestep 649677,  Ep.Timesteps 1600, Score: -173.88, Avg.Score: -174.64, Time: 02:15:50 \n"
     ]
    },
    {
     "name": "stderr",
     "output_type": "stream",
     "text": [
      " 27%|██▋       | 549/2000 [2:16:00<8:00:52, 19.88s/it]"
     ]
    },
    {
     "name": "stdout",
     "output_type": "stream",
     "text": [
      "Ep. 550, Timestep 651277,  Ep.Timesteps 1600, Score: -173.20, Avg.Score: -174.57, Time: 02:16:11 \n"
     ]
    },
    {
     "name": "stderr",
     "output_type": "stream",
     "text": [
      " 28%|██▊       | 550/2000 [2:16:19<7:56:08, 19.70s/it]"
     ]
    },
    {
     "name": "stdout",
     "output_type": "stream",
     "text": [
      "Ep. 551, Timestep 652877,  Ep.Timesteps 1600, Score: -173.92, Avg.Score: -174.48, Time: 02:16:32 \n"
     ]
    },
    {
     "name": "stderr",
     "output_type": "stream",
     "text": [
      " 28%|██▊       | 551/2000 [2:16:40<8:03:16, 20.01s/it]"
     ]
    },
    {
     "name": "stdout",
     "output_type": "stream",
     "text": [
      "Ep. 552, Timestep 654477,  Ep.Timesteps 1600, Score: -173.61, Avg.Score: -174.41, Time: 02:16:52 \n"
     ]
    },
    {
     "name": "stderr",
     "output_type": "stream",
     "text": [
      " 28%|██▊       | 552/2000 [2:17:00<8:03:39, 20.04s/it]"
     ]
    },
    {
     "name": "stdout",
     "output_type": "stream",
     "text": [
      "Ep. 553, Timestep 656077,  Ep.Timesteps 1600, Score: -173.60, Avg.Score: -174.34, Time: 02:17:11 \n"
     ]
    },
    {
     "name": "stderr",
     "output_type": "stream",
     "text": [
      " 28%|██▊       | 553/2000 [2:17:21<8:07:36, 20.22s/it]"
     ]
    },
    {
     "name": "stdout",
     "output_type": "stream",
     "text": [
      "Ep. 554, Timestep 657677,  Ep.Timesteps 1600, Score: -173.63, Avg.Score: -174.29, Time: 02:17:31 \n"
     ]
    },
    {
     "name": "stderr",
     "output_type": "stream",
     "text": [
      " 28%|██▊       | 554/2000 [2:17:40<8:02:59, 20.04s/it]"
     ]
    },
    {
     "name": "stdout",
     "output_type": "stream",
     "text": [
      "Ep. 555, Timestep 659277,  Ep.Timesteps 1600, Score: -173.90, Avg.Score: -174.30, Time: 02:17:51 \n"
     ]
    },
    {
     "name": "stderr",
     "output_type": "stream",
     "text": [
      " 28%|██▊       | 555/2000 [2:18:00<7:59:10, 19.90s/it]"
     ]
    },
    {
     "name": "stdout",
     "output_type": "stream",
     "text": [
      "Ep. 556, Timestep 660877,  Ep.Timesteps 1600, Score: -173.67, Avg.Score: -174.29, Time: 02:18:12 \n"
     ]
    },
    {
     "name": "stderr",
     "output_type": "stream",
     "text": [
      " 28%|██▊       | 556/2000 [2:18:20<8:02:02, 20.03s/it]"
     ]
    },
    {
     "name": "stdout",
     "output_type": "stream",
     "text": [
      "Ep. 557, Timestep 662477,  Ep.Timesteps 1600, Score: -173.92, Avg.Score: -174.30, Time: 02:18:32 \n"
     ]
    },
    {
     "name": "stderr",
     "output_type": "stream",
     "text": [
      " 28%|██▊       | 557/2000 [2:18:40<8:01:55, 20.04s/it]"
     ]
    },
    {
     "name": "stdout",
     "output_type": "stream",
     "text": [
      "Ep. 558, Timestep 664077,  Ep.Timesteps 1600, Score: -173.54, Avg.Score: -174.30, Time: 02:18:51 \n"
     ]
    },
    {
     "name": "stderr",
     "output_type": "stream",
     "text": [
      " 28%|██▊       | 558/2000 [2:19:00<7:57:56, 19.89s/it]"
     ]
    },
    {
     "name": "stdout",
     "output_type": "stream",
     "text": [
      "Ep. 559, Timestep 665677,  Ep.Timesteps 1600, Score: -173.43, Avg.Score: -174.29, Time: 02:19:12 \n"
     ]
    },
    {
     "name": "stderr",
     "output_type": "stream",
     "text": [
      " 28%|██▊       | 559/2000 [2:19:20<7:58:50, 19.94s/it]"
     ]
    },
    {
     "name": "stdout",
     "output_type": "stream",
     "text": [
      "Ep. 560, Timestep 667277,  Ep.Timesteps 1600, Score: -173.82, Avg.Score: -174.29, Time: 02:19:32 \n"
     ]
    },
    {
     "name": "stderr",
     "output_type": "stream",
     "text": [
      " 28%|██▊       | 560/2000 [2:19:40<8:00:53, 20.04s/it]"
     ]
    },
    {
     "name": "stdout",
     "output_type": "stream",
     "text": [
      "Ep. 561, Timestep 668877,  Ep.Timesteps 1600, Score: -173.76, Avg.Score: -174.30, Time: 02:19:52 \n"
     ]
    },
    {
     "name": "stderr",
     "output_type": "stream",
     "text": [
      " 28%|██▊       | 561/2000 [2:20:02<8:11:53, 20.51s/it]"
     ]
    },
    {
     "name": "stdout",
     "output_type": "stream",
     "text": [
      "Ep. 562, Timestep 670477,  Ep.Timesteps 1600, Score: -173.29, Avg.Score: -174.29, Time: 02:20:11 \n"
     ]
    },
    {
     "name": "stderr",
     "output_type": "stream",
     "text": [
      " 28%|██▊       | 562/2000 [2:20:21<8:05:45, 20.27s/it]"
     ]
    },
    {
     "name": "stdout",
     "output_type": "stream",
     "text": [
      "Ep. 563, Timestep 672077,  Ep.Timesteps 1600, Score: -181.17, Avg.Score: -174.37, Time: 02:20:32 \n"
     ]
    },
    {
     "name": "stderr",
     "output_type": "stream",
     "text": [
      " 28%|██▊       | 563/2000 [2:20:41<8:03:05, 20.17s/it]"
     ]
    },
    {
     "name": "stdout",
     "output_type": "stream",
     "text": [
      "Ep. 564, Timestep 673677,  Ep.Timesteps 1600, Score: -175.91, Avg.Score: -174.39, Time: 02:20:52 \n"
     ]
    },
    {
     "name": "stderr",
     "output_type": "stream",
     "text": [
      " 28%|██▊       | 564/2000 [2:21:01<7:57:30, 19.95s/it]"
     ]
    },
    {
     "name": "stdout",
     "output_type": "stream",
     "text": [
      "Ep. 565, Timestep 675277,  Ep.Timesteps 1600, Score: -181.56, Avg.Score: -174.47, Time: 02:21:12 \n"
     ]
    },
    {
     "name": "stderr",
     "output_type": "stream",
     "text": [
      " 28%|██▊       | 565/2000 [2:21:21<7:56:55, 19.94s/it]"
     ]
    },
    {
     "name": "stdout",
     "output_type": "stream",
     "text": [
      "Ep. 566, Timestep 676877,  Ep.Timesteps 1600, Score: -180.80, Avg.Score: -174.54, Time: 02:21:32 \n"
     ]
    },
    {
     "name": "stderr",
     "output_type": "stream",
     "text": [
      " 28%|██▊       | 566/2000 [2:21:41<8:02:00, 20.17s/it]"
     ]
    },
    {
     "name": "stdout",
     "output_type": "stream",
     "text": [
      "Ep. 567, Timestep 678477,  Ep.Timesteps 1600, Score: -180.29, Avg.Score: -174.60, Time: 02:21:51 \n"
     ]
    },
    {
     "name": "stderr",
     "output_type": "stream",
     "text": [
      " 28%|██▊       | 567/2000 [2:22:01<7:57:13, 19.98s/it]"
     ]
    },
    {
     "name": "stdout",
     "output_type": "stream",
     "text": [
      "Ep. 568, Timestep 680077,  Ep.Timesteps 1600, Score: -179.97, Avg.Score: -174.67, Time: 02:22:12 \n"
     ]
    },
    {
     "name": "stderr",
     "output_type": "stream",
     "text": [
      " 28%|██▊       | 568/2000 [2:22:22<8:01:14, 20.16s/it]"
     ]
    },
    {
     "name": "stdout",
     "output_type": "stream",
     "text": [
      "Ep. 569, Timestep 681677,  Ep.Timesteps 1600, Score: -176.09, Avg.Score: -174.69, Time: 02:22:32 \n"
     ]
    },
    {
     "name": "stderr",
     "output_type": "stream",
     "text": [
      " 28%|██▊       | 569/2000 [2:22:41<7:54:40, 19.90s/it]"
     ]
    },
    {
     "name": "stdout",
     "output_type": "stream",
     "text": [
      "Ep. 570, Timestep 683277,  Ep.Timesteps 1600, Score: -181.53, Avg.Score: -174.77, Time: 02:22:52 \n"
     ]
    },
    {
     "name": "stderr",
     "output_type": "stream",
     "text": [
      " 28%|██▊       | 570/2000 [2:23:01<7:57:00, 20.01s/it]"
     ]
    },
    {
     "name": "stdout",
     "output_type": "stream",
     "text": [
      "Ep. 571, Timestep 684877,  Ep.Timesteps 1600, Score: -175.46, Avg.Score: -174.79, Time: 02:23:13 \n"
     ]
    },
    {
     "name": "stderr",
     "output_type": "stream",
     "text": [
      " 29%|██▊       | 571/2000 [2:23:21<7:58:46, 20.10s/it]"
     ]
    },
    {
     "name": "stdout",
     "output_type": "stream",
     "text": [
      "Ep. 572, Timestep 686477,  Ep.Timesteps 1600, Score: -181.93, Avg.Score: -174.87, Time: 02:23:32 \n"
     ]
    },
    {
     "name": "stderr",
     "output_type": "stream",
     "text": [
      " 29%|██▊       | 572/2000 [2:23:41<7:55:42, 19.99s/it]"
     ]
    },
    {
     "name": "stdout",
     "output_type": "stream",
     "text": [
      "Ep. 573, Timestep 688077,  Ep.Timesteps 1600, Score: -180.83, Avg.Score: -174.88, Time: 02:23:53 \n"
     ]
    },
    {
     "name": "stderr",
     "output_type": "stream",
     "text": [
      " 29%|██▊       | 573/2000 [2:24:01<7:55:26, 19.99s/it]"
     ]
    },
    {
     "name": "stdout",
     "output_type": "stream",
     "text": [
      "Ep. 574, Timestep 689677,  Ep.Timesteps 1600, Score: -177.82, Avg.Score: -174.92, Time: 02:24:13 \n"
     ]
    },
    {
     "name": "stderr",
     "output_type": "stream",
     "text": [
      " 29%|██▊       | 574/2000 [2:24:22<8:00:30, 20.22s/it]"
     ]
    },
    {
     "name": "stdout",
     "output_type": "stream",
     "text": [
      "Ep. 575, Timestep 691277,  Ep.Timesteps 1600, Score: -180.65, Avg.Score: -174.99, Time: 02:24:32 \n"
     ]
    },
    {
     "name": "stderr",
     "output_type": "stream",
     "text": [
      " 29%|██▉       | 575/2000 [2:24:42<8:00:22, 20.23s/it]"
     ]
    },
    {
     "name": "stdout",
     "output_type": "stream",
     "text": [
      "Ep. 576, Timestep 692877,  Ep.Timesteps 1600, Score: -176.18, Avg.Score: -175.01, Time: 02:24:52 \n"
     ]
    },
    {
     "name": "stderr",
     "output_type": "stream",
     "text": [
      " 29%|██▉       | 576/2000 [2:25:02<7:57:56, 20.14s/it]"
     ]
    },
    {
     "name": "stdout",
     "output_type": "stream",
     "text": [
      "Ep. 577, Timestep 694477,  Ep.Timesteps 1600, Score: -181.62, Avg.Score: -175.09, Time: 02:25:12 \n"
     ]
    },
    {
     "name": "stderr",
     "output_type": "stream",
     "text": [
      " 29%|██▉       | 577/2000 [2:25:21<7:52:34, 19.93s/it]"
     ]
    },
    {
     "name": "stdout",
     "output_type": "stream",
     "text": [
      "Ep. 578, Timestep 696077,  Ep.Timesteps 1600, Score: -173.57, Avg.Score: -175.10, Time: 02:25:33 \n"
     ]
    },
    {
     "name": "stderr",
     "output_type": "stream",
     "text": [
      " 29%|██▉       | 578/2000 [2:25:42<7:53:38, 19.99s/it]"
     ]
    },
    {
     "name": "stdout",
     "output_type": "stream",
     "text": [
      "Ep. 579, Timestep 697677,  Ep.Timesteps 1600, Score: -173.66, Avg.Score: -175.10, Time: 02:25:53 \n"
     ]
    },
    {
     "name": "stderr",
     "output_type": "stream",
     "text": [
      " 29%|██▉       | 579/2000 [2:26:02<7:55:38, 20.08s/it]"
     ]
    },
    {
     "name": "stdout",
     "output_type": "stream",
     "text": [
      "Ep. 580, Timestep 699277,  Ep.Timesteps 1600, Score: -173.89, Avg.Score: -175.10, Time: 02:26:12 \n"
     ]
    },
    {
     "name": "stderr",
     "output_type": "stream",
     "text": [
      " 29%|██▉       | 580/2000 [2:26:22<7:54:35, 20.05s/it]"
     ]
    },
    {
     "name": "stdout",
     "output_type": "stream",
     "text": [
      "Ep. 581, Timestep 700877,  Ep.Timesteps 1600, Score: -173.70, Avg.Score: -175.10, Time: 02:26:32 \n"
     ]
    },
    {
     "name": "stderr",
     "output_type": "stream",
     "text": [
      " 29%|██▉       | 581/2000 [2:26:42<7:55:32, 20.11s/it]"
     ]
    },
    {
     "name": "stdout",
     "output_type": "stream",
     "text": [
      "Ep. 582, Timestep 702477,  Ep.Timesteps 1600, Score: -173.92, Avg.Score: -175.00, Time: 02:26:53 \n"
     ]
    },
    {
     "name": "stderr",
     "output_type": "stream",
     "text": [
      " 29%|██▉       | 582/2000 [2:27:02<7:51:20, 19.94s/it]"
     ]
    },
    {
     "name": "stdout",
     "output_type": "stream",
     "text": [
      "Ep. 583, Timestep 704077,  Ep.Timesteps 1600, Score: -173.52, Avg.Score: -174.91, Time: 02:27:12 \n"
     ]
    },
    {
     "name": "stderr",
     "output_type": "stream",
     "text": [
      " 29%|██▉       | 583/2000 [2:27:22<7:52:45, 20.02s/it]"
     ]
    },
    {
     "name": "stdout",
     "output_type": "stream",
     "text": [
      "Ep. 584, Timestep 705677,  Ep.Timesteps 1600, Score: -173.87, Avg.Score: -175.46, Time: 02:27:33 \n"
     ]
    },
    {
     "name": "stderr",
     "output_type": "stream",
     "text": [
      " 29%|██▉       | 584/2000 [2:27:41<7:49:08, 19.88s/it]"
     ]
    },
    {
     "name": "stdout",
     "output_type": "stream",
     "text": [
      "Ep. 585, Timestep 707277,  Ep.Timesteps 1600, Score: -173.59, Avg.Score: -175.39, Time: 02:27:53 \n"
     ]
    },
    {
     "name": "stderr",
     "output_type": "stream",
     "text": [
      " 29%|██▉       | 585/2000 [2:28:01<7:47:49, 19.84s/it]"
     ]
    },
    {
     "name": "stdout",
     "output_type": "stream",
     "text": [
      "Ep. 586, Timestep 708877,  Ep.Timesteps 1600, Score: -173.44, Avg.Score: -175.32, Time: 02:28:13 \n"
     ]
    },
    {
     "name": "stderr",
     "output_type": "stream",
     "text": [
      " 29%|██▉       | 586/2000 [2:28:22<7:52:54, 20.07s/it]"
     ]
    },
    {
     "name": "stdout",
     "output_type": "stream",
     "text": [
      "Ep. 587, Timestep 710477,  Ep.Timesteps 1600, Score: -173.64, Avg.Score: -175.29, Time: 02:28:33 \n"
     ]
    },
    {
     "name": "stderr",
     "output_type": "stream",
     "text": [
      " 29%|██▉       | 587/2000 [2:28:42<7:52:24, 20.06s/it]"
     ]
    },
    {
     "name": "stdout",
     "output_type": "stream",
     "text": [
      "Ep. 588, Timestep 712077,  Ep.Timesteps 1600, Score: -173.82, Avg.Score: -175.28, Time: 02:28:53 \n"
     ]
    },
    {
     "name": "stderr",
     "output_type": "stream",
     "text": [
      " 29%|██▉       | 588/2000 [2:29:03<7:56:38, 20.25s/it]"
     ]
    },
    {
     "name": "stdout",
     "output_type": "stream",
     "text": [
      "Ep. 589, Timestep 713677,  Ep.Timesteps 1600, Score: -176.32, Avg.Score: -175.23, Time: 02:29:12 \n"
     ]
    },
    {
     "name": "stderr",
     "output_type": "stream",
     "text": [
      " 29%|██▉       | 589/2000 [2:29:22<7:49:18, 19.96s/it]"
     ]
    },
    {
     "name": "stdout",
     "output_type": "stream",
     "text": [
      "Ep. 590, Timestep 715277,  Ep.Timesteps 1600, Score: -173.63, Avg.Score: -175.15, Time: 02:29:33 \n"
     ]
    },
    {
     "name": "stderr",
     "output_type": "stream",
     "text": [
      " 30%|██▉       | 590/2000 [2:29:42<7:53:26, 20.15s/it]"
     ]
    },
    {
     "name": "stdout",
     "output_type": "stream",
     "text": [
      "Ep. 591, Timestep 716877,  Ep.Timesteps 1600, Score: -173.49, Avg.Score: -175.07, Time: 02:29:54 \n"
     ]
    },
    {
     "name": "stderr",
     "output_type": "stream",
     "text": [
      " 30%|██▉       | 591/2000 [2:30:02<7:50:35, 20.04s/it]"
     ]
    },
    {
     "name": "stdout",
     "output_type": "stream",
     "text": [
      "Ep. 592, Timestep 718477,  Ep.Timesteps 1600, Score: -173.77, Avg.Score: -174.99, Time: 02:30:14 \n"
     ]
    },
    {
     "name": "stderr",
     "output_type": "stream",
     "text": [
      " 30%|██▉       | 592/2000 [2:30:22<7:51:44, 20.10s/it]"
     ]
    },
    {
     "name": "stdout",
     "output_type": "stream",
     "text": [
      "Ep. 593, Timestep 720077,  Ep.Timesteps 1600, Score: -173.62, Avg.Score: -174.92, Time: 02:30:35 \n"
     ]
    },
    {
     "name": "stderr",
     "output_type": "stream",
     "text": [
      " 30%|██▉       | 593/2000 [2:30:44<7:58:43, 20.41s/it]"
     ]
    },
    {
     "name": "stdout",
     "output_type": "stream",
     "text": [
      "Ep. 594, Timestep 721677,  Ep.Timesteps 1600, Score: -173.59, Avg.Score: -174.90, Time: 02:30:54 \n"
     ]
    },
    {
     "name": "stderr",
     "output_type": "stream",
     "text": [
      " 30%|██▉       | 594/2000 [2:31:04<7:55:32, 20.29s/it]"
     ]
    },
    {
     "name": "stdout",
     "output_type": "stream",
     "text": [
      "Ep. 595, Timestep 723277,  Ep.Timesteps 1600, Score: -173.49, Avg.Score: -174.87, Time: 02:31:15 \n"
     ]
    },
    {
     "name": "stderr",
     "output_type": "stream",
     "text": [
      " 30%|██▉       | 595/2000 [2:31:24<7:53:09, 20.21s/it]"
     ]
    },
    {
     "name": "stdout",
     "output_type": "stream",
     "text": [
      "Ep. 596, Timestep 724877,  Ep.Timesteps 1600, Score: -174.15, Avg.Score: -174.87, Time: 02:31:34 \n"
     ]
    },
    {
     "name": "stderr",
     "output_type": "stream",
     "text": [
      " 30%|██▉       | 596/2000 [2:31:43<7:47:34, 19.98s/it]"
     ]
    },
    {
     "name": "stdout",
     "output_type": "stream",
     "text": [
      "Ep. 597, Timestep 726477,  Ep.Timesteps 1600, Score: -173.97, Avg.Score: -174.88, Time: 02:31:54 \n"
     ]
    },
    {
     "name": "stderr",
     "output_type": "stream",
     "text": [
      " 30%|██▉       | 597/2000 [2:32:04<7:53:05, 20.23s/it]"
     ]
    },
    {
     "name": "stdout",
     "output_type": "stream",
     "text": [
      "Ep. 598, Timestep 728077,  Ep.Timesteps 1600, Score: -173.65, Avg.Score: -174.88, Time: 02:32:14 \n"
     ]
    },
    {
     "name": "stderr",
     "output_type": "stream",
     "text": [
      " 30%|██▉       | 598/2000 [2:32:24<7:52:17, 20.21s/it]"
     ]
    },
    {
     "name": "stdout",
     "output_type": "stream",
     "text": [
      "Ep. 599, Timestep 729677,  Ep.Timesteps 1600, Score: -173.30, Avg.Score: -174.87, Time: 02:32:34 \n"
     ]
    },
    {
     "name": "stderr",
     "output_type": "stream",
     "text": [
      " 30%|██▉       | 599/2000 [2:32:43<7:45:03, 19.92s/it]"
     ]
    },
    {
     "name": "stdout",
     "output_type": "stream",
     "text": [
      "Ep. 600, Timestep 731277,  Ep.Timesteps 1600, Score: -173.25, Avg.Score: -174.86, Time: 02:32:55 \n"
     ]
    },
    {
     "name": "stderr",
     "output_type": "stream",
     "text": [
      " 30%|███       | 600/2000 [2:33:04<7:52:11, 20.24s/it]"
     ]
    },
    {
     "name": "stdout",
     "output_type": "stream",
     "text": [
      "Ep. 601, Timestep 732877,  Ep.Timesteps 1600, Score: -173.62, Avg.Score: -174.86, Time: 02:33:17 \n"
     ]
    },
    {
     "name": "stderr",
     "output_type": "stream",
     "text": [
      " 30%|███       | 601/2000 [2:33:25<7:58:20, 20.52s/it]"
     ]
    },
    {
     "name": "stdout",
     "output_type": "stream",
     "text": [
      "Ep. 602, Timestep 734477,  Ep.Timesteps 1600, Score: -173.62, Avg.Score: -174.81, Time: 02:33:38 \n"
     ]
    },
    {
     "name": "stderr",
     "output_type": "stream",
     "text": [
      " 30%|███       | 602/2000 [2:33:46<7:58:02, 20.52s/it]"
     ]
    },
    {
     "name": "stdout",
     "output_type": "stream",
     "text": [
      "Ep. 603, Timestep 736077,  Ep.Timesteps 1600, Score: -181.50, Avg.Score: -174.89, Time: 02:33:57 \n"
     ]
    },
    {
     "name": "stderr",
     "output_type": "stream",
     "text": [
      " 30%|███       | 603/2000 [2:34:06<7:58:02, 20.53s/it]"
     ]
    },
    {
     "name": "stdout",
     "output_type": "stream",
     "text": [
      "Ep. 604, Timestep 737677,  Ep.Timesteps 1600, Score: -180.79, Avg.Score: -174.96, Time: 02:34:17 \n"
     ]
    },
    {
     "name": "stderr",
     "output_type": "stream",
     "text": [
      " 30%|███       | 604/2000 [2:34:26<7:50:49, 20.24s/it]"
     ]
    },
    {
     "name": "stdout",
     "output_type": "stream",
     "text": [
      "Ep. 605, Timestep 739277,  Ep.Timesteps 1600, Score: -179.49, Avg.Score: -175.02, Time: 02:34:38 \n"
     ]
    },
    {
     "name": "stderr",
     "output_type": "stream",
     "text": [
      " 30%|███       | 605/2000 [2:34:46<7:47:57, 20.13s/it]"
     ]
    },
    {
     "name": "stdout",
     "output_type": "stream",
     "text": [
      "Ep. 606, Timestep 740877,  Ep.Timesteps 1600, Score: -181.53, Avg.Score: -175.10, Time: 02:34:58 \n"
     ]
    },
    {
     "name": "stderr",
     "output_type": "stream",
     "text": [
      " 30%|███       | 606/2000 [2:35:07<7:51:21, 20.29s/it]"
     ]
    },
    {
     "name": "stdout",
     "output_type": "stream",
     "text": [
      "Ep. 607, Timestep 742477,  Ep.Timesteps 1600, Score: -176.57, Avg.Score: -175.12, Time: 02:35:18 \n"
     ]
    },
    {
     "name": "stderr",
     "output_type": "stream",
     "text": [
      " 30%|███       | 607/2000 [2:35:27<7:52:43, 20.36s/it]"
     ]
    },
    {
     "name": "stdout",
     "output_type": "stream",
     "text": [
      "Ep. 608, Timestep 744077,  Ep.Timesteps 1600, Score: -180.12, Avg.Score: -175.18, Time: 02:35:38 \n"
     ]
    },
    {
     "name": "stderr",
     "output_type": "stream",
     "text": [
      " 30%|███       | 608/2000 [2:35:49<7:59:57, 20.69s/it]"
     ]
    },
    {
     "name": "stdout",
     "output_type": "stream",
     "text": [
      "Ep. 609, Timestep 745677,  Ep.Timesteps 1600, Score: -175.59, Avg.Score: -175.20, Time: 02:35:58 \n"
     ]
    },
    {
     "name": "stderr",
     "output_type": "stream",
     "text": [
      " 30%|███       | 609/2000 [2:36:08<7:54:14, 20.46s/it]"
     ]
    },
    {
     "name": "stdout",
     "output_type": "stream",
     "text": [
      "Ep. 610, Timestep 747277,  Ep.Timesteps 1600, Score: -182.30, Avg.Score: -175.29, Time: 02:36:19 \n"
     ]
    },
    {
     "name": "stderr",
     "output_type": "stream",
     "text": [
      " 30%|███       | 610/2000 [2:36:29<7:53:48, 20.45s/it]"
     ]
    },
    {
     "name": "stdout",
     "output_type": "stream",
     "text": [
      "Ep. 611, Timestep 748877,  Ep.Timesteps 1600, Score: -174.94, Avg.Score: -175.30, Time: 02:36:41 \n"
     ]
    },
    {
     "name": "stderr",
     "output_type": "stream",
     "text": [
      " 31%|███       | 611/2000 [2:36:50<7:55:03, 20.52s/it]"
     ]
    },
    {
     "name": "stdout",
     "output_type": "stream",
     "text": [
      "Ep. 612, Timestep 750477,  Ep.Timesteps 1600, Score: -181.33, Avg.Score: -175.38, Time: 02:37:01 \n"
     ]
    },
    {
     "name": "stderr",
     "output_type": "stream",
     "text": [
      " 31%|███       | 612/2000 [2:37:11<7:59:05, 20.71s/it]"
     ]
    },
    {
     "name": "stdout",
     "output_type": "stream",
     "text": [
      "Ep. 613, Timestep 752077,  Ep.Timesteps 1600, Score: -180.21, Avg.Score: -175.45, Time: 02:37:22 \n"
     ]
    },
    {
     "name": "stderr",
     "output_type": "stream",
     "text": [
      " 31%|███       | 613/2000 [2:37:32<8:02:12, 20.86s/it]"
     ]
    },
    {
     "name": "stdout",
     "output_type": "stream",
     "text": [
      "Ep. 614, Timestep 753677,  Ep.Timesteps 1600, Score: -181.67, Avg.Score: -175.52, Time: 02:37:42 \n"
     ]
    },
    {
     "name": "stderr",
     "output_type": "stream",
     "text": [
      " 31%|███       | 614/2000 [2:37:52<7:56:08, 20.61s/it]"
     ]
    },
    {
     "name": "stdout",
     "output_type": "stream",
     "text": [
      "Ep. 615, Timestep 755277,  Ep.Timesteps 1600, Score: -177.35, Avg.Score: -175.49, Time: 02:38:03 \n"
     ]
    },
    {
     "name": "stderr",
     "output_type": "stream",
     "text": [
      " 31%|███       | 615/2000 [2:38:12<7:52:05, 20.45s/it]"
     ]
    },
    {
     "name": "stdout",
     "output_type": "stream",
     "text": [
      "Ep. 616, Timestep 756877,  Ep.Timesteps 1600, Score: -175.88, Avg.Score: -175.52, Time: 02:38:23 \n"
     ]
    },
    {
     "name": "stderr",
     "output_type": "stream",
     "text": [
      " 31%|███       | 616/2000 [2:38:32<7:50:34, 20.40s/it]"
     ]
    },
    {
     "name": "stdout",
     "output_type": "stream",
     "text": [
      "Ep. 617, Timestep 758477,  Ep.Timesteps 1600, Score: -176.17, Avg.Score: -175.54, Time: 02:38:44 \n"
     ]
    },
    {
     "name": "stderr",
     "output_type": "stream",
     "text": [
      " 31%|███       | 617/2000 [2:38:54<7:57:29, 20.72s/it]"
     ]
    },
    {
     "name": "stdout",
     "output_type": "stream",
     "text": [
      "Ep. 618, Timestep 760077,  Ep.Timesteps 1600, Score: -179.20, Avg.Score: -175.59, Time: 02:39:05 \n"
     ]
    },
    {
     "name": "stderr",
     "output_type": "stream",
     "text": [
      " 31%|███       | 618/2000 [2:39:15<7:59:14, 20.81s/it]"
     ]
    },
    {
     "name": "stdout",
     "output_type": "stream",
     "text": [
      "Ep. 619, Timestep 761677,  Ep.Timesteps 1600, Score: -173.91, Avg.Score: -175.59, Time: 02:39:25 \n"
     ]
    },
    {
     "name": "stderr",
     "output_type": "stream",
     "text": [
      " 31%|███       | 619/2000 [2:39:35<7:54:34, 20.62s/it]"
     ]
    },
    {
     "name": "stdout",
     "output_type": "stream",
     "text": [
      "Ep. 620, Timestep 763277,  Ep.Timesteps 1600, Score: -174.11, Avg.Score: -175.60, Time: 02:39:46 \n"
     ]
    },
    {
     "name": "stderr",
     "output_type": "stream",
     "text": [
      " 31%|███       | 620/2000 [2:39:56<7:54:56, 20.65s/it]"
     ]
    },
    {
     "name": "stdout",
     "output_type": "stream",
     "text": [
      "Ep. 621, Timestep 764877,  Ep.Timesteps 1600, Score: -173.46, Avg.Score: -175.59, Time: 02:40:06 \n"
     ]
    },
    {
     "name": "stderr",
     "output_type": "stream",
     "text": [
      " 31%|███       | 621/2000 [2:40:16<7:51:50, 20.53s/it]"
     ]
    },
    {
     "name": "stdout",
     "output_type": "stream",
     "text": [
      "Ep. 622, Timestep 766477,  Ep.Timesteps 1600, Score: -173.92, Avg.Score: -175.60, Time: 02:40:27 \n"
     ]
    },
    {
     "name": "stderr",
     "output_type": "stream",
     "text": [
      " 31%|███       | 622/2000 [2:40:36<7:49:51, 20.46s/it]"
     ]
    },
    {
     "name": "stdout",
     "output_type": "stream",
     "text": [
      "Ep. 623, Timestep 768077,  Ep.Timesteps 1600, Score: -173.45, Avg.Score: -175.58, Time: 02:40:47 \n"
     ]
    },
    {
     "name": "stderr",
     "output_type": "stream",
     "text": [
      " 31%|███       | 623/2000 [2:40:57<7:48:40, 20.42s/it]"
     ]
    },
    {
     "name": "stdout",
     "output_type": "stream",
     "text": [
      "Ep. 624, Timestep 769677,  Ep.Timesteps 1600, Score: -174.17, Avg.Score: -175.49, Time: 02:41:08 \n"
     ]
    },
    {
     "name": "stderr",
     "output_type": "stream",
     "text": [
      " 31%|███       | 624/2000 [2:41:17<7:47:21, 20.38s/it]"
     ]
    },
    {
     "name": "stdout",
     "output_type": "stream",
     "text": [
      "Ep. 625, Timestep 771277,  Ep.Timesteps 1600, Score: -173.60, Avg.Score: -175.44, Time: 02:41:29 \n"
     ]
    },
    {
     "name": "stderr",
     "output_type": "stream",
     "text": [
      " 31%|███▏      | 625/2000 [2:41:38<7:52:33, 20.62s/it]"
     ]
    },
    {
     "name": "stdout",
     "output_type": "stream",
     "text": [
      "Ep. 626, Timestep 772877,  Ep.Timesteps 1600, Score: -173.63, Avg.Score: -175.38, Time: 02:41:49 \n"
     ]
    },
    {
     "name": "stderr",
     "output_type": "stream",
     "text": [
      " 31%|███▏      | 626/2000 [2:41:59<7:54:11, 20.71s/it]"
     ]
    },
    {
     "name": "stdout",
     "output_type": "stream",
     "text": [
      "Ep. 627, Timestep 774477,  Ep.Timesteps 1600, Score: -173.72, Avg.Score: -175.36, Time: 02:42:09 \n"
     ]
    },
    {
     "name": "stderr",
     "output_type": "stream",
     "text": [
      " 31%|███▏      | 627/2000 [2:42:20<7:54:15, 20.73s/it]"
     ]
    },
    {
     "name": "stdout",
     "output_type": "stream",
     "text": [
      "Ep. 628, Timestep 776077,  Ep.Timesteps 1600, Score: -173.79, Avg.Score: -175.34, Time: 02:42:30 \n"
     ]
    },
    {
     "name": "stderr",
     "output_type": "stream",
     "text": [
      " 31%|███▏      | 628/2000 [2:42:40<7:49:18, 20.52s/it]"
     ]
    },
    {
     "name": "stdout",
     "output_type": "stream",
     "text": [
      "Ep. 629, Timestep 777677,  Ep.Timesteps 1600, Score: -173.69, Avg.Score: -175.27, Time: 02:42:51 \n"
     ]
    },
    {
     "name": "stderr",
     "output_type": "stream",
     "text": [
      " 31%|███▏      | 629/2000 [2:43:00<7:44:41, 20.34s/it]"
     ]
    },
    {
     "name": "stdout",
     "output_type": "stream",
     "text": [
      "Ep. 630, Timestep 779277,  Ep.Timesteps 1600, Score: -173.56, Avg.Score: -175.20, Time: 02:43:12 \n"
     ]
    },
    {
     "name": "stderr",
     "output_type": "stream",
     "text": [
      " 32%|███▏      | 630/2000 [2:43:21<7:54:16, 20.77s/it]"
     ]
    },
    {
     "name": "stdout",
     "output_type": "stream",
     "text": [
      "Ep. 631, Timestep 780877,  Ep.Timesteps 1600, Score: -173.82, Avg.Score: -175.14, Time: 02:43:33 \n"
     ]
    },
    {
     "name": "stderr",
     "output_type": "stream",
     "text": [
      " 32%|███▏      | 631/2000 [2:43:42<7:55:08, 20.82s/it]"
     ]
    },
    {
     "name": "stdout",
     "output_type": "stream",
     "text": [
      "Ep. 632, Timestep 782477,  Ep.Timesteps 1600, Score: -173.73, Avg.Score: -175.05, Time: 02:43:53 \n"
     ]
    },
    {
     "name": "stderr",
     "output_type": "stream",
     "text": [
      " 32%|███▏      | 632/2000 [2:44:03<7:52:15, 20.71s/it]"
     ]
    },
    {
     "name": "stdout",
     "output_type": "stream",
     "text": [
      "Ep. 633, Timestep 784077,  Ep.Timesteps 1600, Score: -173.56, Avg.Score: -175.63, Time: 02:44:15 \n"
     ]
    },
    {
     "name": "stderr",
     "output_type": "stream",
     "text": [
      " 32%|███▏      | 633/2000 [2:44:24<7:56:07, 20.90s/it]"
     ]
    },
    {
     "name": "stdout",
     "output_type": "stream",
     "text": [
      "Ep. 634, Timestep 785677,  Ep.Timesteps 1600, Score: -174.04, Avg.Score: -175.61, Time: 02:44:35 \n"
     ]
    },
    {
     "name": "stderr",
     "output_type": "stream",
     "text": [
      " 32%|███▏      | 634/2000 [2:44:45<7:56:58, 20.95s/it]"
     ]
    },
    {
     "name": "stdout",
     "output_type": "stream",
     "text": [
      "Ep. 635, Timestep 787277,  Ep.Timesteps 1600, Score: -173.64, Avg.Score: -175.58, Time: 02:44:56 \n"
     ]
    },
    {
     "name": "stderr",
     "output_type": "stream",
     "text": [
      " 32%|███▏      | 635/2000 [2:45:06<7:52:35, 20.77s/it]"
     ]
    },
    {
     "name": "stdout",
     "output_type": "stream",
     "text": [
      "Ep. 636, Timestep 788877,  Ep.Timesteps 1600, Score: -173.21, Avg.Score: -175.53, Time: 02:45:17 \n"
     ]
    },
    {
     "name": "stderr",
     "output_type": "stream",
     "text": [
      " 32%|███▏      | 636/2000 [2:45:27<7:58:21, 21.04s/it]"
     ]
    },
    {
     "name": "stdout",
     "output_type": "stream",
     "text": [
      "Ep. 637, Timestep 790477,  Ep.Timesteps 1600, Score: -178.20, Avg.Score: -175.57, Time: 02:45:37 \n"
     ]
    },
    {
     "name": "stderr",
     "output_type": "stream",
     "text": [
      " 32%|███▏      | 637/2000 [2:45:47<7:52:00, 20.78s/it]"
     ]
    },
    {
     "name": "stdout",
     "output_type": "stream",
     "text": [
      "Ep. 638, Timestep 792077,  Ep.Timesteps 1600, Score: -173.94, Avg.Score: -175.58, Time: 02:45:58 \n"
     ]
    },
    {
     "name": "stderr",
     "output_type": "stream",
     "text": [
      " 32%|███▏      | 638/2000 [2:46:08<7:47:09, 20.58s/it]"
     ]
    },
    {
     "name": "stdout",
     "output_type": "stream",
     "text": [
      "Ep. 639, Timestep 793677,  Ep.Timesteps 1600, Score: -173.99, Avg.Score: -175.58, Time: 02:46:20 \n"
     ]
    },
    {
     "name": "stderr",
     "output_type": "stream",
     "text": [
      " 32%|███▏      | 639/2000 [2:46:30<7:57:12, 21.04s/it]"
     ]
    },
    {
     "name": "stdout",
     "output_type": "stream",
     "text": [
      "Ep. 640, Timestep 795277,  Ep.Timesteps 1600, Score: -173.68, Avg.Score: -175.58, Time: 02:46:42 \n"
     ]
    },
    {
     "name": "stderr",
     "output_type": "stream",
     "text": [
      " 32%|███▏      | 640/2000 [2:46:51<7:58:07, 21.09s/it]"
     ]
    },
    {
     "name": "stdout",
     "output_type": "stream",
     "text": [
      "Ep. 641, Timestep 796877,  Ep.Timesteps 1600, Score: -173.52, Avg.Score: -175.58, Time: 02:47:02 \n"
     ]
    },
    {
     "name": "stderr",
     "output_type": "stream",
     "text": [
      " 32%|███▏      | 641/2000 [2:47:12<7:58:49, 21.14s/it]"
     ]
    },
    {
     "name": "stdout",
     "output_type": "stream",
     "text": [
      "Ep. 642, Timestep 798477,  Ep.Timesteps 1600, Score: -174.02, Avg.Score: -175.59, Time: 02:47:21 \n"
     ]
    },
    {
     "name": "stderr",
     "output_type": "stream",
     "text": [
      " 32%|███▏      | 642/2000 [2:47:32<7:50:53, 20.81s/it]"
     ]
    },
    {
     "name": "stdout",
     "output_type": "stream",
     "text": [
      "Ep. 643, Timestep 800077,  Ep.Timesteps 1600, Score: -181.15, Avg.Score: -175.66, Time: 02:47:42 \n"
     ]
    },
    {
     "name": "stderr",
     "output_type": "stream",
     "text": [
      " 32%|███▏      | 643/2000 [2:47:52<7:44:45, 20.55s/it]"
     ]
    },
    {
     "name": "stdout",
     "output_type": "stream",
     "text": [
      "Ep. 644, Timestep 801677,  Ep.Timesteps 1600, Score: -181.14, Avg.Score: -175.66, Time: 02:48:04 \n"
     ]
    },
    {
     "name": "stderr",
     "output_type": "stream",
     "text": [
      " 32%|███▏      | 644/2000 [2:48:13<7:46:05, 20.62s/it]"
     ]
    },
    {
     "name": "stdout",
     "output_type": "stream",
     "text": [
      "Ep. 645, Timestep 803277,  Ep.Timesteps 1600, Score: -182.07, Avg.Score: -175.75, Time: 02:48:24 \n"
     ]
    },
    {
     "name": "stderr",
     "output_type": "stream",
     "text": [
      " 32%|███▏      | 645/2000 [2:48:33<7:41:48, 20.45s/it]"
     ]
    },
    {
     "name": "stdout",
     "output_type": "stream",
     "text": [
      "Ep. 646, Timestep 804877,  Ep.Timesteps 1600, Score: -179.85, Avg.Score: -175.78, Time: 02:48:44 \n"
     ]
    },
    {
     "name": "stderr",
     "output_type": "stream",
     "text": [
      " 32%|███▏      | 646/2000 [2:48:54<7:47:43, 20.73s/it]"
     ]
    },
    {
     "name": "stdout",
     "output_type": "stream",
     "text": [
      "Ep. 647, Timestep 806477,  Ep.Timesteps 1600, Score: -176.11, Avg.Score: -175.80, Time: 02:49:05 \n"
     ]
    },
    {
     "name": "stderr",
     "output_type": "stream",
     "text": [
      " 32%|███▏      | 647/2000 [2:49:15<7:50:22, 20.86s/it]"
     ]
    },
    {
     "name": "stdout",
     "output_type": "stream",
     "text": [
      "Ep. 648, Timestep 808077,  Ep.Timesteps 1600, Score: -180.78, Avg.Score: -175.87, Time: 02:49:26 \n"
     ]
    },
    {
     "name": "stderr",
     "output_type": "stream",
     "text": [
      " 32%|███▏      | 648/2000 [2:49:36<7:46:31, 20.70s/it]"
     ]
    },
    {
     "name": "stdout",
     "output_type": "stream",
     "text": [
      "Ep. 649, Timestep 809677,  Ep.Timesteps 1600, Score: -181.29, Avg.Score: -175.95, Time: 02:49:47 \n"
     ]
    },
    {
     "name": "stderr",
     "output_type": "stream",
     "text": [
      " 32%|███▏      | 649/2000 [2:49:56<7:45:48, 20.69s/it]"
     ]
    },
    {
     "name": "stdout",
     "output_type": "stream",
     "text": [
      "Ep. 650, Timestep 811277,  Ep.Timesteps 1600, Score: -175.25, Avg.Score: -175.97, Time: 02:50:08 \n"
     ]
    },
    {
     "name": "stderr",
     "output_type": "stream",
     "text": [
      " 32%|███▎      | 650/2000 [2:50:17<7:42:28, 20.55s/it]"
     ]
    },
    {
     "name": "stdout",
     "output_type": "stream",
     "text": [
      "Ep. 651, Timestep 812877,  Ep.Timesteps 1600, Score: -177.36, Avg.Score: -176.00, Time: 02:50:29 \n"
     ]
    },
    {
     "name": "stderr",
     "output_type": "stream",
     "text": [
      " 33%|███▎      | 651/2000 [2:50:38<7:48:00, 20.82s/it]"
     ]
    },
    {
     "name": "stdout",
     "output_type": "stream",
     "text": [
      "Ep. 652, Timestep 814477,  Ep.Timesteps 1600, Score: -181.35, Avg.Score: -176.08, Time: 02:50:50 \n"
     ]
    },
    {
     "name": "stderr",
     "output_type": "stream",
     "text": [
      " 33%|███▎      | 652/2000 [2:51:00<7:53:12, 21.06s/it]"
     ]
    },
    {
     "name": "stdout",
     "output_type": "stream",
     "text": [
      "Ep. 653, Timestep 816077,  Ep.Timesteps 1600, Score: -180.59, Avg.Score: -176.15, Time: 02:51:10 \n"
     ]
    },
    {
     "name": "stderr",
     "output_type": "stream",
     "text": [
      " 33%|███▎      | 653/2000 [2:51:20<7:49:23, 20.91s/it]"
     ]
    },
    {
     "name": "stdout",
     "output_type": "stream",
     "text": [
      "Ep. 654, Timestep 817677,  Ep.Timesteps 1600, Score: -175.90, Avg.Score: -176.17, Time: 02:51:32 \n"
     ]
    },
    {
     "name": "stderr",
     "output_type": "stream",
     "text": [
      " 33%|███▎      | 654/2000 [2:51:41<7:50:31, 20.97s/it]"
     ]
    },
    {
     "name": "stdout",
     "output_type": "stream",
     "text": [
      "Ep. 655, Timestep 819277,  Ep.Timesteps 1600, Score: -182.21, Avg.Score: -176.25, Time: 02:51:52 \n"
     ]
    },
    {
     "name": "stderr",
     "output_type": "stream",
     "text": [
      " 33%|███▎      | 655/2000 [2:52:02<7:47:12, 20.84s/it]"
     ]
    },
    {
     "name": "stdout",
     "output_type": "stream",
     "text": [
      "Ep. 656, Timestep 820877,  Ep.Timesteps 1600, Score: -175.77, Avg.Score: -176.27, Time: 02:52:13 \n"
     ]
    },
    {
     "name": "stderr",
     "output_type": "stream",
     "text": [
      " 33%|███▎      | 656/2000 [2:52:23<7:44:40, 20.74s/it]"
     ]
    },
    {
     "name": "stdout",
     "output_type": "stream",
     "text": [
      "Ep. 657, Timestep 822477,  Ep.Timesteps 1600, Score: -178.84, Avg.Score: -176.32, Time: 02:52:34 \n"
     ]
    },
    {
     "name": "stderr",
     "output_type": "stream",
     "text": [
      " 33%|███▎      | 657/2000 [2:52:44<7:48:12, 20.92s/it]"
     ]
    },
    {
     "name": "stdout",
     "output_type": "stream",
     "text": [
      "Ep. 658, Timestep 822522,  Ep.Timesteps 45, Score: -121.15, Avg.Score: -175.80, Time: 02:52:47 \n"
     ]
    },
    {
     "name": "stderr",
     "output_type": "stream",
     "text": [
      " 33%|███▎      | 658/2000 [2:52:44<5:31:23, 14.82s/it]"
     ]
    },
    {
     "name": "stdout",
     "output_type": "stream",
     "text": [
      "Ep. 659, Timestep 824122,  Ep.Timesteps 1600, Score: -180.74, Avg.Score: -175.87, Time: 02:52:55 \n"
     ]
    },
    {
     "name": "stderr",
     "output_type": "stream",
     "text": [
      " 33%|███▎      | 659/2000 [2:53:05<6:06:26, 16.40s/it]"
     ]
    },
    {
     "name": "stdout",
     "output_type": "stream",
     "text": [
      "Ep. 660, Timestep 825722,  Ep.Timesteps 1600, Score: -174.11, Avg.Score: -175.88, Time: 02:53:16 \n"
     ]
    },
    {
     "name": "stderr",
     "output_type": "stream",
     "text": [
      " 33%|███▎      | 660/2000 [2:53:25<6:30:30, 17.49s/it]"
     ]
    },
    {
     "name": "stdout",
     "output_type": "stream",
     "text": [
      "Ep. 661, Timestep 827322,  Ep.Timesteps 1600, Score: -173.66, Avg.Score: -175.88, Time: 02:53:36 \n"
     ]
    },
    {
     "name": "stderr",
     "output_type": "stream",
     "text": [
      " 33%|███▎      | 661/2000 [2:53:46<6:56:32, 18.66s/it]"
     ]
    },
    {
     "name": "stdout",
     "output_type": "stream",
     "text": [
      "Ep. 662, Timestep 828922,  Ep.Timesteps 1600, Score: -173.46, Avg.Score: -175.88, Time: 02:53:57 \n"
     ]
    },
    {
     "name": "stderr",
     "output_type": "stream",
     "text": [
      " 33%|███▎      | 662/2000 [2:54:07<7:10:52, 19.32s/it]"
     ]
    },
    {
     "name": "stdout",
     "output_type": "stream",
     "text": [
      "Ep. 663, Timestep 830522,  Ep.Timesteps 1600, Score: -173.84, Avg.Score: -175.80, Time: 02:54:17 \n"
     ]
    },
    {
     "name": "stderr",
     "output_type": "stream",
     "text": [
      " 33%|███▎      | 663/2000 [2:54:28<7:20:19, 19.76s/it]"
     ]
    },
    {
     "name": "stdout",
     "output_type": "stream",
     "text": [
      "Ep. 664, Timestep 832122,  Ep.Timesteps 1600, Score: -180.66, Avg.Score: -175.85, Time: 02:54:37 \n"
     ]
    },
    {
     "name": "stderr",
     "output_type": "stream",
     "text": [
      " 33%|███▎      | 664/2000 [2:54:48<7:22:13, 19.86s/it]"
     ]
    },
    {
     "name": "stdout",
     "output_type": "stream",
     "text": [
      "Ep. 665, Timestep 833722,  Ep.Timesteps 1600, Score: -173.51, Avg.Score: -175.77, Time: 02:54:58 \n"
     ]
    },
    {
     "name": "stderr",
     "output_type": "stream",
     "text": [
      " 33%|███▎      | 665/2000 [2:55:08<7:23:21, 19.93s/it]"
     ]
    },
    {
     "name": "stdout",
     "output_type": "stream",
     "text": [
      "Ep. 666, Timestep 835322,  Ep.Timesteps 1600, Score: -173.83, Avg.Score: -175.70, Time: 02:55:19 \n"
     ]
    },
    {
     "name": "stderr",
     "output_type": "stream",
     "text": [
      " 33%|███▎      | 666/2000 [2:55:28<7:26:02, 20.06s/it]"
     ]
    },
    {
     "name": "stdout",
     "output_type": "stream",
     "text": [
      "Ep. 667, Timestep 836922,  Ep.Timesteps 1600, Score: -182.07, Avg.Score: -175.72, Time: 02:55:40 \n"
     ]
    },
    {
     "name": "stderr",
     "output_type": "stream",
     "text": [
      " 33%|███▎      | 667/2000 [2:55:49<7:33:11, 20.40s/it]"
     ]
    },
    {
     "name": "stdout",
     "output_type": "stream",
     "text": [
      "Ep. 668, Timestep 838522,  Ep.Timesteps 1600, Score: -173.93, Avg.Score: -175.66, Time: 02:56:00 \n"
     ]
    },
    {
     "name": "stderr",
     "output_type": "stream",
     "text": [
      " 33%|███▎      | 668/2000 [2:56:10<7:36:42, 20.57s/it]"
     ]
    },
    {
     "name": "stdout",
     "output_type": "stream",
     "text": [
      "Ep. 669, Timestep 840122,  Ep.Timesteps 1600, Score: -173.59, Avg.Score: -175.63, Time: 02:56:20 \n"
     ]
    },
    {
     "name": "stderr",
     "output_type": "stream",
     "text": [
      " 33%|███▎      | 669/2000 [2:56:31<7:35:17, 20.52s/it]"
     ]
    },
    {
     "name": "stdout",
     "output_type": "stream",
     "text": [
      "Ep. 670, Timestep 841722,  Ep.Timesteps 1600, Score: -173.84, Avg.Score: -175.56, Time: 02:56:41 \n"
     ]
    },
    {
     "name": "stderr",
     "output_type": "stream",
     "text": [
      " 34%|███▎      | 670/2000 [2:56:51<7:31:33, 20.37s/it]"
     ]
    },
    {
     "name": "stdout",
     "output_type": "stream",
     "text": [
      "Ep. 671, Timestep 843322,  Ep.Timesteps 1600, Score: -173.27, Avg.Score: -175.53, Time: 02:57:02 \n"
     ]
    },
    {
     "name": "stderr",
     "output_type": "stream",
     "text": [
      " 34%|███▎      | 671/2000 [2:57:11<7:32:10, 20.41s/it]"
     ]
    },
    {
     "name": "stdout",
     "output_type": "stream",
     "text": [
      "Ep. 672, Timestep 844922,  Ep.Timesteps 1600, Score: -173.72, Avg.Score: -175.45, Time: 02:57:22 \n"
     ]
    },
    {
     "name": "stderr",
     "output_type": "stream",
     "text": [
      " 34%|███▎      | 672/2000 [2:57:32<7:35:19, 20.57s/it]"
     ]
    },
    {
     "name": "stdout",
     "output_type": "stream",
     "text": [
      "Ep. 673, Timestep 846522,  Ep.Timesteps 1600, Score: -182.89, Avg.Score: -175.47, Time: 02:57:43 \n"
     ]
    },
    {
     "name": "stderr",
     "output_type": "stream",
     "text": [
      " 34%|███▎      | 673/2000 [2:57:52<7:32:48, 20.47s/it]"
     ]
    },
    {
     "name": "stdout",
     "output_type": "stream",
     "text": [
      "Ep. 674, Timestep 848122,  Ep.Timesteps 1600, Score: -173.53, Avg.Score: -175.43, Time: 02:58:04 \n"
     ]
    },
    {
     "name": "stderr",
     "output_type": "stream",
     "text": [
      " 34%|███▎      | 674/2000 [2:58:13<7:35:26, 20.61s/it]"
     ]
    },
    {
     "name": "stdout",
     "output_type": "stream",
     "text": [
      "Ep. 675, Timestep 849722,  Ep.Timesteps 1600, Score: -173.95, Avg.Score: -175.36, Time: 02:58:26 \n"
     ]
    },
    {
     "name": "stderr",
     "output_type": "stream",
     "text": [
      " 34%|███▍      | 675/2000 [2:58:35<7:40:04, 20.83s/it]"
     ]
    },
    {
     "name": "stdout",
     "output_type": "stream",
     "text": [
      "Ep. 676, Timestep 851322,  Ep.Timesteps 1600, Score: -181.53, Avg.Score: -175.42, Time: 02:58:46 \n"
     ]
    },
    {
     "name": "stderr",
     "output_type": "stream",
     "text": [
      " 34%|███▍      | 676/2000 [2:58:56<7:43:15, 20.99s/it]"
     ]
    },
    {
     "name": "stdout",
     "output_type": "stream",
     "text": [
      "Ep. 677, Timestep 852922,  Ep.Timesteps 1600, Score: -173.58, Avg.Score: -175.34, Time: 02:59:06 \n"
     ]
    },
    {
     "name": "stderr",
     "output_type": "stream",
     "text": [
      " 34%|███▍      | 677/2000 [2:59:17<7:42:31, 20.98s/it]"
     ]
    },
    {
     "name": "stdout",
     "output_type": "stream",
     "text": [
      "Ep. 678, Timestep 854522,  Ep.Timesteps 1600, Score: -173.51, Avg.Score: -175.34, Time: 02:59:28 \n"
     ]
    },
    {
     "name": "stderr",
     "output_type": "stream",
     "text": [
      " 34%|███▍      | 678/2000 [2:59:37<7:36:37, 20.72s/it]"
     ]
    },
    {
     "name": "stdout",
     "output_type": "stream",
     "text": [
      "Ep. 679, Timestep 856122,  Ep.Timesteps 1600, Score: -173.90, Avg.Score: -175.34, Time: 02:59:49 \n"
     ]
    },
    {
     "name": "stderr",
     "output_type": "stream",
     "text": [
      " 34%|███▍      | 679/2000 [2:59:58<7:35:17, 20.68s/it]"
     ]
    },
    {
     "name": "stdout",
     "output_type": "stream",
     "text": [
      "Ep. 680, Timestep 857722,  Ep.Timesteps 1600, Score: -173.82, Avg.Score: -175.34, Time: 03:00:10 \n"
     ]
    },
    {
     "name": "stderr",
     "output_type": "stream",
     "text": [
      " 34%|███▍      | 680/2000 [3:00:19<7:39:12, 20.87s/it]"
     ]
    },
    {
     "name": "stdout",
     "output_type": "stream",
     "text": [
      "Ep. 681, Timestep 859322,  Ep.Timesteps 1600, Score: -173.95, Avg.Score: -175.34, Time: 03:00:31 \n"
     ]
    },
    {
     "name": "stderr",
     "output_type": "stream",
     "text": [
      " 34%|███▍      | 681/2000 [3:00:40<7:41:41, 21.00s/it]"
     ]
    },
    {
     "name": "stdout",
     "output_type": "stream",
     "text": [
      "Ep. 682, Timestep 860922,  Ep.Timesteps 1600, Score: -177.78, Avg.Score: -175.38, Time: 03:00:52 \n"
     ]
    },
    {
     "name": "stderr",
     "output_type": "stream",
     "text": [
      " 34%|███▍      | 682/2000 [3:01:02<7:42:33, 21.06s/it]"
     ]
    },
    {
     "name": "stdout",
     "output_type": "stream",
     "text": [
      "Ep. 683, Timestep 862522,  Ep.Timesteps 1600, Score: -177.74, Avg.Score: -175.42, Time: 03:01:13 \n"
     ]
    },
    {
     "name": "stderr",
     "output_type": "stream",
     "text": [
      " 34%|███▍      | 683/2000 [3:01:23<7:42:16, 21.06s/it]"
     ]
    },
    {
     "name": "stdout",
     "output_type": "stream",
     "text": [
      "Ep. 684, Timestep 864122,  Ep.Timesteps 1600, Score: -177.41, Avg.Score: -175.46, Time: 03:01:34 \n"
     ]
    },
    {
     "name": "stderr",
     "output_type": "stream",
     "text": [
      " 34%|███▍      | 684/2000 [3:01:43<7:38:09, 20.89s/it]"
     ]
    },
    {
     "name": "stdout",
     "output_type": "stream",
     "text": [
      "Ep. 685, Timestep 865722,  Ep.Timesteps 1600, Score: -174.32, Avg.Score: -175.46, Time: 03:01:54 \n"
     ]
    },
    {
     "name": "stderr",
     "output_type": "stream",
     "text": [
      " 34%|███▍      | 685/2000 [3:02:03<7:33:38, 20.70s/it]"
     ]
    },
    {
     "name": "stdout",
     "output_type": "stream",
     "text": [
      "Ep. 686, Timestep 867322,  Ep.Timesteps 1600, Score: -178.36, Avg.Score: -175.51, Time: 03:02:15 \n"
     ]
    },
    {
     "name": "stderr",
     "output_type": "stream",
     "text": [
      " 34%|███▍      | 686/2000 [3:02:25<7:37:11, 20.88s/it]"
     ]
    },
    {
     "name": "stdout",
     "output_type": "stream",
     "text": [
      "Ep. 687, Timestep 868922,  Ep.Timesteps 1600, Score: -180.82, Avg.Score: -175.58, Time: 03:02:35 \n"
     ]
    },
    {
     "name": "stderr",
     "output_type": "stream",
     "text": [
      " 34%|███▍      | 687/2000 [3:02:45<7:33:37, 20.73s/it]"
     ]
    },
    {
     "name": "stdout",
     "output_type": "stream",
     "text": [
      "Ep. 688, Timestep 870522,  Ep.Timesteps 1600, Score: -174.77, Avg.Score: -175.59, Time: 03:02:56 \n"
     ]
    },
    {
     "name": "stderr",
     "output_type": "stream",
     "text": [
      " 34%|███▍      | 688/2000 [3:03:06<7:32:43, 20.70s/it]"
     ]
    },
    {
     "name": "stdout",
     "output_type": "stream",
     "text": [
      "Ep. 689, Timestep 872122,  Ep.Timesteps 1600, Score: -181.79, Avg.Score: -175.65, Time: 03:03:17 \n"
     ]
    },
    {
     "name": "stderr",
     "output_type": "stream",
     "text": [
      " 34%|███▍      | 689/2000 [3:03:26<7:32:00, 20.69s/it]"
     ]
    },
    {
     "name": "stdout",
     "output_type": "stream",
     "text": [
      "Ep. 690, Timestep 873722,  Ep.Timesteps 1600, Score: -183.20, Avg.Score: -175.74, Time: 03:03:37 \n"
     ]
    },
    {
     "name": "stderr",
     "output_type": "stream",
     "text": [
      " 34%|███▍      | 690/2000 [3:03:47<7:30:55, 20.65s/it]"
     ]
    },
    {
     "name": "stdout",
     "output_type": "stream",
     "text": [
      "Ep. 691, Timestep 875322,  Ep.Timesteps 1600, Score: -180.49, Avg.Score: -175.81, Time: 03:03:57 \n"
     ]
    },
    {
     "name": "stderr",
     "output_type": "stream",
     "text": [
      " 35%|███▍      | 691/2000 [3:04:08<7:33:13, 20.77s/it]"
     ]
    },
    {
     "name": "stdout",
     "output_type": "stream",
     "text": [
      "Ep. 692, Timestep 876922,  Ep.Timesteps 1600, Score: -176.10, Avg.Score: -175.84, Time: 03:04:18 \n"
     ]
    },
    {
     "name": "stderr",
     "output_type": "stream",
     "text": [
      " 35%|███▍      | 692/2000 [3:04:28<7:26:05, 20.46s/it]"
     ]
    },
    {
     "name": "stdout",
     "output_type": "stream",
     "text": [
      "Ep. 693, Timestep 878522,  Ep.Timesteps 1600, Score: -176.22, Avg.Score: -175.86, Time: 03:04:38 \n"
     ]
    },
    {
     "name": "stderr",
     "output_type": "stream",
     "text": [
      " 35%|███▍      | 693/2000 [3:04:48<7:22:44, 20.32s/it]"
     ]
    },
    {
     "name": "stdout",
     "output_type": "stream",
     "text": [
      "Ep. 694, Timestep 880122,  Ep.Timesteps 1600, Score: -180.09, Avg.Score: -175.93, Time: 03:05:00 \n"
     ]
    },
    {
     "name": "stderr",
     "output_type": "stream",
     "text": [
      " 35%|███▍      | 694/2000 [3:05:08<7:24:30, 20.42s/it]"
     ]
    },
    {
     "name": "stdout",
     "output_type": "stream",
     "text": [
      "Ep. 695, Timestep 881722,  Ep.Timesteps 1600, Score: -180.69, Avg.Score: -176.00, Time: 03:05:20 \n"
     ]
    },
    {
     "name": "stderr",
     "output_type": "stream",
     "text": [
      " 35%|███▍      | 695/2000 [3:05:29<7:28:00, 20.60s/it]"
     ]
    },
    {
     "name": "stdout",
     "output_type": "stream",
     "text": [
      "Ep. 696, Timestep 883322,  Ep.Timesteps 1600, Score: -175.62, Avg.Score: -176.02, Time: 03:05:41 \n"
     ]
    },
    {
     "name": "stderr",
     "output_type": "stream",
     "text": [
      " 35%|███▍      | 696/2000 [3:05:51<7:34:37, 20.92s/it]"
     ]
    },
    {
     "name": "stdout",
     "output_type": "stream",
     "text": [
      "Ep. 697, Timestep 884922,  Ep.Timesteps 1600, Score: -182.28, Avg.Score: -176.10, Time: 03:06:01 \n"
     ]
    },
    {
     "name": "stderr",
     "output_type": "stream",
     "text": [
      " 35%|███▍      | 697/2000 [3:06:11<7:31:19, 20.78s/it]"
     ]
    },
    {
     "name": "stdout",
     "output_type": "stream",
     "text": [
      "Ep. 698, Timestep 886522,  Ep.Timesteps 1600, Score: -177.14, Avg.Score: -176.13, Time: 03:06:22 \n"
     ]
    },
    {
     "name": "stderr",
     "output_type": "stream",
     "text": [
      " 35%|███▍      | 698/2000 [3:06:32<7:27:59, 20.64s/it]"
     ]
    },
    {
     "name": "stdout",
     "output_type": "stream",
     "text": [
      "Ep. 699, Timestep 888122,  Ep.Timesteps 1600, Score: -181.06, Avg.Score: -176.21, Time: 03:06:44 \n"
     ]
    },
    {
     "name": "stderr",
     "output_type": "stream",
     "text": [
      " 35%|███▍      | 699/2000 [3:06:53<7:28:57, 20.71s/it]"
     ]
    },
    {
     "name": "stdout",
     "output_type": "stream",
     "text": [
      "Ep. 700, Timestep 889722,  Ep.Timesteps 1600, Score: -177.98, Avg.Score: -176.26, Time: 03:07:05 \n"
     ]
    },
    {
     "name": "stderr",
     "output_type": "stream",
     "text": [
      " 35%|███▌      | 700/2000 [3:07:13<7:23:37, 20.48s/it]"
     ]
    },
    {
     "name": "stdout",
     "output_type": "stream",
     "text": [
      "Ep. 701, Timestep 891322,  Ep.Timesteps 1600, Score: -173.54, Avg.Score: -176.26, Time: 03:07:24 \n"
     ]
    },
    {
     "name": "stderr",
     "output_type": "stream",
     "text": [
      " 35%|███▌      | 701/2000 [3:07:33<7:20:49, 20.36s/it]"
     ]
    },
    {
     "name": "stdout",
     "output_type": "stream",
     "text": [
      "Ep. 702, Timestep 892922,  Ep.Timesteps 1600, Score: -173.61, Avg.Score: -176.26, Time: 03:07:44 \n"
     ]
    },
    {
     "name": "stderr",
     "output_type": "stream",
     "text": [
      " 35%|███▌      | 702/2000 [3:07:53<7:20:29, 20.36s/it]"
     ]
    },
    {
     "name": "stdout",
     "output_type": "stream",
     "text": [
      "Ep. 703, Timestep 894522,  Ep.Timesteps 1600, Score: -181.23, Avg.Score: -176.25, Time: 03:08:04 \n"
     ]
    },
    {
     "name": "stderr",
     "output_type": "stream",
     "text": [
      " 35%|███▌      | 703/2000 [3:08:13<7:18:03, 20.26s/it]"
     ]
    },
    {
     "name": "stdout",
     "output_type": "stream",
     "text": [
      "Ep. 704, Timestep 896122,  Ep.Timesteps 1600, Score: -173.92, Avg.Score: -176.19, Time: 03:08:24 \n"
     ]
    },
    {
     "name": "stderr",
     "output_type": "stream",
     "text": [
      " 35%|███▌      | 704/2000 [3:08:33<7:13:53, 20.09s/it]"
     ]
    },
    {
     "name": "stdout",
     "output_type": "stream",
     "text": [
      "Ep. 705, Timestep 897722,  Ep.Timesteps 1600, Score: -173.35, Avg.Score: -176.12, Time: 03:08:43 \n"
     ]
    },
    {
     "name": "stderr",
     "output_type": "stream",
     "text": [
      " 35%|███▌      | 705/2000 [3:08:53<7:13:52, 20.10s/it]"
     ]
    },
    {
     "name": "stdout",
     "output_type": "stream",
     "text": [
      "Ep. 706, Timestep 899322,  Ep.Timesteps 1600, Score: -173.77, Avg.Score: -176.05, Time: 03:09:02 \n"
     ]
    },
    {
     "name": "stderr",
     "output_type": "stream",
     "text": [
      " 35%|███▌      | 706/2000 [3:09:12<7:07:59, 19.85s/it]"
     ]
    },
    {
     "name": "stdout",
     "output_type": "stream",
     "text": [
      "Ep. 707, Timestep 900922,  Ep.Timesteps 1600, Score: -173.67, Avg.Score: -176.02, Time: 03:09:24 \n"
     ]
    },
    {
     "name": "stderr",
     "output_type": "stream",
     "text": [
      " 35%|███▌      | 707/2000 [3:09:33<7:12:57, 20.09s/it]"
     ]
    },
    {
     "name": "stdout",
     "output_type": "stream",
     "text": [
      "Ep. 708, Timestep 902522,  Ep.Timesteps 1600, Score: -173.72, Avg.Score: -175.95, Time: 03:09:44 \n"
     ]
    },
    {
     "name": "stderr",
     "output_type": "stream",
     "text": [
      " 35%|███▌      | 708/2000 [3:09:53<7:13:14, 20.12s/it]"
     ]
    },
    {
     "name": "stdout",
     "output_type": "stream",
     "text": [
      "Ep. 709, Timestep 904122,  Ep.Timesteps 1600, Score: -173.42, Avg.Score: -175.93, Time: 03:10:03 \n"
     ]
    },
    {
     "name": "stderr",
     "output_type": "stream",
     "text": [
      " 35%|███▌      | 709/2000 [3:10:13<7:13:14, 20.14s/it]"
     ]
    },
    {
     "name": "stdout",
     "output_type": "stream",
     "text": [
      "Ep. 710, Timestep 905722,  Ep.Timesteps 1600, Score: -173.73, Avg.Score: -175.85, Time: 03:10:24 \n"
     ]
    },
    {
     "name": "stderr",
     "output_type": "stream",
     "text": [
      " 36%|███▌      | 710/2000 [3:10:33<7:14:06, 20.19s/it]"
     ]
    },
    {
     "name": "stdout",
     "output_type": "stream",
     "text": [
      "Ep. 711, Timestep 907322,  Ep.Timesteps 1600, Score: -173.85, Avg.Score: -175.84, Time: 03:10:45 \n"
     ]
    },
    {
     "name": "stderr",
     "output_type": "stream",
     "text": [
      " 36%|███▌      | 711/2000 [3:10:54<7:15:45, 20.28s/it]"
     ]
    },
    {
     "name": "stdout",
     "output_type": "stream",
     "text": [
      "Ep. 712, Timestep 908922,  Ep.Timesteps 1600, Score: -173.93, Avg.Score: -175.76, Time: 03:11:06 \n"
     ]
    },
    {
     "name": "stderr",
     "output_type": "stream",
     "text": [
      " 36%|███▌      | 712/2000 [3:11:14<7:16:09, 20.32s/it]"
     ]
    },
    {
     "name": "stdout",
     "output_type": "stream",
     "text": [
      "Ep. 713, Timestep 910522,  Ep.Timesteps 1600, Score: -173.53, Avg.Score: -175.69, Time: 03:11:27 \n"
     ]
    },
    {
     "name": "stderr",
     "output_type": "stream",
     "text": [
      " 36%|███▌      | 713/2000 [3:11:36<7:22:14, 20.62s/it]"
     ]
    },
    {
     "name": "stdout",
     "output_type": "stream",
     "text": [
      "Ep. 714, Timestep 912122,  Ep.Timesteps 1600, Score: -174.14, Avg.Score: -175.62, Time: 03:11:46 \n"
     ]
    },
    {
     "name": "stderr",
     "output_type": "stream",
     "text": [
      " 36%|███▌      | 714/2000 [3:11:56<7:22:43, 20.66s/it]"
     ]
    },
    {
     "name": "stdout",
     "output_type": "stream",
     "text": [
      "Ep. 715, Timestep 913722,  Ep.Timesteps 1600, Score: -173.45, Avg.Score: -175.58, Time: 03:12:07 \n"
     ]
    },
    {
     "name": "stderr",
     "output_type": "stream",
     "text": [
      " 36%|███▌      | 715/2000 [3:12:17<7:21:46, 20.63s/it]"
     ]
    },
    {
     "name": "stdout",
     "output_type": "stream",
     "text": [
      "Ep. 716, Timestep 915322,  Ep.Timesteps 1600, Score: -174.02, Avg.Score: -175.56, Time: 03:12:28 \n"
     ]
    },
    {
     "name": "stderr",
     "output_type": "stream",
     "text": [
      " 36%|███▌      | 716/2000 [3:12:37<7:19:12, 20.52s/it]"
     ]
    },
    {
     "name": "stdout",
     "output_type": "stream",
     "text": [
      "Ep. 717, Timestep 916922,  Ep.Timesteps 1600, Score: -173.90, Avg.Score: -175.54, Time: 03:12:48 \n"
     ]
    },
    {
     "name": "stderr",
     "output_type": "stream",
     "text": [
      " 36%|███▌      | 717/2000 [3:12:58<7:18:12, 20.49s/it]"
     ]
    },
    {
     "name": "stdout",
     "output_type": "stream",
     "text": [
      "Ep. 718, Timestep 918522,  Ep.Timesteps 1600, Score: -177.16, Avg.Score: -175.52, Time: 03:13:08 \n"
     ]
    },
    {
     "name": "stderr",
     "output_type": "stream",
     "text": [
      " 36%|███▌      | 718/2000 [3:13:17<7:13:08, 20.27s/it]"
     ]
    },
    {
     "name": "stdout",
     "output_type": "stream",
     "text": [
      "Ep. 719, Timestep 920122,  Ep.Timesteps 1600, Score: -173.78, Avg.Score: -175.52, Time: 03:13:28 \n"
     ]
    },
    {
     "name": "stderr",
     "output_type": "stream",
     "text": [
      " 36%|███▌      | 719/2000 [3:13:38<7:11:49, 20.23s/it]"
     ]
    },
    {
     "name": "stdout",
     "output_type": "stream",
     "text": [
      "Ep. 720, Timestep 921722,  Ep.Timesteps 1600, Score: -173.44, Avg.Score: -175.51, Time: 03:13:49 \n"
     ]
    },
    {
     "name": "stderr",
     "output_type": "stream",
     "text": [
      " 36%|███▌      | 720/2000 [3:13:58<7:10:45, 20.19s/it]"
     ]
    },
    {
     "name": "stdout",
     "output_type": "stream",
     "text": [
      "Ep. 721, Timestep 923322,  Ep.Timesteps 1600, Score: -180.24, Avg.Score: -175.58, Time: 03:14:09 \n"
     ]
    },
    {
     "name": "stderr",
     "output_type": "stream",
     "text": [
      " 36%|███▌      | 721/2000 [3:14:19<7:14:22, 20.38s/it]"
     ]
    },
    {
     "name": "stdout",
     "output_type": "stream",
     "text": [
      "Ep. 722, Timestep 924922,  Ep.Timesteps 1600, Score: -173.87, Avg.Score: -175.58, Time: 03:14:29 \n"
     ]
    },
    {
     "name": "stderr",
     "output_type": "stream",
     "text": [
      " 36%|███▌      | 722/2000 [3:14:38<7:08:26, 20.11s/it]"
     ]
    },
    {
     "name": "stdout",
     "output_type": "stream",
     "text": [
      "Ep. 723, Timestep 926522,  Ep.Timesteps 1600, Score: -181.66, Avg.Score: -175.66, Time: 03:14:50 \n"
     ]
    },
    {
     "name": "stderr",
     "output_type": "stream",
     "text": [
      " 36%|███▌      | 723/2000 [3:14:58<7:10:19, 20.22s/it]"
     ]
    },
    {
     "name": "stdout",
     "output_type": "stream",
     "text": [
      "Ep. 724, Timestep 928122,  Ep.Timesteps 1600, Score: -181.55, Avg.Score: -175.73, Time: 03:15:11 \n"
     ]
    },
    {
     "name": "stderr",
     "output_type": "stream",
     "text": [
      " 36%|███▌      | 724/2000 [3:15:19<7:14:03, 20.41s/it]"
     ]
    },
    {
     "name": "stdout",
     "output_type": "stream",
     "text": [
      "Ep. 725, Timestep 929722,  Ep.Timesteps 1600, Score: -181.40, Avg.Score: -175.81, Time: 03:15:31 \n"
     ]
    },
    {
     "name": "stderr",
     "output_type": "stream",
     "text": [
      " 36%|███▋      | 725/2000 [3:15:40<7:18:24, 20.63s/it]"
     ]
    },
    {
     "name": "stdout",
     "output_type": "stream",
     "text": [
      "Ep. 726, Timestep 931322,  Ep.Timesteps 1600, Score: -175.32, Avg.Score: -175.83, Time: 03:15:52 \n"
     ]
    },
    {
     "name": "stderr",
     "output_type": "stream",
     "text": [
      " 36%|███▋      | 726/2000 [3:16:02<7:20:40, 20.75s/it]"
     ]
    },
    {
     "name": "stdout",
     "output_type": "stream",
     "text": [
      "Ep. 727, Timestep 932922,  Ep.Timesteps 1600, Score: -175.91, Avg.Score: -175.85, Time: 03:16:12 \n"
     ]
    },
    {
     "name": "stderr",
     "output_type": "stream",
     "text": [
      " 36%|███▋      | 727/2000 [3:16:22<7:15:51, 20.54s/it]"
     ]
    },
    {
     "name": "stdout",
     "output_type": "stream",
     "text": [
      "Ep. 728, Timestep 934522,  Ep.Timesteps 1600, Score: -180.42, Avg.Score: -175.92, Time: 03:16:32 \n"
     ]
    },
    {
     "name": "stderr",
     "output_type": "stream",
     "text": [
      " 36%|███▋      | 728/2000 [3:16:42<7:13:08, 20.43s/it]"
     ]
    },
    {
     "name": "stdout",
     "output_type": "stream",
     "text": [
      "Ep. 729, Timestep 936122,  Ep.Timesteps 1600, Score: -183.44, Avg.Score: -176.01, Time: 03:16:52 \n"
     ]
    },
    {
     "name": "stderr",
     "output_type": "stream",
     "text": [
      " 36%|███▋      | 729/2000 [3:17:03<7:15:37, 20.56s/it]"
     ]
    },
    {
     "name": "stdout",
     "output_type": "stream",
     "text": [
      "Ep. 730, Timestep 937722,  Ep.Timesteps 1600, Score: -180.35, Avg.Score: -176.08, Time: 03:17:12 \n"
     ]
    },
    {
     "name": "stderr",
     "output_type": "stream",
     "text": [
      " 36%|███▋      | 730/2000 [3:17:22<7:09:01, 20.27s/it]"
     ]
    },
    {
     "name": "stdout",
     "output_type": "stream",
     "text": [
      "Ep. 731, Timestep 939322,  Ep.Timesteps 1600, Score: -179.89, Avg.Score: -176.14, Time: 03:17:34 \n"
     ]
    },
    {
     "name": "stderr",
     "output_type": "stream",
     "text": [
      " 37%|███▋      | 731/2000 [3:17:43<7:14:35, 20.55s/it]"
     ]
    },
    {
     "name": "stdout",
     "output_type": "stream",
     "text": [
      "Ep. 732, Timestep 940922,  Ep.Timesteps 1600, Score: -175.18, Avg.Score: -176.16, Time: 03:17:55 \n"
     ]
    },
    {
     "name": "stderr",
     "output_type": "stream",
     "text": [
      " 37%|███▋      | 732/2000 [3:18:04<7:15:15, 20.60s/it]"
     ]
    },
    {
     "name": "stdout",
     "output_type": "stream",
     "text": [
      "Ep. 733, Timestep 942522,  Ep.Timesteps 1600, Score: -175.36, Avg.Score: -176.18, Time: 03:18:14 \n"
     ]
    },
    {
     "name": "stderr",
     "output_type": "stream",
     "text": [
      " 37%|███▋      | 733/2000 [3:18:25<7:15:12, 20.61s/it]"
     ]
    },
    {
     "name": "stdout",
     "output_type": "stream",
     "text": [
      "Ep. 734, Timestep 944122,  Ep.Timesteps 1600, Score: -176.03, Avg.Score: -176.20, Time: 03:18:35 \n"
     ]
    },
    {
     "name": "stderr",
     "output_type": "stream",
     "text": [
      " 37%|███▋      | 734/2000 [3:18:45<7:10:41, 20.41s/it]"
     ]
    },
    {
     "name": "stdout",
     "output_type": "stream",
     "text": [
      "Ep. 735, Timestep 945722,  Ep.Timesteps 1600, Score: -180.40, Avg.Score: -176.26, Time: 03:18:56 \n"
     ]
    },
    {
     "name": "stderr",
     "output_type": "stream",
     "text": [
      " 37%|███▋      | 735/2000 [3:19:05<7:06:37, 20.23s/it]"
     ]
    },
    {
     "name": "stdout",
     "output_type": "stream",
     "text": [
      "Ep. 736, Timestep 947322,  Ep.Timesteps 1600, Score: -181.40, Avg.Score: -176.35, Time: 03:19:17 \n"
     ]
    },
    {
     "name": "stderr",
     "output_type": "stream",
     "text": [
      " 37%|███▋      | 736/2000 [3:19:25<7:09:33, 20.39s/it]"
     ]
    },
    {
     "name": "stdout",
     "output_type": "stream",
     "text": [
      "Ep. 737, Timestep 948922,  Ep.Timesteps 1600, Score: -180.10, Avg.Score: -176.36, Time: 03:19:37 \n"
     ]
    },
    {
     "name": "stderr",
     "output_type": "stream",
     "text": [
      " 37%|███▋      | 737/2000 [3:19:46<7:13:02, 20.57s/it]"
     ]
    },
    {
     "name": "stdout",
     "output_type": "stream",
     "text": [
      "Ep. 738, Timestep 950522,  Ep.Timesteps 1600, Score: -176.02, Avg.Score: -176.39, Time: 03:19:57 \n"
     ]
    },
    {
     "name": "stderr",
     "output_type": "stream",
     "text": [
      " 37%|███▋      | 738/2000 [3:20:07<7:10:49, 20.48s/it]"
     ]
    },
    {
     "name": "stdout",
     "output_type": "stream",
     "text": [
      "Ep. 739, Timestep 952122,  Ep.Timesteps 1600, Score: -175.84, Avg.Score: -176.40, Time: 03:20:18 \n"
     ]
    },
    {
     "name": "stderr",
     "output_type": "stream",
     "text": [
      " 37%|███▋      | 739/2000 [3:20:28<7:13:59, 20.65s/it]"
     ]
    },
    {
     "name": "stdout",
     "output_type": "stream",
     "text": [
      "Ep. 740, Timestep 953722,  Ep.Timesteps 1600, Score: -179.99, Avg.Score: -176.47, Time: 03:20:38 \n"
     ]
    },
    {
     "name": "stderr",
     "output_type": "stream",
     "text": [
      " 37%|███▋      | 740/2000 [3:20:48<7:10:16, 20.49s/it]"
     ]
    },
    {
     "name": "stdout",
     "output_type": "stream",
     "text": [
      "Ep. 741, Timestep 955322,  Ep.Timesteps 1600, Score: -174.89, Avg.Score: -176.48, Time: 03:20:58 \n"
     ]
    },
    {
     "name": "stderr",
     "output_type": "stream",
     "text": [
      " 37%|███▋      | 741/2000 [3:21:08<7:10:55, 20.54s/it]"
     ]
    },
    {
     "name": "stdout",
     "output_type": "stream",
     "text": [
      "Ep. 742, Timestep 956922,  Ep.Timesteps 1600, Score: -174.09, Avg.Score: -176.48, Time: 03:21:19 \n"
     ]
    },
    {
     "name": "stderr",
     "output_type": "stream",
     "text": [
      " 37%|███▋      | 742/2000 [3:21:28<7:05:46, 20.31s/it]"
     ]
    },
    {
     "name": "stdout",
     "output_type": "stream",
     "text": [
      "Ep. 743, Timestep 958522,  Ep.Timesteps 1600, Score: -173.41, Avg.Score: -176.40, Time: 03:21:38 \n"
     ]
    },
    {
     "name": "stderr",
     "output_type": "stream",
     "text": [
      " 37%|███▋      | 743/2000 [3:21:46<6:48:26, 19.50s/it]"
     ]
    },
    {
     "name": "stdout",
     "output_type": "stream",
     "text": [
      "Ep. 744, Timestep 960122,  Ep.Timesteps 1600, Score: -173.83, Avg.Score: -176.33, Time: 03:21:55 \n"
     ]
    },
    {
     "name": "stderr",
     "output_type": "stream",
     "text": [
      " 37%|███▋      | 744/2000 [3:22:03<6:34:14, 18.83s/it]"
     ]
    },
    {
     "name": "stdout",
     "output_type": "stream",
     "text": [
      "Ep. 745, Timestep 961722,  Ep.Timesteps 1600, Score: -173.90, Avg.Score: -176.25, Time: 03:22:11 \n"
     ]
    },
    {
     "name": "stderr",
     "output_type": "stream",
     "text": [
      " 37%|███▋      | 745/2000 [3:22:19<6:18:44, 18.11s/it]"
     ]
    },
    {
     "name": "stdout",
     "output_type": "stream",
     "text": [
      "Ep. 746, Timestep 963322,  Ep.Timesteps 1600, Score: -173.51, Avg.Score: -176.19, Time: 03:22:28 \n"
     ]
    },
    {
     "name": "stderr",
     "output_type": "stream",
     "text": [
      " 37%|███▋      | 746/2000 [3:22:36<6:08:07, 17.61s/it]"
     ]
    },
    {
     "name": "stdout",
     "output_type": "stream",
     "text": [
      "Ep. 747, Timestep 964922,  Ep.Timesteps 1600, Score: -173.54, Avg.Score: -176.16, Time: 03:22:46 \n"
     ]
    },
    {
     "name": "stderr",
     "output_type": "stream",
     "text": [
      " 37%|███▋      | 747/2000 [3:22:53<6:03:49, 17.42s/it]"
     ]
    },
    {
     "name": "stdout",
     "output_type": "stream",
     "text": [
      "Ep. 748, Timestep 966522,  Ep.Timesteps 1600, Score: -173.43, Avg.Score: -176.09, Time: 03:23:03 \n"
     ]
    },
    {
     "name": "stderr",
     "output_type": "stream",
     "text": [
      " 37%|███▋      | 748/2000 [3:23:11<6:06:48, 17.58s/it]"
     ]
    },
    {
     "name": "stdout",
     "output_type": "stream",
     "text": [
      "Ep. 749, Timestep 968122,  Ep.Timesteps 1600, Score: -173.70, Avg.Score: -176.01, Time: 03:23:20 \n"
     ]
    },
    {
     "name": "stderr",
     "output_type": "stream",
     "text": [
      " 37%|███▋      | 749/2000 [3:23:28<6:03:04, 17.41s/it]"
     ]
    },
    {
     "name": "stdout",
     "output_type": "stream",
     "text": [
      "Ep. 750, Timestep 969722,  Ep.Timesteps 1600, Score: -173.81, Avg.Score: -176.00, Time: 03:23:37 \n"
     ]
    },
    {
     "name": "stderr",
     "output_type": "stream",
     "text": [
      " 38%|███▊      | 750/2000 [3:23:44<5:57:50, 17.18s/it]"
     ]
    },
    {
     "name": "stdout",
     "output_type": "stream",
     "text": [
      "Ep. 751, Timestep 971322,  Ep.Timesteps 1600, Score: -173.51, Avg.Score: -175.96, Time: 03:23:53 \n"
     ]
    },
    {
     "name": "stderr",
     "output_type": "stream",
     "text": [
      " 38%|███▊      | 751/2000 [3:24:01<5:54:09, 17.01s/it]"
     ]
    },
    {
     "name": "stdout",
     "output_type": "stream",
     "text": [
      "Ep. 752, Timestep 972922,  Ep.Timesteps 1600, Score: -173.56, Avg.Score: -175.88, Time: 03:24:10 \n"
     ]
    },
    {
     "name": "stderr",
     "output_type": "stream",
     "text": [
      " 38%|███▊      | 752/2000 [3:24:18<5:53:16, 16.98s/it]"
     ]
    },
    {
     "name": "stdout",
     "output_type": "stream",
     "text": [
      "Ep. 753, Timestep 974522,  Ep.Timesteps 1600, Score: -173.45, Avg.Score: -175.81, Time: 03:24:27 \n"
     ]
    },
    {
     "name": "stderr",
     "output_type": "stream",
     "text": [
      " 38%|███▊      | 753/2000 [3:24:35<5:50:34, 16.87s/it]"
     ]
    },
    {
     "name": "stdout",
     "output_type": "stream",
     "text": [
      "Ep. 754, Timestep 976122,  Ep.Timesteps 1600, Score: -173.99, Avg.Score: -175.79, Time: 03:24:44 \n"
     ]
    },
    {
     "name": "stderr",
     "output_type": "stream",
     "text": [
      " 38%|███▊      | 754/2000 [3:24:51<5:49:51, 16.85s/it]"
     ]
    },
    {
     "name": "stdout",
     "output_type": "stream",
     "text": [
      "Ep. 755, Timestep 977722,  Ep.Timesteps 1600, Score: -173.42, Avg.Score: -175.70, Time: 03:25:00 \n"
     ]
    },
    {
     "name": "stderr",
     "output_type": "stream",
     "text": [
      " 38%|███▊      | 755/2000 [3:25:09<5:53:03, 17.01s/it]"
     ]
    },
    {
     "name": "stdout",
     "output_type": "stream",
     "text": [
      "Ep. 756, Timestep 979322,  Ep.Timesteps 1600, Score: -173.98, Avg.Score: -175.68, Time: 03:25:17 \n"
     ]
    },
    {
     "name": "stderr",
     "output_type": "stream",
     "text": [
      " 38%|███▊      | 756/2000 [3:25:25<5:47:46, 16.77s/it]"
     ]
    },
    {
     "name": "stdout",
     "output_type": "stream",
     "text": [
      "Ep. 757, Timestep 980922,  Ep.Timesteps 1600, Score: -179.30, Avg.Score: -175.69, Time: 03:25:35 \n"
     ]
    },
    {
     "name": "stderr",
     "output_type": "stream",
     "text": [
      " 38%|███▊      | 757/2000 [3:25:42<5:45:59, 16.70s/it]"
     ]
    },
    {
     "name": "stdout",
     "output_type": "stream",
     "text": [
      "Ep. 758, Timestep 982522,  Ep.Timesteps 1600, Score: -173.97, Avg.Score: -176.22, Time: 03:25:52 \n"
     ]
    },
    {
     "name": "stderr",
     "output_type": "stream",
     "text": [
      " 38%|███▊      | 758/2000 [3:25:59<5:49:02, 16.86s/it]"
     ]
    },
    {
     "name": "stdout",
     "output_type": "stream",
     "text": [
      "Ep. 759, Timestep 984122,  Ep.Timesteps 1600, Score: -173.34, Avg.Score: -176.14, Time: 03:26:08 \n"
     ]
    },
    {
     "name": "stderr",
     "output_type": "stream",
     "text": [
      " 38%|███▊      | 759/2000 [3:26:16<5:52:20, 17.04s/it]"
     ]
    },
    {
     "name": "stdout",
     "output_type": "stream",
     "text": [
      "Ep. 760, Timestep 985722,  Ep.Timesteps 1600, Score: -173.98, Avg.Score: -176.14, Time: 03:26:26 \n"
     ]
    },
    {
     "name": "stderr",
     "output_type": "stream",
     "text": [
      " 38%|███▊      | 760/2000 [3:26:33<5:49:47, 16.93s/it]"
     ]
    },
    {
     "name": "stdout",
     "output_type": "stream",
     "text": [
      "Ep. 761, Timestep 987322,  Ep.Timesteps 1600, Score: -173.42, Avg.Score: -176.14, Time: 03:26:42 \n"
     ]
    },
    {
     "name": "stderr",
     "output_type": "stream",
     "text": [
      " 38%|███▊      | 761/2000 [3:26:49<5:46:09, 16.76s/it]"
     ]
    },
    {
     "name": "stdout",
     "output_type": "stream",
     "text": [
      "Ep. 762, Timestep 988922,  Ep.Timesteps 1600, Score: -173.48, Avg.Score: -176.14, Time: 03:26:58 \n"
     ]
    },
    {
     "name": "stderr",
     "output_type": "stream",
     "text": [
      " 38%|███▊      | 762/2000 [3:27:06<5:45:51, 16.76s/it]"
     ]
    },
    {
     "name": "stdout",
     "output_type": "stream",
     "text": [
      "Ep. 763, Timestep 990522,  Ep.Timesteps 1600, Score: -176.97, Avg.Score: -176.17, Time: 03:27:15 \n"
     ]
    },
    {
     "name": "stderr",
     "output_type": "stream",
     "text": [
      " 38%|███▊      | 763/2000 [3:27:22<5:43:31, 16.66s/it]"
     ]
    },
    {
     "name": "stdout",
     "output_type": "stream",
     "text": [
      "Ep. 764, Timestep 992122,  Ep.Timesteps 1600, Score: -175.53, Avg.Score: -176.12, Time: 03:27:32 \n"
     ]
    },
    {
     "name": "stderr",
     "output_type": "stream",
     "text": [
      " 38%|███▊      | 764/2000 [3:27:39<5:42:06, 16.61s/it]"
     ]
    },
    {
     "name": "stdout",
     "output_type": "stream",
     "text": [
      "Ep. 765, Timestep 993722,  Ep.Timesteps 1600, Score: -180.17, Avg.Score: -176.19, Time: 03:27:49 \n"
     ]
    },
    {
     "name": "stderr",
     "output_type": "stream",
     "text": [
      " 38%|███▊      | 765/2000 [3:27:57<5:51:37, 17.08s/it]"
     ]
    },
    {
     "name": "stdout",
     "output_type": "stream",
     "text": [
      "Ep. 766, Timestep 995322,  Ep.Timesteps 1600, Score: -175.92, Avg.Score: -176.21, Time: 03:28:06 \n"
     ]
    },
    {
     "name": "stderr",
     "output_type": "stream",
     "text": [
      " 38%|███▊      | 766/2000 [3:28:14<5:50:36, 17.05s/it]"
     ]
    },
    {
     "name": "stdout",
     "output_type": "stream",
     "text": [
      "Ep. 767, Timestep 996922,  Ep.Timesteps 1600, Score: -181.51, Avg.Score: -176.20, Time: 03:28:23 \n"
     ]
    },
    {
     "name": "stderr",
     "output_type": "stream",
     "text": [
      " 38%|███▊      | 767/2000 [3:28:31<5:46:36, 16.87s/it]"
     ]
    },
    {
     "name": "stdout",
     "output_type": "stream",
     "text": [
      "Ep. 768, Timestep 998522,  Ep.Timesteps 1600, Score: -180.14, Avg.Score: -176.26, Time: 03:28:40 \n"
     ]
    },
    {
     "name": "stderr",
     "output_type": "stream",
     "text": [
      " 38%|███▊      | 768/2000 [3:28:48<5:48:08, 16.95s/it]"
     ]
    },
    {
     "name": "stdout",
     "output_type": "stream",
     "text": [
      "Ep. 769, Timestep 1000122,  Ep.Timesteps 1600, Score: -174.54, Avg.Score: -176.27, Time: 03:28:58 \n"
     ]
    },
    {
     "name": "stderr",
     "output_type": "stream",
     "text": [
      " 38%|███▊      | 769/2000 [3:29:06<5:53:48, 17.24s/it]"
     ]
    },
    {
     "name": "stdout",
     "output_type": "stream",
     "text": [
      "Ep. 770, Timestep 1001722,  Ep.Timesteps 1600, Score: -176.25, Avg.Score: -176.30, Time: 03:29:15 \n"
     ]
    },
    {
     "name": "stderr",
     "output_type": "stream",
     "text": [
      " 38%|███▊      | 770/2000 [3:29:23<5:52:43, 17.21s/it]"
     ]
    },
    {
     "name": "stdout",
     "output_type": "stream",
     "text": [
      "Ep. 771, Timestep 1003322,  Ep.Timesteps 1600, Score: -181.53, Avg.Score: -176.38, Time: 03:29:32 \n"
     ]
    },
    {
     "name": "stderr",
     "output_type": "stream",
     "text": [
      " 39%|███▊      | 771/2000 [3:29:40<5:53:09, 17.24s/it]"
     ]
    },
    {
     "name": "stdout",
     "output_type": "stream",
     "text": [
      "Ep. 772, Timestep 1004922,  Ep.Timesteps 1600, Score: -179.45, Avg.Score: -176.44, Time: 03:29:49 \n"
     ]
    },
    {
     "name": "stderr",
     "output_type": "stream",
     "text": [
      " 39%|███▊      | 772/2000 [3:29:57<5:52:25, 17.22s/it]"
     ]
    },
    {
     "name": "stdout",
     "output_type": "stream",
     "text": [
      "Ep. 773, Timestep 1006522,  Ep.Timesteps 1600, Score: -180.43, Avg.Score: -176.41, Time: 03:30:06 \n"
     ]
    },
    {
     "name": "stderr",
     "output_type": "stream",
     "text": [
      " 39%|███▊      | 773/2000 [3:30:14<5:52:10, 17.22s/it]"
     ]
    },
    {
     "name": "stdout",
     "output_type": "stream",
     "text": [
      "Ep. 774, Timestep 1008122,  Ep.Timesteps 1600, Score: -179.74, Avg.Score: -176.47, Time: 03:30:24 \n"
     ]
    },
    {
     "name": "stderr",
     "output_type": "stream",
     "text": [
      " 39%|███▊      | 774/2000 [3:30:32<5:52:30, 17.25s/it]"
     ]
    },
    {
     "name": "stdout",
     "output_type": "stream",
     "text": [
      "Ep. 775, Timestep 1009722,  Ep.Timesteps 1600, Score: -178.89, Avg.Score: -176.52, Time: 03:30:40 \n"
     ]
    },
    {
     "name": "stderr",
     "output_type": "stream",
     "text": [
      " 39%|███▉      | 775/2000 [3:30:48<5:46:23, 16.97s/it]"
     ]
    },
    {
     "name": "stdout",
     "output_type": "stream",
     "text": [
      "Ep. 776, Timestep 1011322,  Ep.Timesteps 1600, Score: -181.73, Avg.Score: -176.52, Time: 03:30:57 \n"
     ]
    },
    {
     "name": "stderr",
     "output_type": "stream",
     "text": [
      " 39%|███▉      | 776/2000 [3:31:05<5:48:13, 17.07s/it]"
     ]
    },
    {
     "name": "stdout",
     "output_type": "stream",
     "text": [
      "Ep. 777, Timestep 1012922,  Ep.Timesteps 1600, Score: -175.37, Avg.Score: -176.54, Time: 03:31:14 \n"
     ]
    },
    {
     "name": "stderr",
     "output_type": "stream",
     "text": [
      " 39%|███▉      | 777/2000 [3:31:22<5:46:32, 17.00s/it]"
     ]
    },
    {
     "name": "stdout",
     "output_type": "stream",
     "text": [
      "Ep. 778, Timestep 1014522,  Ep.Timesteps 1600, Score: -177.91, Avg.Score: -176.59, Time: 03:31:31 \n"
     ]
    },
    {
     "name": "stderr",
     "output_type": "stream",
     "text": [
      " 39%|███▉      | 778/2000 [3:31:40<5:47:54, 17.08s/it]"
     ]
    },
    {
     "name": "stdout",
     "output_type": "stream",
     "text": [
      "Ep. 779, Timestep 1016122,  Ep.Timesteps 1600, Score: -178.90, Avg.Score: -176.64, Time: 03:31:49 \n"
     ]
    },
    {
     "name": "stderr",
     "output_type": "stream",
     "text": [
      " 39%|███▉      | 779/2000 [3:31:56<5:46:58, 17.05s/it]"
     ]
    },
    {
     "name": "stdout",
     "output_type": "stream",
     "text": [
      "Ep. 780, Timestep 1017722,  Ep.Timesteps 1600, Score: -176.04, Avg.Score: -176.66, Time: 03:32:07 \n"
     ]
    },
    {
     "name": "stderr",
     "output_type": "stream",
     "text": [
      " 39%|███▉      | 780/2000 [3:32:14<5:49:13, 17.17s/it]"
     ]
    },
    {
     "name": "stdout",
     "output_type": "stream",
     "text": [
      "Ep. 781, Timestep 1019322,  Ep.Timesteps 1600, Score: -179.49, Avg.Score: -176.71, Time: 03:32:24 \n"
     ]
    },
    {
     "name": "stderr",
     "output_type": "stream",
     "text": [
      " 39%|███▉      | 781/2000 [3:32:32<5:53:00, 17.37s/it]"
     ]
    },
    {
     "name": "stdout",
     "output_type": "stream",
     "text": [
      "Ep. 782, Timestep 1020922,  Ep.Timesteps 1600, Score: -179.33, Avg.Score: -176.73, Time: 03:32:42 \n"
     ]
    },
    {
     "name": "stderr",
     "output_type": "stream",
     "text": [
      " 39%|███▉      | 782/2000 [3:32:50<5:54:54, 17.48s/it]"
     ]
    },
    {
     "name": "stdout",
     "output_type": "stream",
     "text": [
      "Ep. 783, Timestep 1022522,  Ep.Timesteps 1600, Score: -173.96, Avg.Score: -176.69, Time: 03:32:58 \n"
     ]
    },
    {
     "name": "stderr",
     "output_type": "stream",
     "text": [
      " 39%|███▉      | 783/2000 [3:33:06<5:51:06, 17.31s/it]"
     ]
    },
    {
     "name": "stdout",
     "output_type": "stream",
     "text": [
      "Ep. 784, Timestep 1024122,  Ep.Timesteps 1600, Score: -173.57, Avg.Score: -176.65, Time: 03:33:15 \n"
     ]
    },
    {
     "name": "stderr",
     "output_type": "stream",
     "text": [
      " 39%|███▉      | 784/2000 [3:33:23<5:46:05, 17.08s/it]"
     ]
    },
    {
     "name": "stdout",
     "output_type": "stream",
     "text": [
      "Ep. 785, Timestep 1025722,  Ep.Timesteps 1600, Score: -173.63, Avg.Score: -176.65, Time: 03:33:32 \n"
     ]
    },
    {
     "name": "stderr",
     "output_type": "stream",
     "text": [
      " 39%|███▉      | 785/2000 [3:33:40<5:44:52, 17.03s/it]"
     ]
    },
    {
     "name": "stdout",
     "output_type": "stream",
     "text": [
      "Ep. 786, Timestep 1027322,  Ep.Timesteps 1600, Score: -173.40, Avg.Score: -176.60, Time: 03:33:49 \n"
     ]
    },
    {
     "name": "stderr",
     "output_type": "stream",
     "text": [
      " 39%|███▉      | 786/2000 [3:33:57<5:47:49, 17.19s/it]"
     ]
    },
    {
     "name": "stdout",
     "output_type": "stream",
     "text": [
      "Ep. 787, Timestep 1028922,  Ep.Timesteps 1600, Score: -173.47, Avg.Score: -176.52, Time: 03:34:06 \n"
     ]
    },
    {
     "name": "stderr",
     "output_type": "stream",
     "text": [
      " 39%|███▉      | 787/2000 [3:34:15<5:47:22, 17.18s/it]"
     ]
    },
    {
     "name": "stdout",
     "output_type": "stream",
     "text": [
      "Ep. 788, Timestep 1030522,  Ep.Timesteps 1600, Score: -173.69, Avg.Score: -176.51, Time: 03:34:23 \n"
     ]
    },
    {
     "name": "stderr",
     "output_type": "stream",
     "text": [
      " 39%|███▉      | 788/2000 [3:34:31<5:44:02, 17.03s/it]"
     ]
    },
    {
     "name": "stdout",
     "output_type": "stream",
     "text": [
      "Ep. 789, Timestep 1032122,  Ep.Timesteps 1600, Score: -173.64, Avg.Score: -176.43, Time: 03:34:41 \n"
     ]
    },
    {
     "name": "stderr",
     "output_type": "stream",
     "text": [
      " 39%|███▉      | 789/2000 [3:34:48<5:43:54, 17.04s/it]"
     ]
    },
    {
     "name": "stdout",
     "output_type": "stream",
     "text": [
      "Ep. 790, Timestep 1033722,  Ep.Timesteps 1600, Score: -173.82, Avg.Score: -176.34, Time: 03:34:58 \n"
     ]
    },
    {
     "name": "stderr",
     "output_type": "stream",
     "text": [
      " 40%|███▉      | 790/2000 [3:35:06<5:48:27, 17.28s/it]"
     ]
    },
    {
     "name": "stdout",
     "output_type": "stream",
     "text": [
      "Ep. 791, Timestep 1035322,  Ep.Timesteps 1600, Score: -180.62, Avg.Score: -176.34, Time: 03:35:15 \n"
     ]
    },
    {
     "name": "stderr",
     "output_type": "stream",
     "text": [
      " 40%|███▉      | 791/2000 [3:35:23<5:45:35, 17.15s/it]"
     ]
    },
    {
     "name": "stdout",
     "output_type": "stream",
     "text": [
      "Ep. 792, Timestep 1036922,  Ep.Timesteps 1600, Score: -173.42, Avg.Score: -176.31, Time: 03:35:33 \n"
     ]
    },
    {
     "name": "stderr",
     "output_type": "stream",
     "text": [
      " 40%|███▉      | 792/2000 [3:35:41<5:47:18, 17.25s/it]"
     ]
    },
    {
     "name": "stdout",
     "output_type": "stream",
     "text": [
      "Ep. 793, Timestep 1038522,  Ep.Timesteps 1600, Score: -173.94, Avg.Score: -176.29, Time: 03:35:50 \n"
     ]
    },
    {
     "name": "stderr",
     "output_type": "stream",
     "text": [
      " 40%|███▉      | 793/2000 [3:35:58<5:47:59, 17.30s/it]"
     ]
    },
    {
     "name": "stdout",
     "output_type": "stream",
     "text": [
      "Ep. 794, Timestep 1040122,  Ep.Timesteps 1600, Score: -173.89, Avg.Score: -176.23, Time: 03:36:07 \n"
     ]
    },
    {
     "name": "stderr",
     "output_type": "stream",
     "text": [
      " 40%|███▉      | 794/2000 [3:36:15<5:47:38, 17.30s/it]"
     ]
    },
    {
     "name": "stdout",
     "output_type": "stream",
     "text": [
      "Ep. 795, Timestep 1041722,  Ep.Timesteps 1600, Score: -180.46, Avg.Score: -176.22, Time: 03:36:24 \n"
     ]
    },
    {
     "name": "stderr",
     "output_type": "stream",
     "text": [
      " 40%|███▉      | 795/2000 [3:36:33<5:49:34, 17.41s/it]"
     ]
    },
    {
     "name": "stdout",
     "output_type": "stream",
     "text": [
      "Ep. 796, Timestep 1043322,  Ep.Timesteps 1600, Score: -174.06, Avg.Score: -176.21, Time: 03:36:41 \n"
     ]
    },
    {
     "name": "stderr",
     "output_type": "stream",
     "text": [
      " 40%|███▉      | 796/2000 [3:36:50<5:46:01, 17.24s/it]"
     ]
    },
    {
     "name": "stdout",
     "output_type": "stream",
     "text": [
      "Ep. 797, Timestep 1044922,  Ep.Timesteps 1600, Score: -173.60, Avg.Score: -176.12, Time: 03:36:59 \n"
     ]
    },
    {
     "name": "stderr",
     "output_type": "stream",
     "text": [
      " 40%|███▉      | 797/2000 [3:37:07<5:44:52, 17.20s/it]"
     ]
    },
    {
     "name": "stdout",
     "output_type": "stream",
     "text": [
      "Ep. 798, Timestep 1046522,  Ep.Timesteps 1600, Score: -173.35, Avg.Score: -176.08, Time: 03:37:16 \n"
     ]
    },
    {
     "name": "stderr",
     "output_type": "stream",
     "text": [
      " 40%|███▉      | 798/2000 [3:37:24<5:43:57, 17.17s/it]"
     ]
    },
    {
     "name": "stdout",
     "output_type": "stream",
     "text": [
      "Ep. 799, Timestep 1048122,  Ep.Timesteps 1600, Score: -173.60, Avg.Score: -176.01, Time: 03:37:33 \n"
     ]
    },
    {
     "name": "stderr",
     "output_type": "stream",
     "text": [
      " 40%|███▉      | 799/2000 [3:37:41<5:41:59, 17.09s/it]"
     ]
    },
    {
     "name": "stdout",
     "output_type": "stream",
     "text": [
      "Ep. 800, Timestep 1049722,  Ep.Timesteps 1600, Score: -173.56, Avg.Score: -175.97, Time: 03:37:51 \n"
     ]
    },
    {
     "name": "stderr",
     "output_type": "stream",
     "text": [
      " 40%|████      | 800/2000 [3:37:58<5:44:26, 17.22s/it]"
     ]
    },
    {
     "name": "stdout",
     "output_type": "stream",
     "text": [
      "Ep. 801, Timestep 1051322,  Ep.Timesteps 1600, Score: -173.92, Avg.Score: -175.97, Time: 03:38:07 \n"
     ]
    },
    {
     "name": "stderr",
     "output_type": "stream",
     "text": [
      " 40%|████      | 801/2000 [3:38:15<5:41:57, 17.11s/it]"
     ]
    },
    {
     "name": "stdout",
     "output_type": "stream",
     "text": [
      "Ep. 802, Timestep 1052922,  Ep.Timesteps 1600, Score: -173.85, Avg.Score: -175.97, Time: 03:38:25 \n"
     ]
    },
    {
     "name": "stderr",
     "output_type": "stream",
     "text": [
      " 40%|████      | 802/2000 [3:38:33<5:46:22, 17.35s/it]"
     ]
    },
    {
     "name": "stdout",
     "output_type": "stream",
     "text": [
      "Ep. 803, Timestep 1054522,  Ep.Timesteps 1600, Score: -181.47, Avg.Score: -175.97, Time: 03:38:42 \n"
     ]
    },
    {
     "name": "stderr",
     "output_type": "stream",
     "text": [
      " 40%|████      | 803/2000 [3:38:50<5:45:24, 17.31s/it]"
     ]
    },
    {
     "name": "stdout",
     "output_type": "stream",
     "text": [
      "Ep. 804, Timestep 1056122,  Ep.Timesteps 1600, Score: -180.31, Avg.Score: -176.04, Time: 03:38:59 \n"
     ]
    },
    {
     "name": "stderr",
     "output_type": "stream",
     "text": [
      " 40%|████      | 804/2000 [3:39:08<5:45:19, 17.32s/it]"
     ]
    },
    {
     "name": "stdout",
     "output_type": "stream",
     "text": [
      "Ep. 805, Timestep 1057722,  Ep.Timesteps 1600, Score: -181.39, Avg.Score: -176.12, Time: 03:39:16 \n"
     ]
    },
    {
     "name": "stderr",
     "output_type": "stream",
     "text": [
      " 40%|████      | 805/2000 [3:39:25<5:43:26, 17.24s/it]"
     ]
    },
    {
     "name": "stdout",
     "output_type": "stream",
     "text": [
      "Ep. 806, Timestep 1059322,  Ep.Timesteps 1600, Score: -181.39, Avg.Score: -176.19, Time: 03:39:34 \n"
     ]
    },
    {
     "name": "stderr",
     "output_type": "stream",
     "text": [
      " 40%|████      | 806/2000 [3:39:41<5:39:55, 17.08s/it]"
     ]
    },
    {
     "name": "stdout",
     "output_type": "stream",
     "text": [
      "Ep. 807, Timestep 1060922,  Ep.Timesteps 1600, Score: -180.43, Avg.Score: -176.26, Time: 03:39:51 \n"
     ]
    },
    {
     "name": "stderr",
     "output_type": "stream",
     "text": [
      " 40%|████      | 807/2000 [3:39:59<5:42:33, 17.23s/it]"
     ]
    },
    {
     "name": "stdout",
     "output_type": "stream",
     "text": [
      "Ep. 808, Timestep 1062522,  Ep.Timesteps 1600, Score: -175.55, Avg.Score: -176.28, Time: 03:40:08 \n"
     ]
    },
    {
     "name": "stderr",
     "output_type": "stream",
     "text": [
      " 40%|████      | 808/2000 [3:40:16<5:41:45, 17.20s/it]"
     ]
    },
    {
     "name": "stdout",
     "output_type": "stream",
     "text": [
      "Ep. 809, Timestep 1064122,  Ep.Timesteps 1600, Score: -180.16, Avg.Score: -176.35, Time: 03:40:25 \n"
     ]
    },
    {
     "name": "stderr",
     "output_type": "stream",
     "text": [
      " 40%|████      | 809/2000 [3:40:33<5:41:14, 17.19s/it]"
     ]
    },
    {
     "name": "stdout",
     "output_type": "stream",
     "text": [
      "Ep. 810, Timestep 1065722,  Ep.Timesteps 1600, Score: -180.32, Avg.Score: -176.41, Time: 03:40:42 \n"
     ]
    },
    {
     "name": "stderr",
     "output_type": "stream",
     "text": [
      " 40%|████      | 810/2000 [3:40:50<5:36:33, 16.97s/it]"
     ]
    },
    {
     "name": "stdout",
     "output_type": "stream",
     "text": [
      "Ep. 811, Timestep 1067322,  Ep.Timesteps 1600, Score: -176.06, Avg.Score: -176.44, Time: 03:41:00 \n"
     ]
    },
    {
     "name": "stderr",
     "output_type": "stream",
     "text": [
      " 41%|████      | 811/2000 [3:41:07<5:37:04, 17.01s/it]"
     ]
    },
    {
     "name": "stdout",
     "output_type": "stream",
     "text": [
      "Ep. 812, Timestep 1068922,  Ep.Timesteps 1600, Score: -180.26, Avg.Score: -176.50, Time: 03:41:17 \n"
     ]
    },
    {
     "name": "stderr",
     "output_type": "stream",
     "text": [
      " 41%|████      | 812/2000 [3:41:25<5:41:11, 17.23s/it]"
     ]
    },
    {
     "name": "stdout",
     "output_type": "stream",
     "text": [
      "Ep. 813, Timestep 1070522,  Ep.Timesteps 1600, Score: -181.40, Avg.Score: -176.58, Time: 03:41:34 \n"
     ]
    },
    {
     "name": "stderr",
     "output_type": "stream",
     "text": [
      " 41%|████      | 813/2000 [3:41:43<5:44:58, 17.44s/it]"
     ]
    },
    {
     "name": "stdout",
     "output_type": "stream",
     "text": [
      "Ep. 814, Timestep 1072122,  Ep.Timesteps 1600, Score: -175.75, Avg.Score: -176.59, Time: 03:41:51 \n"
     ]
    },
    {
     "name": "stderr",
     "output_type": "stream",
     "text": [
      " 41%|████      | 814/2000 [3:41:59<5:41:27, 17.27s/it]"
     ]
    },
    {
     "name": "stdout",
     "output_type": "stream",
     "text": [
      "Ep. 815, Timestep 1073722,  Ep.Timesteps 1600, Score: -181.20, Avg.Score: -176.67, Time: 03:42:09 \n"
     ]
    },
    {
     "name": "stderr",
     "output_type": "stream",
     "text": [
      " 41%|████      | 815/2000 [3:42:16<5:35:44, 17.00s/it]"
     ]
    },
    {
     "name": "stdout",
     "output_type": "stream",
     "text": [
      "Ep. 816, Timestep 1075322,  Ep.Timesteps 1600, Score: -175.10, Avg.Score: -176.68, Time: 03:42:26 \n"
     ]
    },
    {
     "name": "stderr",
     "output_type": "stream",
     "text": [
      " 41%|████      | 816/2000 [3:42:33<5:35:20, 16.99s/it]"
     ]
    },
    {
     "name": "stdout",
     "output_type": "stream",
     "text": [
      "Ep. 817, Timestep 1076922,  Ep.Timesteps 1600, Score: -175.53, Avg.Score: -176.70, Time: 03:42:42 \n"
     ]
    },
    {
     "name": "stderr",
     "output_type": "stream",
     "text": [
      " 41%|████      | 817/2000 [3:42:50<5:38:30, 17.17s/it]"
     ]
    },
    {
     "name": "stdout",
     "output_type": "stream",
     "text": [
      "Ep. 818, Timestep 1078522,  Ep.Timesteps 1600, Score: -181.87, Avg.Score: -176.75, Time: 03:42:58 \n"
     ]
    },
    {
     "name": "stderr",
     "output_type": "stream",
     "text": [
      " 41%|████      | 818/2000 [3:43:07<5:33:08, 16.91s/it]"
     ]
    },
    {
     "name": "stdout",
     "output_type": "stream",
     "text": [
      "Ep. 819, Timestep 1080122,  Ep.Timesteps 1600, Score: -180.45, Avg.Score: -176.81, Time: 03:43:15 \n"
     ]
    },
    {
     "name": "stderr",
     "output_type": "stream",
     "text": [
      " 41%|████      | 819/2000 [3:43:23<5:27:45, 16.65s/it]"
     ]
    },
    {
     "name": "stdout",
     "output_type": "stream",
     "text": [
      "Ep. 820, Timestep 1081722,  Ep.Timesteps 1600, Score: -181.70, Avg.Score: -176.90, Time: 03:43:32 \n"
     ]
    },
    {
     "name": "stderr",
     "output_type": "stream",
     "text": [
      " 41%|████      | 820/2000 [3:43:40<5:31:55, 16.88s/it]"
     ]
    },
    {
     "name": "stdout",
     "output_type": "stream",
     "text": [
      "Ep. 821, Timestep 1083322,  Ep.Timesteps 1600, Score: -180.90, Avg.Score: -176.90, Time: 03:43:49 \n"
     ]
    },
    {
     "name": "stderr",
     "output_type": "stream",
     "text": [
      " 41%|████      | 821/2000 [3:43:57<5:29:55, 16.79s/it]"
     ]
    },
    {
     "name": "stdout",
     "output_type": "stream",
     "text": [
      "Ep. 822, Timestep 1084922,  Ep.Timesteps 1600, Score: -181.81, Avg.Score: -176.98, Time: 03:44:07 \n"
     ]
    },
    {
     "name": "stderr",
     "output_type": "stream",
     "text": [
      " 41%|████      | 822/2000 [3:44:14<5:29:52, 16.80s/it]"
     ]
    },
    {
     "name": "stdout",
     "output_type": "stream",
     "text": [
      "Ep. 823, Timestep 1086522,  Ep.Timesteps 1600, Score: -180.22, Avg.Score: -176.97, Time: 03:44:23 \n"
     ]
    },
    {
     "name": "stderr",
     "output_type": "stream",
     "text": [
      " 41%|████      | 823/2000 [3:44:31<5:32:30, 16.95s/it]"
     ]
    },
    {
     "name": "stdout",
     "output_type": "stream",
     "text": [
      "Ep. 824, Timestep 1088122,  Ep.Timesteps 1600, Score: -173.87, Avg.Score: -176.89, Time: 03:44:40 \n"
     ]
    },
    {
     "name": "stderr",
     "output_type": "stream",
     "text": [
      " 41%|████      | 824/2000 [3:44:48<5:31:29, 16.91s/it]"
     ]
    },
    {
     "name": "stdout",
     "output_type": "stream",
     "text": [
      "Ep. 825, Timestep 1089722,  Ep.Timesteps 1600, Score: -173.88, Avg.Score: -176.81, Time: 03:44:57 \n"
     ]
    },
    {
     "name": "stderr",
     "output_type": "stream",
     "text": [
      " 41%|████▏     | 825/2000 [3:45:04<5:28:12, 16.76s/it]"
     ]
    },
    {
     "name": "stdout",
     "output_type": "stream",
     "text": [
      "Ep. 826, Timestep 1091322,  Ep.Timesteps 1600, Score: -173.92, Avg.Score: -176.80, Time: 03:45:14 \n"
     ]
    },
    {
     "name": "stderr",
     "output_type": "stream",
     "text": [
      " 41%|████▏     | 826/2000 [3:45:21<5:29:23, 16.83s/it]"
     ]
    },
    {
     "name": "stdout",
     "output_type": "stream",
     "text": [
      "Ep. 827, Timestep 1092922,  Ep.Timesteps 1600, Score: -183.64, Avg.Score: -176.88, Time: 03:45:31 \n"
     ]
    },
    {
     "name": "stderr",
     "output_type": "stream",
     "text": [
      " 41%|████▏     | 827/2000 [3:45:38<5:32:09, 16.99s/it]"
     ]
    },
    {
     "name": "stdout",
     "output_type": "stream",
     "text": [
      "Ep. 828, Timestep 1094522,  Ep.Timesteps 1600, Score: -173.56, Avg.Score: -176.81, Time: 03:45:47 \n"
     ]
    },
    {
     "name": "stderr",
     "output_type": "stream",
     "text": [
      " 41%|████▏     | 828/2000 [3:45:55<5:32:06, 17.00s/it]"
     ]
    },
    {
     "name": "stdout",
     "output_type": "stream",
     "text": [
      "Ep. 829, Timestep 1096122,  Ep.Timesteps 1600, Score: -174.07, Avg.Score: -176.72, Time: 03:46:04 \n"
     ]
    },
    {
     "name": "stderr",
     "output_type": "stream",
     "text": [
      " 41%|████▏     | 829/2000 [3:46:12<5:27:55, 16.80s/it]"
     ]
    },
    {
     "name": "stdout",
     "output_type": "stream",
     "text": [
      "Ep. 830, Timestep 1097722,  Ep.Timesteps 1600, Score: -173.55, Avg.Score: -176.65, Time: 03:46:21 \n"
     ]
    },
    {
     "name": "stderr",
     "output_type": "stream",
     "text": [
      " 42%|████▏     | 830/2000 [3:46:28<5:26:38, 16.75s/it]"
     ]
    },
    {
     "name": "stdout",
     "output_type": "stream",
     "text": [
      "Ep. 831, Timestep 1099322,  Ep.Timesteps 1600, Score: -174.09, Avg.Score: -176.59, Time: 03:46:38 \n"
     ]
    },
    {
     "name": "stderr",
     "output_type": "stream",
     "text": [
      " 42%|████▏     | 831/2000 [3:46:45<5:26:47, 16.77s/it]"
     ]
    },
    {
     "name": "stdout",
     "output_type": "stream",
     "text": [
      "Ep. 832, Timestep 1100922,  Ep.Timesteps 1600, Score: -174.07, Avg.Score: -176.58, Time: 03:46:55 \n"
     ]
    },
    {
     "name": "stderr",
     "output_type": "stream",
     "text": [
      " 42%|████▏     | 832/2000 [3:47:02<5:25:30, 16.72s/it]"
     ]
    },
    {
     "name": "stdout",
     "output_type": "stream",
     "text": [
      "Ep. 833, Timestep 1102522,  Ep.Timesteps 1600, Score: -173.82, Avg.Score: -176.56, Time: 03:47:12 \n"
     ]
    },
    {
     "name": "stderr",
     "output_type": "stream",
     "text": [
      " 42%|████▏     | 833/2000 [3:47:19<5:27:32, 16.84s/it]"
     ]
    },
    {
     "name": "stdout",
     "output_type": "stream",
     "text": [
      "Ep. 834, Timestep 1104122,  Ep.Timesteps 1600, Score: -173.66, Avg.Score: -176.54, Time: 03:47:28 \n"
     ]
    },
    {
     "name": "stderr",
     "output_type": "stream",
     "text": [
      " 42%|████▏     | 834/2000 [3:47:36<5:29:39, 16.96s/it]"
     ]
    },
    {
     "name": "stdout",
     "output_type": "stream",
     "text": [
      "Ep. 835, Timestep 1105722,  Ep.Timesteps 1600, Score: -173.52, Avg.Score: -176.47, Time: 03:47:44 \n"
     ]
    },
    {
     "name": "stderr",
     "output_type": "stream",
     "text": [
      " 42%|████▏     | 835/2000 [3:47:53<5:27:01, 16.84s/it]"
     ]
    },
    {
     "name": "stdout",
     "output_type": "stream",
     "text": [
      "Ep. 836, Timestep 1107322,  Ep.Timesteps 1600, Score: -174.00, Avg.Score: -176.40, Time: 03:48:02 \n"
     ]
    },
    {
     "name": "stderr",
     "output_type": "stream",
     "text": [
      " 42%|████▏     | 836/2000 [3:48:09<5:23:38, 16.68s/it]"
     ]
    },
    {
     "name": "stdout",
     "output_type": "stream",
     "text": [
      "Ep. 837, Timestep 1108922,  Ep.Timesteps 1600, Score: -174.27, Avg.Score: -176.34, Time: 03:48:19 \n"
     ]
    },
    {
     "name": "stderr",
     "output_type": "stream",
     "text": [
      " 42%|████▏     | 837/2000 [3:48:26<5:23:03, 16.67s/it]"
     ]
    },
    {
     "name": "stdout",
     "output_type": "stream",
     "text": [
      "Ep. 838, Timestep 1110522,  Ep.Timesteps 1600, Score: -174.29, Avg.Score: -176.32, Time: 03:48:35 \n"
     ]
    },
    {
     "name": "stderr",
     "output_type": "stream",
     "text": [
      " 42%|████▏     | 838/2000 [3:48:43<5:27:17, 16.90s/it]"
     ]
    },
    {
     "name": "stdout",
     "output_type": "stream",
     "text": [
      "Ep. 839, Timestep 1112122,  Ep.Timesteps 1600, Score: -173.52, Avg.Score: -176.30, Time: 03:48:52 \n"
     ]
    },
    {
     "name": "stderr",
     "output_type": "stream",
     "text": [
      " 42%|████▏     | 839/2000 [3:49:00<5:25:05, 16.80s/it]"
     ]
    },
    {
     "name": "stdout",
     "output_type": "stream",
     "text": [
      "Ep. 840, Timestep 1113722,  Ep.Timesteps 1600, Score: -173.73, Avg.Score: -176.23, Time: 03:49:09 \n"
     ]
    },
    {
     "name": "stderr",
     "output_type": "stream",
     "text": [
      " 42%|████▏     | 840/2000 [3:49:16<5:20:33, 16.58s/it]"
     ]
    },
    {
     "name": "stdout",
     "output_type": "stream",
     "text": [
      "Ep. 841, Timestep 1115322,  Ep.Timesteps 1600, Score: -173.84, Avg.Score: -176.22, Time: 03:49:26 \n"
     ]
    },
    {
     "name": "stderr",
     "output_type": "stream",
     "text": [
      " 42%|████▏     | 841/2000 [3:49:33<5:22:44, 16.71s/it]"
     ]
    },
    {
     "name": "stdout",
     "output_type": "stream",
     "text": [
      "Ep. 842, Timestep 1116922,  Ep.Timesteps 1600, Score: -174.06, Avg.Score: -176.22, Time: 03:49:42 \n"
     ]
    },
    {
     "name": "stderr",
     "output_type": "stream",
     "text": [
      " 42%|████▏     | 842/2000 [3:49:50<5:26:05, 16.90s/it]"
     ]
    },
    {
     "name": "stdout",
     "output_type": "stream",
     "text": [
      "Ep. 843, Timestep 1118522,  Ep.Timesteps 1600, Score: -180.47, Avg.Score: -176.29, Time: 03:50:00 \n"
     ]
    },
    {
     "name": "stderr",
     "output_type": "stream",
     "text": [
      " 42%|████▏     | 843/2000 [3:50:07<5:27:27, 16.98s/it]"
     ]
    },
    {
     "name": "stdout",
     "output_type": "stream",
     "text": [
      "Ep. 844, Timestep 1120122,  Ep.Timesteps 1600, Score: -175.88, Avg.Score: -176.32, Time: 03:50:16 \n"
     ]
    },
    {
     "name": "stderr",
     "output_type": "stream",
     "text": [
      " 42%|████▏     | 844/2000 [3:50:24<5:22:50, 16.76s/it]"
     ]
    },
    {
     "name": "stdout",
     "output_type": "stream",
     "text": [
      "Ep. 845, Timestep 1121722,  Ep.Timesteps 1600, Score: -183.23, Avg.Score: -176.41, Time: 03:50:33 \n"
     ]
    },
    {
     "name": "stderr",
     "output_type": "stream",
     "text": [
      " 42%|████▏     | 845/2000 [3:50:41<5:25:20, 16.90s/it]"
     ]
    },
    {
     "name": "stdout",
     "output_type": "stream",
     "text": [
      "Ep. 846, Timestep 1123322,  Ep.Timesteps 1600, Score: -176.15, Avg.Score: -176.43, Time: 03:50:49 \n"
     ]
    },
    {
     "name": "stderr",
     "output_type": "stream",
     "text": [
      " 42%|████▏     | 846/2000 [3:50:57<5:21:16, 16.70s/it]"
     ]
    },
    {
     "name": "stdout",
     "output_type": "stream",
     "text": [
      "Ep. 847, Timestep 1124922,  Ep.Timesteps 1600, Score: -181.28, Avg.Score: -176.51, Time: 03:51:06 \n"
     ]
    },
    {
     "name": "stderr",
     "output_type": "stream",
     "text": [
      " 42%|████▏     | 847/2000 [3:51:14<5:20:45, 16.69s/it]"
     ]
    },
    {
     "name": "stdout",
     "output_type": "stream",
     "text": [
      "Ep. 848, Timestep 1126522,  Ep.Timesteps 1600, Score: -175.67, Avg.Score: -176.53, Time: 03:51:23 \n"
     ]
    },
    {
     "name": "stderr",
     "output_type": "stream",
     "text": [
      " 42%|████▏     | 848/2000 [3:51:31<5:23:40, 16.86s/it]"
     ]
    },
    {
     "name": "stdout",
     "output_type": "stream",
     "text": [
      "Ep. 849, Timestep 1128122,  Ep.Timesteps 1600, Score: -181.21, Avg.Score: -176.61, Time: 03:51:39 \n"
     ]
    },
    {
     "name": "stderr",
     "output_type": "stream",
     "text": [
      " 42%|████▏     | 849/2000 [3:51:47<5:18:09, 16.59s/it]"
     ]
    },
    {
     "name": "stdout",
     "output_type": "stream",
     "text": [
      "Ep. 850, Timestep 1129722,  Ep.Timesteps 1600, Score: -176.23, Avg.Score: -176.63, Time: 03:51:57 \n"
     ]
    },
    {
     "name": "stderr",
     "output_type": "stream",
     "text": [
      " 42%|████▎     | 850/2000 [3:52:04<5:19:13, 16.65s/it]"
     ]
    },
    {
     "name": "stdout",
     "output_type": "stream",
     "text": [
      "Ep. 851, Timestep 1131322,  Ep.Timesteps 1600, Score: -177.98, Avg.Score: -176.68, Time: 03:52:14 \n"
     ]
    },
    {
     "name": "stderr",
     "output_type": "stream",
     "text": [
      " 43%|████▎     | 851/2000 [3:52:21<5:21:23, 16.78s/it]"
     ]
    },
    {
     "name": "stdout",
     "output_type": "stream",
     "text": [
      "Ep. 852, Timestep 1132922,  Ep.Timesteps 1600, Score: -182.11, Avg.Score: -176.76, Time: 03:52:31 \n"
     ]
    },
    {
     "name": "stderr",
     "output_type": "stream",
     "text": [
      " 43%|████▎     | 852/2000 [3:52:38<5:23:59, 16.93s/it]"
     ]
    },
    {
     "name": "stdout",
     "output_type": "stream",
     "text": [
      "Ep. 853, Timestep 1134522,  Ep.Timesteps 1600, Score: -175.60, Avg.Score: -176.79, Time: 03:52:47 \n"
     ]
    },
    {
     "name": "stderr",
     "output_type": "stream",
     "text": [
      " 43%|████▎     | 853/2000 [3:52:55<5:23:45, 16.94s/it]"
     ]
    },
    {
     "name": "stdout",
     "output_type": "stream",
     "text": [
      "Ep. 854, Timestep 1136122,  Ep.Timesteps 1600, Score: -180.84, Avg.Score: -176.85, Time: 03:53:04 \n"
     ]
    },
    {
     "name": "stderr",
     "output_type": "stream",
     "text": [
      " 43%|████▎     | 854/2000 [3:53:12<5:23:07, 16.92s/it]"
     ]
    },
    {
     "name": "stdout",
     "output_type": "stream",
     "text": [
      "Ep. 855, Timestep 1137722,  Ep.Timesteps 1600, Score: -180.43, Avg.Score: -176.92, Time: 03:53:21 \n"
     ]
    },
    {
     "name": "stderr",
     "output_type": "stream",
     "text": [
      " 43%|████▎     | 855/2000 [3:53:29<5:22:39, 16.91s/it]"
     ]
    },
    {
     "name": "stdout",
     "output_type": "stream",
     "text": [
      "Ep. 856, Timestep 1139322,  Ep.Timesteps 1600, Score: -175.36, Avg.Score: -176.94, Time: 03:53:38 \n"
     ]
    },
    {
     "name": "stderr",
     "output_type": "stream",
     "text": [
      " 43%|████▎     | 856/2000 [3:53:45<5:20:17, 16.80s/it]"
     ]
    },
    {
     "name": "stdout",
     "output_type": "stream",
     "text": [
      "Ep. 857, Timestep 1140922,  Ep.Timesteps 1600, Score: -181.94, Avg.Score: -176.96, Time: 03:53:54 \n"
     ]
    },
    {
     "name": "stderr",
     "output_type": "stream",
     "text": [
      " 43%|████▎     | 857/2000 [3:54:02<5:16:31, 16.62s/it]"
     ]
    },
    {
     "name": "stdout",
     "output_type": "stream",
     "text": [
      "Ep. 858, Timestep 1142522,  Ep.Timesteps 1600, Score: -179.78, Avg.Score: -177.02, Time: 03:54:10 \n"
     ]
    },
    {
     "name": "stderr",
     "output_type": "stream",
     "text": [
      " 43%|████▎     | 858/2000 [3:54:18<5:15:06, 16.56s/it]"
     ]
    },
    {
     "name": "stdout",
     "output_type": "stream",
     "text": [
      "Ep. 859, Timestep 1144122,  Ep.Timesteps 1600, Score: -176.09, Avg.Score: -177.05, Time: 03:54:26 \n"
     ]
    },
    {
     "name": "stderr",
     "output_type": "stream",
     "text": [
      " 43%|████▎     | 859/2000 [3:54:34<5:13:49, 16.50s/it]"
     ]
    },
    {
     "name": "stdout",
     "output_type": "stream",
     "text": [
      "Ep. 860, Timestep 1145722,  Ep.Timesteps 1600, Score: -181.38, Avg.Score: -177.12, Time: 03:54:43 \n"
     ]
    },
    {
     "name": "stderr",
     "output_type": "stream",
     "text": [
      " 43%|████▎     | 860/2000 [3:54:51<5:12:05, 16.43s/it]"
     ]
    },
    {
     "name": "stdout",
     "output_type": "stream",
     "text": [
      "Ep. 861, Timestep 1147322,  Ep.Timesteps 1600, Score: -175.94, Avg.Score: -177.15, Time: 03:55:01 \n"
     ]
    },
    {
     "name": "stderr",
     "output_type": "stream",
     "text": [
      " 43%|████▎     | 861/2000 [3:55:08<5:14:52, 16.59s/it]"
     ]
    },
    {
     "name": "stdout",
     "output_type": "stream",
     "text": [
      "Ep. 862, Timestep 1148922,  Ep.Timesteps 1600, Score: -175.42, Avg.Score: -177.17, Time: 03:55:18 \n"
     ]
    },
    {
     "name": "stderr",
     "output_type": "stream",
     "text": [
      " 43%|████▎     | 862/2000 [3:55:25<5:21:45, 16.96s/it]"
     ]
    },
    {
     "name": "stdout",
     "output_type": "stream",
     "text": [
      "Ep. 863, Timestep 1150522,  Ep.Timesteps 1600, Score: -176.03, Avg.Score: -177.16, Time: 03:55:34 \n"
     ]
    },
    {
     "name": "stderr",
     "output_type": "stream",
     "text": [
      " 43%|████▎     | 863/2000 [3:55:42<5:19:10, 16.84s/it]"
     ]
    },
    {
     "name": "stdout",
     "output_type": "stream",
     "text": [
      "Ep. 864, Timestep 1152122,  Ep.Timesteps 1600, Score: -177.72, Avg.Score: -177.18, Time: 03:55:51 \n"
     ]
    },
    {
     "name": "stderr",
     "output_type": "stream",
     "text": [
      " 43%|████▎     | 864/2000 [3:55:58<5:15:10, 16.65s/it]"
     ]
    },
    {
     "name": "stdout",
     "output_type": "stream",
     "text": [
      "Ep. 865, Timestep 1153722,  Ep.Timesteps 1600, Score: -173.44, Avg.Score: -177.11, Time: 03:56:08 \n"
     ]
    },
    {
     "name": "stderr",
     "output_type": "stream",
     "text": [
      " 43%|████▎     | 865/2000 [3:56:15<5:16:54, 16.75s/it]"
     ]
    },
    {
     "name": "stdout",
     "output_type": "stream",
     "text": [
      "Ep. 866, Timestep 1155322,  Ep.Timesteps 1600, Score: -173.91, Avg.Score: -177.09, Time: 03:56:25 \n"
     ]
    },
    {
     "name": "stderr",
     "output_type": "stream",
     "text": [
      " 43%|████▎     | 866/2000 [3:56:32<5:19:49, 16.92s/it]"
     ]
    },
    {
     "name": "stdout",
     "output_type": "stream",
     "text": [
      "Ep. 867, Timestep 1156922,  Ep.Timesteps 1600, Score: -173.68, Avg.Score: -177.02, Time: 03:56:41 \n"
     ]
    },
    {
     "name": "stderr",
     "output_type": "stream",
     "text": [
      " 43%|████▎     | 867/2000 [3:56:49<5:17:31, 16.82s/it]"
     ]
    },
    {
     "name": "stdout",
     "output_type": "stream",
     "text": [
      "Ep. 868, Timestep 1158522,  Ep.Timesteps 1600, Score: -173.54, Avg.Score: -176.95, Time: 03:56:58 \n"
     ]
    },
    {
     "name": "stderr",
     "output_type": "stream",
     "text": [
      " 43%|████▎     | 868/2000 [3:57:06<5:16:14, 16.76s/it]"
     ]
    },
    {
     "name": "stdout",
     "output_type": "stream",
     "text": [
      "Ep. 869, Timestep 1160122,  Ep.Timesteps 1600, Score: -173.67, Avg.Score: -176.94, Time: 03:57:14 \n"
     ]
    },
    {
     "name": "stderr",
     "output_type": "stream",
     "text": [
      " 43%|████▎     | 869/2000 [3:57:22<5:15:56, 16.76s/it]"
     ]
    },
    {
     "name": "stdout",
     "output_type": "stream",
     "text": [
      "Ep. 870, Timestep 1161722,  Ep.Timesteps 1600, Score: -173.84, Avg.Score: -176.92, Time: 03:57:31 \n"
     ]
    },
    {
     "name": "stderr",
     "output_type": "stream",
     "text": [
      " 44%|████▎     | 870/2000 [3:57:38<5:11:37, 16.55s/it]"
     ]
    },
    {
     "name": "stdout",
     "output_type": "stream",
     "text": [
      "Ep. 871, Timestep 1163322,  Ep.Timesteps 1600, Score: -173.74, Avg.Score: -176.84, Time: 03:57:48 \n"
     ]
    },
    {
     "name": "stderr",
     "output_type": "stream",
     "text": [
      " 44%|████▎     | 871/2000 [3:57:55<5:13:13, 16.65s/it]"
     ]
    },
    {
     "name": "stdout",
     "output_type": "stream",
     "text": [
      "Ep. 872, Timestep 1164922,  Ep.Timesteps 1600, Score: -173.43, Avg.Score: -176.78, Time: 03:58:05 \n"
     ]
    },
    {
     "name": "stderr",
     "output_type": "stream",
     "text": [
      " 44%|████▎     | 872/2000 [3:58:13<5:16:52, 16.85s/it]"
     ]
    },
    {
     "name": "stdout",
     "output_type": "stream",
     "text": [
      "Ep. 873, Timestep 1166522,  Ep.Timesteps 1600, Score: -173.52, Avg.Score: -176.71, Time: 03:58:22 \n"
     ]
    },
    {
     "name": "stderr",
     "output_type": "stream",
     "text": [
      " 44%|████▎     | 873/2000 [3:58:30<5:21:07, 17.10s/it]"
     ]
    },
    {
     "name": "stdout",
     "output_type": "stream",
     "text": [
      "Ep. 874, Timestep 1168122,  Ep.Timesteps 1600, Score: -174.04, Avg.Score: -176.65, Time: 03:58:38 \n"
     ]
    },
    {
     "name": "stderr",
     "output_type": "stream",
     "text": [
      " 44%|████▎     | 874/2000 [3:58:47<5:15:43, 16.82s/it]"
     ]
    },
    {
     "name": "stdout",
     "output_type": "stream",
     "text": [
      "Ep. 875, Timestep 1169722,  Ep.Timesteps 1600, Score: -173.68, Avg.Score: -176.60, Time: 03:58:55 \n"
     ]
    },
    {
     "name": "stderr",
     "output_type": "stream",
     "text": [
      " 44%|████▍     | 875/2000 [3:59:02<5:10:00, 16.53s/it]"
     ]
    },
    {
     "name": "stdout",
     "output_type": "stream",
     "text": [
      "Ep. 876, Timestep 1171322,  Ep.Timesteps 1600, Score: -173.60, Avg.Score: -176.52, Time: 03:59:12 \n"
     ]
    },
    {
     "name": "stderr",
     "output_type": "stream",
     "text": [
      " 44%|████▍     | 876/2000 [3:59:20<5:13:36, 16.74s/it]"
     ]
    },
    {
     "name": "stdout",
     "output_type": "stream",
     "text": [
      "Ep. 877, Timestep 1172922,  Ep.Timesteps 1600, Score: -173.70, Avg.Score: -176.50, Time: 03:59:28 \n"
     ]
    },
    {
     "name": "stderr",
     "output_type": "stream",
     "text": [
      " 44%|████▍     | 877/2000 [3:59:36<5:10:02, 16.57s/it]"
     ]
    },
    {
     "name": "stdout",
     "output_type": "stream",
     "text": [
      "Ep. 878, Timestep 1174522,  Ep.Timesteps 1600, Score: -173.84, Avg.Score: -176.46, Time: 03:59:46 \n"
     ]
    },
    {
     "name": "stderr",
     "output_type": "stream",
     "text": [
      " 44%|████▍     | 878/2000 [3:59:53<5:12:54, 16.73s/it]"
     ]
    },
    {
     "name": "stdout",
     "output_type": "stream",
     "text": [
      "Ep. 879, Timestep 1176122,  Ep.Timesteps 1600, Score: -173.66, Avg.Score: -176.41, Time: 04:00:02 \n"
     ]
    },
    {
     "name": "stderr",
     "output_type": "stream",
     "text": [
      " 44%|████▍     | 879/2000 [4:00:10<5:15:04, 16.86s/it]"
     ]
    },
    {
     "name": "stdout",
     "output_type": "stream",
     "text": [
      "Ep. 880, Timestep 1177722,  Ep.Timesteps 1600, Score: -173.95, Avg.Score: -176.39, Time: 04:00:19 \n"
     ]
    },
    {
     "name": "stderr",
     "output_type": "stream",
     "text": [
      " 44%|████▍     | 880/2000 [4:00:26<5:10:37, 16.64s/it]"
     ]
    },
    {
     "name": "stdout",
     "output_type": "stream",
     "text": [
      "Ep. 881, Timestep 1179322,  Ep.Timesteps 1600, Score: -174.20, Avg.Score: -176.34, Time: 04:00:36 \n"
     ]
    },
    {
     "name": "stderr",
     "output_type": "stream",
     "text": [
      " 44%|████▍     | 881/2000 [4:00:43<5:10:40, 16.66s/it]"
     ]
    },
    {
     "name": "stdout",
     "output_type": "stream",
     "text": [
      "Ep. 882, Timestep 1180922,  Ep.Timesteps 1600, Score: -173.40, Avg.Score: -176.28, Time: 04:00:53 \n"
     ]
    },
    {
     "name": "stderr",
     "output_type": "stream",
     "text": [
      " 44%|████▍     | 882/2000 [4:01:00<5:13:08, 16.81s/it]"
     ]
    },
    {
     "name": "stdout",
     "output_type": "stream",
     "text": [
      "Ep. 883, Timestep 1182522,  Ep.Timesteps 1600, Score: -180.83, Avg.Score: -176.35, Time: 04:01:10 \n"
     ]
    },
    {
     "name": "stderr",
     "output_type": "stream",
     "text": [
      " 44%|████▍     | 883/2000 [4:01:18<5:19:54, 17.18s/it]"
     ]
    },
    {
     "name": "stdout",
     "output_type": "stream",
     "text": [
      "Ep. 884, Timestep 1184122,  Ep.Timesteps 1600, Score: -175.60, Avg.Score: -176.37, Time: 04:01:26 \n"
     ]
    },
    {
     "name": "stderr",
     "output_type": "stream",
     "text": [
      " 44%|████▍     | 884/2000 [4:01:35<5:16:44, 17.03s/it]"
     ]
    },
    {
     "name": "stdout",
     "output_type": "stream",
     "text": [
      "Ep. 885, Timestep 1185722,  Ep.Timesteps 1600, Score: -176.50, Avg.Score: -176.39, Time: 04:01:43 \n"
     ]
    },
    {
     "name": "stderr",
     "output_type": "stream",
     "text": [
      " 44%|████▍     | 885/2000 [4:01:51<5:11:23, 16.76s/it]"
     ]
    },
    {
     "name": "stdout",
     "output_type": "stream",
     "text": [
      "Ep. 886, Timestep 1187322,  Ep.Timesteps 1600, Score: -177.08, Avg.Score: -176.43, Time: 04:02:00 \n"
     ]
    },
    {
     "name": "stderr",
     "output_type": "stream",
     "text": [
      " 44%|████▍     | 886/2000 [4:02:08<5:10:49, 16.74s/it]"
     ]
    },
    {
     "name": "stdout",
     "output_type": "stream",
     "text": [
      "Ep. 887, Timestep 1188922,  Ep.Timesteps 1600, Score: -180.62, Avg.Score: -176.50, Time: 04:02:16 \n"
     ]
    },
    {
     "name": "stderr",
     "output_type": "stream",
     "text": [
      " 44%|████▍     | 887/2000 [4:02:24<5:09:41, 16.70s/it]"
     ]
    },
    {
     "name": "stdout",
     "output_type": "stream",
     "text": [
      "Ep. 888, Timestep 1190522,  Ep.Timesteps 1600, Score: -179.97, Avg.Score: -176.57, Time: 04:02:34 \n"
     ]
    },
    {
     "name": "stderr",
     "output_type": "stream",
     "text": [
      " 44%|████▍     | 888/2000 [4:02:41<5:11:21, 16.80s/it]"
     ]
    },
    {
     "name": "stdout",
     "output_type": "stream",
     "text": [
      "Ep. 889, Timestep 1192122,  Ep.Timesteps 1600, Score: -181.44, Avg.Score: -176.64, Time: 04:02:50 \n"
     ]
    },
    {
     "name": "stderr",
     "output_type": "stream",
     "text": [
      " 44%|████▍     | 889/2000 [4:02:58<5:10:48, 16.79s/it]"
     ]
    },
    {
     "name": "stdout",
     "output_type": "stream",
     "text": [
      "Ep. 890, Timestep 1193722,  Ep.Timesteps 1600, Score: -180.10, Avg.Score: -176.71, Time: 04:03:07 \n"
     ]
    },
    {
     "name": "stderr",
     "output_type": "stream",
     "text": [
      " 44%|████▍     | 890/2000 [4:03:15<5:11:12, 16.82s/it]"
     ]
    },
    {
     "name": "stdout",
     "output_type": "stream",
     "text": [
      "Ep. 891, Timestep 1195322,  Ep.Timesteps 1600, Score: -175.26, Avg.Score: -176.65, Time: 04:03:24 \n"
     ]
    },
    {
     "name": "stderr",
     "output_type": "stream",
     "text": [
      " 45%|████▍     | 891/2000 [4:03:31<5:07:41, 16.65s/it]"
     ]
    },
    {
     "name": "stdout",
     "output_type": "stream",
     "text": [
      "Ep. 892, Timestep 1196922,  Ep.Timesteps 1600, Score: -180.18, Avg.Score: -176.72, Time: 04:03:41 \n"
     ]
    },
    {
     "name": "stderr",
     "output_type": "stream",
     "text": [
      " 45%|████▍     | 892/2000 [4:03:49<5:13:29, 16.98s/it]"
     ]
    },
    {
     "name": "stdout",
     "output_type": "stream",
     "text": [
      "Ep. 893, Timestep 1198522,  Ep.Timesteps 1600, Score: -179.45, Avg.Score: -176.78, Time: 04:03:59 \n"
     ]
    },
    {
     "name": "stderr",
     "output_type": "stream",
     "text": [
      " 45%|████▍     | 893/2000 [4:04:06<5:16:56, 17.18s/it]"
     ]
    },
    {
     "name": "stdout",
     "output_type": "stream",
     "text": [
      "Ep. 894, Timestep 1200122,  Ep.Timesteps 1600, Score: -179.69, Avg.Score: -176.83, Time: 04:04:17 \n"
     ]
    },
    {
     "name": "stderr",
     "output_type": "stream",
     "text": [
      " 45%|████▍     | 894/2000 [4:04:24<5:20:22, 17.38s/it]"
     ]
    },
    {
     "name": "stdout",
     "output_type": "stream",
     "text": [
      "Ep. 895, Timestep 1201722,  Ep.Timesteps 1600, Score: -180.83, Avg.Score: -176.84, Time: 04:04:33 \n"
     ]
    },
    {
     "name": "stderr",
     "output_type": "stream",
     "text": [
      " 45%|████▍     | 895/2000 [4:04:41<5:15:18, 17.12s/it]"
     ]
    },
    {
     "name": "stdout",
     "output_type": "stream",
     "text": [
      "Ep. 896, Timestep 1203322,  Ep.Timesteps 1600, Score: -181.50, Avg.Score: -176.91, Time: 04:04:50 \n"
     ]
    },
    {
     "name": "stderr",
     "output_type": "stream",
     "text": [
      " 45%|████▍     | 896/2000 [4:04:58<5:12:20, 16.98s/it]"
     ]
    },
    {
     "name": "stdout",
     "output_type": "stream",
     "text": [
      "Ep. 897, Timestep 1204922,  Ep.Timesteps 1600, Score: -180.45, Avg.Score: -176.98, Time: 04:05:07 \n"
     ]
    },
    {
     "name": "stderr",
     "output_type": "stream",
     "text": [
      " 45%|████▍     | 897/2000 [4:05:15<5:13:24, 17.05s/it]"
     ]
    },
    {
     "name": "stdout",
     "output_type": "stream",
     "text": [
      "Ep. 898, Timestep 1206522,  Ep.Timesteps 1600, Score: -176.05, Avg.Score: -177.01, Time: 04:05:23 \n"
     ]
    },
    {
     "name": "stderr",
     "output_type": "stream",
     "text": [
      " 45%|████▍     | 898/2000 [4:05:31<5:09:08, 16.83s/it]"
     ]
    },
    {
     "name": "stdout",
     "output_type": "stream",
     "text": [
      "Ep. 899, Timestep 1208122,  Ep.Timesteps 1600, Score: -174.92, Avg.Score: -177.02, Time: 04:05:40 \n"
     ]
    },
    {
     "name": "stderr",
     "output_type": "stream",
     "text": [
      " 45%|████▍     | 899/2000 [4:05:48<5:08:52, 16.83s/it]"
     ]
    },
    {
     "name": "stdout",
     "output_type": "stream",
     "text": [
      "Ep. 900, Timestep 1209722,  Ep.Timesteps 1600, Score: -177.16, Avg.Score: -177.06, Time: 04:05:56 \n"
     ]
    },
    {
     "name": "stderr",
     "output_type": "stream",
     "text": [
      " 45%|████▌     | 900/2000 [4:06:04<5:06:04, 16.69s/it]"
     ]
    },
    {
     "name": "stdout",
     "output_type": "stream",
     "text": [
      "Ep. 901, Timestep 1211322,  Ep.Timesteps 1600, Score: -183.52, Avg.Score: -177.15, Time: 04:06:14 \n"
     ]
    },
    {
     "name": "stderr",
     "output_type": "stream",
     "text": [
      " 45%|████▌     | 901/2000 [4:06:21<5:04:42, 16.64s/it]"
     ]
    },
    {
     "name": "stdout",
     "output_type": "stream",
     "text": [
      "Ep. 902, Timestep 1212922,  Ep.Timesteps 1600, Score: -175.76, Avg.Score: -177.17, Time: 04:06:30 \n"
     ]
    },
    {
     "name": "stderr",
     "output_type": "stream",
     "text": [
      " 45%|████▌     | 902/2000 [4:06:37<5:03:29, 16.58s/it]"
     ]
    },
    {
     "name": "stdout",
     "output_type": "stream",
     "text": [
      "Ep. 903, Timestep 1214522,  Ep.Timesteps 1600, Score: -180.74, Avg.Score: -177.16, Time: 04:06:47 \n"
     ]
    },
    {
     "name": "stderr",
     "output_type": "stream",
     "text": [
      " 45%|████▌     | 903/2000 [4:06:54<5:06:27, 16.76s/it]"
     ]
    },
    {
     "name": "stdout",
     "output_type": "stream",
     "text": [
      "Ep. 904, Timestep 1216122,  Ep.Timesteps 1600, Score: -181.25, Avg.Score: -177.17, Time: 04:07:04 \n"
     ]
    },
    {
     "name": "stderr",
     "output_type": "stream",
     "text": [
      " 45%|████▌     | 904/2000 [4:07:12<5:11:56, 17.08s/it]"
     ]
    },
    {
     "name": "stdout",
     "output_type": "stream",
     "text": [
      "Ep. 905, Timestep 1217722,  Ep.Timesteps 1600, Score: -175.80, Avg.Score: -177.12, Time: 04:07:21 \n"
     ]
    },
    {
     "name": "stderr",
     "output_type": "stream",
     "text": [
      " 45%|████▌     | 905/2000 [4:07:29<5:09:34, 16.96s/it]"
     ]
    },
    {
     "name": "stdout",
     "output_type": "stream",
     "text": [
      "Ep. 906, Timestep 1219322,  Ep.Timesteps 1600, Score: -173.46, Avg.Score: -177.04, Time: 04:07:38 \n"
     ]
    },
    {
     "name": "stderr",
     "output_type": "stream",
     "text": [
      " 45%|████▌     | 906/2000 [4:07:45<5:07:04, 16.84s/it]"
     ]
    },
    {
     "name": "stdout",
     "output_type": "stream",
     "text": [
      "Ep. 907, Timestep 1220922,  Ep.Timesteps 1600, Score: -173.53, Avg.Score: -176.97, Time: 04:07:55 \n"
     ]
    },
    {
     "name": "stderr",
     "output_type": "stream",
     "text": [
      " 45%|████▌     | 907/2000 [4:08:02<5:06:27, 16.82s/it]"
     ]
    },
    {
     "name": "stdout",
     "output_type": "stream",
     "text": [
      "Ep. 908, Timestep 1220969,  Ep.Timesteps 47, Score: -125.36, Avg.Score: -176.47, Time: 04:08:05 \n"
     ]
    },
    {
     "name": "stderr",
     "output_type": "stream",
     "text": [
      " 45%|████▌     | 908/2000 [4:08:03<3:36:55, 11.92s/it]"
     ]
    },
    {
     "name": "stdout",
     "output_type": "stream",
     "text": [
      "Ep. 909, Timestep 1222569,  Ep.Timesteps 1600, Score: -173.62, Avg.Score: -176.40, Time: 04:08:12 \n"
     ]
    },
    {
     "name": "stderr",
     "output_type": "stream",
     "text": [
      " 45%|████▌     | 909/2000 [4:08:20<4:05:02, 13.48s/it]"
     ]
    },
    {
     "name": "stdout",
     "output_type": "stream",
     "text": [
      "Ep. 910, Timestep 1224169,  Ep.Timesteps 1600, Score: -173.74, Avg.Score: -176.34, Time: 04:08:28 \n"
     ]
    },
    {
     "name": "stderr",
     "output_type": "stream",
     "text": [
      " 46%|████▌     | 910/2000 [4:08:36<4:21:33, 14.40s/it]"
     ]
    },
    {
     "name": "stdout",
     "output_type": "stream",
     "text": [
      "Ep. 911, Timestep 1225769,  Ep.Timesteps 1600, Score: -173.50, Avg.Score: -176.31, Time: 04:08:45 \n"
     ]
    },
    {
     "name": "stderr",
     "output_type": "stream",
     "text": [
      " 46%|████▌     | 911/2000 [4:08:52<4:29:10, 14.83s/it]"
     ]
    },
    {
     "name": "stdout",
     "output_type": "stream",
     "text": [
      "Ep. 912, Timestep 1227369,  Ep.Timesteps 1600, Score: -173.94, Avg.Score: -176.25, Time: 04:09:02 \n"
     ]
    },
    {
     "name": "stderr",
     "output_type": "stream",
     "text": [
      " 46%|████▌     | 912/2000 [4:09:10<4:43:19, 15.62s/it]"
     ]
    },
    {
     "name": "stdout",
     "output_type": "stream",
     "text": [
      "Ep. 913, Timestep 1228969,  Ep.Timesteps 1600, Score: -173.81, Avg.Score: -176.17, Time: 04:09:19 \n"
     ]
    },
    {
     "name": "stderr",
     "output_type": "stream",
     "text": [
      " 46%|████▌     | 913/2000 [4:09:26<4:49:14, 15.97s/it]"
     ]
    },
    {
     "name": "stdout",
     "output_type": "stream",
     "text": [
      "Ep. 914, Timestep 1230569,  Ep.Timesteps 1600, Score: -174.00, Avg.Score: -176.15, Time: 04:09:36 \n"
     ]
    },
    {
     "name": "stderr",
     "output_type": "stream",
     "text": [
      " 46%|████▌     | 914/2000 [4:09:43<4:54:23, 16.26s/it]"
     ]
    },
    {
     "name": "stdout",
     "output_type": "stream",
     "text": [
      "Ep. 915, Timestep 1232169,  Ep.Timesteps 1600, Score: -173.27, Avg.Score: -176.07, Time: 04:09:52 \n"
     ]
    },
    {
     "name": "stderr",
     "output_type": "stream",
     "text": [
      " 46%|████▌     | 915/2000 [4:10:01<4:59:01, 16.54s/it]"
     ]
    },
    {
     "name": "stdout",
     "output_type": "stream",
     "text": [
      "Ep. 916, Timestep 1233769,  Ep.Timesteps 1600, Score: -173.57, Avg.Score: -176.06, Time: 04:10:08 \n"
     ]
    },
    {
     "name": "stderr",
     "output_type": "stream",
     "text": [
      " 46%|████▌     | 916/2000 [4:10:17<4:59:12, 16.56s/it]"
     ]
    },
    {
     "name": "stdout",
     "output_type": "stream",
     "text": [
      "Ep. 917, Timestep 1235369,  Ep.Timesteps 1600, Score: -174.01, Avg.Score: -176.04, Time: 04:10:25 \n"
     ]
    },
    {
     "name": "stderr",
     "output_type": "stream",
     "text": [
      " 46%|████▌     | 917/2000 [4:10:33<4:57:20, 16.47s/it]"
     ]
    },
    {
     "name": "stdout",
     "output_type": "stream",
     "text": [
      "Ep. 918, Timestep 1236969,  Ep.Timesteps 1600, Score: -173.55, Avg.Score: -175.96, Time: 04:10:43 \n"
     ]
    },
    {
     "name": "stderr",
     "output_type": "stream",
     "text": [
      " 46%|████▌     | 918/2000 [4:10:51<5:00:46, 16.68s/it]"
     ]
    },
    {
     "name": "stdout",
     "output_type": "stream",
     "text": [
      "Ep. 919, Timestep 1238569,  Ep.Timesteps 1600, Score: -173.53, Avg.Score: -175.89, Time: 04:11:00 \n"
     ]
    },
    {
     "name": "stderr",
     "output_type": "stream",
     "text": [
      " 46%|████▌     | 919/2000 [4:11:08<5:03:20, 16.84s/it]"
     ]
    },
    {
     "name": "stdout",
     "output_type": "stream",
     "text": [
      "Ep. 920, Timestep 1240169,  Ep.Timesteps 1600, Score: -173.51, Avg.Score: -175.81, Time: 04:11:17 \n"
     ]
    },
    {
     "name": "stderr",
     "output_type": "stream",
     "text": [
      " 46%|████▌     | 920/2000 [4:11:25<5:02:59, 16.83s/it]"
     ]
    },
    {
     "name": "stdout",
     "output_type": "stream",
     "text": [
      "Ep. 921, Timestep 1241769,  Ep.Timesteps 1600, Score: -173.50, Avg.Score: -175.74, Time: 04:11:34 \n"
     ]
    },
    {
     "name": "stderr",
     "output_type": "stream",
     "text": [
      " 46%|████▌     | 921/2000 [4:11:42<5:04:00, 16.90s/it]"
     ]
    },
    {
     "name": "stdout",
     "output_type": "stream",
     "text": [
      "Ep. 922, Timestep 1243369,  Ep.Timesteps 1600, Score: -173.44, Avg.Score: -175.65, Time: 04:11:51 \n"
     ]
    },
    {
     "name": "stderr",
     "output_type": "stream",
     "text": [
      " 46%|████▌     | 922/2000 [4:11:58<5:02:55, 16.86s/it]"
     ]
    },
    {
     "name": "stdout",
     "output_type": "stream",
     "text": [
      "Ep. 923, Timestep 1244969,  Ep.Timesteps 1600, Score: -181.13, Avg.Score: -175.66, Time: 04:12:08 \n"
     ]
    },
    {
     "name": "stderr",
     "output_type": "stream",
     "text": [
      " 46%|████▌     | 923/2000 [4:12:16<5:05:02, 16.99s/it]"
     ]
    },
    {
     "name": "stdout",
     "output_type": "stream",
     "text": [
      "Ep. 924, Timestep 1246569,  Ep.Timesteps 1600, Score: -174.12, Avg.Score: -175.66, Time: 04:12:25 \n"
     ]
    },
    {
     "name": "stderr",
     "output_type": "stream",
     "text": [
      " 46%|████▌     | 924/2000 [4:12:32<5:02:29, 16.87s/it]"
     ]
    },
    {
     "name": "stdout",
     "output_type": "stream",
     "text": [
      "Ep. 925, Timestep 1248169,  Ep.Timesteps 1600, Score: -180.99, Avg.Score: -175.73, Time: 04:12:42 \n"
     ]
    },
    {
     "name": "stderr",
     "output_type": "stream",
     "text": [
      " 46%|████▋     | 925/2000 [4:12:49<5:00:59, 16.80s/it]"
     ]
    },
    {
     "name": "stdout",
     "output_type": "stream",
     "text": [
      "Ep. 926, Timestep 1249769,  Ep.Timesteps 1600, Score: -181.01, Avg.Score: -175.81, Time: 04:12:58 \n"
     ]
    },
    {
     "name": "stderr",
     "output_type": "stream",
     "text": [
      " 46%|████▋     | 926/2000 [4:13:07<5:04:33, 17.01s/it]"
     ]
    },
    {
     "name": "stdout",
     "output_type": "stream",
     "text": [
      "Ep. 927, Timestep 1251369,  Ep.Timesteps 1600, Score: -173.89, Avg.Score: -175.71, Time: 04:13:14 \n"
     ]
    },
    {
     "name": "stderr",
     "output_type": "stream",
     "text": [
      " 46%|████▋     | 927/2000 [4:13:23<5:00:51, 16.82s/it]"
     ]
    },
    {
     "name": "stdout",
     "output_type": "stream",
     "text": [
      "Ep. 928, Timestep 1252969,  Ep.Timesteps 1600, Score: -180.76, Avg.Score: -175.78, Time: 04:13:31 \n"
     ]
    },
    {
     "name": "stderr",
     "output_type": "stream",
     "text": [
      " 46%|████▋     | 928/2000 [4:13:39<4:56:44, 16.61s/it]"
     ]
    },
    {
     "name": "stdout",
     "output_type": "stream",
     "text": [
      "Ep. 929, Timestep 1254569,  Ep.Timesteps 1600, Score: -182.32, Avg.Score: -175.86, Time: 04:13:48 \n"
     ]
    },
    {
     "name": "stderr",
     "output_type": "stream",
     "text": [
      " 46%|████▋     | 929/2000 [4:13:56<4:57:20, 16.66s/it]"
     ]
    },
    {
     "name": "stdout",
     "output_type": "stream",
     "text": [
      "Ep. 930, Timestep 1256169,  Ep.Timesteps 1600, Score: -177.15, Avg.Score: -175.90, Time: 04:14:05 \n"
     ]
    },
    {
     "name": "stderr",
     "output_type": "stream",
     "text": [
      " 46%|████▋     | 930/2000 [4:14:13<4:59:24, 16.79s/it]"
     ]
    },
    {
     "name": "stdout",
     "output_type": "stream",
     "text": [
      "Ep. 931, Timestep 1257769,  Ep.Timesteps 1600, Score: -181.73, Avg.Score: -175.97, Time: 04:14:22 \n"
     ]
    },
    {
     "name": "stderr",
     "output_type": "stream",
     "text": [
      " 47%|████▋     | 931/2000 [4:14:30<4:59:43, 16.82s/it]"
     ]
    },
    {
     "name": "stdout",
     "output_type": "stream",
     "text": [
      "Ep. 932, Timestep 1259369,  Ep.Timesteps 1600, Score: -177.47, Avg.Score: -176.01, Time: 04:14:39 \n"
     ]
    },
    {
     "name": "stderr",
     "output_type": "stream",
     "text": [
      " 47%|████▋     | 932/2000 [4:14:46<4:58:11, 16.75s/it]"
     ]
    },
    {
     "name": "stdout",
     "output_type": "stream",
     "text": [
      "Ep. 933, Timestep 1260969,  Ep.Timesteps 1600, Score: -181.33, Avg.Score: -176.08, Time: 04:14:56 \n"
     ]
    },
    {
     "name": "stderr",
     "output_type": "stream",
     "text": [
      " 47%|████▋     | 933/2000 [4:15:04<5:00:21, 16.89s/it]"
     ]
    },
    {
     "name": "stdout",
     "output_type": "stream",
     "text": [
      "Ep. 934, Timestep 1262569,  Ep.Timesteps 1600, Score: -179.79, Avg.Score: -176.15, Time: 04:15:13 \n"
     ]
    },
    {
     "name": "stderr",
     "output_type": "stream",
     "text": [
      " 47%|████▋     | 934/2000 [4:15:20<4:57:28, 16.74s/it]"
     ]
    },
    {
     "name": "stdout",
     "output_type": "stream",
     "text": [
      "Ep. 935, Timestep 1264169,  Ep.Timesteps 1600, Score: -177.01, Avg.Score: -176.18, Time: 04:15:30 \n"
     ]
    },
    {
     "name": "stderr",
     "output_type": "stream",
     "text": [
      " 47%|████▋     | 935/2000 [4:15:37<4:56:02, 16.68s/it]"
     ]
    },
    {
     "name": "stdout",
     "output_type": "stream",
     "text": [
      "Ep. 936, Timestep 1265769,  Ep.Timesteps 1600, Score: -181.03, Avg.Score: -176.25, Time: 04:15:46 \n"
     ]
    },
    {
     "name": "stderr",
     "output_type": "stream",
     "text": [
      " 47%|████▋     | 936/2000 [4:15:54<4:58:26, 16.83s/it]"
     ]
    },
    {
     "name": "stdout",
     "output_type": "stream",
     "text": [
      "Ep. 937, Timestep 1267369,  Ep.Timesteps 1600, Score: -175.73, Avg.Score: -176.27, Time: 04:16:01 \n"
     ]
    },
    {
     "name": "stderr",
     "output_type": "stream",
     "text": [
      " 47%|████▋     | 937/2000 [4:16:10<4:55:45, 16.69s/it]"
     ]
    },
    {
     "name": "stdout",
     "output_type": "stream",
     "text": [
      "Ep. 938, Timestep 1268969,  Ep.Timesteps 1600, Score: -182.72, Avg.Score: -176.35, Time: 04:16:19 \n"
     ]
    },
    {
     "name": "stderr",
     "output_type": "stream",
     "text": [
      " 47%|████▋     | 938/2000 [4:16:26<4:53:41, 16.59s/it]"
     ]
    },
    {
     "name": "stdout",
     "output_type": "stream",
     "text": [
      "Ep. 939, Timestep 1270569,  Ep.Timesteps 1600, Score: -180.07, Avg.Score: -176.42, Time: 04:16:36 \n"
     ]
    },
    {
     "name": "stderr",
     "output_type": "stream",
     "text": [
      " 47%|████▋     | 939/2000 [4:16:43<4:52:08, 16.52s/it]"
     ]
    },
    {
     "name": "stdout",
     "output_type": "stream",
     "text": [
      "Ep. 940, Timestep 1272169,  Ep.Timesteps 1600, Score: -178.25, Avg.Score: -176.46, Time: 04:16:53 \n"
     ]
    },
    {
     "name": "stderr",
     "output_type": "stream",
     "text": [
      " 47%|████▋     | 940/2000 [4:17:00<4:57:45, 16.85s/it]"
     ]
    },
    {
     "name": "stdout",
     "output_type": "stream",
     "text": [
      "Ep. 941, Timestep 1273769,  Ep.Timesteps 1600, Score: -180.45, Avg.Score: -176.53, Time: 04:17:09 \n"
     ]
    },
    {
     "name": "stderr",
     "output_type": "stream",
     "text": [
      " 47%|████▋     | 941/2000 [4:17:17<4:56:51, 16.82s/it]"
     ]
    },
    {
     "name": "stdout",
     "output_type": "stream",
     "text": [
      "Ep. 942, Timestep 1275369,  Ep.Timesteps 1600, Score: -176.86, Avg.Score: -176.55, Time: 04:17:26 \n"
     ]
    },
    {
     "name": "stderr",
     "output_type": "stream",
     "text": [
      " 47%|████▋     | 942/2000 [4:17:33<4:53:40, 16.65s/it]"
     ]
    },
    {
     "name": "stdout",
     "output_type": "stream",
     "text": [
      "Ep. 943, Timestep 1276969,  Ep.Timesteps 1600, Score: -180.44, Avg.Score: -176.55, Time: 04:17:43 \n"
     ]
    },
    {
     "name": "stderr",
     "output_type": "stream",
     "text": [
      " 47%|████▋     | 943/2000 [4:17:51<4:57:10, 16.87s/it]"
     ]
    },
    {
     "name": "stdout",
     "output_type": "stream",
     "text": [
      "Ep. 944, Timestep 1278569,  Ep.Timesteps 1600, Score: -180.81, Avg.Score: -176.60, Time: 04:18:00 \n"
     ]
    },
    {
     "name": "stderr",
     "output_type": "stream",
     "text": [
      " 47%|████▋     | 944/2000 [4:18:07<4:54:48, 16.75s/it]"
     ]
    },
    {
     "name": "stdout",
     "output_type": "stream",
     "text": [
      "Ep. 945, Timestep 1280169,  Ep.Timesteps 1600, Score: -180.69, Avg.Score: -176.58, Time: 04:18:17 \n"
     ]
    },
    {
     "name": "stderr",
     "output_type": "stream",
     "text": [
      " 47%|████▋     | 945/2000 [4:18:24<4:54:06, 16.73s/it]"
     ]
    },
    {
     "name": "stdout",
     "output_type": "stream",
     "text": [
      "Ep. 946, Timestep 1281769,  Ep.Timesteps 1600, Score: -180.66, Avg.Score: -176.62, Time: 04:18:34 \n"
     ]
    },
    {
     "name": "stderr",
     "output_type": "stream",
     "text": [
      " 47%|████▋     | 946/2000 [4:18:41<4:56:30, 16.88s/it]"
     ]
    },
    {
     "name": "stdout",
     "output_type": "stream",
     "text": [
      "Ep. 947, Timestep 1283369,  Ep.Timesteps 1600, Score: -174.14, Avg.Score: -176.55, Time: 04:18:50 \n"
     ]
    },
    {
     "name": "stderr",
     "output_type": "stream",
     "text": [
      " 47%|████▋     | 947/2000 [4:18:58<4:57:28, 16.95s/it]"
     ]
    },
    {
     "name": "stdout",
     "output_type": "stream",
     "text": [
      "Ep. 948, Timestep 1284969,  Ep.Timesteps 1600, Score: -173.36, Avg.Score: -176.53, Time: 04:19:07 \n"
     ]
    },
    {
     "name": "stderr",
     "output_type": "stream",
     "text": [
      " 47%|████▋     | 948/2000 [4:19:15<4:54:37, 16.80s/it]"
     ]
    },
    {
     "name": "stdout",
     "output_type": "stream",
     "text": [
      "Ep. 949, Timestep 1286569,  Ep.Timesteps 1600, Score: -174.21, Avg.Score: -176.46, Time: 04:19:24 \n"
     ]
    },
    {
     "name": "stderr",
     "output_type": "stream",
     "text": [
      " 47%|████▋     | 949/2000 [4:19:32<4:55:29, 16.87s/it]"
     ]
    },
    {
     "name": "stdout",
     "output_type": "stream",
     "text": [
      "Ep. 950, Timestep 1288169,  Ep.Timesteps 1600, Score: -173.58, Avg.Score: -176.43, Time: 04:19:41 \n"
     ]
    },
    {
     "name": "stderr",
     "output_type": "stream",
     "text": [
      " 48%|████▊     | 950/2000 [4:19:49<4:57:01, 16.97s/it]"
     ]
    },
    {
     "name": "stdout",
     "output_type": "stream",
     "text": [
      "Ep. 951, Timestep 1289769,  Ep.Timesteps 1600, Score: -173.57, Avg.Score: -176.39, Time: 04:19:58 \n"
     ]
    },
    {
     "name": "stderr",
     "output_type": "stream",
     "text": [
      " 48%|████▊     | 951/2000 [4:20:06<4:59:22, 17.12s/it]"
     ]
    },
    {
     "name": "stdout",
     "output_type": "stream",
     "text": [
      "Ep. 952, Timestep 1291369,  Ep.Timesteps 1600, Score: -173.76, Avg.Score: -176.30, Time: 04:20:14 \n"
     ]
    },
    {
     "name": "stderr",
     "output_type": "stream",
     "text": [
      " 48%|████▊     | 952/2000 [4:20:22<4:52:11, 16.73s/it]"
     ]
    },
    {
     "name": "stdout",
     "output_type": "stream",
     "text": [
      "Ep. 953, Timestep 1292969,  Ep.Timesteps 1600, Score: -173.68, Avg.Score: -176.29, Time: 04:20:31 \n"
     ]
    },
    {
     "name": "stderr",
     "output_type": "stream",
     "text": [
      " 48%|████▊     | 953/2000 [4:20:38<4:49:06, 16.57s/it]"
     ]
    },
    {
     "name": "stdout",
     "output_type": "stream",
     "text": [
      "Ep. 954, Timestep 1294569,  Ep.Timesteps 1600, Score: -173.76, Avg.Score: -176.21, Time: 04:20:48 \n"
     ]
    },
    {
     "name": "stderr",
     "output_type": "stream",
     "text": [
      " 48%|████▊     | 954/2000 [4:20:55<4:50:29, 16.66s/it]"
     ]
    },
    {
     "name": "stdout",
     "output_type": "stream",
     "text": [
      "Ep. 955, Timestep 1296169,  Ep.Timesteps 1600, Score: -173.99, Avg.Score: -176.15, Time: 04:21:04 \n"
     ]
    },
    {
     "name": "stderr",
     "output_type": "stream",
     "text": [
      " 48%|████▊     | 955/2000 [4:21:12<4:49:53, 16.64s/it]"
     ]
    },
    {
     "name": "stdout",
     "output_type": "stream",
     "text": [
      "Ep. 956, Timestep 1297769,  Ep.Timesteps 1600, Score: -173.84, Avg.Score: -176.13, Time: 04:21:21 \n"
     ]
    },
    {
     "name": "stderr",
     "output_type": "stream",
     "text": [
      " 48%|████▊     | 956/2000 [4:21:28<4:48:54, 16.60s/it]"
     ]
    },
    {
     "name": "stdout",
     "output_type": "stream",
     "text": [
      "Ep. 957, Timestep 1299369,  Ep.Timesteps 1600, Score: -173.48, Avg.Score: -176.05, Time: 04:21:38 \n"
     ]
    },
    {
     "name": "stderr",
     "output_type": "stream",
     "text": [
      " 48%|████▊     | 957/2000 [4:21:45<4:47:22, 16.53s/it]"
     ]
    },
    {
     "name": "stdout",
     "output_type": "stream",
     "text": [
      "Ep. 958, Timestep 1300969,  Ep.Timesteps 1600, Score: -173.75, Avg.Score: -175.99, Time: 04:21:55 \n"
     ]
    },
    {
     "name": "stderr",
     "output_type": "stream",
     "text": [
      " 48%|████▊     | 958/2000 [4:22:02<4:50:08, 16.71s/it]"
     ]
    },
    {
     "name": "stdout",
     "output_type": "stream",
     "text": [
      "Ep. 959, Timestep 1302569,  Ep.Timesteps 1600, Score: -173.81, Avg.Score: -175.97, Time: 04:22:11 \n"
     ]
    },
    {
     "name": "stderr",
     "output_type": "stream",
     "text": [
      " 48%|████▊     | 959/2000 [4:22:18<4:48:58, 16.66s/it]"
     ]
    },
    {
     "name": "stdout",
     "output_type": "stream",
     "text": [
      "Ep. 960, Timestep 1304169,  Ep.Timesteps 1600, Score: -173.52, Avg.Score: -175.89, Time: 04:22:28 \n"
     ]
    },
    {
     "name": "stderr",
     "output_type": "stream",
     "text": [
      " 48%|████▊     | 960/2000 [4:22:36<4:52:16, 16.86s/it]"
     ]
    },
    {
     "name": "stdout",
     "output_type": "stream",
     "text": [
      "Ep. 961, Timestep 1305769,  Ep.Timesteps 1600, Score: -173.49, Avg.Score: -175.86, Time: 04:22:45 \n"
     ]
    },
    {
     "name": "stderr",
     "output_type": "stream",
     "text": [
      " 48%|████▊     | 961/2000 [4:22:53<4:55:43, 17.08s/it]"
     ]
    },
    {
     "name": "stdout",
     "output_type": "stream",
     "text": [
      "Ep. 962, Timestep 1307369,  Ep.Timesteps 1600, Score: -173.47, Avg.Score: -175.84, Time: 04:23:01 \n"
     ]
    },
    {
     "name": "stderr",
     "output_type": "stream",
     "text": [
      " 48%|████▊     | 962/2000 [4:23:09<4:49:31, 16.74s/it]"
     ]
    },
    {
     "name": "stdout",
     "output_type": "stream",
     "text": [
      "Ep. 963, Timestep 1308969,  Ep.Timesteps 1600, Score: -176.02, Avg.Score: -175.84, Time: 04:23:18 \n"
     ]
    },
    {
     "name": "stderr",
     "output_type": "stream",
     "text": [
      " 48%|████▊     | 963/2000 [4:23:26<4:47:48, 16.65s/it]"
     ]
    },
    {
     "name": "stdout",
     "output_type": "stream",
     "text": [
      "Ep. 964, Timestep 1310569,  Ep.Timesteps 1600, Score: -180.95, Avg.Score: -175.88, Time: 04:23:35 \n"
     ]
    },
    {
     "name": "stderr",
     "output_type": "stream",
     "text": [
      " 48%|████▊     | 964/2000 [4:23:43<4:50:23, 16.82s/it]"
     ]
    },
    {
     "name": "stdout",
     "output_type": "stream",
     "text": [
      "Ep. 965, Timestep 1312169,  Ep.Timesteps 1600, Score: -176.35, Avg.Score: -175.91, Time: 04:23:52 \n"
     ]
    },
    {
     "name": "stderr",
     "output_type": "stream",
     "text": [
      " 48%|████▊     | 965/2000 [4:24:00<4:50:09, 16.82s/it]"
     ]
    },
    {
     "name": "stdout",
     "output_type": "stream",
     "text": [
      "Ep. 966, Timestep 1313769,  Ep.Timesteps 1600, Score: -175.93, Avg.Score: -175.93, Time: 04:24:09 \n"
     ]
    },
    {
     "name": "stderr",
     "output_type": "stream",
     "text": [
      " 48%|████▊     | 966/2000 [4:24:17<4:49:29, 16.80s/it]"
     ]
    },
    {
     "name": "stdout",
     "output_type": "stream",
     "text": [
      "Ep. 967, Timestep 1315369,  Ep.Timesteps 1600, Score: -182.35, Avg.Score: -176.01, Time: 04:24:26 \n"
     ]
    },
    {
     "name": "stderr",
     "output_type": "stream",
     "text": [
      " 48%|████▊     | 967/2000 [4:24:33<4:48:00, 16.73s/it]"
     ]
    },
    {
     "name": "stdout",
     "output_type": "stream",
     "text": [
      "Ep. 968, Timestep 1316969,  Ep.Timesteps 1600, Score: -176.29, Avg.Score: -176.04, Time: 04:24:43 \n"
     ]
    },
    {
     "name": "stderr",
     "output_type": "stream",
     "text": [
      " 48%|████▊     | 968/2000 [4:24:50<4:50:51, 16.91s/it]"
     ]
    },
    {
     "name": "stdout",
     "output_type": "stream",
     "text": [
      "Ep. 969, Timestep 1318569,  Ep.Timesteps 1600, Score: -179.75, Avg.Score: -176.10, Time: 04:25:00 \n"
     ]
    },
    {
     "name": "stderr",
     "output_type": "stream",
     "text": [
      " 48%|████▊     | 969/2000 [4:25:07<4:47:13, 16.71s/it]"
     ]
    },
    {
     "name": "stdout",
     "output_type": "stream",
     "text": [
      "Ep. 970, Timestep 1318722,  Ep.Timesteps 153, Score: -118.72, Avg.Score: -175.55, Time: 04:25:10 \n"
     ]
    },
    {
     "name": "stderr",
     "output_type": "stream",
     "text": [
      " 48%|████▊     | 970/2000 [4:25:08<3:29:19, 12.19s/it]"
     ]
    },
    {
     "name": "stdout",
     "output_type": "stream",
     "text": [
      "Ep. 971, Timestep 1320322,  Ep.Timesteps 1600, Score: -179.98, Avg.Score: -175.61, Time: 04:25:19 \n"
     ]
    },
    {
     "name": "stderr",
     "output_type": "stream",
     "text": [
      " 49%|████▊     | 971/2000 [4:25:25<3:53:41, 13.63s/it]"
     ]
    },
    {
     "name": "stdout",
     "output_type": "stream",
     "text": [
      "Ep. 972, Timestep 1321922,  Ep.Timesteps 1600, Score: -180.05, Avg.Score: -175.68, Time: 04:25:35 \n"
     ]
    },
    {
     "name": "stderr",
     "output_type": "stream",
     "text": [
      " 49%|████▊     | 972/2000 [4:25:43<4:12:35, 14.74s/it]"
     ]
    },
    {
     "name": "stdout",
     "output_type": "stream",
     "text": [
      "Ep. 973, Timestep 1323522,  Ep.Timesteps 1600, Score: -180.60, Avg.Score: -175.75, Time: 04:25:51 \n"
     ]
    },
    {
     "name": "stderr",
     "output_type": "stream",
     "text": [
      " 49%|████▊     | 973/2000 [4:26:00<4:23:50, 15.41s/it]"
     ]
    },
    {
     "name": "stdout",
     "output_type": "stream",
     "text": [
      "Ep. 974, Timestep 1325122,  Ep.Timesteps 1600, Score: -181.11, Avg.Score: -175.82, Time: 04:26:08 \n"
     ]
    },
    {
     "name": "stderr",
     "output_type": "stream",
     "text": [
      " 49%|████▊     | 974/2000 [4:26:16<4:28:01, 15.67s/it]"
     ]
    },
    {
     "name": "stdout",
     "output_type": "stream",
     "text": [
      "Ep. 975, Timestep 1326722,  Ep.Timesteps 1600, Score: -181.01, Avg.Score: -175.89, Time: 04:26:25 \n"
     ]
    },
    {
     "name": "stderr",
     "output_type": "stream",
     "text": [
      " 49%|████▉     | 975/2000 [4:26:32<4:30:40, 15.84s/it]"
     ]
    },
    {
     "name": "stdout",
     "output_type": "stream",
     "text": [
      "Ep. 976, Timestep 1328322,  Ep.Timesteps 1600, Score: -180.43, Avg.Score: -175.96, Time: 04:26:41 \n"
     ]
    },
    {
     "name": "stderr",
     "output_type": "stream",
     "text": [
      " 49%|████▉     | 976/2000 [4:26:50<4:38:07, 16.30s/it]"
     ]
    },
    {
     "name": "stdout",
     "output_type": "stream",
     "text": [
      "Ep. 977, Timestep 1329922,  Ep.Timesteps 1600, Score: -179.96, Avg.Score: -176.02, Time: 04:26:58 \n"
     ]
    },
    {
     "name": "stderr",
     "output_type": "stream",
     "text": [
      " 49%|████▉     | 977/2000 [4:27:06<4:39:23, 16.39s/it]"
     ]
    },
    {
     "name": "stdout",
     "output_type": "stream",
     "text": [
      "Ep. 978, Timestep 1331522,  Ep.Timesteps 1600, Score: -181.98, Avg.Score: -176.11, Time: 04:27:15 \n"
     ]
    },
    {
     "name": "stderr",
     "output_type": "stream",
     "text": [
      " 49%|████▉     | 978/2000 [4:27:22<4:37:35, 16.30s/it]"
     ]
    },
    {
     "name": "stdout",
     "output_type": "stream",
     "text": [
      "Ep. 979, Timestep 1333122,  Ep.Timesteps 1600, Score: -176.83, Avg.Score: -176.14, Time: 04:27:32 \n"
     ]
    },
    {
     "name": "stderr",
     "output_type": "stream",
     "text": [
      " 49%|████▉     | 979/2000 [4:27:39<4:41:56, 16.57s/it]"
     ]
    },
    {
     "name": "stdout",
     "output_type": "stream",
     "text": [
      "Ep. 980, Timestep 1334722,  Ep.Timesteps 1600, Score: -179.69, Avg.Score: -176.19, Time: 04:27:49 \n"
     ]
    },
    {
     "name": "stderr",
     "output_type": "stream",
     "text": [
      " 49%|████▉     | 980/2000 [4:27:56<4:44:05, 16.71s/it]"
     ]
    },
    {
     "name": "stdout",
     "output_type": "stream",
     "text": [
      "Ep. 981, Timestep 1336322,  Ep.Timesteps 1600, Score: -180.91, Avg.Score: -176.26, Time: 04:28:06 \n"
     ]
    },
    {
     "name": "stderr",
     "output_type": "stream",
     "text": [
      " 49%|████▉     | 981/2000 [4:28:14<4:45:42, 16.82s/it]"
     ]
    },
    {
     "name": "stdout",
     "output_type": "stream",
     "text": [
      "Ep. 982, Timestep 1337922,  Ep.Timesteps 1600, Score: -182.46, Avg.Score: -176.35, Time: 04:28:22 \n"
     ]
    },
    {
     "name": "stderr",
     "output_type": "stream",
     "text": [
      " 49%|████▉     | 982/2000 [4:28:30<4:45:37, 16.83s/it]"
     ]
    },
    {
     "name": "stdout",
     "output_type": "stream",
     "text": [
      "Ep. 983, Timestep 1339522,  Ep.Timesteps 1600, Score: -180.07, Avg.Score: -176.34, Time: 04:28:39 \n"
     ]
    },
    {
     "name": "stderr",
     "output_type": "stream",
     "text": [
      " 49%|████▉     | 983/2000 [4:28:47<4:44:00, 16.76s/it]"
     ]
    },
    {
     "name": "stdout",
     "output_type": "stream",
     "text": [
      "Ep. 984, Timestep 1341122,  Ep.Timesteps 1600, Score: -181.34, Avg.Score: -176.40, Time: 04:28:55 \n"
     ]
    },
    {
     "name": "stderr",
     "output_type": "stream",
     "text": [
      " 49%|████▉     | 984/2000 [4:29:03<4:40:18, 16.55s/it]"
     ]
    },
    {
     "name": "stdout",
     "output_type": "stream",
     "text": [
      "Ep. 985, Timestep 1342722,  Ep.Timesteps 1600, Score: -182.78, Avg.Score: -176.47, Time: 04:29:13 \n"
     ]
    },
    {
     "name": "stderr",
     "output_type": "stream",
     "text": [
      " 49%|████▉     | 985/2000 [4:29:20<4:41:53, 16.66s/it]"
     ]
    },
    {
     "name": "stdout",
     "output_type": "stream",
     "text": [
      "Ep. 986, Timestep 1344322,  Ep.Timesteps 1600, Score: -182.11, Avg.Score: -176.52, Time: 04:29:30 \n"
     ]
    },
    {
     "name": "stderr",
     "output_type": "stream",
     "text": [
      " 49%|████▉     | 986/2000 [4:29:37<4:44:59, 16.86s/it]"
     ]
    },
    {
     "name": "stdout",
     "output_type": "stream",
     "text": [
      "Ep. 987, Timestep 1345922,  Ep.Timesteps 1600, Score: -179.93, Avg.Score: -176.51, Time: 04:29:47 \n"
     ]
    },
    {
     "name": "stderr",
     "output_type": "stream",
     "text": [
      " 49%|████▉     | 987/2000 [4:29:54<4:45:01, 16.88s/it]"
     ]
    },
    {
     "name": "stdout",
     "output_type": "stream",
     "text": [
      "Ep. 988, Timestep 1347522,  Ep.Timesteps 1600, Score: -173.60, Avg.Score: -176.44, Time: 04:30:03 \n"
     ]
    },
    {
     "name": "stderr",
     "output_type": "stream",
     "text": [
      " 49%|████▉     | 988/2000 [4:30:11<4:42:35, 16.75s/it]"
     ]
    },
    {
     "name": "stdout",
     "output_type": "stream",
     "text": [
      "Ep. 989, Timestep 1349122,  Ep.Timesteps 1600, Score: -173.65, Avg.Score: -176.37, Time: 04:30:20 \n"
     ]
    },
    {
     "name": "stderr",
     "output_type": "stream",
     "text": [
      " 49%|████▉     | 989/2000 [4:30:27<4:40:21, 16.64s/it]"
     ]
    },
    {
     "name": "stdout",
     "output_type": "stream",
     "text": [
      "Ep. 990, Timestep 1350722,  Ep.Timesteps 1600, Score: -173.43, Avg.Score: -176.30, Time: 04:30:36 \n"
     ]
    },
    {
     "name": "stderr",
     "output_type": "stream",
     "text": [
      " 50%|████▉     | 990/2000 [4:30:44<4:42:56, 16.81s/it]"
     ]
    },
    {
     "name": "stdout",
     "output_type": "stream",
     "text": [
      "Ep. 991, Timestep 1352322,  Ep.Timesteps 1600, Score: -173.72, Avg.Score: -176.28, Time: 04:30:53 \n"
     ]
    },
    {
     "name": "stderr",
     "output_type": "stream",
     "text": [
      " 50%|████▉     | 991/2000 [4:31:01<4:41:15, 16.73s/it]"
     ]
    },
    {
     "name": "stdout",
     "output_type": "stream",
     "text": [
      "Ep. 992, Timestep 1353922,  Ep.Timesteps 1600, Score: -177.13, Avg.Score: -176.25, Time: 04:31:10 \n"
     ]
    },
    {
     "name": "stderr",
     "output_type": "stream",
     "text": [
      " 50%|████▉     | 992/2000 [4:31:18<4:41:30, 16.76s/it]"
     ]
    },
    {
     "name": "stdout",
     "output_type": "stream",
     "text": [
      "Ep. 993, Timestep 1355522,  Ep.Timesteps 1600, Score: -179.63, Avg.Score: -176.26, Time: 04:31:26 \n"
     ]
    },
    {
     "name": "stderr",
     "output_type": "stream",
     "text": [
      " 50%|████▉     | 993/2000 [4:31:34<4:41:15, 16.76s/it]"
     ]
    },
    {
     "name": "stdout",
     "output_type": "stream",
     "text": [
      "Ep. 994, Timestep 1357122,  Ep.Timesteps 1600, Score: -176.27, Avg.Score: -176.22, Time: 04:31:43 \n"
     ]
    },
    {
     "name": "stderr",
     "output_type": "stream",
     "text": [
      " 50%|████▉     | 994/2000 [4:31:51<4:41:09, 16.77s/it]"
     ]
    },
    {
     "name": "stdout",
     "output_type": "stream",
     "text": [
      "Ep. 995, Timestep 1358722,  Ep.Timesteps 1600, Score: -178.21, Avg.Score: -176.20, Time: 04:32:01 \n"
     ]
    },
    {
     "name": "stderr",
     "output_type": "stream",
     "text": [
      " 50%|████▉     | 995/2000 [4:32:08<4:41:13, 16.79s/it]"
     ]
    },
    {
     "name": "stdout",
     "output_type": "stream",
     "text": [
      "Ep. 996, Timestep 1360322,  Ep.Timesteps 1600, Score: -173.38, Avg.Score: -176.11, Time: 04:32:18 \n"
     ]
    },
    {
     "name": "stderr",
     "output_type": "stream",
     "text": [
      " 50%|████▉     | 996/2000 [4:32:25<4:41:43, 16.84s/it]"
     ]
    },
    {
     "name": "stdout",
     "output_type": "stream",
     "text": [
      "Ep. 997, Timestep 1361922,  Ep.Timesteps 1600, Score: -173.79, Avg.Score: -176.05, Time: 04:32:35 \n"
     ]
    },
    {
     "name": "stderr",
     "output_type": "stream",
     "text": [
      " 50%|████▉     | 997/2000 [4:32:43<4:46:08, 17.12s/it]"
     ]
    },
    {
     "name": "stdout",
     "output_type": "stream",
     "text": [
      "Ep. 998, Timestep 1363522,  Ep.Timesteps 1600, Score: -174.06, Avg.Score: -176.03, Time: 04:32:51 \n"
     ]
    },
    {
     "name": "stderr",
     "output_type": "stream",
     "text": [
      " 50%|████▉     | 998/2000 [4:32:59<4:43:11, 16.96s/it]"
     ]
    },
    {
     "name": "stdout",
     "output_type": "stream",
     "text": [
      "Ep. 999, Timestep 1365122,  Ep.Timesteps 1600, Score: -173.86, Avg.Score: -176.02, Time: 04:33:09 \n"
     ]
    },
    {
     "name": "stderr",
     "output_type": "stream",
     "text": [
      " 50%|████▉     | 999/2000 [4:33:16<4:42:56, 16.96s/it]"
     ]
    },
    {
     "name": "stdout",
     "output_type": "stream",
     "text": [
      "Ep. 1000, Timestep 1366722,  Ep.Timesteps 1600, Score: -173.45, Avg.Score: -175.98, Time: 04:33:26 \n"
     ]
    },
    {
     "name": "stderr",
     "output_type": "stream",
     "text": [
      " 50%|█████     | 1000/2000 [4:33:34<4:45:51, 17.15s/it]"
     ]
    },
    {
     "name": "stdout",
     "output_type": "stream",
     "text": [
      "Ep. 1001, Timestep 1368322,  Ep.Timesteps 1600, Score: -173.47, Avg.Score: -175.88, Time: 04:33:44 \n"
     ]
    },
    {
     "name": "stderr",
     "output_type": "stream",
     "text": [
      " 50%|█████     | 1001/2000 [4:33:51<4:47:03, 17.24s/it]"
     ]
    },
    {
     "name": "stdout",
     "output_type": "stream",
     "text": [
      "Ep. 1002, Timestep 1369922,  Ep.Timesteps 1600, Score: -173.84, Avg.Score: -175.86, Time: 04:34:00 \n"
     ]
    },
    {
     "name": "stderr",
     "output_type": "stream",
     "text": [
      " 50%|█████     | 1002/2000 [4:34:08<4:44:34, 17.11s/it]"
     ]
    },
    {
     "name": "stdout",
     "output_type": "stream",
     "text": [
      "Ep. 1003, Timestep 1371522,  Ep.Timesteps 1600, Score: -175.84, Avg.Score: -175.81, Time: 04:34:17 \n"
     ]
    },
    {
     "name": "stderr",
     "output_type": "stream",
     "text": [
      " 50%|█████     | 1003/2000 [4:34:24<4:39:43, 16.83s/it]"
     ]
    },
    {
     "name": "stdout",
     "output_type": "stream",
     "text": [
      "Ep. 1004, Timestep 1373122,  Ep.Timesteps 1600, Score: -175.44, Avg.Score: -175.75, Time: 04:34:33 \n"
     ]
    },
    {
     "name": "stderr",
     "output_type": "stream",
     "text": [
      " 50%|█████     | 1004/2000 [4:34:41<4:38:19, 16.77s/it]"
     ]
    },
    {
     "name": "stdout",
     "output_type": "stream",
     "text": [
      "Ep. 1005, Timestep 1374722,  Ep.Timesteps 1600, Score: -180.15, Avg.Score: -175.80, Time: 04:34:49 \n"
     ]
    },
    {
     "name": "stderr",
     "output_type": "stream",
     "text": [
      " 50%|█████     | 1005/2000 [4:34:57<4:33:35, 16.50s/it]"
     ]
    },
    {
     "name": "stdout",
     "output_type": "stream",
     "text": [
      "Ep. 1006, Timestep 1376322,  Ep.Timesteps 1600, Score: -181.24, Avg.Score: -175.87, Time: 04:35:06 \n"
     ]
    },
    {
     "name": "stderr",
     "output_type": "stream",
     "text": [
      " 50%|█████     | 1006/2000 [4:35:14<4:35:24, 16.62s/it]"
     ]
    },
    {
     "name": "stdout",
     "output_type": "stream",
     "text": [
      "Ep. 1007, Timestep 1377922,  Ep.Timesteps 1600, Score: -180.19, Avg.Score: -175.94, Time: 04:35:23 \n"
     ]
    },
    {
     "name": "stderr",
     "output_type": "stream",
     "text": [
      " 50%|█████     | 1007/2000 [4:35:30<4:35:07, 16.62s/it]"
     ]
    },
    {
     "name": "stdout",
     "output_type": "stream",
     "text": [
      "Ep. 1008, Timestep 1379522,  Ep.Timesteps 1600, Score: -175.66, Avg.Score: -176.44, Time: 04:35:39 \n"
     ]
    },
    {
     "name": "stderr",
     "output_type": "stream",
     "text": [
      " 50%|█████     | 1008/2000 [4:35:47<4:35:44, 16.68s/it]"
     ]
    },
    {
     "name": "stdout",
     "output_type": "stream",
     "text": [
      "Ep. 1009, Timestep 1381122,  Ep.Timesteps 1600, Score: -181.14, Avg.Score: -176.52, Time: 04:35:56 \n"
     ]
    },
    {
     "name": "stderr",
     "output_type": "stream",
     "text": [
      " 50%|█████     | 1009/2000 [4:36:03<4:32:43, 16.51s/it]"
     ]
    },
    {
     "name": "stdout",
     "output_type": "stream",
     "text": [
      "Ep. 1010, Timestep 1382722,  Ep.Timesteps 1600, Score: -181.66, Avg.Score: -176.60, Time: 04:36:13 \n"
     ]
    },
    {
     "name": "stderr",
     "output_type": "stream",
     "text": [
      " 50%|█████     | 1010/2000 [4:36:20<4:34:52, 16.66s/it]"
     ]
    },
    {
     "name": "stdout",
     "output_type": "stream",
     "text": [
      "Ep. 1011, Timestep 1384322,  Ep.Timesteps 1600, Score: -175.40, Avg.Score: -176.62, Time: 04:36:31 \n"
     ]
    },
    {
     "name": "stderr",
     "output_type": "stream",
     "text": [
      " 51%|█████     | 1011/2000 [4:36:37<4:37:16, 16.82s/it]"
     ]
    },
    {
     "name": "stdout",
     "output_type": "stream",
     "text": [
      "Ep. 1012, Timestep 1385922,  Ep.Timesteps 1600, Score: -182.80, Avg.Score: -176.71, Time: 04:36:45 \n"
     ]
    },
    {
     "name": "stderr",
     "output_type": "stream",
     "text": [
      " 51%|█████     | 1012/2000 [4:36:51<4:19:40, 15.77s/it]"
     ]
    },
    {
     "name": "stdout",
     "output_type": "stream",
     "text": [
      "Ep. 1013, Timestep 1387522,  Ep.Timesteps 1600, Score: -177.34, Avg.Score: -176.74, Time: 04:36:58 \n"
     ]
    },
    {
     "name": "stderr",
     "output_type": "stream",
     "text": [
      " 51%|█████     | 1013/2000 [4:37:04<4:06:19, 14.97s/it]"
     ]
    },
    {
     "name": "stdout",
     "output_type": "stream",
     "text": [
      "Ep. 1014, Timestep 1389122,  Ep.Timesteps 1600, Score: -182.74, Avg.Score: -176.83, Time: 04:37:12 \n"
     ]
    },
    {
     "name": "stderr",
     "output_type": "stream",
     "text": [
      " 51%|█████     | 1014/2000 [4:37:18<4:00:07, 14.61s/it]"
     ]
    },
    {
     "name": "stdout",
     "output_type": "stream",
     "text": [
      "Ep. 1015, Timestep 1390722,  Ep.Timesteps 1600, Score: -175.86, Avg.Score: -176.85, Time: 04:37:25 \n"
     ]
    },
    {
     "name": "stderr",
     "output_type": "stream",
     "text": [
      " 51%|█████     | 1015/2000 [4:37:31<3:54:23, 14.28s/it]"
     ]
    },
    {
     "name": "stdout",
     "output_type": "stream",
     "text": [
      "Ep. 1016, Timestep 1392322,  Ep.Timesteps 1600, Score: -181.13, Avg.Score: -176.93, Time: 04:37:39 \n"
     ]
    },
    {
     "name": "stderr",
     "output_type": "stream",
     "text": [
      " 51%|█████     | 1016/2000 [4:37:46<3:54:44, 14.31s/it]"
     ]
    },
    {
     "name": "stdout",
     "output_type": "stream",
     "text": [
      "Ep. 1017, Timestep 1393922,  Ep.Timesteps 1600, Score: -180.30, Avg.Score: -176.99, Time: 04:37:53 \n"
     ]
    },
    {
     "name": "stderr",
     "output_type": "stream",
     "text": [
      " 51%|█████     | 1017/2000 [4:37:59<3:50:45, 14.09s/it]"
     ]
    },
    {
     "name": "stdout",
     "output_type": "stream",
     "text": [
      "Ep. 1018, Timestep 1395522,  Ep.Timesteps 1600, Score: -181.01, Avg.Score: -177.07, Time: 04:38:07 \n"
     ]
    },
    {
     "name": "stderr",
     "output_type": "stream",
     "text": [
      " 51%|█████     | 1018/2000 [4:38:13<3:47:13, 13.88s/it]"
     ]
    },
    {
     "name": "stdout",
     "output_type": "stream",
     "text": [
      "Ep. 1019, Timestep 1397122,  Ep.Timesteps 1600, Score: -176.75, Avg.Score: -177.10, Time: 04:38:20 \n"
     ]
    },
    {
     "name": "stderr",
     "output_type": "stream",
     "text": [
      " 51%|█████     | 1019/2000 [4:38:26<3:46:58, 13.88s/it]"
     ]
    },
    {
     "name": "stdout",
     "output_type": "stream",
     "text": [
      "Ep. 1020, Timestep 1398722,  Ep.Timesteps 1600, Score: -177.77, Avg.Score: -177.14, Time: 04:38:34 \n"
     ]
    },
    {
     "name": "stderr",
     "output_type": "stream",
     "text": [
      " 51%|█████     | 1020/2000 [4:38:40<3:46:27, 13.86s/it]"
     ]
    },
    {
     "name": "stdout",
     "output_type": "stream",
     "text": [
      "Ep. 1021, Timestep 1400322,  Ep.Timesteps 1600, Score: -182.38, Avg.Score: -177.23, Time: 04:38:47 \n"
     ]
    },
    {
     "name": "stderr",
     "output_type": "stream",
     "text": [
      " 51%|█████     | 1021/2000 [4:38:54<3:45:24, 13.81s/it]"
     ]
    },
    {
     "name": "stdout",
     "output_type": "stream",
     "text": [
      "Ep. 1022, Timestep 1401922,  Ep.Timesteps 1600, Score: -175.61, Avg.Score: -177.25, Time: 04:39:02 \n"
     ]
    },
    {
     "name": "stderr",
     "output_type": "stream",
     "text": [
      " 51%|█████     | 1022/2000 [4:39:07<3:42:31, 13.65s/it]"
     ]
    },
    {
     "name": "stdout",
     "output_type": "stream",
     "text": [
      "Ep. 1023, Timestep 1403522,  Ep.Timesteps 1600, Score: -179.75, Avg.Score: -177.24, Time: 04:39:15 \n"
     ]
    },
    {
     "name": "stderr",
     "output_type": "stream",
     "text": [
      " 51%|█████     | 1023/2000 [4:39:21<3:42:49, 13.68s/it]"
     ]
    },
    {
     "name": "stdout",
     "output_type": "stream",
     "text": [
      "Ep. 1024, Timestep 1405122,  Ep.Timesteps 1600, Score: -182.39, Avg.Score: -177.32, Time: 04:39:28 \n"
     ]
    },
    {
     "name": "stderr",
     "output_type": "stream",
     "text": [
      " 51%|█████     | 1024/2000 [4:39:35<3:42:09, 13.66s/it]"
     ]
    },
    {
     "name": "stdout",
     "output_type": "stream",
     "text": [
      "Ep. 1025, Timestep 1406722,  Ep.Timesteps 1600, Score: -180.36, Avg.Score: -177.32, Time: 04:39:42 \n"
     ]
    },
    {
     "name": "stderr",
     "output_type": "stream",
     "text": [
      " 51%|█████▏    | 1025/2000 [4:39:48<3:40:43, 13.58s/it]"
     ]
    },
    {
     "name": "stdout",
     "output_type": "stream",
     "text": [
      "Ep. 1026, Timestep 1406867,  Ep.Timesteps 145, Score: -117.84, Avg.Score: -176.68, Time: 04:39:52 \n"
     ]
    },
    {
     "name": "stderr",
     "output_type": "stream",
     "text": [
      " 51%|█████▏    | 1026/2000 [4:39:49<2:40:42,  9.90s/it]"
     ]
    },
    {
     "name": "stdout",
     "output_type": "stream",
     "text": [
      "Ep. 1027, Timestep 1408467,  Ep.Timesteps 1600, Score: -179.09, Avg.Score: -176.74, Time: 04:39:57 \n"
     ]
    },
    {
     "name": "stderr",
     "output_type": "stream",
     "text": [
      " 51%|█████▏    | 1027/2000 [4:40:02<2:55:41, 10.83s/it]"
     ]
    },
    {
     "name": "stdout",
     "output_type": "stream",
     "text": [
      "Ep. 1028, Timestep 1410067,  Ep.Timesteps 1600, Score: -180.53, Avg.Score: -176.73, Time: 04:40:10 \n"
     ]
    },
    {
     "name": "stderr",
     "output_type": "stream",
     "text": [
      " 51%|█████▏    | 1028/2000 [4:40:16<3:08:48, 11.65s/it]"
     ]
    },
    {
     "name": "stdout",
     "output_type": "stream",
     "text": [
      "Ep. 1029, Timestep 1411667,  Ep.Timesteps 1600, Score: -173.63, Avg.Score: -176.65, Time: 04:40:24 \n"
     ]
    },
    {
     "name": "stderr",
     "output_type": "stream",
     "text": [
      " 51%|█████▏    | 1029/2000 [4:40:29<3:16:32, 12.14s/it]"
     ]
    },
    {
     "name": "stdout",
     "output_type": "stream",
     "text": [
      "Ep. 1030, Timestep 1413267,  Ep.Timesteps 1600, Score: -173.44, Avg.Score: -176.61, Time: 04:40:36 \n"
     ]
    },
    {
     "name": "stderr",
     "output_type": "stream",
     "text": [
      " 52%|█████▏    | 1030/2000 [4:40:43<3:22:53, 12.55s/it]"
     ]
    },
    {
     "name": "stdout",
     "output_type": "stream",
     "text": [
      "Ep. 1031, Timestep 1414867,  Ep.Timesteps 1600, Score: -173.66, Avg.Score: -176.53, Time: 04:40:50 \n"
     ]
    },
    {
     "name": "stderr",
     "output_type": "stream",
     "text": [
      " 52%|█████▏    | 1031/2000 [4:40:56<3:24:15, 12.65s/it]"
     ]
    },
    {
     "name": "stdout",
     "output_type": "stream",
     "text": [
      "Ep. 1032, Timestep 1416467,  Ep.Timesteps 1600, Score: -178.06, Avg.Score: -176.54, Time: 04:41:04 \n"
     ]
    },
    {
     "name": "stderr",
     "output_type": "stream",
     "text": [
      " 52%|█████▏    | 1032/2000 [4:41:10<3:30:38, 13.06s/it]"
     ]
    },
    {
     "name": "stdout",
     "output_type": "stream",
     "text": [
      "Ep. 1033, Timestep 1418067,  Ep.Timesteps 1600, Score: -173.82, Avg.Score: -176.46, Time: 04:41:18 \n"
     ]
    },
    {
     "name": "stderr",
     "output_type": "stream",
     "text": [
      " 52%|█████▏    | 1033/2000 [4:41:24<3:35:19, 13.36s/it]"
     ]
    },
    {
     "name": "stdout",
     "output_type": "stream",
     "text": [
      "Ep. 1034, Timestep 1419667,  Ep.Timesteps 1600, Score: -173.80, Avg.Score: -176.40, Time: 04:41:31 \n"
     ]
    },
    {
     "name": "stderr",
     "output_type": "stream",
     "text": [
      " 52%|█████▏    | 1034/2000 [4:41:38<3:40:52, 13.72s/it]"
     ]
    },
    {
     "name": "stdout",
     "output_type": "stream",
     "text": [
      "Ep. 1035, Timestep 1421267,  Ep.Timesteps 1600, Score: -175.71, Avg.Score: -176.39, Time: 04:41:45 \n"
     ]
    },
    {
     "name": "stderr",
     "output_type": "stream",
     "text": [
      " 52%|█████▏    | 1035/2000 [4:41:52<3:39:37, 13.66s/it]"
     ]
    },
    {
     "name": "stdout",
     "output_type": "stream",
     "text": [
      "Ep. 1036, Timestep 1422867,  Ep.Timesteps 1600, Score: -174.25, Avg.Score: -176.32, Time: 04:42:00 \n"
     ]
    },
    {
     "name": "stderr",
     "output_type": "stream",
     "text": [
      " 52%|█████▏    | 1036/2000 [4:42:06<3:40:44, 13.74s/it]"
     ]
    },
    {
     "name": "stdout",
     "output_type": "stream",
     "text": [
      "Ep. 1037, Timestep 1424467,  Ep.Timesteps 1600, Score: -173.89, Avg.Score: -176.30, Time: 04:42:14 \n"
     ]
    },
    {
     "name": "stderr",
     "output_type": "stream",
     "text": [
      " 52%|█████▏    | 1037/2000 [4:42:20<3:45:20, 14.04s/it]"
     ]
    },
    {
     "name": "stdout",
     "output_type": "stream",
     "text": [
      "Ep. 1038, Timestep 1426067,  Ep.Timesteps 1600, Score: -174.11, Avg.Score: -176.21, Time: 04:42:27 \n"
     ]
    },
    {
     "name": "stderr",
     "output_type": "stream",
     "text": [
      " 52%|█████▏    | 1038/2000 [4:42:33<3:40:38, 13.76s/it]"
     ]
    },
    {
     "name": "stdout",
     "output_type": "stream",
     "text": [
      "Ep. 1039, Timestep 1427667,  Ep.Timesteps 1600, Score: -173.76, Avg.Score: -176.15, Time: 04:42:41 \n"
     ]
    },
    {
     "name": "stderr",
     "output_type": "stream",
     "text": [
      " 52%|█████▏    | 1039/2000 [4:42:46<3:36:12, 13.50s/it]"
     ]
    },
    {
     "name": "stdout",
     "output_type": "stream",
     "text": [
      "Ep. 1040, Timestep 1429267,  Ep.Timesteps 1600, Score: -173.97, Avg.Score: -176.11, Time: 04:42:54 \n"
     ]
    },
    {
     "name": "stderr",
     "output_type": "stream",
     "text": [
      " 52%|█████▏    | 1040/2000 [4:43:00<3:36:25, 13.53s/it]"
     ]
    },
    {
     "name": "stdout",
     "output_type": "stream",
     "text": [
      "Ep. 1041, Timestep 1430867,  Ep.Timesteps 1600, Score: -180.91, Avg.Score: -176.11, Time: 04:43:07 \n"
     ]
    },
    {
     "name": "stderr",
     "output_type": "stream",
     "text": [
      " 52%|█████▏    | 1041/2000 [4:43:13<3:34:02, 13.39s/it]"
     ]
    },
    {
     "name": "stdout",
     "output_type": "stream",
     "text": [
      "Ep. 1042, Timestep 1432467,  Ep.Timesteps 1600, Score: -173.44, Avg.Score: -176.08, Time: 04:43:21 \n"
     ]
    },
    {
     "name": "stderr",
     "output_type": "stream",
     "text": [
      " 52%|█████▏    | 1042/2000 [4:43:26<3:34:04, 13.41s/it]"
     ]
    },
    {
     "name": "stdout",
     "output_type": "stream",
     "text": [
      "Ep. 1043, Timestep 1434067,  Ep.Timesteps 1600, Score: -181.28, Avg.Score: -176.09, Time: 04:43:34 \n"
     ]
    },
    {
     "name": "stderr",
     "output_type": "stream",
     "text": [
      " 52%|█████▏    | 1043/2000 [4:43:40<3:33:53, 13.41s/it]"
     ]
    },
    {
     "name": "stdout",
     "output_type": "stream",
     "text": [
      "Ep. 1044, Timestep 1435667,  Ep.Timesteps 1600, Score: -182.20, Avg.Score: -176.10, Time: 04:43:47 \n"
     ]
    },
    {
     "name": "stderr",
     "output_type": "stream",
     "text": [
      " 52%|█████▏    | 1044/2000 [4:43:53<3:33:06, 13.38s/it]"
     ]
    },
    {
     "name": "stdout",
     "output_type": "stream",
     "text": [
      "Ep. 1045, Timestep 1437267,  Ep.Timesteps 1600, Score: -175.90, Avg.Score: -176.05, Time: 04:44:01 \n"
     ]
    },
    {
     "name": "stderr",
     "output_type": "stream",
     "text": [
      " 52%|█████▏    | 1045/2000 [4:44:08<3:39:48, 13.81s/it]"
     ]
    },
    {
     "name": "stdout",
     "output_type": "stream",
     "text": [
      "Ep. 1046, Timestep 1438867,  Ep.Timesteps 1600, Score: -182.02, Avg.Score: -176.07, Time: 04:44:16 \n"
     ]
    },
    {
     "name": "stderr",
     "output_type": "stream",
     "text": [
      " 52%|█████▏    | 1046/2000 [4:44:23<3:44:03, 14.09s/it]"
     ]
    },
    {
     "name": "stdout",
     "output_type": "stream",
     "text": [
      "Ep. 1047, Timestep 1440467,  Ep.Timesteps 1600, Score: -182.40, Avg.Score: -176.15, Time: 04:44:29 \n"
     ]
    },
    {
     "name": "stderr",
     "output_type": "stream",
     "text": [
      " 52%|█████▏    | 1047/2000 [4:44:35<3:37:23, 13.69s/it]"
     ]
    },
    {
     "name": "stdout",
     "output_type": "stream",
     "text": [
      "Ep. 1048, Timestep 1442067,  Ep.Timesteps 1600, Score: -178.98, Avg.Score: -176.21, Time: 04:44:43 \n"
     ]
    },
    {
     "name": "stderr",
     "output_type": "stream",
     "text": [
      " 52%|█████▏    | 1048/2000 [4:44:49<3:34:18, 13.51s/it]"
     ]
    },
    {
     "name": "stdout",
     "output_type": "stream",
     "text": [
      "Ep. 1049, Timestep 1443667,  Ep.Timesteps 1600, Score: -177.54, Avg.Score: -176.24, Time: 04:44:57 \n"
     ]
    },
    {
     "name": "stderr",
     "output_type": "stream",
     "text": [
      " 52%|█████▏    | 1049/2000 [4:45:02<3:35:54, 13.62s/it]"
     ]
    },
    {
     "name": "stdout",
     "output_type": "stream",
     "text": [
      "Ep. 1050, Timestep 1445267,  Ep.Timesteps 1600, Score: -181.37, Avg.Score: -176.32, Time: 04:45:09 \n"
     ]
    },
    {
     "name": "stderr",
     "output_type": "stream",
     "text": [
      " 52%|█████▎    | 1050/2000 [4:45:16<3:34:09, 13.53s/it]"
     ]
    },
    {
     "name": "stdout",
     "output_type": "stream",
     "text": [
      "Ep. 1051, Timestep 1446867,  Ep.Timesteps 1600, Score: -177.57, Avg.Score: -176.36, Time: 04:45:23 \n"
     ]
    },
    {
     "name": "stderr",
     "output_type": "stream",
     "text": [
      " 53%|█████▎    | 1051/2000 [4:45:29<3:32:44, 13.45s/it]"
     ]
    },
    {
     "name": "stdout",
     "output_type": "stream",
     "text": [
      "Ep. 1052, Timestep 1448467,  Ep.Timesteps 1600, Score: -176.49, Avg.Score: -176.38, Time: 04:45:37 \n"
     ]
    },
    {
     "name": "stderr",
     "output_type": "stream",
     "text": [
      " 53%|█████▎    | 1052/2000 [4:45:43<3:33:22, 13.50s/it]"
     ]
    },
    {
     "name": "stdout",
     "output_type": "stream",
     "text": [
      "Ep. 1053, Timestep 1450067,  Ep.Timesteps 1600, Score: -180.51, Avg.Score: -176.45, Time: 04:45:50 \n"
     ]
    },
    {
     "name": "stderr",
     "output_type": "stream",
     "text": [
      " 53%|█████▎    | 1053/2000 [4:45:56<3:33:08, 13.50s/it]"
     ]
    },
    {
     "name": "stdout",
     "output_type": "stream",
     "text": [
      "Ep. 1054, Timestep 1451667,  Ep.Timesteps 1600, Score: -180.12, Avg.Score: -176.52, Time: 04:46:04 \n"
     ]
    },
    {
     "name": "stderr",
     "output_type": "stream",
     "text": [
      " 53%|█████▎    | 1054/2000 [4:46:10<3:34:15, 13.59s/it]"
     ]
    },
    {
     "name": "stdout",
     "output_type": "stream",
     "text": [
      "Ep. 1055, Timestep 1453267,  Ep.Timesteps 1600, Score: -178.96, Avg.Score: -176.57, Time: 04:46:18 \n"
     ]
    },
    {
     "name": "stderr",
     "output_type": "stream",
     "text": [
      " 53%|█████▎    | 1055/2000 [4:46:23<3:33:22, 13.55s/it]"
     ]
    },
    {
     "name": "stdout",
     "output_type": "stream",
     "text": [
      "Ep. 1056, Timestep 1454867,  Ep.Timesteps 1600, Score: -174.01, Avg.Score: -176.57, Time: 04:46:31 \n"
     ]
    },
    {
     "name": "stderr",
     "output_type": "stream",
     "text": [
      " 53%|█████▎    | 1056/2000 [4:46:37<3:31:08, 13.42s/it]"
     ]
    },
    {
     "name": "stdout",
     "output_type": "stream",
     "text": [
      "Ep. 1057, Timestep 1456467,  Ep.Timesteps 1600, Score: -181.22, Avg.Score: -176.65, Time: 04:46:45 \n"
     ]
    },
    {
     "name": "stderr",
     "output_type": "stream",
     "text": [
      " 53%|█████▎    | 1057/2000 [4:46:50<3:32:30, 13.52s/it]"
     ]
    },
    {
     "name": "stdout",
     "output_type": "stream",
     "text": [
      "Ep. 1058, Timestep 1458067,  Ep.Timesteps 1600, Score: -181.21, Avg.Score: -176.72, Time: 04:46:58 \n"
     ]
    },
    {
     "name": "stderr",
     "output_type": "stream",
     "text": [
      " 53%|█████▎    | 1058/2000 [4:47:04<3:31:32, 13.47s/it]"
     ]
    },
    {
     "name": "stdout",
     "output_type": "stream",
     "text": [
      "Ep. 1059, Timestep 1459667,  Ep.Timesteps 1600, Score: -177.73, Avg.Score: -176.76, Time: 04:47:11 \n"
     ]
    },
    {
     "name": "stderr",
     "output_type": "stream",
     "text": [
      " 53%|█████▎    | 1059/2000 [4:47:16<3:27:17, 13.22s/it]"
     ]
    },
    {
     "name": "stdout",
     "output_type": "stream",
     "text": [
      "Ep. 1060, Timestep 1461267,  Ep.Timesteps 1600, Score: -176.06, Avg.Score: -176.78, Time: 04:47:24 \n"
     ]
    },
    {
     "name": "stderr",
     "output_type": "stream",
     "text": [
      " 53%|█████▎    | 1060/2000 [4:47:30<3:29:37, 13.38s/it]"
     ]
    },
    {
     "name": "stdout",
     "output_type": "stream",
     "text": [
      "Ep. 1061, Timestep 1462867,  Ep.Timesteps 1600, Score: -180.95, Avg.Score: -176.86, Time: 04:47:38 \n"
     ]
    },
    {
     "name": "stderr",
     "output_type": "stream",
     "text": [
      " 53%|█████▎    | 1061/2000 [4:47:44<3:30:55, 13.48s/it]"
     ]
    },
    {
     "name": "stdout",
     "output_type": "stream",
     "text": [
      "Ep. 1062, Timestep 1464467,  Ep.Timesteps 1600, Score: -175.75, Avg.Score: -176.88, Time: 04:47:51 \n"
     ]
    },
    {
     "name": "stderr",
     "output_type": "stream",
     "text": [
      " 53%|█████▎    | 1062/2000 [4:47:57<3:29:31, 13.40s/it]"
     ]
    },
    {
     "name": "stdout",
     "output_type": "stream",
     "text": [
      "Ep. 1063, Timestep 1466067,  Ep.Timesteps 1600, Score: -175.88, Avg.Score: -176.88, Time: 04:48:05 \n"
     ]
    },
    {
     "name": "stderr",
     "output_type": "stream",
     "text": [
      " 53%|█████▎    | 1063/2000 [4:48:11<3:30:09, 13.46s/it]"
     ]
    },
    {
     "name": "stdout",
     "output_type": "stream",
     "text": [
      "Ep. 1064, Timestep 1467667,  Ep.Timesteps 1600, Score: -176.44, Avg.Score: -176.84, Time: 04:48:19 \n"
     ]
    },
    {
     "name": "stderr",
     "output_type": "stream",
     "text": [
      " 53%|█████▎    | 1064/2000 [4:48:25<3:35:22, 13.81s/it]"
     ]
    },
    {
     "name": "stdout",
     "output_type": "stream",
     "text": [
      "Ep. 1065, Timestep 1469267,  Ep.Timesteps 1600, Score: -181.57, Avg.Score: -176.89, Time: 04:48:32 \n"
     ]
    },
    {
     "name": "stderr",
     "output_type": "stream",
     "text": [
      " 53%|█████▎    | 1065/2000 [4:48:39<3:37:26, 13.95s/it]"
     ]
    },
    {
     "name": "stdout",
     "output_type": "stream",
     "text": [
      "Ep. 1066, Timestep 1470867,  Ep.Timesteps 1600, Score: -180.58, Avg.Score: -176.93, Time: 04:48:46 \n"
     ]
    },
    {
     "name": "stderr",
     "output_type": "stream",
     "text": [
      " 53%|█████▎    | 1066/2000 [4:48:52<3:30:36, 13.53s/it]"
     ]
    },
    {
     "name": "stdout",
     "output_type": "stream",
     "text": [
      "Ep. 1067, Timestep 1472467,  Ep.Timesteps 1600, Score: -174.19, Avg.Score: -176.85, Time: 04:49:00 \n"
     ]
    },
    {
     "name": "stderr",
     "output_type": "stream",
     "text": [
      " 53%|█████▎    | 1067/2000 [4:49:05<3:29:33, 13.48s/it]"
     ]
    },
    {
     "name": "stdout",
     "output_type": "stream",
     "text": [
      "Ep. 1068, Timestep 1474067,  Ep.Timesteps 1600, Score: -175.00, Avg.Score: -176.84, Time: 04:49:12 \n"
     ]
    },
    {
     "name": "stderr",
     "output_type": "stream",
     "text": [
      " 53%|█████▎    | 1068/2000 [4:49:19<3:27:48, 13.38s/it]"
     ]
    },
    {
     "name": "stdout",
     "output_type": "stream",
     "text": [
      "Ep. 1069, Timestep 1475667,  Ep.Timesteps 1600, Score: -177.69, Avg.Score: -176.82, Time: 04:49:26 \n"
     ]
    },
    {
     "name": "stderr",
     "output_type": "stream",
     "text": [
      " 53%|█████▎    | 1069/2000 [4:49:32<3:28:48, 13.46s/it]"
     ]
    },
    {
     "name": "stdout",
     "output_type": "stream",
     "text": [
      "Ep. 1070, Timestep 1477267,  Ep.Timesteps 1600, Score: -173.35, Avg.Score: -177.37, Time: 04:49:40 \n"
     ]
    },
    {
     "name": "stderr",
     "output_type": "stream",
     "text": [
      " 54%|█████▎    | 1070/2000 [4:49:46<3:29:23, 13.51s/it]"
     ]
    },
    {
     "name": "stdout",
     "output_type": "stream",
     "text": [
      "Ep. 1071, Timestep 1478867,  Ep.Timesteps 1600, Score: -173.66, Avg.Score: -177.30, Time: 04:49:53 \n"
     ]
    },
    {
     "name": "stderr",
     "output_type": "stream",
     "text": [
      " 54%|█████▎    | 1071/2000 [4:50:00<3:34:15, 13.84s/it]"
     ]
    },
    {
     "name": "stdout",
     "output_type": "stream",
     "text": [
      "Ep. 1072, Timestep 1480467,  Ep.Timesteps 1600, Score: -173.61, Avg.Score: -177.24, Time: 04:50:08 \n"
     ]
    },
    {
     "name": "stderr",
     "output_type": "stream",
     "text": [
      " 54%|█████▎    | 1072/2000 [4:50:14<3:33:25, 13.80s/it]"
     ]
    },
    {
     "name": "stdout",
     "output_type": "stream",
     "text": [
      "Ep. 1073, Timestep 1482067,  Ep.Timesteps 1600, Score: -173.92, Avg.Score: -177.17, Time: 04:50:22 \n"
     ]
    },
    {
     "name": "stderr",
     "output_type": "stream",
     "text": [
      " 54%|█████▎    | 1073/2000 [4:50:28<3:32:17, 13.74s/it]"
     ]
    },
    {
     "name": "stdout",
     "output_type": "stream",
     "text": [
      "Ep. 1074, Timestep 1483667,  Ep.Timesteps 1600, Score: -173.40, Avg.Score: -177.09, Time: 04:50:35 \n"
     ]
    },
    {
     "name": "stderr",
     "output_type": "stream",
     "text": [
      " 54%|█████▎    | 1074/2000 [4:50:41<3:30:40, 13.65s/it]"
     ]
    },
    {
     "name": "stdout",
     "output_type": "stream",
     "text": [
      "Ep. 1075, Timestep 1485267,  Ep.Timesteps 1600, Score: -173.74, Avg.Score: -177.02, Time: 04:50:49 \n"
     ]
    },
    {
     "name": "stderr",
     "output_type": "stream",
     "text": [
      " 54%|█████▍    | 1075/2000 [4:50:55<3:29:53, 13.62s/it]"
     ]
    },
    {
     "name": "stdout",
     "output_type": "stream",
     "text": [
      "Ep. 1076, Timestep 1486867,  Ep.Timesteps 1600, Score: -173.59, Avg.Score: -176.95, Time: 04:51:03 \n"
     ]
    },
    {
     "name": "stderr",
     "output_type": "stream",
     "text": [
      " 54%|█████▍    | 1076/2000 [4:51:09<3:30:41, 13.68s/it]"
     ]
    },
    {
     "name": "stdout",
     "output_type": "stream",
     "text": [
      "Ep. 1077, Timestep 1488467,  Ep.Timesteps 1600, Score: -180.27, Avg.Score: -176.96, Time: 04:51:16 \n"
     ]
    },
    {
     "name": "stderr",
     "output_type": "stream",
     "text": [
      " 54%|█████▍    | 1077/2000 [4:51:22<3:27:57, 13.52s/it]"
     ]
    },
    {
     "name": "stdout",
     "output_type": "stream",
     "text": [
      "Ep. 1078, Timestep 1490067,  Ep.Timesteps 1600, Score: -174.16, Avg.Score: -176.88, Time: 04:51:29 \n"
     ]
    },
    {
     "name": "stderr",
     "output_type": "stream",
     "text": [
      " 54%|█████▍    | 1078/2000 [4:51:34<3:24:26, 13.30s/it]"
     ]
    },
    {
     "name": "stdout",
     "output_type": "stream",
     "text": [
      "Ep. 1079, Timestep 1491667,  Ep.Timesteps 1600, Score: -173.82, Avg.Score: -176.85, Time: 04:51:42 \n"
     ]
    },
    {
     "name": "stderr",
     "output_type": "stream",
     "text": [
      " 54%|█████▍    | 1079/2000 [4:51:48<3:24:44, 13.34s/it]"
     ]
    },
    {
     "name": "stdout",
     "output_type": "stream",
     "text": [
      "Ep. 1080, Timestep 1493267,  Ep.Timesteps 1600, Score: -173.84, Avg.Score: -176.79, Time: 04:51:55 \n"
     ]
    },
    {
     "name": "stderr",
     "output_type": "stream",
     "text": [
      " 54%|█████▍    | 1080/2000 [4:52:01<3:23:27, 13.27s/it]"
     ]
    },
    {
     "name": "stdout",
     "output_type": "stream",
     "text": [
      "Ep. 1081, Timestep 1494867,  Ep.Timesteps 1600, Score: -174.09, Avg.Score: -176.72, Time: 04:52:09 \n"
     ]
    },
    {
     "name": "stderr",
     "output_type": "stream",
     "text": [
      " 54%|█████▍    | 1081/2000 [4:52:14<3:22:40, 13.23s/it]"
     ]
    },
    {
     "name": "stdout",
     "output_type": "stream",
     "text": [
      "Ep. 1082, Timestep 1496467,  Ep.Timesteps 1600, Score: -173.60, Avg.Score: -176.63, Time: 04:52:22 \n"
     ]
    },
    {
     "name": "stderr",
     "output_type": "stream",
     "text": [
      " 54%|█████▍    | 1082/2000 [4:52:28<3:23:54, 13.33s/it]"
     ]
    },
    {
     "name": "stdout",
     "output_type": "stream",
     "text": [
      "Ep. 1083, Timestep 1498067,  Ep.Timesteps 1600, Score: -180.41, Avg.Score: -176.64, Time: 04:52:35 \n"
     ]
    },
    {
     "name": "stderr",
     "output_type": "stream",
     "text": [
      " 54%|█████▍    | 1083/2000 [4:52:41<3:24:04, 13.35s/it]"
     ]
    },
    {
     "name": "stdout",
     "output_type": "stream",
     "text": [
      "Ep. 1084, Timestep 1499667,  Ep.Timesteps 1600, Score: -173.90, Avg.Score: -176.56, Time: 04:52:48 \n"
     ]
    },
    {
     "name": "stderr",
     "output_type": "stream",
     "text": [
      " 54%|█████▍    | 1084/2000 [4:52:54<3:21:57, 13.23s/it]"
     ]
    },
    {
     "name": "stdout",
     "output_type": "stream",
     "text": [
      "Ep. 1085, Timestep 1501267,  Ep.Timesteps 1600, Score: -181.10, Avg.Score: -176.54, Time: 04:53:02 \n"
     ]
    },
    {
     "name": "stderr",
     "output_type": "stream",
     "text": [
      " 54%|█████▍    | 1085/2000 [4:53:08<3:25:10, 13.45s/it]"
     ]
    },
    {
     "name": "stdout",
     "output_type": "stream",
     "text": [
      "Ep. 1086, Timestep 1502867,  Ep.Timesteps 1600, Score: -179.74, Avg.Score: -176.52, Time: 04:53:15 \n"
     ]
    },
    {
     "name": "stderr",
     "output_type": "stream",
     "text": [
      " 54%|█████▍    | 1086/2000 [4:53:21<3:23:13, 13.34s/it]"
     ]
    },
    {
     "name": "stdout",
     "output_type": "stream",
     "text": [
      "Ep. 1087, Timestep 1504467,  Ep.Timesteps 1600, Score: -174.03, Avg.Score: -176.46, Time: 04:53:29 \n"
     ]
    },
    {
     "name": "stderr",
     "output_type": "stream",
     "text": [
      " 54%|█████▍    | 1087/2000 [4:53:34<3:22:00, 13.27s/it]"
     ]
    },
    {
     "name": "stdout",
     "output_type": "stream",
     "text": [
      "Ep. 1088, Timestep 1506067,  Ep.Timesteps 1600, Score: -175.63, Avg.Score: -176.48, Time: 04:53:42 \n"
     ]
    },
    {
     "name": "stderr",
     "output_type": "stream",
     "text": [
      " 54%|█████▍    | 1088/2000 [4:53:48<3:22:40, 13.33s/it]"
     ]
    },
    {
     "name": "stdout",
     "output_type": "stream",
     "text": [
      "Ep. 1089, Timestep 1507667,  Ep.Timesteps 1600, Score: -181.16, Avg.Score: -176.56, Time: 04:53:55 \n"
     ]
    },
    {
     "name": "stderr",
     "output_type": "stream",
     "text": [
      " 54%|█████▍    | 1089/2000 [4:54:01<3:21:03, 13.24s/it]"
     ]
    },
    {
     "name": "stdout",
     "output_type": "stream",
     "text": [
      "Ep. 1090, Timestep 1509267,  Ep.Timesteps 1600, Score: -176.02, Avg.Score: -176.58, Time: 04:54:09 \n"
     ]
    },
    {
     "name": "stderr",
     "output_type": "stream",
     "text": [
      " 55%|█████▍    | 1090/2000 [4:54:14<3:22:54, 13.38s/it]"
     ]
    },
    {
     "name": "stdout",
     "output_type": "stream",
     "text": [
      "Ep. 1091, Timestep 1510867,  Ep.Timesteps 1600, Score: -179.17, Avg.Score: -176.64, Time: 04:54:22 \n"
     ]
    },
    {
     "name": "stderr",
     "output_type": "stream",
     "text": [
      " 55%|█████▍    | 1091/2000 [4:54:28<3:24:35, 13.50s/it]"
     ]
    },
    {
     "name": "stdout",
     "output_type": "stream",
     "text": [
      "Ep. 1092, Timestep 1512467,  Ep.Timesteps 1600, Score: -180.55, Avg.Score: -176.67, Time: 04:54:35 \n"
     ]
    },
    {
     "name": "stderr",
     "output_type": "stream",
     "text": [
      " 55%|█████▍    | 1092/2000 [4:54:41<3:21:44, 13.33s/it]"
     ]
    },
    {
     "name": "stdout",
     "output_type": "stream",
     "text": [
      "Ep. 1093, Timestep 1514067,  Ep.Timesteps 1600, Score: -179.73, Avg.Score: -176.67, Time: 04:54:49 \n"
     ]
    },
    {
     "name": "stderr",
     "output_type": "stream",
     "text": [
      " 55%|█████▍    | 1093/2000 [4:54:55<3:21:43, 13.34s/it]"
     ]
    },
    {
     "name": "stdout",
     "output_type": "stream",
     "text": [
      "Ep. 1094, Timestep 1515667,  Ep.Timesteps 1600, Score: -181.10, Avg.Score: -176.72, Time: 04:55:02 \n"
     ]
    },
    {
     "name": "stderr",
     "output_type": "stream",
     "text": [
      " 55%|█████▍    | 1094/2000 [4:55:08<3:24:07, 13.52s/it]"
     ]
    },
    {
     "name": "stdout",
     "output_type": "stream",
     "text": [
      "Ep. 1095, Timestep 1517267,  Ep.Timesteps 1600, Score: -174.05, Avg.Score: -176.68, Time: 04:55:15 \n"
     ]
    },
    {
     "name": "stderr",
     "output_type": "stream",
     "text": [
      " 55%|█████▍    | 1095/2000 [4:55:21<3:19:11, 13.21s/it]"
     ]
    },
    {
     "name": "stdout",
     "output_type": "stream",
     "text": [
      "Ep. 1096, Timestep 1518867,  Ep.Timesteps 1600, Score: -176.24, Avg.Score: -176.71, Time: 04:55:28 \n"
     ]
    },
    {
     "name": "stderr",
     "output_type": "stream",
     "text": [
      " 55%|█████▍    | 1096/2000 [4:55:34<3:18:16, 13.16s/it]"
     ]
    },
    {
     "name": "stdout",
     "output_type": "stream",
     "text": [
      "Ep. 1097, Timestep 1520467,  Ep.Timesteps 1600, Score: -175.71, Avg.Score: -176.73, Time: 04:55:42 \n"
     ]
    },
    {
     "name": "stderr",
     "output_type": "stream",
     "text": [
      " 55%|█████▍    | 1097/2000 [4:55:48<3:20:07, 13.30s/it]"
     ]
    },
    {
     "name": "stdout",
     "output_type": "stream",
     "text": [
      "Ep. 1098, Timestep 1522067,  Ep.Timesteps 1600, Score: -174.91, Avg.Score: -176.74, Time: 04:55:55 \n"
     ]
    },
    {
     "name": "stderr",
     "output_type": "stream",
     "text": [
      " 55%|█████▍    | 1098/2000 [4:56:01<3:21:27, 13.40s/it]"
     ]
    },
    {
     "name": "stdout",
     "output_type": "stream",
     "text": [
      "Ep. 1099, Timestep 1523667,  Ep.Timesteps 1600, Score: -176.43, Avg.Score: -176.76, Time: 04:56:08 \n"
     ]
    },
    {
     "name": "stderr",
     "output_type": "stream",
     "text": [
      " 55%|█████▍    | 1099/2000 [4:56:14<3:18:51, 13.24s/it]"
     ]
    },
    {
     "name": "stdout",
     "output_type": "stream",
     "text": [
      "Ep. 1100, Timestep 1525267,  Ep.Timesteps 1600, Score: -175.46, Avg.Score: -176.78, Time: 04:56:22 \n"
     ]
    },
    {
     "name": "stderr",
     "output_type": "stream",
     "text": [
      " 55%|█████▌    | 1100/2000 [4:56:27<3:18:32, 13.24s/it]"
     ]
    },
    {
     "name": "stdout",
     "output_type": "stream",
     "text": [
      "Ep. 1101, Timestep 1526867,  Ep.Timesteps 1600, Score: -175.17, Avg.Score: -176.80, Time: 04:56:35 \n"
     ]
    },
    {
     "name": "stderr",
     "output_type": "stream",
     "text": [
      " 55%|█████▌    | 1101/2000 [4:56:41<3:18:11, 13.23s/it]"
     ]
    },
    {
     "name": "stdout",
     "output_type": "stream",
     "text": [
      "Ep. 1102, Timestep 1528467,  Ep.Timesteps 1600, Score: -182.12, Avg.Score: -176.88, Time: 04:56:48 \n"
     ]
    },
    {
     "name": "stderr",
     "output_type": "stream",
     "text": [
      " 55%|█████▌    | 1102/2000 [4:56:54<3:20:23, 13.39s/it]"
     ]
    },
    {
     "name": "stdout",
     "output_type": "stream",
     "text": [
      "Ep. 1103, Timestep 1530067,  Ep.Timesteps 1600, Score: -175.76, Avg.Score: -176.88, Time: 04:57:01 \n"
     ]
    },
    {
     "name": "stderr",
     "output_type": "stream",
     "text": [
      " 55%|█████▌    | 1103/2000 [4:57:08<3:22:59, 13.58s/it]"
     ]
    },
    {
     "name": "stdout",
     "output_type": "stream",
     "text": [
      "Ep. 1104, Timestep 1531667,  Ep.Timesteps 1600, Score: -176.99, Avg.Score: -176.90, Time: 04:57:16 \n"
     ]
    },
    {
     "name": "stderr",
     "output_type": "stream",
     "text": [
      " 55%|█████▌    | 1104/2000 [4:57:21<3:20:24, 13.42s/it]"
     ]
    },
    {
     "name": "stdout",
     "output_type": "stream",
     "text": [
      "Ep. 1105, Timestep 1533267,  Ep.Timesteps 1600, Score: -175.68, Avg.Score: -176.85, Time: 04:57:29 \n"
     ]
    },
    {
     "name": "stderr",
     "output_type": "stream",
     "text": [
      " 55%|█████▌    | 1105/2000 [4:57:35<3:21:37, 13.52s/it]"
     ]
    },
    {
     "name": "stdout",
     "output_type": "stream",
     "text": [
      "Ep. 1106, Timestep 1534867,  Ep.Timesteps 1600, Score: -179.71, Avg.Score: -176.84, Time: 04:57:43 \n"
     ]
    },
    {
     "name": "stderr",
     "output_type": "stream",
     "text": [
      " 55%|█████▌    | 1106/2000 [4:57:49<3:22:11, 13.57s/it]"
     ]
    },
    {
     "name": "stdout",
     "output_type": "stream",
     "text": [
      "Ep. 1107, Timestep 1536467,  Ep.Timesteps 1600, Score: -181.13, Avg.Score: -176.85, Time: 04:57:56 \n"
     ]
    },
    {
     "name": "stderr",
     "output_type": "stream",
     "text": [
      " 55%|█████▌    | 1107/2000 [4:58:02<3:19:48, 13.43s/it]"
     ]
    },
    {
     "name": "stdout",
     "output_type": "stream",
     "text": [
      "Ep. 1108, Timestep 1538067,  Ep.Timesteps 1600, Score: -176.17, Avg.Score: -176.85, Time: 04:58:10 \n"
     ]
    },
    {
     "name": "stderr",
     "output_type": "stream",
     "text": [
      " 55%|█████▌    | 1108/2000 [4:58:15<3:19:25, 13.41s/it]"
     ]
    },
    {
     "name": "stdout",
     "output_type": "stream",
     "text": [
      "Ep. 1109, Timestep 1539667,  Ep.Timesteps 1600, Score: -180.02, Avg.Score: -176.84, Time: 04:58:23 \n"
     ]
    },
    {
     "name": "stderr",
     "output_type": "stream",
     "text": [
      " 55%|█████▌    | 1109/2000 [4:58:29<3:22:42, 13.65s/it]"
     ]
    },
    {
     "name": "stdout",
     "output_type": "stream",
     "text": [
      "Ep. 1110, Timestep 1541267,  Ep.Timesteps 1600, Score: -180.21, Avg.Score: -176.83, Time: 04:58:36 \n"
     ]
    },
    {
     "name": "stderr",
     "output_type": "stream",
     "text": [
      " 56%|█████▌    | 1110/2000 [4:58:42<3:19:00, 13.42s/it]"
     ]
    },
    {
     "name": "stdout",
     "output_type": "stream",
     "text": [
      "Ep. 1111, Timestep 1542867,  Ep.Timesteps 1600, Score: -173.99, Avg.Score: -176.81, Time: 04:58:50 \n"
     ]
    },
    {
     "name": "stderr",
     "output_type": "stream",
     "text": [
      " 56%|█████▌    | 1111/2000 [4:58:55<3:17:25, 13.32s/it]"
     ]
    },
    {
     "name": "stdout",
     "output_type": "stream",
     "text": [
      "Ep. 1112, Timestep 1544467,  Ep.Timesteps 1600, Score: -173.58, Avg.Score: -176.72, Time: 04:59:04 \n"
     ]
    },
    {
     "name": "stderr",
     "output_type": "stream",
     "text": [
      " 56%|█████▌    | 1112/2000 [4:59:09<3:19:18, 13.47s/it]"
     ]
    },
    {
     "name": "stdout",
     "output_type": "stream",
     "text": [
      "Ep. 1113, Timestep 1546067,  Ep.Timesteps 1600, Score: -173.50, Avg.Score: -176.68, Time: 04:59:16 \n"
     ]
    },
    {
     "name": "stderr",
     "output_type": "stream",
     "text": [
      " 56%|█████▌    | 1113/2000 [4:59:23<3:19:47, 13.52s/it]"
     ]
    },
    {
     "name": "stdout",
     "output_type": "stream",
     "text": [
      "Ep. 1114, Timestep 1547667,  Ep.Timesteps 1600, Score: -174.03, Avg.Score: -176.59, Time: 04:59:30 \n"
     ]
    },
    {
     "name": "stderr",
     "output_type": "stream",
     "text": [
      " 56%|█████▌    | 1114/2000 [4:59:36<3:17:05, 13.35s/it]"
     ]
    },
    {
     "name": "stdout",
     "output_type": "stream",
     "text": [
      "Ep. 1115, Timestep 1549267,  Ep.Timesteps 1600, Score: -174.04, Avg.Score: -176.58, Time: 04:59:44 \n"
     ]
    },
    {
     "name": "stderr",
     "output_type": "stream",
     "text": [
      " 56%|█████▌    | 1115/2000 [4:59:50<3:18:39, 13.47s/it]"
     ]
    },
    {
     "name": "stdout",
     "output_type": "stream",
     "text": [
      "Ep. 1116, Timestep 1550867,  Ep.Timesteps 1600, Score: -174.04, Avg.Score: -176.50, Time: 04:59:57 \n"
     ]
    },
    {
     "name": "stderr",
     "output_type": "stream",
     "text": [
      " 56%|█████▌    | 1116/2000 [5:00:03<3:18:12, 13.45s/it]"
     ]
    },
    {
     "name": "stdout",
     "output_type": "stream",
     "text": [
      "Ep. 1117, Timestep 1552467,  Ep.Timesteps 1600, Score: -173.40, Avg.Score: -176.44, Time: 05:00:10 \n"
     ]
    },
    {
     "name": "stderr",
     "output_type": "stream",
     "text": [
      " 56%|█████▌    | 1117/2000 [5:00:17<3:18:11, 13.47s/it]"
     ]
    },
    {
     "name": "stdout",
     "output_type": "stream",
     "text": [
      "Ep. 1118, Timestep 1554067,  Ep.Timesteps 1600, Score: -173.62, Avg.Score: -176.36, Time: 05:00:24 \n"
     ]
    },
    {
     "name": "stderr",
     "output_type": "stream",
     "text": [
      " 56%|█████▌    | 1118/2000 [5:00:31<3:20:30, 13.64s/it]"
     ]
    },
    {
     "name": "stdout",
     "output_type": "stream",
     "text": [
      "Ep. 1119, Timestep 1555667,  Ep.Timesteps 1600, Score: -173.52, Avg.Score: -176.33, Time: 05:00:38 \n"
     ]
    },
    {
     "name": "stderr",
     "output_type": "stream",
     "text": [
      " 56%|█████▌    | 1119/2000 [5:00:43<3:17:02, 13.42s/it]"
     ]
    },
    {
     "name": "stdout",
     "output_type": "stream",
     "text": [
      "Ep. 1120, Timestep 1557267,  Ep.Timesteps 1600, Score: -173.89, Avg.Score: -176.29, Time: 05:00:51 \n"
     ]
    },
    {
     "name": "stderr",
     "output_type": "stream",
     "text": [
      " 56%|█████▌    | 1120/2000 [5:00:57<3:16:54, 13.43s/it]"
     ]
    },
    {
     "name": "stdout",
     "output_type": "stream",
     "text": [
      "Ep. 1121, Timestep 1558867,  Ep.Timesteps 1600, Score: -173.85, Avg.Score: -176.20, Time: 05:01:04 \n"
     ]
    },
    {
     "name": "stderr",
     "output_type": "stream",
     "text": [
      " 56%|█████▌    | 1121/2000 [5:01:10<3:16:40, 13.42s/it]"
     ]
    },
    {
     "name": "stdout",
     "output_type": "stream",
     "text": [
      "Ep. 1122, Timestep 1560467,  Ep.Timesteps 1600, Score: -173.62, Avg.Score: -176.18, Time: 05:01:17 \n"
     ]
    },
    {
     "name": "stderr",
     "output_type": "stream",
     "text": [
      " 56%|█████▌    | 1122/2000 [5:01:23<3:11:58, 13.12s/it]"
     ]
    },
    {
     "name": "stdout",
     "output_type": "stream",
     "text": [
      "Ep. 1123, Timestep 1562067,  Ep.Timesteps 1600, Score: -183.53, Avg.Score: -176.22, Time: 05:01:31 \n"
     ]
    },
    {
     "name": "stderr",
     "output_type": "stream",
     "text": [
      " 56%|█████▌    | 1123/2000 [5:01:36<3:13:16, 13.22s/it]"
     ]
    },
    {
     "name": "stdout",
     "output_type": "stream",
     "text": [
      "Ep. 1124, Timestep 1563667,  Ep.Timesteps 1600, Score: -180.94, Avg.Score: -176.21, Time: 05:01:43 \n"
     ]
    },
    {
     "name": "stderr",
     "output_type": "stream",
     "text": [
      " 56%|█████▌    | 1124/2000 [5:01:50<3:14:02, 13.29s/it]"
     ]
    },
    {
     "name": "stdout",
     "output_type": "stream",
     "text": [
      "Ep. 1125, Timestep 1565267,  Ep.Timesteps 1600, Score: -174.21, Avg.Score: -176.15, Time: 05:01:57 \n"
     ]
    },
    {
     "name": "stderr",
     "output_type": "stream",
     "text": [
      " 56%|█████▋    | 1125/2000 [5:02:02<3:11:20, 13.12s/it]"
     ]
    },
    {
     "name": "stdout",
     "output_type": "stream",
     "text": [
      "Ep. 1126, Timestep 1566867,  Ep.Timesteps 1600, Score: -181.77, Avg.Score: -176.79, Time: 05:02:10 \n"
     ]
    },
    {
     "name": "stderr",
     "output_type": "stream",
     "text": [
      " 56%|█████▋    | 1126/2000 [5:02:16<3:11:56, 13.18s/it]"
     ]
    },
    {
     "name": "stdout",
     "output_type": "stream",
     "text": [
      "Ep. 1127, Timestep 1568467,  Ep.Timesteps 1600, Score: -179.93, Avg.Score: -176.79, Time: 05:02:23 \n"
     ]
    },
    {
     "name": "stderr",
     "output_type": "stream",
     "text": [
      " 56%|█████▋    | 1127/2000 [5:02:30<3:16:38, 13.52s/it]"
     ]
    },
    {
     "name": "stdout",
     "output_type": "stream",
     "text": [
      "Ep. 1128, Timestep 1570067,  Ep.Timesteps 1600, Score: -175.27, Avg.Score: -176.74, Time: 05:02:37 \n"
     ]
    },
    {
     "name": "stderr",
     "output_type": "stream",
     "text": [
      " 56%|█████▋    | 1128/2000 [5:02:43<3:13:50, 13.34s/it]"
     ]
    },
    {
     "name": "stdout",
     "output_type": "stream",
     "text": [
      "Ep. 1129, Timestep 1571667,  Ep.Timesteps 1600, Score: -180.72, Avg.Score: -176.81, Time: 05:02:51 \n"
     ]
    },
    {
     "name": "stderr",
     "output_type": "stream",
     "text": [
      " 56%|█████▋    | 1129/2000 [5:02:56<3:13:38, 13.34s/it]"
     ]
    },
    {
     "name": "stdout",
     "output_type": "stream",
     "text": [
      "Ep. 1130, Timestep 1573267,  Ep.Timesteps 1600, Score: -175.42, Avg.Score: -176.83, Time: 05:03:04 \n"
     ]
    },
    {
     "name": "stderr",
     "output_type": "stream",
     "text": [
      " 56%|█████▋    | 1130/2000 [5:03:10<3:15:52, 13.51s/it]"
     ]
    },
    {
     "name": "stdout",
     "output_type": "stream",
     "text": [
      "Ep. 1131, Timestep 1574867,  Ep.Timesteps 1600, Score: -180.71, Avg.Score: -176.90, Time: 05:03:17 \n"
     ]
    },
    {
     "name": "stderr",
     "output_type": "stream",
     "text": [
      " 57%|█████▋    | 1131/2000 [5:03:23<3:13:37, 13.37s/it]"
     ]
    },
    {
     "name": "stdout",
     "output_type": "stream",
     "text": [
      "Ep. 1132, Timestep 1576467,  Ep.Timesteps 1600, Score: -179.55, Avg.Score: -176.92, Time: 05:03:31 \n"
     ]
    },
    {
     "name": "stderr",
     "output_type": "stream",
     "text": [
      " 57%|█████▋    | 1132/2000 [5:03:36<3:11:24, 13.23s/it]"
     ]
    },
    {
     "name": "stdout",
     "output_type": "stream",
     "text": [
      "Ep. 1133, Timestep 1578067,  Ep.Timesteps 1600, Score: -175.69, Avg.Score: -176.94, Time: 05:03:44 \n"
     ]
    },
    {
     "name": "stderr",
     "output_type": "stream",
     "text": [
      " 57%|█████▋    | 1133/2000 [5:03:50<3:12:29, 13.32s/it]"
     ]
    },
    {
     "name": "stdout",
     "output_type": "stream",
     "text": [
      "Ep. 1134, Timestep 1579667,  Ep.Timesteps 1600, Score: -181.55, Avg.Score: -177.01, Time: 05:03:57 \n"
     ]
    },
    {
     "name": "stderr",
     "output_type": "stream",
     "text": [
      " 57%|█████▋    | 1134/2000 [5:04:02<3:10:11, 13.18s/it]"
     ]
    },
    {
     "name": "stdout",
     "output_type": "stream",
     "text": [
      "Ep. 1135, Timestep 1581267,  Ep.Timesteps 1600, Score: -181.51, Avg.Score: -177.07, Time: 05:04:10 \n"
     ]
    },
    {
     "name": "stderr",
     "output_type": "stream",
     "text": [
      " 57%|█████▋    | 1135/2000 [5:04:16<3:12:16, 13.34s/it]"
     ]
    },
    {
     "name": "stdout",
     "output_type": "stream",
     "text": [
      "Ep. 1136, Timestep 1582867,  Ep.Timesteps 1600, Score: -179.13, Avg.Score: -177.12, Time: 05:04:23 \n"
     ]
    },
    {
     "name": "stderr",
     "output_type": "stream",
     "text": [
      " 57%|█████▋    | 1136/2000 [5:04:30<3:12:02, 13.34s/it]"
     ]
    },
    {
     "name": "stdout",
     "output_type": "stream",
     "text": [
      "Ep. 1137, Timestep 1584467,  Ep.Timesteps 1600, Score: -180.47, Avg.Score: -177.19, Time: 05:04:37 \n"
     ]
    },
    {
     "name": "stderr",
     "output_type": "stream",
     "text": [
      " 57%|█████▋    | 1137/2000 [5:04:43<3:11:54, 13.34s/it]"
     ]
    },
    {
     "name": "stdout",
     "output_type": "stream",
     "text": [
      "Ep. 1138, Timestep 1586067,  Ep.Timesteps 1600, Score: -180.77, Avg.Score: -177.25, Time: 05:04:51 \n"
     ]
    },
    {
     "name": "stderr",
     "output_type": "stream",
     "text": [
      " 57%|█████▋    | 1138/2000 [5:04:56<3:12:38, 13.41s/it]"
     ]
    },
    {
     "name": "stdout",
     "output_type": "stream",
     "text": [
      "Ep. 1139, Timestep 1587667,  Ep.Timesteps 1600, Score: -180.40, Avg.Score: -177.32, Time: 05:05:04 \n"
     ]
    },
    {
     "name": "stderr",
     "output_type": "stream",
     "text": [
      " 57%|█████▋    | 1139/2000 [5:05:10<3:11:03, 13.31s/it]"
     ]
    },
    {
     "name": "stdout",
     "output_type": "stream",
     "text": [
      "Ep. 1140, Timestep 1589267,  Ep.Timesteps 1600, Score: -176.48, Avg.Score: -177.34, Time: 05:05:17 \n"
     ]
    },
    {
     "name": "stderr",
     "output_type": "stream",
     "text": [
      " 57%|█████▋    | 1140/2000 [5:05:23<3:11:59, 13.39s/it]"
     ]
    },
    {
     "name": "stdout",
     "output_type": "stream",
     "text": [
      "Ep. 1141, Timestep 1590867,  Ep.Timesteps 1600, Score: -179.31, Avg.Score: -177.33, Time: 05:05:31 \n"
     ]
    },
    {
     "name": "stderr",
     "output_type": "stream",
     "text": [
      " 57%|█████▋    | 1141/2000 [5:05:37<3:15:20, 13.64s/it]"
     ]
    },
    {
     "name": "stdout",
     "output_type": "stream",
     "text": [
      "Ep. 1142, Timestep 1592467,  Ep.Timesteps 1600, Score: -180.54, Avg.Score: -177.40, Time: 05:05:44 \n"
     ]
    },
    {
     "name": "stderr",
     "output_type": "stream",
     "text": [
      " 57%|█████▋    | 1142/2000 [5:05:51<3:14:24, 13.60s/it]"
     ]
    },
    {
     "name": "stdout",
     "output_type": "stream",
     "text": [
      "Ep. 1143, Timestep 1594067,  Ep.Timesteps 1600, Score: -181.43, Avg.Score: -177.40, Time: 05:05:59 \n"
     ]
    },
    {
     "name": "stderr",
     "output_type": "stream",
     "text": [
      " 57%|█████▋    | 1143/2000 [5:06:04<3:13:58, 13.58s/it]"
     ]
    },
    {
     "name": "stdout",
     "output_type": "stream",
     "text": [
      "Ep. 1144, Timestep 1595667,  Ep.Timesteps 1600, Score: -175.92, Avg.Score: -177.34, Time: 05:06:12 \n"
     ]
    },
    {
     "name": "stderr",
     "output_type": "stream",
     "text": [
      " 57%|█████▋    | 1144/2000 [5:06:18<3:11:51, 13.45s/it]"
     ]
    },
    {
     "name": "stdout",
     "output_type": "stream",
     "text": [
      "Ep. 1145, Timestep 1597267,  Ep.Timesteps 1600, Score: -180.77, Avg.Score: -177.39, Time: 05:06:25 \n"
     ]
    },
    {
     "name": "stderr",
     "output_type": "stream",
     "text": [
      " 57%|█████▋    | 1145/2000 [5:06:30<3:08:29, 13.23s/it]"
     ]
    },
    {
     "name": "stdout",
     "output_type": "stream",
     "text": [
      "Ep. 1146, Timestep 1598867,  Ep.Timesteps 1600, Score: -174.20, Avg.Score: -177.31, Time: 05:06:38 \n"
     ]
    },
    {
     "name": "stderr",
     "output_type": "stream",
     "text": [
      " 57%|█████▋    | 1146/2000 [5:06:44<3:09:20, 13.30s/it]"
     ]
    },
    {
     "name": "stdout",
     "output_type": "stream",
     "text": [
      "Ep. 1147, Timestep 1599135,  Ep.Timesteps 268, Score: -131.60, Avg.Score: -176.80, Time: 05:06:47 \n"
     ]
    },
    {
     "name": "stderr",
     "output_type": "stream",
     "text": [
      " 57%|█████▋    | 1147/2000 [5:06:46<2:21:37,  9.96s/it]"
     ]
    },
    {
     "name": "stdout",
     "output_type": "stream",
     "text": [
      "Ep. 1148, Timestep 1600735,  Ep.Timesteps 1600, Score: -178.60, Avg.Score: -176.80, Time: 05:06:54 \n"
     ]
    },
    {
     "name": "stderr",
     "output_type": "stream",
     "text": [
      " 57%|█████▋    | 1148/2000 [5:07:00<2:37:18, 11.08s/it]"
     ]
    },
    {
     "name": "stdout",
     "output_type": "stream",
     "text": [
      "Ep. 1149, Timestep 1602335,  Ep.Timesteps 1600, Score: -180.76, Avg.Score: -176.83, Time: 05:07:06 \n"
     ]
    },
    {
     "name": "stderr",
     "output_type": "stream",
     "text": [
      " 57%|█████▋    | 1149/2000 [5:07:13<2:45:48, 11.69s/it]"
     ]
    },
    {
     "name": "stdout",
     "output_type": "stream",
     "text": [
      "Ep. 1150, Timestep 1603935,  Ep.Timesteps 1600, Score: -175.78, Avg.Score: -176.77, Time: 05:07:20 \n"
     ]
    },
    {
     "name": "stderr",
     "output_type": "stream",
     "text": [
      " 57%|█████▊    | 1150/2000 [5:07:27<2:56:03, 12.43s/it]"
     ]
    },
    {
     "name": "stdout",
     "output_type": "stream",
     "text": [
      "Ep. 1151, Timestep 1605535,  Ep.Timesteps 1600, Score: -179.98, Avg.Score: -176.80, Time: 05:07:35 \n"
     ]
    },
    {
     "name": "stderr",
     "output_type": "stream",
     "text": [
      " 58%|█████▊    | 1151/2000 [5:07:42<3:05:38, 13.12s/it]"
     ]
    },
    {
     "name": "stdout",
     "output_type": "stream",
     "text": [
      "Ep. 1152, Timestep 1607135,  Ep.Timesteps 1600, Score: -176.86, Avg.Score: -176.80, Time: 05:07:49 \n"
     ]
    },
    {
     "name": "stderr",
     "output_type": "stream",
     "text": [
      " 58%|█████▊    | 1152/2000 [5:07:55<3:08:37, 13.35s/it]"
     ]
    },
    {
     "name": "stdout",
     "output_type": "stream",
     "text": [
      "Ep. 1153, Timestep 1608735,  Ep.Timesteps 1600, Score: -173.68, Avg.Score: -176.73, Time: 05:08:03 \n"
     ]
    },
    {
     "name": "stderr",
     "output_type": "stream",
     "text": [
      " 58%|█████▊    | 1153/2000 [5:08:10<3:13:04, 13.68s/it]"
     ]
    },
    {
     "name": "stdout",
     "output_type": "stream",
     "text": [
      "Ep. 1154, Timestep 1610335,  Ep.Timesteps 1600, Score: -174.00, Avg.Score: -176.67, Time: 05:08:17 \n"
     ]
    },
    {
     "name": "stderr",
     "output_type": "stream",
     "text": [
      " 58%|█████▊    | 1154/2000 [5:08:23<3:12:24, 13.65s/it]"
     ]
    },
    {
     "name": "stdout",
     "output_type": "stream",
     "text": [
      "Ep. 1155, Timestep 1611935,  Ep.Timesteps 1600, Score: -173.98, Avg.Score: -176.62, Time: 05:08:31 \n"
     ]
    },
    {
     "name": "stderr",
     "output_type": "stream",
     "text": [
      " 58%|█████▊    | 1155/2000 [5:08:37<3:12:03, 13.64s/it]"
     ]
    },
    {
     "name": "stdout",
     "output_type": "stream",
     "text": [
      "Ep. 1156, Timestep 1613535,  Ep.Timesteps 1600, Score: -174.00, Avg.Score: -176.62, Time: 05:08:45 \n"
     ]
    },
    {
     "name": "stderr",
     "output_type": "stream",
     "text": [
      " 58%|█████▊    | 1156/2000 [5:08:51<3:15:06, 13.87s/it]"
     ]
    },
    {
     "name": "stdout",
     "output_type": "stream",
     "text": [
      "Ep. 1157, Timestep 1615135,  Ep.Timesteps 1600, Score: -173.87, Avg.Score: -176.55, Time: 05:09:00 \n"
     ]
    },
    {
     "name": "stderr",
     "output_type": "stream",
     "text": [
      " 58%|█████▊    | 1157/2000 [5:09:06<3:18:46, 14.15s/it]"
     ]
    },
    {
     "name": "stdout",
     "output_type": "stream",
     "text": [
      "Ep. 1158, Timestep 1616735,  Ep.Timesteps 1600, Score: -173.68, Avg.Score: -176.47, Time: 05:09:14 \n"
     ]
    },
    {
     "name": "stderr",
     "output_type": "stream",
     "text": [
      " 58%|█████▊    | 1158/2000 [5:09:21<3:20:29, 14.29s/it]"
     ]
    },
    {
     "name": "stdout",
     "output_type": "stream",
     "text": [
      "Ep. 1159, Timestep 1618335,  Ep.Timesteps 1600, Score: -173.73, Avg.Score: -176.43, Time: 05:09:28 \n"
     ]
    },
    {
     "name": "stderr",
     "output_type": "stream",
     "text": [
      " 58%|█████▊    | 1159/2000 [5:09:35<3:17:43, 14.11s/it]"
     ]
    },
    {
     "name": "stdout",
     "output_type": "stream",
     "text": [
      "Ep. 1160, Timestep 1619935,  Ep.Timesteps 1600, Score: -174.11, Avg.Score: -176.41, Time: 05:09:43 \n"
     ]
    },
    {
     "name": "stderr",
     "output_type": "stream",
     "text": [
      " 58%|█████▊    | 1160/2000 [5:09:49<3:18:08, 14.15s/it]"
     ]
    },
    {
     "name": "stdout",
     "output_type": "stream",
     "text": [
      "Ep. 1161, Timestep 1621535,  Ep.Timesteps 1600, Score: -176.22, Avg.Score: -176.37, Time: 05:09:57 \n"
     ]
    },
    {
     "name": "stderr",
     "output_type": "stream",
     "text": [
      " 58%|█████▊    | 1161/2000 [5:10:03<3:19:24, 14.26s/it]"
     ]
    },
    {
     "name": "stdout",
     "output_type": "stream",
     "text": [
      "Ep. 1162, Timestep 1623135,  Ep.Timesteps 1600, Score: -174.02, Avg.Score: -176.35, Time: 05:10:11 \n"
     ]
    },
    {
     "name": "stderr",
     "output_type": "stream",
     "text": [
      " 58%|█████▊    | 1162/2000 [5:10:17<3:17:14, 14.12s/it]"
     ]
    },
    {
     "name": "stdout",
     "output_type": "stream",
     "text": [
      "Ep. 1163, Timestep 1624735,  Ep.Timesteps 1600, Score: -181.33, Avg.Score: -176.40, Time: 05:10:25 \n"
     ]
    },
    {
     "name": "stderr",
     "output_type": "stream",
     "text": [
      " 58%|█████▊    | 1163/2000 [5:10:31<3:15:22, 14.01s/it]"
     ]
    },
    {
     "name": "stdout",
     "output_type": "stream",
     "text": [
      "Ep. 1164, Timestep 1626335,  Ep.Timesteps 1600, Score: -174.82, Avg.Score: -176.39, Time: 05:10:38 \n"
     ]
    },
    {
     "name": "stderr",
     "output_type": "stream",
     "text": [
      " 58%|█████▊    | 1164/2000 [5:10:45<3:14:53, 13.99s/it]"
     ]
    },
    {
     "name": "stdout",
     "output_type": "stream",
     "text": [
      "Ep. 1165, Timestep 1627935,  Ep.Timesteps 1600, Score: -178.06, Avg.Score: -176.35, Time: 05:10:52 \n"
     ]
    },
    {
     "name": "stderr",
     "output_type": "stream",
     "text": [
      " 58%|█████▊    | 1165/2000 [5:10:58<3:11:40, 13.77s/it]"
     ]
    },
    {
     "name": "stdout",
     "output_type": "stream",
     "text": [
      "Ep. 1166, Timestep 1629535,  Ep.Timesteps 1600, Score: -180.20, Avg.Score: -176.35, Time: 05:11:06 \n"
     ]
    },
    {
     "name": "stderr",
     "output_type": "stream",
     "text": [
      " 58%|█████▊    | 1166/2000 [5:11:13<3:14:53, 14.02s/it]"
     ]
    },
    {
     "name": "stdout",
     "output_type": "stream",
     "text": [
      "Ep. 1167, Timestep 1631135,  Ep.Timesteps 1600, Score: -176.17, Avg.Score: -176.37, Time: 05:11:21 \n"
     ]
    },
    {
     "name": "stderr",
     "output_type": "stream",
     "text": [
      " 58%|█████▊    | 1167/2000 [5:11:27<3:17:55, 14.26s/it]"
     ]
    },
    {
     "name": "stdout",
     "output_type": "stream",
     "text": [
      "Ep. 1168, Timestep 1632735,  Ep.Timesteps 1600, Score: -177.55, Avg.Score: -176.39, Time: 05:11:34 \n"
     ]
    },
    {
     "name": "stderr",
     "output_type": "stream",
     "text": [
      " 58%|█████▊    | 1168/2000 [5:11:41<3:15:01, 14.06s/it]"
     ]
    },
    {
     "name": "stdout",
     "output_type": "stream",
     "text": [
      "Ep. 1169, Timestep 1634335,  Ep.Timesteps 1600, Score: -181.05, Avg.Score: -176.43, Time: 05:11:49 \n"
     ]
    },
    {
     "name": "stderr",
     "output_type": "stream",
     "text": [
      " 58%|█████▊    | 1169/2000 [5:11:56<3:17:07, 14.23s/it]"
     ]
    },
    {
     "name": "stdout",
     "output_type": "stream",
     "text": [
      "Ep. 1170, Timestep 1635935,  Ep.Timesteps 1600, Score: -180.68, Avg.Score: -176.50, Time: 05:12:04 \n"
     ]
    },
    {
     "name": "stderr",
     "output_type": "stream",
     "text": [
      " 58%|█████▊    | 1170/2000 [5:12:10<3:17:40, 14.29s/it]"
     ]
    },
    {
     "name": "stdout",
     "output_type": "stream",
     "text": [
      "Ep. 1171, Timestep 1637535,  Ep.Timesteps 1600, Score: -180.59, Avg.Score: -176.57, Time: 05:12:18 \n"
     ]
    },
    {
     "name": "stderr",
     "output_type": "stream",
     "text": [
      " 59%|█████▊    | 1171/2000 [5:12:25<3:18:52, 14.39s/it]"
     ]
    },
    {
     "name": "stdout",
     "output_type": "stream",
     "text": [
      "Ep. 1172, Timestep 1639135,  Ep.Timesteps 1600, Score: -181.31, Avg.Score: -176.65, Time: 05:12:33 \n"
     ]
    },
    {
     "name": "stderr",
     "output_type": "stream",
     "text": [
      " 59%|█████▊    | 1172/2000 [5:12:40<3:21:11, 14.58s/it]"
     ]
    },
    {
     "name": "stdout",
     "output_type": "stream",
     "text": [
      "Ep. 1173, Timestep 1640735,  Ep.Timesteps 1600, Score: -180.76, Avg.Score: -176.72, Time: 05:12:47 \n"
     ]
    },
    {
     "name": "stderr",
     "output_type": "stream",
     "text": [
      " 59%|█████▊    | 1173/2000 [5:12:53<3:16:44, 14.27s/it]"
     ]
    },
    {
     "name": "stdout",
     "output_type": "stream",
     "text": [
      "Ep. 1174, Timestep 1642335,  Ep.Timesteps 1600, Score: -180.98, Avg.Score: -176.79, Time: 05:13:01 \n"
     ]
    },
    {
     "name": "stderr",
     "output_type": "stream",
     "text": [
      " 59%|█████▊    | 1174/2000 [5:13:07<3:14:09, 14.10s/it]"
     ]
    },
    {
     "name": "stdout",
     "output_type": "stream",
     "text": [
      "Ep. 1175, Timestep 1643935,  Ep.Timesteps 1600, Score: -180.32, Avg.Score: -176.86, Time: 05:13:15 \n"
     ]
    },
    {
     "name": "stderr",
     "output_type": "stream",
     "text": [
      " 59%|█████▉    | 1175/2000 [5:13:21<3:14:50, 14.17s/it]"
     ]
    },
    {
     "name": "stdout",
     "output_type": "stream",
     "text": [
      "Ep. 1176, Timestep 1645535,  Ep.Timesteps 1600, Score: -180.65, Avg.Score: -176.93, Time: 05:13:29 \n"
     ]
    },
    {
     "name": "stderr",
     "output_type": "stream",
     "text": [
      " 59%|█████▉    | 1176/2000 [5:13:35<3:14:02, 14.13s/it]"
     ]
    },
    {
     "name": "stdout",
     "output_type": "stream",
     "text": [
      "Ep. 1177, Timestep 1647135,  Ep.Timesteps 1600, Score: -180.83, Avg.Score: -176.93, Time: 05:13:43 \n"
     ]
    },
    {
     "name": "stderr",
     "output_type": "stream",
     "text": [
      " 59%|█████▉    | 1177/2000 [5:13:49<3:13:00, 14.07s/it]"
     ]
    },
    {
     "name": "stdout",
     "output_type": "stream",
     "text": [
      "Ep. 1178, Timestep 1648735,  Ep.Timesteps 1600, Score: -176.15, Avg.Score: -176.95, Time: 05:13:57 \n"
     ]
    },
    {
     "name": "stderr",
     "output_type": "stream",
     "text": [
      " 59%|█████▉    | 1178/2000 [5:14:03<3:12:00, 14.02s/it]"
     ]
    },
    {
     "name": "stdout",
     "output_type": "stream",
     "text": [
      "Ep. 1179, Timestep 1650335,  Ep.Timesteps 1600, Score: -180.30, Avg.Score: -177.02, Time: 05:14:11 \n"
     ]
    },
    {
     "name": "stderr",
     "output_type": "stream",
     "text": [
      " 59%|█████▉    | 1179/2000 [5:14:17<3:11:49, 14.02s/it]"
     ]
    },
    {
     "name": "stdout",
     "output_type": "stream",
     "text": [
      "Ep. 1180, Timestep 1651935,  Ep.Timesteps 1600, Score: -177.37, Avg.Score: -177.05, Time: 05:14:25 \n"
     ]
    },
    {
     "name": "stderr",
     "output_type": "stream",
     "text": [
      " 59%|█████▉    | 1180/2000 [5:14:32<3:13:27, 14.16s/it]"
     ]
    },
    {
     "name": "stdout",
     "output_type": "stream",
     "text": [
      "Ep. 1181, Timestep 1653535,  Ep.Timesteps 1600, Score: -175.83, Avg.Score: -177.07, Time: 05:14:40 \n"
     ]
    },
    {
     "name": "stderr",
     "output_type": "stream",
     "text": [
      " 59%|█████▉    | 1181/2000 [5:14:46<3:13:57, 14.21s/it]"
     ]
    },
    {
     "name": "stdout",
     "output_type": "stream",
     "text": [
      "Ep. 1182, Timestep 1655135,  Ep.Timesteps 1600, Score: -174.16, Avg.Score: -177.08, Time: 05:14:53 \n"
     ]
    },
    {
     "name": "stderr",
     "output_type": "stream",
     "text": [
      " 59%|█████▉    | 1182/2000 [5:15:00<3:12:13, 14.10s/it]"
     ]
    },
    {
     "name": "stdout",
     "output_type": "stream",
     "text": [
      "Ep. 1183, Timestep 1656735,  Ep.Timesteps 1600, Score: -178.68, Avg.Score: -177.06, Time: 05:15:07 \n"
     ]
    },
    {
     "name": "stderr",
     "output_type": "stream",
     "text": [
      " 59%|█████▉    | 1183/2000 [5:15:14<3:11:19, 14.05s/it]"
     ]
    },
    {
     "name": "stdout",
     "output_type": "stream",
     "text": [
      "Ep. 1184, Timestep 1658335,  Ep.Timesteps 1600, Score: -180.13, Avg.Score: -177.12, Time: 05:15:22 \n"
     ]
    },
    {
     "name": "stderr",
     "output_type": "stream",
     "text": [
      " 59%|█████▉    | 1184/2000 [5:15:28<3:12:06, 14.13s/it]"
     ]
    },
    {
     "name": "stdout",
     "output_type": "stream",
     "text": [
      "Ep. 1185, Timestep 1659935,  Ep.Timesteps 1600, Score: -183.15, Avg.Score: -177.14, Time: 05:15:36 \n"
     ]
    },
    {
     "name": "stderr",
     "output_type": "stream",
     "text": [
      " 59%|█████▉    | 1185/2000 [5:15:43<3:14:14, 14.30s/it]"
     ]
    },
    {
     "name": "stdout",
     "output_type": "stream",
     "text": [
      "Ep. 1186, Timestep 1661535,  Ep.Timesteps 1600, Score: -180.19, Avg.Score: -177.15, Time: 05:15:50 \n"
     ]
    },
    {
     "name": "stderr",
     "output_type": "stream",
     "text": [
      " 59%|█████▉    | 1186/2000 [5:15:57<3:13:46, 14.28s/it]"
     ]
    },
    {
     "name": "stdout",
     "output_type": "stream",
     "text": [
      "Ep. 1187, Timestep 1663135,  Ep.Timesteps 1600, Score: -181.13, Avg.Score: -177.22, Time: 05:16:04 \n"
     ]
    },
    {
     "name": "stderr",
     "output_type": "stream",
     "text": [
      " 59%|█████▉    | 1187/2000 [5:16:11<3:11:26, 14.13s/it]"
     ]
    },
    {
     "name": "stdout",
     "output_type": "stream",
     "text": [
      "Ep. 1188, Timestep 1664735,  Ep.Timesteps 1600, Score: -181.92, Avg.Score: -177.28, Time: 05:16:19 \n"
     ]
    },
    {
     "name": "stderr",
     "output_type": "stream",
     "text": [
      " 59%|█████▉    | 1188/2000 [5:16:25<3:12:23, 14.22s/it]"
     ]
    },
    {
     "name": "stdout",
     "output_type": "stream",
     "text": [
      "Ep. 1189, Timestep 1666335,  Ep.Timesteps 1600, Score: -176.03, Avg.Score: -177.23, Time: 05:16:33 \n"
     ]
    },
    {
     "name": "stderr",
     "output_type": "stream",
     "text": [
      " 59%|█████▉    | 1189/2000 [5:16:40<3:12:51, 14.27s/it]"
     ]
    },
    {
     "name": "stdout",
     "output_type": "stream",
     "text": [
      "Ep. 1190, Timestep 1667935,  Ep.Timesteps 1600, Score: -176.30, Avg.Score: -177.23, Time: 05:16:47 \n"
     ]
    },
    {
     "name": "stderr",
     "output_type": "stream",
     "text": [
      " 60%|█████▉    | 1190/2000 [5:16:54<3:12:47, 14.28s/it]"
     ]
    },
    {
     "name": "stdout",
     "output_type": "stream",
     "text": [
      "Ep. 1191, Timestep 1669535,  Ep.Timesteps 1600, Score: -182.60, Avg.Score: -177.27, Time: 05:17:01 \n"
     ]
    },
    {
     "name": "stderr",
     "output_type": "stream",
     "text": [
      " 60%|█████▉    | 1191/2000 [5:17:08<3:10:15, 14.11s/it]"
     ]
    },
    {
     "name": "stdout",
     "output_type": "stream",
     "text": [
      "Ep. 1192, Timestep 1671135,  Ep.Timesteps 1600, Score: -180.85, Avg.Score: -177.27, Time: 05:17:16 \n"
     ]
    },
    {
     "name": "stderr",
     "output_type": "stream",
     "text": [
      " 60%|█████▉    | 1192/2000 [5:17:22<3:10:29, 14.14s/it]"
     ]
    },
    {
     "name": "stdout",
     "output_type": "stream",
     "text": [
      "Ep. 1193, Timestep 1672735,  Ep.Timesteps 1600, Score: -173.28, Avg.Score: -177.20, Time: 05:17:30 \n"
     ]
    },
    {
     "name": "stderr",
     "output_type": "stream",
     "text": [
      " 60%|█████▉    | 1193/2000 [5:17:36<3:10:41, 14.18s/it]"
     ]
    },
    {
     "name": "stdout",
     "output_type": "stream",
     "text": [
      "Ep. 1194, Timestep 1674335,  Ep.Timesteps 1600, Score: -173.95, Avg.Score: -177.13, Time: 05:17:44 \n"
     ]
    },
    {
     "name": "stderr",
     "output_type": "stream",
     "text": [
      " 60%|█████▉    | 1194/2000 [5:17:50<3:08:53, 14.06s/it]"
     ]
    },
    {
     "name": "stdout",
     "output_type": "stream",
     "text": [
      "Ep. 1195, Timestep 1675935,  Ep.Timesteps 1600, Score: -173.67, Avg.Score: -177.13, Time: 05:17:58 \n"
     ]
    },
    {
     "name": "stderr",
     "output_type": "stream",
     "text": [
      " 60%|█████▉    | 1195/2000 [5:18:04<3:09:48, 14.15s/it]"
     ]
    },
    {
     "name": "stdout",
     "output_type": "stream",
     "text": [
      "Ep. 1196, Timestep 1677535,  Ep.Timesteps 1600, Score: -174.08, Avg.Score: -177.11, Time: 05:18:11 \n"
     ]
    },
    {
     "name": "stderr",
     "output_type": "stream",
     "text": [
      " 60%|█████▉    | 1196/2000 [5:18:18<3:07:19, 13.98s/it]"
     ]
    },
    {
     "name": "stdout",
     "output_type": "stream",
     "text": [
      "Ep. 1197, Timestep 1679135,  Ep.Timesteps 1600, Score: -173.95, Avg.Score: -177.09, Time: 05:18:26 \n"
     ]
    },
    {
     "name": "stderr",
     "output_type": "stream",
     "text": [
      " 60%|█████▉    | 1197/2000 [5:18:32<3:07:24, 14.00s/it]"
     ]
    },
    {
     "name": "stdout",
     "output_type": "stream",
     "text": [
      "Ep. 1198, Timestep 1680735,  Ep.Timesteps 1600, Score: -173.70, Avg.Score: -177.08, Time: 05:18:40 \n"
     ]
    },
    {
     "name": "stderr",
     "output_type": "stream",
     "text": [
      " 60%|█████▉    | 1198/2000 [5:18:46<3:08:39, 14.11s/it]"
     ]
    },
    {
     "name": "stdout",
     "output_type": "stream",
     "text": [
      "Ep. 1199, Timestep 1682335,  Ep.Timesteps 1600, Score: -173.48, Avg.Score: -177.05, Time: 05:18:54 \n"
     ]
    },
    {
     "name": "stderr",
     "output_type": "stream",
     "text": [
      " 60%|█████▉    | 1199/2000 [5:19:01<3:11:36, 14.35s/it]"
     ]
    },
    {
     "name": "stdout",
     "output_type": "stream",
     "text": [
      "Ep. 1200, Timestep 1683935,  Ep.Timesteps 1600, Score: -173.98, Avg.Score: -177.03, Time: 05:19:08 \n"
     ]
    },
    {
     "name": "stderr",
     "output_type": "stream",
     "text": [
      " 60%|██████    | 1200/2000 [5:19:15<3:09:16, 14.20s/it]"
     ]
    },
    {
     "name": "stdout",
     "output_type": "stream",
     "text": [
      "Ep. 1201, Timestep 1685535,  Ep.Timesteps 1600, Score: -173.73, Avg.Score: -177.02, Time: 05:19:23 \n"
     ]
    },
    {
     "name": "stderr",
     "output_type": "stream",
     "text": [
      " 60%|██████    | 1201/2000 [5:19:29<3:07:40, 14.09s/it]"
     ]
    },
    {
     "name": "stdout",
     "output_type": "stream",
     "text": [
      "Ep. 1202, Timestep 1687135,  Ep.Timesteps 1600, Score: -173.98, Avg.Score: -176.94, Time: 05:19:37 \n"
     ]
    },
    {
     "name": "stderr",
     "output_type": "stream",
     "text": [
      " 60%|██████    | 1202/2000 [5:19:43<3:08:28, 14.17s/it]"
     ]
    },
    {
     "name": "stdout",
     "output_type": "stream",
     "text": [
      "Ep. 1203, Timestep 1688735,  Ep.Timesteps 1600, Score: -181.37, Avg.Score: -176.99, Time: 05:19:51 \n"
     ]
    },
    {
     "name": "stderr",
     "output_type": "stream",
     "text": [
      " 60%|██████    | 1203/2000 [5:19:57<3:08:09, 14.16s/it]"
     ]
    },
    {
     "name": "stdout",
     "output_type": "stream",
     "text": [
      "Ep. 1204, Timestep 1690335,  Ep.Timesteps 1600, Score: -176.16, Avg.Score: -176.99, Time: 05:20:05 \n"
     ]
    },
    {
     "name": "stderr",
     "output_type": "stream",
     "text": [
      " 60%|██████    | 1204/2000 [5:20:11<3:06:23, 14.05s/it]"
     ]
    },
    {
     "name": "stdout",
     "output_type": "stream",
     "text": [
      "Ep. 1205, Timestep 1691935,  Ep.Timesteps 1600, Score: -181.30, Avg.Score: -177.04, Time: 05:20:19 \n"
     ]
    },
    {
     "name": "stderr",
     "output_type": "stream",
     "text": [
      " 60%|██████    | 1205/2000 [5:20:25<3:04:43, 13.94s/it]"
     ]
    },
    {
     "name": "stdout",
     "output_type": "stream",
     "text": [
      "Ep. 1206, Timestep 1693535,  Ep.Timesteps 1600, Score: -180.36, Avg.Score: -177.05, Time: 05:20:33 \n"
     ]
    },
    {
     "name": "stderr",
     "output_type": "stream",
     "text": [
      " 60%|██████    | 1206/2000 [5:20:39<3:06:54, 14.12s/it]"
     ]
    },
    {
     "name": "stdout",
     "output_type": "stream",
     "text": [
      "Ep. 1207, Timestep 1695135,  Ep.Timesteps 1600, Score: -174.84, Avg.Score: -176.99, Time: 05:20:47 \n"
     ]
    },
    {
     "name": "stderr",
     "output_type": "stream",
     "text": [
      " 60%|██████    | 1207/2000 [5:20:53<3:04:40, 13.97s/it]"
     ]
    },
    {
     "name": "stdout",
     "output_type": "stream",
     "text": [
      "Ep. 1208, Timestep 1696735,  Ep.Timesteps 1600, Score: -173.88, Avg.Score: -176.96, Time: 05:21:01 \n"
     ]
    },
    {
     "name": "stderr",
     "output_type": "stream",
     "text": [
      " 60%|██████    | 1208/2000 [5:21:08<3:06:31, 14.13s/it]"
     ]
    },
    {
     "name": "stdout",
     "output_type": "stream",
     "text": [
      "Ep. 1209, Timestep 1698335,  Ep.Timesteps 1600, Score: -175.44, Avg.Score: -176.92, Time: 05:21:15 \n"
     ]
    },
    {
     "name": "stderr",
     "output_type": "stream",
     "text": [
      " 60%|██████    | 1209/2000 [5:21:21<3:05:14, 14.05s/it]"
     ]
    },
    {
     "name": "stdout",
     "output_type": "stream",
     "text": [
      "Ep. 1210, Timestep 1699935,  Ep.Timesteps 1600, Score: -180.74, Avg.Score: -176.92, Time: 05:21:29 \n"
     ]
    },
    {
     "name": "stderr",
     "output_type": "stream",
     "text": [
      " 60%|██████    | 1210/2000 [5:21:36<3:06:01, 14.13s/it]"
     ]
    },
    {
     "name": "stdout",
     "output_type": "stream",
     "text": [
      "Ep. 1211, Timestep 1701535,  Ep.Timesteps 1600, Score: -175.76, Avg.Score: -176.94, Time: 05:21:43 \n"
     ]
    },
    {
     "name": "stderr",
     "output_type": "stream",
     "text": [
      " 61%|██████    | 1211/2000 [5:21:49<3:03:10, 13.93s/it]"
     ]
    },
    {
     "name": "stdout",
     "output_type": "stream",
     "text": [
      "Ep. 1212, Timestep 1703135,  Ep.Timesteps 1600, Score: -181.93, Avg.Score: -177.02, Time: 05:21:57 \n"
     ]
    },
    {
     "name": "stderr",
     "output_type": "stream",
     "text": [
      " 61%|██████    | 1212/2000 [5:22:04<3:04:34, 14.05s/it]"
     ]
    },
    {
     "name": "stdout",
     "output_type": "stream",
     "text": [
      "Ep. 1213, Timestep 1704735,  Ep.Timesteps 1600, Score: -175.64, Avg.Score: -177.04, Time: 05:22:11 \n"
     ]
    },
    {
     "name": "stderr",
     "output_type": "stream",
     "text": [
      " 61%|██████    | 1213/2000 [5:22:17<3:03:46, 14.01s/it]"
     ]
    },
    {
     "name": "stdout",
     "output_type": "stream",
     "text": [
      "Ep. 1214, Timestep 1706335,  Ep.Timesteps 1600, Score: -180.61, Avg.Score: -177.11, Time: 05:22:25 \n"
     ]
    },
    {
     "name": "stderr",
     "output_type": "stream",
     "text": [
      " 61%|██████    | 1214/2000 [5:22:31<3:02:33, 13.94s/it]"
     ]
    },
    {
     "name": "stdout",
     "output_type": "stream",
     "text": [
      "Ep. 1215, Timestep 1707935,  Ep.Timesteps 1600, Score: -181.43, Avg.Score: -177.18, Time: 05:22:40 \n"
     ]
    },
    {
     "name": "stderr",
     "output_type": "stream",
     "text": [
      " 61%|██████    | 1215/2000 [5:22:45<3:02:55, 13.98s/it]"
     ]
    },
    {
     "name": "stdout",
     "output_type": "stream",
     "text": [
      "Ep. 1216, Timestep 1709535,  Ep.Timesteps 1600, Score: -175.88, Avg.Score: -177.20, Time: 05:22:54 \n"
     ]
    },
    {
     "name": "stderr",
     "output_type": "stream",
     "text": [
      " 61%|██████    | 1216/2000 [5:23:00<3:05:01, 14.16s/it]"
     ]
    },
    {
     "name": "stdout",
     "output_type": "stream",
     "text": [
      "Ep. 1217, Timestep 1711135,  Ep.Timesteps 1600, Score: -176.53, Avg.Score: -177.23, Time: 05:23:07 \n"
     ]
    },
    {
     "name": "stderr",
     "output_type": "stream",
     "text": [
      " 61%|██████    | 1217/2000 [5:23:14<3:05:17, 14.20s/it]"
     ]
    },
    {
     "name": "stdout",
     "output_type": "stream",
     "text": [
      "Ep. 1218, Timestep 1712735,  Ep.Timesteps 1600, Score: -181.46, Avg.Score: -177.31, Time: 05:23:21 \n"
     ]
    },
    {
     "name": "stderr",
     "output_type": "stream",
     "text": [
      " 61%|██████    | 1218/2000 [5:23:28<3:02:03, 13.97s/it]"
     ]
    },
    {
     "name": "stdout",
     "output_type": "stream",
     "text": [
      "Ep. 1219, Timestep 1712881,  Ep.Timesteps 146, Score: -118.04, Avg.Score: -176.76, Time: 05:23:31 \n"
     ]
    },
    {
     "name": "stderr",
     "output_type": "stream",
     "text": [
      " 61%|██████    | 1219/2000 [5:23:29<2:12:44, 10.20s/it]"
     ]
    },
    {
     "name": "stdout",
     "output_type": "stream",
     "text": [
      "Ep. 1220, Timestep 1714481,  Ep.Timesteps 1600, Score: -175.65, Avg.Score: -176.77, Time: 05:23:37 \n"
     ]
    },
    {
     "name": "stderr",
     "output_type": "stream",
     "text": [
      " 61%|██████    | 1220/2000 [5:23:43<2:26:58, 11.31s/it]"
     ]
    },
    {
     "name": "stdout",
     "output_type": "stream",
     "text": [
      "Ep. 1221, Timestep 1716081,  Ep.Timesteps 1600, Score: -175.16, Avg.Score: -176.79, Time: 05:23:51 \n"
     ]
    },
    {
     "name": "stderr",
     "output_type": "stream",
     "text": [
      " 61%|██████    | 1221/2000 [5:23:57<2:39:17, 12.27s/it]"
     ]
    },
    {
     "name": "stdout",
     "output_type": "stream",
     "text": [
      "Ep. 1222, Timestep 1717681,  Ep.Timesteps 1600, Score: -179.92, Avg.Score: -176.85, Time: 05:24:05 \n"
     ]
    },
    {
     "name": "stderr",
     "output_type": "stream",
     "text": [
      " 61%|██████    | 1222/2000 [5:24:11<2:46:01, 12.80s/it]"
     ]
    },
    {
     "name": "stdout",
     "output_type": "stream",
     "text": [
      "Ep. 1223, Timestep 1719281,  Ep.Timesteps 1600, Score: -175.60, Avg.Score: -176.77, Time: 05:24:19 \n"
     ]
    },
    {
     "name": "stderr",
     "output_type": "stream",
     "text": [
      " 61%|██████    | 1223/2000 [5:24:26<2:50:32, 13.17s/it]"
     ]
    },
    {
     "name": "stdout",
     "output_type": "stream",
     "text": [
      "Ep. 1224, Timestep 1720881,  Ep.Timesteps 1600, Score: -175.92, Avg.Score: -176.72, Time: 05:24:33 \n"
     ]
    },
    {
     "name": "stderr",
     "output_type": "stream",
     "text": [
      " 61%|██████    | 1224/2000 [5:24:39<2:52:15, 13.32s/it]"
     ]
    },
    {
     "name": "stdout",
     "output_type": "stream",
     "text": [
      "Ep. 1225, Timestep 1722481,  Ep.Timesteps 1600, Score: -181.00, Avg.Score: -176.79, Time: 05:24:47 \n"
     ]
    },
    {
     "name": "stderr",
     "output_type": "stream",
     "text": [
      " 61%|██████▏   | 1225/2000 [5:24:53<2:54:40, 13.52s/it]"
     ]
    },
    {
     "name": "stdout",
     "output_type": "stream",
     "text": [
      "Ep. 1226, Timestep 1724081,  Ep.Timesteps 1600, Score: -181.73, Avg.Score: -176.79, Time: 05:25:01 \n"
     ]
    },
    {
     "name": "stderr",
     "output_type": "stream",
     "text": [
      " 61%|██████▏   | 1226/2000 [5:25:07<2:56:41, 13.70s/it]"
     ]
    },
    {
     "name": "stdout",
     "output_type": "stream",
     "text": [
      "Ep. 1227, Timestep 1725681,  Ep.Timesteps 1600, Score: -179.91, Avg.Score: -176.79, Time: 05:25:15 \n"
     ]
    },
    {
     "name": "stderr",
     "output_type": "stream",
     "text": [
      " 61%|██████▏   | 1227/2000 [5:25:22<2:59:35, 13.94s/it]"
     ]
    },
    {
     "name": "stdout",
     "output_type": "stream",
     "text": [
      "Ep. 1228, Timestep 1727281,  Ep.Timesteps 1600, Score: -175.90, Avg.Score: -176.80, Time: 05:25:29 \n"
     ]
    },
    {
     "name": "stderr",
     "output_type": "stream",
     "text": [
      " 61%|██████▏   | 1228/2000 [5:25:36<3:00:56, 14.06s/it]"
     ]
    },
    {
     "name": "stdout",
     "output_type": "stream",
     "text": [
      "Ep. 1229, Timestep 1728881,  Ep.Timesteps 1600, Score: -176.74, Avg.Score: -176.76, Time: 05:25:43 \n"
     ]
    },
    {
     "name": "stderr",
     "output_type": "stream",
     "text": [
      " 61%|██████▏   | 1229/2000 [5:25:50<2:59:29, 13.97s/it]"
     ]
    },
    {
     "name": "stdout",
     "output_type": "stream",
     "text": [
      "Ep. 1230, Timestep 1730481,  Ep.Timesteps 1600, Score: -175.45, Avg.Score: -176.76, Time: 05:25:58 \n"
     ]
    },
    {
     "name": "stderr",
     "output_type": "stream",
     "text": [
      " 62%|██████▏   | 1230/2000 [5:26:04<3:00:59, 14.10s/it]"
     ]
    },
    {
     "name": "stdout",
     "output_type": "stream",
     "text": [
      "Ep. 1231, Timestep 1732081,  Ep.Timesteps 1600, Score: -180.54, Avg.Score: -176.75, Time: 05:26:13 \n"
     ]
    },
    {
     "name": "stderr",
     "output_type": "stream",
     "text": [
      " 62%|██████▏   | 1231/2000 [5:26:19<3:02:41, 14.25s/it]"
     ]
    },
    {
     "name": "stdout",
     "output_type": "stream",
     "text": [
      "Ep. 1232, Timestep 1733681,  Ep.Timesteps 1600, Score: -180.19, Avg.Score: -176.76, Time: 05:26:27 \n"
     ]
    },
    {
     "name": "stderr",
     "output_type": "stream",
     "text": [
      " 62%|██████▏   | 1232/2000 [5:26:34<3:05:42, 14.51s/it]"
     ]
    },
    {
     "name": "stdout",
     "output_type": "stream",
     "text": [
      "Ep. 1233, Timestep 1735281,  Ep.Timesteps 1600, Score: -176.04, Avg.Score: -176.76, Time: 05:26:41 \n"
     ]
    },
    {
     "name": "stderr",
     "output_type": "stream",
     "text": [
      " 62%|██████▏   | 1233/2000 [5:26:47<3:00:12, 14.10s/it]"
     ]
    },
    {
     "name": "stdout",
     "output_type": "stream",
     "text": [
      "Ep. 1234, Timestep 1736881,  Ep.Timesteps 1600, Score: -173.55, Avg.Score: -176.68, Time: 05:26:55 \n"
     ]
    },
    {
     "name": "stderr",
     "output_type": "stream",
     "text": [
      " 62%|██████▏   | 1234/2000 [5:27:01<2:59:09, 14.03s/it]"
     ]
    },
    {
     "name": "stdout",
     "output_type": "stream",
     "text": [
      "Ep. 1235, Timestep 1738481,  Ep.Timesteps 1600, Score: -173.56, Avg.Score: -176.60, Time: 05:27:09 \n"
     ]
    },
    {
     "name": "stderr",
     "output_type": "stream",
     "text": [
      " 62%|██████▏   | 1235/2000 [5:27:15<2:59:59, 14.12s/it]"
     ]
    },
    {
     "name": "stdout",
     "output_type": "stream",
     "text": [
      "Ep. 1236, Timestep 1740081,  Ep.Timesteps 1600, Score: -174.02, Avg.Score: -176.55, Time: 05:27:23 \n"
     ]
    },
    {
     "name": "stderr",
     "output_type": "stream",
     "text": [
      " 62%|██████▏   | 1236/2000 [5:27:29<2:59:43, 14.12s/it]"
     ]
    },
    {
     "name": "stdout",
     "output_type": "stream",
     "text": [
      "Ep. 1237, Timestep 1741681,  Ep.Timesteps 1600, Score: -173.96, Avg.Score: -176.49, Time: 05:27:37 \n"
     ]
    },
    {
     "name": "stderr",
     "output_type": "stream",
     "text": [
      " 62%|██████▏   | 1237/2000 [5:27:43<2:58:56, 14.07s/it]"
     ]
    },
    {
     "name": "stdout",
     "output_type": "stream",
     "text": [
      "Ep. 1238, Timestep 1743281,  Ep.Timesteps 1600, Score: -173.64, Avg.Score: -176.42, Time: 05:27:51 \n"
     ]
    },
    {
     "name": "stderr",
     "output_type": "stream",
     "text": [
      " 62%|██████▏   | 1238/2000 [5:27:57<2:57:44, 14.00s/it]"
     ]
    },
    {
     "name": "stdout",
     "output_type": "stream",
     "text": [
      "Ep. 1239, Timestep 1744881,  Ep.Timesteps 1600, Score: -173.74, Avg.Score: -176.35, Time: 05:28:05 \n"
     ]
    },
    {
     "name": "stderr",
     "output_type": "stream",
     "text": [
      " 62%|██████▏   | 1239/2000 [5:28:12<2:59:40, 14.17s/it]"
     ]
    },
    {
     "name": "stdout",
     "output_type": "stream",
     "text": [
      "Ep. 1240, Timestep 1746481,  Ep.Timesteps 1600, Score: -174.15, Avg.Score: -176.33, Time: 05:28:19 \n"
     ]
    },
    {
     "name": "stderr",
     "output_type": "stream",
     "text": [
      " 62%|██████▏   | 1240/2000 [5:28:26<2:58:59, 14.13s/it]"
     ]
    },
    {
     "name": "stdout",
     "output_type": "stream",
     "text": [
      "Ep. 1241, Timestep 1748081,  Ep.Timesteps 1600, Score: -173.61, Avg.Score: -176.27, Time: 05:28:34 \n"
     ]
    },
    {
     "name": "stderr",
     "output_type": "stream",
     "text": [
      " 62%|██████▏   | 1241/2000 [5:28:40<3:00:07, 14.24s/it]"
     ]
    },
    {
     "name": "stdout",
     "output_type": "stream",
     "text": [
      "Ep. 1242, Timestep 1749681,  Ep.Timesteps 1600, Score: -173.71, Avg.Score: -176.20, Time: 05:28:47 \n"
     ]
    },
    {
     "name": "stderr",
     "output_type": "stream",
     "text": [
      " 62%|██████▏   | 1242/2000 [5:28:54<2:58:29, 14.13s/it]"
     ]
    },
    {
     "name": "stdout",
     "output_type": "stream",
     "text": [
      "Ep. 1243, Timestep 1751281,  Ep.Timesteps 1600, Score: -180.85, Avg.Score: -176.20, Time: 05:29:01 \n"
     ]
    },
    {
     "name": "stderr",
     "output_type": "stream",
     "text": [
      " 62%|██████▏   | 1243/2000 [5:29:08<2:56:02, 13.95s/it]"
     ]
    },
    {
     "name": "stdout",
     "output_type": "stream",
     "text": [
      "Ep. 1244, Timestep 1752881,  Ep.Timesteps 1600, Score: -175.85, Avg.Score: -176.20, Time: 05:29:16 \n"
     ]
    },
    {
     "name": "stderr",
     "output_type": "stream",
     "text": [
      " 62%|██████▏   | 1244/2000 [5:29:22<2:56:46, 14.03s/it]"
     ]
    },
    {
     "name": "stdout",
     "output_type": "stream",
     "text": [
      "Ep. 1245, Timestep 1754481,  Ep.Timesteps 1600, Score: -175.70, Avg.Score: -176.14, Time: 05:29:30 \n"
     ]
    },
    {
     "name": "stderr",
     "output_type": "stream",
     "text": [
      " 62%|██████▏   | 1245/2000 [5:29:37<2:58:57, 14.22s/it]"
     ]
    },
    {
     "name": "stdout",
     "output_type": "stream",
     "text": [
      "Ep. 1246, Timestep 1756081,  Ep.Timesteps 1600, Score: -175.70, Avg.Score: -176.16, Time: 05:29:44 \n"
     ]
    },
    {
     "name": "stderr",
     "output_type": "stream",
     "text": [
      " 62%|██████▏   | 1246/2000 [5:29:51<2:58:24, 14.20s/it]"
     ]
    },
    {
     "name": "stdout",
     "output_type": "stream",
     "text": [
      "Ep. 1247, Timestep 1757681,  Ep.Timesteps 1600, Score: -174.85, Avg.Score: -176.59, Time: 05:29:58 \n"
     ]
    },
    {
     "name": "stderr",
     "output_type": "stream",
     "text": [
      " 62%|██████▏   | 1247/2000 [5:30:05<2:56:56, 14.10s/it]"
     ]
    },
    {
     "name": "stdout",
     "output_type": "stream",
     "text": [
      "Ep. 1248, Timestep 1759281,  Ep.Timesteps 1600, Score: -180.83, Avg.Score: -176.61, Time: 05:30:13 \n"
     ]
    },
    {
     "name": "stderr",
     "output_type": "stream",
     "text": [
      " 62%|██████▏   | 1248/2000 [5:30:19<2:57:38, 14.17s/it]"
     ]
    },
    {
     "name": "stdout",
     "output_type": "stream",
     "text": [
      "Ep. 1249, Timestep 1760881,  Ep.Timesteps 1600, Score: -175.48, Avg.Score: -176.56, Time: 05:30:27 \n"
     ]
    },
    {
     "name": "stderr",
     "output_type": "stream",
     "text": [
      " 62%|██████▏   | 1249/2000 [5:30:33<2:57:57, 14.22s/it]"
     ]
    },
    {
     "name": "stdout",
     "output_type": "stream",
     "text": [
      "Ep. 1250, Timestep 1762481,  Ep.Timesteps 1600, Score: -180.65, Avg.Score: -176.61, Time: 05:30:41 \n"
     ]
    },
    {
     "name": "stderr",
     "output_type": "stream",
     "text": [
      " 62%|██████▎   | 1250/2000 [5:30:47<2:57:19, 14.19s/it]"
     ]
    },
    {
     "name": "stdout",
     "output_type": "stream",
     "text": [
      "Ep. 1251, Timestep 1764081,  Ep.Timesteps 1600, Score: -179.76, Avg.Score: -176.61, Time: 05:30:55 \n"
     ]
    },
    {
     "name": "stderr",
     "output_type": "stream",
     "text": [
      " 63%|██████▎   | 1251/2000 [5:31:01<2:54:47, 14.00s/it]"
     ]
    },
    {
     "name": "stdout",
     "output_type": "stream",
     "text": [
      "Ep. 1252, Timestep 1765681,  Ep.Timesteps 1600, Score: -183.07, Avg.Score: -176.67, Time: 05:31:09 \n"
     ]
    },
    {
     "name": "stderr",
     "output_type": "stream",
     "text": [
      " 63%|██████▎   | 1252/2000 [5:31:16<2:56:38, 14.17s/it]"
     ]
    },
    {
     "name": "stdout",
     "output_type": "stream",
     "text": [
      "Ep. 1253, Timestep 1767281,  Ep.Timesteps 1600, Score: -181.52, Avg.Score: -176.75, Time: 05:31:23 \n"
     ]
    },
    {
     "name": "stderr",
     "output_type": "stream",
     "text": [
      " 63%|██████▎   | 1253/2000 [5:31:29<2:54:03, 13.98s/it]"
     ]
    },
    {
     "name": "stdout",
     "output_type": "stream",
     "text": [
      "Ep. 1254, Timestep 1768881,  Ep.Timesteps 1600, Score: -175.74, Avg.Score: -176.77, Time: 05:31:37 \n"
     ]
    },
    {
     "name": "stderr",
     "output_type": "stream",
     "text": [
      " 63%|██████▎   | 1254/2000 [5:31:43<2:54:53, 14.07s/it]"
     ]
    },
    {
     "name": "stdout",
     "output_type": "stream",
     "text": [
      "Ep. 1255, Timestep 1770481,  Ep.Timesteps 1600, Score: -180.56, Avg.Score: -176.83, Time: 05:31:51 \n"
     ]
    },
    {
     "name": "stderr",
     "output_type": "stream",
     "text": [
      " 63%|██████▎   | 1255/2000 [5:31:58<2:56:13, 14.19s/it]"
     ]
    },
    {
     "name": "stdout",
     "output_type": "stream",
     "text": [
      "Ep. 1256, Timestep 1772081,  Ep.Timesteps 1600, Score: -180.70, Avg.Score: -176.90, Time: 05:32:05 \n"
     ]
    },
    {
     "name": "stderr",
     "output_type": "stream",
     "text": [
      " 63%|██████▎   | 1256/2000 [5:32:12<2:53:57, 14.03s/it]"
     ]
    },
    {
     "name": "stdout",
     "output_type": "stream",
     "text": [
      "Ep. 1257, Timestep 1773681,  Ep.Timesteps 1600, Score: -181.59, Avg.Score: -176.98, Time: 05:32:20 \n"
     ]
    },
    {
     "name": "stderr",
     "output_type": "stream",
     "text": [
      " 63%|██████▎   | 1257/2000 [5:32:26<2:54:18, 14.08s/it]"
     ]
    },
    {
     "name": "stdout",
     "output_type": "stream",
     "text": [
      "Ep. 1258, Timestep 1775281,  Ep.Timesteps 1600, Score: -180.36, Avg.Score: -177.04, Time: 05:32:34 \n"
     ]
    },
    {
     "name": "stderr",
     "output_type": "stream",
     "text": [
      " 63%|██████▎   | 1258/2000 [5:32:40<2:56:27, 14.27s/it]"
     ]
    },
    {
     "name": "stdout",
     "output_type": "stream",
     "text": [
      "Ep. 1259, Timestep 1776881,  Ep.Timesteps 1600, Score: -183.47, Avg.Score: -177.14, Time: 05:32:48 \n"
     ]
    },
    {
     "name": "stderr",
     "output_type": "stream",
     "text": [
      " 63%|██████▎   | 1259/2000 [5:32:55<2:59:08, 14.50s/it]"
     ]
    },
    {
     "name": "stdout",
     "output_type": "stream",
     "text": [
      "Ep. 1260, Timestep 1778481,  Ep.Timesteps 1600, Score: -180.21, Avg.Score: -177.20, Time: 05:33:02 \n"
     ]
    },
    {
     "name": "stderr",
     "output_type": "stream",
     "text": [
      " 63%|██████▎   | 1260/2000 [5:33:09<2:56:25, 14.30s/it]"
     ]
    },
    {
     "name": "stdout",
     "output_type": "stream",
     "text": [
      "Ep. 1261, Timestep 1780081,  Ep.Timesteps 1600, Score: -181.36, Avg.Score: -177.25, Time: 05:33:17 \n"
     ]
    },
    {
     "name": "stderr",
     "output_type": "stream",
     "text": [
      " 63%|██████▎   | 1261/2000 [5:33:23<2:54:05, 14.14s/it]"
     ]
    },
    {
     "name": "stdout",
     "output_type": "stream",
     "text": [
      "Ep. 1262, Timestep 1780127,  Ep.Timesteps 46, Score: -122.10, Avg.Score: -176.73, Time: 05:33:26 \n"
     ]
    },
    {
     "name": "stderr",
     "output_type": "stream",
     "text": [
      " 63%|██████▎   | 1262/2000 [5:33:23<2:03:18, 10.03s/it]"
     ]
    },
    {
     "name": "stdout",
     "output_type": "stream",
     "text": [
      "Ep. 1263, Timestep 1781727,  Ep.Timesteps 1600, Score: -174.94, Avg.Score: -176.67, Time: 05:33:32 \n"
     ]
    },
    {
     "name": "stderr",
     "output_type": "stream",
     "text": [
      " 63%|██████▎   | 1263/2000 [5:33:38<2:20:11, 11.41s/it]"
     ]
    },
    {
     "name": "stdout",
     "output_type": "stream",
     "text": [
      "Ep. 1264, Timestep 1783327,  Ep.Timesteps 1600, Score: -180.61, Avg.Score: -176.73, Time: 05:33:46 \n"
     ]
    },
    {
     "name": "stderr",
     "output_type": "stream",
     "text": [
      " 63%|██████▎   | 1264/2000 [5:33:52<2:28:40, 12.12s/it]"
     ]
    },
    {
     "name": "stdout",
     "output_type": "stream",
     "text": [
      "Ep. 1265, Timestep 1784927,  Ep.Timesteps 1600, Score: -181.39, Avg.Score: -176.76, Time: 05:34:00 \n"
     ]
    },
    {
     "name": "stderr",
     "output_type": "stream",
     "text": [
      " 63%|██████▎   | 1265/2000 [5:34:06<2:36:15, 12.76s/it]"
     ]
    },
    {
     "name": "stdout",
     "output_type": "stream",
     "text": [
      "Ep. 1266, Timestep 1786527,  Ep.Timesteps 1600, Score: -175.80, Avg.Score: -176.72, Time: 05:34:13 \n"
     ]
    },
    {
     "name": "stderr",
     "output_type": "stream",
     "text": [
      " 63%|██████▎   | 1266/2000 [5:34:20<2:40:52, 13.15s/it]"
     ]
    },
    {
     "name": "stdout",
     "output_type": "stream",
     "text": [
      "Ep. 1267, Timestep 1788127,  Ep.Timesteps 1600, Score: -175.79, Avg.Score: -176.71, Time: 05:34:27 \n"
     ]
    },
    {
     "name": "stderr",
     "output_type": "stream",
     "text": [
      " 63%|██████▎   | 1267/2000 [5:34:34<2:42:50, 13.33s/it]"
     ]
    },
    {
     "name": "stdout",
     "output_type": "stream",
     "text": [
      "Ep. 1268, Timestep 1789727,  Ep.Timesteps 1600, Score: -175.64, Avg.Score: -176.69, Time: 05:34:42 \n"
     ]
    },
    {
     "name": "stderr",
     "output_type": "stream",
     "text": [
      " 63%|██████▎   | 1268/2000 [5:34:48<2:45:31, 13.57s/it]"
     ]
    },
    {
     "name": "stdout",
     "output_type": "stream",
     "text": [
      "Ep. 1269, Timestep 1791327,  Ep.Timesteps 1600, Score: -175.26, Avg.Score: -176.64, Time: 05:34:56 \n"
     ]
    },
    {
     "name": "stderr",
     "output_type": "stream",
     "text": [
      " 63%|██████▎   | 1269/2000 [5:35:03<2:49:07, 13.88s/it]"
     ]
    },
    {
     "name": "stdout",
     "output_type": "stream",
     "text": [
      "Ep. 1270, Timestep 1792927,  Ep.Timesteps 1600, Score: -180.45, Avg.Score: -176.63, Time: 05:35:10 \n"
     ]
    },
    {
     "name": "stderr",
     "output_type": "stream",
     "text": [
      " 64%|██████▎   | 1270/2000 [5:35:17<2:49:23, 13.92s/it]"
     ]
    },
    {
     "name": "stdout",
     "output_type": "stream",
     "text": [
      "Ep. 1271, Timestep 1794527,  Ep.Timesteps 1600, Score: -180.88, Avg.Score: -176.64, Time: 05:35:24 \n"
     ]
    },
    {
     "name": "stderr",
     "output_type": "stream",
     "text": [
      " 64%|██████▎   | 1271/2000 [5:35:30<2:47:33, 13.79s/it]"
     ]
    },
    {
     "name": "stdout",
     "output_type": "stream",
     "text": [
      "Ep. 1272, Timestep 1796127,  Ep.Timesteps 1600, Score: -180.85, Avg.Score: -176.63, Time: 05:35:38 \n"
     ]
    },
    {
     "name": "stderr",
     "output_type": "stream",
     "text": [
      " 64%|██████▎   | 1272/2000 [5:35:44<2:48:35, 13.89s/it]"
     ]
    },
    {
     "name": "stdout",
     "output_type": "stream",
     "text": [
      "Ep. 1273, Timestep 1797727,  Ep.Timesteps 1600, Score: -179.28, Avg.Score: -176.62, Time: 05:35:52 \n"
     ]
    },
    {
     "name": "stderr",
     "output_type": "stream",
     "text": [
      " 64%|██████▎   | 1273/2000 [5:35:59<2:50:54, 14.10s/it]"
     ]
    },
    {
     "name": "stdout",
     "output_type": "stream",
     "text": [
      "Ep. 1274, Timestep 1799327,  Ep.Timesteps 1600, Score: -182.16, Avg.Score: -176.63, Time: 05:36:06 \n"
     ]
    },
    {
     "name": "stderr",
     "output_type": "stream",
     "text": [
      " 64%|██████▎   | 1274/2000 [5:36:12<2:48:35, 13.93s/it]"
     ]
    },
    {
     "name": "stdout",
     "output_type": "stream",
     "text": [
      "Ep. 1275, Timestep 1800927,  Ep.Timesteps 1600, Score: -173.73, Avg.Score: -176.56, Time: 05:36:20 \n"
     ]
    },
    {
     "name": "stderr",
     "output_type": "stream",
     "text": [
      " 64%|██████▍   | 1275/2000 [5:36:27<2:49:21, 14.02s/it]"
     ]
    },
    {
     "name": "stdout",
     "output_type": "stream",
     "text": [
      "Ep. 1276, Timestep 1802527,  Ep.Timesteps 1600, Score: -173.43, Avg.Score: -176.49, Time: 05:36:35 \n"
     ]
    },
    {
     "name": "stderr",
     "output_type": "stream",
     "text": [
      " 64%|██████▍   | 1276/2000 [5:36:41<2:50:28, 14.13s/it]"
     ]
    },
    {
     "name": "stdout",
     "output_type": "stream",
     "text": [
      "Ep. 1277, Timestep 1804127,  Ep.Timesteps 1600, Score: -173.63, Avg.Score: -176.42, Time: 05:36:49 \n"
     ]
    },
    {
     "name": "stderr",
     "output_type": "stream",
     "text": [
      " 64%|██████▍   | 1277/2000 [5:36:56<2:51:48, 14.26s/it]"
     ]
    },
    {
     "name": "stdout",
     "output_type": "stream",
     "text": [
      "Ep. 1278, Timestep 1805727,  Ep.Timesteps 1600, Score: -174.04, Avg.Score: -176.40, Time: 05:37:03 \n"
     ]
    },
    {
     "name": "stderr",
     "output_type": "stream",
     "text": [
      " 64%|██████▍   | 1278/2000 [5:37:10<2:51:43, 14.27s/it]"
     ]
    },
    {
     "name": "stdout",
     "output_type": "stream",
     "text": [
      "Ep. 1279, Timestep 1807327,  Ep.Timesteps 1600, Score: -173.80, Avg.Score: -176.33, Time: 05:37:17 \n"
     ]
    },
    {
     "name": "stderr",
     "output_type": "stream",
     "text": [
      " 64%|██████▍   | 1279/2000 [5:37:23<2:48:17, 14.00s/it]"
     ]
    },
    {
     "name": "stdout",
     "output_type": "stream",
     "text": [
      "Ep. 1280, Timestep 1808927,  Ep.Timesteps 1600, Score: -173.60, Avg.Score: -176.30, Time: 05:37:31 \n"
     ]
    },
    {
     "name": "stderr",
     "output_type": "stream",
     "text": [
      " 64%|██████▍   | 1280/2000 [5:37:38<2:49:30, 14.13s/it]"
     ]
    },
    {
     "name": "stdout",
     "output_type": "stream",
     "text": [
      "Ep. 1281, Timestep 1810527,  Ep.Timesteps 1600, Score: -173.31, Avg.Score: -176.27, Time: 05:37:45 \n"
     ]
    },
    {
     "name": "stderr",
     "output_type": "stream",
     "text": [
      " 64%|██████▍   | 1281/2000 [5:37:52<2:48:45, 14.08s/it]"
     ]
    },
    {
     "name": "stdout",
     "output_type": "stream",
     "text": [
      "Ep. 1282, Timestep 1812127,  Ep.Timesteps 1600, Score: -173.59, Avg.Score: -176.26, Time: 05:38:00 \n"
     ]
    },
    {
     "name": "stderr",
     "output_type": "stream",
     "text": [
      " 64%|██████▍   | 1282/2000 [5:38:06<2:48:28, 14.08s/it]"
     ]
    },
    {
     "name": "stdout",
     "output_type": "stream",
     "text": [
      "Ep. 1283, Timestep 1813727,  Ep.Timesteps 1600, Score: -176.65, Avg.Score: -176.24, Time: 05:38:13 \n"
     ]
    },
    {
     "name": "stderr",
     "output_type": "stream",
     "text": [
      " 64%|██████▍   | 1283/2000 [5:38:20<2:47:06, 13.98s/it]"
     ]
    },
    {
     "name": "stdout",
     "output_type": "stream",
     "text": [
      "Ep. 1284, Timestep 1815327,  Ep.Timesteps 1600, Score: -175.67, Avg.Score: -176.20, Time: 05:38:27 \n"
     ]
    },
    {
     "name": "stderr",
     "output_type": "stream",
     "text": [
      " 64%|██████▍   | 1284/2000 [5:38:33<2:45:04, 13.83s/it]"
     ]
    },
    {
     "name": "stdout",
     "output_type": "stream",
     "text": [
      "Ep. 1285, Timestep 1816927,  Ep.Timesteps 1600, Score: -175.93, Avg.Score: -176.13, Time: 05:38:41 \n"
     ]
    },
    {
     "name": "stderr",
     "output_type": "stream",
     "text": [
      " 64%|██████▍   | 1285/2000 [5:38:47<2:44:22, 13.79s/it]"
     ]
    },
    {
     "name": "stdout",
     "output_type": "stream",
     "text": [
      "Ep. 1286, Timestep 1818527,  Ep.Timesteps 1600, Score: -181.43, Avg.Score: -176.14, Time: 05:38:55 \n"
     ]
    },
    {
     "name": "stderr",
     "output_type": "stream",
     "text": [
      " 64%|██████▍   | 1286/2000 [5:39:01<2:47:25, 14.07s/it]"
     ]
    },
    {
     "name": "stdout",
     "output_type": "stream",
     "text": [
      "Ep. 1287, Timestep 1820127,  Ep.Timesteps 1600, Score: -173.83, Avg.Score: -176.07, Time: 05:39:08 \n"
     ]
    },
    {
     "name": "stderr",
     "output_type": "stream",
     "text": [
      " 64%|██████▍   | 1287/2000 [5:39:15<2:45:15, 13.91s/it]"
     ]
    },
    {
     "name": "stdout",
     "output_type": "stream",
     "text": [
      "Ep. 1288, Timestep 1821727,  Ep.Timesteps 1600, Score: -175.92, Avg.Score: -176.01, Time: 05:39:22 \n"
     ]
    },
    {
     "name": "stderr",
     "output_type": "stream",
     "text": [
      " 64%|██████▍   | 1288/2000 [5:39:28<2:42:57, 13.73s/it]"
     ]
    },
    {
     "name": "stdout",
     "output_type": "stream",
     "text": [
      "Ep. 1289, Timestep 1823327,  Ep.Timesteps 1600, Score: -181.24, Avg.Score: -176.06, Time: 05:39:36 \n"
     ]
    },
    {
     "name": "stderr",
     "output_type": "stream",
     "text": [
      " 64%|██████▍   | 1289/2000 [5:39:43<2:46:02, 14.01s/it]"
     ]
    },
    {
     "name": "stdout",
     "output_type": "stream",
     "text": [
      "Ep. 1290, Timestep 1824927,  Ep.Timesteps 1600, Score: -180.56, Avg.Score: -176.10, Time: 05:39:50 \n"
     ]
    },
    {
     "name": "stderr",
     "output_type": "stream",
     "text": [
      " 64%|██████▍   | 1290/2000 [5:39:57<2:44:31, 13.90s/it]"
     ]
    },
    {
     "name": "stdout",
     "output_type": "stream",
     "text": [
      "Ep. 1291, Timestep 1826527,  Ep.Timesteps 1600, Score: -174.71, Avg.Score: -176.02, Time: 05:40:04 \n"
     ]
    },
    {
     "name": "stderr",
     "output_type": "stream",
     "text": [
      " 65%|██████▍   | 1291/2000 [5:40:11<2:45:45, 14.03s/it]"
     ]
    },
    {
     "name": "stdout",
     "output_type": "stream",
     "text": [
      "Ep. 1292, Timestep 1828127,  Ep.Timesteps 1600, Score: -180.43, Avg.Score: -176.02, Time: 05:40:18 \n"
     ]
    },
    {
     "name": "stderr",
     "output_type": "stream",
     "text": [
      " 65%|██████▍   | 1292/2000 [5:40:25<2:44:41, 13.96s/it]"
     ]
    },
    {
     "name": "stdout",
     "output_type": "stream",
     "text": [
      "Ep. 1293, Timestep 1829727,  Ep.Timesteps 1600, Score: -175.95, Avg.Score: -176.05, Time: 05:40:32 \n"
     ]
    },
    {
     "name": "stderr",
     "output_type": "stream",
     "text": [
      " 65%|██████▍   | 1293/2000 [5:40:38<2:43:11, 13.85s/it]"
     ]
    },
    {
     "name": "stdout",
     "output_type": "stream",
     "text": [
      "Ep. 1294, Timestep 1831327,  Ep.Timesteps 1600, Score: -180.62, Avg.Score: -176.11, Time: 05:40:46 \n"
     ]
    },
    {
     "name": "stderr",
     "output_type": "stream",
     "text": [
      " 65%|██████▍   | 1294/2000 [5:40:52<2:42:45, 13.83s/it]"
     ]
    },
    {
     "name": "stdout",
     "output_type": "stream",
     "text": [
      "Ep. 1295, Timestep 1832927,  Ep.Timesteps 1600, Score: -183.46, Avg.Score: -176.21, Time: 05:41:00 \n"
     ]
    },
    {
     "name": "stderr",
     "output_type": "stream",
     "text": [
      " 65%|██████▍   | 1295/2000 [5:41:07<2:45:56, 14.12s/it]"
     ]
    },
    {
     "name": "stdout",
     "output_type": "stream",
     "text": [
      "Ep. 1296, Timestep 1834527,  Ep.Timesteps 1600, Score: -182.88, Avg.Score: -176.30, Time: 05:41:13 \n"
     ]
    },
    {
     "name": "stderr",
     "output_type": "stream",
     "text": [
      " 65%|██████▍   | 1296/2000 [5:41:20<2:43:04, 13.90s/it]"
     ]
    },
    {
     "name": "stdout",
     "output_type": "stream",
     "text": [
      "Ep. 1297, Timestep 1836127,  Ep.Timesteps 1600, Score: -179.84, Avg.Score: -176.36, Time: 05:41:28 \n"
     ]
    },
    {
     "name": "stderr",
     "output_type": "stream",
     "text": [
      " 65%|██████▍   | 1297/2000 [5:41:34<2:43:20, 13.94s/it]"
     ]
    },
    {
     "name": "stdout",
     "output_type": "stream",
     "text": [
      "Ep. 1298, Timestep 1837727,  Ep.Timesteps 1600, Score: -177.06, Avg.Score: -176.39, Time: 05:41:43 \n"
     ]
    },
    {
     "name": "stderr",
     "output_type": "stream",
     "text": [
      " 65%|██████▍   | 1298/2000 [5:41:48<2:43:47, 14.00s/it]"
     ]
    },
    {
     "name": "stdout",
     "output_type": "stream",
     "text": [
      "Ep. 1299, Timestep 1839327,  Ep.Timesteps 1600, Score: -175.24, Avg.Score: -176.41, Time: 05:41:56 \n"
     ]
    },
    {
     "name": "stderr",
     "output_type": "stream",
     "text": [
      " 65%|██████▍   | 1299/2000 [5:42:03<2:44:37, 14.09s/it]"
     ]
    },
    {
     "name": "stdout",
     "output_type": "stream",
     "text": [
      "Ep. 1300, Timestep 1840927,  Ep.Timesteps 1600, Score: -180.49, Avg.Score: -176.47, Time: 05:42:10 \n"
     ]
    },
    {
     "name": "stderr",
     "output_type": "stream",
     "text": [
      " 65%|██████▌   | 1300/2000 [5:42:16<2:43:10, 13.99s/it]"
     ]
    },
    {
     "name": "stdout",
     "output_type": "stream",
     "text": [
      "Ep. 1301, Timestep 1842527,  Ep.Timesteps 1600, Score: -174.30, Avg.Score: -176.48, Time: 05:42:24 \n"
     ]
    },
    {
     "name": "stderr",
     "output_type": "stream",
     "text": [
      " 65%|██████▌   | 1301/2000 [5:42:30<2:41:23, 13.85s/it]"
     ]
    },
    {
     "name": "stdout",
     "output_type": "stream",
     "text": [
      "Ep. 1302, Timestep 1844127,  Ep.Timesteps 1600, Score: -178.98, Avg.Score: -176.53, Time: 05:42:38 \n"
     ]
    },
    {
     "name": "stderr",
     "output_type": "stream",
     "text": [
      " 65%|██████▌   | 1302/2000 [5:42:44<2:42:58, 14.01s/it]"
     ]
    },
    {
     "name": "stdout",
     "output_type": "stream",
     "text": [
      "Ep. 1303, Timestep 1845727,  Ep.Timesteps 1600, Score: -180.49, Avg.Score: -176.52, Time: 05:42:52 \n"
     ]
    },
    {
     "name": "stderr",
     "output_type": "stream",
     "text": [
      " 65%|██████▌   | 1303/2000 [5:42:58<2:41:23, 13.89s/it]"
     ]
    },
    {
     "name": "stdout",
     "output_type": "stream",
     "text": [
      "Ep. 1304, Timestep 1847327,  Ep.Timesteps 1600, Score: -181.00, Avg.Score: -176.57, Time: 05:43:06 \n"
     ]
    },
    {
     "name": "stderr",
     "output_type": "stream",
     "text": [
      " 65%|██████▌   | 1304/2000 [5:43:12<2:42:48, 14.04s/it]"
     ]
    },
    {
     "name": "stdout",
     "output_type": "stream",
     "text": [
      "Ep. 1305, Timestep 1848927,  Ep.Timesteps 1600, Score: -176.53, Avg.Score: -176.52, Time: 05:43:19 \n"
     ]
    },
    {
     "name": "stderr",
     "output_type": "stream",
     "text": [
      " 65%|██████▌   | 1305/2000 [5:43:26<2:42:03, 13.99s/it]"
     ]
    },
    {
     "name": "stdout",
     "output_type": "stream",
     "text": [
      "Ep. 1306, Timestep 1850527,  Ep.Timesteps 1600, Score: -182.53, Avg.Score: -176.54, Time: 05:43:34 \n"
     ]
    },
    {
     "name": "stderr",
     "output_type": "stream",
     "text": [
      " 65%|██████▌   | 1306/2000 [5:43:40<2:41:09, 13.93s/it]"
     ]
    },
    {
     "name": "stdout",
     "output_type": "stream",
     "text": [
      "Ep. 1307, Timestep 1852127,  Ep.Timesteps 1600, Score: -179.35, Avg.Score: -176.59, Time: 05:43:48 \n"
     ]
    },
    {
     "name": "stderr",
     "output_type": "stream",
     "text": [
      " 65%|██████▌   | 1307/2000 [5:43:54<2:42:14, 14.05s/it]"
     ]
    },
    {
     "name": "stdout",
     "output_type": "stream",
     "text": [
      "Ep. 1308, Timestep 1853727,  Ep.Timesteps 1600, Score: -176.01, Avg.Score: -176.61, Time: 05:44:03 \n"
     ]
    },
    {
     "name": "stderr",
     "output_type": "stream",
     "text": [
      " 65%|██████▌   | 1308/2000 [5:44:09<2:43:32, 14.18s/it]"
     ]
    },
    {
     "name": "stdout",
     "output_type": "stream",
     "text": [
      "Ep. 1309, Timestep 1855327,  Ep.Timesteps 1600, Score: -176.30, Avg.Score: -176.62, Time: 05:44:16 \n"
     ]
    },
    {
     "name": "stderr",
     "output_type": "stream",
     "text": [
      " 65%|██████▌   | 1309/2000 [5:44:23<2:43:35, 14.21s/it]"
     ]
    },
    {
     "name": "stdout",
     "output_type": "stream",
     "text": [
      "Ep. 1310, Timestep 1856927,  Ep.Timesteps 1600, Score: -181.12, Avg.Score: -176.62, Time: 05:44:30 \n"
     ]
    },
    {
     "name": "stderr",
     "output_type": "stream",
     "text": [
      " 66%|██████▌   | 1310/2000 [5:44:37<2:40:25, 13.95s/it]"
     ]
    },
    {
     "name": "stdout",
     "output_type": "stream",
     "text": [
      "Ep. 1311, Timestep 1858527,  Ep.Timesteps 1600, Score: -173.86, Avg.Score: -176.60, Time: 05:44:44 \n"
     ]
    },
    {
     "name": "stderr",
     "output_type": "stream",
     "text": [
      " 66%|██████▌   | 1311/2000 [5:44:51<2:40:25, 13.97s/it]"
     ]
    },
    {
     "name": "stdout",
     "output_type": "stream",
     "text": [
      "Ep. 1312, Timestep 1860127,  Ep.Timesteps 1600, Score: -177.05, Avg.Score: -176.55, Time: 05:44:58 \n"
     ]
    },
    {
     "name": "stderr",
     "output_type": "stream",
     "text": [
      " 66%|██████▌   | 1312/2000 [5:45:05<2:40:51, 14.03s/it]"
     ]
    },
    {
     "name": "stdout",
     "output_type": "stream",
     "text": [
      "Ep. 1313, Timestep 1861727,  Ep.Timesteps 1600, Score: -180.64, Avg.Score: -176.60, Time: 05:45:13 \n"
     ]
    },
    {
     "name": "stderr",
     "output_type": "stream",
     "text": [
      " 66%|██████▌   | 1313/2000 [5:45:19<2:40:19, 14.00s/it]"
     ]
    },
    {
     "name": "stdout",
     "output_type": "stream",
     "text": [
      "Ep. 1314, Timestep 1863327,  Ep.Timesteps 1600, Score: -180.95, Avg.Score: -176.61, Time: 05:45:26 \n"
     ]
    },
    {
     "name": "stderr",
     "output_type": "stream",
     "text": [
      " 66%|██████▌   | 1314/2000 [5:45:33<2:39:53, 13.99s/it]"
     ]
    },
    {
     "name": "stdout",
     "output_type": "stream",
     "text": [
      "Ep. 1315, Timestep 1864927,  Ep.Timesteps 1600, Score: -175.09, Avg.Score: -176.54, Time: 05:45:39 \n"
     ]
    },
    {
     "name": "stderr",
     "output_type": "stream",
     "text": [
      " 66%|██████▌   | 1315/2000 [5:45:46<2:38:09, 13.85s/it]"
     ]
    },
    {
     "name": "stdout",
     "output_type": "stream",
     "text": [
      "Ep. 1316, Timestep 1866527,  Ep.Timesteps 1600, Score: -173.89, Avg.Score: -176.52, Time: 05:45:54 \n"
     ]
    },
    {
     "name": "stderr",
     "output_type": "stream",
     "text": [
      " 66%|██████▌   | 1316/2000 [5:46:01<2:41:09, 14.14s/it]"
     ]
    },
    {
     "name": "stdout",
     "output_type": "stream",
     "text": [
      "Ep. 1317, Timestep 1868127,  Ep.Timesteps 1600, Score: -173.96, Avg.Score: -176.50, Time: 05:46:09 \n"
     ]
    },
    {
     "name": "stderr",
     "output_type": "stream",
     "text": [
      " 66%|██████▌   | 1317/2000 [5:46:16<2:45:10, 14.51s/it]"
     ]
    },
    {
     "name": "stdout",
     "output_type": "stream",
     "text": [
      "Ep. 1318, Timestep 1869727,  Ep.Timesteps 1600, Score: -181.36, Avg.Score: -176.50, Time: 05:46:24 \n"
     ]
    },
    {
     "name": "stderr",
     "output_type": "stream",
     "text": [
      " 66%|██████▌   | 1318/2000 [5:46:30<2:42:57, 14.34s/it]"
     ]
    },
    {
     "name": "stdout",
     "output_type": "stream",
     "text": [
      "Ep. 1319, Timestep 1871327,  Ep.Timesteps 1600, Score: -173.50, Avg.Score: -177.05, Time: 05:46:37 \n"
     ]
    },
    {
     "name": "stderr",
     "output_type": "stream",
     "text": [
      " 66%|██████▌   | 1319/2000 [5:46:43<2:37:23, 13.87s/it]"
     ]
    },
    {
     "name": "stdout",
     "output_type": "stream",
     "text": [
      "Ep. 1320, Timestep 1872927,  Ep.Timesteps 1600, Score: -173.79, Avg.Score: -177.03, Time: 05:46:50 \n"
     ]
    },
    {
     "name": "stderr",
     "output_type": "stream",
     "text": [
      " 66%|██████▌   | 1320/2000 [5:46:56<2:33:52, 13.58s/it]"
     ]
    },
    {
     "name": "stdout",
     "output_type": "stream",
     "text": [
      "Ep. 1321, Timestep 1874527,  Ep.Timesteps 1600, Score: -173.31, Avg.Score: -177.01, Time: 05:47:03 \n"
     ]
    },
    {
     "name": "stderr",
     "output_type": "stream",
     "text": [
      " 66%|██████▌   | 1321/2000 [5:47:09<2:31:38, 13.40s/it]"
     ]
    },
    {
     "name": "stdout",
     "output_type": "stream",
     "text": [
      "Ep. 1322, Timestep 1876127,  Ep.Timesteps 1600, Score: -174.29, Avg.Score: -176.96, Time: 05:47:17 \n"
     ]
    },
    {
     "name": "stderr",
     "output_type": "stream",
     "text": [
      " 66%|██████▌   | 1322/2000 [5:47:23<2:33:26, 13.58s/it]"
     ]
    },
    {
     "name": "stdout",
     "output_type": "stream",
     "text": [
      "Ep. 1323, Timestep 1877727,  Ep.Timesteps 1600, Score: -175.32, Avg.Score: -176.95, Time: 05:47:30 \n"
     ]
    },
    {
     "name": "stderr",
     "output_type": "stream",
     "text": [
      " 66%|██████▌   | 1323/2000 [5:47:37<2:35:22, 13.77s/it]"
     ]
    },
    {
     "name": "stdout",
     "output_type": "stream",
     "text": [
      "Ep. 1324, Timestep 1879327,  Ep.Timesteps 1600, Score: -179.79, Avg.Score: -176.99, Time: 05:47:44 \n"
     ]
    },
    {
     "name": "stderr",
     "output_type": "stream",
     "text": [
      " 66%|██████▌   | 1324/2000 [5:47:51<2:35:26, 13.80s/it]"
     ]
    },
    {
     "name": "stdout",
     "output_type": "stream",
     "text": [
      "Ep. 1325, Timestep 1880927,  Ep.Timesteps 1600, Score: -181.53, Avg.Score: -177.00, Time: 05:47:59 \n"
     ]
    },
    {
     "name": "stderr",
     "output_type": "stream",
     "text": [
      " 66%|██████▋   | 1325/2000 [5:48:05<2:36:19, 13.90s/it]"
     ]
    },
    {
     "name": "stdout",
     "output_type": "stream",
     "text": [
      "Ep. 1326, Timestep 1882527,  Ep.Timesteps 1600, Score: -180.56, Avg.Score: -176.99, Time: 05:48:13 \n"
     ]
    },
    {
     "name": "stderr",
     "output_type": "stream",
     "text": [
      " 66%|██████▋   | 1326/2000 [5:48:19<2:36:44, 13.95s/it]"
     ]
    },
    {
     "name": "stdout",
     "output_type": "stream",
     "text": [
      "Ep. 1327, Timestep 1884127,  Ep.Timesteps 1600, Score: -182.46, Avg.Score: -177.01, Time: 05:48:27 \n"
     ]
    },
    {
     "name": "stderr",
     "output_type": "stream",
     "text": [
      " 66%|██████▋   | 1327/2000 [5:48:34<2:40:10, 14.28s/it]"
     ]
    },
    {
     "name": "stdout",
     "output_type": "stream",
     "text": [
      "Ep. 1328, Timestep 1885727,  Ep.Timesteps 1600, Score: -181.68, Avg.Score: -177.07, Time: 05:48:41 \n"
     ]
    },
    {
     "name": "stderr",
     "output_type": "stream",
     "text": [
      " 66%|██████▋   | 1328/2000 [5:48:48<2:38:32, 14.16s/it]"
     ]
    },
    {
     "name": "stdout",
     "output_type": "stream",
     "text": [
      "Ep. 1329, Timestep 1887327,  Ep.Timesteps 1600, Score: -182.15, Avg.Score: -177.12, Time: 05:48:55 \n"
     ]
    },
    {
     "name": "stderr",
     "output_type": "stream",
     "text": [
      " 66%|██████▋   | 1329/2000 [5:49:02<2:37:00, 14.04s/it]"
     ]
    },
    {
     "name": "stdout",
     "output_type": "stream",
     "text": [
      "Ep. 1330, Timestep 1888927,  Ep.Timesteps 1600, Score: -176.89, Avg.Score: -177.14, Time: 05:49:10 \n"
     ]
    },
    {
     "name": "stderr",
     "output_type": "stream",
     "text": [
      " 66%|██████▋   | 1330/2000 [5:49:16<2:37:10, 14.08s/it]"
     ]
    },
    {
     "name": "stdout",
     "output_type": "stream",
     "text": [
      "Ep. 1331, Timestep 1890527,  Ep.Timesteps 1600, Score: -180.95, Avg.Score: -177.14, Time: 05:49:24 \n"
     ]
    },
    {
     "name": "stderr",
     "output_type": "stream",
     "text": [
      " 67%|██████▋   | 1331/2000 [5:49:30<2:37:30, 14.13s/it]"
     ]
    },
    {
     "name": "stdout",
     "output_type": "stream",
     "text": [
      "Ep. 1332, Timestep 1892127,  Ep.Timesteps 1600, Score: -182.09, Avg.Score: -177.16, Time: 05:49:38 \n"
     ]
    },
    {
     "name": "stderr",
     "output_type": "stream",
     "text": [
      " 67%|██████▋   | 1332/2000 [5:49:44<2:36:31, 14.06s/it]"
     ]
    },
    {
     "name": "stdout",
     "output_type": "stream",
     "text": [
      "Ep. 1333, Timestep 1893727,  Ep.Timesteps 1600, Score: -177.73, Avg.Score: -177.18, Time: 05:49:51 \n"
     ]
    },
    {
     "name": "stderr",
     "output_type": "stream",
     "text": [
      " 67%|██████▋   | 1333/2000 [5:49:58<2:34:25, 13.89s/it]"
     ]
    },
    {
     "name": "stdout",
     "output_type": "stream",
     "text": [
      "Ep. 1334, Timestep 1895327,  Ep.Timesteps 1600, Score: -180.30, Avg.Score: -177.25, Time: 05:50:06 \n"
     ]
    },
    {
     "name": "stderr",
     "output_type": "stream",
     "text": [
      " 67%|██████▋   | 1334/2000 [5:50:12<2:35:01, 13.97s/it]"
     ]
    },
    {
     "name": "stdout",
     "output_type": "stream",
     "text": [
      "Ep. 1335, Timestep 1896927,  Ep.Timesteps 1600, Score: -176.26, Avg.Score: -177.27, Time: 05:50:19 \n"
     ]
    },
    {
     "name": "stderr",
     "output_type": "stream",
     "text": [
      " 67%|██████▋   | 1335/2000 [5:50:26<2:33:58, 13.89s/it]"
     ]
    },
    {
     "name": "stdout",
     "output_type": "stream",
     "text": [
      "Ep. 1336, Timestep 1898527,  Ep.Timesteps 1600, Score: -176.48, Avg.Score: -177.30, Time: 05:50:34 \n"
     ]
    },
    {
     "name": "stderr",
     "output_type": "stream",
     "text": [
      " 67%|██████▋   | 1336/2000 [5:50:40<2:35:16, 14.03s/it]"
     ]
    },
    {
     "name": "stdout",
     "output_type": "stream",
     "text": [
      "Ep. 1337, Timestep 1900127,  Ep.Timesteps 1600, Score: -180.53, Avg.Score: -177.36, Time: 05:50:48 \n"
     ]
    },
    {
     "name": "stderr",
     "output_type": "stream",
     "text": [
      " 67%|██████▋   | 1337/2000 [5:50:54<2:36:11, 14.13s/it]"
     ]
    },
    {
     "name": "stdout",
     "output_type": "stream",
     "text": [
      "Ep. 1338, Timestep 1901727,  Ep.Timesteps 1600, Score: -181.06, Avg.Score: -177.44, Time: 05:51:01 \n"
     ]
    },
    {
     "name": "stderr",
     "output_type": "stream",
     "text": [
      " 67%|██████▋   | 1338/2000 [5:51:08<2:33:33, 13.92s/it]"
     ]
    },
    {
     "name": "stdout",
     "output_type": "stream",
     "text": [
      "Ep. 1339, Timestep 1903327,  Ep.Timesteps 1600, Score: -180.04, Avg.Score: -177.50, Time: 05:51:16 \n"
     ]
    },
    {
     "name": "stderr",
     "output_type": "stream",
     "text": [
      " 67%|██████▋   | 1339/2000 [5:51:22<2:33:59, 13.98s/it]"
     ]
    },
    {
     "name": "stdout",
     "output_type": "stream",
     "text": [
      "Ep. 1340, Timestep 1904927,  Ep.Timesteps 1600, Score: -175.35, Avg.Score: -177.51, Time: 05:51:30 \n"
     ]
    },
    {
     "name": "stderr",
     "output_type": "stream",
     "text": [
      " 67%|██████▋   | 1340/2000 [5:51:36<2:35:05, 14.10s/it]"
     ]
    },
    {
     "name": "stdout",
     "output_type": "stream",
     "text": [
      "Ep. 1341, Timestep 1906527,  Ep.Timesteps 1600, Score: -182.38, Avg.Score: -177.60, Time: 05:51:43 \n"
     ]
    },
    {
     "name": "stderr",
     "output_type": "stream",
     "text": [
      " 67%|██████▋   | 1341/2000 [5:51:50<2:34:27, 14.06s/it]"
     ]
    },
    {
     "name": "stdout",
     "output_type": "stream",
     "text": [
      "Ep. 1342, Timestep 1906607,  Ep.Timesteps 80, Score: -113.15, Avg.Score: -176.99, Time: 05:51:53 \n"
     ]
    },
    {
     "name": "stderr",
     "output_type": "stream",
     "text": [
      " 67%|██████▋   | 1342/2000 [5:51:51<1:50:17, 10.06s/it]"
     ]
    },
    {
     "name": "stdout",
     "output_type": "stream",
     "text": [
      "Ep. 1343, Timestep 1908207,  Ep.Timesteps 1600, Score: -179.90, Avg.Score: -176.99, Time: 05:51:58 \n"
     ]
    },
    {
     "name": "stderr",
     "output_type": "stream",
     "text": [
      " 67%|██████▋   | 1343/2000 [5:52:04<2:01:55, 11.13s/it]"
     ]
    },
    {
     "name": "stdout",
     "output_type": "stream",
     "text": [
      "Ep. 1344, Timestep 1909807,  Ep.Timesteps 1600, Score: -179.93, Avg.Score: -177.03, Time: 05:52:12 \n"
     ]
    },
    {
     "name": "stderr",
     "output_type": "stream",
     "text": [
      " 67%|██████▋   | 1344/2000 [5:52:18<2:11:05, 11.99s/it]"
     ]
    },
    {
     "name": "stdout",
     "output_type": "stream",
     "text": [
      "Ep. 1345, Timestep 1911407,  Ep.Timesteps 1600, Score: -180.82, Avg.Score: -177.08, Time: 05:52:26 \n"
     ]
    },
    {
     "name": "stderr",
     "output_type": "stream",
     "text": [
      " 67%|██████▋   | 1345/2000 [5:52:32<2:16:07, 12.47s/it]"
     ]
    },
    {
     "name": "stdout",
     "output_type": "stream",
     "text": [
      "Ep. 1346, Timestep 1913007,  Ep.Timesteps 1600, Score: -182.45, Avg.Score: -177.14, Time: 05:52:40 \n"
     ]
    },
    {
     "name": "stderr",
     "output_type": "stream",
     "text": [
      " 67%|██████▋   | 1346/2000 [5:52:46<2:21:29, 12.98s/it]"
     ]
    },
    {
     "name": "stdout",
     "output_type": "stream",
     "text": [
      "Ep. 1347, Timestep 1914607,  Ep.Timesteps 1600, Score: -180.79, Avg.Score: -177.20, Time: 05:52:54 \n"
     ]
    },
    {
     "name": "stderr",
     "output_type": "stream",
     "text": [
      " 67%|██████▋   | 1347/2000 [5:53:00<2:24:58, 13.32s/it]"
     ]
    },
    {
     "name": "stdout",
     "output_type": "stream",
     "text": [
      "Ep. 1348, Timestep 1916207,  Ep.Timesteps 1600, Score: -175.46, Avg.Score: -177.15, Time: 05:53:08 \n"
     ]
    },
    {
     "name": "stderr",
     "output_type": "stream",
     "text": [
      " 67%|██████▋   | 1348/2000 [5:53:14<2:26:43, 13.50s/it]"
     ]
    },
    {
     "name": "stdout",
     "output_type": "stream",
     "text": [
      "Ep. 1349, Timestep 1917807,  Ep.Timesteps 1600, Score: -180.28, Avg.Score: -177.20, Time: 05:53:21 \n"
     ]
    },
    {
     "name": "stderr",
     "output_type": "stream",
     "text": [
      " 67%|██████▋   | 1349/2000 [5:53:28<2:26:18, 13.49s/it]"
     ]
    },
    {
     "name": "stdout",
     "output_type": "stream",
     "text": [
      "Ep. 1350, Timestep 1919407,  Ep.Timesteps 1600, Score: -176.56, Avg.Score: -177.16, Time: 05:53:36 \n"
     ]
    },
    {
     "name": "stderr",
     "output_type": "stream",
     "text": [
      " 68%|██████▊   | 1350/2000 [5:53:42<2:28:20, 13.69s/it]"
     ]
    },
    {
     "name": "stdout",
     "output_type": "stream",
     "text": [
      "Ep. 1351, Timestep 1921007,  Ep.Timesteps 1600, Score: -180.54, Avg.Score: -177.17, Time: 05:53:50 \n"
     ]
    },
    {
     "name": "stderr",
     "output_type": "stream",
     "text": [
      " 68%|██████▊   | 1351/2000 [5:53:56<2:30:47, 13.94s/it]"
     ]
    },
    {
     "name": "stdout",
     "output_type": "stream",
     "text": [
      "Ep. 1352, Timestep 1922607,  Ep.Timesteps 1600, Score: -182.71, Avg.Score: -177.16, Time: 05:54:03 \n"
     ]
    },
    {
     "name": "stderr",
     "output_type": "stream",
     "text": [
      " 68%|██████▊   | 1352/2000 [5:54:10<2:30:23, 13.92s/it]"
     ]
    },
    {
     "name": "stdout",
     "output_type": "stream",
     "text": [
      "Ep. 1353, Timestep 1924207,  Ep.Timesteps 1600, Score: -181.83, Avg.Score: -177.16, Time: 05:54:18 \n"
     ]
    },
    {
     "name": "stderr",
     "output_type": "stream",
     "text": [
      " 68%|██████▊   | 1353/2000 [5:54:24<2:29:38, 13.88s/it]"
     ]
    },
    {
     "name": "stdout",
     "output_type": "stream",
     "text": [
      "Ep. 1354, Timestep 1925807,  Ep.Timesteps 1600, Score: -176.56, Avg.Score: -177.17, Time: 05:54:32 \n"
     ]
    },
    {
     "name": "stderr",
     "output_type": "stream",
     "text": [
      " 68%|██████▊   | 1354/2000 [5:54:38<2:30:22, 13.97s/it]"
     ]
    },
    {
     "name": "stdout",
     "output_type": "stream",
     "text": [
      "Ep. 1355, Timestep 1927407,  Ep.Timesteps 1600, Score: -177.57, Avg.Score: -177.14, Time: 05:54:46 \n"
     ]
    },
    {
     "name": "stderr",
     "output_type": "stream",
     "text": [
      " 68%|██████▊   | 1355/2000 [5:54:53<2:31:56, 14.13s/it]"
     ]
    },
    {
     "name": "stdout",
     "output_type": "stream",
     "text": [
      "Ep. 1356, Timestep 1929007,  Ep.Timesteps 1600, Score: -175.64, Avg.Score: -177.09, Time: 05:55:00 \n"
     ]
    },
    {
     "name": "stderr",
     "output_type": "stream",
     "text": [
      " 68%|██████▊   | 1356/2000 [5:55:06<2:29:06, 13.89s/it]"
     ]
    },
    {
     "name": "stdout",
     "output_type": "stream",
     "text": [
      "Ep. 1357, Timestep 1930607,  Ep.Timesteps 1600, Score: -173.63, Avg.Score: -177.01, Time: 05:55:13 \n"
     ]
    },
    {
     "name": "stderr",
     "output_type": "stream",
     "text": [
      " 68%|██████▊   | 1357/2000 [5:55:19<2:27:10, 13.73s/it]"
     ]
    },
    {
     "name": "stdout",
     "output_type": "stream",
     "text": [
      "Ep. 1358, Timestep 1932207,  Ep.Timesteps 1600, Score: -173.80, Avg.Score: -176.95, Time: 05:55:28 \n"
     ]
    },
    {
     "name": "stderr",
     "output_type": "stream",
     "text": [
      " 68%|██████▊   | 1358/2000 [5:55:34<2:28:23, 13.87s/it]"
     ]
    },
    {
     "name": "stdout",
     "output_type": "stream",
     "text": [
      "Ep. 1359, Timestep 1933807,  Ep.Timesteps 1600, Score: -173.60, Avg.Score: -176.85, Time: 05:55:41 \n"
     ]
    },
    {
     "name": "stderr",
     "output_type": "stream",
     "text": [
      " 68%|██████▊   | 1359/2000 [5:55:47<2:27:20, 13.79s/it]"
     ]
    },
    {
     "name": "stdout",
     "output_type": "stream",
     "text": [
      "Ep. 1360, Timestep 1935407,  Ep.Timesteps 1600, Score: -173.66, Avg.Score: -176.78, Time: 05:55:55 \n"
     ]
    },
    {
     "name": "stderr",
     "output_type": "stream",
     "text": [
      " 68%|██████▊   | 1360/2000 [5:56:02<2:29:01, 13.97s/it]"
     ]
    },
    {
     "name": "stdout",
     "output_type": "stream",
     "text": [
      "Ep. 1361, Timestep 1937007,  Ep.Timesteps 1600, Score: -173.65, Avg.Score: -176.71, Time: 05:56:09 \n"
     ]
    },
    {
     "name": "stderr",
     "output_type": "stream",
     "text": [
      " 68%|██████▊   | 1361/2000 [5:56:15<2:28:11, 13.91s/it]"
     ]
    },
    {
     "name": "stdout",
     "output_type": "stream",
     "text": [
      "Ep. 1362, Timestep 1938607,  Ep.Timesteps 1600, Score: -173.57, Avg.Score: -177.22, Time: 05:56:23 \n"
     ]
    },
    {
     "name": "stderr",
     "output_type": "stream",
     "text": [
      " 68%|██████▊   | 1362/2000 [5:56:29<2:27:03, 13.83s/it]"
     ]
    },
    {
     "name": "stdout",
     "output_type": "stream",
     "text": [
      "Ep. 1363, Timestep 1940207,  Ep.Timesteps 1600, Score: -180.58, Avg.Score: -177.28, Time: 05:56:37 \n"
     ]
    },
    {
     "name": "stderr",
     "output_type": "stream",
     "text": [
      " 68%|██████▊   | 1363/2000 [5:56:43<2:27:24, 13.88s/it]"
     ]
    },
    {
     "name": "stdout",
     "output_type": "stream",
     "text": [
      "Ep. 1364, Timestep 1941807,  Ep.Timesteps 1600, Score: -180.54, Avg.Score: -177.28, Time: 05:56:51 \n"
     ]
    },
    {
     "name": "stderr",
     "output_type": "stream",
     "text": [
      " 68%|██████▊   | 1364/2000 [5:56:58<2:29:27, 14.10s/it]"
     ]
    },
    {
     "name": "stdout",
     "output_type": "stream",
     "text": [
      "Ep. 1365, Timestep 1943407,  Ep.Timesteps 1600, Score: -180.59, Avg.Score: -177.27, Time: 05:57:04 \n"
     ]
    },
    {
     "name": "stderr",
     "output_type": "stream",
     "text": [
      " 68%|██████▊   | 1365/2000 [5:57:11<2:27:21, 13.92s/it]"
     ]
    },
    {
     "name": "stdout",
     "output_type": "stream",
     "text": [
      "Ep. 1366, Timestep 1945007,  Ep.Timesteps 1600, Score: -175.94, Avg.Score: -177.27, Time: 05:57:19 \n"
     ]
    },
    {
     "name": "stderr",
     "output_type": "stream",
     "text": [
      " 68%|██████▊   | 1366/2000 [5:57:25<2:26:45, 13.89s/it]"
     ]
    },
    {
     "name": "stdout",
     "output_type": "stream",
     "text": [
      "Ep. 1367, Timestep 1946607,  Ep.Timesteps 1600, Score: -182.51, Avg.Score: -177.34, Time: 05:57:33 \n"
     ]
    },
    {
     "name": "stderr",
     "output_type": "stream",
     "text": [
      " 68%|██████▊   | 1367/2000 [5:57:39<2:28:02, 14.03s/it]"
     ]
    },
    {
     "name": "stdout",
     "output_type": "stream",
     "text": [
      "Ep. 1368, Timestep 1948207,  Ep.Timesteps 1600, Score: -177.04, Avg.Score: -177.35, Time: 05:57:47 \n"
     ]
    },
    {
     "name": "stderr",
     "output_type": "stream",
     "text": [
      " 68%|██████▊   | 1368/2000 [5:57:53<2:26:32, 13.91s/it]"
     ]
    },
    {
     "name": "stdout",
     "output_type": "stream",
     "text": [
      "Ep. 1369, Timestep 1949807,  Ep.Timesteps 1600, Score: -175.44, Avg.Score: -177.35, Time: 05:58:01 \n"
     ]
    },
    {
     "name": "stderr",
     "output_type": "stream",
     "text": [
      " 68%|██████▊   | 1369/2000 [5:58:07<2:27:07, 13.99s/it]"
     ]
    },
    {
     "name": "stdout",
     "output_type": "stream",
     "text": [
      "Ep. 1370, Timestep 1951407,  Ep.Timesteps 1600, Score: -176.09, Avg.Score: -177.31, Time: 05:58:14 \n"
     ]
    },
    {
     "name": "stderr",
     "output_type": "stream",
     "text": [
      " 68%|██████▊   | 1370/2000 [5:58:21<2:25:35, 13.87s/it]"
     ]
    },
    {
     "name": "stdout",
     "output_type": "stream",
     "text": [
      "Ep. 1371, Timestep 1951586,  Ep.Timesteps 179, Score: -121.52, Avg.Score: -176.72, Time: 05:58:24 \n"
     ]
    },
    {
     "name": "stderr",
     "output_type": "stream",
     "text": [
      " 69%|██████▊   | 1371/2000 [5:58:22<1:46:41, 10.18s/it]"
     ]
    },
    {
     "name": "stdout",
     "output_type": "stream",
     "text": [
      "Ep. 1372, Timestep 1951690,  Ep.Timesteps 104, Score: -114.43, Avg.Score: -176.05, Time: 05:58:26 \n"
     ]
    },
    {
     "name": "stderr",
     "output_type": "stream",
     "text": [
      " 69%|██████▊   | 1372/2000 [5:58:23<1:17:44,  7.43s/it]"
     ]
    },
    {
     "name": "stdout",
     "output_type": "stream",
     "text": [
      "Ep. 1373, Timestep 1953290,  Ep.Timesteps 1600, Score: -181.16, Avg.Score: -176.07, Time: 05:58:31 \n"
     ]
    },
    {
     "name": "stderr",
     "output_type": "stream",
     "text": [
      " 69%|██████▊   | 1373/2000 [5:58:37<1:38:29,  9.42s/it]"
     ]
    },
    {
     "name": "stdout",
     "output_type": "stream",
     "text": [
      "Ep. 1374, Timestep 1954890,  Ep.Timesteps 1600, Score: -181.95, Avg.Score: -176.07, Time: 05:58:45 \n"
     ]
    },
    {
     "name": "stderr",
     "output_type": "stream",
     "text": [
      " 69%|██████▊   | 1374/2000 [5:58:51<1:51:50, 10.72s/it]"
     ]
    },
    {
     "name": "stdout",
     "output_type": "stream",
     "text": [
      "Ep. 1375, Timestep 1956490,  Ep.Timesteps 1600, Score: -176.42, Avg.Score: -176.09, Time: 05:58:59 \n"
     ]
    },
    {
     "name": "stderr",
     "output_type": "stream",
     "text": [
      " 69%|██████▉   | 1375/2000 [5:59:05<2:01:27, 11.66s/it]"
     ]
    },
    {
     "name": "stdout",
     "output_type": "stream",
     "text": [
      "Ep. 1376, Timestep 1958090,  Ep.Timesteps 1600, Score: -180.45, Avg.Score: -176.17, Time: 05:59:13 \n"
     ]
    },
    {
     "name": "stderr",
     "output_type": "stream",
     "text": [
      " 69%|██████▉   | 1376/2000 [5:59:19<2:09:40, 12.47s/it]"
     ]
    },
    {
     "name": "stdout",
     "output_type": "stream",
     "text": [
      "Ep. 1377, Timestep 1959690,  Ep.Timesteps 1600, Score: -181.15, Avg.Score: -176.24, Time: 05:59:26 \n"
     ]
    },
    {
     "name": "stderr",
     "output_type": "stream",
     "text": [
      " 69%|██████▉   | 1377/2000 [5:59:33<2:13:42, 12.88s/it]"
     ]
    },
    {
     "name": "stdout",
     "output_type": "stream",
     "text": [
      "Ep. 1378, Timestep 1961290,  Ep.Timesteps 1600, Score: -175.61, Avg.Score: -176.26, Time: 05:59:41 \n"
     ]
    },
    {
     "name": "stderr",
     "output_type": "stream",
     "text": [
      " 69%|██████▉   | 1378/2000 [5:59:47<2:15:57, 13.11s/it]"
     ]
    },
    {
     "name": "stdout",
     "output_type": "stream",
     "text": [
      "Ep. 1379, Timestep 1962890,  Ep.Timesteps 1600, Score: -181.78, Avg.Score: -176.34, Time: 05:59:55 \n"
     ]
    },
    {
     "name": "stderr",
     "output_type": "stream",
     "text": [
      " 69%|██████▉   | 1379/2000 [6:00:01<2:19:36, 13.49s/it]"
     ]
    },
    {
     "name": "stdout",
     "output_type": "stream",
     "text": [
      "Ep. 1380, Timestep 1964490,  Ep.Timesteps 1600, Score: -175.68, Avg.Score: -176.36, Time: 06:00:09 \n"
     ]
    },
    {
     "name": "stderr",
     "output_type": "stream",
     "text": [
      " 69%|██████▉   | 1380/2000 [6:00:16<2:22:30, 13.79s/it]"
     ]
    },
    {
     "name": "stdout",
     "output_type": "stream",
     "text": [
      "Ep. 1381, Timestep 1964793,  Ep.Timesteps 303, Score: -134.87, Avg.Score: -175.97, Time: 06:00:19 \n"
     ]
    },
    {
     "name": "stderr",
     "output_type": "stream",
     "text": [
      " 69%|██████▉   | 1381/2000 [6:00:18<1:46:43, 10.34s/it]"
     ]
    },
    {
     "name": "stdout",
     "output_type": "stream",
     "text": [
      "Ep. 1382, Timestep 1966393,  Ep.Timesteps 1600, Score: -175.73, Avg.Score: -175.99, Time: 06:00:26 \n"
     ]
    },
    {
     "name": "stderr",
     "output_type": "stream",
     "text": [
      " 69%|██████▉   | 1382/2000 [6:00:33<1:59:38, 11.62s/it]"
     ]
    },
    {
     "name": "stdout",
     "output_type": "stream",
     "text": [
      "Ep. 1383, Timestep 1967993,  Ep.Timesteps 1600, Score: -180.88, Avg.Score: -176.04, Time: 06:00:39 \n"
     ]
    },
    {
     "name": "stderr",
     "output_type": "stream",
     "text": [
      " 69%|██████▉   | 1383/2000 [6:00:46<2:04:35, 12.12s/it]"
     ]
    },
    {
     "name": "stdout",
     "output_type": "stream",
     "text": [
      "Ep. 1384, Timestep 1969593,  Ep.Timesteps 1600, Score: -180.23, Avg.Score: -176.08, Time: 06:00:54 \n"
     ]
    },
    {
     "name": "stderr",
     "output_type": "stream",
     "text": [
      " 69%|██████▉   | 1384/2000 [6:01:00<2:09:55, 12.65s/it]"
     ]
    },
    {
     "name": "stdout",
     "output_type": "stream",
     "text": [
      "Ep. 1385, Timestep 1971193,  Ep.Timesteps 1600, Score: -181.13, Avg.Score: -176.13, Time: 06:01:08 \n"
     ]
    },
    {
     "name": "stderr",
     "output_type": "stream",
     "text": [
      " 69%|██████▉   | 1385/2000 [6:01:14<2:15:21, 13.21s/it]"
     ]
    },
    {
     "name": "stdout",
     "output_type": "stream",
     "text": [
      "Ep. 1386, Timestep 1972793,  Ep.Timesteps 1600, Score: -182.19, Avg.Score: -176.14, Time: 06:01:21 \n"
     ]
    },
    {
     "name": "stderr",
     "output_type": "stream",
     "text": [
      " 69%|██████▉   | 1386/2000 [6:01:28<2:16:04, 13.30s/it]"
     ]
    },
    {
     "name": "stdout",
     "output_type": "stream",
     "text": [
      "Ep. 1387, Timestep 1974393,  Ep.Timesteps 1600, Score: -176.66, Avg.Score: -176.17, Time: 06:01:35 \n"
     ]
    },
    {
     "name": "stderr",
     "output_type": "stream",
     "text": [
      " 69%|██████▉   | 1387/2000 [6:01:42<2:17:23, 13.45s/it]"
     ]
    },
    {
     "name": "stdout",
     "output_type": "stream",
     "text": [
      "Ep. 1388, Timestep 1975993,  Ep.Timesteps 1600, Score: -181.08, Avg.Score: -176.22, Time: 06:01:49 \n"
     ]
    },
    {
     "name": "stderr",
     "output_type": "stream",
     "text": [
      " 69%|██████▉   | 1388/2000 [6:01:55<2:18:07, 13.54s/it]"
     ]
    },
    {
     "name": "stdout",
     "output_type": "stream",
     "text": [
      "Ep. 1389, Timestep 1977593,  Ep.Timesteps 1600, Score: -181.44, Avg.Score: -176.22, Time: 06:02:03 \n"
     ]
    },
    {
     "name": "stderr",
     "output_type": "stream",
     "text": [
      " 69%|██████▉   | 1389/2000 [6:02:09<2:18:11, 13.57s/it]"
     ]
    },
    {
     "name": "stdout",
     "output_type": "stream",
     "text": [
      "Ep. 1390, Timestep 1979193,  Ep.Timesteps 1600, Score: -181.13, Avg.Score: -176.23, Time: 06:02:17 \n"
     ]
    },
    {
     "name": "stderr",
     "output_type": "stream",
     "text": [
      " 70%|██████▉   | 1390/2000 [6:02:23<2:19:45, 13.75s/it]"
     ]
    },
    {
     "name": "stdout",
     "output_type": "stream",
     "text": [
      "Ep. 1391, Timestep 1980793,  Ep.Timesteps 1600, Score: -181.81, Avg.Score: -176.30, Time: 06:02:31 \n"
     ]
    },
    {
     "name": "stderr",
     "output_type": "stream",
     "text": [
      " 70%|██████▉   | 1391/2000 [6:02:37<2:21:19, 13.92s/it]"
     ]
    },
    {
     "name": "stdout",
     "output_type": "stream",
     "text": [
      "Ep. 1392, Timestep 1982393,  Ep.Timesteps 1600, Score: -181.95, Avg.Score: -176.31, Time: 06:02:45 \n"
     ]
    },
    {
     "name": "stderr",
     "output_type": "stream",
     "text": [
      " 70%|██████▉   | 1392/2000 [6:02:52<2:21:26, 13.96s/it]"
     ]
    },
    {
     "name": "stdout",
     "output_type": "stream",
     "text": [
      "Ep. 1393, Timestep 1983993,  Ep.Timesteps 1600, Score: -182.06, Avg.Score: -176.38, Time: 06:02:59 \n"
     ]
    },
    {
     "name": "stderr",
     "output_type": "stream",
     "text": [
      " 70%|██████▉   | 1393/2000 [6:03:05<2:19:02, 13.74s/it]"
     ]
    },
    {
     "name": "stdout",
     "output_type": "stream",
     "text": [
      "Ep. 1394, Timestep 1985593,  Ep.Timesteps 1600, Score: -174.78, Avg.Score: -176.32, Time: 06:03:13 \n"
     ]
    },
    {
     "name": "stderr",
     "output_type": "stream",
     "text": [
      " 70%|██████▉   | 1394/2000 [6:03:19<2:19:34, 13.82s/it]"
     ]
    },
    {
     "name": "stdout",
     "output_type": "stream",
     "text": [
      "Ep. 1395, Timestep 1987193,  Ep.Timesteps 1600, Score: -176.05, Avg.Score: -176.24, Time: 06:03:27 \n"
     ]
    },
    {
     "name": "stderr",
     "output_type": "stream",
     "text": [
      " 70%|██████▉   | 1395/2000 [6:03:34<2:22:13, 14.11s/it]"
     ]
    },
    {
     "name": "stdout",
     "output_type": "stream",
     "text": [
      "Ep. 1396, Timestep 1987298,  Ep.Timesteps 105, Score: -115.36, Avg.Score: -175.57, Time: 06:03:37 \n"
     ]
    },
    {
     "name": "stderr",
     "output_type": "stream",
     "text": [
      " 70%|██████▉   | 1396/2000 [6:03:34<1:42:05, 10.14s/it]"
     ]
    },
    {
     "name": "stdout",
     "output_type": "stream",
     "text": [
      "Ep. 1397, Timestep 1988898,  Ep.Timesteps 1600, Score: -179.22, Avg.Score: -175.56, Time: 06:03:41 \n"
     ]
    },
    {
     "name": "stderr",
     "output_type": "stream",
     "text": [
      " 70%|██████▉   | 1397/2000 [6:03:48<1:51:57, 11.14s/it]"
     ]
    },
    {
     "name": "stdout",
     "output_type": "stream",
     "text": [
      "Ep. 1398, Timestep 1990498,  Ep.Timesteps 1600, Score: -173.61, Avg.Score: -175.53, Time: 06:03:55 \n"
     ]
    },
    {
     "name": "stderr",
     "output_type": "stream",
     "text": [
      " 70%|██████▉   | 1398/2000 [6:04:02<1:59:40, 11.93s/it]"
     ]
    },
    {
     "name": "stdout",
     "output_type": "stream",
     "text": [
      "Ep. 1399, Timestep 1992098,  Ep.Timesteps 1600, Score: -173.33, Avg.Score: -175.51, Time: 06:04:10 \n"
     ]
    },
    {
     "name": "stderr",
     "output_type": "stream",
     "text": [
      " 70%|██████▉   | 1399/2000 [6:04:16<2:06:47, 12.66s/it]"
     ]
    },
    {
     "name": "stdout",
     "output_type": "stream",
     "text": [
      "Ep. 1400, Timestep 1993698,  Ep.Timesteps 1600, Score: -174.24, Avg.Score: -175.45, Time: 06:04:23 \n"
     ]
    },
    {
     "name": "stderr",
     "output_type": "stream",
     "text": [
      " 70%|███████   | 1400/2000 [6:04:30<2:09:44, 12.97s/it]"
     ]
    },
    {
     "name": "stdout",
     "output_type": "stream",
     "text": [
      "Ep. 1401, Timestep 1995298,  Ep.Timesteps 1600, Score: -174.13, Avg.Score: -175.44, Time: 06:04:38 \n"
     ]
    },
    {
     "name": "stderr",
     "output_type": "stream",
     "text": [
      " 70%|███████   | 1401/2000 [6:04:44<2:13:36, 13.38s/it]"
     ]
    },
    {
     "name": "stdout",
     "output_type": "stream",
     "text": [
      "Ep. 1402, Timestep 1996898,  Ep.Timesteps 1600, Score: -173.51, Avg.Score: -175.39, Time: 06:04:51 \n"
     ]
    },
    {
     "name": "stderr",
     "output_type": "stream",
     "text": [
      " 70%|███████   | 1402/2000 [6:04:58<2:14:52, 13.53s/it]"
     ]
    },
    {
     "name": "stdout",
     "output_type": "stream",
     "text": [
      "Ep. 1403, Timestep 1998498,  Ep.Timesteps 1600, Score: -179.53, Avg.Score: -175.38, Time: 06:05:05 \n"
     ]
    },
    {
     "name": "stderr",
     "output_type": "stream",
     "text": [
      " 70%|███████   | 1403/2000 [6:05:12<2:15:30, 13.62s/it]"
     ]
    },
    {
     "name": "stdout",
     "output_type": "stream",
     "text": [
      "Ep. 1404, Timestep 2000098,  Ep.Timesteps 1600, Score: -179.15, Avg.Score: -175.36, Time: 06:05:20 \n"
     ]
    },
    {
     "name": "stderr",
     "output_type": "stream",
     "text": [
      " 70%|███████   | 1404/2000 [6:05:26<2:16:40, 13.76s/it]"
     ]
    },
    {
     "name": "stdout",
     "output_type": "stream",
     "text": [
      "Ep. 1405, Timestep 2001698,  Ep.Timesteps 1600, Score: -182.90, Avg.Score: -175.42, Time: 06:05:34 \n"
     ]
    },
    {
     "name": "stderr",
     "output_type": "stream",
     "text": [
      " 70%|███████   | 1405/2000 [6:05:41<2:19:16, 14.04s/it]"
     ]
    },
    {
     "name": "stdout",
     "output_type": "stream",
     "text": [
      "Ep. 1406, Timestep 2003298,  Ep.Timesteps 1600, Score: -181.94, Avg.Score: -175.42, Time: 06:05:48 \n"
     ]
    },
    {
     "name": "stderr",
     "output_type": "stream",
     "text": [
      " 70%|███████   | 1406/2000 [6:05:54<2:18:09, 13.95s/it]"
     ]
    },
    {
     "name": "stdout",
     "output_type": "stream",
     "text": [
      "Ep. 1407, Timestep 2004898,  Ep.Timesteps 1600, Score: -175.76, Avg.Score: -175.38, Time: 06:06:02 \n"
     ]
    },
    {
     "name": "stderr",
     "output_type": "stream",
     "text": [
      " 70%|███████   | 1407/2000 [6:06:08<2:17:45, 13.94s/it]"
     ]
    },
    {
     "name": "stdout",
     "output_type": "stream",
     "text": [
      "Ep. 1408, Timestep 2006498,  Ep.Timesteps 1600, Score: -180.06, Avg.Score: -175.42, Time: 06:06:16 \n"
     ]
    },
    {
     "name": "stderr",
     "output_type": "stream",
     "text": [
      " 70%|███████   | 1408/2000 [6:06:22<2:18:16, 14.02s/it]"
     ]
    },
    {
     "name": "stdout",
     "output_type": "stream",
     "text": [
      "Ep. 1409, Timestep 2008098,  Ep.Timesteps 1600, Score: -181.26, Avg.Score: -175.47, Time: 06:06:31 \n"
     ]
    },
    {
     "name": "stderr",
     "output_type": "stream",
     "text": [
      " 70%|███████   | 1409/2000 [6:06:37<2:20:01, 14.22s/it]"
     ]
    },
    {
     "name": "stdout",
     "output_type": "stream",
     "text": [
      "Ep. 1410, Timestep 2009698,  Ep.Timesteps 1600, Score: -182.13, Avg.Score: -175.48, Time: 06:06:44 \n"
     ]
    },
    {
     "name": "stderr",
     "output_type": "stream",
     "text": [
      " 70%|███████   | 1410/2000 [6:06:51<2:19:26, 14.18s/it]"
     ]
    },
    {
     "name": "stdout",
     "output_type": "stream",
     "text": [
      "Ep. 1411, Timestep 2011298,  Ep.Timesteps 1600, Score: -177.18, Avg.Score: -175.52, Time: 06:06:59 \n"
     ]
    },
    {
     "name": "stderr",
     "output_type": "stream",
     "text": [
      " 71%|███████   | 1411/2000 [6:07:05<2:17:26, 14.00s/it]"
     ]
    },
    {
     "name": "stdout",
     "output_type": "stream",
     "text": [
      "Ep. 1412, Timestep 2012898,  Ep.Timesteps 1600, Score: -182.77, Avg.Score: -175.57, Time: 06:07:12 \n"
     ]
    },
    {
     "name": "stderr",
     "output_type": "stream",
     "text": [
      " 71%|███████   | 1412/2000 [6:07:19<2:17:38, 14.04s/it]"
     ]
    },
    {
     "name": "stdout",
     "output_type": "stream",
     "text": [
      "Ep. 1413, Timestep 2014498,  Ep.Timesteps 1600, Score: -181.10, Avg.Score: -175.58, Time: 06:07:26 \n"
     ]
    },
    {
     "name": "stderr",
     "output_type": "stream",
     "text": [
      " 71%|███████   | 1413/2000 [6:07:32<2:15:41, 13.87s/it]"
     ]
    },
    {
     "name": "stdout",
     "output_type": "stream",
     "text": [
      "Ep. 1414, Timestep 2016098,  Ep.Timesteps 1600, Score: -183.99, Avg.Score: -175.61, Time: 06:07:40 \n"
     ]
    },
    {
     "name": "stderr",
     "output_type": "stream",
     "text": [
      " 71%|███████   | 1414/2000 [6:07:47<2:16:36, 13.99s/it]"
     ]
    },
    {
     "name": "stdout",
     "output_type": "stream",
     "text": [
      "Ep. 1415, Timestep 2017698,  Ep.Timesteps 1600, Score: -180.25, Avg.Score: -175.66, Time: 06:07:54 \n"
     ]
    },
    {
     "name": "stderr",
     "output_type": "stream",
     "text": [
      " 71%|███████   | 1415/2000 [6:08:01<2:17:18, 14.08s/it]"
     ]
    },
    {
     "name": "stdout",
     "output_type": "stream",
     "text": [
      "Ep. 1416, Timestep 2019298,  Ep.Timesteps 1600, Score: -183.10, Avg.Score: -175.75, Time: 06:08:08 \n"
     ]
    },
    {
     "name": "stderr",
     "output_type": "stream",
     "text": [
      " 71%|███████   | 1416/2000 [6:08:15<2:15:34, 13.93s/it]"
     ]
    },
    {
     "name": "stdout",
     "output_type": "stream",
     "text": [
      "Ep. 1417, Timestep 2020898,  Ep.Timesteps 1600, Score: -180.65, Avg.Score: -175.82, Time: 06:08:23 \n"
     ]
    },
    {
     "name": "stderr",
     "output_type": "stream",
     "text": [
      " 71%|███████   | 1417/2000 [6:08:29<2:15:35, 13.95s/it]"
     ]
    },
    {
     "name": "stdout",
     "output_type": "stream",
     "text": [
      "Ep. 1418, Timestep 2022498,  Ep.Timesteps 1600, Score: -181.95, Avg.Score: -175.83, Time: 06:08:37 \n"
     ]
    },
    {
     "name": "stderr",
     "output_type": "stream",
     "text": [
      " 71%|███████   | 1418/2000 [6:08:43<2:16:38, 14.09s/it]"
     ]
    },
    {
     "name": "stdout",
     "output_type": "stream",
     "text": [
      "Ep. 1419, Timestep 2024098,  Ep.Timesteps 1600, Score: -175.92, Avg.Score: -175.85, Time: 06:08:50 \n"
     ]
    },
    {
     "name": "stderr",
     "output_type": "stream",
     "text": [
      " 71%|███████   | 1419/2000 [6:08:57<2:15:55, 14.04s/it]"
     ]
    },
    {
     "name": "stdout",
     "output_type": "stream",
     "text": [
      "Ep. 1420, Timestep 2025698,  Ep.Timesteps 1600, Score: -180.23, Avg.Score: -175.91, Time: 06:09:04 \n"
     ]
    },
    {
     "name": "stderr",
     "output_type": "stream",
     "text": [
      " 71%|███████   | 1420/2000 [6:09:11<2:15:06, 13.98s/it]"
     ]
    },
    {
     "name": "stdout",
     "output_type": "stream",
     "text": [
      "Ep. 1421, Timestep 2027298,  Ep.Timesteps 1600, Score: -181.70, Avg.Score: -176.00, Time: 06:09:18 \n"
     ]
    },
    {
     "name": "stderr",
     "output_type": "stream",
     "text": [
      " 71%|███████   | 1421/2000 [6:09:25<2:15:36, 14.05s/it]"
     ]
    },
    {
     "name": "stdout",
     "output_type": "stream",
     "text": [
      "Ep. 1422, Timestep 2028898,  Ep.Timesteps 1600, Score: -175.27, Avg.Score: -176.01, Time: 06:09:32 \n"
     ]
    },
    {
     "name": "stderr",
     "output_type": "stream",
     "text": [
      " 71%|███████   | 1422/2000 [6:09:38<2:13:52, 13.90s/it]"
     ]
    },
    {
     "name": "stdout",
     "output_type": "stream",
     "text": [
      "Ep. 1423, Timestep 2030498,  Ep.Timesteps 1600, Score: -183.39, Avg.Score: -176.09, Time: 06:09:47 \n"
     ]
    },
    {
     "name": "stderr",
     "output_type": "stream",
     "text": [
      " 71%|███████   | 1423/2000 [6:09:53<2:14:09, 13.95s/it]"
     ]
    },
    {
     "name": "stdout",
     "output_type": "stream",
     "text": [
      "Ep. 1424, Timestep 2032098,  Ep.Timesteps 1600, Score: -180.65, Avg.Score: -176.10, Time: 06:10:00 \n"
     ]
    },
    {
     "name": "stderr",
     "output_type": "stream",
     "text": [
      " 71%|███████   | 1424/2000 [6:10:07<2:15:40, 14.13s/it]"
     ]
    },
    {
     "name": "stdout",
     "output_type": "stream",
     "text": [
      "Ep. 1425, Timestep 2033698,  Ep.Timesteps 1600, Score: -181.20, Avg.Score: -176.09, Time: 06:10:14 \n"
     ]
    },
    {
     "name": "stderr",
     "output_type": "stream",
     "text": [
      " 71%|███████▏  | 1425/2000 [6:10:20<2:12:52, 13.87s/it]"
     ]
    },
    {
     "name": "stdout",
     "output_type": "stream",
     "text": [
      "Ep. 1426, Timestep 2035298,  Ep.Timesteps 1600, Score: -182.30, Avg.Score: -176.11, Time: 06:10:28 \n"
     ]
    },
    {
     "name": "stderr",
     "output_type": "stream",
     "text": [
      " 71%|███████▏  | 1426/2000 [6:10:34<2:13:20, 13.94s/it]"
     ]
    },
    {
     "name": "stdout",
     "output_type": "stream",
     "text": [
      "Ep. 1427, Timestep 2036898,  Ep.Timesteps 1600, Score: -176.20, Avg.Score: -176.05, Time: 06:10:42 \n"
     ]
    },
    {
     "name": "stderr",
     "output_type": "stream",
     "text": [
      " 71%|███████▏  | 1427/2000 [6:10:48<2:13:09, 13.94s/it]"
     ]
    },
    {
     "name": "stdout",
     "output_type": "stream",
     "text": [
      "Ep. 1428, Timestep 2038498,  Ep.Timesteps 1600, Score: -177.35, Avg.Score: -176.01, Time: 06:10:56 \n"
     ]
    },
    {
     "name": "stderr",
     "output_type": "stream",
     "text": [
      " 71%|███████▏  | 1428/2000 [6:11:03<2:13:37, 14.02s/it]"
     ]
    },
    {
     "name": "stdout",
     "output_type": "stream",
     "text": [
      "Ep. 1429, Timestep 2040098,  Ep.Timesteps 1600, Score: -175.67, Avg.Score: -175.94, Time: 06:11:10 \n"
     ]
    },
    {
     "name": "stderr",
     "output_type": "stream",
     "text": [
      " 71%|███████▏  | 1429/2000 [6:11:16<2:11:54, 13.86s/it]"
     ]
    },
    {
     "name": "stdout",
     "output_type": "stream",
     "text": [
      "Ep. 1430, Timestep 2041698,  Ep.Timesteps 1600, Score: -180.81, Avg.Score: -175.98, Time: 06:11:24 \n"
     ]
    },
    {
     "name": "stderr",
     "output_type": "stream",
     "text": [
      " 72%|███████▏  | 1430/2000 [6:11:30<2:12:13, 13.92s/it]"
     ]
    },
    {
     "name": "stdout",
     "output_type": "stream",
     "text": [
      "Ep. 1431, Timestep 2043298,  Ep.Timesteps 1600, Score: -180.06, Avg.Score: -175.97, Time: 06:11:38 \n"
     ]
    },
    {
     "name": "stderr",
     "output_type": "stream",
     "text": [
      " 72%|███████▏  | 1431/2000 [6:11:44<2:11:05, 13.82s/it]"
     ]
    },
    {
     "name": "stdout",
     "output_type": "stream",
     "text": [
      "Ep. 1432, Timestep 2044898,  Ep.Timesteps 1600, Score: -180.46, Avg.Score: -175.95, Time: 06:11:52 \n"
     ]
    },
    {
     "name": "stderr",
     "output_type": "stream",
     "text": [
      " 72%|███████▏  | 1432/2000 [6:11:58<2:12:24, 13.99s/it]"
     ]
    },
    {
     "name": "stdout",
     "output_type": "stream",
     "text": [
      "Ep. 1433, Timestep 2046498,  Ep.Timesteps 1600, Score: -180.22, Avg.Score: -175.98, Time: 06:12:06 \n"
     ]
    },
    {
     "name": "stderr",
     "output_type": "stream",
     "text": [
      " 72%|███████▏  | 1433/2000 [6:12:12<2:13:06, 14.09s/it]"
     ]
    },
    {
     "name": "stdout",
     "output_type": "stream",
     "text": [
      "Ep. 1434, Timestep 2048098,  Ep.Timesteps 1600, Score: -178.73, Avg.Score: -175.96, Time: 06:12:19 \n"
     ]
    },
    {
     "name": "stderr",
     "output_type": "stream",
     "text": [
      " 72%|███████▏  | 1434/2000 [6:12:26<2:10:08, 13.80s/it]"
     ]
    },
    {
     "name": "stdout",
     "output_type": "stream",
     "text": [
      "Ep. 1435, Timestep 2049698,  Ep.Timesteps 1600, Score: -176.29, Avg.Score: -175.96, Time: 06:12:34 \n"
     ]
    },
    {
     "name": "stderr",
     "output_type": "stream",
     "text": [
      " 72%|███████▏  | 1435/2000 [6:12:40<2:10:46, 13.89s/it]"
     ]
    },
    {
     "name": "stdout",
     "output_type": "stream",
     "text": [
      "Ep. 1436, Timestep 2051298,  Ep.Timesteps 1600, Score: -175.82, Avg.Score: -175.96, Time: 06:12:48 \n"
     ]
    },
    {
     "name": "stderr",
     "output_type": "stream",
     "text": [
      " 72%|███████▏  | 1436/2000 [6:12:54<2:11:08, 13.95s/it]"
     ]
    },
    {
     "name": "stdout",
     "output_type": "stream",
     "text": [
      "Ep. 1437, Timestep 2052898,  Ep.Timesteps 1600, Score: -180.15, Avg.Score: -175.95, Time: 06:13:01 \n"
     ]
    },
    {
     "name": "stderr",
     "output_type": "stream",
     "text": [
      " 72%|███████▏  | 1437/2000 [6:13:08<2:11:04, 13.97s/it]"
     ]
    },
    {
     "name": "stdout",
     "output_type": "stream",
     "text": [
      "Ep. 1438, Timestep 2054498,  Ep.Timesteps 1600, Score: -182.24, Avg.Score: -175.97, Time: 06:13:15 \n"
     ]
    },
    {
     "name": "stderr",
     "output_type": "stream",
     "text": [
      " 72%|███████▏  | 1438/2000 [6:13:21<2:09:23, 13.81s/it]"
     ]
    },
    {
     "name": "stdout",
     "output_type": "stream",
     "text": [
      "Ep. 1439, Timestep 2056098,  Ep.Timesteps 1600, Score: -173.49, Avg.Score: -175.90, Time: 06:13:29 \n"
     ]
    },
    {
     "name": "stderr",
     "output_type": "stream",
     "text": [
      " 72%|███████▏  | 1439/2000 [6:13:35<2:10:17, 13.93s/it]"
     ]
    },
    {
     "name": "stdout",
     "output_type": "stream",
     "text": [
      "Ep. 1440, Timestep 2057698,  Ep.Timesteps 1600, Score: -173.39, Avg.Score: -175.88, Time: 06:13:43 \n"
     ]
    },
    {
     "name": "stderr",
     "output_type": "stream",
     "text": [
      " 72%|███████▏  | 1440/2000 [6:13:49<2:08:51, 13.81s/it]"
     ]
    },
    {
     "name": "stdout",
     "output_type": "stream",
     "text": [
      "Ep. 1441, Timestep 2059298,  Ep.Timesteps 1600, Score: -173.63, Avg.Score: -175.79, Time: 06:13:57 \n"
     ]
    },
    {
     "name": "stderr",
     "output_type": "stream",
     "text": [
      " 72%|███████▏  | 1441/2000 [6:14:03<2:10:20, 13.99s/it]"
     ]
    },
    {
     "name": "stdout",
     "output_type": "stream",
     "text": [
      "Ep. 1442, Timestep 2060898,  Ep.Timesteps 1600, Score: -173.64, Avg.Score: -176.40, Time: 06:14:11 \n"
     ]
    },
    {
     "name": "stderr",
     "output_type": "stream",
     "text": [
      " 72%|███████▏  | 1442/2000 [6:14:18<2:11:28, 14.14s/it]"
     ]
    },
    {
     "name": "stdout",
     "output_type": "stream",
     "text": [
      "Ep. 1443, Timestep 2062498,  Ep.Timesteps 1600, Score: -182.17, Avg.Score: -176.42, Time: 06:14:25 \n"
     ]
    },
    {
     "name": "stderr",
     "output_type": "stream",
     "text": [
      " 72%|███████▏  | 1443/2000 [6:14:32<2:10:07, 14.02s/it]"
     ]
    },
    {
     "name": "stdout",
     "output_type": "stream",
     "text": [
      "Ep. 1444, Timestep 2064098,  Ep.Timesteps 1600, Score: -180.21, Avg.Score: -176.42, Time: 06:14:40 \n"
     ]
    },
    {
     "name": "stderr",
     "output_type": "stream",
     "text": [
      " 72%|███████▏  | 1444/2000 [6:14:46<2:10:23, 14.07s/it]"
     ]
    },
    {
     "name": "stdout",
     "output_type": "stream",
     "text": [
      "Ep. 1445, Timestep 2065698,  Ep.Timesteps 1600, Score: -175.55, Avg.Score: -176.37, Time: 06:14:54 \n"
     ]
    },
    {
     "name": "stderr",
     "output_type": "stream",
     "text": [
      " 72%|███████▏  | 1445/2000 [6:15:00<2:10:44, 14.14s/it]"
     ]
    },
    {
     "name": "stdout",
     "output_type": "stream",
     "text": [
      "Ep. 1446, Timestep 2067298,  Ep.Timesteps 1600, Score: -175.54, Avg.Score: -176.30, Time: 06:15:08 \n"
     ]
    },
    {
     "name": "stderr",
     "output_type": "stream",
     "text": [
      " 72%|███████▏  | 1446/2000 [6:15:15<2:11:59, 14.30s/it]"
     ]
    },
    {
     "name": "stdout",
     "output_type": "stream",
     "text": [
      "Ep. 1447, Timestep 2068898,  Ep.Timesteps 1600, Score: -175.71, Avg.Score: -176.25, Time: 06:15:22 \n"
     ]
    },
    {
     "name": "stderr",
     "output_type": "stream",
     "text": [
      " 72%|███████▏  | 1447/2000 [6:15:28<2:09:35, 14.06s/it]"
     ]
    },
    {
     "name": "stdout",
     "output_type": "stream",
     "text": [
      "Ep. 1448, Timestep 2070498,  Ep.Timesteps 1600, Score: -175.34, Avg.Score: -176.25, Time: 06:15:36 \n"
     ]
    },
    {
     "name": "stderr",
     "output_type": "stream",
     "text": [
      " 72%|███████▏  | 1448/2000 [6:15:42<2:07:49, 13.89s/it]"
     ]
    },
    {
     "name": "stdout",
     "output_type": "stream",
     "text": [
      "Ep. 1449, Timestep 2072098,  Ep.Timesteps 1600, Score: -179.55, Avg.Score: -176.24, Time: 06:15:50 \n"
     ]
    },
    {
     "name": "stderr",
     "output_type": "stream",
     "text": [
      " 72%|███████▏  | 1449/2000 [6:15:56<2:09:39, 14.12s/it]"
     ]
    },
    {
     "name": "stdout",
     "output_type": "stream",
     "text": [
      "Ep. 1450, Timestep 2073698,  Ep.Timesteps 1600, Score: -175.46, Avg.Score: -176.23, Time: 06:16:04 \n"
     ]
    },
    {
     "name": "stderr",
     "output_type": "stream",
     "text": [
      " 72%|███████▎  | 1450/2000 [6:16:10<2:08:39, 14.03s/it]"
     ]
    },
    {
     "name": "stdout",
     "output_type": "stream",
     "text": [
      "Ep. 1451, Timestep 2075298,  Ep.Timesteps 1600, Score: -175.44, Avg.Score: -176.18, Time: 06:16:18 \n"
     ]
    },
    {
     "name": "stderr",
     "output_type": "stream",
     "text": [
      " 73%|███████▎  | 1451/2000 [6:16:24<2:08:48, 14.08s/it]"
     ]
    },
    {
     "name": "stdout",
     "output_type": "stream",
     "text": [
      "Ep. 1452, Timestep 2076898,  Ep.Timesteps 1600, Score: -175.96, Avg.Score: -176.11, Time: 06:16:32 \n"
     ]
    },
    {
     "name": "stderr",
     "output_type": "stream",
     "text": [
      " 73%|███████▎  | 1452/2000 [6:16:38<2:07:42, 13.98s/it]"
     ]
    },
    {
     "name": "stdout",
     "output_type": "stream",
     "text": [
      "Ep. 1453, Timestep 2078498,  Ep.Timesteps 1600, Score: -181.77, Avg.Score: -176.11, Time: 06:16:46 \n"
     ]
    },
    {
     "name": "stderr",
     "output_type": "stream",
     "text": [
      " 73%|███████▎  | 1453/2000 [6:16:53<2:08:32, 14.10s/it]"
     ]
    },
    {
     "name": "stdout",
     "output_type": "stream",
     "text": [
      "Ep. 1454, Timestep 2080098,  Ep.Timesteps 1600, Score: -176.21, Avg.Score: -176.11, Time: 06:17:00 \n"
     ]
    },
    {
     "name": "stderr",
     "output_type": "stream",
     "text": [
      " 73%|███████▎  | 1454/2000 [6:17:07<2:09:16, 14.21s/it]"
     ]
    },
    {
     "name": "stdout",
     "output_type": "stream",
     "text": [
      "Ep. 1455, Timestep 2081698,  Ep.Timesteps 1600, Score: -175.63, Avg.Score: -176.09, Time: 06:17:15 \n"
     ]
    },
    {
     "name": "stderr",
     "output_type": "stream",
     "text": [
      " 73%|███████▎  | 1455/2000 [6:17:22<2:09:54, 14.30s/it]"
     ]
    },
    {
     "name": "stdout",
     "output_type": "stream",
     "text": [
      "Ep. 1456, Timestep 2083298,  Ep.Timesteps 1600, Score: -175.27, Avg.Score: -176.09, Time: 06:17:29 \n"
     ]
    },
    {
     "name": "stderr",
     "output_type": "stream",
     "text": [
      " 73%|███████▎  | 1456/2000 [6:17:35<2:08:35, 14.18s/it]"
     ]
    },
    {
     "name": "stdout",
     "output_type": "stream",
     "text": [
      "Ep. 1457, Timestep 2084898,  Ep.Timesteps 1600, Score: -176.14, Avg.Score: -176.11, Time: 06:17:42 \n"
     ]
    },
    {
     "name": "stderr",
     "output_type": "stream",
     "text": [
      " 73%|███████▎  | 1457/2000 [6:17:49<2:06:20, 13.96s/it]"
     ]
    },
    {
     "name": "stdout",
     "output_type": "stream",
     "text": [
      "Ep. 1458, Timestep 2086498,  Ep.Timesteps 1600, Score: -181.35, Avg.Score: -176.19, Time: 06:17:57 \n"
     ]
    },
    {
     "name": "stderr",
     "output_type": "stream",
     "text": [
      " 73%|███████▎  | 1458/2000 [6:18:03<2:07:19, 14.09s/it]"
     ]
    },
    {
     "name": "stdout",
     "output_type": "stream",
     "text": [
      "Ep. 1459, Timestep 2088098,  Ep.Timesteps 1600, Score: -180.47, Avg.Score: -176.25, Time: 06:18:12 \n"
     ]
    },
    {
     "name": "stderr",
     "output_type": "stream",
     "text": [
      " 73%|███████▎  | 1459/2000 [6:18:18<2:08:35, 14.26s/it]"
     ]
    },
    {
     "name": "stdout",
     "output_type": "stream",
     "text": [
      "Ep. 1460, Timestep 2089698,  Ep.Timesteps 1600, Score: -180.47, Avg.Score: -176.32, Time: 06:18:26 \n"
     ]
    },
    {
     "name": "stderr",
     "output_type": "stream",
     "text": [
      " 73%|███████▎  | 1460/2000 [6:18:33<2:09:19, 14.37s/it]"
     ]
    },
    {
     "name": "stdout",
     "output_type": "stream",
     "text": [
      "Ep. 1461, Timestep 2091298,  Ep.Timesteps 1600, Score: -180.83, Avg.Score: -176.39, Time: 06:18:39 \n"
     ]
    },
    {
     "name": "stderr",
     "output_type": "stream",
     "text": [
      " 73%|███████▎  | 1461/2000 [6:18:46<2:06:27, 14.08s/it]"
     ]
    },
    {
     "name": "stdout",
     "output_type": "stream",
     "text": [
      "Ep. 1462, Timestep 2092898,  Ep.Timesteps 1600, Score: -175.37, Avg.Score: -176.41, Time: 06:18:54 \n"
     ]
    },
    {
     "name": "stderr",
     "output_type": "stream",
     "text": [
      " 73%|███████▎  | 1462/2000 [6:19:00<2:05:36, 14.01s/it]"
     ]
    },
    {
     "name": "stdout",
     "output_type": "stream",
     "text": [
      "Ep. 1463, Timestep 2094498,  Ep.Timesteps 1600, Score: -181.69, Avg.Score: -176.42, Time: 06:19:08 \n"
     ]
    },
    {
     "name": "stderr",
     "output_type": "stream",
     "text": [
      " 73%|███████▎  | 1463/2000 [6:19:14<2:06:32, 14.14s/it]"
     ]
    },
    {
     "name": "stdout",
     "output_type": "stream",
     "text": [
      "Ep. 1464, Timestep 2096098,  Ep.Timesteps 1600, Score: -180.33, Avg.Score: -176.42, Time: 06:19:22 \n"
     ]
    },
    {
     "name": "stderr",
     "output_type": "stream",
     "text": [
      " 73%|███████▎  | 1464/2000 [6:19:28<2:05:12, 14.02s/it]"
     ]
    },
    {
     "name": "stdout",
     "output_type": "stream",
     "text": [
      "Ep. 1465, Timestep 2097698,  Ep.Timesteps 1600, Score: -180.61, Avg.Score: -176.42, Time: 06:19:35 \n"
     ]
    },
    {
     "name": "stderr",
     "output_type": "stream",
     "text": [
      " 73%|███████▎  | 1465/2000 [6:19:42<2:04:57, 14.01s/it]"
     ]
    },
    {
     "name": "stdout",
     "output_type": "stream",
     "text": [
      "Ep. 1466, Timestep 2099298,  Ep.Timesteps 1600, Score: -181.18, Avg.Score: -176.47, Time: 06:19:49 \n"
     ]
    },
    {
     "name": "stderr",
     "output_type": "stream",
     "text": [
      " 73%|███████▎  | 1466/2000 [6:19:56<2:03:37, 13.89s/it]"
     ]
    },
    {
     "name": "stdout",
     "output_type": "stream",
     "text": [
      "Ep. 1467, Timestep 2100898,  Ep.Timesteps 1600, Score: -177.56, Avg.Score: -176.42, Time: 06:20:04 \n"
     ]
    },
    {
     "name": "stderr",
     "output_type": "stream",
     "text": [
      " 73%|███████▎  | 1467/2000 [6:20:10<2:03:42, 13.93s/it]"
     ]
    },
    {
     "name": "stdout",
     "output_type": "stream",
     "text": [
      "Ep. 1468, Timestep 2102498,  Ep.Timesteps 1600, Score: -175.28, Avg.Score: -176.41, Time: 06:20:18 \n"
     ]
    },
    {
     "name": "stderr",
     "output_type": "stream",
     "text": [
      " 73%|███████▎  | 1468/2000 [6:20:24<2:04:27, 14.04s/it]"
     ]
    },
    {
     "name": "stdout",
     "output_type": "stream",
     "text": [
      "Ep. 1469, Timestep 2104098,  Ep.Timesteps 1600, Score: -175.96, Avg.Score: -176.41, Time: 06:20:32 \n"
     ]
    },
    {
     "name": "stderr",
     "output_type": "stream",
     "text": [
      " 73%|███████▎  | 1469/2000 [6:20:39<2:05:54, 14.23s/it]"
     ]
    },
    {
     "name": "stdout",
     "output_type": "stream",
     "text": [
      "Ep. 1470, Timestep 2105698,  Ep.Timesteps 1600, Score: -180.69, Avg.Score: -176.46, Time: 06:20:45 \n"
     ]
    },
    {
     "name": "stderr",
     "output_type": "stream",
     "text": [
      " 74%|███████▎  | 1470/2000 [6:20:52<2:03:58, 14.04s/it]"
     ]
    },
    {
     "name": "stdout",
     "output_type": "stream",
     "text": [
      "Ep. 1471, Timestep 2107298,  Ep.Timesteps 1600, Score: -182.24, Avg.Score: -177.07, Time: 06:21:00 \n"
     ]
    },
    {
     "name": "stderr",
     "output_type": "stream",
     "text": [
      " 74%|███████▎  | 1471/2000 [6:21:06<2:02:43, 13.92s/it]"
     ]
    },
    {
     "name": "stdout",
     "output_type": "stream",
     "text": [
      "Ep. 1472, Timestep 2108898,  Ep.Timesteps 1600, Score: -177.32, Avg.Score: -177.69, Time: 06:21:14 \n"
     ]
    },
    {
     "name": "stderr",
     "output_type": "stream",
     "text": [
      " 74%|███████▎  | 1472/2000 [6:21:20<2:04:06, 14.10s/it]"
     ]
    },
    {
     "name": "stdout",
     "output_type": "stream",
     "text": [
      "Ep. 1473, Timestep 2110498,  Ep.Timesteps 1600, Score: -182.00, Avg.Score: -177.70, Time: 06:21:28 \n"
     ]
    },
    {
     "name": "stderr",
     "output_type": "stream",
     "text": [
      " 74%|███████▎  | 1473/2000 [6:21:34<2:03:10, 14.02s/it]"
     ]
    },
    {
     "name": "stdout",
     "output_type": "stream",
     "text": [
      "Ep. 1474, Timestep 2112098,  Ep.Timesteps 1600, Score: -180.20, Avg.Score: -177.69, Time: 06:21:42 \n"
     ]
    },
    {
     "name": "stderr",
     "output_type": "stream",
     "text": [
      " 74%|███████▎  | 1474/2000 [6:21:48<2:02:32, 13.98s/it]"
     ]
    },
    {
     "name": "stdout",
     "output_type": "stream",
     "text": [
      "Ep. 1475, Timestep 2112266,  Ep.Timesteps 168, Score: -120.30, Avg.Score: -177.12, Time: 06:21:52 \n"
     ]
    },
    {
     "name": "stderr",
     "output_type": "stream",
     "text": [
      " 74%|███████▍  | 1475/2000 [6:21:50<1:29:55, 10.28s/it]"
     ]
    },
    {
     "name": "stdout",
     "output_type": "stream",
     "text": [
      "Ep. 1476, Timestep 2113866,  Ep.Timesteps 1600, Score: -181.98, Avg.Score: -177.14, Time: 06:21:57 \n"
     ]
    },
    {
     "name": "stderr",
     "output_type": "stream",
     "text": [
      " 74%|███████▍  | 1476/2000 [6:22:03<1:37:59, 11.22s/it]"
     ]
    },
    {
     "name": "stdout",
     "output_type": "stream",
     "text": [
      "Ep. 1477, Timestep 2115466,  Ep.Timesteps 1600, Score: -182.44, Avg.Score: -177.15, Time: 06:22:11 \n"
     ]
    },
    {
     "name": "stderr",
     "output_type": "stream",
     "text": [
      " 74%|███████▍  | 1477/2000 [6:22:17<1:46:08, 12.18s/it]"
     ]
    },
    {
     "name": "stdout",
     "output_type": "stream",
     "text": [
      "Ep. 1478, Timestep 2117066,  Ep.Timesteps 1600, Score: -183.07, Avg.Score: -177.23, Time: 06:22:25 \n"
     ]
    },
    {
     "name": "stderr",
     "output_type": "stream",
     "text": [
      " 74%|███████▍  | 1478/2000 [6:22:31<1:48:51, 12.51s/it]"
     ]
    },
    {
     "name": "stdout",
     "output_type": "stream",
     "text": [
      "Ep. 1479, Timestep 2118666,  Ep.Timesteps 1600, Score: -181.77, Avg.Score: -177.23, Time: 06:22:39 \n"
     ]
    },
    {
     "name": "stderr",
     "output_type": "stream",
     "text": [
      " 74%|███████▍  | 1479/2000 [6:22:44<1:50:53, 12.77s/it]"
     ]
    },
    {
     "name": "stdout",
     "output_type": "stream",
     "text": [
      "Ep. 1480, Timestep 2120266,  Ep.Timesteps 1600, Score: -173.57, Avg.Score: -177.21, Time: 06:22:51 \n"
     ]
    },
    {
     "name": "stderr",
     "output_type": "stream",
     "text": [
      " 74%|███████▍  | 1480/2000 [6:22:58<1:52:43, 13.01s/it]"
     ]
    },
    {
     "name": "stdout",
     "output_type": "stream",
     "text": [
      "Ep. 1481, Timestep 2121866,  Ep.Timesteps 1600, Score: -173.54, Avg.Score: -177.59, Time: 06:23:05 \n"
     ]
    },
    {
     "name": "stderr",
     "output_type": "stream",
     "text": [
      " 74%|███████▍  | 1481/2000 [6:23:11<1:54:11, 13.20s/it]"
     ]
    },
    {
     "name": "stdout",
     "output_type": "stream",
     "text": [
      "Ep. 1482, Timestep 2123466,  Ep.Timesteps 1600, Score: -173.85, Avg.Score: -177.57, Time: 06:23:19 \n"
     ]
    },
    {
     "name": "stderr",
     "output_type": "stream",
     "text": [
      " 74%|███████▍  | 1482/2000 [6:23:25<1:54:37, 13.28s/it]"
     ]
    },
    {
     "name": "stdout",
     "output_type": "stream",
     "text": [
      "Ep. 1483, Timestep 2125066,  Ep.Timesteps 1600, Score: -178.23, Avg.Score: -177.55, Time: 06:23:33 \n"
     ]
    },
    {
     "name": "stderr",
     "output_type": "stream",
     "text": [
      " 74%|███████▍  | 1483/2000 [6:23:40<1:58:25, 13.74s/it]"
     ]
    },
    {
     "name": "stdout",
     "output_type": "stream",
     "text": [
      "Ep. 1484, Timestep 2126666,  Ep.Timesteps 1600, Score: -180.73, Avg.Score: -177.55, Time: 06:23:46 \n"
     ]
    },
    {
     "name": "stderr",
     "output_type": "stream",
     "text": [
      " 74%|███████▍  | 1484/2000 [6:23:53<1:57:14, 13.63s/it]"
     ]
    },
    {
     "name": "stdout",
     "output_type": "stream",
     "text": [
      "Ep. 1485, Timestep 2128266,  Ep.Timesteps 1600, Score: -182.15, Avg.Score: -177.56, Time: 06:24:01 \n"
     ]
    },
    {
     "name": "stderr",
     "output_type": "stream",
     "text": [
      " 74%|███████▍  | 1485/2000 [6:24:07<1:57:15, 13.66s/it]"
     ]
    },
    {
     "name": "stdout",
     "output_type": "stream",
     "text": [
      "Ep. 1486, Timestep 2129866,  Ep.Timesteps 1600, Score: -176.58, Avg.Score: -177.51, Time: 06:24:15 \n"
     ]
    },
    {
     "name": "stderr",
     "output_type": "stream",
     "text": [
      " 74%|███████▍  | 1486/2000 [6:24:21<1:58:58, 13.89s/it]"
     ]
    }
   ],
   "source": [
    "scores, Avg_Scores = Train(episodes = 2000)"
   ]
  },
  {
   "cell_type": "code",
   "execution_count": null,
   "metadata": {},
   "outputs": [],
   "source": [
    "%matplotlib inline\n",
    "\n",
    "print('length of scores: ', len(scores), ', len of average scores: ', len(Avg_Scores))\n",
    "\n",
    "fig = plt.figure()\n",
    "ax = fig.add_subplot(111)\n",
    "plt.plot(np.arange(1, len(scores) + 1), scores, label=\"Score\")\n",
    "plt.plot(np.arange(1, len(Avg_Scores) + 1), Avg_Scores, label=\"Avg on 100 episodes\")\n",
    "plt.legend(bbox_to_anchor=(1.05, 1)) \n",
    "plt.ylabel('Score')\n",
    "plt.xlabel('Episodes #')\n",
    "plt.show()"
   ]
  },
  {
   "cell_type": "code",
   "execution_count": null,
   "metadata": {},
   "outputs": [],
   "source": [
    "env.close"
   ]
  }
 ],
 "metadata": {
  "kernelspec": {
   "display_name": "Python 3",
   "language": "python",
   "name": "python3"
  },
  "language_info": {
   "codemirror_mode": {
    "name": "ipython",
    "version": 3
   },
   "file_extension": ".py",
   "mimetype": "text/x-python",
   "name": "python",
   "nbconvert_exporter": "python",
   "pygments_lexer": "ipython3",
   "version": "3.6.13"
  },
  "widgets": {
   "application/vnd.jupyter.widget-state+json": {
    "state": {
     "03395bb83ded4fe4a8a7e32a4d025fac": {
      "model_module": "@jupyter-widgets/controls",
      "model_module_version": "1.5.0",
      "model_name": "ButtonStyleModel",
      "state": {
       "_model_module": "@jupyter-widgets/controls",
       "_model_module_version": "1.5.0",
       "_model_name": "ButtonStyleModel",
       "_view_count": null,
       "_view_module": "@jupyter-widgets/base",
       "_view_module_version": "1.2.0",
       "_view_name": "StyleView",
       "button_color": null,
       "font_weight": ""
      }
     },
     "03c6167509ea4711b4413186e194f1b7": {
      "model_module": "@jupyter-widgets/base",
      "model_module_version": "1.2.0",
      "model_name": "LayoutModel",
      "state": {
       "_model_module": "@jupyter-widgets/base",
       "_model_module_version": "1.2.0",
       "_model_name": "LayoutModel",
       "_view_count": null,
       "_view_module": "@jupyter-widgets/base",
       "_view_module_version": "1.2.0",
       "_view_name": "LayoutView",
       "align_content": null,
       "align_items": null,
       "align_self": null,
       "border": null,
       "bottom": null,
       "display": null,
       "flex": null,
       "flex_flow": null,
       "grid_area": null,
       "grid_auto_columns": null,
       "grid_auto_flow": null,
       "grid_auto_rows": null,
       "grid_column": null,
       "grid_gap": null,
       "grid_row": null,
       "grid_template_areas": null,
       "grid_template_columns": null,
       "grid_template_rows": null,
       "height": null,
       "justify_content": null,
       "justify_items": null,
       "left": null,
       "margin": null,
       "max_height": null,
       "max_width": null,
       "min_height": null,
       "min_width": null,
       "object_fit": null,
       "object_position": null,
       "order": null,
       "overflow": null,
       "overflow_x": null,
       "overflow_y": null,
       "padding": null,
       "right": null,
       "top": null,
       "visibility": null,
       "width": null
      }
     },
     "0719c9d0229d42fcba58072b418da101": {
      "model_module": "@jupyter-widgets/base",
      "model_module_version": "1.2.0",
      "model_name": "LayoutModel",
      "state": {
       "_model_module": "@jupyter-widgets/base",
       "_model_module_version": "1.2.0",
       "_model_name": "LayoutModel",
       "_view_count": null,
       "_view_module": "@jupyter-widgets/base",
       "_view_module_version": "1.2.0",
       "_view_name": "LayoutView",
       "align_content": null,
       "align_items": null,
       "align_self": null,
       "border": null,
       "bottom": null,
       "display": null,
       "flex": null,
       "flex_flow": null,
       "grid_area": null,
       "grid_auto_columns": null,
       "grid_auto_flow": null,
       "grid_auto_rows": null,
       "grid_column": null,
       "grid_gap": null,
       "grid_row": null,
       "grid_template_areas": null,
       "grid_template_columns": null,
       "grid_template_rows": null,
       "height": null,
       "justify_content": null,
       "justify_items": null,
       "left": null,
       "margin": null,
       "max_height": null,
       "max_width": null,
       "min_height": null,
       "min_width": null,
       "object_fit": null,
       "object_position": null,
       "order": null,
       "overflow": null,
       "overflow_x": null,
       "overflow_y": null,
       "padding": null,
       "right": null,
       "top": null,
       "visibility": null,
       "width": null
      }
     },
     "0d8ea23196c84f0da7823de1fd644548": {
      "model_module": "@jupyter-widgets/controls",
      "model_module_version": "1.5.0",
      "model_name": "ButtonModel",
      "state": {
       "_dom_classes": [],
       "_model_module": "@jupyter-widgets/controls",
       "_model_module_version": "1.5.0",
       "_model_name": "ButtonModel",
       "_view_count": null,
       "_view_module": "@jupyter-widgets/controls",
       "_view_module_version": "1.5.0",
       "_view_name": "ButtonView",
       "button_style": "",
       "description": "acrobot",
       "disabled": false,
       "icon": "",
       "layout": "IPY_MODEL_d979c87c55fe464185f3dae6f320cd1c",
       "style": "IPY_MODEL_0fcbe963bf5b456ca3d46a37c184aa92",
       "tooltip": ""
      }
     },
     "0fcbe963bf5b456ca3d46a37c184aa92": {
      "model_module": "@jupyter-widgets/controls",
      "model_module_version": "1.5.0",
      "model_name": "ButtonStyleModel",
      "state": {
       "_model_module": "@jupyter-widgets/controls",
       "_model_module_version": "1.5.0",
       "_model_name": "ButtonStyleModel",
       "_view_count": null,
       "_view_module": "@jupyter-widgets/base",
       "_view_module_version": "1.2.0",
       "_view_name": "StyleView",
       "button_color": null,
       "font_weight": ""
      }
     },
     "108f2a4bbfce4e698decd627e22be82b": {
      "model_module": "@jupyter-widgets/controls",
      "model_module_version": "1.5.0",
      "model_name": "ButtonModel",
      "state": {
       "_dom_classes": [],
       "_model_module": "@jupyter-widgets/controls",
       "_model_module_version": "1.5.0",
       "_model_name": "ButtonModel",
       "_view_count": null,
       "_view_module": "@jupyter-widgets/controls",
       "_view_module_version": "1.5.0",
       "_view_name": "ButtonView",
       "button_style": "",
       "description": "00.0%",
       "disabled": false,
       "icon": "",
       "layout": "IPY_MODEL_c4efca2baa3b46e882e0d77fc9c590cc",
       "style": "IPY_MODEL_430af5381b6842048ae1cfd366c04450",
       "tooltip": ""
      }
     },
     "1093e05d11f2419d98658e46814ee7c5": {
      "model_module": "@jupyter-widgets/base",
      "model_module_version": "1.2.0",
      "model_name": "LayoutModel",
      "state": {
       "_model_module": "@jupyter-widgets/base",
       "_model_module_version": "1.2.0",
       "_model_name": "LayoutModel",
       "_view_count": null,
       "_view_module": "@jupyter-widgets/base",
       "_view_module_version": "1.2.0",
       "_view_name": "LayoutView",
       "align_content": null,
       "align_items": null,
       "align_self": null,
       "border": null,
       "bottom": null,
       "display": "inline-flex",
       "flex": null,
       "flex_flow": "row wrap",
       "grid_area": null,
       "grid_auto_columns": null,
       "grid_auto_flow": null,
       "grid_auto_rows": null,
       "grid_column": null,
       "grid_gap": null,
       "grid_row": null,
       "grid_template_areas": null,
       "grid_template_columns": null,
       "grid_template_rows": null,
       "height": null,
       "justify_content": null,
       "justify_items": null,
       "left": null,
       "margin": null,
       "max_height": null,
       "max_width": null,
       "min_height": null,
       "min_width": null,
       "object_fit": null,
       "object_position": null,
       "order": null,
       "overflow": null,
       "overflow_x": null,
       "overflow_y": null,
       "padding": null,
       "right": null,
       "top": null,
       "visibility": null,
       "width": "100%"
      }
     },
     "10c27de22f3049b093b017e7e053543f": {
      "model_module": "@jupyter-widgets/controls",
      "model_module_version": "1.5.0",
      "model_name": "HBoxModel",
      "state": {
       "_dom_classes": [],
       "_model_module": "@jupyter-widgets/controls",
       "_model_module_version": "1.5.0",
       "_model_name": "HBoxModel",
       "_view_count": null,
       "_view_module": "@jupyter-widgets/controls",
       "_view_module_version": "1.5.0",
       "_view_name": "HBoxView",
       "box_style": "",
       "children": [
        "IPY_MODEL_2dd76e0903814266b7271e0a07d0036a",
        "IPY_MODEL_dd74806209c84abeb4cabad05fc9ac7d"
       ],
       "layout": "IPY_MODEL_eabfb1a659d84a2f84a88ead7d4de805"
      }
     },
     "11953ae381ab43cbb2a63c624397a5b2": {
      "model_module": "@jupyter-widgets/controls",
      "model_module_version": "1.5.0",
      "model_name": "ButtonStyleModel",
      "state": {
       "_model_module": "@jupyter-widgets/controls",
       "_model_module_version": "1.5.0",
       "_model_name": "ButtonStyleModel",
       "_view_count": null,
       "_view_module": "@jupyter-widgets/base",
       "_view_module_version": "1.2.0",
       "_view_name": "StyleView",
       "button_color": null,
       "font_weight": ""
      }
     },
     "14645daaf250413c875b77766683593c": {
      "model_module": "@jupyter-widgets/base",
      "model_module_version": "1.2.0",
      "model_name": "LayoutModel",
      "state": {
       "_model_module": "@jupyter-widgets/base",
       "_model_module_version": "1.2.0",
       "_model_name": "LayoutModel",
       "_view_count": null,
       "_view_module": "@jupyter-widgets/base",
       "_view_module_version": "1.2.0",
       "_view_name": "LayoutView",
       "align_content": null,
       "align_items": null,
       "align_self": null,
       "border": null,
       "bottom": null,
       "display": null,
       "flex": "2",
       "flex_flow": null,
       "grid_area": null,
       "grid_auto_columns": null,
       "grid_auto_flow": null,
       "grid_auto_rows": null,
       "grid_column": null,
       "grid_gap": null,
       "grid_row": null,
       "grid_template_areas": null,
       "grid_template_columns": null,
       "grid_template_rows": null,
       "height": null,
       "justify_content": null,
       "justify_items": null,
       "left": null,
       "margin": null,
       "max_height": null,
       "max_width": null,
       "min_height": null,
       "min_width": null,
       "object_fit": null,
       "object_position": null,
       "order": null,
       "overflow": null,
       "overflow_x": null,
       "overflow_y": null,
       "padding": null,
       "right": null,
       "top": null,
       "visibility": null,
       "width": null
      }
     },
     "14da2f0e02844c8b9101f1f2b3ec6b7a": {
      "model_module": "@jupyter-widgets/controls",
      "model_module_version": "1.5.0",
      "model_name": "ButtonModel",
      "state": {
       "_dom_classes": [],
       "_model_module": "@jupyter-widgets/controls",
       "_model_module_version": "1.5.0",
       "_model_name": "ButtonModel",
       "_view_count": null,
       "_view_module": "@jupyter-widgets/controls",
       "_view_module_version": "1.5.0",
       "_view_name": "ButtonView",
       "button_style": "",
       "description": "100.0%",
       "disabled": false,
       "icon": "",
       "layout": "IPY_MODEL_d7795268bee448098d98a15407017057",
       "style": "IPY_MODEL_aea7f58f513b4604b90af5377819ad9c",
       "tooltip": ""
      }
     },
     "14ebdb0dcf824679842134ecf1f5411c": {
      "model_module": "@jupyter-widgets/base",
      "model_module_version": "1.2.0",
      "model_name": "LayoutModel",
      "state": {
       "_model_module": "@jupyter-widgets/base",
       "_model_module_version": "1.2.0",
       "_model_name": "LayoutModel",
       "_view_count": null,
       "_view_module": "@jupyter-widgets/base",
       "_view_module_version": "1.2.0",
       "_view_name": "LayoutView",
       "align_content": null,
       "align_items": null,
       "align_self": null,
       "border": null,
       "bottom": null,
       "display": null,
       "flex": null,
       "flex_flow": null,
       "grid_area": null,
       "grid_auto_columns": null,
       "grid_auto_flow": null,
       "grid_auto_rows": null,
       "grid_column": null,
       "grid_gap": null,
       "grid_row": null,
       "grid_template_areas": null,
       "grid_template_columns": null,
       "grid_template_rows": null,
       "height": null,
       "justify_content": null,
       "justify_items": null,
       "left": null,
       "margin": null,
       "max_height": null,
       "max_width": null,
       "min_height": null,
       "min_width": null,
       "object_fit": null,
       "object_position": null,
       "order": null,
       "overflow": null,
       "overflow_x": null,
       "overflow_y": null,
       "padding": null,
       "right": null,
       "top": null,
       "visibility": null,
       "width": null
      }
     },
     "172dc13ded6742ddb4e34cfdfc0ce1be": {
      "model_module": "@jupyter-widgets/controls",
      "model_module_version": "1.5.0",
      "model_name": "HTMLModel",
      "state": {
       "_dom_classes": [],
       "_model_module": "@jupyter-widgets/controls",
       "_model_module_version": "1.5.0",
       "_model_name": "HTMLModel",
       "_view_count": null,
       "_view_module": "@jupyter-widgets/controls",
       "_view_module_version": "1.5.0",
       "_view_name": "HTMLView",
       "description": "",
       "description_tooltip": null,
       "layout": "IPY_MODEL_f6ab563953894ea99c96769e0d9b8da8",
       "placeholder": "​",
       "style": "IPY_MODEL_3d5cb166f73e4c60ad43dfa132a19ba1",
       "value": " 1500000/1500000 [41:08&lt;00:00, 607.61it/s]"
      }
     },
     "18142ddf08fe400f98d5db0d72aacb30": {
      "model_module": "@jupyter-widgets/controls",
      "model_module_version": "1.5.0",
      "model_name": "ButtonModel",
      "state": {
       "_dom_classes": [],
       "_model_module": "@jupyter-widgets/controls",
       "_model_module_version": "1.5.0",
       "_model_name": "ButtonModel",
       "_view_count": null,
       "_view_module": "@jupyter-widgets/controls",
       "_view_module_version": "1.5.0",
       "_view_name": "ButtonView",
       "button_style": "",
       "description": "50.0%",
       "disabled": false,
       "icon": "",
       "layout": "IPY_MODEL_68d20cd15e4e41d1b77168807e3efda7",
       "style": "IPY_MODEL_6fdc39f84da54a17b0d09fcd69f9ef4f",
       "tooltip": ""
      }
     },
     "1a133c2dcecd415199320620653cd731": {
      "model_module": "@jupyter-widgets/base",
      "model_module_version": "1.2.0",
      "model_name": "LayoutModel",
      "state": {
       "_model_module": "@jupyter-widgets/base",
       "_model_module_version": "1.2.0",
       "_model_name": "LayoutModel",
       "_view_count": null,
       "_view_module": "@jupyter-widgets/base",
       "_view_module_version": "1.2.0",
       "_view_name": "LayoutView",
       "align_content": null,
       "align_items": null,
       "align_self": null,
       "border": null,
       "bottom": null,
       "display": null,
       "flex": null,
       "flex_flow": null,
       "grid_area": null,
       "grid_auto_columns": null,
       "grid_auto_flow": null,
       "grid_auto_rows": null,
       "grid_column": null,
       "grid_gap": null,
       "grid_row": null,
       "grid_template_areas": null,
       "grid_template_columns": null,
       "grid_template_rows": null,
       "height": null,
       "justify_content": null,
       "justify_items": null,
       "left": null,
       "margin": null,
       "max_height": null,
       "max_width": null,
       "min_height": null,
       "min_width": null,
       "object_fit": null,
       "object_position": null,
       "order": null,
       "overflow": null,
       "overflow_x": null,
       "overflow_y": null,
       "padding": null,
       "right": null,
       "top": null,
       "visibility": null,
       "width": null
      }
     },
     "1bc404ec873e4c9c833a621b13534041": {
      "model_module": "@jupyter-widgets/base",
      "model_module_version": "1.2.0",
      "model_name": "LayoutModel",
      "state": {
       "_model_module": "@jupyter-widgets/base",
       "_model_module_version": "1.2.0",
       "_model_name": "LayoutModel",
       "_view_count": null,
       "_view_module": "@jupyter-widgets/base",
       "_view_module_version": "1.2.0",
       "_view_name": "LayoutView",
       "align_content": null,
       "align_items": null,
       "align_self": null,
       "border": null,
       "bottom": null,
       "display": "inline-flex",
       "flex": null,
       "flex_flow": "row wrap",
       "grid_area": null,
       "grid_auto_columns": null,
       "grid_auto_flow": null,
       "grid_auto_rows": null,
       "grid_column": null,
       "grid_gap": null,
       "grid_row": null,
       "grid_template_areas": null,
       "grid_template_columns": null,
       "grid_template_rows": null,
       "height": null,
       "justify_content": null,
       "justify_items": null,
       "left": null,
       "margin": null,
       "max_height": null,
       "max_width": null,
       "min_height": null,
       "min_width": null,
       "object_fit": null,
       "object_position": null,
       "order": null,
       "overflow": null,
       "overflow_x": null,
       "overflow_y": null,
       "padding": null,
       "right": null,
       "top": null,
       "visibility": null,
       "width": "100%"
      }
     },
     "1e1ab65f81e546a6bcec2d9ad14dc981": {
      "model_module": "@jupyter-widgets/controls",
      "model_module_version": "1.5.0",
      "model_name": "HBoxModel",
      "state": {
       "_dom_classes": [],
       "_model_module": "@jupyter-widgets/controls",
       "_model_module_version": "1.5.0",
       "_model_name": "HBoxModel",
       "_view_count": null,
       "_view_module": "@jupyter-widgets/controls",
       "_view_module_version": "1.5.0",
       "_view_name": "HBoxView",
       "box_style": "",
       "children": [
        "IPY_MODEL_6e428b8a731f4634a8b0ff5686609c26",
        "IPY_MODEL_1fa0adaa48ee41869aac33581ca7c8f3"
       ],
       "layout": "IPY_MODEL_1093e05d11f2419d98658e46814ee7c5"
      }
     },
     "1fa0adaa48ee41869aac33581ca7c8f3": {
      "model_module": "@jupyter-widgets/controls",
      "model_module_version": "1.5.0",
      "model_name": "HTMLModel",
      "state": {
       "_dom_classes": [],
       "_model_module": "@jupyter-widgets/controls",
       "_model_module_version": "1.5.0",
       "_model_name": "HTMLModel",
       "_view_count": null,
       "_view_module": "@jupyter-widgets/controls",
       "_view_module_version": "1.5.0",
       "_view_name": "HTMLView",
       "description": "",
       "description_tooltip": null,
       "layout": "IPY_MODEL_fa0f91f254cb4e9ab548d1972bf8140c",
       "placeholder": "​",
       "style": "IPY_MODEL_8434e3aa420947548487873b56ac4308",
       "value": " 1500000/1500000 [44:50&lt;00:00, 557.55it/s]"
      }
     },
     "1fb11726ea6f4e49bf4b935cd32b65b1": {
      "model_module": "@jupyter-widgets/base",
      "model_module_version": "1.2.0",
      "model_name": "LayoutModel",
      "state": {
       "_model_module": "@jupyter-widgets/base",
       "_model_module_version": "1.2.0",
       "_model_name": "LayoutModel",
       "_view_count": null,
       "_view_module": "@jupyter-widgets/base",
       "_view_module_version": "1.2.0",
       "_view_name": "LayoutView",
       "align_content": null,
       "align_items": null,
       "align_self": null,
       "border": null,
       "bottom": null,
       "display": null,
       "flex": "2",
       "flex_flow": null,
       "grid_area": null,
       "grid_auto_columns": null,
       "grid_auto_flow": null,
       "grid_auto_rows": null,
       "grid_column": null,
       "grid_gap": null,
       "grid_row": null,
       "grid_template_areas": null,
       "grid_template_columns": null,
       "grid_template_rows": null,
       "height": null,
       "justify_content": null,
       "justify_items": null,
       "left": null,
       "margin": null,
       "max_height": null,
       "max_width": null,
       "min_height": null,
       "min_width": null,
       "object_fit": null,
       "object_position": null,
       "order": null,
       "overflow": null,
       "overflow_x": null,
       "overflow_y": null,
       "padding": null,
       "right": null,
       "top": null,
       "visibility": null,
       "width": null
      }
     },
     "20f15f9db6204786bf12da1c02b8818c": {
      "model_module": "@jupyter-widgets/controls",
      "model_module_version": "1.5.0",
      "model_name": "ButtonModel",
      "state": {
       "_dom_classes": [],
       "_model_module": "@jupyter-widgets/controls",
       "_model_module_version": "1.5.0",
       "_model_name": "ButtonModel",
       "_view_count": null,
       "_view_module": "@jupyter-widgets/controls",
       "_view_module_version": "1.5.0",
       "_view_name": "ButtonView",
       "button_style": "",
       "description": "00.0%",
       "disabled": false,
       "icon": "",
       "layout": "IPY_MODEL_af90bf837dca4751a3ffd777ff142b79",
       "style": "IPY_MODEL_bf88c8d1f7f94cf491ab243012da0e20",
       "tooltip": ""
      }
     },
     "25e2cecd2ac24386ba16b36030a52314": {
      "model_module": "@jupyter-widgets/base",
      "model_module_version": "1.2.0",
      "model_name": "LayoutModel",
      "state": {
       "_model_module": "@jupyter-widgets/base",
       "_model_module_version": "1.2.0",
       "_model_name": "LayoutModel",
       "_view_count": null,
       "_view_module": "@jupyter-widgets/base",
       "_view_module_version": "1.2.0",
       "_view_name": "LayoutView",
       "align_content": null,
       "align_items": null,
       "align_self": null,
       "border": null,
       "bottom": null,
       "display": "inline-flex",
       "flex": null,
       "flex_flow": "row wrap",
       "grid_area": null,
       "grid_auto_columns": null,
       "grid_auto_flow": null,
       "grid_auto_rows": null,
       "grid_column": null,
       "grid_gap": null,
       "grid_row": null,
       "grid_template_areas": null,
       "grid_template_columns": null,
       "grid_template_rows": null,
       "height": null,
       "justify_content": null,
       "justify_items": null,
       "left": null,
       "margin": null,
       "max_height": null,
       "max_width": null,
       "min_height": null,
       "min_width": null,
       "object_fit": null,
       "object_position": null,
       "order": null,
       "overflow": null,
       "overflow_x": null,
       "overflow_y": null,
       "padding": null,
       "right": null,
       "top": null,
       "visibility": null,
       "width": "100%"
      }
     },
     "27a5daaaa01743ed9fb5ec7575fe23c2": {
      "model_module": "@jupyter-widgets/controls",
      "model_module_version": "1.5.0",
      "model_name": "ButtonModel",
      "state": {
       "_dom_classes": [],
       "_model_module": "@jupyter-widgets/controls",
       "_model_module_version": "1.5.0",
       "_model_name": "ButtonModel",
       "_view_count": null,
       "_view_module": "@jupyter-widgets/controls",
       "_view_module_version": "1.5.0",
       "_view_name": "ButtonView",
       "button_style": "",
       "description": "00.0%",
       "disabled": false,
       "icon": "",
       "layout": "IPY_MODEL_0719c9d0229d42fcba58072b418da101",
       "style": "IPY_MODEL_64c8c27c8df24648a363acf384379085",
       "tooltip": ""
      }
     },
     "2bf8499868e34f6db8f68f4ef969b86e": {
      "model_module": "@jupyter-widgets/controls",
      "model_module_version": "1.5.0",
      "model_name": "ButtonModel",
      "state": {
       "_dom_classes": [],
       "_model_module": "@jupyter-widgets/controls",
       "_model_module_version": "1.5.0",
       "_model_name": "ButtonModel",
       "_view_count": null,
       "_view_module": "@jupyter-widgets/controls",
       "_view_module_version": "1.5.0",
       "_view_name": "ButtonView",
       "button_style": "",
       "description": "00.0%",
       "disabled": false,
       "icon": "",
       "layout": "IPY_MODEL_4fe667fd60a54f659279567c1dbc6bf3",
       "style": "IPY_MODEL_d7c0edddb1e54345970d8666680694fb",
       "tooltip": ""
      }
     },
     "2dd76e0903814266b7271e0a07d0036a": {
      "model_module": "@jupyter-widgets/controls",
      "model_module_version": "1.5.0",
      "model_name": "IntProgressModel",
      "state": {
       "_dom_classes": [],
       "_model_module": "@jupyter-widgets/controls",
       "_model_module_version": "1.5.0",
       "_model_name": "IntProgressModel",
       "_view_count": null,
       "_view_module": "@jupyter-widgets/controls",
       "_view_module_version": "1.5.0",
       "_view_name": "ProgressView",
       "bar_style": "",
       "description": "Episode: 2719 | Steps: 386 | Return: 257.65 | Epsilon: 0.05:  87%",
       "description_tooltip": null,
       "layout": "IPY_MODEL_a295e0377b7e408084af75f0e9ffe78f",
       "max": 1500000,
       "min": 0,
       "orientation": "horizontal",
       "style": "IPY_MODEL_6883ee1729e9491283936b734b54df33",
       "value": 1312336
      }
     },
     "2eddf868db06498a9ad173eeff46bc33": {
      "model_module": "@jupyter-widgets/controls",
      "model_module_version": "1.5.0",
      "model_name": "ButtonStyleModel",
      "state": {
       "_model_module": "@jupyter-widgets/controls",
       "_model_module_version": "1.5.0",
       "_model_name": "ButtonStyleModel",
       "_view_count": null,
       "_view_module": "@jupyter-widgets/base",
       "_view_module_version": "1.2.0",
       "_view_name": "StyleView",
       "button_color": null,
       "font_weight": ""
      }
     },
     "2f685de22c22454d8ac359967460c8a2": {
      "model_module": "@jupyter-widgets/controls",
      "model_module_version": "1.5.0",
      "model_name": "ButtonStyleModel",
      "state": {
       "_model_module": "@jupyter-widgets/controls",
       "_model_module_version": "1.5.0",
       "_model_name": "ButtonStyleModel",
       "_view_count": null,
       "_view_module": "@jupyter-widgets/base",
       "_view_module_version": "1.2.0",
       "_view_name": "StyleView",
       "button_color": null,
       "font_weight": ""
      }
     },
     "35b94dc92db640069b5182e1e12b2d6b": {
      "model_module": "@jupyter-widgets/controls",
      "model_module_version": "1.5.0",
      "model_name": "IntProgressModel",
      "state": {
       "_dom_classes": [],
       "_model_module": "@jupyter-widgets/controls",
       "_model_module_version": "1.5.0",
       "_model_name": "IntProgressModel",
       "_view_count": null,
       "_view_module": "@jupyter-widgets/controls",
       "_view_module_version": "1.5.0",
       "_view_name": "ProgressView",
       "bar_style": "",
       "description": "Episode: 8158 | Steps: 500 | Return: 500.00 | Epsilon: 0.05:  98%",
       "description_tooltip": null,
       "layout": "IPY_MODEL_1fb11726ea6f4e49bf4b935cd32b65b1",
       "max": 1500000,
       "min": 0,
       "orientation": "horizontal",
       "style": "IPY_MODEL_5e8fe451ea114cea958151ef57a238fd",
       "value": 1463025
      }
     },
     "37184f69a537453687a529a02f127fcc": {
      "model_module": "@jupyter-widgets/base",
      "model_module_version": "1.2.0",
      "model_name": "LayoutModel",
      "state": {
       "_model_module": "@jupyter-widgets/base",
       "_model_module_version": "1.2.0",
       "_model_name": "LayoutModel",
       "_view_count": null,
       "_view_module": "@jupyter-widgets/base",
       "_view_module_version": "1.2.0",
       "_view_name": "LayoutView",
       "align_content": null,
       "align_items": null,
       "align_self": null,
       "border": null,
       "bottom": null,
       "display": null,
       "flex": "2",
       "flex_flow": null,
       "grid_area": null,
       "grid_auto_columns": null,
       "grid_auto_flow": null,
       "grid_auto_rows": null,
       "grid_column": null,
       "grid_gap": null,
       "grid_row": null,
       "grid_template_areas": null,
       "grid_template_columns": null,
       "grid_template_rows": null,
       "height": null,
       "justify_content": null,
       "justify_items": null,
       "left": null,
       "margin": null,
       "max_height": null,
       "max_width": null,
       "min_height": null,
       "min_width": null,
       "object_fit": null,
       "object_position": null,
       "order": null,
       "overflow": null,
       "overflow_x": null,
       "overflow_y": null,
       "padding": null,
       "right": null,
       "top": null,
       "visibility": null,
       "width": null
      }
     },
     "378f41cd11a64d978ce7c59ac01e6816": {
      "model_module": "@jupyter-widgets/controls",
      "model_module_version": "1.5.0",
      "model_name": "ButtonStyleModel",
      "state": {
       "_model_module": "@jupyter-widgets/controls",
       "_model_module_version": "1.5.0",
       "_model_name": "ButtonStyleModel",
       "_view_count": null,
       "_view_module": "@jupyter-widgets/base",
       "_view_module_version": "1.2.0",
       "_view_name": "StyleView",
       "button_color": null,
       "font_weight": ""
      }
     },
     "3b4687c409c94199b19535c09d9c788c": {
      "model_module": "@jupyter-widgets/base",
      "model_module_version": "1.2.0",
      "model_name": "LayoutModel",
      "state": {
       "_model_module": "@jupyter-widgets/base",
       "_model_module_version": "1.2.0",
       "_model_name": "LayoutModel",
       "_view_count": null,
       "_view_module": "@jupyter-widgets/base",
       "_view_module_version": "1.2.0",
       "_view_name": "LayoutView",
       "align_content": null,
       "align_items": null,
       "align_self": null,
       "border": null,
       "bottom": null,
       "display": null,
       "flex": null,
       "flex_flow": null,
       "grid_area": null,
       "grid_auto_columns": null,
       "grid_auto_flow": null,
       "grid_auto_rows": null,
       "grid_column": null,
       "grid_gap": null,
       "grid_row": null,
       "grid_template_areas": null,
       "grid_template_columns": null,
       "grid_template_rows": null,
       "height": null,
       "justify_content": null,
       "justify_items": null,
       "left": null,
       "margin": null,
       "max_height": null,
       "max_width": null,
       "min_height": null,
       "min_width": null,
       "object_fit": null,
       "object_position": null,
       "order": null,
       "overflow": null,
       "overflow_x": null,
       "overflow_y": null,
       "padding": null,
       "right": null,
       "top": null,
       "visibility": null,
       "width": null
      }
     },
     "3c7d8987f4784e1887c422fd8f4f2caa": {
      "model_module": "@jupyter-widgets/controls",
      "model_module_version": "1.5.0",
      "model_name": "ButtonStyleModel",
      "state": {
       "_model_module": "@jupyter-widgets/controls",
       "_model_module_version": "1.5.0",
       "_model_name": "ButtonStyleModel",
       "_view_count": null,
       "_view_module": "@jupyter-widgets/base",
       "_view_module_version": "1.2.0",
       "_view_name": "StyleView",
       "button_color": null,
       "font_weight": ""
      }
     },
     "3cf762cac464440fbe0a6f7e8987f53e": {
      "model_module": "@jupyter-widgets/base",
      "model_module_version": "1.2.0",
      "model_name": "LayoutModel",
      "state": {
       "_model_module": "@jupyter-widgets/base",
       "_model_module_version": "1.2.0",
       "_model_name": "LayoutModel",
       "_view_count": null,
       "_view_module": "@jupyter-widgets/base",
       "_view_module_version": "1.2.0",
       "_view_name": "LayoutView",
       "align_content": null,
       "align_items": null,
       "align_self": null,
       "border": null,
       "bottom": null,
       "display": null,
       "flex": null,
       "flex_flow": null,
       "grid_area": null,
       "grid_auto_columns": null,
       "grid_auto_flow": null,
       "grid_auto_rows": null,
       "grid_column": null,
       "grid_gap": null,
       "grid_row": null,
       "grid_template_areas": null,
       "grid_template_columns": null,
       "grid_template_rows": null,
       "height": null,
       "justify_content": null,
       "justify_items": null,
       "left": null,
       "margin": null,
       "max_height": null,
       "max_width": null,
       "min_height": null,
       "min_width": null,
       "object_fit": null,
       "object_position": null,
       "order": null,
       "overflow": null,
       "overflow_x": null,
       "overflow_y": null,
       "padding": null,
       "right": null,
       "top": null,
       "visibility": null,
       "width": null
      }
     },
     "3d5cb166f73e4c60ad43dfa132a19ba1": {
      "model_module": "@jupyter-widgets/controls",
      "model_module_version": "1.5.0",
      "model_name": "DescriptionStyleModel",
      "state": {
       "_model_module": "@jupyter-widgets/controls",
       "_model_module_version": "1.5.0",
       "_model_name": "DescriptionStyleModel",
       "_view_count": null,
       "_view_module": "@jupyter-widgets/base",
       "_view_module_version": "1.2.0",
       "_view_name": "StyleView",
       "description_width": ""
      }
     },
     "4080a76905d2474e92318126c367ac33": {
      "model_module": "@jupyter-widgets/controls",
      "model_module_version": "1.5.0",
      "model_name": "ButtonModel",
      "state": {
       "_dom_classes": [],
       "_model_module": "@jupyter-widgets/controls",
       "_model_module_version": "1.5.0",
       "_model_name": "ButtonModel",
       "_view_count": null,
       "_view_module": "@jupyter-widgets/controls",
       "_view_module_version": "1.5.0",
       "_view_name": "ButtonView",
       "button_style": "",
       "description": "lunarlander",
       "disabled": false,
       "icon": "",
       "layout": "IPY_MODEL_41ccbd193125419eb12315d38b82c5ef",
       "style": "IPY_MODEL_d62bc173a31b48b5968b6b5bc655e1ab",
       "tooltip": ""
      }
     },
     "41225be4361a4933b7ab31b0fa1d66b8": {
      "model_module": "@jupyter-widgets/controls",
      "model_module_version": "1.5.0",
      "model_name": "DescriptionStyleModel",
      "state": {
       "_model_module": "@jupyter-widgets/controls",
       "_model_module_version": "1.5.0",
       "_model_name": "DescriptionStyleModel",
       "_view_count": null,
       "_view_module": "@jupyter-widgets/base",
       "_view_module_version": "1.2.0",
       "_view_name": "StyleView",
       "description_width": ""
      }
     },
     "41ccbd193125419eb12315d38b82c5ef": {
      "model_module": "@jupyter-widgets/base",
      "model_module_version": "1.2.0",
      "model_name": "LayoutModel",
      "state": {
       "_model_module": "@jupyter-widgets/base",
       "_model_module_version": "1.2.0",
       "_model_name": "LayoutModel",
       "_view_count": null,
       "_view_module": "@jupyter-widgets/base",
       "_view_module_version": "1.2.0",
       "_view_name": "LayoutView",
       "align_content": null,
       "align_items": null,
       "align_self": null,
       "border": null,
       "bottom": null,
       "display": null,
       "flex": null,
       "flex_flow": null,
       "grid_area": null,
       "grid_auto_columns": null,
       "grid_auto_flow": null,
       "grid_auto_rows": null,
       "grid_column": null,
       "grid_gap": null,
       "grid_row": null,
       "grid_template_areas": null,
       "grid_template_columns": null,
       "grid_template_rows": null,
       "height": null,
       "justify_content": null,
       "justify_items": null,
       "left": null,
       "margin": null,
       "max_height": null,
       "max_width": null,
       "min_height": null,
       "min_width": null,
       "object_fit": null,
       "object_position": null,
       "order": null,
       "overflow": null,
       "overflow_x": null,
       "overflow_y": null,
       "padding": null,
       "right": null,
       "top": null,
       "visibility": null,
       "width": null
      }
     },
     "430af5381b6842048ae1cfd366c04450": {
      "model_module": "@jupyter-widgets/controls",
      "model_module_version": "1.5.0",
      "model_name": "ButtonStyleModel",
      "state": {
       "_model_module": "@jupyter-widgets/controls",
       "_model_module_version": "1.5.0",
       "_model_name": "ButtonStyleModel",
       "_view_count": null,
       "_view_module": "@jupyter-widgets/base",
       "_view_module_version": "1.2.0",
       "_view_name": "StyleView",
       "button_color": null,
       "font_weight": ""
      }
     },
     "443a7099c02743c9b549f91d58a598df": {
      "model_module": "@jupyter-widgets/controls",
      "model_module_version": "1.5.0",
      "model_name": "HBoxModel",
      "state": {
       "_dom_classes": [],
       "_model_module": "@jupyter-widgets/controls",
       "_model_module_version": "1.5.0",
       "_model_name": "HBoxModel",
       "_view_count": null,
       "_view_module": "@jupyter-widgets/controls",
       "_view_module_version": "1.5.0",
       "_view_name": "HBoxView",
       "box_style": "",
       "children": [
        "IPY_MODEL_27a5daaaa01743ed9fb5ec7575fe23c2",
        "IPY_MODEL_b8c3347aa1a2406f8fdfcd23a8fd056c",
        "IPY_MODEL_18142ddf08fe400f98d5db0d72aacb30",
        "IPY_MODEL_964c1fd12c9b40fa907695c502f4682f",
        "IPY_MODEL_64afbeffcdbb49bf9b7e78b2c684106c"
       ],
       "layout": "IPY_MODEL_5580fcbe05e74e378ff6a8332ca0d8d1"
      }
     },
     "47ae032e0cd046f9af2876318a3d3d16": {
      "model_module": "@jupyter-widgets/controls",
      "model_module_version": "1.5.0",
      "model_name": "HBoxModel",
      "state": {
       "_dom_classes": [],
       "_model_module": "@jupyter-widgets/controls",
       "_model_module_version": "1.5.0",
       "_model_name": "HBoxModel",
       "_view_count": null,
       "_view_module": "@jupyter-widgets/controls",
       "_view_module_version": "1.5.0",
       "_view_name": "HBoxView",
       "box_style": "",
       "children": [
        "IPY_MODEL_35b94dc92db640069b5182e1e12b2d6b",
        "IPY_MODEL_f0405f22aee4490c828cf20d465d5805"
       ],
       "layout": "IPY_MODEL_25e2cecd2ac24386ba16b36030a52314"
      }
     },
     "488af0ba7ad2454f991055f5046ea08b": {
      "model_module": "@jupyter-widgets/controls",
      "model_module_version": "1.5.0",
      "model_name": "ButtonStyleModel",
      "state": {
       "_model_module": "@jupyter-widgets/controls",
       "_model_module_version": "1.5.0",
       "_model_name": "ButtonStyleModel",
       "_view_count": null,
       "_view_module": "@jupyter-widgets/base",
       "_view_module_version": "1.2.0",
       "_view_name": "StyleView",
       "button_color": null,
       "font_weight": ""
      }
     },
     "4b405606fcc5474ab22cecfb7ee38889": {
      "model_module": "@jupyter-widgets/controls",
      "model_module_version": "1.5.0",
      "model_name": "ButtonModel",
      "state": {
       "_dom_classes": [],
       "_model_module": "@jupyter-widgets/controls",
       "_model_module_version": "1.5.0",
       "_model_name": "ButtonModel",
       "_view_count": null,
       "_view_module": "@jupyter-widgets/controls",
       "_view_module_version": "1.5.0",
       "_view_name": "ButtonView",
       "button_style": "",
       "description": "100.0%",
       "disabled": false,
       "icon": "",
       "layout": "IPY_MODEL_dcc72758ee124a88844993dfd2a5cc88",
       "style": "IPY_MODEL_d0e8a40ea4e7412aa310416965883c13",
       "tooltip": ""
      }
     },
     "4fe667fd60a54f659279567c1dbc6bf3": {
      "model_module": "@jupyter-widgets/base",
      "model_module_version": "1.2.0",
      "model_name": "LayoutModel",
      "state": {
       "_model_module": "@jupyter-widgets/base",
       "_model_module_version": "1.2.0",
       "_model_name": "LayoutModel",
       "_view_count": null,
       "_view_module": "@jupyter-widgets/base",
       "_view_module_version": "1.2.0",
       "_view_name": "LayoutView",
       "align_content": null,
       "align_items": null,
       "align_self": null,
       "border": null,
       "bottom": null,
       "display": null,
       "flex": null,
       "flex_flow": null,
       "grid_area": null,
       "grid_auto_columns": null,
       "grid_auto_flow": null,
       "grid_auto_rows": null,
       "grid_column": null,
       "grid_gap": null,
       "grid_row": null,
       "grid_template_areas": null,
       "grid_template_columns": null,
       "grid_template_rows": null,
       "height": null,
       "justify_content": null,
       "justify_items": null,
       "left": null,
       "margin": null,
       "max_height": null,
       "max_width": null,
       "min_height": null,
       "min_width": null,
       "object_fit": null,
       "object_position": null,
       "order": null,
       "overflow": null,
       "overflow_x": null,
       "overflow_y": null,
       "padding": null,
       "right": null,
       "top": null,
       "visibility": null,
       "width": null
      }
     },
     "557d0c4420f9424aa49bb55e1d3688e5": {
      "model_module": "@jupyter-widgets/base",
      "model_module_version": "1.2.0",
      "model_name": "LayoutModel",
      "state": {
       "_model_module": "@jupyter-widgets/base",
       "_model_module_version": "1.2.0",
       "_model_name": "LayoutModel",
       "_view_count": null,
       "_view_module": "@jupyter-widgets/base",
       "_view_module_version": "1.2.0",
       "_view_name": "LayoutView",
       "align_content": null,
       "align_items": null,
       "align_self": null,
       "border": null,
       "bottom": null,
       "display": null,
       "flex": null,
       "flex_flow": null,
       "grid_area": null,
       "grid_auto_columns": null,
       "grid_auto_flow": null,
       "grid_auto_rows": null,
       "grid_column": null,
       "grid_gap": null,
       "grid_row": null,
       "grid_template_areas": null,
       "grid_template_columns": null,
       "grid_template_rows": null,
       "height": null,
       "justify_content": null,
       "justify_items": null,
       "left": null,
       "margin": null,
       "max_height": null,
       "max_width": null,
       "min_height": null,
       "min_width": null,
       "object_fit": null,
       "object_position": null,
       "order": null,
       "overflow": null,
       "overflow_x": null,
       "overflow_y": null,
       "padding": null,
       "right": null,
       "top": null,
       "visibility": null,
       "width": null
      }
     },
     "5580fcbe05e74e378ff6a8332ca0d8d1": {
      "model_module": "@jupyter-widgets/base",
      "model_module_version": "1.2.0",
      "model_name": "LayoutModel",
      "state": {
       "_model_module": "@jupyter-widgets/base",
       "_model_module_version": "1.2.0",
       "_model_name": "LayoutModel",
       "_view_count": null,
       "_view_module": "@jupyter-widgets/base",
       "_view_module_version": "1.2.0",
       "_view_name": "LayoutView",
       "align_content": null,
       "align_items": null,
       "align_self": null,
       "border": null,
       "bottom": null,
       "display": null,
       "flex": null,
       "flex_flow": null,
       "grid_area": null,
       "grid_auto_columns": null,
       "grid_auto_flow": null,
       "grid_auto_rows": null,
       "grid_column": null,
       "grid_gap": null,
       "grid_row": null,
       "grid_template_areas": null,
       "grid_template_columns": null,
       "grid_template_rows": null,
       "height": null,
       "justify_content": null,
       "justify_items": null,
       "left": null,
       "margin": null,
       "max_height": null,
       "max_width": null,
       "min_height": null,
       "min_width": null,
       "object_fit": null,
       "object_position": null,
       "order": null,
       "overflow": null,
       "overflow_x": null,
       "overflow_y": null,
       "padding": null,
       "right": null,
       "top": null,
       "visibility": null,
       "width": null
      }
     },
     "5811a9700bbb4f3aa08d110527923b83": {
      "model_module": "@jupyter-widgets/controls",
      "model_module_version": "1.5.0",
      "model_name": "HBoxModel",
      "state": {
       "_dom_classes": [],
       "_model_module": "@jupyter-widgets/controls",
       "_model_module_version": "1.5.0",
       "_model_name": "HBoxModel",
       "_view_count": null,
       "_view_module": "@jupyter-widgets/controls",
       "_view_module_version": "1.5.0",
       "_view_name": "HBoxView",
       "box_style": "",
       "children": [
        "IPY_MODEL_2bf8499868e34f6db8f68f4ef969b86e",
        "IPY_MODEL_6132949b90db46298fec772e2aa48587",
        "IPY_MODEL_b5ac0abe0f2b4b129a1d9be83441552d",
        "IPY_MODEL_8ed603d1ddfd431095ffd89900db1714",
        "IPY_MODEL_4b405606fcc5474ab22cecfb7ee38889"
       ],
       "layout": "IPY_MODEL_920116df058f4d9f958e62ec5622ae4f"
      }
     },
     "5e8fe451ea114cea958151ef57a238fd": {
      "model_module": "@jupyter-widgets/controls",
      "model_module_version": "1.5.0",
      "model_name": "ProgressStyleModel",
      "state": {
       "_model_module": "@jupyter-widgets/controls",
       "_model_module_version": "1.5.0",
       "_model_name": "ProgressStyleModel",
       "_view_count": null,
       "_view_module": "@jupyter-widgets/base",
       "_view_module_version": "1.2.0",
       "_view_name": "StyleView",
       "bar_color": null,
       "description_width": "initial"
      }
     },
     "6132949b90db46298fec772e2aa48587": {
      "model_module": "@jupyter-widgets/controls",
      "model_module_version": "1.5.0",
      "model_name": "ButtonModel",
      "state": {
       "_dom_classes": [],
       "_model_module": "@jupyter-widgets/controls",
       "_model_module_version": "1.5.0",
       "_model_name": "ButtonModel",
       "_view_count": null,
       "_view_module": "@jupyter-widgets/controls",
       "_view_module_version": "1.5.0",
       "_view_name": "ButtonView",
       "button_style": "",
       "description": "25.0%",
       "disabled": false,
       "icon": "",
       "layout": "IPY_MODEL_63fb9bad79dd44e5ae577156ee029df5",
       "style": "IPY_MODEL_f2e3fc3956b84ba3a5e32565bf1b7131",
       "tooltip": ""
      }
     },
     "61904b27b4fb41c080cc21838f649957": {
      "model_module": "@jupyter-widgets/controls",
      "model_module_version": "1.5.0",
      "model_name": "ButtonModel",
      "state": {
       "_dom_classes": [],
       "_model_module": "@jupyter-widgets/controls",
       "_model_module_version": "1.5.0",
       "_model_name": "ButtonModel",
       "_view_count": null,
       "_view_module": "@jupyter-widgets/controls",
       "_view_module_version": "1.5.0",
       "_view_name": "ButtonView",
       "button_style": "",
       "description": "25.0%",
       "disabled": false,
       "icon": "",
       "layout": "IPY_MODEL_afdbd60d068942918dfa1ca61d5d69f7",
       "style": "IPY_MODEL_3c7d8987f4784e1887c422fd8f4f2caa",
       "tooltip": ""
      }
     },
     "6387a3efbbae41d49e475af0f2b20c3b": {
      "model_module": "@jupyter-widgets/controls",
      "model_module_version": "1.5.0",
      "model_name": "ButtonModel",
      "state": {
       "_dom_classes": [],
       "_model_module": "@jupyter-widgets/controls",
       "_model_module_version": "1.5.0",
       "_model_name": "ButtonModel",
       "_view_count": null,
       "_view_module": "@jupyter-widgets/controls",
       "_view_module_version": "1.5.0",
       "_view_name": "ButtonView",
       "button_style": "",
       "description": "mountaincar",
       "disabled": false,
       "icon": "",
       "layout": "IPY_MODEL_7276c7552d07412fb8d660fbe0b7cebe",
       "style": "IPY_MODEL_7f480dcd40d641bdacb47d94f6d9c7f7",
       "tooltip": ""
      }
     },
     "63f83b039f1641eb95ebae8ca471cd30": {
      "model_module": "@jupyter-widgets/controls",
      "model_module_version": "1.5.0",
      "model_name": "ButtonStyleModel",
      "state": {
       "_model_module": "@jupyter-widgets/controls",
       "_model_module_version": "1.5.0",
       "_model_name": "ButtonStyleModel",
       "_view_count": null,
       "_view_module": "@jupyter-widgets/base",
       "_view_module_version": "1.2.0",
       "_view_name": "StyleView",
       "button_color": null,
       "font_weight": ""
      }
     },
     "63fb9bad79dd44e5ae577156ee029df5": {
      "model_module": "@jupyter-widgets/base",
      "model_module_version": "1.2.0",
      "model_name": "LayoutModel",
      "state": {
       "_model_module": "@jupyter-widgets/base",
       "_model_module_version": "1.2.0",
       "_model_name": "LayoutModel",
       "_view_count": null,
       "_view_module": "@jupyter-widgets/base",
       "_view_module_version": "1.2.0",
       "_view_name": "LayoutView",
       "align_content": null,
       "align_items": null,
       "align_self": null,
       "border": null,
       "bottom": null,
       "display": null,
       "flex": null,
       "flex_flow": null,
       "grid_area": null,
       "grid_auto_columns": null,
       "grid_auto_flow": null,
       "grid_auto_rows": null,
       "grid_column": null,
       "grid_gap": null,
       "grid_row": null,
       "grid_template_areas": null,
       "grid_template_columns": null,
       "grid_template_rows": null,
       "height": null,
       "justify_content": null,
       "justify_items": null,
       "left": null,
       "margin": null,
       "max_height": null,
       "max_width": null,
       "min_height": null,
       "min_width": null,
       "object_fit": null,
       "object_position": null,
       "order": null,
       "overflow": null,
       "overflow_x": null,
       "overflow_y": null,
       "padding": null,
       "right": null,
       "top": null,
       "visibility": null,
       "width": null
      }
     },
     "64afbeffcdbb49bf9b7e78b2c684106c": {
      "model_module": "@jupyter-widgets/controls",
      "model_module_version": "1.5.0",
      "model_name": "ButtonModel",
      "state": {
       "_dom_classes": [],
       "_model_module": "@jupyter-widgets/controls",
       "_model_module_version": "1.5.0",
       "_model_name": "ButtonModel",
       "_view_count": null,
       "_view_module": "@jupyter-widgets/controls",
       "_view_module_version": "1.5.0",
       "_view_name": "ButtonView",
       "button_style": "",
       "description": "100.0%",
       "disabled": false,
       "icon": "",
       "layout": "IPY_MODEL_d1b4ce169da543bf9af10ba28a4ec5d0",
       "style": "IPY_MODEL_378f41cd11a64d978ce7c59ac01e6816",
       "tooltip": ""
      }
     },
     "64c8c27c8df24648a363acf384379085": {
      "model_module": "@jupyter-widgets/controls",
      "model_module_version": "1.5.0",
      "model_name": "ButtonStyleModel",
      "state": {
       "_model_module": "@jupyter-widgets/controls",
       "_model_module_version": "1.5.0",
       "_model_name": "ButtonStyleModel",
       "_view_count": null,
       "_view_module": "@jupyter-widgets/base",
       "_view_module_version": "1.2.0",
       "_view_name": "StyleView",
       "button_color": null,
       "font_weight": ""
      }
     },
     "682152f5c7374042881e562cf99d43e4": {
      "model_module": "@jupyter-widgets/controls",
      "model_module_version": "1.5.0",
      "model_name": "ButtonStyleModel",
      "state": {
       "_model_module": "@jupyter-widgets/controls",
       "_model_module_version": "1.5.0",
       "_model_name": "ButtonStyleModel",
       "_view_count": null,
       "_view_module": "@jupyter-widgets/base",
       "_view_module_version": "1.2.0",
       "_view_name": "StyleView",
       "button_color": null,
       "font_weight": ""
      }
     },
     "6883ee1729e9491283936b734b54df33": {
      "model_module": "@jupyter-widgets/controls",
      "model_module_version": "1.5.0",
      "model_name": "ProgressStyleModel",
      "state": {
       "_model_module": "@jupyter-widgets/controls",
       "_model_module_version": "1.5.0",
       "_model_name": "ProgressStyleModel",
       "_view_count": null,
       "_view_module": "@jupyter-widgets/base",
       "_view_module_version": "1.2.0",
       "_view_name": "StyleView",
       "bar_color": null,
       "description_width": "initial"
      }
     },
     "68d20cd15e4e41d1b77168807e3efda7": {
      "model_module": "@jupyter-widgets/base",
      "model_module_version": "1.2.0",
      "model_name": "LayoutModel",
      "state": {
       "_model_module": "@jupyter-widgets/base",
       "_model_module_version": "1.2.0",
       "_model_name": "LayoutModel",
       "_view_count": null,
       "_view_module": "@jupyter-widgets/base",
       "_view_module_version": "1.2.0",
       "_view_name": "LayoutView",
       "align_content": null,
       "align_items": null,
       "align_self": null,
       "border": null,
       "bottom": null,
       "display": null,
       "flex": null,
       "flex_flow": null,
       "grid_area": null,
       "grid_auto_columns": null,
       "grid_auto_flow": null,
       "grid_auto_rows": null,
       "grid_column": null,
       "grid_gap": null,
       "grid_row": null,
       "grid_template_areas": null,
       "grid_template_columns": null,
       "grid_template_rows": null,
       "height": null,
       "justify_content": null,
       "justify_items": null,
       "left": null,
       "margin": null,
       "max_height": null,
       "max_width": null,
       "min_height": null,
       "min_width": null,
       "object_fit": null,
       "object_position": null,
       "order": null,
       "overflow": null,
       "overflow_x": null,
       "overflow_y": null,
       "padding": null,
       "right": null,
       "top": null,
       "visibility": null,
       "width": null
      }
     },
     "6b6b92bc8ce24c1fb330d1f4ac292a5d": {
      "model_module": "@jupyter-widgets/controls",
      "model_module_version": "1.5.0",
      "model_name": "ButtonStyleModel",
      "state": {
       "_model_module": "@jupyter-widgets/controls",
       "_model_module_version": "1.5.0",
       "_model_name": "ButtonStyleModel",
       "_view_count": null,
       "_view_module": "@jupyter-widgets/base",
       "_view_module_version": "1.2.0",
       "_view_name": "StyleView",
       "button_color": null,
       "font_weight": ""
      }
     },
     "6dabafab9edb4dc59a66a11661bed7a6": {
      "model_module": "@jupyter-widgets/controls",
      "model_module_version": "1.5.0",
      "model_name": "ButtonStyleModel",
      "state": {
       "_model_module": "@jupyter-widgets/controls",
       "_model_module_version": "1.5.0",
       "_model_name": "ButtonStyleModel",
       "_view_count": null,
       "_view_module": "@jupyter-widgets/base",
       "_view_module_version": "1.2.0",
       "_view_name": "StyleView",
       "button_color": null,
       "font_weight": ""
      }
     },
     "6e428b8a731f4634a8b0ff5686609c26": {
      "model_module": "@jupyter-widgets/controls",
      "model_module_version": "1.5.0",
      "model_name": "IntProgressModel",
      "state": {
       "_dom_classes": [],
       "_model_module": "@jupyter-widgets/controls",
       "_model_module_version": "1.5.0",
       "_model_name": "IntProgressModel",
       "_view_count": null,
       "_view_module": "@jupyter-widgets/controls",
       "_view_module_version": "1.5.0",
       "_view_name": "ProgressView",
       "bar_style": "",
       "description": "Episode: 9733 | Steps: 102 | Return: -101.00 | Epsilon: 0.05:  94%",
       "description_tooltip": null,
       "layout": "IPY_MODEL_14645daaf250413c875b77766683593c",
       "max": 1500000,
       "min": 0,
       "orientation": "horizontal",
       "style": "IPY_MODEL_fbc5f200d0b34a88bfb12ca4ad37dee4",
       "value": 1413881
      }
     },
     "6fdc39f84da54a17b0d09fcd69f9ef4f": {
      "model_module": "@jupyter-widgets/controls",
      "model_module_version": "1.5.0",
      "model_name": "ButtonStyleModel",
      "state": {
       "_model_module": "@jupyter-widgets/controls",
       "_model_module_version": "1.5.0",
       "_model_name": "ButtonStyleModel",
       "_view_count": null,
       "_view_module": "@jupyter-widgets/base",
       "_view_module_version": "1.2.0",
       "_view_name": "StyleView",
       "button_color": null,
       "font_weight": ""
      }
     },
     "7276c7552d07412fb8d660fbe0b7cebe": {
      "model_module": "@jupyter-widgets/base",
      "model_module_version": "1.2.0",
      "model_name": "LayoutModel",
      "state": {
       "_model_module": "@jupyter-widgets/base",
       "_model_module_version": "1.2.0",
       "_model_name": "LayoutModel",
       "_view_count": null,
       "_view_module": "@jupyter-widgets/base",
       "_view_module_version": "1.2.0",
       "_view_name": "LayoutView",
       "align_content": null,
       "align_items": null,
       "align_self": null,
       "border": null,
       "bottom": null,
       "display": null,
       "flex": null,
       "flex_flow": null,
       "grid_area": null,
       "grid_auto_columns": null,
       "grid_auto_flow": null,
       "grid_auto_rows": null,
       "grid_column": null,
       "grid_gap": null,
       "grid_row": null,
       "grid_template_areas": null,
       "grid_template_columns": null,
       "grid_template_rows": null,
       "height": null,
       "justify_content": null,
       "justify_items": null,
       "left": null,
       "margin": null,
       "max_height": null,
       "max_width": null,
       "min_height": null,
       "min_width": null,
       "object_fit": null,
       "object_position": null,
       "order": null,
       "overflow": null,
       "overflow_x": null,
       "overflow_y": null,
       "padding": null,
       "right": null,
       "top": null,
       "visibility": null,
       "width": null
      }
     },
     "7325c2a283274b15926b3d1c4f9ec9a1": {
      "model_module": "@jupyter-widgets/base",
      "model_module_version": "1.2.0",
      "model_name": "LayoutModel",
      "state": {
       "_model_module": "@jupyter-widgets/base",
       "_model_module_version": "1.2.0",
       "_model_name": "LayoutModel",
       "_view_count": null,
       "_view_module": "@jupyter-widgets/base",
       "_view_module_version": "1.2.0",
       "_view_name": "LayoutView",
       "align_content": null,
       "align_items": null,
       "align_self": null,
       "border": null,
       "bottom": null,
       "display": null,
       "flex": null,
       "flex_flow": null,
       "grid_area": null,
       "grid_auto_columns": null,
       "grid_auto_flow": null,
       "grid_auto_rows": null,
       "grid_column": null,
       "grid_gap": null,
       "grid_row": null,
       "grid_template_areas": null,
       "grid_template_columns": null,
       "grid_template_rows": null,
       "height": null,
       "justify_content": null,
       "justify_items": null,
       "left": null,
       "margin": null,
       "max_height": null,
       "max_width": null,
       "min_height": null,
       "min_width": null,
       "object_fit": null,
       "object_position": null,
       "order": null,
       "overflow": null,
       "overflow_x": null,
       "overflow_y": null,
       "padding": null,
       "right": null,
       "top": null,
       "visibility": null,
       "width": null
      }
     },
     "75f57fee0df54696a62b993b89ad76b2": {
      "model_module": "@jupyter-widgets/controls",
      "model_module_version": "1.5.0",
      "model_name": "ButtonModel",
      "state": {
       "_dom_classes": [],
       "_model_module": "@jupyter-widgets/controls",
       "_model_module_version": "1.5.0",
       "_model_name": "ButtonModel",
       "_view_count": null,
       "_view_module": "@jupyter-widgets/controls",
       "_view_module_version": "1.5.0",
       "_view_name": "ButtonView",
       "button_style": "",
       "description": "100.0%",
       "disabled": false,
       "icon": "",
       "layout": "IPY_MODEL_f46ee6d99efa49c38be7cf818453d0b5",
       "style": "IPY_MODEL_488af0ba7ad2454f991055f5046ea08b",
       "tooltip": ""
      }
     },
     "78b52f068d5641f48f678edab8dd187d": {
      "model_module": "@jupyter-widgets/controls",
      "model_module_version": "1.5.0",
      "model_name": "ButtonModel",
      "state": {
       "_dom_classes": [],
       "_model_module": "@jupyter-widgets/controls",
       "_model_module_version": "1.5.0",
       "_model_name": "ButtonModel",
       "_view_count": null,
       "_view_module": "@jupyter-widgets/controls",
       "_view_module_version": "1.5.0",
       "_view_name": "ButtonView",
       "button_style": "",
       "description": "75.0%",
       "disabled": false,
       "icon": "",
       "layout": "IPY_MODEL_03c6167509ea4711b4413186e194f1b7",
       "style": "IPY_MODEL_2eddf868db06498a9ad173eeff46bc33",
       "tooltip": ""
      }
     },
     "7acc5a9430834923bb413600a1ff4a3f": {
      "model_module": "@jupyter-widgets/controls",
      "model_module_version": "1.5.0",
      "model_name": "ButtonStyleModel",
      "state": {
       "_model_module": "@jupyter-widgets/controls",
       "_model_module_version": "1.5.0",
       "_model_name": "ButtonStyleModel",
       "_view_count": null,
       "_view_module": "@jupyter-widgets/base",
       "_view_module_version": "1.2.0",
       "_view_name": "StyleView",
       "button_color": null,
       "font_weight": ""
      }
     },
     "7cc1e9d61a7842b7b30943c67cb0a35a": {
      "model_module": "@jupyter-widgets/base",
      "model_module_version": "1.2.0",
      "model_name": "LayoutModel",
      "state": {
       "_model_module": "@jupyter-widgets/base",
       "_model_module_version": "1.2.0",
       "_model_name": "LayoutModel",
       "_view_count": null,
       "_view_module": "@jupyter-widgets/base",
       "_view_module_version": "1.2.0",
       "_view_name": "LayoutView",
       "align_content": null,
       "align_items": null,
       "align_self": null,
       "border": null,
       "bottom": null,
       "display": null,
       "flex": null,
       "flex_flow": null,
       "grid_area": null,
       "grid_auto_columns": null,
       "grid_auto_flow": null,
       "grid_auto_rows": null,
       "grid_column": null,
       "grid_gap": null,
       "grid_row": null,
       "grid_template_areas": null,
       "grid_template_columns": null,
       "grid_template_rows": null,
       "height": null,
       "justify_content": null,
       "justify_items": null,
       "left": null,
       "margin": null,
       "max_height": null,
       "max_width": null,
       "min_height": null,
       "min_width": null,
       "object_fit": null,
       "object_position": null,
       "order": null,
       "overflow": null,
       "overflow_x": null,
       "overflow_y": null,
       "padding": null,
       "right": null,
       "top": null,
       "visibility": null,
       "width": null
      }
     },
     "7f480dcd40d641bdacb47d94f6d9c7f7": {
      "model_module": "@jupyter-widgets/controls",
      "model_module_version": "1.5.0",
      "model_name": "ButtonStyleModel",
      "state": {
       "_model_module": "@jupyter-widgets/controls",
       "_model_module_version": "1.5.0",
       "_model_name": "ButtonStyleModel",
       "_view_count": null,
       "_view_module": "@jupyter-widgets/base",
       "_view_module_version": "1.2.0",
       "_view_name": "StyleView",
       "button_color": null,
       "font_weight": ""
      }
     },
     "8434e3aa420947548487873b56ac4308": {
      "model_module": "@jupyter-widgets/controls",
      "model_module_version": "1.5.0",
      "model_name": "DescriptionStyleModel",
      "state": {
       "_model_module": "@jupyter-widgets/controls",
       "_model_module_version": "1.5.0",
       "_model_name": "DescriptionStyleModel",
       "_view_count": null,
       "_view_module": "@jupyter-widgets/base",
       "_view_module_version": "1.2.0",
       "_view_name": "StyleView",
       "description_width": ""
      }
     },
     "85c9d8a1cc9c47e1b3f241dc6e8bb0da": {
      "model_module": "@jupyter-widgets/controls",
      "model_module_version": "1.5.0",
      "model_name": "IntProgressModel",
      "state": {
       "_dom_classes": [],
       "_model_module": "@jupyter-widgets/controls",
       "_model_module_version": "1.5.0",
       "_model_name": "IntProgressModel",
       "_view_count": null,
       "_view_module": "@jupyter-widgets/controls",
       "_view_module_version": "1.5.0",
       "_view_name": "ProgressView",
       "bar_style": "",
       "description": "Episode: 8440 | Steps: 103 | Return: -103.00 | Epsilon: 0.05:  84%",
       "description_tooltip": null,
       "layout": "IPY_MODEL_37184f69a537453687a529a02f127fcc",
       "max": 1500000,
       "min": 0,
       "orientation": "horizontal",
       "style": "IPY_MODEL_aae6bd2503b54b56a725a6acc403e5fa",
       "value": 1255009
      }
     },
     "876c5a024d5f49b18848e83c503ad2a0": {
      "model_module": "@jupyter-widgets/controls",
      "model_module_version": "1.5.0",
      "model_name": "ButtonModel",
      "state": {
       "_dom_classes": [],
       "_model_module": "@jupyter-widgets/controls",
       "_model_module_version": "1.5.0",
       "_model_name": "ButtonModel",
       "_view_count": null,
       "_view_module": "@jupyter-widgets/controls",
       "_view_module_version": "1.5.0",
       "_view_name": "ButtonView",
       "button_style": "",
       "description": "75.0%",
       "disabled": false,
       "icon": "",
       "layout": "IPY_MODEL_b8865b0735474ddd8c5b487add496ceb",
       "style": "IPY_MODEL_d7cdd3b5f5d1424b94ca33ad1fd0b800",
       "tooltip": ""
      }
     },
     "8a8c75d7ef7e4d5bb1c271c3fe52858a": {
      "model_module": "@jupyter-widgets/controls",
      "model_module_version": "1.5.0",
      "model_name": "ButtonModel",
      "state": {
       "_dom_classes": [],
       "_model_module": "@jupyter-widgets/controls",
       "_model_module_version": "1.5.0",
       "_model_name": "ButtonModel",
       "_view_count": null,
       "_view_module": "@jupyter-widgets/controls",
       "_view_module_version": "1.5.0",
       "_view_name": "ButtonView",
       "button_style": "",
       "description": "25.0%",
       "disabled": false,
       "icon": "",
       "layout": "IPY_MODEL_3cf762cac464440fbe0a6f7e8987f53e",
       "style": "IPY_MODEL_682152f5c7374042881e562cf99d43e4",
       "tooltip": ""
      }
     },
     "8a93061838014b9cad7d811ea8674595": {
      "model_module": "@jupyter-widgets/base",
      "model_module_version": "1.2.0",
      "model_name": "LayoutModel",
      "state": {
       "_model_module": "@jupyter-widgets/base",
       "_model_module_version": "1.2.0",
       "_model_name": "LayoutModel",
       "_view_count": null,
       "_view_module": "@jupyter-widgets/base",
       "_view_module_version": "1.2.0",
       "_view_name": "LayoutView",
       "align_content": null,
       "align_items": null,
       "align_self": null,
       "border": null,
       "bottom": null,
       "display": null,
       "flex": null,
       "flex_flow": null,
       "grid_area": null,
       "grid_auto_columns": null,
       "grid_auto_flow": null,
       "grid_auto_rows": null,
       "grid_column": null,
       "grid_gap": null,
       "grid_row": null,
       "grid_template_areas": null,
       "grid_template_columns": null,
       "grid_template_rows": null,
       "height": null,
       "justify_content": null,
       "justify_items": null,
       "left": null,
       "margin": null,
       "max_height": null,
       "max_width": null,
       "min_height": null,
       "min_width": null,
       "object_fit": null,
       "object_position": null,
       "order": null,
       "overflow": null,
       "overflow_x": null,
       "overflow_y": null,
       "padding": null,
       "right": null,
       "top": null,
       "visibility": null,
       "width": null
      }
     },
     "8b0c91e16966482d8a6227ee7f9f102a": {
      "model_module": "@jupyter-widgets/controls",
      "model_module_version": "1.5.0",
      "model_name": "HBoxModel",
      "state": {
       "_dom_classes": [],
       "_model_module": "@jupyter-widgets/controls",
       "_model_module_version": "1.5.0",
       "_model_name": "HBoxModel",
       "_view_count": null,
       "_view_module": "@jupyter-widgets/controls",
       "_view_module_version": "1.5.0",
       "_view_name": "HBoxView",
       "box_style": "",
       "children": [
        "IPY_MODEL_20f15f9db6204786bf12da1c02b8818c",
        "IPY_MODEL_8a8c75d7ef7e4d5bb1c271c3fe52858a",
        "IPY_MODEL_e0e8344720544fed9d0e851fea96f5a8",
        "IPY_MODEL_78b52f068d5641f48f678edab8dd187d",
        "IPY_MODEL_14da2f0e02844c8b9101f1f2b3ec6b7a"
       ],
       "layout": "IPY_MODEL_7cc1e9d61a7842b7b30943c67cb0a35a"
      }
     },
     "8d7ae72ff1454bc88cfea563a5e02276": {
      "model_module": "@jupyter-widgets/controls",
      "model_module_version": "1.5.0",
      "model_name": "HBoxModel",
      "state": {
       "_dom_classes": [],
       "_model_module": "@jupyter-widgets/controls",
       "_model_module_version": "1.5.0",
       "_model_name": "HBoxModel",
       "_view_count": null,
       "_view_module": "@jupyter-widgets/controls",
       "_view_module_version": "1.5.0",
       "_view_name": "HBoxView",
       "box_style": "",
       "children": [
        "IPY_MODEL_abb7f594cf3c4ff890e50f5b7213b813",
        "IPY_MODEL_6387a3efbbae41d49e475af0f2b20c3b",
        "IPY_MODEL_0d8ea23196c84f0da7823de1fd644548",
        "IPY_MODEL_4080a76905d2474e92318126c367ac33"
       ],
       "layout": "IPY_MODEL_8a93061838014b9cad7d811ea8674595"
      }
     },
     "8ed603d1ddfd431095ffd89900db1714": {
      "model_module": "@jupyter-widgets/controls",
      "model_module_version": "1.5.0",
      "model_name": "ButtonModel",
      "state": {
       "_dom_classes": [],
       "_model_module": "@jupyter-widgets/controls",
       "_model_module_version": "1.5.0",
       "_model_name": "ButtonModel",
       "_view_count": null,
       "_view_module": "@jupyter-widgets/controls",
       "_view_module_version": "1.5.0",
       "_view_name": "ButtonView",
       "button_style": "",
       "description": "75.0%",
       "disabled": false,
       "icon": "",
       "layout": "IPY_MODEL_dab27813b5f54b829172f03dd4dfc722",
       "style": "IPY_MODEL_6b6b92bc8ce24c1fb330d1f4ac292a5d",
       "tooltip": ""
      }
     },
     "920116df058f4d9f958e62ec5622ae4f": {
      "model_module": "@jupyter-widgets/base",
      "model_module_version": "1.2.0",
      "model_name": "LayoutModel",
      "state": {
       "_model_module": "@jupyter-widgets/base",
       "_model_module_version": "1.2.0",
       "_model_name": "LayoutModel",
       "_view_count": null,
       "_view_module": "@jupyter-widgets/base",
       "_view_module_version": "1.2.0",
       "_view_name": "LayoutView",
       "align_content": null,
       "align_items": null,
       "align_self": null,
       "border": null,
       "bottom": null,
       "display": null,
       "flex": null,
       "flex_flow": null,
       "grid_area": null,
       "grid_auto_columns": null,
       "grid_auto_flow": null,
       "grid_auto_rows": null,
       "grid_column": null,
       "grid_gap": null,
       "grid_row": null,
       "grid_template_areas": null,
       "grid_template_columns": null,
       "grid_template_rows": null,
       "height": null,
       "justify_content": null,
       "justify_items": null,
       "left": null,
       "margin": null,
       "max_height": null,
       "max_width": null,
       "min_height": null,
       "min_width": null,
       "object_fit": null,
       "object_position": null,
       "order": null,
       "overflow": null,
       "overflow_x": null,
       "overflow_y": null,
       "padding": null,
       "right": null,
       "top": null,
       "visibility": null,
       "width": null
      }
     },
     "93fc0fba49d34d47aa0e743002b956fb": {
      "model_module": "@jupyter-widgets/base",
      "model_module_version": "1.2.0",
      "model_name": "LayoutModel",
      "state": {
       "_model_module": "@jupyter-widgets/base",
       "_model_module_version": "1.2.0",
       "_model_name": "LayoutModel",
       "_view_count": null,
       "_view_module": "@jupyter-widgets/base",
       "_view_module_version": "1.2.0",
       "_view_name": "LayoutView",
       "align_content": null,
       "align_items": null,
       "align_self": null,
       "border": null,
       "bottom": null,
       "display": null,
       "flex": null,
       "flex_flow": null,
       "grid_area": null,
       "grid_auto_columns": null,
       "grid_auto_flow": null,
       "grid_auto_rows": null,
       "grid_column": null,
       "grid_gap": null,
       "grid_row": null,
       "grid_template_areas": null,
       "grid_template_columns": null,
       "grid_template_rows": null,
       "height": null,
       "justify_content": null,
       "justify_items": null,
       "left": null,
       "margin": null,
       "max_height": null,
       "max_width": null,
       "min_height": null,
       "min_width": null,
       "object_fit": null,
       "object_position": null,
       "order": null,
       "overflow": null,
       "overflow_x": null,
       "overflow_y": null,
       "padding": null,
       "right": null,
       "top": null,
       "visibility": null,
       "width": null
      }
     },
     "956dbe20644a4d519999873dca5ac2fd": {
      "model_module": "@jupyter-widgets/base",
      "model_module_version": "1.2.0",
      "model_name": "LayoutModel",
      "state": {
       "_model_module": "@jupyter-widgets/base",
       "_model_module_version": "1.2.0",
       "_model_name": "LayoutModel",
       "_view_count": null,
       "_view_module": "@jupyter-widgets/base",
       "_view_module_version": "1.2.0",
       "_view_name": "LayoutView",
       "align_content": null,
       "align_items": null,
       "align_self": null,
       "border": null,
       "bottom": null,
       "display": null,
       "flex": null,
       "flex_flow": null,
       "grid_area": null,
       "grid_auto_columns": null,
       "grid_auto_flow": null,
       "grid_auto_rows": null,
       "grid_column": null,
       "grid_gap": null,
       "grid_row": null,
       "grid_template_areas": null,
       "grid_template_columns": null,
       "grid_template_rows": null,
       "height": null,
       "justify_content": null,
       "justify_items": null,
       "left": null,
       "margin": null,
       "max_height": null,
       "max_width": null,
       "min_height": null,
       "min_width": null,
       "object_fit": null,
       "object_position": null,
       "order": null,
       "overflow": null,
       "overflow_x": null,
       "overflow_y": null,
       "padding": null,
       "right": null,
       "top": null,
       "visibility": null,
       "width": null
      }
     },
     "964c1fd12c9b40fa907695c502f4682f": {
      "model_module": "@jupyter-widgets/controls",
      "model_module_version": "1.5.0",
      "model_name": "ButtonModel",
      "state": {
       "_dom_classes": [],
       "_model_module": "@jupyter-widgets/controls",
       "_model_module_version": "1.5.0",
       "_model_name": "ButtonModel",
       "_view_count": null,
       "_view_module": "@jupyter-widgets/controls",
       "_view_module_version": "1.5.0",
       "_view_name": "ButtonView",
       "button_style": "",
       "description": "75.0%",
       "disabled": false,
       "icon": "",
       "layout": "IPY_MODEL_b624c5db468344b58bc6aa776c6f346c",
       "style": "IPY_MODEL_2f685de22c22454d8ac359967460c8a2",
       "tooltip": ""
      }
     },
     "a1dec277c5d142c0a719a91f73f53dcf": {
      "model_module": "@jupyter-widgets/controls",
      "model_module_version": "1.5.0",
      "model_name": "DescriptionStyleModel",
      "state": {
       "_model_module": "@jupyter-widgets/controls",
       "_model_module_version": "1.5.0",
       "_model_name": "DescriptionStyleModel",
       "_view_count": null,
       "_view_module": "@jupyter-widgets/base",
       "_view_module_version": "1.2.0",
       "_view_name": "StyleView",
       "description_width": ""
      }
     },
     "a295e0377b7e408084af75f0e9ffe78f": {
      "model_module": "@jupyter-widgets/base",
      "model_module_version": "1.2.0",
      "model_name": "LayoutModel",
      "state": {
       "_model_module": "@jupyter-widgets/base",
       "_model_module_version": "1.2.0",
       "_model_name": "LayoutModel",
       "_view_count": null,
       "_view_module": "@jupyter-widgets/base",
       "_view_module_version": "1.2.0",
       "_view_name": "LayoutView",
       "align_content": null,
       "align_items": null,
       "align_self": null,
       "border": null,
       "bottom": null,
       "display": null,
       "flex": "2",
       "flex_flow": null,
       "grid_area": null,
       "grid_auto_columns": null,
       "grid_auto_flow": null,
       "grid_auto_rows": null,
       "grid_column": null,
       "grid_gap": null,
       "grid_row": null,
       "grid_template_areas": null,
       "grid_template_columns": null,
       "grid_template_rows": null,
       "height": null,
       "justify_content": null,
       "justify_items": null,
       "left": null,
       "margin": null,
       "max_height": null,
       "max_width": null,
       "min_height": null,
       "min_width": null,
       "object_fit": null,
       "object_position": null,
       "order": null,
       "overflow": null,
       "overflow_x": null,
       "overflow_y": null,
       "padding": null,
       "right": null,
       "top": null,
       "visibility": null,
       "width": null
      }
     },
     "aae6bd2503b54b56a725a6acc403e5fa": {
      "model_module": "@jupyter-widgets/controls",
      "model_module_version": "1.5.0",
      "model_name": "ProgressStyleModel",
      "state": {
       "_model_module": "@jupyter-widgets/controls",
       "_model_module_version": "1.5.0",
       "_model_name": "ProgressStyleModel",
       "_view_count": null,
       "_view_module": "@jupyter-widgets/base",
       "_view_module_version": "1.2.0",
       "_view_name": "StyleView",
       "bar_color": null,
       "description_width": "initial"
      }
     },
     "abb7e8dac69341168bb376950940411c": {
      "model_module": "@jupyter-widgets/controls",
      "model_module_version": "1.5.0",
      "model_name": "ButtonModel",
      "state": {
       "_dom_classes": [],
       "_model_module": "@jupyter-widgets/controls",
       "_model_module_version": "1.5.0",
       "_model_name": "ButtonModel",
       "_view_count": null,
       "_view_module": "@jupyter-widgets/controls",
       "_view_module_version": "1.5.0",
       "_view_name": "ButtonView",
       "button_style": "",
       "description": "50.0%",
       "disabled": false,
       "icon": "",
       "layout": "IPY_MODEL_557d0c4420f9424aa49bb55e1d3688e5",
       "style": "IPY_MODEL_6dabafab9edb4dc59a66a11661bed7a6",
       "tooltip": ""
      }
     },
     "abb7f594cf3c4ff890e50f5b7213b813": {
      "model_module": "@jupyter-widgets/controls",
      "model_module_version": "1.5.0",
      "model_name": "ButtonModel",
      "state": {
       "_dom_classes": [],
       "_model_module": "@jupyter-widgets/controls",
       "_model_module_version": "1.5.0",
       "_model_name": "ButtonModel",
       "_view_count": null,
       "_view_module": "@jupyter-widgets/controls",
       "_view_module_version": "1.5.0",
       "_view_name": "ButtonView",
       "button_style": "",
       "description": "cartpole",
       "disabled": false,
       "icon": "",
       "layout": "IPY_MODEL_1a133c2dcecd415199320620653cd731",
       "style": "IPY_MODEL_7acc5a9430834923bb413600a1ff4a3f",
       "tooltip": ""
      }
     },
     "aea7f58f513b4604b90af5377819ad9c": {
      "model_module": "@jupyter-widgets/controls",
      "model_module_version": "1.5.0",
      "model_name": "ButtonStyleModel",
      "state": {
       "_model_module": "@jupyter-widgets/controls",
       "_model_module_version": "1.5.0",
       "_model_name": "ButtonStyleModel",
       "_view_count": null,
       "_view_module": "@jupyter-widgets/base",
       "_view_module_version": "1.2.0",
       "_view_name": "StyleView",
       "button_color": null,
       "font_weight": ""
      }
     },
     "af90bf837dca4751a3ffd777ff142b79": {
      "model_module": "@jupyter-widgets/base",
      "model_module_version": "1.2.0",
      "model_name": "LayoutModel",
      "state": {
       "_model_module": "@jupyter-widgets/base",
       "_model_module_version": "1.2.0",
       "_model_name": "LayoutModel",
       "_view_count": null,
       "_view_module": "@jupyter-widgets/base",
       "_view_module_version": "1.2.0",
       "_view_name": "LayoutView",
       "align_content": null,
       "align_items": null,
       "align_self": null,
       "border": null,
       "bottom": null,
       "display": null,
       "flex": null,
       "flex_flow": null,
       "grid_area": null,
       "grid_auto_columns": null,
       "grid_auto_flow": null,
       "grid_auto_rows": null,
       "grid_column": null,
       "grid_gap": null,
       "grid_row": null,
       "grid_template_areas": null,
       "grid_template_columns": null,
       "grid_template_rows": null,
       "height": null,
       "justify_content": null,
       "justify_items": null,
       "left": null,
       "margin": null,
       "max_height": null,
       "max_width": null,
       "min_height": null,
       "min_width": null,
       "object_fit": null,
       "object_position": null,
       "order": null,
       "overflow": null,
       "overflow_x": null,
       "overflow_y": null,
       "padding": null,
       "right": null,
       "top": null,
       "visibility": null,
       "width": null
      }
     },
     "afdbd60d068942918dfa1ca61d5d69f7": {
      "model_module": "@jupyter-widgets/base",
      "model_module_version": "1.2.0",
      "model_name": "LayoutModel",
      "state": {
       "_model_module": "@jupyter-widgets/base",
       "_model_module_version": "1.2.0",
       "_model_name": "LayoutModel",
       "_view_count": null,
       "_view_module": "@jupyter-widgets/base",
       "_view_module_version": "1.2.0",
       "_view_name": "LayoutView",
       "align_content": null,
       "align_items": null,
       "align_self": null,
       "border": null,
       "bottom": null,
       "display": null,
       "flex": null,
       "flex_flow": null,
       "grid_area": null,
       "grid_auto_columns": null,
       "grid_auto_flow": null,
       "grid_auto_rows": null,
       "grid_column": null,
       "grid_gap": null,
       "grid_row": null,
       "grid_template_areas": null,
       "grid_template_columns": null,
       "grid_template_rows": null,
       "height": null,
       "justify_content": null,
       "justify_items": null,
       "left": null,
       "margin": null,
       "max_height": null,
       "max_width": null,
       "min_height": null,
       "min_width": null,
       "object_fit": null,
       "object_position": null,
       "order": null,
       "overflow": null,
       "overflow_x": null,
       "overflow_y": null,
       "padding": null,
       "right": null,
       "top": null,
       "visibility": null,
       "width": null
      }
     },
     "b5ac0abe0f2b4b129a1d9be83441552d": {
      "model_module": "@jupyter-widgets/controls",
      "model_module_version": "1.5.0",
      "model_name": "ButtonModel",
      "state": {
       "_dom_classes": [],
       "_model_module": "@jupyter-widgets/controls",
       "_model_module_version": "1.5.0",
       "_model_name": "ButtonModel",
       "_view_count": null,
       "_view_module": "@jupyter-widgets/controls",
       "_view_module_version": "1.5.0",
       "_view_name": "ButtonView",
       "button_style": "",
       "description": "50.0%",
       "disabled": false,
       "icon": "",
       "layout": "IPY_MODEL_956dbe20644a4d519999873dca5ac2fd",
       "style": "IPY_MODEL_03395bb83ded4fe4a8a7e32a4d025fac",
       "tooltip": ""
      }
     },
     "b624c5db468344b58bc6aa776c6f346c": {
      "model_module": "@jupyter-widgets/base",
      "model_module_version": "1.2.0",
      "model_name": "LayoutModel",
      "state": {
       "_model_module": "@jupyter-widgets/base",
       "_model_module_version": "1.2.0",
       "_model_name": "LayoutModel",
       "_view_count": null,
       "_view_module": "@jupyter-widgets/base",
       "_view_module_version": "1.2.0",
       "_view_name": "LayoutView",
       "align_content": null,
       "align_items": null,
       "align_self": null,
       "border": null,
       "bottom": null,
       "display": null,
       "flex": null,
       "flex_flow": null,
       "grid_area": null,
       "grid_auto_columns": null,
       "grid_auto_flow": null,
       "grid_auto_rows": null,
       "grid_column": null,
       "grid_gap": null,
       "grid_row": null,
       "grid_template_areas": null,
       "grid_template_columns": null,
       "grid_template_rows": null,
       "height": null,
       "justify_content": null,
       "justify_items": null,
       "left": null,
       "margin": null,
       "max_height": null,
       "max_width": null,
       "min_height": null,
       "min_width": null,
       "object_fit": null,
       "object_position": null,
       "order": null,
       "overflow": null,
       "overflow_x": null,
       "overflow_y": null,
       "padding": null,
       "right": null,
       "top": null,
       "visibility": null,
       "width": null
      }
     },
     "b8865b0735474ddd8c5b487add496ceb": {
      "model_module": "@jupyter-widgets/base",
      "model_module_version": "1.2.0",
      "model_name": "LayoutModel",
      "state": {
       "_model_module": "@jupyter-widgets/base",
       "_model_module_version": "1.2.0",
       "_model_name": "LayoutModel",
       "_view_count": null,
       "_view_module": "@jupyter-widgets/base",
       "_view_module_version": "1.2.0",
       "_view_name": "LayoutView",
       "align_content": null,
       "align_items": null,
       "align_self": null,
       "border": null,
       "bottom": null,
       "display": null,
       "flex": null,
       "flex_flow": null,
       "grid_area": null,
       "grid_auto_columns": null,
       "grid_auto_flow": null,
       "grid_auto_rows": null,
       "grid_column": null,
       "grid_gap": null,
       "grid_row": null,
       "grid_template_areas": null,
       "grid_template_columns": null,
       "grid_template_rows": null,
       "height": null,
       "justify_content": null,
       "justify_items": null,
       "left": null,
       "margin": null,
       "max_height": null,
       "max_width": null,
       "min_height": null,
       "min_width": null,
       "object_fit": null,
       "object_position": null,
       "order": null,
       "overflow": null,
       "overflow_x": null,
       "overflow_y": null,
       "padding": null,
       "right": null,
       "top": null,
       "visibility": null,
       "width": null
      }
     },
     "b8c3347aa1a2406f8fdfcd23a8fd056c": {
      "model_module": "@jupyter-widgets/controls",
      "model_module_version": "1.5.0",
      "model_name": "ButtonModel",
      "state": {
       "_dom_classes": [],
       "_model_module": "@jupyter-widgets/controls",
       "_model_module_version": "1.5.0",
       "_model_name": "ButtonModel",
       "_view_count": null,
       "_view_module": "@jupyter-widgets/controls",
       "_view_module_version": "1.5.0",
       "_view_name": "ButtonView",
       "button_style": "",
       "description": "25.0%",
       "disabled": false,
       "icon": "",
       "layout": "IPY_MODEL_7325c2a283274b15926b3d1c4f9ec9a1",
       "style": "IPY_MODEL_11953ae381ab43cbb2a63c624397a5b2",
       "tooltip": ""
      }
     },
     "bf88c8d1f7f94cf491ab243012da0e20": {
      "model_module": "@jupyter-widgets/controls",
      "model_module_version": "1.5.0",
      "model_name": "ButtonStyleModel",
      "state": {
       "_model_module": "@jupyter-widgets/controls",
       "_model_module_version": "1.5.0",
       "_model_name": "ButtonStyleModel",
       "_view_count": null,
       "_view_module": "@jupyter-widgets/base",
       "_view_module_version": "1.2.0",
       "_view_name": "StyleView",
       "button_color": null,
       "font_weight": ""
      }
     },
     "c4efca2baa3b46e882e0d77fc9c590cc": {
      "model_module": "@jupyter-widgets/base",
      "model_module_version": "1.2.0",
      "model_name": "LayoutModel",
      "state": {
       "_model_module": "@jupyter-widgets/base",
       "_model_module_version": "1.2.0",
       "_model_name": "LayoutModel",
       "_view_count": null,
       "_view_module": "@jupyter-widgets/base",
       "_view_module_version": "1.2.0",
       "_view_name": "LayoutView",
       "align_content": null,
       "align_items": null,
       "align_self": null,
       "border": null,
       "bottom": null,
       "display": null,
       "flex": null,
       "flex_flow": null,
       "grid_area": null,
       "grid_auto_columns": null,
       "grid_auto_flow": null,
       "grid_auto_rows": null,
       "grid_column": null,
       "grid_gap": null,
       "grid_row": null,
       "grid_template_areas": null,
       "grid_template_columns": null,
       "grid_template_rows": null,
       "height": null,
       "justify_content": null,
       "justify_items": null,
       "left": null,
       "margin": null,
       "max_height": null,
       "max_width": null,
       "min_height": null,
       "min_width": null,
       "object_fit": null,
       "object_position": null,
       "order": null,
       "overflow": null,
       "overflow_x": null,
       "overflow_y": null,
       "padding": null,
       "right": null,
       "top": null,
       "visibility": null,
       "width": null
      }
     },
     "d0e8a40ea4e7412aa310416965883c13": {
      "model_module": "@jupyter-widgets/controls",
      "model_module_version": "1.5.0",
      "model_name": "ButtonStyleModel",
      "state": {
       "_model_module": "@jupyter-widgets/controls",
       "_model_module_version": "1.5.0",
       "_model_name": "ButtonStyleModel",
       "_view_count": null,
       "_view_module": "@jupyter-widgets/base",
       "_view_module_version": "1.2.0",
       "_view_name": "StyleView",
       "button_color": null,
       "font_weight": ""
      }
     },
     "d1b4ce169da543bf9af10ba28a4ec5d0": {
      "model_module": "@jupyter-widgets/base",
      "model_module_version": "1.2.0",
      "model_name": "LayoutModel",
      "state": {
       "_model_module": "@jupyter-widgets/base",
       "_model_module_version": "1.2.0",
       "_model_name": "LayoutModel",
       "_view_count": null,
       "_view_module": "@jupyter-widgets/base",
       "_view_module_version": "1.2.0",
       "_view_name": "LayoutView",
       "align_content": null,
       "align_items": null,
       "align_self": null,
       "border": null,
       "bottom": null,
       "display": null,
       "flex": null,
       "flex_flow": null,
       "grid_area": null,
       "grid_auto_columns": null,
       "grid_auto_flow": null,
       "grid_auto_rows": null,
       "grid_column": null,
       "grid_gap": null,
       "grid_row": null,
       "grid_template_areas": null,
       "grid_template_columns": null,
       "grid_template_rows": null,
       "height": null,
       "justify_content": null,
       "justify_items": null,
       "left": null,
       "margin": null,
       "max_height": null,
       "max_width": null,
       "min_height": null,
       "min_width": null,
       "object_fit": null,
       "object_position": null,
       "order": null,
       "overflow": null,
       "overflow_x": null,
       "overflow_y": null,
       "padding": null,
       "right": null,
       "top": null,
       "visibility": null,
       "width": null
      }
     },
     "d59c4af19d9d40ba90ef59c0343c9d43": {
      "model_module": "@jupyter-widgets/base",
      "model_module_version": "1.2.0",
      "model_name": "LayoutModel",
      "state": {
       "_model_module": "@jupyter-widgets/base",
       "_model_module_version": "1.2.0",
       "_model_name": "LayoutModel",
       "_view_count": null,
       "_view_module": "@jupyter-widgets/base",
       "_view_module_version": "1.2.0",
       "_view_name": "LayoutView",
       "align_content": null,
       "align_items": null,
       "align_self": null,
       "border": null,
       "bottom": null,
       "display": null,
       "flex": null,
       "flex_flow": null,
       "grid_area": null,
       "grid_auto_columns": null,
       "grid_auto_flow": null,
       "grid_auto_rows": null,
       "grid_column": null,
       "grid_gap": null,
       "grid_row": null,
       "grid_template_areas": null,
       "grid_template_columns": null,
       "grid_template_rows": null,
       "height": null,
       "justify_content": null,
       "justify_items": null,
       "left": null,
       "margin": null,
       "max_height": null,
       "max_width": null,
       "min_height": null,
       "min_width": null,
       "object_fit": null,
       "object_position": null,
       "order": null,
       "overflow": null,
       "overflow_x": null,
       "overflow_y": null,
       "padding": null,
       "right": null,
       "top": null,
       "visibility": null,
       "width": null
      }
     },
     "d62bc173a31b48b5968b6b5bc655e1ab": {
      "model_module": "@jupyter-widgets/controls",
      "model_module_version": "1.5.0",
      "model_name": "ButtonStyleModel",
      "state": {
       "_model_module": "@jupyter-widgets/controls",
       "_model_module_version": "1.5.0",
       "_model_name": "ButtonStyleModel",
       "_view_count": null,
       "_view_module": "@jupyter-widgets/base",
       "_view_module_version": "1.2.0",
       "_view_name": "StyleView",
       "button_color": null,
       "font_weight": ""
      }
     },
     "d7795268bee448098d98a15407017057": {
      "model_module": "@jupyter-widgets/base",
      "model_module_version": "1.2.0",
      "model_name": "LayoutModel",
      "state": {
       "_model_module": "@jupyter-widgets/base",
       "_model_module_version": "1.2.0",
       "_model_name": "LayoutModel",
       "_view_count": null,
       "_view_module": "@jupyter-widgets/base",
       "_view_module_version": "1.2.0",
       "_view_name": "LayoutView",
       "align_content": null,
       "align_items": null,
       "align_self": null,
       "border": null,
       "bottom": null,
       "display": null,
       "flex": null,
       "flex_flow": null,
       "grid_area": null,
       "grid_auto_columns": null,
       "grid_auto_flow": null,
       "grid_auto_rows": null,
       "grid_column": null,
       "grid_gap": null,
       "grid_row": null,
       "grid_template_areas": null,
       "grid_template_columns": null,
       "grid_template_rows": null,
       "height": null,
       "justify_content": null,
       "justify_items": null,
       "left": null,
       "margin": null,
       "max_height": null,
       "max_width": null,
       "min_height": null,
       "min_width": null,
       "object_fit": null,
       "object_position": null,
       "order": null,
       "overflow": null,
       "overflow_x": null,
       "overflow_y": null,
       "padding": null,
       "right": null,
       "top": null,
       "visibility": null,
       "width": null
      }
     },
     "d7c0edddb1e54345970d8666680694fb": {
      "model_module": "@jupyter-widgets/controls",
      "model_module_version": "1.5.0",
      "model_name": "ButtonStyleModel",
      "state": {
       "_model_module": "@jupyter-widgets/controls",
       "_model_module_version": "1.5.0",
       "_model_name": "ButtonStyleModel",
       "_view_count": null,
       "_view_module": "@jupyter-widgets/base",
       "_view_module_version": "1.2.0",
       "_view_name": "StyleView",
       "button_color": null,
       "font_weight": ""
      }
     },
     "d7cdd3b5f5d1424b94ca33ad1fd0b800": {
      "model_module": "@jupyter-widgets/controls",
      "model_module_version": "1.5.0",
      "model_name": "ButtonStyleModel",
      "state": {
       "_model_module": "@jupyter-widgets/controls",
       "_model_module_version": "1.5.0",
       "_model_name": "ButtonStyleModel",
       "_view_count": null,
       "_view_module": "@jupyter-widgets/base",
       "_view_module_version": "1.2.0",
       "_view_name": "StyleView",
       "button_color": null,
       "font_weight": ""
      }
     },
     "d979c87c55fe464185f3dae6f320cd1c": {
      "model_module": "@jupyter-widgets/base",
      "model_module_version": "1.2.0",
      "model_name": "LayoutModel",
      "state": {
       "_model_module": "@jupyter-widgets/base",
       "_model_module_version": "1.2.0",
       "_model_name": "LayoutModel",
       "_view_count": null,
       "_view_module": "@jupyter-widgets/base",
       "_view_module_version": "1.2.0",
       "_view_name": "LayoutView",
       "align_content": null,
       "align_items": null,
       "align_self": null,
       "border": null,
       "bottom": null,
       "display": null,
       "flex": null,
       "flex_flow": null,
       "grid_area": null,
       "grid_auto_columns": null,
       "grid_auto_flow": null,
       "grid_auto_rows": null,
       "grid_column": null,
       "grid_gap": null,
       "grid_row": null,
       "grid_template_areas": null,
       "grid_template_columns": null,
       "grid_template_rows": null,
       "height": null,
       "justify_content": null,
       "justify_items": null,
       "left": null,
       "margin": null,
       "max_height": null,
       "max_width": null,
       "min_height": null,
       "min_width": null,
       "object_fit": null,
       "object_position": null,
       "order": null,
       "overflow": null,
       "overflow_x": null,
       "overflow_y": null,
       "padding": null,
       "right": null,
       "top": null,
       "visibility": null,
       "width": null
      }
     },
     "dab27813b5f54b829172f03dd4dfc722": {
      "model_module": "@jupyter-widgets/base",
      "model_module_version": "1.2.0",
      "model_name": "LayoutModel",
      "state": {
       "_model_module": "@jupyter-widgets/base",
       "_model_module_version": "1.2.0",
       "_model_name": "LayoutModel",
       "_view_count": null,
       "_view_module": "@jupyter-widgets/base",
       "_view_module_version": "1.2.0",
       "_view_name": "LayoutView",
       "align_content": null,
       "align_items": null,
       "align_self": null,
       "border": null,
       "bottom": null,
       "display": null,
       "flex": null,
       "flex_flow": null,
       "grid_area": null,
       "grid_auto_columns": null,
       "grid_auto_flow": null,
       "grid_auto_rows": null,
       "grid_column": null,
       "grid_gap": null,
       "grid_row": null,
       "grid_template_areas": null,
       "grid_template_columns": null,
       "grid_template_rows": null,
       "height": null,
       "justify_content": null,
       "justify_items": null,
       "left": null,
       "margin": null,
       "max_height": null,
       "max_width": null,
       "min_height": null,
       "min_width": null,
       "object_fit": null,
       "object_position": null,
       "order": null,
       "overflow": null,
       "overflow_x": null,
       "overflow_y": null,
       "padding": null,
       "right": null,
       "top": null,
       "visibility": null,
       "width": null
      }
     },
     "dcc72758ee124a88844993dfd2a5cc88": {
      "model_module": "@jupyter-widgets/base",
      "model_module_version": "1.2.0",
      "model_name": "LayoutModel",
      "state": {
       "_model_module": "@jupyter-widgets/base",
       "_model_module_version": "1.2.0",
       "_model_name": "LayoutModel",
       "_view_count": null,
       "_view_module": "@jupyter-widgets/base",
       "_view_module_version": "1.2.0",
       "_view_name": "LayoutView",
       "align_content": null,
       "align_items": null,
       "align_self": null,
       "border": null,
       "bottom": null,
       "display": null,
       "flex": null,
       "flex_flow": null,
       "grid_area": null,
       "grid_auto_columns": null,
       "grid_auto_flow": null,
       "grid_auto_rows": null,
       "grid_column": null,
       "grid_gap": null,
       "grid_row": null,
       "grid_template_areas": null,
       "grid_template_columns": null,
       "grid_template_rows": null,
       "height": null,
       "justify_content": null,
       "justify_items": null,
       "left": null,
       "margin": null,
       "max_height": null,
       "max_width": null,
       "min_height": null,
       "min_width": null,
       "object_fit": null,
       "object_position": null,
       "order": null,
       "overflow": null,
       "overflow_x": null,
       "overflow_y": null,
       "padding": null,
       "right": null,
       "top": null,
       "visibility": null,
       "width": null
      }
     },
     "dd74806209c84abeb4cabad05fc9ac7d": {
      "model_module": "@jupyter-widgets/controls",
      "model_module_version": "1.5.0",
      "model_name": "HTMLModel",
      "state": {
       "_dom_classes": [],
       "_model_module": "@jupyter-widgets/controls",
       "_model_module_version": "1.5.0",
       "_model_name": "HTMLModel",
       "_view_count": null,
       "_view_module": "@jupyter-widgets/controls",
       "_view_module_version": "1.5.0",
       "_view_name": "HTMLView",
       "description": "",
       "description_tooltip": null,
       "layout": "IPY_MODEL_3b4687c409c94199b19535c09d9c788c",
       "placeholder": "​",
       "style": "IPY_MODEL_41225be4361a4933b7ab31b0fa1d66b8",
       "value": " 1500000/1500000 [56:28&lt;00:00, 442.71it/s]"
      }
     },
     "ddc7e6d2ad7f46afa34a256c321163e9": {
      "model_module": "@jupyter-widgets/controls",
      "model_module_version": "1.5.0",
      "model_name": "HBoxModel",
      "state": {
       "_dom_classes": [],
       "_model_module": "@jupyter-widgets/controls",
       "_model_module_version": "1.5.0",
       "_model_name": "HBoxModel",
       "_view_count": null,
       "_view_module": "@jupyter-widgets/controls",
       "_view_module_version": "1.5.0",
       "_view_name": "HBoxView",
       "box_style": "",
       "children": [
        "IPY_MODEL_85c9d8a1cc9c47e1b3f241dc6e8bb0da",
        "IPY_MODEL_172dc13ded6742ddb4e34cfdfc0ce1be"
       ],
       "layout": "IPY_MODEL_1bc404ec873e4c9c833a621b13534041"
      }
     },
     "e0e8344720544fed9d0e851fea96f5a8": {
      "model_module": "@jupyter-widgets/controls",
      "model_module_version": "1.5.0",
      "model_name": "ButtonModel",
      "state": {
       "_dom_classes": [],
       "_model_module": "@jupyter-widgets/controls",
       "_model_module_version": "1.5.0",
       "_model_name": "ButtonModel",
       "_view_count": null,
       "_view_module": "@jupyter-widgets/controls",
       "_view_module_version": "1.5.0",
       "_view_name": "ButtonView",
       "button_style": "",
       "description": "50.0%",
       "disabled": false,
       "icon": "",
       "layout": "IPY_MODEL_14ebdb0dcf824679842134ecf1f5411c",
       "style": "IPY_MODEL_63f83b039f1641eb95ebae8ca471cd30",
       "tooltip": ""
      }
     },
     "eabfb1a659d84a2f84a88ead7d4de805": {
      "model_module": "@jupyter-widgets/base",
      "model_module_version": "1.2.0",
      "model_name": "LayoutModel",
      "state": {
       "_model_module": "@jupyter-widgets/base",
       "_model_module_version": "1.2.0",
       "_model_name": "LayoutModel",
       "_view_count": null,
       "_view_module": "@jupyter-widgets/base",
       "_view_module_version": "1.2.0",
       "_view_name": "LayoutView",
       "align_content": null,
       "align_items": null,
       "align_self": null,
       "border": null,
       "bottom": null,
       "display": "inline-flex",
       "flex": null,
       "flex_flow": "row wrap",
       "grid_area": null,
       "grid_auto_columns": null,
       "grid_auto_flow": null,
       "grid_auto_rows": null,
       "grid_column": null,
       "grid_gap": null,
       "grid_row": null,
       "grid_template_areas": null,
       "grid_template_columns": null,
       "grid_template_rows": null,
       "height": null,
       "justify_content": null,
       "justify_items": null,
       "left": null,
       "margin": null,
       "max_height": null,
       "max_width": null,
       "min_height": null,
       "min_width": null,
       "object_fit": null,
       "object_position": null,
       "order": null,
       "overflow": null,
       "overflow_x": null,
       "overflow_y": null,
       "padding": null,
       "right": null,
       "top": null,
       "visibility": null,
       "width": "100%"
      }
     },
     "f0405f22aee4490c828cf20d465d5805": {
      "model_module": "@jupyter-widgets/controls",
      "model_module_version": "1.5.0",
      "model_name": "HTMLModel",
      "state": {
       "_dom_classes": [],
       "_model_module": "@jupyter-widgets/controls",
       "_model_module_version": "1.5.0",
       "_model_name": "HTMLModel",
       "_view_count": null,
       "_view_module": "@jupyter-widgets/controls",
       "_view_module_version": "1.5.0",
       "_view_name": "HTMLView",
       "description": "",
       "description_tooltip": null,
       "layout": "IPY_MODEL_d59c4af19d9d40ba90ef59c0343c9d43",
       "placeholder": "​",
       "style": "IPY_MODEL_a1dec277c5d142c0a719a91f73f53dcf",
       "value": " 1500000/1500000 [42:45&lt;00:00, 584.77it/s]"
      }
     },
     "f2e3fc3956b84ba3a5e32565bf1b7131": {
      "model_module": "@jupyter-widgets/controls",
      "model_module_version": "1.5.0",
      "model_name": "ButtonStyleModel",
      "state": {
       "_model_module": "@jupyter-widgets/controls",
       "_model_module_version": "1.5.0",
       "_model_name": "ButtonStyleModel",
       "_view_count": null,
       "_view_module": "@jupyter-widgets/base",
       "_view_module_version": "1.2.0",
       "_view_name": "StyleView",
       "button_color": null,
       "font_weight": ""
      }
     },
     "f46ee6d99efa49c38be7cf818453d0b5": {
      "model_module": "@jupyter-widgets/base",
      "model_module_version": "1.2.0",
      "model_name": "LayoutModel",
      "state": {
       "_model_module": "@jupyter-widgets/base",
       "_model_module_version": "1.2.0",
       "_model_name": "LayoutModel",
       "_view_count": null,
       "_view_module": "@jupyter-widgets/base",
       "_view_module_version": "1.2.0",
       "_view_name": "LayoutView",
       "align_content": null,
       "align_items": null,
       "align_self": null,
       "border": null,
       "bottom": null,
       "display": null,
       "flex": null,
       "flex_flow": null,
       "grid_area": null,
       "grid_auto_columns": null,
       "grid_auto_flow": null,
       "grid_auto_rows": null,
       "grid_column": null,
       "grid_gap": null,
       "grid_row": null,
       "grid_template_areas": null,
       "grid_template_columns": null,
       "grid_template_rows": null,
       "height": null,
       "justify_content": null,
       "justify_items": null,
       "left": null,
       "margin": null,
       "max_height": null,
       "max_width": null,
       "min_height": null,
       "min_width": null,
       "object_fit": null,
       "object_position": null,
       "order": null,
       "overflow": null,
       "overflow_x": null,
       "overflow_y": null,
       "padding": null,
       "right": null,
       "top": null,
       "visibility": null,
       "width": null
      }
     },
     "f5e819b37b364128ae18a69acd92b4a4": {
      "model_module": "@jupyter-widgets/controls",
      "model_module_version": "1.5.0",
      "model_name": "HBoxModel",
      "state": {
       "_dom_classes": [],
       "_model_module": "@jupyter-widgets/controls",
       "_model_module_version": "1.5.0",
       "_model_name": "HBoxModel",
       "_view_count": null,
       "_view_module": "@jupyter-widgets/controls",
       "_view_module_version": "1.5.0",
       "_view_name": "HBoxView",
       "box_style": "",
       "children": [
        "IPY_MODEL_108f2a4bbfce4e698decd627e22be82b",
        "IPY_MODEL_61904b27b4fb41c080cc21838f649957",
        "IPY_MODEL_abb7e8dac69341168bb376950940411c",
        "IPY_MODEL_876c5a024d5f49b18848e83c503ad2a0",
        "IPY_MODEL_75f57fee0df54696a62b993b89ad76b2"
       ],
       "layout": "IPY_MODEL_93fc0fba49d34d47aa0e743002b956fb"
      }
     },
     "f6ab563953894ea99c96769e0d9b8da8": {
      "model_module": "@jupyter-widgets/base",
      "model_module_version": "1.2.0",
      "model_name": "LayoutModel",
      "state": {
       "_model_module": "@jupyter-widgets/base",
       "_model_module_version": "1.2.0",
       "_model_name": "LayoutModel",
       "_view_count": null,
       "_view_module": "@jupyter-widgets/base",
       "_view_module_version": "1.2.0",
       "_view_name": "LayoutView",
       "align_content": null,
       "align_items": null,
       "align_self": null,
       "border": null,
       "bottom": null,
       "display": null,
       "flex": null,
       "flex_flow": null,
       "grid_area": null,
       "grid_auto_columns": null,
       "grid_auto_flow": null,
       "grid_auto_rows": null,
       "grid_column": null,
       "grid_gap": null,
       "grid_row": null,
       "grid_template_areas": null,
       "grid_template_columns": null,
       "grid_template_rows": null,
       "height": null,
       "justify_content": null,
       "justify_items": null,
       "left": null,
       "margin": null,
       "max_height": null,
       "max_width": null,
       "min_height": null,
       "min_width": null,
       "object_fit": null,
       "object_position": null,
       "order": null,
       "overflow": null,
       "overflow_x": null,
       "overflow_y": null,
       "padding": null,
       "right": null,
       "top": null,
       "visibility": null,
       "width": null
      }
     },
     "fa0f91f254cb4e9ab548d1972bf8140c": {
      "model_module": "@jupyter-widgets/base",
      "model_module_version": "1.2.0",
      "model_name": "LayoutModel",
      "state": {
       "_model_module": "@jupyter-widgets/base",
       "_model_module_version": "1.2.0",
       "_model_name": "LayoutModel",
       "_view_count": null,
       "_view_module": "@jupyter-widgets/base",
       "_view_module_version": "1.2.0",
       "_view_name": "LayoutView",
       "align_content": null,
       "align_items": null,
       "align_self": null,
       "border": null,
       "bottom": null,
       "display": null,
       "flex": null,
       "flex_flow": null,
       "grid_area": null,
       "grid_auto_columns": null,
       "grid_auto_flow": null,
       "grid_auto_rows": null,
       "grid_column": null,
       "grid_gap": null,
       "grid_row": null,
       "grid_template_areas": null,
       "grid_template_columns": null,
       "grid_template_rows": null,
       "height": null,
       "justify_content": null,
       "justify_items": null,
       "left": null,
       "margin": null,
       "max_height": null,
       "max_width": null,
       "min_height": null,
       "min_width": null,
       "object_fit": null,
       "object_position": null,
       "order": null,
       "overflow": null,
       "overflow_x": null,
       "overflow_y": null,
       "padding": null,
       "right": null,
       "top": null,
       "visibility": null,
       "width": null
      }
     },
     "fbc5f200d0b34a88bfb12ca4ad37dee4": {
      "model_module": "@jupyter-widgets/controls",
      "model_module_version": "1.5.0",
      "model_name": "ProgressStyleModel",
      "state": {
       "_model_module": "@jupyter-widgets/controls",
       "_model_module_version": "1.5.0",
       "_model_name": "ProgressStyleModel",
       "_view_count": null,
       "_view_module": "@jupyter-widgets/base",
       "_view_module_version": "1.2.0",
       "_view_name": "StyleView",
       "bar_color": null,
       "description_width": "initial"
      }
     }
    },
    "version_major": 2,
    "version_minor": 0
   }
  }
 },
 "nbformat": 4,
 "nbformat_minor": 4
}
